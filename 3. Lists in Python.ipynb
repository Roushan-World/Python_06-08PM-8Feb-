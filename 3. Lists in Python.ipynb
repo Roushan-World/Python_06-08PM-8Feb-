{
 "cells": [
  {
   "cell_type": "markdown",
   "id": "9ca9f3e7-e855-49f8-b9c1-31ee15ca9382",
   "metadata": {},
   "source": [
    "# 3. Lists\n",
    " * __Lists are ordered.__\n",
    " * __Lists can contain any arbitrary objects.__\n",
    " * __Lists element can be accessed by index.__\n",
    " * __Lists can be nested to arbitrary depth.__\n",
    " * __Lists are mutable.__\n",
    " * __Lists are dynamic.__"
   ]
  },
  {
   "cell_type": "code",
   "execution_count": 1,
   "id": "fd3217fd-f4f5-4c33-93a9-27014c14a3eb",
   "metadata": {},
   "outputs": [],
   "source": [
    "x=[]"
   ]
  },
  {
   "cell_type": "code",
   "execution_count": 3,
   "id": "c156033e-922b-47b6-a1ca-073952c1359c",
   "metadata": {},
   "outputs": [
    {
     "data": {
      "text/plain": [
       "[]"
      ]
     },
     "execution_count": 3,
     "metadata": {},
     "output_type": "execute_result"
    }
   ],
   "source": [
    "x   # empty list"
   ]
  },
  {
   "cell_type": "code",
   "execution_count": 6,
   "id": "665d9f5a-47cd-49a0-9b8c-682a2d675f7c",
   "metadata": {},
   "outputs": [],
   "source": [
    "x1=[\"Hello world\",12,45.0,True,False,['Python',458],{1,2,3,4,5,6,1,2,3},(True,False),{'a':True,'b':False}]"
   ]
  },
  {
   "cell_type": "code",
   "execution_count": 8,
   "id": "71cb69df-7d96-49c6-a8dd-94fa3200eba2",
   "metadata": {},
   "outputs": [
    {
     "name": "stdout",
     "output_type": "stream",
     "text": [
      "['Hello world', 12, 45.0, True, False, ['Python', 458], {1, 2, 3, 4, 5, 6}, (True, False), {'a': True, 'b': False}]\n"
     ]
    }
   ],
   "source": [
    "print(x1)"
   ]
  },
  {
   "cell_type": "code",
   "execution_count": 14,
   "id": "35203c20-bb57-4d8a-9c46-abc44af51e19",
   "metadata": {},
   "outputs": [
    {
     "name": "stdout",
     "output_type": "stream",
     "text": [
      "Hello world\n",
      "<class 'str'>\n",
      "12\n",
      "<class 'int'>\n"
     ]
    }
   ],
   "source": [
    "print(x1[0])\n",
    "print(type(x1[0]))\n",
    "print(x1[1])\n",
    "print(type(x1[1]))"
   ]
  },
  {
   "cell_type": "code",
   "execution_count": 15,
   "id": "00189043-c048-4eae-bf6c-9a589f09d453",
   "metadata": {},
   "outputs": [
    {
     "data": {
      "text/plain": [
       "list"
      ]
     },
     "execution_count": 15,
     "metadata": {},
     "output_type": "execute_result"
    }
   ],
   "source": [
    "type(x1)"
   ]
  },
  {
   "cell_type": "code",
   "execution_count": 20,
   "id": "6e776916-1206-4ae5-8735-d131f1fb807d",
   "metadata": {},
   "outputs": [
    {
     "name": "stdout",
     "output_type": "stream",
     "text": [
      "lalit mehra\n",
      "<class 'str'>\n",
      "1234\n",
      "<class 'int'>\n",
      "12.0\n",
      "<class 'float'>\n",
      "12\n",
      "<class 'int'>\n",
      "11\n",
      "<class 'int'>\n",
      "10\n",
      "<class 'int'>\n",
      "{'a': True, 'b': False}\n",
      "<class 'dict'>\n",
      "<class 'list'>\n"
     ]
    }
   ],
   "source": [
    "x1=[\"lalit mehra\",1234,12.0,12,11,10,{\"a\":True,\"b\":False}]\n",
    "x1\n",
    "\n",
    "print(x1[0])\n",
    "print(type(x1[0]))\n",
    "\n",
    "print(x1[1])\n",
    "print(type(x1[1]))\n",
    "\n",
    "print(x1[2])\n",
    "print(type(x1[2]))\n",
    "\n",
    "print(x1[3])\n",
    "print(type(x1[3]))\n",
    "\n",
    "\n",
    "print(x1[4])\n",
    "print(type(x1[4]))\n",
    "\n",
    "print(x1[5])\n",
    "print(type(x1[5]))\n",
    "\n",
    "print(x1[6])\n",
    "print(type(x1[6]))\n",
    "\n",
    "\n",
    "\n",
    "\n",
    "print(type(x1))"
   ]
  },
  {
   "cell_type": "code",
   "execution_count": 1,
   "id": "0e59b07b-983e-4b7d-8602-1aed75e91f5c",
   "metadata": {},
   "outputs": [
    {
     "data": {
      "text/plain": [
       "['Hello world',\n",
       " 12,\n",
       " 45.0,\n",
       " True,\n",
       " False,\n",
       " ['Python', 458],\n",
       " {1, 2, 3, 4, 5, 6},\n",
       " (True, False),\n",
       " {'a': True, 'b': False}]"
      ]
     },
     "execution_count": 1,
     "metadata": {},
     "output_type": "execute_result"
    }
   ],
   "source": [
    "x1=[\"Hello world\",12,45.0,True,False,['Python',458],{1,2,3,4,5,6,1,2,3},(True,False),{'a':True,'b':False}]\n",
    "x1"
   ]
  },
  {
   "cell_type": "code",
   "execution_count": 2,
   "id": "a677aa7c-7b25-4490-96e5-d8d90dfabc34",
   "metadata": {},
   "outputs": [
    {
     "data": {
      "text/plain": [
       "list"
      ]
     },
     "execution_count": 2,
     "metadata": {},
     "output_type": "execute_result"
    }
   ],
   "source": [
    "type(x1)"
   ]
  },
  {
   "cell_type": "code",
   "execution_count": 3,
   "id": "0b77056e-1424-451b-9f94-d405842fa72e",
   "metadata": {},
   "outputs": [
    {
     "data": {
      "text/plain": [
       "{'a': True, 'b': False}"
      ]
     },
     "execution_count": 3,
     "metadata": {},
     "output_type": "execute_result"
    }
   ],
   "source": [
    "x1[-1]"
   ]
  },
  {
   "cell_type": "code",
   "execution_count": 4,
   "id": "37e8257a-2ec9-4b21-9b64-f97c8bf3df8a",
   "metadata": {},
   "outputs": [
    {
     "data": {
      "text/plain": [
       "(True, False)"
      ]
     },
     "execution_count": 4,
     "metadata": {},
     "output_type": "execute_result"
    }
   ],
   "source": [
    "x1[-2]"
   ]
  },
  {
   "cell_type": "markdown",
   "id": "5be59fa4-cb98-493e-b31f-0e9691e232f3",
   "metadata": {},
   "source": [
    "# What can content a list?\n",
    "\n",
    " * __String__\n",
    " * __Float__\n",
    " * __Integer__\n",
    " * __Boolean__\n",
    " * __Nested list__\n",
    " * __Nested set__\n",
    " * __Nested dictioanry__\n",
    " * __Nested Tuple__\n",
    " * __Other Data structure.__"
   ]
  },
  {
   "cell_type": "markdown",
   "id": "7b923d6b-2e8a-4c19-96f0-65a9e13ecce2",
   "metadata": {},
   "source": [
    "# List operations"
   ]
  },
  {
   "cell_type": "code",
   "execution_count": 6,
   "id": "7ee58a51-3868-44c8-9f76-dd891364accd",
   "metadata": {},
   "outputs": [],
   "source": [
    "# take a list\n",
    "x2=[\"Hello world\",12,45.0,True,False,['Python',458],{1,2,3,4,5,6,1,2,3},(True,False),{'a':True,'b':False}]"
   ]
  },
  {
   "cell_type": "code",
   "execution_count": 8,
   "id": "2224e448-c21c-4e86-b937-64c39299b8be",
   "metadata": {},
   "outputs": [
    {
     "data": {
      "text/plain": [
       "9"
      ]
     },
     "execution_count": 8,
     "metadata": {},
     "output_type": "execute_result"
    }
   ],
   "source": [
    "# len <--------------- Count the total length of the elements\n",
    "\n",
    "len(x2)"
   ]
  },
  {
   "cell_type": "markdown",
   "id": "40f44091-d699-47ca-9971-df1e44d7b743",
   "metadata": {},
   "source": [
    "# Slicing of an element"
   ]
  },
  {
   "cell_type": "code",
   "execution_count": 10,
   "id": "8e3a904e-497a-4ef4-93ce-7a35e5c0b598",
   "metadata": {},
   "outputs": [
    {
     "name": "stdout",
     "output_type": "stream",
     "text": [
      "['Hello world', 12, 45.0, True, False, ['Python', 458], {1, 2, 3, 4, 5, 6}, (True, False), {'a': True, 'b': False}]\n"
     ]
    }
   ],
   "source": [
    "print(x2)"
   ]
  },
  {
   "cell_type": "code",
   "execution_count": 13,
   "id": "09ddfdf3-834d-45ad-8ef9-6ef8cbbbfcf7",
   "metadata": {},
   "outputs": [
    {
     "name": "stdout",
     "output_type": "stream",
     "text": [
      "['Hello world', 12, 45.0, True, False]\n"
     ]
    }
   ],
   "source": [
    "print(x2[0:5])"
   ]
  },
  {
   "cell_type": "code",
   "execution_count": 15,
   "id": "14026e8e-744d-4ce7-bab5-c55c8aa9c774",
   "metadata": {},
   "outputs": [
    {
     "name": "stdout",
     "output_type": "stream",
     "text": [
      "[True, False]\n"
     ]
    }
   ],
   "source": [
    "print(x2[3:5])"
   ]
  },
  {
   "cell_type": "code",
   "execution_count": 16,
   "id": "cac4eec4-363d-4701-a360-9d3ce4931cc8",
   "metadata": {},
   "outputs": [],
   "source": [
    "# CRUD # CREATE, READ, UPADE, DELETE\n",
    "# ADD\n",
    "# ADDING AN ELEMENT\n",
    "# 1. APPEND\n",
    "# 2. EXTEND\n",
    "# 3. INSERT"
   ]
  },
  {
   "cell_type": "code",
   "execution_count": 39,
   "id": "082d44fb-ad21-4a83-b2ca-faa4aeeb6d3d",
   "metadata": {},
   "outputs": [
    {
     "data": {
      "text/plain": [
       "['Hello world', True, False, 'Shrinivas']"
      ]
     },
     "execution_count": 39,
     "metadata": {},
     "output_type": "execute_result"
    }
   ],
   "source": [
    "# append() method\n",
    "# as different from the extend() method, with the append method, we add only one element to the list.\n",
    "\n",
    "nlis=[\"Hello world\",True,False]\n",
    "nlis.append(\"Shrinivas\")\n",
    "nlis"
   ]
  },
  {
   "cell_type": "code",
   "execution_count": 40,
   "id": "964513a4-6b38-4e9c-a705-0d5a6251006d",
   "metadata": {},
   "outputs": [
    {
     "data": {
      "text/plain": [
       "['Hello world', True, False, 'Shrinivas', 100]"
      ]
     },
     "execution_count": 40,
     "metadata": {},
     "output_type": "execute_result"
    }
   ],
   "source": [
    "nlis.append(100)\n",
    "nlis"
   ]
  },
  {
   "cell_type": "code",
   "execution_count": 25,
   "id": "88b3f4a8-6875-46c2-853b-4aaf8b4f82bd",
   "metadata": {},
   "outputs": [
    {
     "data": {
      "text/plain": [
       "['Hello world', True, False, 'Shrinivas', 100]"
      ]
     },
     "execution_count": 25,
     "metadata": {},
     "output_type": "execute_result"
    }
   ],
   "source": [
    "# Extend() function\n",
    "# We use exten() function to add a new element more than one to the list.\n",
    "nlis"
   ]
  },
  {
   "cell_type": "code",
   "execution_count": 29,
   "id": "77dc3660-4782-462d-87dc-5b6a92136eb2",
   "metadata": {},
   "outputs": [
    {
     "name": "stdout",
     "output_type": "stream",
     "text": [
      "['Hello world', True, False, 'Shrinivas', 100, 'Hello Python', 'Pune', 45, 100, 200, 'Hello Python', 'Pune', 45, 100, 200, 'Hello Python', 'Pune', 45, 100, 200, 'Hello Python', 'Pune', 45, 100, 200]\n"
     ]
    }
   ],
   "source": [
    "nlis.extend([\"Hello Python\",\"Pune\",45,100,200])\n",
    "print(nlis)"
   ]
  },
  {
   "cell_type": "code",
   "execution_count": 33,
   "id": "ac5e3b98-f822-4506-8d14-4a90fc4b8da5",
   "metadata": {},
   "outputs": [
    {
     "data": {
      "text/plain": [
       "['Hello world', True, False, 'Pune']"
      ]
     },
     "execution_count": 33,
     "metadata": {},
     "output_type": "execute_result"
    }
   ],
   "source": [
    "# insert() function\n",
    "\n",
    "x5=[\"Hello world\",True,False,\"Pune\"]\n",
    "x5"
   ]
  },
  {
   "cell_type": "code",
   "execution_count": 38,
   "id": "f6711a45-fa2a-4523-85ae-985984b60785",
   "metadata": {},
   "outputs": [
    {
     "data": {
      "text/plain": [
       "['Shrinivas',\n",
       " 'Shrinivas',\n",
       " 'Shrinivas',\n",
       " 'Shrinivas',\n",
       " 'Hello world',\n",
       " True,\n",
       " False,\n",
       " 'Pune']"
      ]
     },
     "execution_count": 38,
     "metadata": {},
     "output_type": "execute_result"
    }
   ],
   "source": [
    "x5.insert(0,\"Shrinivas\")\n",
    "x5"
   ]
  },
  {
   "cell_type": "markdown",
   "id": "69a62220-52f8-4984-a094-81900163055a",
   "metadata": {},
   "source": [
    "# Deleting an element"
   ]
  },
  {
   "cell_type": "code",
   "execution_count": 42,
   "id": "cccd604e-fe46-4dcc-bfbb-aa3f14d22072",
   "metadata": {},
   "outputs": [
    {
     "name": "stdout",
     "output_type": "stream",
     "text": [
      "['Shrinivas', 'Shrinivas', 'Shrinivas', 'Shrinivas', 'Hello world', True, False, 'Pune']\n"
     ]
    }
   ],
   "source": [
    "print(x5)"
   ]
  },
  {
   "cell_type": "code",
   "execution_count": 44,
   "id": "5b993960-e892-40f9-96cc-8e2fa747d685",
   "metadata": {},
   "outputs": [],
   "source": [
    "del(x5[0])"
   ]
  },
  {
   "cell_type": "code",
   "execution_count": 45,
   "id": "8cfb4e7a-f1d4-4a5b-959b-5c8178a510b1",
   "metadata": {},
   "outputs": [
    {
     "data": {
      "text/plain": [
       "['Shrinivas', 'Shrinivas', 'Shrinivas', 'Hello world', True, False, 'Pune']"
      ]
     },
     "execution_count": 45,
     "metadata": {},
     "output_type": "execute_result"
    }
   ],
   "source": [
    "x5"
   ]
  },
  {
   "cell_type": "code",
   "execution_count": 46,
   "id": "e6f8b57b-d297-49b7-b885-7b1463e61539",
   "metadata": {},
   "outputs": [],
   "source": [
    "del(x5[0])"
   ]
  },
  {
   "cell_type": "code",
   "execution_count": 47,
   "id": "6f3f8ee4-88a9-47f7-81c8-831d24b6b683",
   "metadata": {},
   "outputs": [
    {
     "data": {
      "text/plain": [
       "['Shrinivas', 'Shrinivas', 'Hello world', True, False, 'Pune']"
      ]
     },
     "execution_count": 47,
     "metadata": {},
     "output_type": "execute_result"
    }
   ],
   "source": [
    "x5"
   ]
  },
  {
   "cell_type": "code",
   "execution_count": 48,
   "id": "8c39efb3-3b7e-4bea-b78a-ff682fd596a8",
   "metadata": {},
   "outputs": [],
   "source": [
    "del(x5[0])"
   ]
  },
  {
   "cell_type": "code",
   "execution_count": 49,
   "id": "ba36a0d2-477d-4276-a30a-15165e248d08",
   "metadata": {},
   "outputs": [
    {
     "data": {
      "text/plain": [
       "['Shrinivas', 'Hello world', True, False, 'Pune']"
      ]
     },
     "execution_count": 49,
     "metadata": {},
     "output_type": "execute_result"
    }
   ],
   "source": [
    "x5"
   ]
  },
  {
   "cell_type": "code",
   "execution_count": 50,
   "id": "81d33844-4b27-40af-8d1b-35ba3c40be01",
   "metadata": {},
   "outputs": [
    {
     "data": {
      "text/plain": [
       "['Shrinivas', 'Hello world', True, False, 'Pune']"
      ]
     },
     "execution_count": 50,
     "metadata": {},
     "output_type": "execute_result"
    }
   ],
   "source": [
    "x5"
   ]
  },
  {
   "cell_type": "code",
   "execution_count": 51,
   "id": "442cdc30-3abc-4303-94a8-c89ac7193553",
   "metadata": {},
   "outputs": [],
   "source": [
    "del(x5[4])"
   ]
  },
  {
   "cell_type": "code",
   "execution_count": 52,
   "id": "e59eeda7-6329-42d0-abb1-aa233e1ab632",
   "metadata": {},
   "outputs": [
    {
     "data": {
      "text/plain": [
       "['Shrinivas', 'Hello world', True, False]"
      ]
     },
     "execution_count": 52,
     "metadata": {},
     "output_type": "execute_result"
    }
   ],
   "source": [
    "x5"
   ]
  },
  {
   "cell_type": "markdown",
   "id": "8cf34506-7019-4b53-b144-0689e5354d80",
   "metadata": {},
   "source": [
    "# Aggrigate funciton"
   ]
  },
  {
   "cell_type": "code",
   "execution_count": 62,
   "id": "820de09d-b475-4079-b0c7-c1f0374bc168",
   "metadata": {},
   "outputs": [
    {
     "data": {
      "text/plain": [
       "260"
      ]
     },
     "execution_count": 62,
     "metadata": {},
     "output_type": "execute_result"
    }
   ],
   "source": [
    "x8=[10,20,30,40,50,60,40,10]\n",
    "sum(x8)"
   ]
  },
  {
   "cell_type": "code",
   "execution_count": 63,
   "id": "37725974-b27d-4ab3-9bd8-b21bbbabed61",
   "metadata": {},
   "outputs": [
    {
     "data": {
      "text/plain": [
       "10"
      ]
     },
     "execution_count": 63,
     "metadata": {},
     "output_type": "execute_result"
    }
   ],
   "source": [
    "min(x8)"
   ]
  },
  {
   "cell_type": "code",
   "execution_count": 64,
   "id": "84ebbcd7-c914-4845-9e18-057c9069013f",
   "metadata": {},
   "outputs": [
    {
     "data": {
      "text/plain": [
       "60"
      ]
     },
     "execution_count": 64,
     "metadata": {},
     "output_type": "execute_result"
    }
   ],
   "source": [
    "max(x8)"
   ]
  },
  {
   "cell_type": "code",
   "execution_count": 66,
   "id": "04149e1d-a6d8-4834-bcc9-e2ff03e2f853",
   "metadata": {},
   "outputs": [
    {
     "data": {
      "text/plain": [
       "1"
      ]
     },
     "execution_count": 66,
     "metadata": {},
     "output_type": "execute_result"
    }
   ],
   "source": [
    "x8.count(20)"
   ]
  },
  {
   "cell_type": "code",
   "execution_count": 1,
   "id": "0f259507-6a66-4feb-ad43-45de1790a25b",
   "metadata": {},
   "outputs": [],
   "source": [
    "# How to create a list?"
   ]
  },
  {
   "cell_type": "code",
   "execution_count": 2,
   "id": "86a1049f-46fa-4b61-926f-14517fee19b7",
   "metadata": {},
   "outputs": [
    {
     "data": {
      "text/plain": [
       "[]"
      ]
     },
     "execution_count": 2,
     "metadata": {},
     "output_type": "execute_result"
    }
   ],
   "source": [
    "x=[]\n",
    "x"
   ]
  },
  {
   "cell_type": "code",
   "execution_count": 3,
   "id": "92565032-4c4e-4f60-9767-1d4777243d4a",
   "metadata": {},
   "outputs": [
    {
     "data": {
      "text/plain": [
       "list"
      ]
     },
     "execution_count": 3,
     "metadata": {},
     "output_type": "execute_result"
    }
   ],
   "source": [
    "type(x)"
   ]
  },
  {
   "cell_type": "code",
   "execution_count": 4,
   "id": "e7c153a5-4286-4e9d-a9df-654263164992",
   "metadata": {},
   "outputs": [
    {
     "name": "stdout",
     "output_type": "stream",
     "text": [
      "['Hello world', 'hi,python', True, False, 3.14, 10, 20, ['Hello', 3.14], {1, 2, 3, 4, 5, 6}, {'a': 100, 'name': 'Happy'}, (10, 20, 30, 40)]\n"
     ]
    }
   ],
   "source": [
    "# Creating a list\n",
    "\n",
    "x=[\"Hello world\",\"hi,python\",True,False,3.14,10,20,['Hello',3.14],{1,2,3,4,5,6,5,5,5},{'a':100,'name':'Happy'},(10,20,30,40)]\n",
    "print(x)"
   ]
  },
  {
   "cell_type": "code",
   "execution_count": 10,
   "id": "22c75c60-8bd3-405b-bdda-2f62f65eec11",
   "metadata": {},
   "outputs": [
    {
     "name": "stdout",
     "output_type": "stream",
     "text": [
      "Hello world\n",
      "<class 'str'>\n",
      "True\n",
      "<class 'bool'>\n",
      "['Hello', 3.14]\n",
      "<class 'list'>\n"
     ]
    }
   ],
   "source": [
    "# how to check data type of list\n",
    "print(x[0])\n",
    "print(type(x[0]))\n",
    "print(x[2])\n",
    "print(type(x[2]))\n",
    "print(x[7])\n",
    "print(type(x[7]))"
   ]
  },
  {
   "cell_type": "code",
   "execution_count": 11,
   "id": "4b2a291a-ec8f-470a-af8a-96cae56a4b68",
   "metadata": {},
   "outputs": [
    {
     "data": {
      "text/plain": [
       "11"
      ]
     },
     "execution_count": 11,
     "metadata": {},
     "output_type": "execute_result"
    }
   ],
   "source": [
    "len(x)"
   ]
  },
  {
   "cell_type": "code",
   "execution_count": 13,
   "id": "822a3efd-2108-4e06-93b2-ed94386b0e25",
   "metadata": {},
   "outputs": [
    {
     "name": "stdout",
     "output_type": "stream",
     "text": [
      "Hello world\n"
     ]
    }
   ],
   "source": [
    "print(x[-11])"
   ]
  },
  {
   "cell_type": "code",
   "execution_count": 15,
   "id": "ea519a9a-8379-4f8c-8752-cbdf4b071bda",
   "metadata": {},
   "outputs": [
    {
     "name": "stdout",
     "output_type": "stream",
     "text": [
      "['Hello world', 'hi,python', True, False, 3.14, 10, 20, ['Hello', 3.14], {1, 2, 3, 4, 5, 6}, {'a': 100, 'name': 'Happy'}, (10, 20, 30, 40)]\n"
     ]
    }
   ],
   "source": [
    "print(x)"
   ]
  },
  {
   "cell_type": "code",
   "execution_count": 18,
   "id": "2f802c02-d728-49a7-8d65-7ccbf924af88",
   "metadata": {},
   "outputs": [
    {
     "name": "stdout",
     "output_type": "stream",
     "text": [
      "['Hello world', 'hi,python', True, False]\n"
     ]
    }
   ],
   "source": [
    "# Slicing of an element\n",
    "print(x[:4])"
   ]
  },
  {
   "cell_type": "code",
   "execution_count": 20,
   "id": "5c48fd53-716a-4702-a2e8-098e5cc1b807",
   "metadata": {},
   "outputs": [
    {
     "name": "stdout",
     "output_type": "stream",
     "text": [
      "[['Hello', 3.14]]\n"
     ]
    }
   ],
   "source": [
    "print(x[7:8])"
   ]
  },
  {
   "cell_type": "markdown",
   "id": "393474f7-7666-484d-ace5-78792d94b07b",
   "metadata": {},
   "source": [
    "# What can list content\n",
    "\n",
    " * __String__\n",
    " * __Integer__\n",
    " * __Float__\n",
    " * __Boolean__\n",
    " * __List__\n",
    " * __Dictionary__\n",
    " * __set__\n",
    " * __Tuple__\n",
    " * __Other data structure__"
   ]
  },
  {
   "cell_type": "code",
   "execution_count": 21,
   "id": "82413f3b-267f-4518-9889-396745ff4a04",
   "metadata": {},
   "outputs": [
    {
     "name": "stdout",
     "output_type": "stream",
     "text": [
      "['Hello world', 'hi,python', True, False, 3.14, 10, 20, ['Hello', 3.14], {1, 2, 3, 4, 5, 6}, {'a': 100, 'name': 'Happy'}, (10, 20, 30, 40)]\n"
     ]
    }
   ],
   "source": [
    "print(x)"
   ]
  },
  {
   "cell_type": "code",
   "execution_count": 22,
   "id": "2213afde-d0f2-4a27-8743-428ffaed17e0",
   "metadata": {},
   "outputs": [
    {
     "data": {
      "text/plain": [
       "['Hello world', 10, 20, 30]"
      ]
     },
     "execution_count": 22,
     "metadata": {},
     "output_type": "execute_result"
    }
   ],
   "source": [
    "# List is a mutable: add, update, delete an elements.\n",
    "x1=[\"Hello world\",10,20,30]\n",
    "x1"
   ]
  },
  {
   "cell_type": "code",
   "execution_count": 23,
   "id": "992ba9d6-b698-4119-ae63-a65c2bb514db",
   "metadata": {},
   "outputs": [
    {
     "data": {
      "text/plain": [
       "['Hello world', 10, 20, 30, 'Good Morning!']"
      ]
     },
     "execution_count": 23,
     "metadata": {},
     "output_type": "execute_result"
    }
   ],
   "source": [
    "# append()\n",
    "\n",
    "x1.append('Good Morning!')\n",
    "x1"
   ]
  },
  {
   "cell_type": "code",
   "execution_count": 25,
   "id": "d0d2a29a-b4eb-4799-9d14-700c76eb2399",
   "metadata": {},
   "outputs": [],
   "source": [
    "x1.append(\"Good Evening\")"
   ]
  },
  {
   "cell_type": "code",
   "execution_count": 26,
   "id": "5b4b092e-36f1-4c1c-8764-c1f58dd5ac8b",
   "metadata": {},
   "outputs": [
    {
     "data": {
      "text/plain": [
       "['Hello world', 10, 20, 30, 'Good Morning!', 'Good Evening']"
      ]
     },
     "execution_count": 26,
     "metadata": {},
     "output_type": "execute_result"
    }
   ],
   "source": [
    "x1"
   ]
  },
  {
   "cell_type": "code",
   "execution_count": 30,
   "id": "bd5a7258-f684-4a2f-a951-df71d912422b",
   "metadata": {},
   "outputs": [
    {
     "name": "stdout",
     "output_type": "stream",
     "text": [
      "['Hello world', 10, 20, 30, 'Good Morning!', 'Good Evening', 'Prerna', True, False, 'pune', 'Prerna', True, False, 'pune', 'Prerna', True, False, 'pune', 'Prerna', True, False, 'pune']\n"
     ]
    }
   ],
   "source": [
    "# Extend() \n",
    "x1.extend([\"Prerna\",True,False,\"pune\"])\n",
    "print(x1)"
   ]
  },
  {
   "cell_type": "code",
   "execution_count": 32,
   "id": "f600de0c-462c-4fd7-86a2-248e5b631369",
   "metadata": {},
   "outputs": [],
   "source": [
    "# insert() function\n",
    "\n",
    "x1.insert(0,\"Good Evening\")"
   ]
  },
  {
   "cell_type": "code",
   "execution_count": 33,
   "id": "a92c6c16-2886-4874-934d-afeec81384d3",
   "metadata": {},
   "outputs": [
    {
     "data": {
      "text/plain": [
       "['Good Evening',\n",
       " 'Hello world',\n",
       " 10,\n",
       " 20,\n",
       " 30,\n",
       " 'Good Morning!',\n",
       " 'Good Evening',\n",
       " 'Prerna',\n",
       " True,\n",
       " False,\n",
       " 'pune',\n",
       " 'Prerna',\n",
       " True,\n",
       " False,\n",
       " 'pune',\n",
       " 'Prerna',\n",
       " True,\n",
       " False,\n",
       " 'pune',\n",
       " 'Prerna',\n",
       " True,\n",
       " False,\n",
       " 'pune']"
      ]
     },
     "execution_count": 33,
     "metadata": {},
     "output_type": "execute_result"
    }
   ],
   "source": [
    "x1"
   ]
  },
  {
   "cell_type": "code",
   "execution_count": 56,
   "id": "201af714-c503-42d2-bc89-a215009898b5",
   "metadata": {},
   "outputs": [
    {
     "data": {
      "text/plain": [
       "'Good Evening'"
      ]
     },
     "execution_count": 56,
     "metadata": {},
     "output_type": "execute_result"
    }
   ],
   "source": [
    "# Delete an elements\n",
    "\n",
    "x1.pop()"
   ]
  },
  {
   "cell_type": "code",
   "execution_count": 57,
   "id": "51bb4587-5813-4068-bba2-48e2a55a0f41",
   "metadata": {},
   "outputs": [
    {
     "data": {
      "text/plain": [
       "['Good Evening', 'Hello world', 10, 20, 30, 'Good Morning!']"
      ]
     },
     "execution_count": 57,
     "metadata": {},
     "output_type": "execute_result"
    }
   ],
   "source": [
    "x1"
   ]
  },
  {
   "cell_type": "code",
   "execution_count": 58,
   "id": "1870d60d-0eab-43dc-b949-631c67a159e0",
   "metadata": {},
   "outputs": [
    {
     "data": {
      "text/plain": [
       "['Good Evening', 'Hello world', 10, 20, 30, 'Good Morning!']"
      ]
     },
     "execution_count": 58,
     "metadata": {},
     "output_type": "execute_result"
    }
   ],
   "source": [
    "x1"
   ]
  },
  {
   "cell_type": "code",
   "execution_count": 59,
   "id": "26ee188d-38e8-41f3-bd47-deea1370b96a",
   "metadata": {},
   "outputs": [
    {
     "data": {
      "text/plain": [
       "'Good Morning!'"
      ]
     },
     "execution_count": 59,
     "metadata": {},
     "output_type": "execute_result"
    }
   ],
   "source": [
    "x1.pop()"
   ]
  },
  {
   "cell_type": "code",
   "execution_count": 60,
   "id": "ae271f93-f801-4fa1-9653-893fe0499cfb",
   "metadata": {},
   "outputs": [
    {
     "data": {
      "text/plain": [
       "['Good Evening', 'Hello world', 10, 20, 30]"
      ]
     },
     "execution_count": 60,
     "metadata": {},
     "output_type": "execute_result"
    }
   ],
   "source": [
    "x1"
   ]
  },
  {
   "cell_type": "code",
   "execution_count": 61,
   "id": "3fe6857d-7ec0-4559-bc68-5e890ebcf9f4",
   "metadata": {},
   "outputs": [],
   "source": [
    "del(x1[3])"
   ]
  },
  {
   "cell_type": "code",
   "execution_count": 62,
   "id": "2fd84f40-677a-432c-b438-d491f13c0f21",
   "metadata": {},
   "outputs": [
    {
     "data": {
      "text/plain": [
       "['Good Evening', 'Hello world', 10, 30]"
      ]
     },
     "execution_count": 62,
     "metadata": {},
     "output_type": "execute_result"
    }
   ],
   "source": [
    "x1"
   ]
  },
  {
   "cell_type": "code",
   "execution_count": 63,
   "id": "b285ca6f-b981-48e1-b4df-39c5f52b3d47",
   "metadata": {},
   "outputs": [
    {
     "data": {
      "text/plain": [
       "['Good Evening', 'Hello world', 10, 30]"
      ]
     },
     "execution_count": 63,
     "metadata": {},
     "output_type": "execute_result"
    }
   ],
   "source": [
    "# update the value in the list\n",
    "\n",
    "x1"
   ]
  },
  {
   "cell_type": "code",
   "execution_count": 65,
   "id": "8944fc3a-b65e-4d68-b63e-ec8584543c7c",
   "metadata": {},
   "outputs": [],
   "source": [
    "x1[1]=\"uday\""
   ]
  },
  {
   "cell_type": "code",
   "execution_count": 66,
   "id": "3df4b21a-d184-41d9-a305-ff498434f804",
   "metadata": {},
   "outputs": [
    {
     "data": {
      "text/plain": [
       "['Good Evening', 'uday', 10, 30]"
      ]
     },
     "execution_count": 66,
     "metadata": {},
     "output_type": "execute_result"
    }
   ],
   "source": [
    "x1"
   ]
  },
  {
   "cell_type": "code",
   "execution_count": 67,
   "id": "d3163d6b-1fb5-4f94-ae33-08cc8e00d5d6",
   "metadata": {},
   "outputs": [],
   "source": [
    "list1=[10,20,30,40,50,60]"
   ]
  },
  {
   "cell_type": "code",
   "execution_count": 68,
   "id": "f710c977-f7d0-4321-9468-b17094a4bb7b",
   "metadata": {},
   "outputs": [
    {
     "data": {
      "text/plain": [
       "[10, 20, 30, 40, 50, 60]"
      ]
     },
     "execution_count": 68,
     "metadata": {},
     "output_type": "execute_result"
    }
   ],
   "source": [
    "list1"
   ]
  },
  {
   "cell_type": "code",
   "execution_count": 76,
   "id": "444af863-ca77-46ff-a7ea-46b2c49bb262",
   "metadata": {},
   "outputs": [
    {
     "name": "stdout",
     "output_type": "stream",
     "text": [
      "100\n",
      "10\n",
      "440\n",
      "3\n",
      "10\n"
     ]
    }
   ],
   "source": [
    "# Aggrigate function in list\n",
    "\n",
    "# min(),max(),len(),sum(),count()\n",
    "x=[10,20,30,40,50,100,40,40,50,60]\n",
    "print(max(x))\n",
    "print(min(x))\n",
    "print(sum(x))\n",
    "print(x.count(40))\n",
    "print(len(x))"
   ]
  },
  {
   "cell_type": "code",
   "execution_count": 78,
   "id": "fece30c4-d315-4aaf-a83c-131b87582543",
   "metadata": {},
   "outputs": [
    {
     "data": {
      "text/plain": [
       "44.0"
      ]
     },
     "execution_count": 78,
     "metadata": {},
     "output_type": "execute_result"
    }
   ],
   "source": [
    "# average()\n",
    "sum(x)/len(x)"
   ]
  },
  {
   "cell_type": "code",
   "execution_count": 99,
   "id": "b5c83240-cca0-4da8-aa3c-c2eaca14c7cc",
   "metadata": {},
   "outputs": [
    {
     "name": "stdin",
     "output_type": "stream",
     "text": [
      "Enter first number: 45\n",
      "Enter second number: 63\n"
     ]
    },
    {
     "name": "stdout",
     "output_type": "stream",
     "text": [
      "The sum of two numbers is: 108\n",
      "The sum of two numbers 45 and 63 is 108.\n"
     ]
    }
   ],
   "source": [
    "# input() function\n",
    "\n",
    "x=int(input(\"Enter first number:\"))\n",
    "y=int(input(\"Enter second number:\"))\n",
    "\n",
    "z=x+y\n",
    "print(\"The sum of two numbers is:\",z)\n",
    "print(f\"The sum of two numbers {x} and {y} is {z}.\")  # F-string function"
   ]
  },
  {
   "cell_type": "code",
   "execution_count": 102,
   "id": "17697033-f509-42c4-9b2a-2c970446315d",
   "metadata": {},
   "outputs": [
    {
     "name": "stdin",
     "output_type": "stream",
     "text": [
      "Enter any number: 47\n"
     ]
    },
    {
     "name": "stdout",
     "output_type": "stream",
     "text": [
      "47.0\n",
      "<class 'float'>\n"
     ]
    }
   ],
   "source": [
    "# user input\n",
    "\n",
    "x=float(input('Enter any number:'))\n",
    "print(x)\n",
    "print(type(x))"
   ]
  },
  {
   "cell_type": "code",
   "execution_count": 104,
   "id": "555e7587-79a9-4233-9570-4a8a0c472425",
   "metadata": {},
   "outputs": [
    {
     "name": "stdin",
     "output_type": "stream",
     "text": [
      "Enter first number:\n",
      " 45\n",
      "Enter second number:\n",
      " 6\n"
     ]
    },
    {
     "name": "stdout",
     "output_type": "stream",
     "text": [
      "The exponent of 45 to the power of 6 is 8303765625\n"
     ]
    }
   ],
   "source": [
    "x1=int(input('Enter first number:\\n'))\n",
    "x2=int(input('Enter second number:\\n'))\n",
    "\n",
    "# Exponent\n",
    "z1=x1**x2\n",
    "print(f\"The exponent of {x1} to the power of {x2} is {z1}\")"
   ]
  },
  {
   "cell_type": "code",
   "execution_count": 105,
   "id": "047a4c13-2411-4f0e-bac9-d9229dd75cdf",
   "metadata": {},
   "outputs": [
    {
     "data": {
      "text/plain": [
       "'8+7'"
      ]
     },
     "execution_count": 105,
     "metadata": {},
     "output_type": "execute_result"
    }
   ],
   "source": [
    "# eval function   # <--------evaluate function\n",
    "'8+7'"
   ]
  },
  {
   "cell_type": "code",
   "execution_count": 106,
   "id": "154e2635-bcdf-4aa6-8b96-a796d0b51a12",
   "metadata": {},
   "outputs": [
    {
     "data": {
      "text/plain": [
       "'78+5'"
      ]
     },
     "execution_count": 106,
     "metadata": {},
     "output_type": "execute_result"
    }
   ],
   "source": [
    "\"78+5\""
   ]
  },
  {
   "cell_type": "code",
   "execution_count": 108,
   "id": "d79dfd9f-695b-41e3-b79f-926bf3c32a7d",
   "metadata": {},
   "outputs": [
    {
     "name": "stdin",
     "output_type": "stream",
     "text": [
      "Enter any number with operators: 45+45\n"
     ]
    },
    {
     "name": "stdout",
     "output_type": "stream",
     "text": [
      "90\n"
     ]
    }
   ],
   "source": [
    "x=input('Enter any number with operators:')\n",
    "\n",
    "y=eval(x)\n",
    "print(y)"
   ]
  },
  {
   "cell_type": "code",
   "execution_count": 115,
   "id": "6e74b7ff-5a3a-4c01-ad66-617006955edd",
   "metadata": {},
   "outputs": [
    {
     "name": "stdout",
     "output_type": "stream",
     "text": [
      "45+45\n",
      "<class 'str'>\n",
      "90\n",
      "<class 'int'>\n"
     ]
    }
   ],
   "source": [
    "x='45+45'\n",
    "print(x)\n",
    "print(type(x))\n",
    "\n",
    "y=eval(x)\n",
    "print(y)\n",
    "print(type(y))"
   ]
  },
  {
   "cell_type": "code",
   "execution_count": 122,
   "id": "6c42a15d-1ac2-4509-a641-c06c4a89b6c9",
   "metadata": {},
   "outputs": [
    {
     "name": "stdout",
     "output_type": "stream",
     "text": [
      "True\n",
      "False\n",
      "False\n",
      "True\n"
     ]
    }
   ],
   "source": [
    "a=3.14\n",
    "b=10\n",
    "c=20\n",
    "d=3.14\n",
    "print(a<b and a==d)\n",
    "print(a<c and c<d)\n",
    "print(a!=d)\n",
    "print(a!=c)"
   ]
  },
  {
   "cell_type": "code",
   "execution_count": 126,
   "id": "e2964610-ac08-4395-a6d7-774937ba6ddf",
   "metadata": {},
   "outputs": [
    {
     "name": "stdout",
     "output_type": "stream",
     "text": [
      "True\n",
      "True\n",
      "True\n",
      "False\n"
     ]
    }
   ],
   "source": [
    "# or gate\n",
    "a=3.14\n",
    "b=10\n",
    "c=20\n",
    "d=3.14\n",
    "print(a<b or a==d)\n",
    "print(a<c or c<d)\n",
    "print(a>d or a<c)\n",
    "print(a!=d or b>c)"
   ]
  },
  {
   "cell_type": "code",
   "execution_count": null,
   "id": "6db3d1b2-9665-44dc-8937-bcd5da2a40a0",
   "metadata": {},
   "outputs": [],
   "source": []
  }
 ],
 "metadata": {
  "kernelspec": {
   "display_name": "Python 3 (ipykernel)",
   "language": "python",
   "name": "python3"
  },
  "language_info": {
   "codemirror_mode": {
    "name": "ipython",
    "version": 3
   },
   "file_extension": ".py",
   "mimetype": "text/x-python",
   "name": "python",
   "nbconvert_exporter": "python",
   "pygments_lexer": "ipython3",
   "version": "3.11.4"
  }
 },
 "nbformat": 4,
 "nbformat_minor": 5
}
