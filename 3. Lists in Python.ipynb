{
 "cells": [
  {
   "cell_type": "markdown",
   "id": "9ca9f3e7-e855-49f8-b9c1-31ee15ca9382",
   "metadata": {},
   "source": [
    "# 3. Lists\n",
    " * __Lists are ordered.__\n",
    " * __Lists can contain any arbitrary objects.__\n",
    " * __Lists element can be accessed by index.__\n",
    " * __Lists can be nested to arbitrary depth.__\n",
    " * __Lists are mutable.__\n",
    " * __Lists are dynamic.__"
   ]
  },
  {
   "cell_type": "code",
   "execution_count": 1,
   "id": "fd3217fd-f4f5-4c33-93a9-27014c14a3eb",
   "metadata": {},
   "outputs": [],
   "source": [
    "x=[]"
   ]
  },
  {
   "cell_type": "code",
   "execution_count": 3,
   "id": "c156033e-922b-47b6-a1ca-073952c1359c",
   "metadata": {},
   "outputs": [
    {
     "data": {
      "text/plain": [
       "[]"
      ]
     },
     "execution_count": 3,
     "metadata": {},
     "output_type": "execute_result"
    }
   ],
   "source": [
    "x   # empty list"
   ]
  },
  {
   "cell_type": "code",
   "execution_count": 6,
   "id": "665d9f5a-47cd-49a0-9b8c-682a2d675f7c",
   "metadata": {},
   "outputs": [],
   "source": [
    "x1=[\"Hello world\",12,45.0,True,False,['Python',458],{1,2,3,4,5,6,1,2,3},(True,False),{'a':True,'b':False}]"
   ]
  },
  {
   "cell_type": "code",
   "execution_count": 8,
   "id": "71cb69df-7d96-49c6-a8dd-94fa3200eba2",
   "metadata": {},
   "outputs": [
    {
     "name": "stdout",
     "output_type": "stream",
     "text": [
      "['Hello world', 12, 45.0, True, False, ['Python', 458], {1, 2, 3, 4, 5, 6}, (True, False), {'a': True, 'b': False}]\n"
     ]
    }
   ],
   "source": [
    "print(x1)"
   ]
  },
  {
   "cell_type": "code",
   "execution_count": 14,
   "id": "35203c20-bb57-4d8a-9c46-abc44af51e19",
   "metadata": {},
   "outputs": [
    {
     "name": "stdout",
     "output_type": "stream",
     "text": [
      "Hello world\n",
      "<class 'str'>\n",
      "12\n",
      "<class 'int'>\n"
     ]
    }
   ],
   "source": [
    "print(x1[0])\n",
    "print(type(x1[0]))\n",
    "print(x1[1])\n",
    "print(type(x1[1]))"
   ]
  },
  {
   "cell_type": "code",
   "execution_count": 15,
   "id": "00189043-c048-4eae-bf6c-9a589f09d453",
   "metadata": {},
   "outputs": [
    {
     "data": {
      "text/plain": [
       "list"
      ]
     },
     "execution_count": 15,
     "metadata": {},
     "output_type": "execute_result"
    }
   ],
   "source": [
    "type(x1)"
   ]
  },
  {
   "cell_type": "code",
   "execution_count": 20,
   "id": "6e776916-1206-4ae5-8735-d131f1fb807d",
   "metadata": {},
   "outputs": [
    {
     "name": "stdout",
     "output_type": "stream",
     "text": [
      "lalit mehra\n",
      "<class 'str'>\n",
      "1234\n",
      "<class 'int'>\n",
      "12.0\n",
      "<class 'float'>\n",
      "12\n",
      "<class 'int'>\n",
      "11\n",
      "<class 'int'>\n",
      "10\n",
      "<class 'int'>\n",
      "{'a': True, 'b': False}\n",
      "<class 'dict'>\n",
      "<class 'list'>\n"
     ]
    }
   ],
   "source": [
    "x1=[\"lalit mehra\",1234,12.0,12,11,10,{\"a\":True,\"b\":False}]\n",
    "x1\n",
    "\n",
    "print(x1[0])\n",
    "print(type(x1[0]))\n",
    "\n",
    "print(x1[1])\n",
    "print(type(x1[1]))\n",
    "\n",
    "print(x1[2])\n",
    "print(type(x1[2]))\n",
    "\n",
    "print(x1[3])\n",
    "print(type(x1[3]))\n",
    "\n",
    "\n",
    "print(x1[4])\n",
    "print(type(x1[4]))\n",
    "\n",
    "print(x1[5])\n",
    "print(type(x1[5]))\n",
    "\n",
    "print(x1[6])\n",
    "print(type(x1[6]))\n",
    "\n",
    "\n",
    "\n",
    "\n",
    "print(type(x1))"
   ]
  },
  {
   "cell_type": "code",
   "execution_count": null,
   "id": "0e59b07b-983e-4b7d-8602-1aed75e91f5c",
   "metadata": {},
   "outputs": [],
   "source": []
  }
 ],
 "metadata": {
  "kernelspec": {
   "display_name": "Python 3 (ipykernel)",
   "language": "python",
   "name": "python3"
  },
  "language_info": {
   "codemirror_mode": {
    "name": "ipython",
    "version": 3
   },
   "file_extension": ".py",
   "mimetype": "text/x-python",
   "name": "python",
   "nbconvert_exporter": "python",
   "pygments_lexer": "ipython3",
   "version": "3.11.4"
  }
 },
 "nbformat": 4,
 "nbformat_minor": 5
}
