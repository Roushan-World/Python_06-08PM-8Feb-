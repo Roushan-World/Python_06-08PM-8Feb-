{
 "cells": [
  {
   "cell_type": "markdown",
   "id": "c47b3ec3-54d1-4792-970b-c7399634ce26",
   "metadata": {},
   "source": [
    "# 8. Functions in python\n",
    "\n",
    " * __A for loop is used for iterating over a sequence(that is either a list, a tuple, a dicitonary and a set, or a string).__\n",
    " * __This is less like the for keyword in other programming languages, and works more like an iterator method as found in other programming languages.__\n",
    " * __With the for loop we can execute a set of statements, once for each item in a list, tuple, a set etc.__\n",
    " * __The for loop does not require an indexing variable to set beforehand.__\n",
    " * __With the while loop we execute a set of statements as long as a condition is true.__\n",
    " * __Note: Remember to increment i, or else the loop will continue forever.__\n",
    " * __The while loop requires relevant variable to be ready, in this example we need to define a indexing variable, i, which we set to 1.__\n",
    "\n",
    "# range() functions\n",
    "\n",
    " * __It is helpful to think of the range object as an ordered list.__\n",
    " * __To loop through a set of code a specified number of times, we can use the range() function.__\n",
    " * __The range() function return a sequence of numbers, starting from 0 by default, and increments by 1 (by default), and ends at a specifed number.__"
   ]
  },
  {
   "cell_type": "code",
   "execution_count": 1,
   "id": "ef48592c-6bd1-4dfa-876f-19c4a044203e",
   "metadata": {},
   "outputs": [
    {
     "data": {
      "text/plain": [
       "range(0, 10)"
      ]
     },
     "execution_count": 1,
     "metadata": {},
     "output_type": "execute_result"
    }
   ],
   "source": [
    "range(10)"
   ]
  },
  {
   "cell_type": "code",
   "execution_count": 2,
   "id": "be1ca6fc-46e5-4820-b610-897db2027e1e",
   "metadata": {},
   "outputs": [
    {
     "data": {
      "text/plain": [
       "range(0, 5)"
      ]
     },
     "execution_count": 2,
     "metadata": {},
     "output_type": "execute_result"
    }
   ],
   "source": [
    "range(5)"
   ]
  },
  {
   "cell_type": "code",
   "execution_count": 3,
   "id": "fc24174f-622d-4f32-94ba-19349c887611",
   "metadata": {},
   "outputs": [
    {
     "data": {
      "text/plain": [
       "range(10, 20)"
      ]
     },
     "execution_count": 3,
     "metadata": {},
     "output_type": "execute_result"
    }
   ],
   "source": [
    "range(10,20)"
   ]
  },
  {
   "cell_type": "code",
   "execution_count": 4,
   "id": "fe8d4f43-ae86-40b1-9278-ad1b4c87e972",
   "metadata": {},
   "outputs": [
    {
     "data": {
      "text/plain": [
       "range(0, 10)"
      ]
     },
     "execution_count": 4,
     "metadata": {},
     "output_type": "execute_result"
    }
   ],
   "source": [
    "range(10)"
   ]
  },
  {
   "cell_type": "code",
   "execution_count": 5,
   "id": "91c82ef5-3ad7-47eb-ac07-558914383791",
   "metadata": {},
   "outputs": [
    {
     "name": "stdout",
     "output_type": "stream",
     "text": [
      "0\n",
      "1\n",
      "2\n",
      "3\n",
      "4\n",
      "5\n",
      "6\n",
      "7\n",
      "8\n",
      "9\n"
     ]
    }
   ],
   "source": [
    "for x in range(10):\n",
    "    print(x)"
   ]
  },
  {
   "cell_type": "code",
   "execution_count": 6,
   "id": "2d89e091-3adc-493e-9247-8e4607e3e277",
   "metadata": {},
   "outputs": [
    {
     "name": "stdout",
     "output_type": "stream",
     "text": [
      "0\n",
      "1\n",
      "2\n",
      "3\n",
      "4\n",
      "5\n",
      "6\n",
      "7\n",
      "8\n",
      "9\n",
      "10\n",
      "11\n",
      "12\n",
      "13\n",
      "14\n",
      "15\n",
      "16\n",
      "17\n",
      "18\n",
      "19\n"
     ]
    }
   ],
   "source": [
    "for babli in range(20):\n",
    "    print(babli)"
   ]
  },
  {
   "cell_type": "code",
   "execution_count": 8,
   "id": "fe9b5ee7-7784-4a4d-8fb4-ff305230ca8f",
   "metadata": {},
   "outputs": [
    {
     "name": "stdout",
     "output_type": "stream",
     "text": [
      "31\n",
      "32\n",
      "33\n",
      "34\n",
      "35\n",
      "36\n",
      "37\n",
      "38\n",
      "39\n"
     ]
    }
   ],
   "source": [
    "for x1 in range(31,40):\n",
    "    print(x1)"
   ]
  },
  {
   "cell_type": "code",
   "execution_count": 13,
   "id": "31b834e6-637e-4305-971d-8467fa553848",
   "metadata": {},
   "outputs": [
    {
     "name": "stdout",
     "output_type": "stream",
     "text": [
      "<class 'list'>\n",
      "10\n",
      "20\n",
      "30\n",
      "40\n",
      "50\n",
      "60\n"
     ]
    }
   ],
   "source": [
    "x=[10,20,30,40,50,60]\n",
    "print(type(x))\n",
    "\n",
    "for i in x:\n",
    "    print(i)"
   ]
  },
  {
   "cell_type": "code",
   "execution_count": 14,
   "id": "e6af5bdb-c36a-400a-b2fc-a5011289256f",
   "metadata": {},
   "outputs": [
    {
     "name": "stdout",
     "output_type": "stream",
     "text": [
      "2\n",
      "4\n",
      "5\n",
      "6\n",
      "7\n",
      "8\n",
      "9\n",
      "10\n"
     ]
    }
   ],
   "source": [
    "tuple_1=(2,4,5,6,7,8,9,10)\n",
    "\n",
    "for i in tuple_1:\n",
    "    print(i)"
   ]
  },
  {
   "cell_type": "code",
   "execution_count": 15,
   "id": "6fa0abf5-055d-4bbb-8534-c1b79d8e5a05",
   "metadata": {},
   "outputs": [
    {
     "name": "stdout",
     "output_type": "stream",
     "text": [
      "1\n",
      "2\n",
      "3\n"
     ]
    }
   ],
   "source": [
    "set_1={1,1,1,1,2,2,2,2,2,3,3,3,3,3}\n",
    "for i in set_1:\n",
    "    print(i)"
   ]
  },
  {
   "cell_type": "code",
   "execution_count": 21,
   "id": "146314b1-dfa9-4889-9581-dfc6c96b97c0",
   "metadata": {},
   "outputs": [
    {
     "name": "stdout",
     "output_type": "stream",
     "text": [
      "0 10\n",
      "1 12\n",
      "2 14\n",
      "3 16\n",
      "4 18\n",
      "5 20\n"
     ]
    }
   ],
   "source": [
    "list_1=[10,12,14,16,18,20]\n",
    "\n",
    "for i in range(len(list_1)):\n",
    "    print(i,list_1[i])"
   ]
  },
  {
   "cell_type": "code",
   "execution_count": 28,
   "id": "98532e4a-6d0a-47bd-ae5d-673b6c740f7d",
   "metadata": {},
   "outputs": [
    {
     "name": "stdout",
     "output_type": "stream",
     "text": [
      "Index-1:60\n",
      "Index-2:50\n",
      "Index-3:40\n",
      "Index-4:30\n",
      "Index-5:20\n",
      "Index-6:10\n"
     ]
    }
   ],
   "source": [
    "my_list=[10,20,30,40,50,60]\n",
    "for i, value in enumerate(my_list[::-1]):\n",
    "    x=-(i+1)\n",
    "    print(f'Index{x}:{value}')"
   ]
  },
  {
   "cell_type": "code",
   "execution_count": 31,
   "id": "ad10d702-acfc-4651-978c-e95aa79ed052",
   "metadata": {},
   "outputs": [
    {
     "name": "stdout",
     "output_type": "stream",
     "text": [
      "60,50,40,30,20,10,"
     ]
    }
   ],
   "source": [
    "list=[10,20,30,40,50,60]\n",
    "\n",
    "for i in reversed(list):\n",
    "    print(i,end=',')"
   ]
  },
  {
   "cell_type": "code",
   "execution_count": 32,
   "id": "fd55abb8-5a8a-4d10-8cd2-c9879b6a62f2",
   "metadata": {},
   "outputs": [
    {
     "name": "stdout",
     "output_type": "stream",
     "text": [
      "60\n",
      "50\n",
      "40\n",
      "30\n",
      "20\n",
      "10\n"
     ]
    }
   ],
   "source": [
    "for i in list[::-1]:\n",
    "    print(i)"
   ]
  },
  {
   "cell_type": "code",
   "execution_count": 34,
   "id": "a7147790-d5d8-49dc-ad14-b11c9868559f",
   "metadata": {},
   "outputs": [
    {
     "name": "stdout",
     "output_type": "stream",
     "text": [
      "0\n",
      "2\n",
      "4\n",
      "6\n",
      "8\n",
      "10\n"
     ]
    }
   ],
   "source": [
    "# print even number from 1 to 10 using loop.\n",
    "\n",
    "for i in range(0,11,2):\n",
    "    print(i)"
   ]
  },
  {
   "cell_type": "code",
   "execution_count": 35,
   "id": "a4a08ea4-aabc-4828-a930-50999106cfd9",
   "metadata": {},
   "outputs": [
    {
     "name": "stdout",
     "output_type": "stream",
     "text": [
      "1\n",
      "3\n",
      "5\n",
      "7\n",
      "9\n"
     ]
    }
   ],
   "source": [
    "for i in range(1,11,2):\n",
    "    print(i)"
   ]
  },
  {
   "cell_type": "code",
   "execution_count": 38,
   "id": "03d3885d-a556-4465-a7b6-b650934e1dd4",
   "metadata": {},
   "outputs": [
    {
     "name": "stdout",
     "output_type": "stream",
     "text": [
      "0 Rupali\n",
      "1 Babli\n",
      "2 Pratigya\n",
      "3 Akash\n",
      "4 Uday\n",
      "5 Gurav\n"
     ]
    }
   ],
   "source": [
    "names=['Rupali',\"Babli\",\"Pratigya\",\"Akash\",\"Uday\",\"Gurav\"]\n",
    "\n",
    "for i in range(len(names)):\n",
    "    print(i,names[i])"
   ]
  },
  {
   "cell_type": "code",
   "execution_count": 43,
   "id": "cae6a1d8-094e-42ca-82e6-8505b46b0aa8",
   "metadata": {},
   "outputs": [
    {
     "name": "stdout",
     "output_type": "stream",
     "text": [
      "0 Rupali\n",
      "1 Babli\n",
      "2 Pratigya\n",
      "3 Akash\n",
      "4 Uday\n",
      "5 Gurav\n"
     ]
    }
   ],
   "source": [
    "for i,j in enumerate(names):\n",
    "    print(i,j)"
   ]
  },
  {
   "cell_type": "code",
   "execution_count": 44,
   "id": "cdde12b4-7932-4288-97c3-9275f2a5185a",
   "metadata": {},
   "outputs": [
    {
     "name": "stdout",
     "output_type": "stream",
     "text": [
      "-10\n",
      "-9\n",
      "-8\n",
      "-7\n",
      "-6\n",
      "-5\n",
      "-4\n",
      "-3\n",
      "-2\n",
      "-1\n"
     ]
    }
   ],
   "source": [
    "for i in range(-10,0):\n",
    "    print(i)"
   ]
  },
  {
   "cell_type": "code",
   "execution_count": 48,
   "id": "7e272c80-cb53-4f20-b9aa-3e87eda757da",
   "metadata": {},
   "outputs": [
    {
     "name": "stdout",
     "output_type": "stream",
     "text": [
      "19\n",
      "38\n",
      "57\n",
      "76\n",
      "95\n",
      "114\n",
      "133\n",
      "152\n",
      "171\n",
      "190\n"
     ]
    }
   ],
   "source": [
    "# wap to generate table.\n",
    "\n",
    "number=19\n",
    "\n",
    "for i in range(1,11):\n",
    "    print(i*number)"
   ]
  },
  {
   "cell_type": "code",
   "execution_count": 50,
   "id": "2d7edcea-8ffe-44ac-8c0f-6c8e30730c19",
   "metadata": {},
   "outputs": [
    {
     "name": "stdin",
     "output_type": "stream",
     "text": [
      "Enter any number: 23\n"
     ]
    },
    {
     "name": "stdout",
     "output_type": "stream",
     "text": [
      "23\n",
      "46\n",
      "69\n",
      "92\n",
      "115\n",
      "138\n",
      "161\n",
      "184\n",
      "207\n",
      "230\n"
     ]
    }
   ],
   "source": [
    "number=int(input('Enter any number:'))\n",
    "\n",
    "for i in range(1,11):\n",
    "    print(i*number)"
   ]
  },
  {
   "cell_type": "code",
   "execution_count": 51,
   "id": "391cbe5e-c8fe-4b64-9371-6c7e08d0ba0a",
   "metadata": {},
   "outputs": [
    {
     "name": "stdin",
     "output_type": "stream",
     "text": [
      "Enter first table: 12\n",
      "Enter second table 13\n"
     ]
    },
    {
     "name": "stdout",
     "output_type": "stream",
     "text": [
      "12 X 1 = 12    13 X 1 = 13\n",
      "12 X 2 = 24    13 X 2 = 26\n",
      "12 X 3 = 36    13 X 3 = 39\n",
      "12 X 4 = 48    13 X 4 = 52\n",
      "12 X 5 = 60    13 X 5 = 65\n",
      "12 X 6 = 72    13 X 6 = 78\n",
      "12 X 7 = 84    13 X 7 = 91\n",
      "12 X 8 = 96    13 X 8 = 104\n",
      "12 X 9 = 108    13 X 9 = 117\n",
      "12 X 10 = 120    13 X 10 = 130\n"
     ]
    }
   ],
   "source": [
    "def table():\n",
    "    num1 = int(input(\"Enter first table:\"))\n",
    "    num2 = int(input(\"Enter second table\"))\n",
    "    \n",
    "    for i in range(1,11):\n",
    "        print('%d X %d = %d'%(num1,i,num1*i),'   %d X %d = %d'%(num2,i,num2*i))\n",
    "        \n",
    "table()"
   ]
  },
  {
   "cell_type": "code",
   "execution_count": 52,
   "id": "a3756bcd-6428-4749-8197-b2f7378c2812",
   "metadata": {},
   "outputs": [
    {
     "name": "stdin",
     "output_type": "stream",
     "text": [
      "Enter first table: 12\n"
     ]
    },
    {
     "name": "stdout",
     "output_type": "stream",
     "text": [
      "12X1=12\n",
      "12X2=24\n",
      "12X3=36\n",
      "12X4=48\n",
      "12X5=60\n",
      "12X6=72\n",
      "12X7=84\n",
      "12X8=96\n",
      "12X9=108\n",
      "12X10=120\n"
     ]
    }
   ],
   "source": [
    "num1 = int(input(\"Enter first table:\"))\n",
    "#num2 = int(input(\"Enter second table\"))\n",
    "for i in range(1,11):\n",
    "        print(f\"{num1}X{i}={num1*i}\")"
   ]
  },
  {
   "cell_type": "code",
   "execution_count": null,
   "id": "8210e3c4-d0d9-4ee6-9bf6-96c2b24650d7",
   "metadata": {},
   "outputs": [],
   "source": []
  },
  {
   "cell_type": "code",
   "execution_count": null,
   "id": "661defe7-a1eb-4e41-80d5-276553e4554d",
   "metadata": {},
   "outputs": [],
   "source": []
  }
 ],
 "metadata": {
  "kernelspec": {
   "display_name": "Python 3 (ipykernel)",
   "language": "python",
   "name": "python3"
  },
  "language_info": {
   "codemirror_mode": {
    "name": "ipython",
    "version": 3
   },
   "file_extension": ".py",
   "mimetype": "text/x-python",
   "name": "python",
   "nbconvert_exporter": "python",
   "pygments_lexer": "ipython3",
   "version": "3.11.4"
  }
 },
 "nbformat": 4,
 "nbformat_minor": 5
}
