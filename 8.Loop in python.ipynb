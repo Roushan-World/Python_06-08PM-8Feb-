{
 "cells": [
  {
   "cell_type": "markdown",
   "id": "c47b3ec3-54d1-4792-970b-c7399634ce26",
   "metadata": {},
   "source": [
    "# 8. Functions in python\n",
    "\n",
    " * __A for loop is used for iterating over a sequence(that is either a list, a tuple, a dicitonary and a set, or a string).__\n",
    " * __This is less like the for keyword in other programming languages, and works more like an iterator method as found in other programming languages.__\n",
    " * __With the for loop we can execute a set of statements, once for each item in a list, tuple, a set etc.__\n",
    " * __The for loop does not require an indexing variable to set beforehand.__\n",
    " * __With the while loop we execute a set of statements as long as a condition is true.__\n",
    " * __Note: Remember to increment i, or else the loop will continue forever.__\n",
    " * __The while loop requires relevant variable to be ready, in this example we need to define a indexing variable, i, which we set to 1.__\n",
    "\n",
    "# range() functions\n",
    "\n",
    " * __It is helpful to think of the range object as an ordered list.__\n",
    " * __To loop through a set of code a specified number of times, we can use the range() function.__\n",
    " * __The range() function return a sequence of numbers, starting from 0 by default, and increments by 1 (by default), and ends at a specifed number.__"
   ]
  },
  {
   "cell_type": "code",
   "execution_count": 1,
   "id": "ef48592c-6bd1-4dfa-876f-19c4a044203e",
   "metadata": {},
   "outputs": [
    {
     "data": {
      "text/plain": [
       "range(0, 10)"
      ]
     },
     "execution_count": 1,
     "metadata": {},
     "output_type": "execute_result"
    }
   ],
   "source": [
    "range(10)"
   ]
  },
  {
   "cell_type": "code",
   "execution_count": 2,
   "id": "be1ca6fc-46e5-4820-b610-897db2027e1e",
   "metadata": {},
   "outputs": [
    {
     "data": {
      "text/plain": [
       "range(0, 5)"
      ]
     },
     "execution_count": 2,
     "metadata": {},
     "output_type": "execute_result"
    }
   ],
   "source": [
    "range(5)"
   ]
  },
  {
   "cell_type": "code",
   "execution_count": 3,
   "id": "fc24174f-622d-4f32-94ba-19349c887611",
   "metadata": {},
   "outputs": [
    {
     "data": {
      "text/plain": [
       "range(10, 20)"
      ]
     },
     "execution_count": 3,
     "metadata": {},
     "output_type": "execute_result"
    }
   ],
   "source": [
    "range(10,20)"
   ]
  },
  {
   "cell_type": "code",
   "execution_count": 4,
   "id": "fe8d4f43-ae86-40b1-9278-ad1b4c87e972",
   "metadata": {},
   "outputs": [
    {
     "data": {
      "text/plain": [
       "range(0, 10)"
      ]
     },
     "execution_count": 4,
     "metadata": {},
     "output_type": "execute_result"
    }
   ],
   "source": [
    "range(10)"
   ]
  },
  {
   "cell_type": "code",
   "execution_count": 5,
   "id": "91c82ef5-3ad7-47eb-ac07-558914383791",
   "metadata": {},
   "outputs": [
    {
     "name": "stdout",
     "output_type": "stream",
     "text": [
      "0\n",
      "1\n",
      "2\n",
      "3\n",
      "4\n",
      "5\n",
      "6\n",
      "7\n",
      "8\n",
      "9\n"
     ]
    }
   ],
   "source": [
    "for x in range(10):\n",
    "    print(x)"
   ]
  },
  {
   "cell_type": "code",
   "execution_count": 6,
   "id": "2d89e091-3adc-493e-9247-8e4607e3e277",
   "metadata": {},
   "outputs": [
    {
     "name": "stdout",
     "output_type": "stream",
     "text": [
      "0\n",
      "1\n",
      "2\n",
      "3\n",
      "4\n",
      "5\n",
      "6\n",
      "7\n",
      "8\n",
      "9\n",
      "10\n",
      "11\n",
      "12\n",
      "13\n",
      "14\n",
      "15\n",
      "16\n",
      "17\n",
      "18\n",
      "19\n"
     ]
    }
   ],
   "source": [
    "for babli in range(20):\n",
    "    print(babli)"
   ]
  },
  {
   "cell_type": "code",
   "execution_count": 8,
   "id": "fe9b5ee7-7784-4a4d-8fb4-ff305230ca8f",
   "metadata": {},
   "outputs": [
    {
     "name": "stdout",
     "output_type": "stream",
     "text": [
      "31\n",
      "32\n",
      "33\n",
      "34\n",
      "35\n",
      "36\n",
      "37\n",
      "38\n",
      "39\n"
     ]
    }
   ],
   "source": [
    "for x1 in range(31,40):\n",
    "    print(x1)"
   ]
  },
  {
   "cell_type": "code",
   "execution_count": 13,
   "id": "31b834e6-637e-4305-971d-8467fa553848",
   "metadata": {},
   "outputs": [
    {
     "name": "stdout",
     "output_type": "stream",
     "text": [
      "<class 'list'>\n",
      "10\n",
      "20\n",
      "30\n",
      "40\n",
      "50\n",
      "60\n"
     ]
    }
   ],
   "source": [
    "x=[10,20,30,40,50,60]\n",
    "print(type(x))\n",
    "\n",
    "for i in x:\n",
    "    print(i)"
   ]
  },
  {
   "cell_type": "code",
   "execution_count": 14,
   "id": "e6af5bdb-c36a-400a-b2fc-a5011289256f",
   "metadata": {},
   "outputs": [
    {
     "name": "stdout",
     "output_type": "stream",
     "text": [
      "2\n",
      "4\n",
      "5\n",
      "6\n",
      "7\n",
      "8\n",
      "9\n",
      "10\n"
     ]
    }
   ],
   "source": [
    "tuple_1=(2,4,5,6,7,8,9,10)\n",
    "\n",
    "for i in tuple_1:\n",
    "    print(i)"
   ]
  },
  {
   "cell_type": "code",
   "execution_count": 15,
   "id": "6fa0abf5-055d-4bbb-8534-c1b79d8e5a05",
   "metadata": {},
   "outputs": [
    {
     "name": "stdout",
     "output_type": "stream",
     "text": [
      "1\n",
      "2\n",
      "3\n"
     ]
    }
   ],
   "source": [
    "set_1={1,1,1,1,2,2,2,2,2,3,3,3,3,3}\n",
    "for i in set_1:\n",
    "    print(i)"
   ]
  },
  {
   "cell_type": "code",
   "execution_count": 21,
   "id": "146314b1-dfa9-4889-9581-dfc6c96b97c0",
   "metadata": {},
   "outputs": [
    {
     "name": "stdout",
     "output_type": "stream",
     "text": [
      "0 10\n",
      "1 12\n",
      "2 14\n",
      "3 16\n",
      "4 18\n",
      "5 20\n"
     ]
    }
   ],
   "source": [
    "list_1=[10,12,14,16,18,20]\n",
    "\n",
    "for i in range(len(list_1)):\n",
    "    print(i,list_1[i])"
   ]
  },
  {
   "cell_type": "code",
   "execution_count": 28,
   "id": "98532e4a-6d0a-47bd-ae5d-673b6c740f7d",
   "metadata": {},
   "outputs": [
    {
     "name": "stdout",
     "output_type": "stream",
     "text": [
      "Index-1:60\n",
      "Index-2:50\n",
      "Index-3:40\n",
      "Index-4:30\n",
      "Index-5:20\n",
      "Index-6:10\n"
     ]
    }
   ],
   "source": [
    "my_list=[10,20,30,40,50,60]\n",
    "for i, value in enumerate(my_list[::-1]):\n",
    "    x=-(i+1)\n",
    "    print(f'Index{x}:{value}')"
   ]
  },
  {
   "cell_type": "code",
   "execution_count": 31,
   "id": "ad10d702-acfc-4651-978c-e95aa79ed052",
   "metadata": {},
   "outputs": [
    {
     "name": "stdout",
     "output_type": "stream",
     "text": [
      "60,50,40,30,20,10,"
     ]
    }
   ],
   "source": [
    "list=[10,20,30,40,50,60]\n",
    "\n",
    "for i in reversed(list):\n",
    "    print(i,end=',')"
   ]
  },
  {
   "cell_type": "code",
   "execution_count": 32,
   "id": "fd55abb8-5a8a-4d10-8cd2-c9879b6a62f2",
   "metadata": {},
   "outputs": [
    {
     "name": "stdout",
     "output_type": "stream",
     "text": [
      "60\n",
      "50\n",
      "40\n",
      "30\n",
      "20\n",
      "10\n"
     ]
    }
   ],
   "source": [
    "for i in list[::-1]:\n",
    "    print(i)"
   ]
  },
  {
   "cell_type": "code",
   "execution_count": 34,
   "id": "a7147790-d5d8-49dc-ad14-b11c9868559f",
   "metadata": {},
   "outputs": [
    {
     "name": "stdout",
     "output_type": "stream",
     "text": [
      "0\n",
      "2\n",
      "4\n",
      "6\n",
      "8\n",
      "10\n"
     ]
    }
   ],
   "source": [
    "# print even number from 1 to 10 using loop.\n",
    "\n",
    "for i in range(0,11,2):\n",
    "    print(i)"
   ]
  },
  {
   "cell_type": "code",
   "execution_count": 35,
   "id": "a4a08ea4-aabc-4828-a930-50999106cfd9",
   "metadata": {},
   "outputs": [
    {
     "name": "stdout",
     "output_type": "stream",
     "text": [
      "1\n",
      "3\n",
      "5\n",
      "7\n",
      "9\n"
     ]
    }
   ],
   "source": [
    "for i in range(1,11,2):\n",
    "    print(i)"
   ]
  },
  {
   "cell_type": "code",
   "execution_count": 38,
   "id": "03d3885d-a556-4465-a7b6-b650934e1dd4",
   "metadata": {},
   "outputs": [
    {
     "name": "stdout",
     "output_type": "stream",
     "text": [
      "0 Rupali\n",
      "1 Babli\n",
      "2 Pratigya\n",
      "3 Akash\n",
      "4 Uday\n",
      "5 Gurav\n"
     ]
    }
   ],
   "source": [
    "names=['Rupali',\"Babli\",\"Pratigya\",\"Akash\",\"Uday\",\"Gurav\"]\n",
    "\n",
    "for i in range(len(names)):\n",
    "    print(i,names[i])"
   ]
  },
  {
   "cell_type": "code",
   "execution_count": 43,
   "id": "cae6a1d8-094e-42ca-82e6-8505b46b0aa8",
   "metadata": {},
   "outputs": [
    {
     "name": "stdout",
     "output_type": "stream",
     "text": [
      "0 Rupali\n",
      "1 Babli\n",
      "2 Pratigya\n",
      "3 Akash\n",
      "4 Uday\n",
      "5 Gurav\n"
     ]
    }
   ],
   "source": [
    "for i,j in enumerate(names):\n",
    "    print(i,j)"
   ]
  },
  {
   "cell_type": "code",
   "execution_count": 44,
   "id": "cdde12b4-7932-4288-97c3-9275f2a5185a",
   "metadata": {},
   "outputs": [
    {
     "name": "stdout",
     "output_type": "stream",
     "text": [
      "-10\n",
      "-9\n",
      "-8\n",
      "-7\n",
      "-6\n",
      "-5\n",
      "-4\n",
      "-3\n",
      "-2\n",
      "-1\n"
     ]
    }
   ],
   "source": [
    "for i in range(-10,0):\n",
    "    print(i)"
   ]
  },
  {
   "cell_type": "code",
   "execution_count": 48,
   "id": "7e272c80-cb53-4f20-b9aa-3e87eda757da",
   "metadata": {},
   "outputs": [
    {
     "name": "stdout",
     "output_type": "stream",
     "text": [
      "19\n",
      "38\n",
      "57\n",
      "76\n",
      "95\n",
      "114\n",
      "133\n",
      "152\n",
      "171\n",
      "190\n"
     ]
    }
   ],
   "source": [
    "# wap to generate table.\n",
    "\n",
    "number=19\n",
    "\n",
    "for i in range(1,11):\n",
    "    print(i*number)"
   ]
  },
  {
   "cell_type": "code",
   "execution_count": 50,
   "id": "2d7edcea-8ffe-44ac-8c0f-6c8e30730c19",
   "metadata": {},
   "outputs": [
    {
     "name": "stdin",
     "output_type": "stream",
     "text": [
      "Enter any number: 23\n"
     ]
    },
    {
     "name": "stdout",
     "output_type": "stream",
     "text": [
      "23\n",
      "46\n",
      "69\n",
      "92\n",
      "115\n",
      "138\n",
      "161\n",
      "184\n",
      "207\n",
      "230\n"
     ]
    }
   ],
   "source": [
    "number=int(input('Enter any number:'))\n",
    "\n",
    "for i in range(1,11):\n",
    "    print(i*number)"
   ]
  },
  {
   "cell_type": "code",
   "execution_count": 51,
   "id": "391cbe5e-c8fe-4b64-9371-6c7e08d0ba0a",
   "metadata": {},
   "outputs": [
    {
     "name": "stdin",
     "output_type": "stream",
     "text": [
      "Enter first table: 12\n",
      "Enter second table 13\n"
     ]
    },
    {
     "name": "stdout",
     "output_type": "stream",
     "text": [
      "12 X 1 = 12    13 X 1 = 13\n",
      "12 X 2 = 24    13 X 2 = 26\n",
      "12 X 3 = 36    13 X 3 = 39\n",
      "12 X 4 = 48    13 X 4 = 52\n",
      "12 X 5 = 60    13 X 5 = 65\n",
      "12 X 6 = 72    13 X 6 = 78\n",
      "12 X 7 = 84    13 X 7 = 91\n",
      "12 X 8 = 96    13 X 8 = 104\n",
      "12 X 9 = 108    13 X 9 = 117\n",
      "12 X 10 = 120    13 X 10 = 130\n"
     ]
    }
   ],
   "source": [
    "def table():\n",
    "    num1 = int(input(\"Enter first table:\"))\n",
    "    num2 = int(input(\"Enter second table\"))\n",
    "    \n",
    "    for i in range(1,11):\n",
    "        print('%d X %d = %d'%(num1,i,num1*i),'   %d X %d = %d'%(num2,i,num2*i))\n",
    "        \n",
    "table()"
   ]
  },
  {
   "cell_type": "code",
   "execution_count": 52,
   "id": "a3756bcd-6428-4749-8197-b2f7378c2812",
   "metadata": {},
   "outputs": [
    {
     "name": "stdin",
     "output_type": "stream",
     "text": [
      "Enter first table: 12\n"
     ]
    },
    {
     "name": "stdout",
     "output_type": "stream",
     "text": [
      "12X1=12\n",
      "12X2=24\n",
      "12X3=36\n",
      "12X4=48\n",
      "12X5=60\n",
      "12X6=72\n",
      "12X7=84\n",
      "12X8=96\n",
      "12X9=108\n",
      "12X10=120\n"
     ]
    }
   ],
   "source": [
    "num1 = int(input(\"Enter first table:\"))\n",
    "#num2 = int(input(\"Enter second table\"))\n",
    "for i in range(1,11):\n",
    "        print(f\"{num1}X{i}={num1*i}\")"
   ]
  },
  {
   "cell_type": "code",
   "execution_count": 9,
   "id": "8210e3c4-d0d9-4ee6-9bf6-96c2b24650d7",
   "metadata": {},
   "outputs": [
    {
     "name": "stdout",
     "output_type": "stream",
     "text": [
      "1 1\n",
      "0.1\n",
      "2 3\n",
      "0.3\n",
      "3 6\n",
      "0.6\n",
      "4 10\n",
      "1.0\n",
      "5 15\n",
      "1.5\n",
      "6 21\n",
      "2.1\n",
      "7 28\n",
      "2.8\n",
      "10 38\n",
      "3.8\n",
      "20 58\n",
      "5.8\n",
      "89 147\n",
      "14.7\n"
     ]
    }
   ],
   "source": [
    "x={1,2,3,4,5,6,7,89,10,10,10,20,20,20,1,1,1,2,2,2}\n",
    "\n",
    "# find sum of the set.\n",
    "sum1=0\n",
    "for i in x:\n",
    "    sum1+=i\n",
    "    print(i,sum1)\n",
    "    print(sum1/len(x))"
   ]
  },
  {
   "cell_type": "code",
   "execution_count": 11,
   "id": "661defe7-a1eb-4e41-80d5-276553e4554d",
   "metadata": {},
   "outputs": [
    {
     "name": "stdout",
     "output_type": "stream",
     "text": [
      "0 0\n",
      "2 2\n",
      "4 6\n",
      "6 12\n",
      "8 20\n",
      "10 30\n"
     ]
    }
   ],
   "source": [
    "# even number 10\n",
    "even_sum=0\n",
    "for i in range(0,11,2):\n",
    "    even_sum+=i\n",
    "    print(i,even_sum)"
   ]
  },
  {
   "cell_type": "code",
   "execution_count": 13,
   "id": "01bbf1ac-c336-4404-9765-71f41f53aa4d",
   "metadata": {},
   "outputs": [
    {
     "name": "stdout",
     "output_type": "stream",
     "text": [
      "0 0\n",
      "2 2\n",
      "4 6\n",
      "6 12\n",
      "8 20\n",
      "10 30\n"
     ]
    }
   ],
   "source": [
    "sum2=0\n",
    "for i in range(0,11):\n",
    "    if i%2==0:\n",
    "        sum2+=i\n",
    "        print(i,sum2)"
   ]
  },
  {
   "cell_type": "code",
   "execution_count": 23,
   "id": "36d28d45-4fe3-4467-8b96-fc9fc6d27061",
   "metadata": {},
   "outputs": [
    {
     "name": "stdout",
     "output_type": "stream",
     "text": [
      "101 101\n",
      "103 204\n",
      "105 309\n",
      "107 416\n",
      "109 525\n",
      "111 636\n",
      "113 749\n",
      "115 864\n",
      "117 981\n",
      "119 1100\n",
      "121 1221\n",
      "123 1344\n",
      "125 1469\n",
      "127 1596\n",
      "129 1725\n",
      "131 1856\n",
      "133 1989\n",
      "135 2124\n",
      "137 2261\n",
      "139 2400\n",
      "141 2541\n",
      "143 2684\n",
      "145 2829\n",
      "147 2976\n",
      "149 3125\n",
      "151 3276\n",
      "153 3429\n",
      "155 3584\n",
      "157 3741\n",
      "159 3900\n",
      "161 4061\n",
      "163 4224\n",
      "165 4389\n",
      "167 4556\n",
      "169 4725\n",
      "171 4896\n",
      "173 5069\n",
      "175 5244\n",
      "177 5421\n",
      "179 5600\n",
      "181 5781\n",
      "183 5964\n",
      "185 6149\n",
      "187 6336\n",
      "189 6525\n",
      "191 6716\n",
      "193 6909\n",
      "195 7104\n",
      "197 7301\n",
      "199 7500\n"
     ]
    }
   ],
   "source": [
    "_=0\n",
    "for i in range(101,201,2):\n",
    "    _+=i\n",
    "    print(i,_)"
   ]
  },
  {
   "cell_type": "code",
   "execution_count": 30,
   "id": "7cf3a829-ec91-4e98-9eb7-66d6163eee25",
   "metadata": {},
   "outputs": [
    {
     "name": "stdout",
     "output_type": "stream",
     "text": [
      "101 111\n",
      "103 214\n",
      "105 319\n",
      "107 426\n",
      "109 535\n",
      "111 646\n",
      "113 759\n",
      "115 874\n",
      "117 991\n",
      "119 1110\n",
      "121 1231\n",
      "123 1354\n",
      "125 1479\n",
      "127 1606\n",
      "129 1735\n",
      "131 1866\n",
      "133 1999\n",
      "135 2134\n",
      "137 2271\n",
      "139 2410\n",
      "141 2551\n",
      "143 2694\n",
      "145 2839\n",
      "147 2986\n",
      "149 3135\n",
      "151 3286\n",
      "153 3439\n",
      "155 3594\n",
      "157 3751\n",
      "159 3910\n",
      "161 4071\n",
      "163 4234\n",
      "165 4399\n",
      "167 4566\n",
      "169 4735\n",
      "171 4906\n",
      "173 5079\n",
      "175 5254\n",
      "177 5431\n",
      "179 5610\n",
      "181 5791\n",
      "183 5974\n",
      "185 6159\n",
      "187 6346\n",
      "189 6535\n",
      "191 6726\n",
      "193 6919\n",
      "195 7114\n",
      "197 7311\n",
      "199 7510\n"
     ]
    }
   ],
   "source": [
    "sum3=10\n",
    "for i in range(100,201):\n",
    "    if i%2==1:\n",
    "        sum3+=i\n",
    "        print(i,sum3)"
   ]
  },
  {
   "cell_type": "code",
   "execution_count": 27,
   "id": "2d8d35e8-8e3f-4e35-a7d5-5b0adc6a2370",
   "metadata": {},
   "outputs": [
    {
     "data": {
      "text/plain": [
       "'babli'"
      ]
     },
     "execution_count": 27,
     "metadata": {},
     "output_type": "execute_result"
    }
   ],
   "source": [
    "sum3"
   ]
  },
  {
   "cell_type": "code",
   "execution_count": 31,
   "id": "61d8d921-d2ef-4ae7-bddc-9c518664f171",
   "metadata": {},
   "outputs": [
    {
     "name": "stdout",
     "output_type": "stream",
     "text": [
      "100\n",
      "101\n",
      "102\n",
      "103\n",
      "104\n",
      "105\n",
      "106\n",
      "107\n",
      "108\n",
      "109\n",
      "110\n",
      "111\n",
      "112\n",
      "113\n",
      "114\n",
      "115\n",
      "116\n",
      "117\n",
      "118\n",
      "119\n",
      "120\n",
      "121\n",
      "122\n",
      "123\n",
      "124\n",
      "125\n",
      "126\n",
      "127\n",
      "128\n",
      "129\n",
      "130\n",
      "131\n",
      "132\n",
      "133\n",
      "134\n",
      "135\n",
      "136\n",
      "137\n",
      "138\n",
      "139\n",
      "140\n",
      "141\n",
      "142\n",
      "143\n",
      "144\n",
      "145\n",
      "146\n",
      "147\n",
      "148\n",
      "149\n",
      "150\n",
      "151\n",
      "152\n",
      "153\n",
      "154\n",
      "155\n",
      "156\n",
      "157\n",
      "158\n",
      "159\n",
      "160\n",
      "161\n",
      "162\n",
      "163\n",
      "164\n",
      "165\n",
      "166\n",
      "167\n",
      "168\n",
      "169\n",
      "170\n",
      "171\n",
      "172\n",
      "173\n",
      "174\n",
      "175\n",
      "176\n",
      "177\n",
      "178\n",
      "179\n",
      "180\n",
      "181\n",
      "182\n",
      "183\n",
      "184\n",
      "185\n",
      "186\n",
      "187\n",
      "188\n",
      "189\n",
      "190\n",
      "191\n",
      "192\n",
      "193\n",
      "194\n",
      "195\n",
      "196\n",
      "197\n",
      "198\n",
      "199\n"
     ]
    }
   ],
   "source": [
    "for i in range(100,200):\n",
    "    print(i)"
   ]
  },
  {
   "cell_type": "code",
   "execution_count": 45,
   "id": "7467181b-923f-4380-8f8d-affacb267443",
   "metadata": {},
   "outputs": [
    {
     "name": "stdout",
     "output_type": "stream",
     "text": [
      "100\n",
      "100 100\n",
      "101\n",
      "101 201\n",
      "102\n",
      "102 303\n",
      "103\n",
      "103 406\n",
      "104\n",
      "104 510\n",
      "105\n",
      "105 615\n",
      "106\n",
      "106 721\n",
      "107\n",
      "107 828\n",
      "108\n",
      "108 936\n",
      "109\n",
      "109 1045\n",
      "110\n",
      "110 1155\n",
      "111\n",
      "111 1266\n",
      "112\n",
      "112 1378\n",
      "113\n",
      "113 1491\n",
      "114\n",
      "114 1605\n",
      "115\n",
      "115 1720\n",
      "116\n",
      "116 1836\n",
      "117\n",
      "117 1953\n",
      "118\n",
      "118 2071\n",
      "119\n",
      "119 2190\n",
      "120\n",
      "120 2310\n",
      "121\n",
      "121 2431\n",
      "122\n",
      "122 2553\n",
      "123\n",
      "123 2676\n",
      "124\n",
      "124 2800\n",
      "125\n",
      "125 2925\n",
      "126\n",
      "126 3051\n",
      "127\n",
      "127 3178\n",
      "128\n",
      "128 3306\n",
      "129\n",
      "129 3435\n",
      "130\n",
      "130 3565\n",
      "131\n",
      "131 3696\n",
      "132\n",
      "132 3828\n",
      "133\n",
      "133 3961\n",
      "134\n",
      "134 4095\n",
      "135\n",
      "135 4230\n",
      "136\n",
      "136 4366\n",
      "137\n",
      "137 4503\n",
      "138\n",
      "138 4641\n",
      "139\n",
      "139 4780\n",
      "140\n",
      "140 4920\n",
      "141\n",
      "141 5061\n",
      "142\n",
      "142 5203\n",
      "143\n",
      "143 5346\n",
      "144\n",
      "144 5490\n",
      "145\n",
      "145 5635\n",
      "146\n",
      "146 5781\n",
      "147\n",
      "147 5928\n",
      "148\n",
      "148 6076\n",
      "149\n",
      "149 6225\n",
      "150\n",
      "150 6375\n",
      "151\n",
      "152\n",
      "153\n",
      "154\n",
      "155\n",
      "156\n",
      "157\n",
      "158\n",
      "159\n",
      "160\n",
      "161\n",
      "162\n",
      "163\n",
      "164\n",
      "165\n",
      "166\n",
      "167\n",
      "168\n",
      "169\n",
      "170\n",
      "171\n",
      "172\n",
      "173\n",
      "174\n",
      "175\n",
      "176\n",
      "177\n",
      "178\n",
      "179\n",
      "180\n",
      "181\n",
      "182\n",
      "183\n",
      "184\n",
      "185\n",
      "186\n",
      "187\n",
      "188\n",
      "189\n",
      "190\n",
      "191\n",
      "192\n",
      "193\n",
      "194\n",
      "195\n",
      "196\n",
      "197\n",
      "198\n",
      "199\n"
     ]
    }
   ],
   "source": [
    "sum4=0\n",
    "for i in range(100,200):\n",
    "    \n",
    "    print(i)\n",
    "    if i<=150:\n",
    "        sum4+=i\n",
    "        print(i,sum4)"
   ]
  },
  {
   "cell_type": "code",
   "execution_count": null,
   "id": "0f720c8e-3edb-49e7-8e18-b328b8400938",
   "metadata": {},
   "outputs": [],
   "source": [
    "x= [10,11,13,15,16,17,33,35,37,38,20,30,40,50,60,70,80,90,100]"
   ]
  },
  {
   "cell_type": "code",
   "execution_count": 59,
   "id": "cd608332-a8ea-4c39-b6e7-72df3825f881",
   "metadata": {},
   "outputs": [
    {
     "name": "stdout",
     "output_type": "stream",
     "text": [
      "100 100\n",
      "101 201\n",
      "102 303\n",
      "103 406\n",
      "104 510\n",
      "105 615\n",
      "106 721\n",
      "107 828\n",
      "108 936\n",
      "109 1045\n",
      "110 1155\n",
      "111 1266\n",
      "112 1378\n",
      "113 1491\n",
      "114 1605\n",
      "115 1720\n",
      "116 1836\n",
      "117 1953\n",
      "118 2071\n",
      "119 2190\n",
      "120 2310\n",
      "121 2431\n",
      "122 2553\n",
      "123 2676\n",
      "124 2800\n",
      "125 2925\n",
      "126 3051\n",
      "127 3178\n",
      "128 3306\n",
      "129 3435\n",
      "130 3565\n",
      "131 3696\n",
      "132 3828\n",
      "133 3961\n",
      "134 4095\n",
      "135 4230\n",
      "136 4366\n",
      "137 4503\n",
      "138 4641\n",
      "139 4780\n",
      "140 4920\n",
      "141 5061\n",
      "142 5203\n",
      "143 5346\n",
      "144 5490\n",
      "145 5635\n",
      "146 5781\n",
      "147 5928\n",
      "148 6076\n",
      "149 6225\n",
      "150 6375\n"
     ]
    }
   ],
   "source": [
    "sum = 0\n",
    "for i in range(100,201):\n",
    "    sum+=i\n",
    "    if sum==6526:\n",
    "        break\n",
    "    print(i,sum)"
   ]
  },
  {
   "cell_type": "code",
   "execution_count": 65,
   "id": "10c6b1e8-e494-4322-b343-4e65c605c4e6",
   "metadata": {},
   "outputs": [
    {
     "name": "stdout",
     "output_type": "stream",
     "text": [
      "[10, 16, 38, 20, 30, 40, 50, 60, 70, 80, 90, 100] = 604\n"
     ]
    }
   ],
   "source": [
    "x= [10,11,13,15,16,17,33,35,37,38,20,30,40,50,60,70,80,90,100]\n",
    "\n",
    "\n",
    "even=[]\n",
    "sum1=0\n",
    "for i in x:\n",
    "    if i%2==0:\n",
    "        even.append(i)\n",
    "        sum1+=i\n",
    "print(even,'=',sum1)"
   ]
  },
  {
   "cell_type": "code",
   "execution_count": 67,
   "id": "d90cbc2c-1f6e-40e8-bf8a-ab9602ae30e0",
   "metadata": {},
   "outputs": [
    {
     "name": "stdout",
     "output_type": "stream",
     "text": [
      "10\n",
      "10 10\n",
      "11\n",
      "13\n",
      "15\n",
      "16\n",
      "16 26\n",
      "17\n",
      "33\n",
      "35\n",
      "37\n",
      "38\n",
      "38 64\n",
      "20\n",
      "20 84\n",
      "30\n",
      "30 114\n",
      "40\n",
      "40 154\n",
      "50\n",
      "50 204\n",
      "60\n",
      "60 264\n",
      "70\n",
      "70 334\n",
      "80\n",
      "80 414\n",
      "90\n",
      "90 504\n",
      "100\n",
      "100 604\n"
     ]
    }
   ],
   "source": [
    "sum5=0\n",
    "for i in x:\n",
    "    print(i)\n",
    "    if i%2==0:\n",
    "        sum5+=i\n",
    "        print(i,sum5)"
   ]
  },
  {
   "cell_type": "code",
   "execution_count": 68,
   "id": "78c92fd0-7cee-46df-a064-ace5fa06e307",
   "metadata": {},
   "outputs": [
    {
     "data": {
      "text/plain": [
       "[10, 16, 38, 20, 30, 40, 50, 60, 70, 80, 90, 100]"
      ]
     },
     "execution_count": 68,
     "metadata": {},
     "output_type": "execute_result"
    }
   ],
   "source": [
    "even"
   ]
  },
  {
   "cell_type": "code",
   "execution_count": 71,
   "id": "bd4b63ab-0ae0-413b-b8de-d576d37b92fc",
   "metadata": {},
   "outputs": [
    {
     "name": "stdout",
     "output_type": "stream",
     "text": [
      "[10, 16, 38, 20, 30, 40, 50, 60, 70, 80, 90, 100]\n"
     ]
    }
   ],
   "source": [
    "#Filtering list using filter\n",
    "\n",
    "list1= [10,11,13,15,16,17,33,35,37,38,20,30,40,50,60,70,80,90,100]\n",
    "def is_even(y):\n",
    "    return y % 2 == 0\n",
    "list2 = list(filter(is_even,list1))\n",
    "print(list2)"
   ]
  },
  {
   "cell_type": "code",
   "execution_count": 72,
   "id": "6b803862-f89d-464e-a177-04e2206955b1",
   "metadata": {},
   "outputs": [
    {
     "name": "stdout",
     "output_type": "stream",
     "text": [
      "[10, 16, 38, 20, 30, 40, 50, 60, 70, 80, 90, 100]\n"
     ]
    }
   ],
   "source": [
    "#even numbers using list comprehension\n",
    "\n",
    "x= [10,11,13,15,16,17,33,35,37,38,20,30,40,50,60,70,80,90,100]\n",
    "even = [i for i in x if i % 2 == 0]\n",
    "print(even)"
   ]
  },
  {
   "cell_type": "code",
   "execution_count": 3,
   "id": "9ff6f726-8913-4ba4-be48-0793beef0516",
   "metadata": {},
   "outputs": [
    {
     "name": "stdin",
     "output_type": "stream",
     "text": [
      "Enter your range: 20\n"
     ]
    },
    {
     "name": "stdout",
     "output_type": "stream",
     "text": [
      "It's your list: [0, 1, 2, 3, 4, 5, 6, 7, 8, 9, 10, 11, 12, 13, 14, 15, 16, 17, 18, 19]\n",
      "Even numbers of your list: [0, 2, 4, 6, 8, 10, 12, 14, 16, 18]\n",
      "Odd numbers of your list: [1, 3, 5, 7, 9, 11, 13, 15, 17, 19]\n"
     ]
    }
   ],
   "source": [
    "user_1=int(input('Enter your range:'))\n",
    "list1=[]\n",
    "even_1=[]\n",
    "odd_1=[]\n",
    "for i in range(user_1):\n",
    "    list1.append(i)\n",
    "    if i%2==0:\n",
    "        even_1.append(i)\n",
    "    elif i%2!=0:\n",
    "        odd_1.append(i)\n",
    "\n",
    "print(\"It's your list:\",list1)\n",
    "print(\"Even numbers of your list:\",even_1)\n",
    "print(\"Odd numbers of your list:\",odd_1)"
   ]
  },
  {
   "cell_type": "markdown",
   "id": "641e76e7-b745-4aca-a6dd-4a774e67f12f",
   "metadata": {},
   "source": [
    "# break in for loop"
   ]
  },
  {
   "cell_type": "code",
   "execution_count": 8,
   "id": "b70b5b13-592e-4eb2-be31-acf7e59ed937",
   "metadata": {},
   "outputs": [
    {
     "name": "stdout",
     "output_type": "stream",
     "text": [
      "1\n",
      "2\n",
      "3\n",
      "4\n",
      "5\n",
      "6\n",
      "7\n",
      "8\n",
      "9\n"
     ]
    }
   ],
   "source": [
    "for i in range(1,20):\n",
    "    if i==10:\n",
    "        break\n",
    "    print(i)"
   ]
  },
  {
   "cell_type": "markdown",
   "id": "c77f35d9-3041-41a6-aece-84cde7f3fe58",
   "metadata": {},
   "source": [
    "# Continue in for loop"
   ]
  },
  {
   "cell_type": "code",
   "execution_count": 12,
   "id": "a9ea5e18-4f11-43a4-a56e-cf54784ac0e1",
   "metadata": {},
   "outputs": [
    {
     "name": "stdout",
     "output_type": "stream",
     "text": [
      "20\n",
      "21\n",
      "22\n",
      "23\n",
      "24\n",
      "25\n",
      "26\n",
      "27\n",
      "28\n",
      "29\n",
      "30\n"
     ]
    }
   ],
   "source": [
    "for i in range(20,31):\n",
    "    if i==25:\n",
    "        continue\n",
    "    print(i)\n",
    "    "
   ]
  },
  {
   "cell_type": "code",
   "execution_count": 67,
   "id": "d3e34085-05d5-4a3d-b48e-7d28b56de86d",
   "metadata": {},
   "outputs": [
    {
     "name": "stdin",
     "output_type": "stream",
     "text": [
      "Enter your starting range: 50\n",
      "Enter your ending range: 100\n"
     ]
    },
    {
     "name": "stdout",
     "output_type": "stream",
     "text": [
      "[50, 52, 54, 56, 58, 60, 62, 64, 66, 68, 70]\n"
     ]
    }
   ],
   "source": [
    "# wap to take range from user 50 to 100 and find even or odd 70\n",
    "x=int(input('Enter your starting range:'))\n",
    "y=int(input('Enter your ending range:'))\n",
    "\n",
    "even_list=[]\n",
    "odd_list=[]\n",
    "for i in range(x,y+1):\n",
    "    if i%2==0:\n",
    "        even_list.append(i)\n",
    "        if i==70:\n",
    "            break\n",
    "    #print(i)\n",
    "\n",
    "print(even_list)"
   ]
  },
  {
   "cell_type": "code",
   "execution_count": 65,
   "id": "6dfd630c-a7a0-4143-9c8b-f06bf391d5de",
   "metadata": {},
   "outputs": [
    {
     "name": "stdin",
     "output_type": "stream",
     "text": [
      "Enter your starting range: 50\n",
      "Enter your ending range: 100\n"
     ]
    },
    {
     "name": "stdout",
     "output_type": "stream",
     "text": [
      "[51, 53, 55, 57, 59, 61, 63, 65, 67, 69, 71, 73, 75, 77, 79, 81, 83, 85, 87, 89, 91, 93, 95, 97, 99]\n"
     ]
    }
   ],
   "source": [
    "x=int(input('Enter your starting range:'))\n",
    "y=int(input('Enter your ending range:'))\n",
    "even_list=[]\n",
    "odd_list=[]\n",
    "for i in range(x,y+1):\n",
    "    if i%2!=0:\n",
    "        odd_list.append(i)\n",
    "        if i==70:\n",
    "            break\n",
    "    #print(i)\n",
    "print(odd_list)   "
   ]
  },
  {
   "cell_type": "code",
   "execution_count": null,
   "id": "5892bd21-4af5-47e4-899a-95b972c244a2",
   "metadata": {},
   "outputs": [],
   "source": [
    "# Wap to find the sum of 50 natural numbers.\n",
    "\n",
    "#range()\n"
   ]
  },
  {
   "cell_type": "code",
   "execution_count": 71,
   "id": "73eeb52f-cca8-43bc-93c5-c9ab89e10101",
   "metadata": {},
   "outputs": [
    {
     "name": "stdout",
     "output_type": "stream",
     "text": [
      "50\n",
      "51\n",
      "52\n",
      "53\n",
      "54\n",
      "55\n",
      "56\n",
      "57\n",
      "58\n",
      "59\n",
      "60\n",
      "61\n",
      "62\n",
      "63\n",
      "64\n",
      "65\n",
      "66\n",
      "67\n",
      "68\n",
      "69\n",
      "70\n",
      "71\n",
      "72\n",
      "73\n",
      "74\n",
      "75\n",
      "76\n",
      "77\n",
      "78\n",
      "79\n",
      "80\n",
      "81\n",
      "82\n",
      "83\n",
      "84\n",
      "85\n",
      "86\n",
      "87\n",
      "88\n",
      "89\n",
      "90\n",
      "91\n",
      "92\n",
      "93\n",
      "94\n",
      "95\n",
      "96\n",
      "97\n",
      "98\n",
      "99\n",
      "100\n"
     ]
    }
   ],
   "source": [
    "i=50\n",
    "\n",
    "while i<=100:\n",
    "    print(i)\n",
    "    i+=1"
   ]
  },
  {
   "cell_type": "code",
   "execution_count": 72,
   "id": "6c3854a4-52b5-4089-8429-eee379428cef",
   "metadata": {},
   "outputs": [
    {
     "name": "stdout",
     "output_type": "stream",
     "text": [
      "50\n",
      "51\n",
      "52\n",
      "53\n",
      "54\n",
      "55\n",
      "56\n",
      "57\n",
      "58\n",
      "59\n",
      "60\n",
      "61\n",
      "62\n",
      "63\n",
      "64\n",
      "65\n",
      "66\n",
      "67\n",
      "68\n",
      "69\n"
     ]
    }
   ],
   "source": [
    "i=50\n",
    "\n",
    "while i<=100:\n",
    "    if i==70:\n",
    "        break\n",
    "    print(i)\n",
    "    i+=1"
   ]
  },
  {
   "cell_type": "code",
   "execution_count": 87,
   "id": "34380795-c51c-4305-982c-2d8e4bdea93b",
   "metadata": {},
   "outputs": [
    {
     "name": "stdout",
     "output_type": "stream",
     "text": [
      "0\n",
      "1\n",
      "2\n"
     ]
    }
   ],
   "source": [
    "i=0\n",
    "\n",
    "while i<=5:\n",
    "    print(i)\n",
    "    i+=1\n",
    "    if i==3:\n",
    "        break\n",
    "    "
   ]
  },
  {
   "cell_type": "code",
   "execution_count": 88,
   "id": "9ef704ed-7fea-4af8-973d-f00970263990",
   "metadata": {},
   "outputs": [
    {
     "name": "stdout",
     "output_type": "stream",
     "text": [
      "0\n",
      "1\n",
      "2\n",
      "3\n",
      "4\n",
      "5\n"
     ]
    }
   ],
   "source": [
    "i=0\n",
    "\n",
    "while i<=5:\n",
    "    print(i)\n",
    "    i+=1\n",
    "    if i==3:\n",
    "        continue"
   ]
  },
  {
   "cell_type": "code",
   "execution_count": 1,
   "id": "6f73986d-c4a6-4cb4-af89-42743d4a9730",
   "metadata": {},
   "outputs": [
    {
     "name": "stdout",
     "output_type": "stream",
     "text": [
      "1\n",
      "2\n",
      "3\n",
      "4\n",
      "5\n",
      "6\n",
      "7\n",
      "8\n",
      "9\n",
      "10\n"
     ]
    }
   ],
   "source": [
    "for i in range(1,11):\n",
    "    print(i)"
   ]
  },
  {
   "cell_type": "code",
   "execution_count": 3,
   "id": "ea76acde-9459-4d94-bf7a-eccb01bb2bd4",
   "metadata": {},
   "outputs": [
    {
     "name": "stdout",
     "output_type": "stream",
     "text": [
      "1\n",
      "2\n",
      "3\n",
      "4\n",
      "5\n",
      "6\n",
      "7\n",
      "8\n",
      "9\n",
      "10\n"
     ]
    }
   ],
   "source": [
    "i=1\n",
    "while i<11:\n",
    "    print(i)\n",
    "    i+=1"
   ]
  },
  {
   "cell_type": "code",
   "execution_count": 6,
   "id": "f9f4e031-0551-492b-8f37-8c300782a7e4",
   "metadata": {},
   "outputs": [
    {
     "name": "stdout",
     "output_type": "stream",
     "text": [
      "1\n",
      "2\n",
      "3\n",
      "4\n",
      "5\n"
     ]
    }
   ],
   "source": [
    "i=1\n",
    "\n",
    "while i<11:\n",
    "    if i==6:\n",
    "        break\n",
    "    print(i)\n",
    "    i+=1"
   ]
  },
  {
   "cell_type": "code",
   "execution_count": 9,
   "id": "72a81209-e8dd-4d6d-ab82-ae1ff5d74374",
   "metadata": {},
   "outputs": [
    {
     "name": "stdout",
     "output_type": "stream",
     "text": [
      "1\n",
      "2\n",
      "3\n",
      "4\n",
      "5\n",
      "6\n",
      "7\n",
      "8\n",
      "9\n",
      "10\n"
     ]
    }
   ],
   "source": [
    "i=1\n",
    "\n",
    "while i<11:\n",
    "    print(i)\n",
    "    i+=1\n",
    "    if i==6:\n",
    "        continue"
   ]
  },
  {
   "cell_type": "code",
   "execution_count": 16,
   "id": "1fce1b90-6ccb-4bd5-a175-d2ef12fe31b9",
   "metadata": {},
   "outputs": [
    {
     "name": "stdout",
     "output_type": "stream",
     "text": [
      "1\n",
      "2\n",
      "3\n",
      "4\n",
      "5\n"
     ]
    }
   ],
   "source": [
    "i=1\n",
    "\n",
    "while i<=5:\n",
    "    \n",
    "    print(i)\n",
    "    i+=1\n",
    "    if i==3:\n",
    "        continue"
   ]
  },
  {
   "cell_type": "code",
   "execution_count": 15,
   "id": "c2c6b456-3899-47e9-8e6b-ed7a0a988ac5",
   "metadata": {},
   "outputs": [
    {
     "name": "stdout",
     "output_type": "stream",
     "text": [
      "1\n",
      "2\n",
      "3\n",
      "4\n",
      "5\n",
      "6\n",
      "7\n",
      "8\n",
      "9\n",
      "10\n"
     ]
    }
   ],
   "source": [
    "for i in range(1,10+1):\n",
    "    \n",
    "    print(i)\n",
    "    if i==5:\n",
    "        continue"
   ]
  },
  {
   "cell_type": "code",
   "execution_count": 17,
   "id": "2ce14394-c08b-48cf-9fb8-bfbb35b4975e",
   "metadata": {},
   "outputs": [
    {
     "name": "stdin",
     "output_type": "stream",
     "text": [
      "Enter numbers without comma :  78963\n"
     ]
    },
    {
     "name": "stdout",
     "output_type": "stream",
     "text": [
      "Total number of digits :  5\n"
     ]
    }
   ],
   "source": [
    "# Write a program to count the total number of digits in a number using a while loop.\n",
    "# for example, the number is 75869, so output is 5.\n",
    "\n",
    "\n",
    "#Write a program to count total number of digits in name using while loop\n",
    "\n",
    "n = int(input(\"Enter numbers without comma : \"))\n",
    "num = 0\n",
    "while n > 0:\n",
    "    num +=1\n",
    "    n = n//10\n",
    "print(\"Total number of digits : \",num)"
   ]
  },
  {
   "cell_type": "code",
   "execution_count": 28,
   "id": "ca2aee40-2a0d-49fc-9e53-1da462ef4299",
   "metadata": {},
   "outputs": [
    {
     "name": "stdin",
     "output_type": "stream",
     "text": [
      "Enter the number: 45151651516516\n"
     ]
    },
    {
     "name": "stdout",
     "output_type": "stream",
     "text": [
      "14\n"
     ]
    }
   ],
   "source": [
    "n=input('Enter the number:')\n",
    "\n",
    "x=list(n)\n",
    "count=0\n",
    "while count<len(x):\n",
    "    for i in x:\n",
    "        count+=1\n",
    "print(count)"
   ]
  },
  {
   "cell_type": "code",
   "execution_count": 29,
   "id": "c0735482-4cac-42d3-a8b5-5aea9b27dd8b",
   "metadata": {},
   "outputs": [
    {
     "name": "stdin",
     "output_type": "stream",
     "text": [
      "Enter numbers without comma :  45789632\n"
     ]
    },
    {
     "name": "stdout",
     "output_type": "stream",
     "text": [
      "['4', '5', '7', '8', '9', '6', '3', '2']\n",
      "8\n"
     ]
    }
   ],
   "source": [
    "n = (input(\"Enter numbers without comma : \"))\n",
    "x = []\n",
    "x.extend(n)\n",
    "print(x)\n",
    "num = 0\n",
    "while num < len(x):\n",
    "    for i in x:\n",
    "        num+=1\n",
    "    print(num)"
   ]
  },
  {
   "cell_type": "code",
   "execution_count": 32,
   "id": "b1688a4d-6110-466d-9232-5764ce429cf0",
   "metadata": {},
   "outputs": [
    {
     "name": "stdin",
     "output_type": "stream",
     "text": [
      "Enter any number :  78\n",
      "Enter any number :  78\n",
      "Enter any number :  78\n",
      "Enter any number :  78\n",
      "Enter any number :  54\n",
      "Enter any number :  96\n",
      "Enter any number :  0\n"
     ]
    },
    {
     "name": "stdout",
     "output_type": "stream",
     "text": [
      "[78, 78, 78, 78, 54, 96, 0]\n",
      "Sum of list is :  462\n",
      "Average of list is :  66.0\n"
     ]
    }
   ],
   "source": [
    "# Wap to program that keeps on accepting a number from the user until the user enters Zero. \n",
    "# Display the sum and average of all the number.\n",
    "\n",
    "\n",
    "#WAP that keeps on accepting input from user until entered zero\n",
    "#Dislpay sum and avg of all the numbers\n",
    "\n",
    "list = []\n",
    "while True:\n",
    "    n = int(input(\"Enter any number : \"))\n",
    "    list.append(n)\n",
    "    if n==0:\n",
    "        break\n",
    "print(list)\n",
    "print(\"Sum of list is : \",sum(list))\n",
    "print(\"Average of list is : \",sum(list)/len(list))"
   ]
  },
  {
   "cell_type": "code",
   "execution_count": 42,
   "id": "9af49d17-6d5e-46a9-ade3-3299c267aabb",
   "metadata": {},
   "outputs": [
    {
     "name": "stdout",
     "output_type": "stream",
     "text": [
      "[1, 3, 5, 7, 9, 11, 13, 15, 17, 19] Sum= 100 Avg= 10.0 \n",
      "Length= 10\n"
     ]
    }
   ],
   "source": [
    "# Write a program to print the frist 25 odd numbers? and find their sum and average and its total length.\n",
    "\n",
    "\n",
    "count=0\n",
    "i=1\n",
    "odd_list=[]\n",
    "while True:\n",
    "    if i%2!=0:\n",
    "        odd_list.append(i)\n",
    "        count+=1\n",
    "    if count==10:\n",
    "        break\n",
    "    i+=1\n",
    "print(odd_list,'Sum=',sum(odd_list),'Avg=',sum(odd_list)/len(odd_list),'\\nLength=',len(odd_list),)"
   ]
  },
  {
   "cell_type": "code",
   "execution_count": 6,
   "id": "96b9a6e3-cc60-415c-86bf-c3def758c861",
   "metadata": {},
   "outputs": [
    {
     "name": "stdin",
     "output_type": "stream",
     "text": [
      "Enter your range: 5\n",
      "Enter your number1: 10\n",
      "Enter your number2: -20\n",
      "Enter your number3: -69\n",
      "Enter your number4: 100\n",
      "Enter your number5: 200\n"
     ]
    },
    {
     "name": "stdout",
     "output_type": "stream",
     "text": [
      "[10, -20, -69, 100, 200] \n",
      " [10, 100, 200] \n",
      " [-20, -69]\n"
     ]
    }
   ],
   "source": [
    "# Wap to print sum, average,and length of positive or negative value given by the user input in range:\n",
    "user1=int(input('Enter your range:'))\n",
    "list_1=[]\n",
    "pos_list=[]\n",
    "neg_list=[]\n",
    "i=1\n",
    "while i<=user1:\n",
    "    user2=int(input(f'Enter your number{i}:'))\n",
    "    list_1.append(user2)\n",
    "    if user2>0:\n",
    "        pos_list.append(user2)\n",
    "    elif user2<0:\n",
    "        neg_list.append(user2)\n",
    "    #print(i)\n",
    "    i+=1\n",
    "\n",
    "print(list_1,'\\n',pos_list,'\\n',neg_list)"
   ]
  },
  {
   "cell_type": "code",
   "execution_count": 7,
   "id": "38a6d919-72d0-41bf-97ce-b1819a974d89",
   "metadata": {},
   "outputs": [],
   "source": [
    "# Assignment\n",
    "# --------------------------------------------------\n",
    "# 1. Create a program that takes a year as input and check if it is leap year or not.\n",
    "# 2. Write a python program to check if a given number is prime or not.\n",
    "# 3. Given a list of names, print all names starting with the letters \"A\",\n",
    "# 4. Write a program that calculates the factorial of a given number.\n",
    "# 5. Create a loop that print all prime numbers between 1 and 50.\n",
    "# 6. Given a list of words, count the number of words with more than five characters."
   ]
  },
  {
   "cell_type": "code",
   "execution_count": 1,
   "id": "323c37a5-8d54-4d4c-b4a3-7ab67e399d2f",
   "metadata": {},
   "outputs": [
    {
     "name": "stdin",
     "output_type": "stream",
     "text": [
      "Enter the year: 2024\n"
     ]
    },
    {
     "name": "stdout",
     "output_type": "stream",
     "text": [
      "year is a leap year!\n"
     ]
    }
   ],
   "source": [
    "# 1. Create a program that takes a year as input and check if it is leap year or not.\n",
    "\n",
    "year=int(input('Enter the year:'))\n",
    "if (year%4==0 and year%100!=0):\n",
    "    print(\"year is a leap year!\")\n",
    "    \n",
    "else: print('the year is not a leap year')"
   ]
  },
  {
   "cell_type": "code",
   "execution_count": null,
   "id": "d5e98166-6969-469b-b6f6-cd2379a741b2",
   "metadata": {},
   "outputs": [],
   "source": [
    "while True:\n",
    "    year=int(input('Enter the year:'))\n",
    "    if (year%4==0 and year%100!=0):\n",
    "        print(\"year is a leap year!\")\n",
    "    \n",
    "    else: print('the year is not a leap year')"
   ]
  },
  {
   "cell_type": "code",
   "execution_count": 4,
   "id": "d3f0e08b-bf4f-4502-9813-d4f98333a39e",
   "metadata": {},
   "outputs": [
    {
     "name": "stdin",
     "output_type": "stream",
     "text": [
      "Enter Year: 2024\n"
     ]
    },
    {
     "name": "stdout",
     "output_type": "stream",
     "text": [
      "Leap Year\n"
     ]
    }
   ],
   "source": [
    "i=int(input('Enter Year:'))\n",
    "while True:\n",
    "    if i%4==0 and i%100!=0:\n",
    "        print('Leap Year')\n",
    "        break\n",
    "    else:\n",
    "        print('Not Leap Year')\n",
    "        break\n",
    "    print(i)\n",
    "    i+=1"
   ]
  },
  {
   "cell_type": "code",
   "execution_count": 39,
   "id": "783c325d-667c-4fd5-a8f1-d74a15379b97",
   "metadata": {},
   "outputs": [
    {
     "name": "stdin",
     "output_type": "stream",
     "text": [
      "Enter any number: 53\n"
     ]
    },
    {
     "name": "stdout",
     "output_type": "stream",
     "text": [
      "Prime Number\n"
     ]
    }
   ],
   "source": [
    "# 2. Write a python program to check if a given number is prime or not.\n",
    "\n",
    "user=int(input('Enter any number:'))\n",
    "\n",
    "if user==1:\n",
    "    print(\"Not Prime Number.\")\n",
    "elif user>1:\n",
    "    for i in range(2,user):\n",
    "        if (user %i)==0:\n",
    "            print('Not Prime Number')\n",
    "            break\n",
    "    else:\n",
    "        print('Prime Number')\n",
    "\n",
    "else:\n",
    "    print(f'{user} is not prime number')\n",
    "    "
   ]
  },
  {
   "cell_type": "code",
   "execution_count": 46,
   "id": "f6164ea1-de9a-4dcd-9013-95c46d0343a9",
   "metadata": {},
   "outputs": [
    {
     "name": "stdout",
     "output_type": "stream",
     "text": [
      "Ajinkya\n",
      "Akash\n",
      "Amit\n",
      "ajay\n"
     ]
    }
   ],
   "source": [
    "# 3. Given a list of names, print all names starting with the letters \"A\"\n",
    "\n",
    "list=['Ajinkya','Pradnya','Uday','Akash','Rahul','Amit','ajay']\n",
    "i=0\n",
    "while True:\n",
    "    if list[i][0]=='A':\n",
    "        print(list[i])\n",
    "    elif list[i][0]=='a':\n",
    "        print(list[i])\n",
    "        break\n",
    "    i+=1"
   ]
  },
  {
   "cell_type": "code",
   "execution_count": 92,
   "id": "0b94430a-c269-46ec-a9f3-d45f083b8b4f",
   "metadata": {},
   "outputs": [
    {
     "name": "stdin",
     "output_type": "stream",
     "text": [
      "Enter any number :  5\n"
     ]
    },
    {
     "name": "stdout",
     "output_type": "stream",
     "text": [
      "Factorial of 5 is :  120\n"
     ]
    }
   ],
   "source": [
    "# 4. Write a program that calculates the factorial of a given number.\n",
    "\n",
    "\n",
    "num = int(input(\"Enter any number : \"))\n",
    "\n",
    "i = 1\n",
    "f = 1\n",
    "while i<=num:\n",
    "    f = f*i\n",
    "    i+=1\n",
    "print(f\"Factorial of {num} is : \",f)"
   ]
  },
  {
   "cell_type": "code",
   "execution_count": 48,
   "id": "89c51aa5-466e-4269-bbc5-2b1198ae9f4d",
   "metadata": {},
   "outputs": [
    {
     "name": "stdin",
     "output_type": "stream",
     "text": [
      "Enter any number 3\n"
     ]
    },
    {
     "name": "stdout",
     "output_type": "stream",
     "text": [
      "The factorial of the number is : 6\n"
     ]
    }
   ],
   "source": [
    "n=int(input('Enter any number'))\n",
    "sum=1\n",
    "for i in range(1,n+1):\n",
    "    sum=sum*i\n",
    "print('The factorial of the number is :',sum)"
   ]
  },
  {
   "cell_type": "code",
   "execution_count": 90,
   "id": "cabf7c64-3f2e-4a38-bb19-12e0db19e195",
   "metadata": {},
   "outputs": [],
   "source": [
    "# 5. Create a loop that print all prime numbers between 1 and 50.\n",
    "\n",
    "\n",
    "#user=int(input('Enter any number:')"
   ]
  },
  {
   "cell_type": "code",
   "execution_count": 89,
   "id": "719a133e-1cca-4999-a24c-7831b9619cc1",
   "metadata": {},
   "outputs": [
    {
     "name": "stdin",
     "output_type": "stream",
     "text": [
      "Enter your range: 2\n",
      "Enter your list here 1: cat\n",
      "Enter your list here 2: Welcome\n"
     ]
    },
    {
     "name": "stdout",
     "output_type": "stream",
     "text": [
      "['cat', 'Welcome']\n",
      "['Welcome']\n"
     ]
    }
   ],
   "source": [
    "# 6. Given a list of words, count the number of words with more than five characters.\n",
    "user=int(input('Enter your range:'))\n",
    "list=[]\n",
    "count=[]\n",
    "x=1\n",
    "for i in range(1,user+1):\n",
    "    user2=input(f'Enter your list here {i}:')\n",
    "    list.append(user2)\n",
    "    for x in list:\n",
    "        if len(x)>5:\n",
    "            count.append(x)   \n",
    "print(list)\n",
    "print(count)"
   ]
  },
  {
   "cell_type": "code",
   "execution_count": 76,
   "id": "35ce3640-3f9e-4acc-8c48-78d0eadec56e",
   "metadata": {},
   "outputs": [
    {
     "name": "stdout",
     "output_type": "stream",
     "text": [
      "2\n",
      "3\n",
      "5\n",
      "7\n",
      "11\n",
      "13\n",
      "17\n",
      "19\n",
      "23\n",
      "29\n",
      "31\n",
      "37\n",
      "41\n",
      "43\n",
      "47\n"
     ]
    }
   ],
   "source": [
    "for num in range(1, 51):\n",
    "   if num > 1:\n",
    "       for i in range(2, num):\n",
    "           if (num % i) == 0:\n",
    "               break\n",
    "       else:\n",
    "           print(num)"
   ]
  },
  {
   "cell_type": "code",
   "execution_count": 84,
   "id": "3a293511-4b31-4843-b9a4-14481834fc04",
   "metadata": {},
   "outputs": [
    {
     "name": "stdout",
     "output_type": "stream",
     "text": [
      "['Welcome', 'congratulations']\n"
     ]
    }
   ],
   "source": [
    "#Given the list of names count the number of names having more than five characters.\n",
    "\n",
    "list = ['Welcome','cat','dog','congratulations']\n",
    "new=[]\n",
    "for i in list:\n",
    "    if len(i) > 5:\n",
    "        new.append(i)\n",
    "print(new)"
   ]
  },
  {
   "cell_type": "code",
   "execution_count": 2,
   "id": "6c760135-3514-40c0-b3c6-8e62d9731d39",
   "metadata": {},
   "outputs": [
    {
     "name": "stdout",
     "output_type": "stream",
     "text": [
      "10\n",
      "11\n",
      "12\n",
      "13\n",
      "14\n",
      "15\n",
      "16\n",
      "17\n",
      "18\n",
      "19\n",
      "20\n"
     ]
    }
   ],
   "source": [
    "for i in range(10,21):\n",
    "    print(i)"
   ]
  },
  {
   "cell_type": "code",
   "execution_count": 3,
   "id": "804e627f-090e-40c3-9a2d-98edfcd58a21",
   "metadata": {},
   "outputs": [
    {
     "name": "stdout",
     "output_type": "stream",
     "text": [
      "50\n",
      "52\n",
      "54\n",
      "56\n",
      "58\n",
      "60\n",
      "62\n",
      "64\n",
      "66\n",
      "68\n",
      "70\n",
      "72\n",
      "74\n",
      "76\n",
      "78\n",
      "80\n",
      "82\n",
      "84\n",
      "86\n",
      "88\n",
      "90\n",
      "92\n",
      "94\n",
      "96\n",
      "98\n"
     ]
    }
   ],
   "source": [
    "for i in range(50,100,2):\n",
    "    print(i)"
   ]
  },
  {
   "cell_type": "code",
   "execution_count": 4,
   "id": "4a1fe33a-7666-4886-9929-d4f8cb68af9c",
   "metadata": {},
   "outputs": [
    {
     "name": "stdout",
     "output_type": "stream",
     "text": [
      "50\n",
      "52\n",
      "54\n",
      "56\n",
      "58\n",
      "60\n",
      "62\n",
      "64\n",
      "66\n",
      "68\n",
      "70\n",
      "72\n",
      "74\n",
      "76\n",
      "78\n",
      "80\n",
      "82\n",
      "84\n",
      "86\n",
      "88\n",
      "90\n",
      "92\n",
      "94\n",
      "96\n",
      "98\n"
     ]
    }
   ],
   "source": [
    "for i in range(50,100):\n",
    "    if i%2==0:\n",
    "        print(i)"
   ]
  },
  {
   "cell_type": "code",
   "execution_count": 5,
   "id": "fbaec0a4-1a26-4369-b2a8-e02579d9dd38",
   "metadata": {},
   "outputs": [
    {
     "name": "stdout",
     "output_type": "stream",
     "text": [
      "51\n",
      "53\n",
      "55\n",
      "57\n",
      "59\n",
      "61\n",
      "63\n",
      "65\n",
      "67\n",
      "69\n",
      "71\n",
      "73\n",
      "75\n",
      "77\n",
      "79\n",
      "81\n",
      "83\n",
      "85\n",
      "87\n",
      "89\n",
      "91\n",
      "93\n",
      "95\n",
      "97\n",
      "99\n"
     ]
    }
   ],
   "source": [
    "for i in range(51,100,2):\n",
    "    print(i)"
   ]
  },
  {
   "cell_type": "code",
   "execution_count": 13,
   "id": "e2104de6-4181-4a1c-8dd0-eaed79763725",
   "metadata": {},
   "outputs": [
    {
     "name": "stdout",
     "output_type": "stream",
     "text": [
      "51|53|55|57|59|61|63|65|67|69|71|73|75|77|79|81|83|85|87|89|91|93|95|97|99|"
     ]
    }
   ],
   "source": [
    "for i in range(50,100):\n",
    "    if i%2!=0:\n",
    "        print(i,end='|')"
   ]
  },
  {
   "cell_type": "code",
   "execution_count": 7,
   "id": "e7362cef-21e2-4ccd-b6ce-ca02029ddfad",
   "metadata": {},
   "outputs": [
    {
     "data": {
      "text/plain": [
       "range(0, 100)"
      ]
     },
     "execution_count": 7,
     "metadata": {},
     "output_type": "execute_result"
    }
   ],
   "source": [
    "range(100)"
   ]
  },
  {
   "cell_type": "code",
   "execution_count": null,
   "id": "7d2e243e-39d1-4392-9b2b-86b93a218afa",
   "metadata": {},
   "outputs": [],
   "source": []
  },
  {
   "cell_type": "code",
   "execution_count": 18,
   "id": "ad0185b3-fc2f-4a1d-b544-9ed95736f6c3",
   "metadata": {},
   "outputs": [
    {
     "name": "stdin",
     "output_type": "stream",
     "text": [
      "Enter any number: 5\n",
      "Enter your number 1: 12\n"
     ]
    },
    {
     "name": "stdout",
     "output_type": "stream",
     "text": [
      "The number is even\n"
     ]
    },
    {
     "name": "stdin",
     "output_type": "stream",
     "text": [
      "Enter your number 2: 45\n"
     ]
    },
    {
     "name": "stdout",
     "output_type": "stream",
     "text": [
      "The number is odd\n"
     ]
    },
    {
     "name": "stdin",
     "output_type": "stream",
     "text": [
      "Enter your number 3: 12\n"
     ]
    },
    {
     "name": "stdout",
     "output_type": "stream",
     "text": [
      "The number is even\n"
     ]
    },
    {
     "name": "stdin",
     "output_type": "stream",
     "text": [
      "Enter your number 4: 36\n"
     ]
    },
    {
     "name": "stdout",
     "output_type": "stream",
     "text": [
      "The number is even\n"
     ]
    },
    {
     "name": "stdin",
     "output_type": "stream",
     "text": [
      "Enter your number 5: 78\n"
     ]
    },
    {
     "name": "stdout",
     "output_type": "stream",
     "text": [
      "The number is even\n"
     ]
    }
   ],
   "source": [
    "a=int(input('Enter any number:'))\n",
    "\n",
    "for i in range(1,a+1):\n",
    "    b=int(input(f'Enter your number {i}:'))\n",
    "    if b%2==0:\n",
    "        print('The number is even')\n",
    "    elif b%2!=0:\n",
    "        print('The number is odd')"
   ]
  },
  {
   "cell_type": "code",
   "execution_count": 34,
   "id": "fadcd657-60a0-4fb5-bee1-038852834cf7",
   "metadata": {},
   "outputs": [
    {
     "name": "stdin",
     "output_type": "stream",
     "text": [
      "Enter your range: 5\n"
     ]
    },
    {
     "ename": "TypeError",
     "evalue": "'int' object is not callable",
     "output_type": "error",
     "traceback": [
      "\u001b[1;31m---------------------------------------------------------------------------\u001b[0m",
      "\u001b[1;31mTypeError\u001b[0m                                 Traceback (most recent call last)",
      "Cell \u001b[1;32mIn[34], line 4\u001b[0m\n\u001b[0;32m      2\u001b[0m list1\u001b[38;5;241m=\u001b[39m[]\n\u001b[0;32m      3\u001b[0m list2\u001b[38;5;241m=\u001b[39m[]\n\u001b[1;32m----> 4\u001b[0m \u001b[38;5;28;01mfor\u001b[39;00m i \u001b[38;5;129;01min\u001b[39;00m \u001b[38;5;28;43mrange\u001b[39;49m\u001b[43m(\u001b[49m\u001b[38;5;241;43m1\u001b[39;49m\u001b[43m,\u001b[49m\u001b[43mx\u001b[49m\u001b[38;5;241;43m+\u001b[39;49m\u001b[38;5;241;43m1\u001b[39;49m\u001b[43m)\u001b[49m:\n\u001b[0;32m      5\u001b[0m     user1\u001b[38;5;241m=\u001b[39m\u001b[38;5;28mint\u001b[39m(\u001b[38;5;28minput\u001b[39m(\u001b[38;5;124mf\u001b[39m\u001b[38;5;124m'\u001b[39m\u001b[38;5;124mEnter your number \u001b[39m\u001b[38;5;132;01m{\u001b[39;00mi\u001b[38;5;132;01m}\u001b[39;00m\u001b[38;5;124m:\u001b[39m\u001b[38;5;124m'\u001b[39m))\n\u001b[0;32m      6\u001b[0m     \u001b[38;5;28;01mif\u001b[39;00m user1\u001b[38;5;241m%\u001b[39m\u001b[38;5;241m2\u001b[39m\u001b[38;5;241m==\u001b[39m\u001b[38;5;241m0\u001b[39m:\n",
      "\u001b[1;31mTypeError\u001b[0m: 'int' object is not callable"
     ]
    }
   ],
   "source": [
    "x=int(input('Enter your range:'))\n",
    "list1=[]\n",
    "list2=[]\n",
    "for i in range(1,x+1):\n",
    "    user1=int(input(f'Enter your number {i}:'))\n",
    "    if user1%2==0:\n",
    "        list1.append(user1)\n",
    "        #print(list1)\n",
    "    else:\n",
    "        list2.append(user1)\n",
    "        #print('Odd Number:',list2)\n",
    "\n",
    "print('Even Number',list1,'\\nOdd Number',list2)"
   ]
  },
  {
   "cell_type": "code",
   "execution_count": 35,
   "id": "db2545bc-8d7b-4010-8ef7-f87d9094be01",
   "metadata": {},
   "outputs": [
    {
     "name": "stdin",
     "output_type": "stream",
     "text": [
      "Enter your range: 2\n"
     ]
    },
    {
     "ename": "TypeError",
     "evalue": "'int' object is not callable",
     "output_type": "error",
     "traceback": [
      "\u001b[1;31m---------------------------------------------------------------------------\u001b[0m",
      "\u001b[1;31mTypeError\u001b[0m                                 Traceback (most recent call last)",
      "Cell \u001b[1;32mIn[35], line 4\u001b[0m\n\u001b[0;32m      2\u001b[0m list1\u001b[38;5;241m=\u001b[39m[]\n\u001b[0;32m      3\u001b[0m list2\u001b[38;5;241m=\u001b[39m[]\n\u001b[1;32m----> 4\u001b[0m \u001b[38;5;28;01mfor\u001b[39;00m i \u001b[38;5;129;01min\u001b[39;00m \u001b[38;5;28;43mrange\u001b[39;49m\u001b[43m(\u001b[49m\u001b[38;5;241;43m1\u001b[39;49m\u001b[43m,\u001b[49m\u001b[43mx\u001b[49m\u001b[38;5;241;43m+\u001b[39;49m\u001b[38;5;241;43m1\u001b[39;49m\u001b[43m)\u001b[49m:\n\u001b[0;32m      5\u001b[0m     user1\u001b[38;5;241m=\u001b[39m\u001b[38;5;28mint\u001b[39m(\u001b[38;5;28minput\u001b[39m(\u001b[38;5;124mf\u001b[39m\u001b[38;5;124m'\u001b[39m\u001b[38;5;124mEnter your number \u001b[39m\u001b[38;5;132;01m{\u001b[39;00mi\u001b[38;5;132;01m}\u001b[39;00m\u001b[38;5;124m:\u001b[39m\u001b[38;5;124m'\u001b[39m))\n\u001b[0;32m      6\u001b[0m     \u001b[38;5;28;01mif\u001b[39;00m user1\u001b[38;5;241m%\u001b[39m\u001b[38;5;241m2\u001b[39m\u001b[38;5;241m==\u001b[39m\u001b[38;5;241m0\u001b[39m:\n",
      "\u001b[1;31mTypeError\u001b[0m: 'int' object is not callable"
     ]
    }
   ],
   "source": [
    "x=int(input('Enter your range:'))\n",
    "list1=[]\n",
    "list2=[]\n",
    "for i in range(1,x+1):\n",
    "    user1=int(input(f'Enter your number {i}:'))\n",
    "    if user1%2==0:\n",
    "        list1.append(user1)\n",
    "        #print(list1)\n",
    "    else:\n",
    "        list2.append(user1)\n",
    "        #print('Odd Number:',list2)\n",
    "\n",
    "print('Even Number',list1,'\\nOdd Number',list2)"
   ]
  },
  {
   "cell_type": "code",
   "execution_count": null,
   "id": "cc321228-530c-48c3-b0f9-dbe23ac7ff8c",
   "metadata": {},
   "outputs": [],
   "source": []
  }
 ],
 "metadata": {
  "kernelspec": {
   "display_name": "Python 3 (ipykernel)",
   "language": "python",
   "name": "python3"
  },
  "language_info": {
   "codemirror_mode": {
    "name": "ipython",
    "version": 3
   },
   "file_extension": ".py",
   "mimetype": "text/x-python",
   "name": "python",
   "nbconvert_exporter": "python",
   "pygments_lexer": "ipython3",
   "version": "3.11.4"
  }
 },
 "nbformat": 4,
 "nbformat_minor": 5
}
