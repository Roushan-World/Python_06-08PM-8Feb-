{
 "cells": [
  {
   "cell_type": "markdown",
   "id": "02b821d4-8eae-478f-b270-02d8a7b8bc02",
   "metadata": {},
   "source": [
    "# 10. Exception Handling in Python\n",
    "\n",
    " * __An exception is an event, which occurs during the execution of a program that disrupts the normal flow of the program's instructions.__\n",
    " * __In general, when a Python scriipts encounters a situation that it cannot cope with, it raises an exception.__\n",
    " * __An exception is a Python object that represents an error.__\n",
    " * __When a Python scripts raises an exception, it must either handle the exception immediately otherwise it terminates and quits.__\n",
    " * __If you have some suspicious code that may raise an exception, you can defend your program by placing the suspicious code in a try:blcok.__\n",
    " * __After the try:block, include an except:statement, followed by a block of code which handles the problem as elegantly as possible.__\n",
    " * __Common Exceptions__\n",
    " * __SyntaxError__\n",
    " * __IdentationError__\n",
    " * __ZeroDivisionError.__\n",
    " * __KeyboardInterrupt__\n",
    " * __NameError__\n",
    " * __ValueError__\n",
    " * __IOError__\n",
    " * __EOFError__\n",
    " * __UnicodeError__"
   ]
  },
  {
   "cell_type": "code",
   "execution_count": 1,
   "id": "3329e5d2-682a-4c9d-b651-78d20c5922aa",
   "metadata": {},
   "outputs": [
    {
     "ename": "ZeroDivisionError",
     "evalue": "division by zero",
     "output_type": "error",
     "traceback": [
      "\u001b[1;31m---------------------------------------------------------------------------\u001b[0m",
      "\u001b[1;31mZeroDivisionError\u001b[0m                         Traceback (most recent call last)",
      "Cell \u001b[1;32mIn[1], line 1\u001b[0m\n\u001b[1;32m----> 1\u001b[0m \u001b[38;5;241;43m1\u001b[39;49m\u001b[38;5;241;43m/\u001b[39;49m\u001b[38;5;241;43m0\u001b[39;49m\n",
      "\u001b[1;31mZeroDivisionError\u001b[0m: division by zero"
     ]
    }
   ],
   "source": [
    "1/0"
   ]
  },
  {
   "cell_type": "code",
   "execution_count": 2,
   "id": "d5f185b6-b5b9-416f-88f3-aebbacb87d8f",
   "metadata": {},
   "outputs": [
    {
     "name": "stdout",
     "output_type": "stream",
     "text": [
      "Hello world\n",
      "Welcome\n"
     ]
    },
    {
     "ename": "NameError",
     "evalue": "name 'frint' is not defined",
     "output_type": "error",
     "traceback": [
      "\u001b[1;31m---------------------------------------------------------------------------\u001b[0m",
      "\u001b[1;31mNameError\u001b[0m                                 Traceback (most recent call last)",
      "Cell \u001b[1;32mIn[2], line 3\u001b[0m\n\u001b[0;32m      1\u001b[0m \u001b[38;5;28mprint\u001b[39m(\u001b[38;5;124m'\u001b[39m\u001b[38;5;124mHello world\u001b[39m\u001b[38;5;124m'\u001b[39m)\n\u001b[0;32m      2\u001b[0m \u001b[38;5;28mprint\u001b[39m(\u001b[38;5;124m'\u001b[39m\u001b[38;5;124mWelcome\u001b[39m\u001b[38;5;124m'\u001b[39m)\n\u001b[1;32m----> 3\u001b[0m \u001b[43mfrint\u001b[49m(\u001b[38;5;124m'\u001b[39m\u001b[38;5;124mAkash\u001b[39m\u001b[38;5;124m'\u001b[39m)\n\u001b[0;32m      4\u001b[0m \u001b[38;5;28mprint\u001b[39m(\u001b[38;5;124m'\u001b[39m\u001b[38;5;124mUday rasal\u001b[39m\u001b[38;5;124m'\u001b[39m)\n",
      "\u001b[1;31mNameError\u001b[0m: name 'frint' is not defined"
     ]
    }
   ],
   "source": [
    "print('Hello world')\n",
    "print('Welcome')\n",
    "frint('Akash')\n",
    "print('Uday rasal')"
   ]
  },
  {
   "cell_type": "code",
   "execution_count": 6,
   "id": "b17152c2-3ef8-4065-b8f1-2ed33e72e9bd",
   "metadata": {},
   "outputs": [
    {
     "name": "stdout",
     "output_type": "stream",
     "text": [
      "This gives an error\n",
      "done!\n"
     ]
    }
   ],
   "source": [
    "try:\n",
    "    1/0\n",
    "\n",
    "except ZeroDivisionError :\n",
    "    print('This gives an error')\n",
    "\n",
    "\n",
    "print('done!')"
   ]
  },
  {
   "cell_type": "code",
   "execution_count": 5,
   "id": "b02b80ec-8d96-4e9e-ba50-4590afc35041",
   "metadata": {},
   "outputs": [
    {
     "ename": "ZeroDivisionError",
     "evalue": "division by zero",
     "output_type": "error",
     "traceback": [
      "\u001b[1;31m---------------------------------------------------------------------------\u001b[0m",
      "\u001b[1;31mZeroDivisionError\u001b[0m                         Traceback (most recent call last)",
      "Cell \u001b[1;32mIn[5], line 1\u001b[0m\n\u001b[1;32m----> 1\u001b[0m \u001b[38;5;241;43m1\u001b[39;49m\u001b[38;5;241;43m/\u001b[39;49m\u001b[38;5;241;43m0\u001b[39;49m\n\u001b[0;32m      2\u001b[0m \u001b[38;5;28mprint\u001b[39m(\u001b[38;5;124m'\u001b[39m\u001b[38;5;124mhello world\u001b[39m\u001b[38;5;124m'\u001b[39m)\n",
      "\u001b[1;31mZeroDivisionError\u001b[0m: division by zero"
     ]
    }
   ],
   "source": [
    "1/0\n",
    "print('hello world')"
   ]
  },
  {
   "cell_type": "code",
   "execution_count": 13,
   "id": "06f17b46-b5cf-4ce2-9b31-06d73497eb68",
   "metadata": {},
   "outputs": [
    {
     "name": "stdin",
     "output_type": "stream",
     "text": [
      "Enter first number: 78\n",
      "Enter second number: 1\n"
     ]
    },
    {
     "name": "stdout",
     "output_type": "stream",
     "text": [
      "The division of two numbers is 78.0\n"
     ]
    }
   ],
   "source": [
    "try:\n",
    "    x=int(input('Enter first number:'))\n",
    "    y=int(input('Enter second number:'))\n",
    "    z=x/y\n",
    "    print(\"The division of two numbers is\",z)\n",
    "except ZeroDivisionError:\n",
    "    print('Denominator Should not be 0')"
   ]
  },
  {
   "cell_type": "code",
   "execution_count": 20,
   "id": "b5e0c62e-8442-40b4-935d-2680fd54b37d",
   "metadata": {},
   "outputs": [
    {
     "name": "stdout",
     "output_type": "stream",
     "text": [
      "0.0\n"
     ]
    }
   ],
   "source": [
    "nlis=[1]   #=0\n",
    "count=0\n",
    "\n",
    "try:\n",
    "    mean=count/len(nlis)\n",
    "    print(mean)\n",
    "\n",
    "except ZeroDivisionError :\n",
    "    print('This code gives a ZeroDivisionError')"
   ]
  },
  {
   "cell_type": "code",
   "execution_count": 21,
   "id": "7fe4aad2-bdcf-4458-a36b-51ff665e6922",
   "metadata": {},
   "outputs": [
    {
     "ename": "ZeroDivisionError",
     "evalue": "division by zero",
     "output_type": "error",
     "traceback": [
      "\u001b[1;31m---------------------------------------------------------------------------\u001b[0m",
      "\u001b[1;31mZeroDivisionError\u001b[0m                         Traceback (most recent call last)",
      "Cell \u001b[1;32mIn[21], line 1\u001b[0m\n\u001b[1;32m----> 1\u001b[0m \u001b[38;5;28;43;01mTrue\u001b[39;49;00m\u001b[38;5;241;43m/\u001b[39;49m\u001b[38;5;28;43;01mFalse\u001b[39;49;00m\n",
      "\u001b[1;31mZeroDivisionError\u001b[0m: division by zero"
     ]
    }
   ],
   "source": [
    "True/False"
   ]
  },
  {
   "cell_type": "code",
   "execution_count": 22,
   "id": "774e50d9-fc5b-477a-a393-2dd356c35922",
   "metadata": {},
   "outputs": [
    {
     "name": "stdout",
     "output_type": "stream",
     "text": [
      "<class 'bool'>\n"
     ]
    }
   ],
   "source": [
    "print(type(False))"
   ]
  },
  {
   "cell_type": "code",
   "execution_count": 23,
   "id": "6d0356e4-5545-4a74-8a5e-dc73bdcc752f",
   "metadata": {},
   "outputs": [
    {
     "name": "stdout",
     "output_type": "stream",
     "text": [
      "0\n"
     ]
    }
   ],
   "source": [
    "print(int(False))"
   ]
  },
  {
   "cell_type": "code",
   "execution_count": 24,
   "id": "a9a6ef30-e0bb-4adf-bcd6-a099b12ca95f",
   "metadata": {},
   "outputs": [
    {
     "name": "stdout",
     "output_type": "stream",
     "text": [
      "1\n"
     ]
    }
   ],
   "source": [
    "print(int(True))"
   ]
  },
  {
   "cell_type": "code",
   "execution_count": 25,
   "id": "3c8c3b3e-d948-486e-95dd-de7f628d1b7f",
   "metadata": {},
   "outputs": [
    {
     "data": {
      "text/plain": [
       "0.0"
      ]
     },
     "execution_count": 25,
     "metadata": {},
     "output_type": "execute_result"
    }
   ],
   "source": [
    "False/True"
   ]
  },
  {
   "cell_type": "code",
   "execution_count": 26,
   "id": "d50a2d2a-2a1b-4fec-a856-c7b24939aea6",
   "metadata": {},
   "outputs": [
    {
     "ename": "ZeroDivisionError",
     "evalue": "division by zero",
     "output_type": "error",
     "traceback": [
      "\u001b[1;31m---------------------------------------------------------------------------\u001b[0m",
      "\u001b[1;31mZeroDivisionError\u001b[0m                         Traceback (most recent call last)",
      "Cell \u001b[1;32mIn[26], line 1\u001b[0m\n\u001b[1;32m----> 1\u001b[0m \u001b[38;5;28;43;01mTrue\u001b[39;49;00m\u001b[38;5;241;43m/\u001b[39;49m\u001b[38;5;28;43;01mFalse\u001b[39;49;00m\n",
      "\u001b[1;31mZeroDivisionError\u001b[0m: division by zero"
     ]
    }
   ],
   "source": [
    "True/False"
   ]
  },
  {
   "cell_type": "code",
   "execution_count": 31,
   "id": "a7a1876c-6e72-48d6-8a79-844eae2fa496",
   "metadata": {},
   "outputs": [
    {
     "name": "stdout",
     "output_type": "stream",
     "text": [
      "Babli\n"
     ]
    }
   ],
   "source": [
    "try:\n",
    "    True/False\n",
    "\n",
    "except ZeroDivisionError:\n",
    "    print('Babli')"
   ]
  },
  {
   "cell_type": "code",
   "execution_count": 35,
   "id": "a80ffb07-936f-4769-9444-dd8639ebbd8d",
   "metadata": {},
   "outputs": [
    {
     "ename": "TypeError",
     "evalue": "'float' object is not iterable",
     "output_type": "error",
     "traceback": [
      "\u001b[1;31m---------------------------------------------------------------------------\u001b[0m",
      "\u001b[1;31mTypeError\u001b[0m                                 Traceback (most recent call last)",
      "Cell \u001b[1;32mIn[35], line 3\u001b[0m\n\u001b[0;32m      1\u001b[0m x\u001b[38;5;241m=\u001b[39m[\u001b[38;5;241m10\u001b[39m,\u001b[38;5;241m20\u001b[39m,\u001b[38;5;241m30\u001b[39m]\n\u001b[1;32m----> 3\u001b[0m y\u001b[38;5;241m=\u001b[39m\u001b[38;5;28;43msum\u001b[39;49m\u001b[43m(\u001b[49m\u001b[43mz\u001b[49m\u001b[43m)\u001b[49m\u001b[38;5;241m/\u001b[39m\u001b[38;5;241m0\u001b[39m\n\u001b[0;32m      4\u001b[0m y\n",
      "\u001b[1;31mTypeError\u001b[0m: 'float' object is not iterable"
     ]
    }
   ],
   "source": [
    "x=[10,20,30]\n",
    "\n",
    "y=sum(z)/0\n",
    "y"
   ]
  },
  {
   "cell_type": "code",
   "execution_count": 36,
   "id": "fd00e415-c3ca-4f29-895c-9b5c1f455045",
   "metadata": {},
   "outputs": [],
   "source": [
    "# Wap to find the distance travelled by the user: Distance=Speed*Time  \n",
    "\n",
    "# if time will be zero it display the output for warning message about time."
   ]
  },
  {
   "cell_type": "code",
   "execution_count": 37,
   "id": "0b424a78-37dd-4a3b-a76f-1394b14f8dbe",
   "metadata": {},
   "outputs": [
    {
     "ename": "KeyboardInterrupt",
     "evalue": "Interrupted by user",
     "output_type": "error",
     "traceback": [
      "\u001b[1;31m---------------------------------------------------------------------------\u001b[0m",
      "\u001b[1;31mKeyboardInterrupt\u001b[0m                         Traceback (most recent call last)",
      "Cell \u001b[1;32mIn[37], line 4\u001b[0m\n\u001b[0;32m      1\u001b[0m \u001b[38;5;66;03m# Speed=Distance/Time\u001b[39;00m\n\u001b[0;32m      3\u001b[0m \u001b[38;5;28;01mtry\u001b[39;00m:\n\u001b[1;32m----> 4\u001b[0m    dist \u001b[38;5;241m=\u001b[39m \u001b[38;5;28mint\u001b[39m(\u001b[38;5;28;43minput\u001b[39;49m\u001b[43m(\u001b[49m\u001b[38;5;124;43m\"\u001b[39;49m\u001b[38;5;124;43mEnter your speed\u001b[39;49m\u001b[38;5;124;43m\"\u001b[39;49m\u001b[43m)\u001b[49m)\n\u001b[0;32m      5\u001b[0m    time \u001b[38;5;241m=\u001b[39m \u001b[38;5;28mint\u001b[39m(\u001b[38;5;28minput\u001b[39m(\u001b[38;5;124m\"\u001b[39m\u001b[38;5;124mEnter time\u001b[39m\u001b[38;5;124m\"\u001b[39m))\n\u001b[0;32m      6\u001b[0m    speed \u001b[38;5;241m=\u001b[39m dist \u001b[38;5;241m/\u001b[39m time\n",
      "File \u001b[1;32mC:\\Python312\\Lib\\site-packages\\ipykernel\\kernelbase.py:1282\u001b[0m, in \u001b[0;36mKernel.raw_input\u001b[1;34m(self, prompt)\u001b[0m\n\u001b[0;32m   1280\u001b[0m     msg \u001b[38;5;241m=\u001b[39m \u001b[38;5;124m\"\u001b[39m\u001b[38;5;124mraw_input was called, but this frontend does not support input requests.\u001b[39m\u001b[38;5;124m\"\u001b[39m\n\u001b[0;32m   1281\u001b[0m     \u001b[38;5;28;01mraise\u001b[39;00m StdinNotImplementedError(msg)\n\u001b[1;32m-> 1282\u001b[0m \u001b[38;5;28;01mreturn\u001b[39;00m \u001b[38;5;28;43mself\u001b[39;49m\u001b[38;5;241;43m.\u001b[39;49m\u001b[43m_input_request\u001b[49m\u001b[43m(\u001b[49m\n\u001b[0;32m   1283\u001b[0m \u001b[43m    \u001b[49m\u001b[38;5;28;43mstr\u001b[39;49m\u001b[43m(\u001b[49m\u001b[43mprompt\u001b[49m\u001b[43m)\u001b[49m\u001b[43m,\u001b[49m\n\u001b[0;32m   1284\u001b[0m \u001b[43m    \u001b[49m\u001b[38;5;28;43mself\u001b[39;49m\u001b[38;5;241;43m.\u001b[39;49m\u001b[43m_parent_ident\u001b[49m\u001b[43m[\u001b[49m\u001b[38;5;124;43m\"\u001b[39;49m\u001b[38;5;124;43mshell\u001b[39;49m\u001b[38;5;124;43m\"\u001b[39;49m\u001b[43m]\u001b[49m\u001b[43m,\u001b[49m\n\u001b[0;32m   1285\u001b[0m \u001b[43m    \u001b[49m\u001b[38;5;28;43mself\u001b[39;49m\u001b[38;5;241;43m.\u001b[39;49m\u001b[43mget_parent\u001b[49m\u001b[43m(\u001b[49m\u001b[38;5;124;43m\"\u001b[39;49m\u001b[38;5;124;43mshell\u001b[39;49m\u001b[38;5;124;43m\"\u001b[39;49m\u001b[43m)\u001b[49m\u001b[43m,\u001b[49m\n\u001b[0;32m   1286\u001b[0m \u001b[43m    \u001b[49m\u001b[43mpassword\u001b[49m\u001b[38;5;241;43m=\u001b[39;49m\u001b[38;5;28;43;01mFalse\u001b[39;49;00m\u001b[43m,\u001b[49m\n\u001b[0;32m   1287\u001b[0m \u001b[43m\u001b[49m\u001b[43m)\u001b[49m\n",
      "File \u001b[1;32mC:\\Python312\\Lib\\site-packages\\ipykernel\\kernelbase.py:1325\u001b[0m, in \u001b[0;36mKernel._input_request\u001b[1;34m(self, prompt, ident, parent, password)\u001b[0m\n\u001b[0;32m   1322\u001b[0m \u001b[38;5;28;01mexcept\u001b[39;00m \u001b[38;5;167;01mKeyboardInterrupt\u001b[39;00m:\n\u001b[0;32m   1323\u001b[0m     \u001b[38;5;66;03m# re-raise KeyboardInterrupt, to truncate traceback\u001b[39;00m\n\u001b[0;32m   1324\u001b[0m     msg \u001b[38;5;241m=\u001b[39m \u001b[38;5;124m\"\u001b[39m\u001b[38;5;124mInterrupted by user\u001b[39m\u001b[38;5;124m\"\u001b[39m\n\u001b[1;32m-> 1325\u001b[0m     \u001b[38;5;28;01mraise\u001b[39;00m \u001b[38;5;167;01mKeyboardInterrupt\u001b[39;00m(msg) \u001b[38;5;28;01mfrom\u001b[39;00m \u001b[38;5;28;01mNone\u001b[39;00m\n\u001b[0;32m   1326\u001b[0m \u001b[38;5;28;01mexcept\u001b[39;00m \u001b[38;5;167;01mException\u001b[39;00m:\n\u001b[0;32m   1327\u001b[0m     \u001b[38;5;28mself\u001b[39m\u001b[38;5;241m.\u001b[39mlog\u001b[38;5;241m.\u001b[39mwarning(\u001b[38;5;124m\"\u001b[39m\u001b[38;5;124mInvalid Message:\u001b[39m\u001b[38;5;124m\"\u001b[39m, exc_info\u001b[38;5;241m=\u001b[39m\u001b[38;5;28;01mTrue\u001b[39;00m)\n",
      "\u001b[1;31mKeyboardInterrupt\u001b[0m: Interrupted by user"
     ]
    },
    {
     "name": "stdin",
     "output_type": "stream",
     "text": [
      "Enter your speed \n"
     ]
    }
   ],
   "source": [
    " # Speed=Distance/Time\n",
    "\n",
    "try:\n",
    "    dist = int(input(\"Enter your speed\"))\n",
    "    time = int(input(\"Enter time\"))\n",
    "    speed = dist / time\n",
    "    print(\"Distance travelled by user is : \",distance)\n",
    "except ValueError:\n",
    "    print(\"Enter integers it's a ValueError\")\n",
    "except ZeroDivisionError:\n",
    "    print(\"Denominator can not be 0,it's ZeroDivisionError\")"
   ]
  },
  {
   "cell_type": "code",
   "execution_count": 39,
   "id": "3ba4c64f-61d7-46b9-92be-e0a0799241b5",
   "metadata": {},
   "outputs": [
    {
     "name": "stdin",
     "output_type": "stream",
     "text": [
      "Enter your speed 45\n",
      "Enter time 5\n"
     ]
    },
    {
     "name": "stdout",
     "output_type": "stream",
     "text": [
      "Distance travelled by user is :  225\n"
     ]
    }
   ],
   "source": [
    "#WAP Distance calculate \n",
    "\n",
    "try:\n",
    "    speed = int(input(\"Enter your speed\"))\n",
    "    time = int(input(\"Enter time\"))\n",
    "    distance = speed * time\n",
    "    print(\"Distance travelled by user is : \",distance)\n",
    "except ValueError:\n",
    "    print(\"Enter integers it's a ValueError\")\n",
    "except KeyboardInterrupt :\n",
    "    print(\"KeyboardInterrupt Error\")"
   ]
  },
  {
   "cell_type": "code",
   "execution_count": 40,
   "id": "3845f5df-5ca7-4b8f-ac23-a3ffa59d55c0",
   "metadata": {},
   "outputs": [
    {
     "name": "stdin",
     "output_type": "stream",
     "text": [
      "Enter your speed 100\n",
      "Enter time 2\n"
     ]
    },
    {
     "name": "stdout",
     "output_type": "stream",
     "text": [
      "Distance travelled by user is :  200\n"
     ]
    }
   ],
   "source": [
    "#WAP Distance calculate \n",
    "\n",
    "try:\n",
    "    speed = int(input(\"Enter your speed\"))\n",
    "    time = int(input(\"Enter time\"))\n",
    "    distance = speed * time\n",
    "    print(\"Distance travelled by user is : \",distance)\n",
    "except ValueError:\n",
    "    print(\"Enter integers it's a ValueError\")\n",
    "except KeyboardInterrupt :\n",
    "    print(\"KeyboardInterrupt Error\")"
   ]
  },
  {
   "cell_type": "code",
   "execution_count": 46,
   "id": "7293e3df-3a7d-4dd8-9f24-0d55229b079a",
   "metadata": {},
   "outputs": [
    {
     "name": "stdin",
     "output_type": "stream",
     "text": [
      "Enter your distance in meters n\n"
     ]
    },
    {
     "name": "stdout",
     "output_type": "stream",
     "text": [
      "Enter integers it's a ValueError\n"
     ]
    }
   ],
   "source": [
    "try:\n",
    "    distance = int(input(\"Enter your distance in meters\"))\n",
    "    time = int(input(\"Enter time minutes\"))\n",
    "    dis_in_km = distance/1000\n",
    "    time_in_hour = time / 60\n",
    "    speed = dis_in_km / time_in_hour\n",
    "    print(\"Speed travelled by user is : \",speed,\"Km/Hour\")\n",
    "except ZeroDivisionError:\n",
    "    print(\"Denominator can not be 0,it's ZeroDivisionError\")#\n",
    "except ValueError:\n",
    "    print(\"Enter integers it's a ValueError\")\n",
    "except KeyboardInterrupt :\n",
    "    print(\"KeyboarInterrupt\")"
   ]
  },
  {
   "cell_type": "code",
   "execution_count": 48,
   "id": "be3c1aa4-9013-4087-83d9-5302002073b6",
   "metadata": {},
   "outputs": [
    {
     "name": "stdout",
     "output_type": "stream",
     "text": [
      "In which unit you want time to be\n",
      " 1 . For Seconds\n",
      " 2 . For Minutes\n",
      " 3 . For hour\n"
     ]
    },
    {
     "name": "stdin",
     "output_type": "stream",
     "text": [
      "Enter your choice (1/2/3) : \n",
      " 3\n",
      "Enter distance in kilometer : \n",
      " 25.5\n",
      "Enter your time in units you selected above: \n",
      " 3\n"
     ]
    },
    {
     "name": "stdout",
     "output_type": "stream",
     "text": [
      "Speed in km/hour is :  8.5\n"
     ]
    },
    {
     "name": "stdin",
     "output_type": "stream",
     "text": [
      " Let's do speed calculation? ( y / n ) :  n\n"
     ]
    }
   ],
   "source": [
    "print(\"In which unit you want time to be\")\n",
    "print(\" 1 . For Seconds\")\n",
    "print(\" 2 . For Minutes\")\n",
    "print(\" 3 . For hour\")\n",
    "\n",
    "while True:\n",
    "    choice = input(\"Enter your choice (1/2/3) : \\n\")\n",
    "    if choice in ('1', '2', '3'):\n",
    "        try:\n",
    "            dis = float(input(\"Enter distance in kilometer : \\n\"))\n",
    "            time = float(input(\"Enter your time in units you selected above: \\n\"))\n",
    "        except ValueError:\n",
    "            print(\" Enter only integers \")\n",
    "            continue\n",
    "        if choice == '1':\n",
    "            time_in_hour = time / 3600\n",
    "            print(\"Speed in km/hour is : \",dis/time_in_hour)\n",
    "        elif choice == '2':\n",
    "            time_in_hour = time / 60\n",
    "            print(\"Speed in km/hour is : \",dis/time_in_hour)\n",
    "        elif choice == '3':\n",
    "            print(\"Speed in km/hour is : \",dis/time)\n",
    "        next_cal = input(\" Let's do speed calculation? ( y / n ) : \")\n",
    "        if next_cal.lower() == \"n\" :\n",
    "          break\n",
    "    else:\n",
    "        print( \"Invalid input\" )"
   ]
  },
  {
   "cell_type": "code",
   "execution_count": 1,
   "id": "07a2e2f0-a853-4d4a-b950-ae4bb52c0ab6",
   "metadata": {},
   "outputs": [
    {
     "ename": "NameError",
     "evalue": "name 'x' is not defined",
     "output_type": "error",
     "traceback": [
      "\u001b[1;31m---------------------------------------------------------------------------\u001b[0m",
      "\u001b[1;31mNameError\u001b[0m                                 Traceback (most recent call last)",
      "Cell \u001b[1;32mIn[1], line 4\u001b[0m\n\u001b[0;32m      1\u001b[0m \u001b[38;5;66;03m# NameError\u001b[39;00m\n\u001b[1;32m----> 4\u001b[0m y\u001b[38;5;241m=\u001b[39m\u001b[43mx\u001b[49m\u001b[38;5;241m+\u001b[39m\u001b[38;5;241m5\u001b[39m\n\u001b[0;32m      6\u001b[0m \u001b[38;5;28mprint\u001b[39m(y)\n",
      "\u001b[1;31mNameError\u001b[0m: name 'x' is not defined"
     ]
    }
   ],
   "source": [
    "# NameError\n",
    "\n",
    "\n",
    "y=x+5\n",
    "\n",
    "print(y)"
   ]
  },
  {
   "cell_type": "code",
   "execution_count": 2,
   "id": "30ddcb1b-ae98-4920-9396-02c0b7afeabc",
   "metadata": {},
   "outputs": [
    {
     "name": "stdout",
     "output_type": "stream",
     "text": [
      "This code gives a NameError.\n"
     ]
    }
   ],
   "source": [
    "try:\n",
    "    y=x+5\n",
    "except NameError:\n",
    "    print('This code gives a NameError.')"
   ]
  },
  {
   "cell_type": "code",
   "execution_count": 4,
   "id": "6cf9c781-caea-4c05-8f83-c118f7a72164",
   "metadata": {},
   "outputs": [
    {
     "ename": "NameError",
     "evalue": "name 'add' is not defined",
     "output_type": "error",
     "traceback": [
      "\u001b[1;31m---------------------------------------------------------------------------\u001b[0m",
      "\u001b[1;31mNameError\u001b[0m                                 Traceback (most recent call last)",
      "Cell \u001b[1;32mIn[4], line 9\u001b[0m\n\u001b[0;32m      5\u001b[0m     z\u001b[38;5;241m=\u001b[39mx\u001b[38;5;241m+\u001b[39my\n\u001b[0;32m      6\u001b[0m     \u001b[38;5;28;01mreturn\u001b[39;00m z\n\u001b[1;32m----> 9\u001b[0m \u001b[43madd\u001b[49m(\u001b[38;5;241m10\u001b[39m,\u001b[38;5;241m20\u001b[39m)\n",
      "\u001b[1;31mNameError\u001b[0m: name 'add' is not defined"
     ]
    }
   ],
   "source": [
    "# Create a function to find the sum of two number\n",
    "\n",
    "\n",
    "def addition(x,y):\n",
    "    z=x+y\n",
    "    return z\n",
    "\n",
    "\n",
    "add(10,20)"
   ]
  },
  {
   "cell_type": "code",
   "execution_count": 9,
   "id": "351aadbd-0129-43f7-9c7a-062d1f184eed",
   "metadata": {},
   "outputs": [
    {
     "name": "stdout",
     "output_type": "stream",
     "text": [
      "This code gives us NameError\n"
     ]
    }
   ],
   "source": [
    "try:\n",
    "    def addition(x,y):\n",
    "        z=x+y\n",
    "        return z\n",
    "\n",
    "    add(10,20)\n",
    "except NameError:\n",
    "    print('This code gives us NameError')"
   ]
  },
  {
   "cell_type": "code",
   "execution_count": 10,
   "id": "a1f6e1d7-42ea-4575-9d3d-55a6809a0626",
   "metadata": {},
   "outputs": [
    {
     "ename": "IndexError",
     "evalue": "list index out of range",
     "output_type": "error",
     "traceback": [
      "\u001b[1;31m---------------------------------------------------------------------------\u001b[0m",
      "\u001b[1;31mIndexError\u001b[0m                                Traceback (most recent call last)",
      "Cell \u001b[1;32mIn[10], line 5\u001b[0m\n\u001b[0;32m      1\u001b[0m \u001b[38;5;66;03m# IndexError\u001b[39;00m\n\u001b[0;32m      3\u001b[0m nlis\u001b[38;5;241m=\u001b[39m[\u001b[38;5;241m10\u001b[39m,\u001b[38;5;241m0\u001b[39m,\u001b[38;5;241m30\u001b[39m,\u001b[38;5;241m40\u001b[39m,\u001b[38;5;241m50\u001b[39m,\u001b[38;5;241m89\u001b[39m,\u001b[38;5;241m40\u001b[39m]\n\u001b[1;32m----> 5\u001b[0m \u001b[43mnlis\u001b[49m\u001b[43m[\u001b[49m\u001b[38;5;241;43m10\u001b[39;49m\u001b[43m]\u001b[49m\n",
      "\u001b[1;31mIndexError\u001b[0m: list index out of range"
     ]
    }
   ],
   "source": [
    "# IndexError\n",
    "\n",
    "nlis=[10,0,30,40,50,89,40]\n",
    "\n",
    "nlis[10]"
   ]
  },
  {
   "cell_type": "code",
   "execution_count": 12,
   "id": "e0421759-111c-4199-b6b9-aebffbd48579",
   "metadata": {},
   "outputs": [
    {
     "name": "stdout",
     "output_type": "stream",
     "text": [
      "It gives IndexError.\n"
     ]
    }
   ],
   "source": [
    "nlis=[10,0,30,40,50,89,40]\n",
    "try:\n",
    "    nlis[10]\n",
    "except IndexError:\n",
    "    print('It gives IndexError.')"
   ]
  },
  {
   "cell_type": "code",
   "execution_count": 13,
   "id": "af6d7a23-abf0-47df-b200-4aa5faef4148",
   "metadata": {},
   "outputs": [
    {
     "ename": "IndexError",
     "evalue": "tuple index out of range",
     "output_type": "error",
     "traceback": [
      "\u001b[1;31m---------------------------------------------------------------------------\u001b[0m",
      "\u001b[1;31mIndexError\u001b[0m                                Traceback (most recent call last)",
      "Cell \u001b[1;32mIn[13], line 3\u001b[0m\n\u001b[0;32m      1\u001b[0m tuple_1\u001b[38;5;241m=\u001b[39m(\u001b[38;5;241m10\u001b[39m,\u001b[38;5;241m20\u001b[39m,\u001b[38;5;241m30\u001b[39m,\u001b[38;5;241m60\u001b[39m,\u001b[38;5;241m69\u001b[39m,\u001b[38;5;241m45\u001b[39m,\u001b[38;5;241m25\u001b[39m,\u001b[38;5;241m85\u001b[39m)\n\u001b[1;32m----> 3\u001b[0m \u001b[43mtuple_1\u001b[49m\u001b[43m[\u001b[49m\u001b[38;5;241;43m10\u001b[39;49m\u001b[43m]\u001b[49m\n",
      "\u001b[1;31mIndexError\u001b[0m: tuple index out of range"
     ]
    }
   ],
   "source": [
    "tuple_1=(10,20,30,60,69,45,25,85)\n",
    "\n",
    "tuple_1[10]"
   ]
  },
  {
   "cell_type": "code",
   "execution_count": 14,
   "id": "cd2124fa-9ef4-4171-975a-d6ccb845e685",
   "metadata": {},
   "outputs": [
    {
     "name": "stdout",
     "output_type": "stream",
     "text": [
      "It gives us IndexError\n"
     ]
    }
   ],
   "source": [
    "tuple_1=(10,20,30,60,69,45,25,85)\n",
    "\n",
    "try:\n",
    "    tuple_1[20]\n",
    "except IndexError:\n",
    "    print(\"It gives us IndexError\")"
   ]
  },
  {
   "cell_type": "code",
   "execution_count": 18,
   "id": "f64ccfc9-c433-4d8f-a716-db0e3fa3c3ed",
   "metadata": {},
   "outputs": [
    {
     "ename": "KeyError",
     "evalue": "2",
     "output_type": "error",
     "traceback": [
      "\u001b[1;31m---------------------------------------------------------------------------\u001b[0m",
      "\u001b[1;31mKeyError\u001b[0m                                  Traceback (most recent call last)",
      "Cell \u001b[1;32mIn[18], line 5\u001b[0m\n\u001b[0;32m      1\u001b[0m \u001b[38;5;66;03m# KeyError\u001b[39;00m\n\u001b[0;32m      3\u001b[0m dictionary\u001b[38;5;241m=\u001b[39m{\u001b[38;5;124m'\u001b[39m\u001b[38;5;124mName\u001b[39m\u001b[38;5;124m'\u001b[39m:\u001b[38;5;124m'\u001b[39m\u001b[38;5;124mXyz\u001b[39m\u001b[38;5;124m'\u001b[39m,\u001b[38;5;124m'\u001b[39m\u001b[38;5;124mage\u001b[39m\u001b[38;5;124m'\u001b[39m:\u001b[38;5;241m55\u001b[39m,}\n\u001b[1;32m----> 5\u001b[0m \u001b[43mdictionary\u001b[49m\u001b[43m[\u001b[49m\u001b[38;5;241;43m2\u001b[39;49m\u001b[43m]\u001b[49m\n",
      "\u001b[1;31mKeyError\u001b[0m: 2"
     ]
    }
   ],
   "source": [
    "# KeyError\n",
    "\n",
    "dictionary={'Name':'Xyz','age':55,}\n",
    "\n",
    "dictionary[2]"
   ]
  },
  {
   "cell_type": "code",
   "execution_count": 19,
   "id": "6f4f2900-fbc5-409f-9c6c-03c40c638c36",
   "metadata": {},
   "outputs": [
    {
     "name": "stdout",
     "output_type": "stream",
     "text": [
      "It given KeyError\n"
     ]
    }
   ],
   "source": [
    "try:\n",
    "    dictionary[2]\n",
    "\n",
    "except KeyError:\n",
    "    print('It given KeyError')"
   ]
  },
  {
   "cell_type": "code",
   "execution_count": 25,
   "id": "95aa7466-20fe-4494-9e13-324c8452447e",
   "metadata": {},
   "outputs": [
    {
     "name": "stdin",
     "output_type": "stream",
     "text": [
      "Enter first number: 45\n",
      "Enter Second number: 0\n"
     ]
    },
    {
     "name": "stdout",
     "output_type": "stream",
     "text": [
      "ZeroDvisionError\n"
     ]
    }
   ],
   "source": [
    "# except # except\n",
    "\n",
    "\n",
    "try:\n",
    "    num1=int(input('Enter first number:'))\n",
    "    num2=int(input('Enter Second number:'))\n",
    "    value=num1/num2\n",
    "    print(f'The Division of two number is:{value}')\n",
    "\n",
    "except ZeroDivisionError:\n",
    "    print('ZeroDvisionError')\n",
    "except ValueError:\n",
    "    print('ValueError')\n",
    "\n",
    "except KeyboardInterrupt:\n",
    "    print('KeyBoardInterrupt')\n",
    "except:\n",
    "    print('Something Went Wrong.')"
   ]
  },
  {
   "cell_type": "code",
   "execution_count": 28,
   "id": "68691d72-dc32-4510-bf01-a29b81754a05",
   "metadata": {},
   "outputs": [
    {
     "name": "stdin",
     "output_type": "stream",
     "text": [
      "Enter first number: a;ljdf;a\n"
     ]
    },
    {
     "name": "stdout",
     "output_type": "stream",
     "text": [
      "ValueError\n",
      "Done!\n"
     ]
    }
   ],
   "source": [
    "# try/except/else\n",
    "\n",
    "\n",
    "try:\n",
    "    num1=int(input('Enter first number:'))\n",
    "    num2=int(input('Enter Second number:'))\n",
    "    value=num1/num2\n",
    "\n",
    "except ZeroDivisionError:\n",
    "    print('ZeroDvisionError')\n",
    "except ValueError:\n",
    "    print('ValueError')\n",
    "\n",
    "except KeyboardInterrupt:\n",
    "    print('KeyBoardInterrupt')\n",
    "except:\n",
    "    print('Something Went Wrong.')\n",
    "\n",
    "else:\n",
    "     print(f'The Division of two number is:{value}')\n",
    "print('Done!')"
   ]
  },
  {
   "cell_type": "code",
   "execution_count": 29,
   "id": "3d0e52b5-449f-4da9-9a62-387159ffbb00",
   "metadata": {},
   "outputs": [
    {
     "name": "stdin",
     "output_type": "stream",
     "text": [
      "Enter first number: 45\n",
      "Enter Second number: 89\n"
     ]
    },
    {
     "name": "stdout",
     "output_type": "stream",
     "text": [
      "The Division of two number is:0.5056179775280899\n",
      "The process is completed.\n"
     ]
    }
   ],
   "source": [
    "# try/except/else/finallly\n",
    "\n",
    "\n",
    "# try/except/else\n",
    "\n",
    "\n",
    "try:\n",
    "    num1=int(input('Enter first number:'))\n",
    "    num2=int(input('Enter Second number:'))\n",
    "    value=num1/num2\n",
    "\n",
    "except ZeroDivisionError:\n",
    "    print('ZeroDvisionError')\n",
    "except ValueError:\n",
    "    print('ValueError')\n",
    "\n",
    "except KeyboardInterrupt:\n",
    "    print('KeyBoardInterrupt')\n",
    "except:\n",
    "    print('Something Went Wrong.')\n",
    "\n",
    "else:\n",
    "     print(f'The Division of two number is:{value}')\n",
    "finally:\n",
    "    print('The process is completed.')"
   ]
  },
  {
   "cell_type": "code",
   "execution_count": 36,
   "id": "ec579d6d-b82c-4073-8390-9cec4e7f6bef",
   "metadata": {},
   "outputs": [
    {
     "name": "stdin",
     "output_type": "stream",
     "text": [
      "Enter a number: 1006\n"
     ]
    },
    {
     "name": "stdout",
     "output_type": "stream",
     "text": [
      "Even or Odd numbers higher than 1000 are not allowed.\n",
      "This process is completed.\n"
     ]
    }
   ],
   "source": [
    "# write a program to find the even or odd number and do not allow to the even or odd numbers higher than 1000.\n",
    "\n",
    "num=int(input('Enter a number:'))\n",
    "\n",
    "try:\n",
    "    if num>1000 :\n",
    "        raise Exception('Do not allow to the even or odd numbers higher than 1000.')\n",
    "\n",
    "except:\n",
    "    print('Even or Odd numbers higher than 1000 are not allowed.')\n",
    "\n",
    "else:\n",
    "    print('This process is running with the value is',num)\n",
    "\n",
    "finally:\n",
    "    print('This process is completed.')"
   ]
  },
  {
   "cell_type": "code",
   "execution_count": 31,
   "id": "2b38036e-923f-480e-8278-d2329c674335",
   "metadata": {},
   "outputs": [
    {
     "name": "stdin",
     "output_type": "stream",
     "text": [
      "Enter any number 1006\n"
     ]
    },
    {
     "name": "stdout",
     "output_type": "stream",
     "text": [
      "Number greater than 1000 is not allowed\n"
     ]
    }
   ],
   "source": [
    "try:\n",
    "    n = int(input(\"Enter any number\"))\n",
    "    if n <= 1000:\n",
    "        if n % 2 == 0:\n",
    "            print(f\"The number {n} is a even number\")\n",
    "        else:\n",
    "            print(f\"The number {n} is a odd number\")\n",
    "    else:\n",
    "        print(\"Number greater than 1000 is not allowed\")\n",
    "\n",
    "except ValueError:\n",
    "    print(\"enter only integer\")\n",
    "except KeyboardInterrupt:\n",
    "    print(\"KeyboardInterrupt\")"
   ]
  },
  {
   "cell_type": "code",
   "execution_count": 42,
   "id": "b6bdeb0e-ff2d-4d7a-9f69-f4f642729ddc",
   "metadata": {},
   "outputs": [
    {
     "name": "stdin",
     "output_type": "stream",
     "text": [
      "Enter number of elements you want in list :  3\n",
      "Enter number 1 of the list :  12\n",
      "Enter number 2 of the list :  14\n",
      "Enter number 3 of the list :  16\n"
     ]
    },
    {
     "name": "stdout",
     "output_type": "stream",
     "text": [
      "[12, 14, 16]\n",
      "Average of your number is 14.0\n"
     ]
    }
   ],
   "source": [
    "# wap to find the average of taken 5 user input number through exception handling.\n",
    "try:\n",
    "    num = int(input(\"Enter number of elements you want in list : \"))\n",
    "    list = []\n",
    "    for i in range(1,num+1):\n",
    "        ele = int(input(f\"Enter number {i} of the list : \"))\n",
    "        list.append(ele)\n",
    "    print(list)\n",
    "    print(\"Average of your number is\",sum(list)/len(list))\n",
    "except ValueError:\n",
    "    print(\"Value error\")\n",
    "except KeyboardInterrupt:\n",
    "    print(\"KeyboardInterrupt\")"
   ]
  },
  {
   "cell_type": "code",
   "execution_count": 38,
   "id": "1385684d-2b7b-43b4-bc3e-def2963d96b2",
   "metadata": {},
   "outputs": [
    {
     "name": "stdin",
     "output_type": "stream",
     "text": [
      "Enter any number 45\n"
     ]
    },
    {
     "name": "stdout",
     "output_type": "stream",
     "text": [
      "The number 45 is a odd number\n"
     ]
    }
   ],
   "source": [
    "n = int(input(\"Enter any number\"))\n",
    "\n",
    "try:\n",
    "    if n > 1000:\n",
    "        raise Exception(\"Number greater than 1000 not allowed\")\n",
    "        \n",
    "    #n = int(input(\"Enter any number\"))\n",
    "    if n <= 1000:\n",
    "        if n % 2 == 0:\n",
    "            print(f\"The number {n} is a even number\")\n",
    "        else:\n",
    "            print(f\"The number {n} is a odd number\")\n",
    "except ValueError:\n",
    "    print(\"enter only integer\")\n",
    "except KeyboardInterrupt:\n",
    "    print(\"KeyboardInterrupt\")"
   ]
  },
  {
   "cell_type": "code",
   "execution_count": null,
   "id": "c6cd0814-744f-482a-b72a-0b80ddaed1df",
   "metadata": {},
   "outputs": [],
   "source": [
    "# wap to find the vowel and consonent from user input string using exception.\n",
    "\n"
   ]
  },
  {
   "cell_type": "code",
   "execution_count": 49,
   "id": "7934050d-bd53-483c-bf77-adfbb6d02e90",
   "metadata": {},
   "outputs": [
    {
     "name": "stdin",
     "output_type": "stream",
     "text": [
      "Enter your name: ajinkya\n"
     ]
    },
    {
     "name": "stdout",
     "output_type": "stream",
     "text": [
      "vowels= 3\n",
      "consonent= 4\n"
     ]
    }
   ],
   "source": [
    "\n",
    "try:\n",
    "    user1=input('Enter your name:')\n",
    "    def count():\n",
    "        vow=0\n",
    "        cons=0\n",
    "\n",
    "        for i in range(len(user1)):\n",
    "            if user1[i] in ['a','e','i','o','u','A','E','I','O','U']:\n",
    "                vow+=1\n",
    "            else:\n",
    "                cons+=1\n",
    "\n",
    "        print('vowels=',vow)\n",
    "        print('consonent=',cons)\n",
    "except KeyboardInterrupt:\n",
    "    print('nameError')\n",
    "\n",
    "count()"
   ]
  },
  {
   "cell_type": "code",
   "execution_count": 50,
   "id": "86cd7994-a356-4cc4-832e-5a2487448280",
   "metadata": {},
   "outputs": [
    {
     "name": "stdin",
     "output_type": "stream",
     "text": [
      "👩‍🏫 Enter your distance choice :- [ * 1. for meters // * 2. for kilometers ] :-  2\n",
      " 👩‍🏫 Enter your time choice :- [ * 1. for second // * 2. for minutes // * 3. for hour ] :-  3\n"
     ]
    },
    {
     "name": "stdout",
     "output_type": "stream",
     "text": [
      "\n",
      "<<---------------------------------------------------------->>\n",
      "\n"
     ]
    },
    {
     "name": "stdin",
     "output_type": "stream",
     "text": [
      " 👩‍💻 Enter distance in units you selected above :-  50\n",
      "  👩‍💻 Enter your time in units you selected above:-   2\n"
     ]
    },
    {
     "name": "stdout",
     "output_type": "stream",
     "text": [
      "\n",
      " 🎯 Speed in km/hour is :  25.0 \n",
      "\n",
      "\n",
      "<<---------------------------------------------------------->>\n",
      "\n"
     ]
    },
    {
     "name": "stdin",
     "output_type": "stream",
     "text": [
      " 🤔 Let's do speed calculation? ( y / n ) :-  y\n",
      "👩‍🏫 Enter your distance choice :- [ * 1. for meters // * 2. for kilometers ] :-  2\n",
      " 👩‍🏫 Enter your time choice :- [ * 1. for second // * 2. for minutes // * 3. for hour ] :-  3\n"
     ]
    },
    {
     "name": "stdout",
     "output_type": "stream",
     "text": [
      "\n",
      "<<---------------------------------------------------------->>\n",
      "\n"
     ]
    },
    {
     "name": "stdin",
     "output_type": "stream",
     "text": [
      " 👩‍💻 Enter distance in units you selected above :-  92\n",
      "  👩‍💻 Enter your time in units you selected above:-   3\n"
     ]
    },
    {
     "name": "stdout",
     "output_type": "stream",
     "text": [
      "\n",
      " 🎯 Speed in km/hour is :  30.666666666666668 \n",
      "\n",
      "\n",
      "<<---------------------------------------------------------->>\n",
      "\n"
     ]
    },
    {
     "name": "stdin",
     "output_type": "stream",
     "text": [
      " 🤔 Let's do speed calculation? ( y / n ) :-  fasfa\n",
      "👩‍🏫 Enter your distance choice :- [ * 1. for meters // * 2. for kilometers ] :-  afsda\n",
      " 👩‍🏫 Enter your time choice :- [ * 1. for second // * 2. for minutes // * 3. for hour ] :-  fasdfa\n"
     ]
    },
    {
     "name": "stdout",
     "output_type": "stream",
     "text": [
      "\n",
      "<<---------------------------------------------------------->>\n",
      "\n",
      "\n",
      " 🔥 The input by user is not from given choice 🔥 \n",
      "\n",
      "\n",
      " 🔥 Keyboard Interrupted by user, it's a KeyboardInterrupt Error🔥\n",
      "\n",
      " 🔥 Keyboard Interrupted by user, it's a KeyboardInterrupt Error🔥\n",
      "\n",
      " 🔥 Keyboard Interrupted by user, it's a KeyboardInterrupt Error🔥\n",
      "\n",
      " 🔥 Keyboard Interrupted by user, it's a KeyboardInterrupt Error🔥\n"
     ]
    },
    {
     "name": "stdin",
     "output_type": "stream",
     "text": [
      "👩‍🏫 Enter your distance choice :- [ * 1. for meters // * 2. for kilometers ] :-  2\n",
      " 👩‍🏫 Enter your time choice :- [ * 1. for second // * 2. for minutes // * 3. for hour ] :-  45\n"
     ]
    },
    {
     "name": "stdout",
     "output_type": "stream",
     "text": [
      "\n",
      "<<---------------------------------------------------------->>\n",
      "\n",
      "\n",
      " 🔥 The input by user is not from given choice 🔥 \n",
      "\n"
     ]
    },
    {
     "name": "stdin",
     "output_type": "stream",
     "text": [
      "👩‍🏫 Enter your distance choice :- [ * 1. for meters // * 2. for kilometers ] :-  2\n",
      " 👩‍🏫 Enter your time choice :- [ * 1. for second // * 2. for minutes // * 3. for hour ] :-  3\n"
     ]
    },
    {
     "name": "stdout",
     "output_type": "stream",
     "text": [
      "\n",
      "<<---------------------------------------------------------->>\n",
      "\n"
     ]
    },
    {
     "name": "stdin",
     "output_type": "stream",
     "text": [
      " 👩‍💻 Enter distance in units you selected above :-  45\n",
      "  👩‍💻 Enter your time in units you selected above:-   2\n"
     ]
    },
    {
     "name": "stdout",
     "output_type": "stream",
     "text": [
      "\n",
      " 🎯 Speed in km/hour is :  22.5 \n",
      "\n",
      "\n",
      "<<---------------------------------------------------------->>\n",
      "\n"
     ]
    },
    {
     "name": "stdin",
     "output_type": "stream",
     "text": [
      " 🤔 Let's do speed calculation? ( y / n ) :-  n\n"
     ]
    }
   ],
   "source": [
    "## Take input from the user as distance in units of meters or km and ultimately convert it into km.\n",
    "#   Take input from the user as time in units seconds or minutes or hours but ultimately convert it into hours.\n",
    "#   Return speed in km/hr unit only\n",
    "#   Handle all errors too.\n",
    "\n",
    "\n",
    "\n",
    "def speed_cal():\n",
    "    while True:\n",
    "        try:\n",
    "            distance_choice = input(\"👩‍🏫 Enter your distance choice :- [ * 1. for meters // * 2. for kilometers ] :- \")\n",
    "            time_choice = input(\" 👩‍🏫 Enter your time choice :- [ * 1. for second // * 2. for minutes // * 3. for hour ] :- \")\n",
    "            print(\"\\n<<---------------------------------------------------------->>\\n\")\n",
    "            \n",
    "            if distance_choice in ('1', '2') and time_choice in ('1','2','3'):\n",
    "            \n",
    "            \n",
    "                    dis = float(input(\" 👩‍💻 Enter distance in units you selected above :- \"))\n",
    "                    time = float(input(\"  👩‍💻 Enter your time in units you selected above:-  \"))\n",
    "                \n",
    "                    if distance_choice == '1' and time_choice == '1':\n",
    "                    \n",
    "                        distance_in_km = dis / 1000\n",
    "                        time_in_hour = time/ 3600\n",
    "                    \n",
    "                        print(\"\\n 🎯Speed in km/hour is : \",distance_in_km/time_in_hour,\"\\n\")\n",
    "                        print(\"\\n<<---------------------------------------------------------->>\\n\")\n",
    "                        \n",
    "                    elif distance_choice == '1' and time_choice == '2':\n",
    "                    \n",
    "                        distance_in_km = dis / 1000\n",
    "                        time_in_hour = time/ 60\n",
    "                        \n",
    "                        print(\"\\n 🎯 Speed in km/hour is : \",distance_in_km/time_in_hour,\"\\n\")\n",
    "                        print(\"\\n<<---------------------------------------------------------->>\\n\")\n",
    "                    \n",
    "                    elif distance_choice == '1' and time_choice == '3':\n",
    "                        \n",
    "                        distance_in_km = dis / 1000\n",
    "                        time_in_hour = time\n",
    "                        \n",
    "                        print(\"\\n 🎯 Speed in km/hour is : \",distance_in_km/time_in_hour,\"\\n\")\n",
    "                        print(\"\\n<<---------------------------------------------------------->>\\n\")\n",
    "                        \n",
    "                    elif distance_choice == '2' and time_choice == '1':\n",
    "                        \n",
    "                        distance_in_km = dis\n",
    "                        time_in_hour = time/ 3600\n",
    "                        \n",
    "                        print(\"\\n 🎯 Speed in km/hour is : \",distance_in_km/time_in_hour,\"\\n\")\n",
    "                        print(\"\\n<<---------------------------------------------------------->>\\n\")\n",
    "                        \n",
    "                    elif distance_choice == '2' and time_choice == '2':\n",
    "                        \n",
    "                        distance_in_km = dis\n",
    "                        time_in_hour = time/ 60\n",
    "                        \n",
    "                        print(\"\\n 🎯 Speed in km/hour is : \",distance_in_km/time_in_hour,\"\\n\")\n",
    "                        print(\"\\n<<---------------------------------------------------------->>\\n\")\n",
    "                        \n",
    "                    elif distance_choice == '2' and time_choice == '3':\n",
    "                        \n",
    "                        distance_in_km = dis\n",
    "                        time_in_hour = time\n",
    "                        \n",
    "                        print(\"\\n 🎯 Speed in km/hour is : \",distance_in_km/time_in_hour,\"\\n\")\n",
    "                        print(\"\\n<<---------------------------------------------------------->>\\n\")\n",
    "                    \n",
    "                    next_cal = input(\" 🤔 Let's do speed calculation? ( y / n ) :- \")\n",
    "                    if next_cal.lower() == \"n\" :\n",
    "                      break\n",
    "            else:\n",
    "                print( \"\\n 🔥 The input by user is not from given choice 🔥 \\n\" )\n",
    "            \n",
    "        except ValueError:\n",
    "            print(\"\\n 🔥 Enter only integers, it's a ValueError🔥\\n\")\n",
    "            \n",
    "        except ZeroDivisionError:\n",
    "            print(\"\\n 🔥 Denominator can not be 0, it's ZeroDivisionError 🔥 \\n\")\n",
    "    \n",
    "        except KeyboardInterrupt:\n",
    "            print(\"\\n 🔥 Keyboard Interrupted by user, it's a KeyboardInterrupt Error🔥\")\n",
    "\n",
    "speed_cal()"
   ]
  },
  {
   "cell_type": "code",
   "execution_count": 53,
   "id": "b46b4c26-8605-47d2-bbfe-ceb2052ca62f",
   "metadata": {},
   "outputs": [
    {
     "name": "stdin",
     "output_type": "stream",
     "text": [
      "Enter the elements you want :  5\n",
      "Enter your 1 number :  100\n",
      "Enter your 2 number :  200\n",
      "Enter your 3 number :  300\n",
      "Enter your 4 number :  400\n",
      "Enter your 5 number :  500\n"
     ]
    },
    {
     "name": "stdout",
     "output_type": "stream",
     "text": [
      "[100, 200, 300, 400, 500]\n"
     ]
    },
    {
     "name": "stdin",
     "output_type": "stream",
     "text": [
      "Guess the number of first user 700\n"
     ]
    },
    {
     "name": "stdout",
     "output_type": "stream",
     "text": [
      "Sorry your guess is wrong\n"
     ]
    }
   ],
   "source": [
    "#Take user from one user make a list and then take other input for guessing the number in previous list. \n",
    "#If guessed number is n list print \"Well guesses\"\n",
    "#If number not in list then print \"Sorry your guess is wrong.\"\n",
    "\n",
    "\n",
    "def check_game():\n",
    "    \n",
    "    list = []\n",
    "    n = int(input(\"Enter the elements you want : \"))\n",
    "    for i in range(1,n+1):\n",
    "        x = int(input(f'Enter your {i} number : '))\n",
    "        list.append(x)\n",
    "    print(list)\n",
    "    z = int(input(\"Guess the number of first user\"))\n",
    "\n",
    "    if z in list:\n",
    "        print(\"Well guessed\")\n",
    "    else:\n",
    "        print(\"Sorry your guess is wrong\")\n",
    "\n",
    "check_game()"
   ]
  },
  {
   "cell_type": "code",
   "execution_count": 6,
   "id": "c0a32357-0f60-4351-8bfb-2fa9cdcbf731",
   "metadata": {},
   "outputs": [
    {
     "name": "stdin",
     "output_type": "stream",
     "text": [
      "Enter any string :->>  Rupali Gurav\n"
     ]
    },
    {
     "name": "stdout",
     "output_type": "stream",
     "text": [
      "List is :->> ['R', 'u', 'p', 'a', 'l', 'i', 'G', 'u', 'r', 'a', 'v'] \n",
      " length of list is 11\n",
      "Vowels in --- 'Rupali Gurav' --- are :->>  ['u', 'a', 'i', 'u', 'a'] \n",
      " length of vowels is 5\n",
      "Consonant in --- 'Rupali Gurav' --- are :->>  ['R', 'p', 'l', 'G', 'r', 'v'] \n",
      " length ofconsonant is 6\n",
      "\n",
      "Always enter alphabetic letters to distinguish as vowels and consonants!\n",
      "\n",
      "Thankyou!\n"
     ]
    }
   ],
   "source": [
    "#Seperate consonants and vowels from string handle errors\n",
    "\n",
    "\n",
    "list = []\n",
    "vow = []\n",
    "conso = []\n",
    "\n",
    "try:\n",
    "    word = input(\"Enter any string :->> \")\n",
    "    x = word.replace(\" \",\"\")\n",
    "    for letter in x:\n",
    "        if x.isalpha():\n",
    "            list.append(letter)\n",
    "    \n",
    "    for i in list:\n",
    "        if i in ('a','e','i','o','u','A','E','I','O','U'):\n",
    "            vow.append(i)\n",
    "        else:\n",
    "            conso.append(i)\n",
    "    \n",
    "                \n",
    "    print(\"List is :->>\",list,\"\\n length of list is\",len(list))\n",
    "    print(f\"Vowels in --- '{word}' --- are :->> \",vow,\"\\n length of vowels is\",len(vow))\n",
    "    print(f\"Consonant in --- '{word}' --- are :->> \",conso,\"\\n length ofconsonant is\",len(conso))\n",
    "except ValueError:\n",
    "    print(\"Enter only string\")\n",
    "except KeyboardInterrupt:\n",
    "    print(\"KeyboardInterrupt\")\n",
    "else:\n",
    "    print(\"\\nAlways enter alphabetic letters to distinguish as vowels and consonants!\")\n",
    "finally:\n",
    "    print(\"\\nThankyou!\")"
   ]
  },
  {
   "cell_type": "code",
   "execution_count": 24,
   "id": "055f0ee7-ecdf-4291-be9d-d86d176bd243",
   "metadata": {},
   "outputs": [
    {
     "name": "stdin",
     "output_type": "stream",
     "text": [
      "Enter any string :->>  123\n"
     ]
    },
    {
     "name": "stdout",
     "output_type": "stream",
     "text": [
      "\n",
      "Always enter alphabetic letters to distinguish as vowels and consonants!\n",
      "\n",
      "Thankyou!\n"
     ]
    }
   ],
   "source": [
    "#Seperate consonants and vowels from string handle errors\n",
    "# Rupali\n",
    "\n",
    "list = []\n",
    "vow = []\n",
    "conso = []\n",
    "\n",
    "try:\n",
    "    word = input(\"Enter any string :->> \")\n",
    "    x = word.replace(\" \",\"\")\n",
    "    if x.isalpha():\n",
    "        \n",
    "        for letter in x:\n",
    "            list.append(letter)\n",
    "        \n",
    "        for i in list:\n",
    "            if i in ('a','e','i','o','u','A','E','I','O','U'):\n",
    "                vow.append(i)\n",
    "            else:\n",
    "                conso.append(i)\n",
    "\n",
    "        print(\"List is :->>\",list,\"\\n length of list is\",len(list))\n",
    "        print(f\"Vowels in --- '{word}' --- are :->> \",vow,\"\\n length of vowels is\",len(vow))\n",
    "        print(f\"Consonant in --- '{word}' --- are :->> \",conso,\"\\n length of consonant is\",len(conso))\n",
    "    else:\n",
    "        print(\"\\nAlways enter alphabetic letters to distinguish as vowels and consonants!\")\n",
    "        \n",
    "                \n",
    "    \n",
    "except ValueError:\n",
    "    print(\"Enter only string\")\n",
    "except KeyboardInterrupt:\n",
    "    print(\"KeyboardInterrupt\")\n",
    "finally:\n",
    "    print(\"\\nThankyou!\")"
   ]
  },
  {
   "cell_type": "code",
   "execution_count": 29,
   "id": "754c4bcf-8867-49fd-9c27-d9836be928c8",
   "metadata": {},
   "outputs": [
    {
     "name": "stdin",
     "output_type": "stream",
     "text": [
      "Enter the starting range :  -98\n",
      "enter ending range :  100\n"
     ]
    },
    {
     "name": "stdout",
     "output_type": "stream",
     "text": [
      "Only positive numbers in range\n"
     ]
    }
   ],
   "source": [
    "# Write a program Take input in range from user\n",
    "# and find even or odd number and its sum after than average of these numbers using exception handling.\n",
    "# Range not in negative numbers\n",
    "\n",
    "# Rupali\n",
    "# Write a programe take input in range from user find even or odd numbers and its sum after that average of thses numbers using try and exception handling.\n",
    "\n",
    "\n",
    "\n",
    "even_list = []\n",
    "odd_list = []\n",
    "\n",
    "try:\n",
    "    \n",
    "    a = int(input(\"Enter the starting range : \"))\n",
    "    b = int(input(\"enter ending range : \"))\n",
    "    if a >= 0 and b >= 0:\n",
    "        for i in range(a,b+1):\n",
    "            if i % 2 == 0:\n",
    "                even_list.append(i)\n",
    "            else:\n",
    "                odd_list.append(i)\n",
    "            sum1 = sum(even_list)\n",
    "            sum2 = sum(odd_list)\n",
    "        print(\"\\nEven list is : \",even_list,\"\\n\")\n",
    "        print(\"Sum of even the list is : \",sum1,\"\\n\")\n",
    "        print(\"Average of even list is : \",sum1/len(even_list))\n",
    "        print(\"\\n--------------------------------------------------\\n\")\n",
    "        print(\"\\nOdd list is : \",odd_list,\"\\n\")\n",
    "        print(\"Sum of the odd list is : \",sum2,\"\\n\")\n",
    "        print(\"Average of odd list is : \",sum2/len(odd_list))\n",
    "    else:\n",
    "        print(\"Only positive numbers in range\")\n",
    "\n",
    "except ValueError:\n",
    "    print(\"Enter only integers\")\n",
    "except KeyboardInterrupt:\n",
    "    print(\"Keyboard is interrupted by user\")\n"
   ]
  },
  {
   "cell_type": "code",
   "execution_count": null,
   "id": "54a6f54e-16c3-438d-a5b6-f8b23994954e",
   "metadata": {},
   "outputs": [],
   "source": []
  },
  {
   "cell_type": "code",
   "execution_count": null,
   "id": "ca0e5b5e-0b44-4cf6-a43c-2575090451d3",
   "metadata": {},
   "outputs": [],
   "source": []
  },
  {
   "cell_type": "code",
   "execution_count": null,
   "id": "6588b7ac-3f0e-4bb8-9c4f-315f61db0dcf",
   "metadata": {},
   "outputs": [],
   "source": []
  }
 ],
 "metadata": {
  "kernelspec": {
   "display_name": "Python 3 (ipykernel)",
   "language": "python",
   "name": "python3"
  },
  "language_info": {
   "codemirror_mode": {
    "name": "ipython",
    "version": 3
   },
   "file_extension": ".py",
   "mimetype": "text/x-python",
   "name": "python",
   "nbconvert_exporter": "python",
   "pygments_lexer": "ipython3",
   "version": "3.12.2"
  }
 },
 "nbformat": 4,
 "nbformat_minor": 5
}
