{
 "cells": [
  {
   "cell_type": "markdown",
   "id": "503184cd-39a8-4211-a3e5-290a17763408",
   "metadata": {},
   "source": [
    "# 7. Condition in Python\n"
   ]
  },
  {
   "cell_type": "markdown",
   "id": "1c6663cf-da5d-4539-b6a8-0e25c31abd55",
   "metadata": {},
   "source": [
    "# Comparison Operators:-\r",
    "# \n",
    "---------------------------------- * \r\n",
    "<----> less tha * n\r\n",
    "<=---> less than or equal t * o \r\n",
    ">-----> greater t * han\r\n",
    ">=----> greater htan or e * qual\r\n",
    "==----> equ * al to\r\n",
    "!=----> not eq# ual to\r\n",
    "----------------------------- * -------\r\n",
    "=---------> Assignment o# perators\r\n",
    "----------------------------------------"
   ]
  },
  {
   "cell_type": "code",
   "execution_count": 7,
   "id": "44f50c58-4c59-424d-8b17-0d4cc666327c",
   "metadata": {},
   "outputs": [
    {
     "name": "stdout",
     "output_type": "stream",
     "text": [
      "True\n",
      "True\n",
      "True\n",
      "True\n",
      "True\n"
     ]
    }
   ],
   "source": [
    "ratio=3.14\n",
    "\n",
    "\n",
    "# condition\n",
    "\n",
    "print(ratio>2)\n",
    "print(ratio==3.14)\n",
    "print(ratio!=10)\n",
    "print(ratio>=3.14)\n",
    "print(ratio<=3.14)"
   ]
  },
  {
   "cell_type": "code",
   "execution_count": 26,
   "id": "81118317-b35f-469a-a557-4e09eb8916c4",
   "metadata": {},
   "outputs": [
    {
     "name": "stdout",
     "output_type": "stream",
     "text": [
      "True\n",
      "True\n",
      "False\n",
      "True\n",
      "True\n",
      "True\n",
      "False\n",
      "True\n"
     ]
    }
   ],
   "source": [
    "# Compare string\n",
    "\n",
    "print(\"Hello\"==\"Hello\")\n",
    "print(\"Hello world\"!=\"Hello World\")\n",
    "print(\"Hello world\">=\"Hi,Hello world\")\n",
    "print('A'==\"A\")\n",
    "print(\"Ab\"<\"aB\")\n",
    "print(\"CD\"<\"DC\")\n",
    "print(\"Hello\">\"Python\")\n",
    "print('a'<\"b\")"
   ]
  },
  {
   "cell_type": "code",
   "execution_count": 27,
   "id": "5f7c13e8-8bb0-4d50-858d-4afe384505af",
   "metadata": {},
   "outputs": [
    {
     "name": "stdout",
     "output_type": "stream",
     "text": [
      "True\n"
     ]
    }
   ],
   "source": [
    "print(\"A\"<\"B\")"
   ]
  },
  {
   "cell_type": "code",
   "execution_count": 28,
   "id": "cfec067c-99d1-4480-a2e4-c564cc44c043",
   "metadata": {},
   "outputs": [
    {
     "name": "stdout",
     "output_type": "stream",
     "text": [
      "True\n"
     ]
    }
   ],
   "source": [
    "print(\"a\">\"A\")"
   ]
  },
  {
   "cell_type": "markdown",
   "id": "bb6ffe2f-c9e2-4ba3-a427-25237ef99b77",
   "metadata": {},
   "source": [
    "# Branching (if,elif,else)\n",
    "\n",
    " * __Decision making is required when we want to execute a code only if a certain condition is satisfied.__\n",
    " * __The if/elif/else statement is used in Python for decision making.__\n",
    " * __An else statement can be combined with an if statement.__\n",
    " * __An else statement contains the block of code that executes if the conditional expression in the if statement resolves to 0 or a False value.__\n",
    " * __The else statement is an optional statement and there could be at most only one else statement following if.__\n",
    " * __The elif statement allows you to check multiple expressions for True and execute a block of code as soon as one of the conditions evaluates to True.__\n",
    " * __Similar to the else, elif statement is optional.__\n",
    " * __However, unlike else, for which there can be at most one statemnet, can be an arbitrary number of the elif statement following if.__"
   ]
  },
  {
   "cell_type": "code",
   "execution_count": 34,
   "id": "19f1e7dd-2170-439e-aec9-a365ba6f38a9",
   "metadata": {},
   "outputs": [
    {
     "name": "stdout",
     "output_type": "stream",
     "text": [
      "You can go to primary school\n"
     ]
    }
   ],
   "source": [
    "babli=10\n",
    "\n",
    "if babli>=6:\n",
    "    print(\"You can go to primary school\")\n",
    "else:\n",
    "    print(\"You are a baby\")"
   ]
  },
  {
   "cell_type": "code",
   "execution_count": 35,
   "id": "448aea9e-3351-4b46-afd9-94fab7e38c5f",
   "metadata": {},
   "outputs": [
    {
     "data": {
      "text/plain": [
       "True"
      ]
     },
     "execution_count": 35,
     "metadata": {},
     "output_type": "execute_result"
    }
   ],
   "source": [
    "10>=6"
   ]
  },
  {
   "cell_type": "code",
   "execution_count": 43,
   "id": "ef15cddf-fd24-42d7-a5ff-52dd6c9f15f0",
   "metadata": {},
   "outputs": [
    {
     "name": "stdout",
     "output_type": "stream",
     "text": [
      "You can go to kindergarten.\n"
     ]
    }
   ],
   "source": [
    "babli=5\n",
    "\n",
    "if babli>6:\n",
    "    print(\"You can go to primary School\")\n",
    "elif babli==5:\n",
    "    print(\"You can go to kindergarten.\")\n",
    "else:\n",
    "    print(\"You are a baby\")"
   ]
  },
  {
   "cell_type": "code",
   "execution_count": 50,
   "id": "2e08cf57-c6f1-421e-88fb-f87c05f2a31d",
   "metadata": {},
   "outputs": [
    {
     "name": "stdin",
     "output_type": "stream",
     "text": [
      "Enter your baby age: 2000\n"
     ]
    },
    {
     "name": "stdout",
     "output_type": "stream",
     "text": [
      "You can go to primary school.\n"
     ]
    }
   ],
   "source": [
    "babli=int(input(\"Enter your baby age:\"))\n",
    "\n",
    "if babli>=6:\n",
    "    print(\"You can go to primary school.\")\n",
    "elif babli==5:\n",
    "    print(\"you can to kindergarted.\")\n",
    "else:\n",
    "    print(\"You are a baby\")"
   ]
  },
  {
   "cell_type": "code",
   "execution_count": 6,
   "id": "57ccacc9-5828-40e3-ae22-d556cac638b8",
   "metadata": {},
   "outputs": [
    {
     "name": "stdin",
     "output_type": "stream",
     "text": [
      "Enter your movie rating: 200\n"
     ]
    },
    {
     "name": "stdout",
     "output_type": "stream",
     "text": [
      "You can watch this movie in the theater.\n"
     ]
    }
   ],
   "source": [
    "# wap to take input from user and display movie rating cretaria movie 8.0 to 10.0 (You can watch movie theater),\n",
    "# 5.0 to 8.0 You can watch this movie at your home, below 5.0 then you can't watch this movie. \n",
    "\n",
    "x=float(input(\"Enter your movie rating:\"))\n",
    "\n",
    "if x>10 and x>=8.0:\n",
    "    print(\"You can watch this movie in the theater.\")\n",
    "elif x<8.0 and x>5.0:\n",
    "    print(\"You can watch this movie at your home.\")\n",
    "else:\n",
    "    print(\"You Can't watch this movie\")"
   ]
  },
  {
   "cell_type": "code",
   "execution_count": 9,
   "id": "c137d76a-b661-4d6d-935c-637e36973fe3",
   "metadata": {},
   "outputs": [
    {
     "name": "stdin",
     "output_type": "stream",
     "text": [
      "Enter any number: 37\n"
     ]
    },
    {
     "name": "stdout",
     "output_type": "stream",
     "text": [
      "Odd number\n"
     ]
    }
   ],
   "source": [
    "# Write a program to find the even or odd numebr from user input.\n",
    "\n",
    "value=int(input(\"Enter any number:\"))\n",
    "\n",
    "if value%2==0:\n",
    "    print(\"Even number\")\n",
    "else:\n",
    "    print(\"Odd number\")"
   ]
  },
  {
   "cell_type": "code",
   "execution_count": 13,
   "id": "31ffb9bd-ca04-40c8-86ff-bf7c5bb88090",
   "metadata": {},
   "outputs": [
    {
     "name": "stdin",
     "output_type": "stream",
     "text": [
      "Enter any number: 20\n"
     ]
    },
    {
     "name": "stdout",
     "output_type": "stream",
     "text": [
      "The number is not divisible by both of them\n"
     ]
    }
   ],
   "source": [
    "# Write a program to check user input number is divisible by 7, 8.\n",
    "\n",
    "x=int(input(\"Enter any number:\"))\n",
    "\n",
    "if x%7==0 and x%8==0:\n",
    "    print(\"The number is divisible by both 7 and 8.\")\n",
    "elif x%7==0 and x%8!=0:\n",
    "    print(\"The number is divisible by 7 only not 8.\")\n",
    "elif x%7!=0 and x%8==0:\n",
    "    print(\"The number is divisible 8 only not 7.\")\n",
    "else:\n",
    "    print(\"The number is not divisible by both of them\")"
   ]
  },
  {
   "cell_type": "code",
   "execution_count": null,
   "id": "8fbfdbcb-baf3-41bb-bb4d-fa0b2f1d7ef4",
   "metadata": {},
   "outputs": [],
   "source": [
    "# wap a program to find the divisiblity rule of 3,5 and 7"
   ]
  }
 ],
 "metadata": {
  "kernelspec": {
   "display_name": "Python 3 (ipykernel)",
   "language": "python",
   "name": "python3"
  },
  "language_info": {
   "codemirror_mode": {
    "name": "ipython",
    "version": 3
   },
   "file_extension": ".py",
   "mimetype": "text/x-python",
   "name": "python",
   "nbconvert_exporter": "python",
   "pygments_lexer": "ipython3",
   "version": "3.11.4"
  }
 },
 "nbformat": 4,
 "nbformat_minor": 5
}
