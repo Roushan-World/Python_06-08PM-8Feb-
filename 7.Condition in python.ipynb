{
 "cells": [
  {
   "cell_type": "markdown",
   "id": "503184cd-39a8-4211-a3e5-290a17763408",
   "metadata": {},
   "source": [
    "# 7. Condition in Python\n"
   ]
  },
  {
   "cell_type": "markdown",
   "id": "1c6663cf-da5d-4539-b6a8-0e25c31abd55",
   "metadata": {},
   "source": [
    "# Comparison Operators:-\r",
    "# \n",
    "---------------------------------- * \r\n",
    "<----> less tha * n\r\n",
    "<=---> less than or equal t * o \r\n",
    ">-----> greater t * han\r\n",
    ">=----> greater htan or e * qual\r\n",
    "==----> equ * al to\r\n",
    "!=----> not eq# ual to\r\n",
    "----------------------------- * -------\r\n",
    "=---------> Assignment o# perators\r\n",
    "----------------------------------------"
   ]
  },
  {
   "cell_type": "code",
   "execution_count": 7,
   "id": "44f50c58-4c59-424d-8b17-0d4cc666327c",
   "metadata": {},
   "outputs": [
    {
     "name": "stdout",
     "output_type": "stream",
     "text": [
      "True\n",
      "True\n",
      "True\n",
      "True\n",
      "True\n"
     ]
    }
   ],
   "source": [
    "ratio=3.14\n",
    "\n",
    "\n",
    "# condition\n",
    "\n",
    "print(ratio>2)\n",
    "print(ratio==3.14)\n",
    "print(ratio!=10)\n",
    "print(ratio>=3.14)\n",
    "print(ratio<=3.14)"
   ]
  },
  {
   "cell_type": "code",
   "execution_count": 26,
   "id": "81118317-b35f-469a-a557-4e09eb8916c4",
   "metadata": {},
   "outputs": [
    {
     "name": "stdout",
     "output_type": "stream",
     "text": [
      "True\n",
      "True\n",
      "False\n",
      "True\n",
      "True\n",
      "True\n",
      "False\n",
      "True\n"
     ]
    }
   ],
   "source": [
    "# Compare string\n",
    "\n",
    "print(\"Hello\"==\"Hello\")\n",
    "print(\"Hello world\"!=\"Hello World\")\n",
    "print(\"Hello world\">=\"Hi,Hello world\")\n",
    "print('A'==\"A\")\n",
    "print(\"Ab\"<\"aB\")\n",
    "print(\"CD\"<\"DC\")\n",
    "print(\"Hello\">\"Python\")\n",
    "print('a'<\"b\")"
   ]
  },
  {
   "cell_type": "code",
   "execution_count": 27,
   "id": "5f7c13e8-8bb0-4d50-858d-4afe384505af",
   "metadata": {},
   "outputs": [
    {
     "name": "stdout",
     "output_type": "stream",
     "text": [
      "True\n"
     ]
    }
   ],
   "source": [
    "print(\"A\"<\"B\")"
   ]
  },
  {
   "cell_type": "code",
   "execution_count": 28,
   "id": "cfec067c-99d1-4480-a2e4-c564cc44c043",
   "metadata": {},
   "outputs": [
    {
     "name": "stdout",
     "output_type": "stream",
     "text": [
      "True\n"
     ]
    }
   ],
   "source": [
    "print(\"a\">\"A\")"
   ]
  },
  {
   "cell_type": "markdown",
   "id": "bb6ffe2f-c9e2-4ba3-a427-25237ef99b77",
   "metadata": {},
   "source": [
    "# Branching (if,elif,else)\n",
    "\n",
    " * __Decision making is required when we want to execute a code only if a certain condition is satisfied.__\n",
    " * __The if/elif/else statement is used in Python for decision making.__\n",
    " * __An else statement can be combined with an if statement.__\n",
    " * __An else statement contains the block of code that executes if the conditional expression in the if statement resolves to 0 or a False value.__\n",
    " * __The else statement is an optional statement and there could be at most only one else statement following if.__\n",
    " * __The elif statement allows you to check multiple expressions for True and execute a block of code as soon as one of the conditions evaluates to True.__\n",
    " * __Similar to the else, elif statement is optional.__\n",
    " * __However, unlike else, for which there can be at most one statemnet, can be an arbitrary number of the elif statement following if.__"
   ]
  },
  {
   "cell_type": "code",
   "execution_count": 34,
   "id": "19f1e7dd-2170-439e-aec9-a365ba6f38a9",
   "metadata": {},
   "outputs": [
    {
     "name": "stdout",
     "output_type": "stream",
     "text": [
      "You can go to primary school\n"
     ]
    }
   ],
   "source": [
    "babli=10\n",
    "\n",
    "if babli>=6:\n",
    "    print(\"You can go to primary school\")\n",
    "else:\n",
    "    print(\"You are a baby\")"
   ]
  },
  {
   "cell_type": "code",
   "execution_count": 35,
   "id": "448aea9e-3351-4b46-afd9-94fab7e38c5f",
   "metadata": {},
   "outputs": [
    {
     "data": {
      "text/plain": [
       "True"
      ]
     },
     "execution_count": 35,
     "metadata": {},
     "output_type": "execute_result"
    }
   ],
   "source": [
    "10>=6"
   ]
  },
  {
   "cell_type": "code",
   "execution_count": 43,
   "id": "ef15cddf-fd24-42d7-a5ff-52dd6c9f15f0",
   "metadata": {},
   "outputs": [
    {
     "name": "stdout",
     "output_type": "stream",
     "text": [
      "You can go to kindergarten.\n"
     ]
    }
   ],
   "source": [
    "babli=5\n",
    "\n",
    "if babli>6:\n",
    "    print(\"You can go to primary School\")\n",
    "elif babli==5:\n",
    "    print(\"You can go to kindergarten.\")\n",
    "else:\n",
    "    print(\"You are a baby\")"
   ]
  },
  {
   "cell_type": "code",
   "execution_count": 50,
   "id": "2e08cf57-c6f1-421e-88fb-f87c05f2a31d",
   "metadata": {},
   "outputs": [
    {
     "name": "stdin",
     "output_type": "stream",
     "text": [
      "Enter your baby age: 2000\n"
     ]
    },
    {
     "name": "stdout",
     "output_type": "stream",
     "text": [
      "You can go to primary school.\n"
     ]
    }
   ],
   "source": [
    "babli=int(input(\"Enter your baby age:\"))\n",
    "\n",
    "if babli>=6:\n",
    "    print(\"You can go to primary school.\")\n",
    "elif babli==5:\n",
    "    print(\"you can to kindergarted.\")\n",
    "else:\n",
    "    print(\"You are a baby\")"
   ]
  },
  {
   "cell_type": "code",
   "execution_count": 6,
   "id": "57ccacc9-5828-40e3-ae22-d556cac638b8",
   "metadata": {},
   "outputs": [
    {
     "name": "stdin",
     "output_type": "stream",
     "text": [
      "Enter your movie rating: 200\n"
     ]
    },
    {
     "name": "stdout",
     "output_type": "stream",
     "text": [
      "You can watch this movie in the theater.\n"
     ]
    }
   ],
   "source": [
    "# wap to take input from user and display movie rating cretaria movie 8.0 to 10.0 (You can watch movie theater),\n",
    "# 5.0 to 8.0 You can watch this movie at your home, below 5.0 then you can't watch this movie. \n",
    "\n",
    "x=float(input(\"Enter your movie rating:\"))\n",
    "\n",
    "if x>10 and x>=8.0:\n",
    "    print(\"You can watch this movie in the theater.\")\n",
    "elif x<8.0 and x>5.0:\n",
    "    print(\"You can watch this movie at your home.\")\n",
    "else:\n",
    "    print(\"You Can't watch this movie\")"
   ]
  },
  {
   "cell_type": "code",
   "execution_count": 9,
   "id": "c137d76a-b661-4d6d-935c-637e36973fe3",
   "metadata": {},
   "outputs": [
    {
     "name": "stdin",
     "output_type": "stream",
     "text": [
      "Enter any number: 37\n"
     ]
    },
    {
     "name": "stdout",
     "output_type": "stream",
     "text": [
      "Odd number\n"
     ]
    }
   ],
   "source": [
    "# Write a program to find the even or odd numebr from user input.\n",
    "\n",
    "value=int(input(\"Enter any number:\"))\n",
    "\n",
    "if value%2==0:\n",
    "    print(\"Even number\")\n",
    "else:\n",
    "    print(\"Odd number\")"
   ]
  },
  {
   "cell_type": "code",
   "execution_count": 13,
   "id": "31ffb9bd-ca04-40c8-86ff-bf7c5bb88090",
   "metadata": {},
   "outputs": [
    {
     "name": "stdin",
     "output_type": "stream",
     "text": [
      "Enter any number: 20\n"
     ]
    },
    {
     "name": "stdout",
     "output_type": "stream",
     "text": [
      "The number is not divisible by both of them\n"
     ]
    }
   ],
   "source": [
    "# Write a program to check user input number is divisible by 7, 8.\n",
    "\n",
    "x=int(input(\"Enter any number:\"))\n",
    "\n",
    "if x%7==0 and x%8==0:\n",
    "    print(\"The number is divisible by both 7 and 8.\")\n",
    "elif x%7==0 and x%8!=0:\n",
    "    print(\"The number is divisible by 7 only not 8.\")\n",
    "elif x%7!=0 and x%8==0:\n",
    "    print(\"The number is divisible 8 only not 7.\")\n",
    "else:\n",
    "    print(\"The number is not divisible by both of them\")"
   ]
  },
  {
   "cell_type": "code",
   "execution_count": 1,
   "id": "8fbfdbcb-baf3-41bb-bb4d-fa0b2f1d7ef4",
   "metadata": {},
   "outputs": [],
   "source": [
    "# wap a program to find the divisiblity rule of 3,5 and 7\n",
    "\n"
   ]
  },
  {
   "cell_type": "code",
   "execution_count": 13,
   "id": "29bd2714-978b-4bba-b53a-f34e4550063c",
   "metadata": {},
   "outputs": [
    {
     "name": "stdin",
     "output_type": "stream",
     "text": [
      "Enter first person age: 78\n",
      "Enter second person age: 96\n",
      "Enter third person age:  23\n"
     ]
    },
    {
     "name": "stdout",
     "output_type": "stream",
     "text": [
      "23 is youngest than 78,96\n"
     ]
    }
   ],
   "source": [
    "# Write a program to take the three age as input from user and display the yongest one Age should be below 100.\n",
    "\n",
    "\n",
    "x=int(input('Enter first person age:'))\n",
    "y=int(input('Enter second person age:'))\n",
    "z=int(input('Enter third person age: '))\n",
    "if x<100 and y<100 and z<100:\n",
    "    if x<y and x<z:\n",
    "        print(f'{x} is youngest than {y},{z}')\n",
    "    elif y<x and y<z:\n",
    "        print(f\"{y} is youngest than {x},{z}\")\n",
    "    elif z<x and z<y:\n",
    "        print(f\"{z} is youngest than {x},{y}\")\n",
    "else:\n",
    "    print(\"Age should not be greater than 100.\")"
   ]
  },
  {
   "cell_type": "code",
   "execution_count": 16,
   "id": "18bf59a4-f966-4217-acf9-2d4cb7932d27",
   "metadata": {},
   "outputs": [
    {
     "name": "stdin",
     "output_type": "stream",
     "text": [
      "Enter first number:  49\n",
      "Enter second number:  48\n",
      "Enter third number:  47\n"
     ]
    },
    {
     "name": "stdout",
     "output_type": "stream",
     "text": [
      "Total sum of the three numbers is: 144\n"
     ]
    }
   ],
   "source": [
    "# Write a program to find the sum of three number from user input.\n",
    "a=int(input('Enter first number: '))\n",
    "b=int(input(\"Enter second number: \"))\n",
    "c=int(input(\"Enter third number: \"))\n",
    "\n",
    "if a<50 and b<50 and c<50:\n",
    "    z=a+b+c\n",
    "    print(\"Total sum of the three numbers is:\",z)\n",
    "else:\n",
    "    print(\"Number should be less than 50\")\n",
    "    "
   ]
  },
  {
   "cell_type": "code",
   "execution_count": 21,
   "id": "eddc9689-612f-4500-9053-e6fdd1119bdd",
   "metadata": {},
   "outputs": [
    {
     "name": "stdin",
     "output_type": "stream",
     "text": [
      "Enter first number:  20\n",
      "Enter second number:  20\n",
      "Enter third number:  20\n"
     ]
    },
    {
     "name": "stdout",
     "output_type": "stream",
     "text": [
      "Total sum of number is: 60\n"
     ]
    }
   ],
   "source": [
    "# wap to find the sum of three numbers if all numbers are less than 20 and if numbers is greater than 20 \n",
    "# than find subtract or all numbers is greater than 30 the mutiply all numbers.\n",
    "\n",
    "a=int(input('Enter first number: '))\n",
    "b=int(input('Enter second number: '))\n",
    "c=int(input('Enter third number: '))\n",
    "if a<=20 and b<=20 and c<=20:\n",
    "    z=a+b+c\n",
    "    print(\"Total sum of number is:\",z)\n",
    "elif a>20 and a<30 and b>20 and b<30 and c>20 and c<30:\n",
    "    z1=a-b-c\n",
    "    print(\"your subtracted value is:\",z1)\n",
    "elif a>30 and b>30 and c>30:\n",
    "    z2=a*b*c\n",
    "    print(\"Your multiplied value is:\",z2)"
   ]
  },
  {
   "cell_type": "code",
   "execution_count": 1,
   "id": "3c0596b5-8e53-4350-82ba-5a9d4beda7bf",
   "metadata": {},
   "outputs": [],
   "source": [
    "# Given a list= [10,20,30,40,50,60,70,80,90,100]\n",
    "# first reverse the value only 40 to 80 your product is 80,70,60,50,40\n",
    "# Second reverse the whole list=[100,90,80,70,60,50,40,30,20,10]"
   ]
  },
  {
   "cell_type": "code",
   "execution_count": 2,
   "id": "0b85ebe6-0b8e-4fb7-9933-c05bb9c9a544",
   "metadata": {},
   "outputs": [
    {
     "name": "stdout",
     "output_type": "stream",
     "text": [
      "reversed list is :  [100, 90, 80, 70, 60, 50, 40, 30, 20, 10]\n",
      "From 80 to 40 reverse is :  [80, 70, 60, 50, 40]\n"
     ]
    }
   ],
   "source": [
    "list = [10,20,30,40,50,60,70,80,90,100]\n",
    "list.reverse()\n",
    "print(\"reversed list is : \",list)\n",
    "list1= [10,20,30,40,50,60,70,80,90,100]\n",
    "list2 = list1[3:8]\n",
    "list2.reverse()\n",
    "print(\"From 80 to 40 reverse is : \",list2)"
   ]
  },
  {
   "cell_type": "code",
   "execution_count": 11,
   "id": "4499a0b9-cb09-4a04-8f00-1b0c92e05f22",
   "metadata": {},
   "outputs": [
    {
     "data": {
      "text/plain": [
       "[40, 50, 60, 70, 80]"
      ]
     },
     "execution_count": 11,
     "metadata": {},
     "output_type": "execute_result"
    }
   ],
   "source": [
    "list= [10,20,30,40,50,60,70,80,90,100]\n",
    "\n",
    "x=list[3:8]\n",
    "x"
   ]
  },
  {
   "cell_type": "code",
   "execution_count": 10,
   "id": "6a6c6ea7-1ff5-4bf3-86fe-194e1b5d0900",
   "metadata": {},
   "outputs": [
    {
     "data": {
      "text/plain": [
       "[80, 70, 60, 50, 40]"
      ]
     },
     "execution_count": 10,
     "metadata": {},
     "output_type": "execute_result"
    }
   ],
   "source": [
    "x[::-1]"
   ]
  },
  {
   "cell_type": "code",
   "execution_count": 13,
   "id": "4cdfc8b4-b468-41f2-b907-ceeb82324356",
   "metadata": {},
   "outputs": [
    {
     "data": {
      "text/plain": [
       "[100, 90, 80, 70, 60, 50, 40, 30, 20, 10]"
      ]
     },
     "execution_count": 13,
     "metadata": {},
     "output_type": "execute_result"
    }
   ],
   "source": [
    "list = [10,20,30,40,50,60,70,80,90,100]\n",
    "list.reverse()\n",
    "list"
   ]
  },
  {
   "cell_type": "code",
   "execution_count": 14,
   "id": "6ba96cc5-5a45-4276-9bb3-224315d4a9f0",
   "metadata": {},
   "outputs": [],
   "source": [
    "# Return a new set of identical items from two sets.\n",
    "set1={10,20,30,40,50,60}\n",
    "set2={30,40,50,60,70,80}\n",
    "\n",
    "# Get only unique items from two sets\n",
    "set1={10,20,30,40,50,60}\n",
    "set2={30,40,50,60,70,80}\n",
    "\n",
    "\n",
    "# update the fist set with items that don't exist in the second set?\n",
    "\n",
    "set1={10,20,30,40}\n",
    "set2={30,20,10,60,70,80}\n",
    "\n",
    "\n",
    "# write a python progrm to remove items 10,20,30 from the set at once.\n",
    "\n",
    "set1={10,20,30,40,50,60,70,80}\n",
    "\n",
    "# Return a set of elements present in set A or B, but not both\n",
    "set1={10,20,30,40}\n",
    "set2={30,20,10,60,70,80}\n",
    "\n",
    "# Check if two sets have any elements in common, if yes, display the common elements.\n",
    "set1={10,20,30,40,50}\n",
    "set2={60,70,80,90,10}"
   ]
  },
  {
   "cell_type": "code",
   "execution_count": 15,
   "id": "5d8566b6-d54d-4658-af4e-0652552ba2f0",
   "metadata": {},
   "outputs": [
    {
     "data": {
      "text/plain": [
       "{30, 40, 50, 60}"
      ]
     },
     "execution_count": 15,
     "metadata": {},
     "output_type": "execute_result"
    }
   ],
   "source": [
    "# Return a new set of identical items from two sets.\n",
    "set1={10,20,30,40,50,60}\n",
    "set2={30,40,50,60,70,80}\n",
    "\n",
    "set1.intersection(set2)"
   ]
  },
  {
   "cell_type": "code",
   "execution_count": 19,
   "id": "c74540c5-f722-4b84-bed1-ec23583fe6c8",
   "metadata": {},
   "outputs": [
    {
     "data": {
      "text/plain": [
       "{40}"
      ]
     },
     "execution_count": 19,
     "metadata": {},
     "output_type": "execute_result"
    }
   ],
   "source": [
    "# update the fist set with items that don't exist in the second set?\n",
    "\n",
    "set1={10,20,30,40}\n",
    "set2={30,20,10,60,70,80}\n",
    "\n",
    "set1.difference(set2)"
   ]
  },
  {
   "cell_type": "code",
   "execution_count": 20,
   "id": "ab604558-4f5b-4b83-aee3-fd7dd1f6cbde",
   "metadata": {},
   "outputs": [
    {
     "data": {
      "text/plain": [
       "{60, 70, 80}"
      ]
     },
     "execution_count": 20,
     "metadata": {},
     "output_type": "execute_result"
    }
   ],
   "source": [
    "set2.difference(set1)"
   ]
  },
  {
   "cell_type": "code",
   "execution_count": 21,
   "id": "2cae44c6-db7a-4c1f-8e1c-6d2d5106a266",
   "metadata": {},
   "outputs": [
    {
     "data": {
      "text/plain": [
       "{10, 20, 30, 40, 50, 60, 70, 80}"
      ]
     },
     "execution_count": 21,
     "metadata": {},
     "output_type": "execute_result"
    }
   ],
   "source": [
    "# Get only unique items from two sets\n",
    "set1={10,20,30,40,50,60}\n",
    "set2={30,40,50,60,70,80}\n",
    "\n",
    "set1.union(set2)"
   ]
  },
  {
   "cell_type": "code",
   "execution_count": 32,
   "id": "5551c69a-adf8-4f63-8fcc-c2ff45c33c21",
   "metadata": {},
   "outputs": [
    {
     "data": {
      "text/plain": [
       "{10, 20, 30, 40, 50, 60, 70, 80}"
      ]
     },
     "execution_count": 32,
     "metadata": {},
     "output_type": "execute_result"
    }
   ],
   "source": [
    "set1.update(set2)\n",
    "set1"
   ]
  },
  {
   "cell_type": "code",
   "execution_count": 33,
   "id": "31eaa0e8-66e0-4e6a-a1e5-235f8acbe2a0",
   "metadata": {},
   "outputs": [],
   "source": [
    "# write a python progrm to remove items 10,20,30 from the set at once.\n",
    "\n",
    "set1={10,20,30,40,50,60,70,80}\n",
    "\n",
    "\n",
    "set1.difference_update({10,20,30})"
   ]
  },
  {
   "cell_type": "code",
   "execution_count": 34,
   "id": "ee61064e-c8b1-4d42-a2c5-265511ffd714",
   "metadata": {},
   "outputs": [
    {
     "data": {
      "text/plain": [
       "{40, 50, 60, 70, 80}"
      ]
     },
     "execution_count": 34,
     "metadata": {},
     "output_type": "execute_result"
    }
   ],
   "source": [
    "set1"
   ]
  },
  {
   "cell_type": "code",
   "execution_count": 35,
   "id": "38b834a7-76ab-496a-a6c0-7aa2b275c019",
   "metadata": {},
   "outputs": [
    {
     "data": {
      "text/plain": [
       "{40, 60, 70, 80}"
      ]
     },
     "execution_count": 35,
     "metadata": {},
     "output_type": "execute_result"
    }
   ],
   "source": [
    "# Return a set of elements present in set A and B, but not both\n",
    "set1={10,20,30,40}\n",
    "set2={30,20,10,60,70,80}\n",
    "\n",
    "set1.symmetric_difference(set2)"
   ]
  },
  {
   "cell_type": "code",
   "execution_count": 36,
   "id": "18caa71d-df0e-400a-ac7f-b96b7d8c7824",
   "metadata": {},
   "outputs": [
    {
     "data": {
      "text/plain": [
       "{40}"
      ]
     },
     "execution_count": 36,
     "metadata": {},
     "output_type": "execute_result"
    }
   ],
   "source": [
    "set1-set2"
   ]
  },
  {
   "cell_type": "code",
   "execution_count": 37,
   "id": "bb02bf62-78dc-4a51-9e66-906798c4b1a0",
   "metadata": {},
   "outputs": [
    {
     "data": {
      "text/plain": [
       "{60, 70, 80}"
      ]
     },
     "execution_count": 37,
     "metadata": {},
     "output_type": "execute_result"
    }
   ],
   "source": [
    "set2-set1"
   ]
  },
  {
   "cell_type": "code",
   "execution_count": 38,
   "id": "c9829427-71b9-4177-9adb-72744c612904",
   "metadata": {},
   "outputs": [
    {
     "data": {
      "text/plain": [
       "{40}"
      ]
     },
     "execution_count": 38,
     "metadata": {},
     "output_type": "execute_result"
    }
   ],
   "source": [
    "set1.difference(set2)"
   ]
  },
  {
   "cell_type": "code",
   "execution_count": 39,
   "id": "d9e8f3b0-78a4-4e63-adc3-c2160b3131b9",
   "metadata": {},
   "outputs": [
    {
     "data": {
      "text/plain": [
       "{60, 70, 80}"
      ]
     },
     "execution_count": 39,
     "metadata": {},
     "output_type": "execute_result"
    }
   ],
   "source": [
    "set2.difference(set1)"
   ]
  },
  {
   "cell_type": "code",
   "execution_count": 40,
   "id": "9daa73e4-2c14-4806-9a1a-4162b7dcd419",
   "metadata": {},
   "outputs": [
    {
     "data": {
      "text/plain": [
       "{10}"
      ]
     },
     "execution_count": 40,
     "metadata": {},
     "output_type": "execute_result"
    }
   ],
   "source": [
    "# Check if two sets have any elements in common, if yes, display the common elements.\n",
    "set1={10,20,30,40,50}\n",
    "set2={60,70,80,90,10}\n",
    "\n",
    "set1.intersection(set2)"
   ]
  },
  {
   "cell_type": "code",
   "execution_count": 10,
   "id": "9975f65d-8b1a-4a9e-aaf9-068d2b9e654f",
   "metadata": {},
   "outputs": [
    {
     "name": "stdin",
     "output_type": "stream",
     "text": [
      "Enter any number: 7\n"
     ]
    },
    {
     "name": "stdout",
     "output_type": "stream",
     "text": [
      "Weekday: Sunday\n"
     ]
    }
   ],
   "source": [
    "# Write a program to display the weekdays name if user press the key 1=\"Monday\",2=\"Tuesday\",3=\"Wednesday\" and so on.\n",
    "user1=int(input('Enter any number:'))\n",
    "if user1>0 and user1<=7:\n",
    "    if user1==1:\n",
    "        print('Weekday: Monday')\n",
    "    elif user1==2:\n",
    "        print('Weekday: Tuesday')\n",
    "    elif user1==3:\n",
    "        print('Weekday: Wednesday')\n",
    "    elif user1==4:\n",
    "        print('Weekday: Thursday')\n",
    "    elif user1==5:\n",
    "        print('Weekday: Friday')\n",
    "    elif user1==6:\n",
    "        print('Weekday: Saturday')\n",
    "    else:\n",
    "        print('Weekday: Sunday')\n",
    "else:\n",
    "    print('Ennter valid number.')"
   ]
  },
  {
   "cell_type": "code",
   "execution_count": 11,
   "id": "ec5a110e-ef90-4d77-915f-58c3658fe64b",
   "metadata": {},
   "outputs": [
    {
     "name": "stdin",
     "output_type": "stream",
     "text": [
      "Enter your first number: 2\n",
      "Enter your second number: 8\n"
     ]
    },
    {
     "name": "stdout",
     "output_type": "stream",
     "text": [
      "256\n"
     ]
    }
   ],
   "source": [
    "# Write a program to find the exponent of user input number.\n",
    "\n",
    "y=int(input('Enter your first number:'))\n",
    "x=int(input('Enter your second number:'))\n",
    "\n",
    "z=y**x\n",
    "print(z)"
   ]
  },
  {
   "cell_type": "code",
   "execution_count": null,
   "id": "ca211d84-7b3c-4977-b824-786096d7ae9e",
   "metadata": {},
   "outputs": [],
   "source": [
    "# Wap to display months name according the number if user press 1=\"january\",2=\"February\" and so on .\n"
   ]
  },
  {
   "cell_type": "code",
   "execution_count": 12,
   "id": "7ca01da3-020c-487f-99d6-ce36c6420b44",
   "metadata": {},
   "outputs": [
    {
     "name": "stdout",
     "output_type": "stream",
     "text": [
      "Which operation you want to perform\n",
      " 1 . For Addition\n",
      " 2 . For Subtraction\n",
      " 3 . For Multiplication\n",
      " 4 . For Division\n"
     ]
    },
    {
     "name": "stdin",
     "output_type": "stream",
     "text": [
      "Enter your choice (1/2/3/4) : \n",
      " 1\n",
      "Enter first number : \n",
      " 12\n",
      "Enter second number : \n",
      " 12\n"
     ]
    },
    {
     "name": "stdout",
     "output_type": "stream",
     "text": [
      "Addition is :  12.0  +  12.0  =  24.0 \n",
      "\n"
     ]
    },
    {
     "name": "stdin",
     "output_type": "stream",
     "text": [
      " Let's do next calculation? ( y / n ) :  n\n"
     ]
    }
   ],
   "source": [
    "#Calculator \n",
    "\n",
    "\n",
    "def add( x, y ):\n",
    "    return x + y\n",
    "def sub( x, y ):\n",
    "    return x - y\n",
    "def multi( x, y ):\n",
    "    return x * y\n",
    "def divide( x, y ):\n",
    "    return x / y\n",
    "\n",
    "print(\"Which operation you want to perform\")\n",
    "print(\" 1 . For Addition\")\n",
    "print(\" 2 . For Subtraction\")\n",
    "print(\" 3 . For Multiplication\")\n",
    "print(\" 4 . For Division\")\n",
    "\n",
    "while True:\n",
    "    choice = input(\"Enter your choice (1/2/3/4) : \\n\")\n",
    "    if choice in ('1', '2', '3', '4'):\n",
    "        try:\n",
    "            num1 = float(input(\"Enter first number : \\n\"))\n",
    "            num2 = float(input(\"Enter second number : \\n\"))\n",
    "        except ValueError:\n",
    "            print(\" Enter only integers \")\n",
    "            continue\n",
    "        if choice == '1':\n",
    "            print(\"Addition is : \", num1 , \" + \", num2, \" = \", num1 + num2, \"\\n\")\n",
    "        elif choice == '2':\n",
    "            print(\"Subtraction is : \", num1, \" - \", num2, \" = \", num1 - num2, \"\\n\")\n",
    "        elif choice == '3':\n",
    "            print(\"Multiplication is : \", num1, \" * \", num2, \" = \", num1 * num2, \"\\n\")\n",
    "        elif choice == '4':\n",
    "            print(\"Division is : \", num1, \" / \", num2, \" = \", num1 / num2, \"\\n\")\n",
    "        next_calculation = input(\" Let's do next calculation? ( y / n ) : \")\n",
    "        if next_calculation.lower() == \"n\" :\n",
    "          break\n",
    "    else:\n",
    "         print( \"Invalid input\" )"
   ]
  },
  {
   "cell_type": "code",
   "execution_count": 18,
   "id": "a49f72a7-87a2-408f-bf6f-9198e34be6ef",
   "metadata": {},
   "outputs": [
    {
     "name": "stdout",
     "output_type": "stream",
     "text": [
      "['Delhi', 'Agra', 'Jaipur', 'Amritsar', 'Madurai', 'Maysore', 'Mumbai', 'Sanchi', 'Hydrabad']\n"
     ]
    },
    {
     "name": "stdin",
     "output_type": "stream",
     "text": [
      "Enter your city name: JaIPUR\n"
     ]
    },
    {
     "name": "stdout",
     "output_type": "stream",
     "text": [
      "Monument is: JalMahal,HawaMahal\n"
     ]
    }
   ],
   "source": [
    "# Accept any city from the user and displays monument of the city.\n",
    "\n",
    "# City-------------------------> Monument\n",
    "# Delhi -----------------------> \"RedFort\"\n",
    "# Agra-------------------------> \"TajMahal\"\n",
    "# Jaipur-----------------------> \"JalMahal,HawaMahal\"\n",
    "# AmritSar---------------------> \"Golden Temple\"\n",
    "# Madurai----------------------> \"Meenakshi Temple\"\n",
    "# Mysore-----------------------> \"Mysore Palace\"\n",
    "# Mumbai-----------------------> \"Gateway of India\"\n",
    "# Sanchi-----------------------> \"Sanchi Stupa\"\n",
    "# Hydrabad --------------------> \"Charminar\"\n",
    "\n",
    "list=['Delhi','Agra','Jaipur','Amritsar','Madurai','Maysore',\"Mumbai\",'Sanchi','Hydrabad']\n",
    "print(list)\n",
    "user=input('Enter your city name:')\n",
    "\n",
    "if user.capitalize()==\"Delhi\":\n",
    "    print('Monumnet is: Redfort')\n",
    "elif user.capitalize()==\"Agra\":\n",
    "    print('Monument is: TajMahal')\n",
    "elif user.upper()==\"JAIPUR\":\n",
    "    print('Monument is: JalMahal,HawaMahal')"
   ]
  },
  {
   "cell_type": "code",
   "execution_count": null,
   "id": "540fa761-54c3-47d7-9cc1-7628f40df5f0",
   "metadata": {},
   "outputs": [],
   "source": [
    "deLHI==Delhi"
   ]
  }
 ],
 "metadata": {
  "kernelspec": {
   "display_name": "Python 3 (ipykernel)",
   "language": "python",
   "name": "python3"
  },
  "language_info": {
   "codemirror_mode": {
    "name": "ipython",
    "version": 3
   },
   "file_extension": ".py",
   "mimetype": "text/x-python",
   "name": "python",
   "nbconvert_exporter": "python",
   "pygments_lexer": "ipython3",
   "version": "3.11.4"
  }
 },
 "nbformat": 4,
 "nbformat_minor": 5
}
