{
 "cells": [
  {
   "cell_type": "markdown",
   "id": "44a65230-a20d-4407-a8cb-866fa5dd3dc1",
   "metadata": {},
   "source": [
    "# Strings in Python"
   ]
  },
  {
   "cell_type": "code",
   "execution_count": 1,
   "id": "67be274b-2a4e-4d55-ae38-e5cc7f865580",
   "metadata": {},
   "outputs": [
    {
     "name": "stdout",
     "output_type": "stream",
     "text": [
      "Hello world\n"
     ]
    }
   ],
   "source": [
    "print(\"Hello world\")"
   ]
  },
  {
   "cell_type": "code",
   "execution_count": 2,
   "id": "74a685c5-7720-47d1-89a1-e0a3ed02a241",
   "metadata": {},
   "outputs": [
    {
     "name": "stdout",
     "output_type": "stream",
     "text": [
      "hello python\n"
     ]
    }
   ],
   "source": [
    "print('hello python')"
   ]
  },
  {
   "cell_type": "code",
   "execution_count": 5,
   "id": "df66bb4e-1ec6-407c-97b2-0530f1d1e06c",
   "metadata": {},
   "outputs": [
    {
     "name": "stdout",
     "output_type": "stream",
     "text": [
      "!@#$%\n"
     ]
    }
   ],
   "source": [
    "print('!@#$%')"
   ]
  },
  {
   "cell_type": "code",
   "execution_count": 6,
   "id": "4c714185-be30-4aa5-90b4-97c76ea5819b",
   "metadata": {},
   "outputs": [
    {
     "name": "stdout",
     "output_type": "stream",
     "text": [
      "+-*//\n"
     ]
    }
   ],
   "source": [
    "print('+-*//')"
   ]
  },
  {
   "cell_type": "code",
   "execution_count": 7,
   "id": "a6027c6a-d9a0-4455-8d05-2294e8c3d6f1",
   "metadata": {},
   "outputs": [
    {
     "data": {
      "text/plain": [
       "'161651654698'"
      ]
     },
     "execution_count": 7,
     "metadata": {},
     "output_type": "execute_result"
    }
   ],
   "source": [
    "'161651654698'"
   ]
  },
  {
   "cell_type": "code",
   "execution_count": 8,
   "id": "dc25e9fd-359b-450a-b870-745a75d88c29",
   "metadata": {},
   "outputs": [
    {
     "data": {
      "text/plain": [
       "'161561646'"
      ]
     },
     "execution_count": 8,
     "metadata": {},
     "output_type": "execute_result"
    }
   ],
   "source": [
    "\"161561646\""
   ]
  },
  {
   "cell_type": "code",
   "execution_count": 9,
   "id": "28492570-8f05-4ac6-8d62-de5de6769a9a",
   "metadata": {},
   "outputs": [
    {
     "name": "stdout",
     "output_type": "stream",
     "text": [
      "Hello world\n"
     ]
    }
   ],
   "source": [
    "message=\"Hello world\"\n",
    "print(message)"
   ]
  },
  {
   "cell_type": "code",
   "execution_count": 10,
   "id": "26d01f5a-2d1a-4588-b4ef-8ba9c10a9f7a",
   "metadata": {},
   "outputs": [
    {
     "name": "stdout",
     "output_type": "stream",
     "text": [
      "<class 'str'>\n"
     ]
    }
   ],
   "source": [
    "print(type(message))"
   ]
  },
  {
   "cell_type": "code",
   "execution_count": 11,
   "id": "c1558107-f7e1-4d48-8f6f-767b98e8c289",
   "metadata": {},
   "outputs": [
    {
     "data": {
      "text/plain": [
       "'double quotes'"
      ]
     },
     "execution_count": 11,
     "metadata": {},
     "output_type": "execute_result"
    }
   ],
   "source": [
    "\"double quotes\""
   ]
  },
  {
   "cell_type": "code",
   "execution_count": 12,
   "id": "f712d622-920d-4b74-a839-7a62686b75f8",
   "metadata": {},
   "outputs": [
    {
     "data": {
      "text/plain": [
       "'single quotes'"
      ]
     },
     "execution_count": 12,
     "metadata": {},
     "output_type": "execute_result"
    }
   ],
   "source": [
    "'single quotes'"
   ]
  },
  {
   "cell_type": "code",
   "execution_count": 13,
   "id": "ab42dbe2-ef57-4be1-86e8-e07e0e53b0ad",
   "metadata": {},
   "outputs": [
    {
     "name": "stdout",
     "output_type": "stream",
     "text": [
      "What is your name?\n"
     ]
    }
   ],
   "source": [
    "print(\"What is your name?\")"
   ]
  },
  {
   "cell_type": "code",
   "execution_count": 15,
   "id": "15715c88-4386-4fba-b82e-1b7404860bac",
   "metadata": {},
   "outputs": [
    {
     "name": "stdout",
     "output_type": "stream",
     "text": [
      "What's your name?\n"
     ]
    }
   ],
   "source": [
    "print(\"What's your name?\")"
   ]
  },
  {
   "cell_type": "code",
   "execution_count": 16,
   "id": "ddde47de-88bf-497d-be0b-51a6ac5a809b",
   "metadata": {},
   "outputs": [
    {
     "data": {
      "text/plain": [
       "'what\"s your name?'"
      ]
     },
     "execution_count": 16,
     "metadata": {},
     "output_type": "execute_result"
    }
   ],
   "source": [
    "'what\"s your name?'"
   ]
  },
  {
   "cell_type": "markdown",
   "id": "5f00ae2b-99a8-4609-997c-1543ff2b8ef4",
   "metadata": {},
   "source": [
    "# Indexing of String"
   ]
  },
  {
   "cell_type": "code",
   "execution_count": 17,
   "id": "4434d3ff-17f8-4cca-913d-7729c341a7a9",
   "metadata": {},
   "outputs": [
    {
     "name": "stdout",
     "output_type": "stream",
     "text": [
      "Hello world\n"
     ]
    }
   ],
   "source": [
    "x=\"Hello world\"\n",
    "print(x)"
   ]
  },
  {
   "cell_type": "markdown",
   "id": "a15c5b52-eb77-44bb-be3d-50840cdbb9bd",
   "metadata": {},
   "source": [
    "# positive string indexing"
   ]
  },
  {
   "cell_type": "code",
   "execution_count": 22,
   "id": "69043802-13d8-43ab-b03f-65be0e05917d",
   "metadata": {},
   "outputs": [
    {
     "name": "stdout",
     "output_type": "stream",
     "text": [
      "H\n",
      "e\n",
      "l\n",
      "l\n",
      "o\n",
      " \n",
      "w\n",
      "o\n",
      "r\n",
      "l\n",
      "d\n"
     ]
    }
   ],
   "source": [
    "print(x[0])\n",
    "print(x[1])\n",
    "print(x[2])\n",
    "print(x[3])\n",
    "print(x[4])\n",
    "print(x[5])\n",
    "print(x[6])\n",
    "print(x[7])\n",
    "print(x[8])\n",
    "print(x[9])\n",
    "print(x[10])"
   ]
  },
  {
   "cell_type": "code",
   "execution_count": 24,
   "id": "4edaac2b-6fa3-4dc5-8846-79ac48c691a6",
   "metadata": {},
   "outputs": [
    {
     "ename": "IndexError",
     "evalue": "string index out of range",
     "output_type": "error",
     "traceback": [
      "\u001b[1;31m---------------------------------------------------------------------------\u001b[0m",
      "\u001b[1;31mIndexError\u001b[0m                                Traceback (most recent call last)",
      "Cell \u001b[1;32mIn[24], line 1\u001b[0m\n\u001b[1;32m----> 1\u001b[0m \u001b[38;5;28mprint\u001b[39m(\u001b[43mx\u001b[49m\u001b[43m[\u001b[49m\u001b[38;5;241;43m11\u001b[39;49m\u001b[43m]\u001b[49m)\n",
      "\u001b[1;31mIndexError\u001b[0m: string index out of range"
     ]
    }
   ],
   "source": [
    "print(x[11])"
   ]
  },
  {
   "cell_type": "code",
   "execution_count": 25,
   "id": "13fd94ee-e513-4450-8834-37745e42dafb",
   "metadata": {},
   "outputs": [
    {
     "data": {
      "text/plain": [
       "'hi python'"
      ]
     },
     "execution_count": 25,
     "metadata": {},
     "output_type": "execute_result"
    }
   ],
   "source": [
    "x1=\"hi python\"\n",
    "x1"
   ]
  },
  {
   "cell_type": "code",
   "execution_count": 26,
   "id": "08e9f67e-f235-4744-b389-be344506b85a",
   "metadata": {},
   "outputs": [
    {
     "data": {
      "text/plain": [
       "'H'"
      ]
     },
     "execution_count": 26,
     "metadata": {},
     "output_type": "execute_result"
    }
   ],
   "source": [
    "x[0]"
   ]
  },
  {
   "cell_type": "code",
   "execution_count": 27,
   "id": "370b1e22-18ee-4366-a46f-f1004dd58676",
   "metadata": {},
   "outputs": [
    {
     "data": {
      "text/plain": [
       "'h'"
      ]
     },
     "execution_count": 27,
     "metadata": {},
     "output_type": "execute_result"
    }
   ],
   "source": [
    "x1[0]"
   ]
  },
  {
   "cell_type": "code",
   "execution_count": 28,
   "id": "37fc949e-06e4-405f-b75f-29ff70dfd293",
   "metadata": {},
   "outputs": [
    {
     "data": {
      "text/plain": [
       "'h'"
      ]
     },
     "execution_count": 28,
     "metadata": {},
     "output_type": "execute_result"
    }
   ],
   "source": [
    "x1[0]"
   ]
  },
  {
   "cell_type": "code",
   "execution_count": 29,
   "id": "c4a26341-327e-4052-8676-c544c279d770",
   "metadata": {},
   "outputs": [
    {
     "data": {
      "text/plain": [
       "'i'"
      ]
     },
     "execution_count": 29,
     "metadata": {},
     "output_type": "execute_result"
    }
   ],
   "source": [
    "x1[1]"
   ]
  },
  {
   "cell_type": "code",
   "execution_count": 30,
   "id": "83132b34-e0dc-4dca-9605-7614402211fb",
   "metadata": {},
   "outputs": [
    {
     "data": {
      "text/plain": [
       "' '"
      ]
     },
     "execution_count": 30,
     "metadata": {},
     "output_type": "execute_result"
    }
   ],
   "source": [
    "x1[2]"
   ]
  },
  {
   "cell_type": "code",
   "execution_count": 31,
   "id": "a81149f4-3144-4062-83a4-51e39707670d",
   "metadata": {},
   "outputs": [
    {
     "data": {
      "text/plain": [
       "'p'"
      ]
     },
     "execution_count": 31,
     "metadata": {},
     "output_type": "execute_result"
    }
   ],
   "source": [
    "x1[3]"
   ]
  },
  {
   "cell_type": "code",
   "execution_count": 32,
   "id": "df08d721-f877-4838-aba7-d46b999c826c",
   "metadata": {},
   "outputs": [
    {
     "name": "stdout",
     "output_type": "stream",
     "text": [
      "h\n"
     ]
    }
   ],
   "source": [
    "x1=\"hi python\"\n",
    "\n",
    "print(x1[0])"
   ]
  },
  {
   "cell_type": "code",
   "execution_count": 36,
   "id": "da8e605f-2e4e-4dcb-9016-2dace59b15c5",
   "metadata": {},
   "outputs": [
    {
     "name": "stdout",
     "output_type": "stream",
     "text": [
      "n\n",
      "o\n",
      "h\n",
      "t\n",
      "y\n",
      "p\n",
      " \n",
      "i\n",
      "h\n"
     ]
    }
   ],
   "source": [
    "print(x1[-1])\n",
    "print(x1[-2])\n",
    "print(x1[-3])\n",
    "print(x1[-4])\n",
    "print(x1[-5])\n",
    "print(x1[-6])\n",
    "print(x1[-7])\n",
    "print(x1[-8])\n",
    "print(x1[-9])"
   ]
  },
  {
   "cell_type": "code",
   "execution_count": 39,
   "id": "c33c9032-0646-4e0c-bb0e-ca7640b23dad",
   "metadata": {},
   "outputs": [
    {
     "name": "stdout",
     "output_type": "stream",
     "text": [
      "Positive indexing of x1: h\n",
      "Negative indexing of x1: h\n"
     ]
    }
   ],
   "source": [
    "print(\"Positive indexing of x1:\",x1[0])\n",
    "print(\"Negative indexing of x1:\",x1[-9])"
   ]
  },
  {
   "cell_type": "code",
   "execution_count": 40,
   "id": "90cd9a1a-7044-45a8-b478-0cffe3e840f7",
   "metadata": {},
   "outputs": [
    {
     "name": "stdout",
     "output_type": "stream",
     "text": [
      "Positive indexing of x1: i\n",
      "Negative indexing of x1: i\n"
     ]
    }
   ],
   "source": [
    "print(\"Positive indexing of x1:\",x1[1])\n",
    "print(\"Negative indexing of x1:\",x1[-8])"
   ]
  },
  {
   "cell_type": "code",
   "execution_count": 42,
   "id": "4dff17af-b9cf-4633-a2bd-ae65596429be",
   "metadata": {},
   "outputs": [
    {
     "name": "stdout",
     "output_type": "stream",
     "text": [
      "Positive indexing of x1:  \n",
      "Negative indexing of x1:  \n"
     ]
    }
   ],
   "source": [
    "print(\"Positive indexing of x1:\",x1[2])\n",
    "print(\"Negative indexing of x1:\",x1[-7])"
   ]
  },
  {
   "cell_type": "code",
   "execution_count": 43,
   "id": "6a0ab274-dc2d-44bf-9772-1639a6486225",
   "metadata": {},
   "outputs": [
    {
     "name": "stdout",
     "output_type": "stream",
     "text": [
      "Positive indexing of x1: p\n",
      "Negative indexing of x1: p\n"
     ]
    }
   ],
   "source": [
    "print(\"Positive indexing of x1:\",x1[3])\n",
    "print(\"Negative indexing of x1:\",x1[-6])"
   ]
  },
  {
   "cell_type": "code",
   "execution_count": 44,
   "id": "c6cfb36b-445d-4587-a11d-09238ab1e306",
   "metadata": {},
   "outputs": [
    {
     "name": "stdout",
     "output_type": "stream",
     "text": [
      "Positive indexing of x1: y\n",
      "Negative indexing of x1: y\n"
     ]
    }
   ],
   "source": [
    "print(\"Positive indexing of x1:\",x1[4])\n",
    "print(\"Negative indexing of x1:\",x1[-5])"
   ]
  },
  {
   "cell_type": "code",
   "execution_count": 45,
   "id": "545acc7f-6cc1-44cd-aa76-be7556f5bbcd",
   "metadata": {},
   "outputs": [
    {
     "name": "stdout",
     "output_type": "stream",
     "text": [
      "Positive indexing of x1: t\n",
      "Negative indexing of x1: t\n"
     ]
    }
   ],
   "source": [
    "print(\"Positive indexing of x1:\",x1[5])\n",
    "print(\"Negative indexing of x1:\",x1[-4])"
   ]
  },
  {
   "cell_type": "code",
   "execution_count": 46,
   "id": "47279951-44af-473a-9ea9-495b66527e96",
   "metadata": {},
   "outputs": [
    {
     "name": "stdout",
     "output_type": "stream",
     "text": [
      "Positive indexing of x1: h\n",
      "Negative indexing of x1: h\n"
     ]
    }
   ],
   "source": [
    "print(\"Positive indexing of x1:\",x1[6])\n",
    "print(\"Negative indexing of x1:\",x1[-3])"
   ]
  },
  {
   "cell_type": "code",
   "execution_count": 47,
   "id": "3e3995d8-cc78-4be3-9ef9-0c86bcfa8804",
   "metadata": {},
   "outputs": [
    {
     "name": "stdout",
     "output_type": "stream",
     "text": [
      "Positive indexing of x1: o\n",
      "Negative indexing of x1: o\n"
     ]
    }
   ],
   "source": [
    "print(\"Positive indexing of x1:\",x1[7])\n",
    "print(\"Negative indexing of x1:\",x1[-2])"
   ]
  },
  {
   "cell_type": "code",
   "execution_count": 48,
   "id": "59e473a6-3e48-4771-b509-fbb72082b00e",
   "metadata": {},
   "outputs": [
    {
     "name": "stdout",
     "output_type": "stream",
     "text": [
      "Positive indexing of x1: n\n",
      "Negative indexing of x1: n\n"
     ]
    }
   ],
   "source": [
    "print(\"Positive indexing of x1:\",x1[8])\n",
    "print(\"Negative indexing of x1:\",x1[-1])"
   ]
  },
  {
   "cell_type": "markdown",
   "id": "3ec409e5-e492-4935-a870-038f2682a023",
   "metadata": {},
   "source": [
    "# Slicing of string"
   ]
  },
  {
   "cell_type": "code",
   "execution_count": 49,
   "id": "f3aef4be-ee66-4585-b3b0-1d53342a363c",
   "metadata": {},
   "outputs": [
    {
     "data": {
      "text/plain": [
       "'Hello World'"
      ]
     },
     "execution_count": 49,
     "metadata": {},
     "output_type": "execute_result"
    }
   ],
   "source": [
    "# Slicing of string\n",
    "\n",
    "x=\"Hello World\"\n",
    "x"
   ]
  },
  {
   "cell_type": "code",
   "execution_count": 53,
   "id": "52710de7-9a96-47bd-a1c3-9c0ee1c943ba",
   "metadata": {},
   "outputs": [
    {
     "name": "stdout",
     "output_type": "stream",
     "text": [
      "Hello World\n"
     ]
    }
   ],
   "source": [
    "print(x[:])"
   ]
  },
  {
   "cell_type": "code",
   "execution_count": 54,
   "id": "cf9e890a-d0da-4bee-afc4-6aa518dee294",
   "metadata": {},
   "outputs": [
    {
     "name": "stdout",
     "output_type": "stream",
     "text": [
      "Hello World\n"
     ]
    }
   ],
   "source": [
    "print(x)"
   ]
  },
  {
   "cell_type": "code",
   "execution_count": 56,
   "id": "4bf1aecf-04d0-4afc-97b2-39693e3a6c95",
   "metadata": {},
   "outputs": [
    {
     "name": "stdout",
     "output_type": "stream",
     "text": [
      "Hello\n"
     ]
    }
   ],
   "source": [
    "print(x[0:5])"
   ]
  },
  {
   "cell_type": "code",
   "execution_count": 58,
   "id": "3efb0367-dea5-44db-8532-3e01354f65f3",
   "metadata": {},
   "outputs": [
    {
     "name": "stdout",
     "output_type": "stream",
     "text": [
      "World\n"
     ]
    }
   ],
   "source": [
    "# Hello world\n",
    "print(x[6:11])"
   ]
  },
  {
   "cell_type": "code",
   "execution_count": 60,
   "id": "f0c2cb75-b4e1-4c52-b7f8-7535289e9529",
   "metadata": {},
   "outputs": [
    {
     "data": {
      "text/plain": [
       "'The quick brown fox jump over the lazy dog.'"
      ]
     },
     "execution_count": 60,
     "metadata": {},
     "output_type": "execute_result"
    }
   ],
   "source": [
    "x2=\"The quick brown fox jump over the lazy dog.\"\n",
    "x2"
   ]
  },
  {
   "cell_type": "code",
   "execution_count": 63,
   "id": "e5aa45e4-d129-4e13-8e63-8b9ab84aac6a",
   "metadata": {},
   "outputs": [
    {
     "name": "stdout",
     "output_type": "stream",
     "text": [
      "quick\n"
     ]
    }
   ],
   "source": [
    "print(x2[4:9])"
   ]
  },
  {
   "cell_type": "code",
   "execution_count": 64,
   "id": "64c2df05-ea6e-4ed7-8d7d-5c6911dd00d6",
   "metadata": {},
   "outputs": [
    {
     "data": {
      "text/plain": [
       "43"
      ]
     },
     "execution_count": 64,
     "metadata": {},
     "output_type": "execute_result"
    }
   ],
   "source": [
    "# To find the total length of the string?  len()\n",
    "len(x2)"
   ]
  },
  {
   "cell_type": "code",
   "execution_count": 69,
   "id": "8ea16bce-3e91-47dd-a135-1edad74e358c",
   "metadata": {},
   "outputs": [
    {
     "name": "stdout",
     "output_type": "stream",
     "text": [
      "rose\n"
     ]
    }
   ],
   "source": [
    "x3=\"red rose\"\n",
    "print(x3[4:8])"
   ]
  },
  {
   "cell_type": "markdown",
   "id": "2ba3d4f9-7f59-48f9-8630-45be5185f119",
   "metadata": {},
   "source": [
    "# Step value"
   ]
  },
  {
   "cell_type": "code",
   "execution_count": 75,
   "id": "502a641c-6008-4b22-82a9-be3e8c45afca",
   "metadata": {},
   "outputs": [
    {
     "name": "stdout",
     "output_type": "stream",
     "text": [
      "HloWrd\n"
     ]
    }
   ],
   "source": [
    "# skip value\n",
    "\n",
    "message=\"Hello World\"\n",
    "\n",
    "print(message[0:11:2])"
   ]
  },
  {
   "cell_type": "code",
   "execution_count": 79,
   "id": "c815ce3c-6cbd-425f-9c2b-8b20ebcef304",
   "metadata": {},
   "outputs": [
    {
     "data": {
      "text/plain": [
       "'14711'"
      ]
     },
     "execution_count": 79,
     "metadata": {},
     "output_type": "execute_result"
    }
   ],
   "source": [
    "digit='1234567891011'\n",
    "digit[::3]"
   ]
  },
  {
   "cell_type": "code",
   "execution_count": 84,
   "id": "8961b7c6-d3e9-4e54-875a-477fbfd4b5fd",
   "metadata": {},
   "outputs": [
    {
     "data": {
      "text/plain": [
       "'HPh'"
      ]
     },
     "execution_count": 84,
     "metadata": {},
     "output_type": "execute_result"
    }
   ],
   "source": [
    "x4='Hi Python'\n",
    "x4[::3]"
   ]
  },
  {
   "cell_type": "markdown",
   "id": "3ac5da2b-47ac-418a-b0f3-749175d75be0",
   "metadata": {},
   "source": [
    "# Concatenation of strings"
   ]
  },
  {
   "cell_type": "code",
   "execution_count": 6,
   "id": "37b6fc5d-7331-4400-b71b-af5e9a525cc5",
   "metadata": {},
   "outputs": [
    {
     "name": "stdout",
     "output_type": "stream",
     "text": [
      "Hello world \n",
      "How many people are living on the earth?\n"
     ]
    }
   ],
   "source": [
    "# Addition of two or more string \n",
    "\n",
    "x=\"Hello world \"\n",
    "y=\"How many people are living on the earth?\"\n",
    "\n",
    "print(x)\n",
    "print(y)"
   ]
  },
  {
   "cell_type": "code",
   "execution_count": 7,
   "id": "a1186f73-246a-411c-bef3-3623ab0658ad",
   "metadata": {},
   "outputs": [
    {
     "data": {
      "text/plain": [
       "'Hello world How many people are living on the earth?'"
      ]
     },
     "execution_count": 7,
     "metadata": {},
     "output_type": "execute_result"
    }
   ],
   "source": [
    "x+y"
   ]
  },
  {
   "cell_type": "code",
   "execution_count": 8,
   "id": "71bd855b-fa45-4ea9-bc5c-5d80023f7d84",
   "metadata": {},
   "outputs": [
    {
     "data": {
      "text/plain": [
       "'Hello world Hello world Hello world Hello world '"
      ]
     },
     "execution_count": 8,
     "metadata": {},
     "output_type": "execute_result"
    }
   ],
   "source": [
    "4*x"
   ]
  },
  {
   "cell_type": "code",
   "execution_count": 9,
   "id": "9121afd3-bbb7-42a5-aa5d-f47cc7231c17",
   "metadata": {},
   "outputs": [
    {
     "data": {
      "text/plain": [
       "12"
      ]
     },
     "execution_count": 9,
     "metadata": {},
     "output_type": "execute_result"
    }
   ],
   "source": [
    "4*3"
   ]
  },
  {
   "cell_type": "code",
   "execution_count": 10,
   "id": "7fbcc747-2516-4beb-943f-cf26bc81dfb2",
   "metadata": {},
   "outputs": [
    {
     "data": {
      "text/plain": [
       "'How many people are living on the earth?How many people are living on the earth?How many people are living on the earth?How many people are living on the earth?How many people are living on the earth?'"
      ]
     },
     "execution_count": 10,
     "metadata": {},
     "output_type": "execute_result"
    }
   ],
   "source": [
    "5*y"
   ]
  },
  {
   "cell_type": "markdown",
   "id": "d8fa8f29-bf2f-4a89-83f8-a8cf3447b9eb",
   "metadata": {},
   "source": [
    "# Escape Seque"
   ]
  },
  {
   "cell_type": "code",
   "execution_count": 11,
   "id": "dc8b0b2b-2bf5-4e36-996b-5171f4e35a13",
   "metadata": {},
   "outputs": [
    {
     "name": "stdout",
     "output_type": "stream",
     "text": [
      "Hello world\n"
     ]
    }
   ],
   "source": [
    "print('Hello world')"
   ]
  },
  {
   "cell_type": "code",
   "execution_count": 12,
   "id": "6340155f-0e51-49fb-9ac2-83c705988ae5",
   "metadata": {},
   "outputs": [
    {
     "name": "stdout",
     "output_type": "stream",
     "text": [
      "!@#$%^\n"
     ]
    }
   ],
   "source": [
    "print('!@#$%^')"
   ]
  },
  {
   "cell_type": "code",
   "execution_count": 13,
   "id": "0776d152-c4d6-4050-9ddb-af3c1f164e7f",
   "metadata": {},
   "outputs": [
    {
     "ename": "SyntaxError",
     "evalue": "unterminated string literal (detected at line 1) (4138952293.py, line 1)",
     "output_type": "error",
     "traceback": [
      "\u001b[1;36m  Cell \u001b[1;32mIn[13], line 1\u001b[1;36m\u001b[0m\n\u001b[1;33m    print('\\')\u001b[0m\n\u001b[1;37m          ^\u001b[0m\n\u001b[1;31mSyntaxError\u001b[0m\u001b[1;31m:\u001b[0m unterminated string literal (detected at line 1)\n"
     ]
    }
   ],
   "source": [
    "print('\\')"
   ]
  },
  {
   "cell_type": "code",
   "execution_count": 14,
   "id": "d4069f15-8501-4495-942c-b13dc25c7e1a",
   "metadata": {},
   "outputs": [
    {
     "ename": "SyntaxError",
     "evalue": "unterminated string literal (detected at line 1) (190624804.py, line 1)",
     "output_type": "error",
     "traceback": [
      "\u001b[1;36m  Cell \u001b[1;32mIn[14], line 1\u001b[1;36m\u001b[0m\n\u001b[1;33m    '\\'\u001b[0m\n\u001b[1;37m    ^\u001b[0m\n\u001b[1;31mSyntaxError\u001b[0m\u001b[1;31m:\u001b[0m unterminated string literal (detected at line 1)\n"
     ]
    }
   ],
   "source": [
    "'\\'"
   ]
  },
  {
   "cell_type": "code",
   "execution_count": 15,
   "id": "ca5af659-103c-44c3-b302-2f173e2dbb4a",
   "metadata": {},
   "outputs": [
    {
     "name": "stdout",
     "output_type": "stream",
     "text": [
      "\\\n"
     ]
    }
   ],
   "source": [
    "print('\\\\')"
   ]
  },
  {
   "cell_type": "code",
   "execution_count": 16,
   "id": "4c152b59-0dd9-447b-8dc0-4ebcc9645dcb",
   "metadata": {},
   "outputs": [
    {
     "ename": "SyntaxError",
     "evalue": "unterminated string literal (detected at line 1) (2779194834.py, line 1)",
     "output_type": "error",
     "traceback": [
      "\u001b[1;36m  Cell \u001b[1;32mIn[16], line 1\u001b[1;36m\u001b[0m\n\u001b[1;33m    print('\\\\\\')\u001b[0m\n\u001b[1;37m          ^\u001b[0m\n\u001b[1;31mSyntaxError\u001b[0m\u001b[1;31m:\u001b[0m unterminated string literal (detected at line 1)\n"
     ]
    }
   ],
   "source": [
    "print('\\\\\\')"
   ]
  },
  {
   "cell_type": "code",
   "execution_count": 17,
   "id": "06a0c28f-95b0-4c2f-bceb-f64b20036f52",
   "metadata": {},
   "outputs": [
    {
     "ename": "SyntaxError",
     "evalue": "unterminated string literal (detected at line 1) (2779194834.py, line 1)",
     "output_type": "error",
     "traceback": [
      "\u001b[1;36m  Cell \u001b[1;32mIn[17], line 1\u001b[1;36m\u001b[0m\n\u001b[1;33m    print('\\\\\\')\u001b[0m\n\u001b[1;37m          ^\u001b[0m\n\u001b[1;31mSyntaxError\u001b[0m\u001b[1;31m:\u001b[0m unterminated string literal (detected at line 1)\n"
     ]
    }
   ],
   "source": [
    "print('\\\\\\')"
   ]
  },
  {
   "cell_type": "code",
   "execution_count": 18,
   "id": "35319002-8f8d-4509-9247-9a86bf6e1745",
   "metadata": {},
   "outputs": [
    {
     "name": "stdout",
     "output_type": "stream",
     "text": [
      "\\\\\n"
     ]
    }
   ],
   "source": [
    "print(\"\\\\\\\\\")"
   ]
  },
  {
   "cell_type": "code",
   "execution_count": 19,
   "id": "be6c3ce4-ce42-43bf-9ee4-499bd3a9cf7f",
   "metadata": {},
   "outputs": [
    {
     "ename": "SyntaxError",
     "evalue": "unterminated string literal (detected at line 1) (2955580404.py, line 1)",
     "output_type": "error",
     "traceback": [
      "\u001b[1;36m  Cell \u001b[1;32mIn[19], line 1\u001b[1;36m\u001b[0m\n\u001b[1;33m    print('\\\\\\\\\\')\u001b[0m\n\u001b[1;37m          ^\u001b[0m\n\u001b[1;31mSyntaxError\u001b[0m\u001b[1;31m:\u001b[0m unterminated string literal (detected at line 1)\n"
     ]
    }
   ],
   "source": [
    "print('\\\\\\\\\\')"
   ]
  },
  {
   "cell_type": "code",
   "execution_count": 20,
   "id": "941903ae-9aea-4c2f-a28b-bb6146a16928",
   "metadata": {},
   "outputs": [
    {
     "name": "stdout",
     "output_type": "stream",
     "text": [
      "\\\\\\\n"
     ]
    }
   ],
   "source": [
    "print(\"\\\\\\\\\\\\\")"
   ]
  },
  {
   "cell_type": "code",
   "execution_count": 21,
   "id": "4a7d53d5-e47f-473a-ae6e-e68ee2e077c7",
   "metadata": {},
   "outputs": [
    {
     "name": "stdout",
     "output_type": "stream",
     "text": [
      "Hello world \n",
      "How many people are living on the earth?\n"
     ]
    }
   ],
   "source": [
    "\n",
    "x=\"Hello world \"\n",
    "y=\"How many people are living on the earth?\"\n",
    "\n",
    "print(x)\n",
    "print(y)"
   ]
  },
  {
   "cell_type": "code",
   "execution_count": 23,
   "id": "cdcb8dcc-e84d-49df-9bbf-292a7fe77f65",
   "metadata": {},
   "outputs": [
    {
     "name": "stdout",
     "output_type": "stream",
     "text": [
      "Hello world How many people are living on the earth?\n"
     ]
    }
   ],
   "source": [
    "print(\"Hello world How many people are living on the earth?\")"
   ]
  },
  {
   "cell_type": "code",
   "execution_count": 25,
   "id": "1801b9ee-6777-4d13-ac62-2037bb89b560",
   "metadata": {},
   "outputs": [
    {
     "name": "stdout",
     "output_type": "stream",
     "text": [
      "Hello world\n",
      "How many people are living on the earth?\n"
     ]
    }
   ],
   "source": [
    "print(\"Hello world\\nHow many people are living on the earth?\")  # \\n -> print the data in new line"
   ]
  },
  {
   "cell_type": "code",
   "execution_count": 26,
   "id": "6efe5f8b-3a39-44ed-a233-3eb57105e5d6",
   "metadata": {},
   "outputs": [
    {
     "name": "stdout",
     "output_type": "stream",
     "text": [
      "Hello world\tHow many people are living on the earth?\n"
     ]
    }
   ],
   "source": [
    "print(\"Hello world\\tHow many people are living on the earth?\")   # \\t ----> tab include 4 spaces"
   ]
  },
  {
   "cell_type": "code",
   "execution_count": 37,
   "id": "fc2af3ee-e6b6-465f-a22f-cad20bab80c0",
   "metadata": {},
   "outputs": [
    {
     "name": "stdout",
     "output_type": "stream",
     "text": [
      "Hello world \\\\How many people are living on the earth?\n"
     ]
    }
   ],
   "source": [
    "print(\"Hello world \\\\\\How many people are living on the earth?\")"
   ]
  },
  {
   "cell_type": "code",
   "execution_count": 34,
   "id": "6e5b4db4-af89-43c6-a199-6a85244bb4cd",
   "metadata": {},
   "outputs": [
    {
     "name": "stdout",
     "output_type": "stream",
     "text": [
      "\\ \n"
     ]
    }
   ],
   "source": [
    "print('\\ ')"
   ]
  },
  {
   "cell_type": "markdown",
   "id": "c24c8190-d769-41f0-8cf9-4a0d8decfa74",
   "metadata": {},
   "source": [
    "# String method"
   ]
  },
  {
   "cell_type": "code",
   "execution_count": 40,
   "id": "5b172bb4-0182-415d-b398-0794a5ca079a",
   "metadata": {},
   "outputs": [
    {
     "data": {
      "text/plain": [
       "'Hello world'"
      ]
     },
     "execution_count": 40,
     "metadata": {},
     "output_type": "execute_result"
    }
   ],
   "source": [
    "x='hello world'\n",
    "\n",
    "# Capitalize\n",
    "x.capitalize()"
   ]
  },
  {
   "cell_type": "code",
   "execution_count": 41,
   "id": "a071dd31-071b-4fd7-b7d1-4662a64a1919",
   "metadata": {},
   "outputs": [
    {
     "data": {
      "text/plain": [
       "'helllo world'"
      ]
     },
     "execution_count": 41,
     "metadata": {},
     "output_type": "execute_result"
    }
   ],
   "source": [
    "# lower case\n",
    "\n",
    "x1=\"HELLLO WORLD\"\n",
    "\n",
    "x1.lower()"
   ]
  },
  {
   "cell_type": "code",
   "execution_count": 43,
   "id": "66d314c3-93ec-4070-bbbf-7fe61a56e521",
   "metadata": {},
   "outputs": [
    {
     "data": {
      "text/plain": [
       "'Hello World'"
      ]
     },
     "execution_count": 43,
     "metadata": {},
     "output_type": "execute_result"
    }
   ],
   "source": [
    "# title\n",
    "\n",
    "x2= \"hello world\"\n",
    "x2.title()"
   ]
  },
  {
   "cell_type": "code",
   "execution_count": 44,
   "id": "e7492b64-163b-406a-b877-288e40fee326",
   "metadata": {},
   "outputs": [
    {
     "data": {
      "text/plain": [
       "'HELLO WORLD'"
      ]
     },
     "execution_count": 44,
     "metadata": {},
     "output_type": "execute_result"
    }
   ],
   "source": [
    "# upper case\n",
    "\n",
    "x3='hello world'\n",
    "\n",
    "x3.upper()"
   ]
  },
  {
   "cell_type": "code",
   "execution_count": 49,
   "id": "dd24c0d2-53c9-4014-a8ce-61b3f7ebec86",
   "metadata": {},
   "outputs": [
    {
     "data": {
      "text/plain": [
       "1"
      ]
     },
     "execution_count": 49,
     "metadata": {},
     "output_type": "execute_result"
    }
   ],
   "source": [
    "# count()\n",
    "\n",
    "x4=\"HelLo world\"\n",
    "\n",
    "x4.count('H')"
   ]
  },
  {
   "cell_type": "code",
   "execution_count": 54,
   "id": "4350a8b3-ada6-42c5-b997-b26d068b31b2",
   "metadata": {},
   "outputs": [
    {
     "data": {
      "text/plain": [
       "10"
      ]
     },
     "execution_count": 54,
     "metadata": {},
     "output_type": "execute_result"
    }
   ],
   "source": [
    "# index()\n",
    "\n",
    "x5='Hello world'\n",
    "\n",
    "x5.index(\"d\")"
   ]
  },
  {
   "cell_type": "code",
   "execution_count": 55,
   "id": "20aafc42-acec-47a2-9953-9fdc77344615",
   "metadata": {},
   "outputs": [
    {
     "data": {
      "text/plain": [
       "'Hello Lalit'"
      ]
     },
     "execution_count": 55,
     "metadata": {},
     "output_type": "execute_result"
    }
   ],
   "source": [
    "# replace()\n",
    "\n",
    "x6=\"Hello World\"\n",
    "\n",
    "x6.replace(\"World\",\"Lalit\")"
   ]
  },
  {
   "cell_type": "code",
   "execution_count": 57,
   "id": "dc92ac97-6dc5-4b05-a1bf-b804aae4e6bb",
   "metadata": {},
   "outputs": [
    {
     "data": {
      "text/plain": [
       "['14', '02', '2024']"
      ]
     },
     "execution_count": 57,
     "metadata": {},
     "output_type": "execute_result"
    }
   ],
   "source": [
    "# split()\n",
    "\n",
    "x7='14/02/2024'\n",
    "x7.split('/')"
   ]
  },
  {
   "cell_type": "code",
   "execution_count": 59,
   "id": "b2df1244-a062-40ab-8183-a29814d9f0b3",
   "metadata": {},
   "outputs": [
    {
     "data": {
      "text/plain": [
       "['Hello', 'world']"
      ]
     },
     "execution_count": 59,
     "metadata": {},
     "output_type": "execute_result"
    }
   ],
   "source": [
    "x=\"Hello world\"\n",
    "\n",
    "x.split(' ')"
   ]
  },
  {
   "cell_type": "code",
   "execution_count": 61,
   "id": "69554c81-bc7c-43c6-80ce-90796812951f",
   "metadata": {},
   "outputs": [
    {
     "data": {
      "text/plain": [
       "False"
      ]
     },
     "execution_count": 61,
     "metadata": {},
     "output_type": "execute_result"
    }
   ],
   "source": [
    "x8='abc123'\n",
    "\n",
    "# check it is number or alphabet \n",
    "\n",
    "x8.isnumeric()   # only in number format"
   ]
  },
  {
   "cell_type": "code",
   "execution_count": 65,
   "id": "ddfbcbb5-04a0-4f24-ba1b-1f989d88524f",
   "metadata": {},
   "outputs": [
    {
     "data": {
      "text/plain": [
       "True"
      ]
     },
     "execution_count": 65,
     "metadata": {},
     "output_type": "execute_result"
    }
   ],
   "source": [
    "x9='abc'\n",
    "\n",
    "x9.isalnum()   # al---> alphabet, num=number"
   ]
  },
  {
   "cell_type": "code",
   "execution_count": 66,
   "id": "539323d6-01f9-4b87-ace4-b6b65d64cc90",
   "metadata": {},
   "outputs": [
    {
     "data": {
      "text/plain": [
       "True"
      ]
     },
     "execution_count": 66,
     "metadata": {},
     "output_type": "execute_result"
    }
   ],
   "source": [
    "x10='123165'\n",
    "\n",
    "x10.isalnum()"
   ]
  },
  {
   "cell_type": "code",
   "execution_count": 67,
   "id": "6b59053f-c7a8-4772-97ad-8eda9bdbf8dc",
   "metadata": {},
   "outputs": [
    {
     "data": {
      "text/plain": [
       "True"
      ]
     },
     "execution_count": 67,
     "metadata": {},
     "output_type": "execute_result"
    }
   ],
   "source": [
    "x=\"HELLO WORLD\"\n",
    "\n",
    "x.isupper()"
   ]
  },
  {
   "cell_type": "code",
   "execution_count": 69,
   "id": "c65ec438-ad5f-4250-b25d-6d865c260a84",
   "metadata": {},
   "outputs": [
    {
     "data": {
      "text/plain": [
       "False"
      ]
     },
     "execution_count": 69,
     "metadata": {},
     "output_type": "execute_result"
    }
   ],
   "source": [
    "x2=\"Hello world\"\n",
    "x2.isupper()"
   ]
  },
  {
   "cell_type": "code",
   "execution_count": 72,
   "id": "60c011a9-f37a-4066-89ce-17560b049a46",
   "metadata": {},
   "outputs": [
    {
     "data": {
      "text/plain": [
       "False"
      ]
     },
     "execution_count": 72,
     "metadata": {},
     "output_type": "execute_result"
    }
   ],
   "source": [
    "x2.islower()"
   ]
  },
  {
   "cell_type": "code",
   "execution_count": 73,
   "id": "264958e5-562c-4263-9503-4476e03dd325",
   "metadata": {},
   "outputs": [
    {
     "data": {
      "text/plain": [
       "True"
      ]
     },
     "execution_count": 73,
     "metadata": {},
     "output_type": "execute_result"
    }
   ],
   "source": [
    "y=\"hello world\"\n",
    "y.islower()"
   ]
  },
  {
   "cell_type": "code",
   "execution_count": null,
   "id": "3bc55442-1a0c-4513-b4fc-124261b443f6",
   "metadata": {},
   "outputs": [],
   "source": []
  }
 ],
 "metadata": {
  "kernelspec": {
   "display_name": "Python 3 (ipykernel)",
   "language": "python",
   "name": "python3"
  },
  "language_info": {
   "codemirror_mode": {
    "name": "ipython",
    "version": 3
   },
   "file_extension": ".py",
   "mimetype": "text/x-python",
   "name": "python",
   "nbconvert_exporter": "python",
   "pygments_lexer": "ipython3",
   "version": "3.11.4"
  }
 },
 "nbformat": 4,
 "nbformat_minor": 5
}
