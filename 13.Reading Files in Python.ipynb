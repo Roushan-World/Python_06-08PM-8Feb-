{
 "cells": [
  {
   "cell_type": "markdown",
   "id": "47332291-4adb-4d1b-a8da-73d0cec83237",
   "metadata": {},
   "source": [
    "# 13. Reading Files in Python\n",
    "\n",
    " * __To read a text file for reading in Python, follow these steps:__\n",
    " * __First, Open a text file for reading by using the open() functions.__\n",
    " * __Second, read text from the text file using the file read(), readline(), readlines() method of the file object.__\n",
    " * __Third, close the file close() method. This frees up resources and ensures consistency across different python version.__\n",
    "\n",
    "\n",
    "# Method and It's Description.\n",
    "\n",
    " * __Writeable() | Returns whether the file can be written or not.__\n",
    " * __readable()  | Returns whether the file stream can be read or not.__\n",
    " * __read():     | Returns the file content.__\n",
    " * __readline()  | Returns one line from the file.__\n",
    " * __readlines() | Returns a list of lines from the file.__\n",
    " * __write()     | Writes the specified string to the file.__\n",
    " * __writelines()| Writes a list of string to the file.__\n",
    " * __close()     | Close the file.__\n",
    " * __flush()     | Flushed the internal buffer.__\n",
    " * __seek()      | Change the file position.__\n",
    " * __tell()      | Returns the current file.__\n",
    " * __truncate()  | Resize the file to the specified.__"
   ]
  },
  {
   "cell_type": "code",
   "execution_count": 4,
   "id": "cca26be0-326f-4a4e-80d4-e71e3cdd0929",
   "metadata": {},
   "outputs": [
    {
     "data": {
      "text/plain": [
       "'Chandra Shekhar Azad\\n was born on 23 July 1906 in Jujhautiya Brahmins family of Pandit SitaramTiwar i and Jagrani Devi in the bhabara (of jhabua District)|madhy Pradesh. He spent his childhood inthe village Bhabhra when his father was serving in the erstwhile estate of Alirajpur \\nHe got\\n the natural training of a hardy and rough life along with the Bhils who inhabited the wildregion. From his Bhil friends, early in life, be learnt wrestling and swimming. He also became moreskilled with the bow and arrow. He learnt to throw the Bhala or Javelin, to shoot straight, to ride anduse the sword, in all of which he became proficient.\\nFrom\\n his childhood, he remained a devotee of\\nHanuman\\n throughout his life, and had a very strongPehelwan(wrestler)-like body.\\nHe was even called\\n Bhimsen or Bhim Dada later. After the early education in Jhabua, he was sentto theSanskrit Pathashala at Varanasi, where a near relative of the family, probably maternal unclewas then living. He returned home after a few months and he was admitted in the local school at Alirajpur. Again his father sent him to Benares for the boy exhibited a strange waywardness.\\nThis time\\n he remained there and studied properly. On the whole, he was an average student.Political Initiation From the very outset, he had a deep aversion for study which was of no real but tosimply churn out quill drivers or babus for the use of the British Raj in India. His stay at Benareshowever had a salutary effect upon his life, for he came in contact with many young men and ideas.\\nThe atmosphere\\n was such that he got the opportunity of studying many things, especially the unhappy events which were then happeningin the country. Bit by bit, his mind was being drawn to the political situation of the country. Young Chandra Shekhar was f ascinated by anddrawn to the great national upsurge of the non-violent, non-cooperation movement of 1920-21 under the leadership of Mahatma Gandhi.I\\nt is during\\n this time, when the\\nJallianwala Baag massacre\\n by British Army took place in Amritsar where hunderds (at least 2000) unarmed,peaceful and unwarned civilians were fired upon. This event had a profound effect on Indian national movement and inspired several youngIndians, like Azad, into political movement for liberation. The young mind of Chandrashekhar was wax to receive and marble to retain.\\nFrom Chandrashekhar Tewari to Chandrashekhar â€˜Azadâ€™\\nTo protest the massacre and demanding the liberation, various popular activities sprouted up throughout the country. While participating in oneof these movements, Chandra Shekhar was arrested when he was just 16 years of age.He was brought to court. The Magistrate asked him, â€œWhat is your name?\\ngoing to become very famous. He gave his name as â€˜\\nAzadâ€™,\\n his fatherâ€™s name asâ€˜Swatantraâ€™ and his place of dwelling as â€˜prison cellâ€™. Astonished was the Magistrate atthese straight and bold answers. Azad was sentenced to fifteen canes. He wasbeaten very severely. At every beat, his body turned blue and red and blood oozed outfreely. Azad was highly honored by the citizens and profusely garlanded when hecame out from jail. His photos appeared in the Press with streamlined captions.\\nFromhere on, he would be known far and wide as â€˜Azadâ€™, forever.\\n After this incident, Shri Provesh, the chief organiser of the Revolutionary Party in India,sought him and persuaded him to join it. Azad proved to be a restless worker. He issuedsecretly and silently, many leaflets and bulletins to drive away the misconceptionsentertained by the people of the country. He proved a master propagandist. In physicalstrength, none equaled him and he was called Bhim Dada. Other eminent members of the party working along with Azad were Shri Yogesh Chatterji, Shri Sachin Sanyal andShri Rabindranath Kar. Men in the party learned all the arts of modern warfare. The mainproblem was finance. Finances! From where could the money be had? This was themajor issue before the party. To ask openly was impossible and to obtain it secretly was amuch more difficult task.'"
      ]
     },
     "execution_count": 4,
     "metadata": {},
     "output_type": "execute_result"
    }
   ],
   "source": [
    "x= 'C:\\\\Users\\\\Admin\\\\Downloads\\\\Chandra_Shekhar_Azad.txt'   # quotes. single or double\n",
    "\n",
    "file=open(x,'r')\n",
    "\n",
    "content=file.read()\n",
    "content"
   ]
  },
  {
   "cell_type": "code",
   "execution_count": 6,
   "id": "50dd6024-a629-434b-a0c8-1cfdbda01fba",
   "metadata": {},
   "outputs": [
    {
     "name": "stdout",
     "output_type": "stream",
     "text": [
      "Chandra Shekhar Azad\n",
      " was born on 23 July 1906 in Jujhautiya Brahmins family of Pandit SitaramTiwar i and Jagrani Devi in the bhabara (of jhabua District)|madhy Pradesh. He spent his childhood inthe village Bhabhra when his father was serving in the erstwhile estate of Alirajpur \n",
      "He got\n",
      " the natural training of a hardy and rough life along with the Bhils who inhabited the wildregion. From his Bhil friends, early in life, be learnt wrestling and swimming. He also became moreskilled with the bow and arrow. He learnt to throw the Bhala or Javelin, to shoot straight, to ride anduse the sword, in all of which he became proficient.\n",
      "From\n",
      " his childhood, he remained a devotee of\n",
      "Hanuman\n",
      " throughout his life, and had a very strongPehelwan(wrestler)-like body.\n",
      "He was even called\n",
      " Bhimsen or Bhim Dada later. After the early education in Jhabua, he was sentto theSanskrit Pathashala at Varanasi, where a near relative of the family, probably maternal unclewas then living. He returned home after a few months and he was admitted in the local school at Alirajpur. Again his father sent him to Benares for the boy exhibited a strange waywardness.\n",
      "This time\n",
      " he remained there and studied properly. On the whole, he was an average student.Political Initiation From the very outset, he had a deep aversion for study which was of no real but tosimply churn out quill drivers or babus for the use of the British Raj in India. His stay at Benareshowever had a salutary effect upon his life, for he came in contact with many young men and ideas.\n",
      "The atmosphere\n",
      " was such that he got the opportunity of studying many things, especially the unhappy events which were then happeningin the country. Bit by bit, his mind was being drawn to the political situation of the country. Young Chandra Shekhar was f ascinated by anddrawn to the great national upsurge of the non-violent, non-cooperation movement of 1920-21 under the leadership of Mahatma Gandhi.I\n",
      "t is during\n",
      " this time, when the\n",
      "Jallianwala Baag massacre\n",
      " by British Army took place in Amritsar where hunderds (at least 2000) unarmed,peaceful and unwarned civilians were fired upon. This event had a profound effect on Indian national movement and inspired several youngIndians, like Azad, into political movement for liberation. The young mind of Chandrashekhar was wax to receive and marble to retain.\n",
      "From Chandrashekhar Tewari to Chandrashekhar â€˜Azadâ€™\n",
      "To protest the massacre and demanding the liberation, various popular activities sprouted up throughout the country. While participating in oneof these movements, Chandra Shekhar was arrested when he was just 16 years of age.He was brought to court. The Magistrate asked him, â€œWhat is your name?\n",
      "going to become very famous. He gave his name as â€˜\n",
      "Azadâ€™,\n",
      " his fatherâ€™s name asâ€˜Swatantraâ€™ and his place of dwelling as â€˜prison cellâ€™. Astonished was the Magistrate atthese straight and bold answers. Azad was sentenced to fifteen canes. He wasbeaten very severely. At every beat, his body turned blue and red and blood oozed outfreely. Azad was highly honored by the citizens and profusely garlanded when hecame out from jail. His photos appeared in the Press with streamlined captions.\n",
      "Fromhere on, he would be known far and wide as â€˜Azadâ€™, forever.\n",
      " After this incident, Shri Provesh, the chief organiser of the Revolutionary Party in India,sought him and persuaded him to join it. Azad proved to be a restless worker. He issuedsecretly and silently, many leaflets and bulletins to drive away the misconceptionsentertained by the people of the country. He proved a master propagandist. In physicalstrength, none equaled him and he was called Bhim Dada. Other eminent members of the party working along with Azad were Shri Yogesh Chatterji, Shri Sachin Sanyal andShri Rabindranath Kar. Men in the party learned all the arts of modern warfare. The mainproblem was finance. Finances! From where could the money be had? This was themajor issue before the party. To ask openly was impossible and to obtain it secretly was amuch more difficult task.\n"
     ]
    }
   ],
   "source": [
    "print(content)"
   ]
  },
  {
   "cell_type": "code",
   "execution_count": 8,
   "id": "52bbd9dd-d746-4513-aec5-8f7c1e58b34f",
   "metadata": {},
   "outputs": [
    {
     "data": {
      "text/plain": [
       "4069"
      ]
     },
     "execution_count": 8,
     "metadata": {},
     "output_type": "execute_result"
    }
   ],
   "source": [
    "len(content)"
   ]
  },
  {
   "cell_type": "code",
   "execution_count": 14,
   "id": "9f93ca3d-40b2-4acf-a14d-9f8a65422162",
   "metadata": {},
   "outputs": [
    {
     "name": "stdout",
     "output_type": "stream",
     "text": [
      "C:\\Users\\Admin\\Downloads\\Chandra_Shekhar_Azad.txt\n",
      "r\n",
      "<class 'str'>\n"
     ]
    }
   ],
   "source": [
    "# print path of the file.\n",
    "\n",
    "print(file.name)\n",
    "\n",
    "# printing mode of the file.\n",
    "\n",
    "print(file.mode)\n",
    "\n",
    "\n",
    "# printing type of the file.\n",
    "print(type(x))"
   ]
  },
  {
   "cell_type": "code",
   "execution_count": 15,
   "id": "2bee39fd-cf7b-4810-ad12-6582e2ed87b5",
   "metadata": {},
   "outputs": [
    {
     "name": "stdout",
     "output_type": "stream",
     "text": [
      "Chandra Shekhar Azad\n",
      " was born on 23 July 1906 in Jujhautiya Brahmins family of Pandit SitaramTiwar i and Jagrani Devi in the bhabara (of jhabua District)|madhy Pradesh. He spent his childhood inthe village Bhabhra when his father was serving in the erstwhile estate of Alirajpur \n",
      "He got\n",
      " the natural training of a hardy and rough life along with the Bhils who inhabited the wildregion. From his Bhil friends, early in life, be learnt wrestling and swimming. He also became moreskilled with the bow and arrow. He learnt to throw the Bhala or Javelin, to shoot straight, to ride anduse the sword, in all of which he became proficient.\n",
      "From\n",
      " his childhood, he remained a devotee of\n",
      "Hanuman\n",
      " throughout his life, and had a very strongPehelwan(wrestler)-like body.\n",
      "He was even called\n",
      " Bhimsen or Bhim Dada later. After the early education in Jhabua, he was sentto theSanskrit Pathashala at Varanasi, where a near relative of the family, probably maternal unclewas then living. He returned home after a few months and he was admitted in the local school at Alirajpur. Again his father sent him to Benares for the boy exhibited a strange waywardness.\n",
      "This time\n",
      " he remained there and studied properly. On the whole, he was an average student.Political Initiation From the very outset, he had a deep aversion for study which was of no real but tosimply churn out quill drivers or babus for the use of the British Raj in India. His stay at Benareshowever had a salutary effect upon his life, for he came in contact with many young men and ideas.\n",
      "The atmosphere\n",
      " was such that he got the opportunity of studying many things, especially the unhappy events which were then happeningin the country. Bit by bit, his mind was being drawn to the political situation of the country. Young Chandra Shekhar was f ascinated by anddrawn to the great national upsurge of the non-violent, non-cooperation movement of 1920-21 under the leadership of Mahatma Gandhi.I\n",
      "t is during\n",
      " this time, when the\n",
      "Jallianwala Baag massacre\n",
      " by British Army took place in Amritsar where hunderds (at least 2000) unarmed,peaceful and unwarned civilians were fired upon. This event had a profound effect on Indian national movement and inspired several youngIndians, like Azad, into political movement for liberation. The young mind of Chandrashekhar was wax to receive and marble to retain.\n",
      "From Chandrashekhar Tewari to Chandrashekhar â€˜Azadâ€™\n",
      "To protest the massacre and demanding the liberation, various popular activities sprouted up throughout the country. While participating in oneof these movements, Chandra Shekhar was arrested when he was just 16 years of age.He was brought to court. The Magistrate asked him, â€œWhat is your name?\n",
      "going to become very famous. He gave his name as â€˜\n",
      "Azadâ€™,\n",
      " his fatherâ€™s name asâ€˜Swatantraâ€™ and his place of dwelling as â€˜prison cellâ€™. Astonished was the Magistrate atthese straight and bold answers. Azad was sentenced to fifteen canes. He wasbeaten very severely. At every beat, his body turned blue and red and blood oozed outfreely. Azad was highly honored by the citizens and profusely garlanded when hecame out from jail. His photos appeared in the Press with streamlined captions.\n",
      "Fromhere on, he would be known far and wide as â€˜Azadâ€™, forever.\n",
      " After this incident, Shri Provesh, the chief organiser of the Revolutionary Party in India,sought him and persuaded him to join it. Azad proved to be a restless worker. He issuedsecretly and silently, many leaflets and bulletins to drive away the misconceptionsentertained by the people of the country. He proved a master propagandist. In physicalstrength, none equaled him and he was called Bhim Dada. Other eminent members of the party working along with Azad were Shri Yogesh Chatterji, Shri Sachin Sanyal andShri Rabindranath Kar. Men in the party learned all the arts of modern warfare. The mainproblem was finance. Finances! From where could the money be had? This was themajor issue before the party. To ask openly was impossible and to obtain it secretly was amuch more difficult task.\n"
     ]
    }
   ],
   "source": [
    "# another method to open file\n",
    "y= 'C:\\\\Users\\\\Admin\\\\Downloads\\\\Chandra_Shekhar_Azad.txt'\n",
    "\n",
    "with open(y,'r') as f:\n",
    "    new_variable=f.read()\n",
    "    print(new_variable)"
   ]
  },
  {
   "cell_type": "code",
   "execution_count": 28,
   "id": "05af425e-4719-41b4-aa75-70dcf08ff9be",
   "metadata": {},
   "outputs": [
    {
     "name": "stdout",
     "output_type": "stream",
     "text": [
      "Chandra Sh\n",
      "ekhar Azad\n",
      " was born on 23 July 1906 in Jujhautiya Brahmins family of Pandit SitaramTiwar i and Jagr\n",
      "ani Devi in the bhabara (of jhabua District)|madhy Pradesh. He spent his childhood inthe village Bha\n",
      "bhra when his father was serving in the erstwhile estate of Alirajpur \n",
      "He got\n",
      " the natural training \n"
     ]
    }
   ],
   "source": [
    "y= 'C:\\\\Users\\\\Admin\\\\Downloads\\\\Chandra_Shekhar_Azad.txt'\n",
    "\n",
    "with open(y,'r') as f:\n",
    "    print(f.read(10))\n",
    "    print(f.read(100))\n",
    "    print(f.read(100))\n",
    "    print(f.read(100))"
   ]
  },
  {
   "cell_type": "code",
   "execution_count": 35,
   "id": "ef546196-519a-4991-96bf-3e8472c05745",
   "metadata": {},
   "outputs": [
    {
     "name": "stdout",
     "output_type": "stream",
     "text": [
      "Chandra Shekhar Azad\n",
      "\n",
      " was born on 23 July 1906 in Jujhautiya Brahmins family of Pandit SitaramTiwar i and Jagrani Devi in the bhabara (of jhabua District)|madhy Pradesh. He spent his childhood inthe village Bhabhra when his father was serving in the erstwhile estate of Alirajpur \n",
      "\n",
      "He got\n",
      "\n",
      " the natural training of a hardy and rough life along with the Bhils who inhabited the wildregion. From his Bhil friends, early in life, be learnt wrestling and swimming. He also became moreskilled with the bow and arrow. He learnt to throw the Bhala or Javelin, to shoot straight, to ride anduse the sword, in all of which he became proficient.\n",
      "\n",
      "From\n",
      "\n",
      " his childhood, he remained a devotee of\n",
      "\n",
      "Hanuman\n",
      "\n"
     ]
    }
   ],
   "source": [
    "y= 'C:\\\\Users\\\\Admin\\\\Downloads\\\\Chandra_Shekhar_Azad.txt'\n",
    "\n",
    "with open(y,'r') as f:\n",
    "    print(f.readline())\n",
    "    print(f.readline())\n",
    "    print(f.readline())\n",
    "    print(f.readline())\n",
    "    print(f.readline())\n",
    "    print(f.readline())\n",
    "    print(f.readline())"
   ]
  },
  {
   "cell_type": "code",
   "execution_count": 37,
   "id": "82874a89-dfca-4f9e-89b9-d04d46915b57",
   "metadata": {},
   "outputs": [
    {
     "name": "stdout",
     "output_type": "stream",
     "text": [
      "Chandra Sh\n",
      "ekhar Azad\n"
     ]
    }
   ],
   "source": [
    "y= 'C:\\\\Users\\\\Admin\\\\Downloads\\\\Chandra_Shekhar_Azad.txt'\n",
    "\n",
    "with open(y,'r') as f:\n",
    "    print(f.readline(10))\n",
    "    print(f.readline(10))"
   ]
  },
  {
   "cell_type": "code",
   "execution_count": 58,
   "id": "604d606c-7205-4316-bb46-062d5d1db0bc",
   "metadata": {},
   "outputs": [
    {
     "name": "stdout",
     "output_type": "stream",
     "text": [
      "['Chandra Shekhar Azad\\n']\n",
      "[' was born on 23 July 1906 in Jujhautiya Brahmins family of Pandit SitaramTiwar i and Jagrani Devi in the bhabara (of jhabua District)|madhy Pradesh. He spent his childhood inthe village Bhabhra when his father was serving in the erstwhile estate of Alirajpur \\n']\n",
      "['He got\\n', ' the natural training of a hardy and rough life along with the Bhils who inhabited the wildregion. From his Bhil friends, early in life, be learnt wrestling and swimming. He also became moreskilled with the bow and arrow. He learnt to throw the Bhala or Javelin, to shoot straight, to ride anduse the sword, in all of which he became proficient.\\n']\n",
      "['From\\n', ' his childhood, he remained a devotee of\\n']\n",
      "['Hanuman\\n']\n",
      "[' throughout his life, and had a very strongPehelwan(wrestler)-like body.\\n']\n",
      "['He was even called\\n']\n",
      "[' Bhimsen or Bhim Dada later. After the early education in Jhabua, he was sentto theSanskrit Pathashala at Varanasi, where a near relative of the family, probably maternal unclewas then living. He returned home after a few months and he was admitted in the local school at Alirajpur. Again his father sent him to Benares for the boy exhibited a strange waywardness.\\n']\n",
      "['This time\\n']\n"
     ]
    }
   ],
   "source": [
    "y= 'C:\\\\Users\\\\Admin\\\\Downloads\\\\Chandra_Shekhar_Azad.txt'\n",
    "\n",
    "with open(y,'r') as f:\n",
    "    print(f.readlines(1))\n",
    "    print(f.readlines(100))\n",
    "    print(f.readlines(10))\n",
    "    print(f.readlines(10))\n",
    "    print(f.readlines(1))\n",
    "    print(f.readlines(10))\n",
    "    print(f.readlines(1))\n",
    "    print(f.readlines(1))\n",
    "    print(f.readlines(1))"
   ]
  },
  {
   "cell_type": "code",
   "execution_count": 55,
   "id": "c3a7b16d-5d31-42d2-a315-3289d7fcad64",
   "metadata": {},
   "outputs": [
    {
     "name": "stdout",
     "output_type": "stream",
     "text": [
      "Line Number 1 : Chandra Shekhar Azad\n",
      "\n",
      "Line Number 2 :  was born on 23 July 1906 in Jujhautiya Brahmins family of Pandit SitaramTiwar i and Jagrani Devi in the bhabara (of jhabua District)|madhy Pradesh. He spent his childhood inthe village Bhabhra when his father was serving in the erstwhile estate of Alirajpur \n",
      "\n",
      "Line Number 3 : He got\n",
      "\n",
      "Line Number 4 :  the natural training of a hardy and rough life along with the Bhils who inhabited the wildregion. From his Bhil friends, early in life, be learnt wrestling and swimming. He also became moreskilled with the bow and arrow. He learnt to throw the Bhala or Javelin, to shoot straight, to ride anduse the sword, in all of which he became proficient.\n",
      "\n",
      "Line Number 5 : From\n",
      "\n",
      "Line Number 6 :  his childhood, he remained a devotee of\n",
      "\n",
      "Line Number 7 : Hanuman\n",
      "\n",
      "Line Number 8 :  throughout his life, and had a very strongPehelwan(wrestler)-like body.\n",
      "\n",
      "Line Number 9 : He was even called\n",
      "\n",
      "Line Number 10 :  Bhimsen or Bhim Dada later. After the early education in Jhabua, he was sentto theSanskrit Pathashala at Varanasi, where a near relative of the family, probably maternal unclewas then living. He returned home after a few months and he was admitted in the local school at Alirajpur. Again his father sent him to Benares for the boy exhibited a strange waywardness.\n",
      "\n",
      "Line Number 11 : This time\n",
      "\n",
      "Line Number 12 :  he remained there and studied properly. On the whole, he was an average student.Political Initiation From the very outset, he had a deep aversion for study which was of no real but tosimply churn out quill drivers or babus for the use of the British Raj in India. His stay at Benareshowever had a salutary effect upon his life, for he came in contact with many young men and ideas.\n",
      "\n",
      "Line Number 13 : The atmosphere\n",
      "\n",
      "Line Number 14 :  was such that he got the opportunity of studying many things, especially the unhappy events which were then happeningin the country. Bit by bit, his mind was being drawn to the political situation of the country. Young Chandra Shekhar was f ascinated by anddrawn to the great national upsurge of the non-violent, non-cooperation movement of 1920-21 under the leadership of Mahatma Gandhi.I\n",
      "\n",
      "Line Number 15 : t is during\n",
      "\n",
      "Line Number 16 :  this time, when the\n",
      "\n",
      "Line Number 17 : Jallianwala Baag massacre\n",
      "\n",
      "Line Number 18 :  by British Army took place in Amritsar where hunderds (at least 2000) unarmed,peaceful and unwarned civilians were fired upon. This event had a profound effect on Indian national movement and inspired several youngIndians, like Azad, into political movement for liberation. The young mind of Chandrashekhar was wax to receive and marble to retain.\n",
      "\n",
      "Line Number 19 : From Chandrashekhar Tewari to Chandrashekhar â€˜Azadâ€™\n",
      "\n",
      "Line Number 20 : To protest the massacre and demanding the liberation, various popular activities sprouted up throughout the country. While participating in oneof these movements, Chandra Shekhar was arrested when he was just 16 years of age.He was brought to court. The Magistrate asked him, â€œWhat is your name?\n",
      "\n",
      "Line Number 21 : going to become very famous. He gave his name as â€˜\n",
      "\n",
      "Line Number 22 : Azadâ€™,\n",
      "\n",
      "Line Number 23 :  his fatherâ€™s name asâ€˜Swatantraâ€™ and his place of dwelling as â€˜prison cellâ€™. Astonished was the Magistrate atthese straight and bold answers. Azad was sentenced to fifteen canes. He wasbeaten very severely. At every beat, his body turned blue and red and blood oozed outfreely. Azad was highly honored by the citizens and profusely garlanded when hecame out from jail. His photos appeared in the Press with streamlined captions.\n",
      "\n",
      "Line Number 24 : Fromhere on, he would be known far and wide as â€˜Azadâ€™, forever.\n",
      "\n",
      "Line Number 25 :  After this incident, Shri Provesh, the chief organiser of the Revolutionary Party in India,sought him and persuaded him to join it. Azad proved to be a restless worker. He issuedsecretly and silently, many leaflets and bulletins to drive away the misconceptionsentertained by the people of the country. He proved a master propagandist. In physicalstrength, none equaled him and he was called Bhim Dada. Other eminent members of the party working along with Azad were Shri Yogesh Chatterji, Shri Sachin Sanyal andShri Rabindranath Kar. Men in the party learned all the arts of modern warfare. The mainproblem was finance. Finances! From where could the money be had? This was themajor issue before the party. To ask openly was impossible and to obtain it secretly was amuch more difficult task.\n"
     ]
    }
   ],
   "source": [
    "with open(y,'r') as f:\n",
    "    line_number=1\n",
    "    for i in f:\n",
    "        print(\"Line Number\",line_number,\":\",i)\n",
    "        line_number+=1"
   ]
  },
  {
   "cell_type": "code",
   "execution_count": null,
   "id": "a1c46b3b-d586-4545-bfa8-f14a4bb8cb8d",
   "metadata": {},
   "outputs": [],
   "source": [
    "# 1. Write a function in python to read the content from a text  file. \"poem.txt\" line by line and display on the same screen.\n",
    "\n",
    "# 2. Write a function in PYthon to count the number of liens from a text file \"story.txt\" which is not starting \n",
    "#   with an alphabet \"T\"\n",
    "\n",
    "# 3. Wrtie a function in Pyton to count and display the total number of words in a text \"notes.txt\". "
   ]
  },
  {
   "cell_type": "code",
   "execution_count": 1,
   "id": "33de090f-4a10-41fb-83c3-55392763d3db",
   "metadata": {},
   "outputs": [
    {
     "name": "stdout",
     "output_type": "stream",
     "text": [
      "Twinkle, twinkle, little star,\n",
      "How I wonder what you are!\n",
      "Up above the world so high,\n",
      "Like a diamond in the sky.\n",
      "\n",
      "When the blazing sun is gone,\n",
      "When he nothing shines upon,\n",
      "Then you show your little light,\n",
      "Twinkle, twinkle, all the night.\n",
      "\n",
      "Then the trav'ller in the dark,\n",
      "Thanks you for your tiny spark,\n",
      "He could not see which way to go,\n",
      "If you did not twinkle so.\n",
      "\n",
      "In the dark blue sky you keep,\n",
      "And often thro' my curtains peep,\n",
      "For you never shut your eye,\n",
      "Till the sun is in the sky.\n",
      "\n",
      "'Tis your bright and tiny spark,\n",
      "Lights the trav'ller in the dark:\n",
      "Tho' I know not what you are,\n",
      "Twinkle, twinkle, little star."
     ]
    }
   ],
   "source": [
    "def read_file():\n",
    "    file=open('C:\\\\Users\\\\Admin\\\\Downloads\\\\poem.txt')\n",
    "    for i in file:\n",
    "        print(i,end='')\n",
    "    file.close()\n",
    "\n",
    "read_file()"
   ]
  },
  {
   "cell_type": "code",
   "execution_count": 4,
   "id": "21377430-a2b6-457d-b382-8caa0a789d3f",
   "metadata": {},
   "outputs": [
    {
     "name": "stdout",
     "output_type": "stream",
     "text": [
      "No.of lines not starting with\"T\"= 4\n"
     ]
    }
   ],
   "source": [
    "# 2. Write a function in PYthon to count the number of liens from a text file \"story.txt\" which is not starting \n",
    "#   with an alphabet \"T\"\n",
    "\n",
    "def line_count():\n",
    "    file=open(\"C:\\\\Users\\\\Admin\\\\Downloads\\\\story.txt\")\n",
    "    count=0\n",
    "    for i in file:\n",
    "        if i[0] not in 'T':\n",
    "            count+=1\n",
    "    file.close()\n",
    "    print('No.of lines not starting with\"T\"=',count)\n",
    "\n",
    "line_count()"
   ]
  },
  {
   "cell_type": "code",
   "execution_count": 5,
   "id": "7382ef35-e85e-41a1-932c-e486a2d1c821",
   "metadata": {},
   "outputs": [],
   "source": [
    "# 3. Wrtie a function in Pyton to count and display the total number of words in a text \"notes.txt\". \n",
    "\n"
   ]
  },
  {
   "cell_type": "code",
   "execution_count": 8,
   "id": "fbee60cc-cede-4dc5-af82-591e7197fe1a",
   "metadata": {},
   "outputs": [
    {
     "name": "stdout",
     "output_type": "stream",
     "text": [
      "14\n",
      "['My', 'name', 'is', 'xyz']\n",
      "4\n"
     ]
    }
   ],
   "source": [
    "x='My name is xyz'\n",
    "print(len(x))\n",
    "y=x.split()\n",
    "print(y)\n",
    "print(len(y))"
   ]
  },
  {
   "cell_type": "code",
   "execution_count": 19,
   "id": "619cabc9-8e8e-4c59-a3d1-b63731559394",
   "metadata": {},
   "outputs": [
    {
     "name": "stdout",
     "output_type": "stream",
     "text": [
      "Total Words are: 925\n"
     ]
    }
   ],
   "source": [
    "# 3. Wrtie a function in Pyton to count and display the total number of words in a text \"notes.txt\". \n",
    "\n",
    "\n",
    "def count_noddy_words():\n",
    "    file=open('C:\\\\Users\\\\Admin\\\\Downloads\\\\noddy.txt','r')\n",
    "    count=0\n",
    "    data=file.read()\n",
    "    words=data.split()\n",
    "\n",
    "    for word in words:\n",
    "        count+=1\n",
    "    print('Total Words are:',count)\n",
    "    file.close()\n",
    "\n",
    "\n",
    "count_noddy_words()"
   ]
  },
  {
   "cell_type": "code",
   "execution_count": 38,
   "id": "a5487173-0aa2-4fcf-9947-b939a393bc5a",
   "metadata": {},
   "outputs": [
    {
     "name": "stdout",
     "output_type": "stream",
     "text": [
      "The book He is made by a in a toy shop but runs away the man to make a As he the and he Big a Big Ears that is a toy and him to live in He with a set of and a is to be a toy, the of are not sure that he is one. They put on and he is a toy or an is a toy, but has to the that he is a good toy. The that is good a doll the that he her girl from a and he is to stay in gets his car in the It is to him he a The toys can hear him by the of his horn and the of the bell on his blue hat. he uses his car to all of the in When his taxi is not so or when he to Big Big Ears will lend him what he On will to make his head nod, in for such as his is kind and but he gets into his own or one of the Sly or has a on him. He is very in his of the and as a For in the and Big Ears are for one. that they the roof in case it With no of or of the need for roof this is to him. (In this is not so Some with the is then on and the is and then the roof is and so on. This is the As the but his and best are Big Dog, and the Big who to is the most in his he it to be Big Ears who to the one way or and it is Big Ears to whom for and Big Ears is not so much a but more like a or kind to Big Ears has an and that him by He is of down with his own and is able to case to Mr. the when in On rare Big Ears in in case to his aid. Big Ears and have of such are when Big Ears the very Bear for to her dog and when ran his car into Big post and then Big him. is a gold bear who a with and a She is like and very all of her and Dog is pet. He to run up and gets with but him. gets and even to cry. The live next door to They are gold and Mr. and Mrs. Bear help It is that Mr. and Mrs. Bear are the of as if he were a are and to them as Mr. and Mrs. They have one son, also who is to as is and is in for or to or with On one gets of and and to run away to sea. and join with him. By the end of the his and them back from his as an has many with Mr. Some are by lack of of how it is of a case of Mr. Plod is and Mr. Plod and goes out of his way to help him. Mr. Plod the on his by his and in the name of the up in his \n",
      "Total length of the words is: 536\n"
     ]
    }
   ],
   "source": [
    "# Write a function display_words() in python to read lines from a text file \"noddy.txt\", and display those words, which are less than 4 characters.\n",
    "\n",
    "def display_words():\n",
    "    file=open('C:\\\\Users\\\\Admin\\\\Downloads\\\\noddy.txt','r')\n",
    "    data=file.read()\n",
    "    words=data.split()\n",
    "    length=[]\n",
    "    for i in words:\n",
    "        if len(i) <=4:\n",
    "            print(i,end=' ')\n",
    "            length.append(i)\n",
    "    print('\\nTotal length of the words is:',len(length))\n",
    "            \n",
    "    file.close()\n",
    "\n",
    "display_words()"
   ]
  },
  {
   "cell_type": "code",
   "execution_count": null,
   "id": "77c65ee5-1c43-44d3-b3bd-a8c4ae479bd2",
   "metadata": {},
   "outputs": [],
   "source": []
  },
  {
   "cell_type": "code",
   "execution_count": null,
   "id": "5e98a6fb-0899-45d4-8dc5-adb2cf582a64",
   "metadata": {},
   "outputs": [],
   "source": []
  }
 ],
 "metadata": {
  "kernelspec": {
   "display_name": "Python 3 (ipykernel)",
   "language": "python",
   "name": "python3"
  },
  "language_info": {
   "codemirror_mode": {
    "name": "ipython",
    "version": 3
   },
   "file_extension": ".py",
   "mimetype": "text/x-python",
   "name": "python",
   "nbconvert_exporter": "python",
   "pygments_lexer": "ipython3",
   "version": "3.12.2"
  }
 },
 "nbformat": 4,
 "nbformat_minor": 5
}
