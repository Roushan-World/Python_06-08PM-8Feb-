{
 "cells": [
  {
   "cell_type": "code",
   "execution_count": 1,
   "id": "50c2bae3-6197-4cc4-94c7-909359652ed5",
   "metadata": {},
   "outputs": [
    {
     "name": "stdin",
     "output_type": "stream",
     "text": [
      "Enter temp 37\n"
     ]
    },
    {
     "name": "stdout",
     "output_type": "stream",
     "text": [
      "Not valid input.\n"
     ]
    },
    {
     "ename": "NameError",
     "evalue": "name 'o_convention' is not defined",
     "output_type": "error",
     "traceback": [
      "\u001b[1;31m---------------------------------------------------------------------------\u001b[0m",
      "\u001b[1;31mNameError\u001b[0m                                 Traceback (most recent call last)",
      "Cell \u001b[1;32mIn[1], line 13\u001b[0m\n\u001b[0;32m     11\u001b[0m     \u001b[38;5;28mprint\u001b[39m(\u001b[38;5;124m\"\u001b[39m\u001b[38;5;124mNot valid input.\u001b[39m\u001b[38;5;124m\"\u001b[39m)\n\u001b[0;32m     12\u001b[0m     quit()\n\u001b[1;32m---> 13\u001b[0m \u001b[38;5;28mprint\u001b[39m(\u001b[38;5;124m\"\u001b[39m\u001b[38;5;124mThe temp in\u001b[39m\u001b[38;5;124m\"\u001b[39m, \u001b[43mo_convention\u001b[49m,\u001b[38;5;124m\"\u001b[39m\u001b[38;5;124mis\u001b[39m\u001b[38;5;124m\"\u001b[39m,result,\u001b[38;5;124m\"\u001b[39m\u001b[38;5;124mdegrees.\u001b[39m\u001b[38;5;124m\"\u001b[39m)\n",
      "\u001b[1;31mNameError\u001b[0m: name 'o_convention' is not defined"
     ]
    }
   ],
   "source": [
    "temp = input(\"Enter temp\")\n",
    "degree = int(temp[:-1])\n",
    "i_convention = (temp[-1])\n",
    "if i_convention.upper == \"C\":\n",
    "    result(int(round(9*degree)/5+32))\n",
    "    o_convention = \"Fahrenheit\"\n",
    "elif i_convention.upper == \"F\":\n",
    "    result = (int(round(degree_32)*5/9))\n",
    "    o_convention = \"Celsius\"\n",
    "else:\n",
    "    print(\"Not valid input.\")\n",
    "    quit()\n",
    "print(\"The temp in\", o_convention,\"is\",result,\"degrees.\")"
   ]
  },
  {
   "cell_type": "code",
   "execution_count": 3,
   "id": "13e5800e-316e-435d-95ec-961fe97acc86",
   "metadata": {},
   "outputs": [
    {
     "name": "stdin",
     "output_type": "stream",
     "text": [
      "Input the temperature you like to convert? (e.g., 45F, 102C etc.) :  0C\n"
     ]
    },
    {
     "name": "stdout",
     "output_type": "stream",
     "text": [
      "The temperature in Fahrenheit is 32 degrees.\n"
     ]
    }
   ],
   "source": [
    "temp = input(\"Input the temperature you like to convert? (e.g., 45F, 102C etc.) : \")\n",
    "degree = int(temp[:-1])\n",
    "i_convention = temp[-1]\n",
    "if i_convention.upper() == \"C\":\n",
    "    result = int(round((9 * degree) / 5 + 32))\n",
    "    o_convention = \"Fahrenheit\"\n",
    "elif i_convention.upper() == \"F\":\n",
    "    result = (int(round(degree - 32) * 5 / 9))\n",
    "    o_convention = \"Celsius\"\n",
    "else:\n",
    "    print(\"Input proper convention.\")\n",
    "    quit()\n",
    "print(\"The temperature in\", o_convention, \"is\", result, \"degrees.\")"
   ]
  },
  {
   "cell_type": "code",
   "execution_count": 5,
   "id": "ef012cb7-e373-4a5c-bad6-f399ef38f78b",
   "metadata": {},
   "outputs": [
    {
     "name": "stdin",
     "output_type": "stream",
     "text": [
      "Enter your range: 5\n",
      "Enter your number 1: 12\n",
      "Enter your number 2: 15\n",
      "Enter your number 3: 17\n",
      "Enter your number 4: 14\n",
      "Enter your number 5: 16\n"
     ]
    },
    {
     "name": "stdout",
     "output_type": "stream",
     "text": [
      "Even Number [12, 14, 16] \n",
      "Odd Number [15, 17]\n"
     ]
    }
   ],
   "source": [
    "x=int(input('Enter your range:'))\n",
    "list1=[]\n",
    "list2=[]\n",
    "for i in range(1,x+1):\n",
    "    user1=int(input(f'Enter your number {i}:'))\n",
    "    if user1%2==0:\n",
    "        list1.append(user1)\n",
    "        #print(list1)\n",
    "    else:\n",
    "        list2.append(user1)\n",
    "        #print('Odd Number:',list2)\n",
    "\n",
    "print('Even Number',list1,'\\nOdd Number',list2)"
   ]
  },
  {
   "cell_type": "code",
   "execution_count": 8,
   "id": "bae9e9da-f592-4e81-bb96-f172d10f502a",
   "metadata": {},
   "outputs": [],
   "source": [
    "# Wap to take the age of three person and display the youngest one..?\n"
   ]
  },
  {
   "cell_type": "code",
   "execution_count": null,
   "id": "fcb8a2c6-6da7-40f7-84df-227870800e5c",
   "metadata": {},
   "outputs": [],
   "source": []
  }
 ],
 "metadata": {
  "kernelspec": {
   "display_name": "Python 3 (ipykernel)",
   "language": "python",
   "name": "python3"
  },
  "language_info": {
   "codemirror_mode": {
    "name": "ipython",
    "version": 3
   },
   "file_extension": ".py",
   "mimetype": "text/x-python",
   "name": "python",
   "nbconvert_exporter": "python",
   "pygments_lexer": "ipython3",
   "version": "3.11.4"
  }
 },
 "nbformat": 4,
 "nbformat_minor": 5
}
