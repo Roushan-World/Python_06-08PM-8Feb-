{
 "cells": [
  {
   "cell_type": "markdown",
   "id": "6ee6b85c-c5ca-4040-a5bf-9cf438d8dc2c",
   "metadata": {},
   "source": [
    "# 4. Tuples in Python\n",
    " * __Tuples are immutable lists and cannot be changed in any way once it is created.__\n",
    " * __Tuples are defined in the same as lists.__\n",
    " * __They are enclosed within parenthesis and not within square braces.__\n",
    " * __Tuples are ordered, indexed collections of data.__\n",
    " * __Similar to string indices, the first value in the tuple will have the index [0], the second value is [1]__\n",
    " * __Negative indices are counted from the end of the tuple, just like lists.__\n",
    " * __Tuple also has the same structure where commas separate the value.__\n",
    " * __Tuples can store duplicate value.__\n",
    " * __Tuples allows you to store several data items inclding string, integer, float in one variable.__"
   ]
  },
  {
   "cell_type": "code",
   "execution_count": 4,
   "id": "c1c66733-ee8d-4c72-b433-748224790560",
   "metadata": {},
   "outputs": [
    {
     "name": "stdout",
     "output_type": "stream",
     "text": [
      "<class 'tuple'>\n"
     ]
    }
   ],
   "source": [
    "tuple_1=(\"Hello world\",3.14,True,False)\n",
    "print(type(tuple_1))"
   ]
  },
  {
   "cell_type": "code",
   "execution_count": 5,
   "id": "de79c162-80c2-459b-aa02-944f331be407",
   "metadata": {},
   "outputs": [
    {
     "name": "stdout",
     "output_type": "stream",
     "text": [
      "('Hello world', 3.14, True, False)\n"
     ]
    }
   ],
   "source": [
    "print(tuple_1)"
   ]
  },
  {
   "cell_type": "code",
   "execution_count": 8,
   "id": "d241a97b-d922-48e7-8741-f86f12bf4617",
   "metadata": {},
   "outputs": [
    {
     "name": "stdout",
     "output_type": "stream",
     "text": [
      "Hello world\n",
      "3.14\n",
      "True\n",
      "False\n"
     ]
    }
   ],
   "source": [
    "# Accessing tuple with indexing\n",
    "# postive indexing\n",
    "print(tuple_1[0])\n",
    "print(tuple_1[1])\n",
    "print(tuple_1[2])\n",
    "print(tuple_1[3])\n"
   ]
  },
  {
   "cell_type": "code",
   "execution_count": 10,
   "id": "904193e8-cce4-4972-b3c2-55a2b1421097",
   "metadata": {},
   "outputs": [
    {
     "name": "stdout",
     "output_type": "stream",
     "text": [
      "False\n",
      "True\n",
      "3.14\n",
      "Hello world\n"
     ]
    }
   ],
   "source": [
    "# negative indexing\n",
    "\n",
    "print(tuple_1[-1])\n",
    "print(tuple_1[-2])\n",
    "print(tuple_1[-3])\n",
    "print(tuple_1[-4])"
   ]
  },
  {
   "cell_type": "markdown",
   "id": "5b440e5f-86c8-40eb-abf6-073d28e1670d",
   "metadata": {},
   "source": [
    "# concatenation of string"
   ]
  },
  {
   "cell_type": "code",
   "execution_count": 11,
   "id": "b11ace2c-99b0-4abb-922a-d49d82e14e00",
   "metadata": {},
   "outputs": [
    {
     "data": {
      "text/plain": [
       "('Hello world', 3.14, True, False)"
      ]
     },
     "execution_count": 11,
     "metadata": {},
     "output_type": "execute_result"
    }
   ],
   "source": [
    "tuple_1"
   ]
  },
  {
   "cell_type": "code",
   "execution_count": 17,
   "id": "f416873e-a3a9-43c9-91a8-66135490da31",
   "metadata": {},
   "outputs": [
    {
     "name": "stdout",
     "output_type": "stream",
     "text": [
      "('Hello world', 3.14, True, False, 10, 20, 30, 40, 50, 10)\n"
     ]
    }
   ],
   "source": [
    "tuple_2=(10,20,30,40,50,10)\n",
    "\n",
    "x_tuple=tuple_1+tuple_2\n",
    "print(x_tuple)"
   ]
  },
  {
   "cell_type": "code",
   "execution_count": 18,
   "id": "f0e7c3bd-3feb-468c-905b-d80012f3a1f8",
   "metadata": {},
   "outputs": [
    {
     "data": {
      "text/plain": [
       "'Hello worldHello worldHello worldHello world'"
      ]
     },
     "execution_count": 18,
     "metadata": {},
     "output_type": "execute_result"
    }
   ],
   "source": [
    "4*'Hello world'"
   ]
  },
  {
   "cell_type": "code",
   "execution_count": 19,
   "id": "b5b9af5d-2279-45fc-861a-d51f5d852c22",
   "metadata": {},
   "outputs": [
    {
     "data": {
      "text/plain": [
       "('Hello world', 3.14, True, False)"
      ]
     },
     "execution_count": 19,
     "metadata": {},
     "output_type": "execute_result"
    }
   ],
   "source": [
    "tuple_1"
   ]
  },
  {
   "cell_type": "code",
   "execution_count": 16,
   "id": "1060d4d8-b4cf-4f93-ba77-4b473837407e",
   "metadata": {},
   "outputs": [
    {
     "data": {
      "text/plain": [
       "('Hello world',\n",
       " 3.14,\n",
       " True,\n",
       " False,\n",
       " 'Hello world',\n",
       " 3.14,\n",
       " True,\n",
       " False,\n",
       " 'Hello world',\n",
       " 3.14,\n",
       " True,\n",
       " False,\n",
       " 'Hello world',\n",
       " 3.14,\n",
       " True,\n",
       " False)"
      ]
     },
     "execution_count": 16,
     "metadata": {},
     "output_type": "execute_result"
    }
   ],
   "source": [
    "4*tuple_1"
   ]
  },
  {
   "cell_type": "markdown",
   "id": "d05a59d9-4281-47b2-a512-ca2a341744fb",
   "metadata": {},
   "source": [
    "# membership operators"
   ]
  },
  {
   "cell_type": "code",
   "execution_count": 22,
   "id": "c760b958-dbb7-47c1-9598-58ff1bd3ea36",
   "metadata": {},
   "outputs": [
    {
     "name": "stdout",
     "output_type": "stream",
     "text": [
      "True\n",
      "False\n",
      "True\n"
     ]
    }
   ],
   "source": [
    "# in or not in\n",
    "\n",
    "tuple_2=(1,2,3,4,5,6,7,10)\n",
    "\n",
    "print(10 in tuple_2)\n",
    "print(8 in tuple_2)\n",
    "print(100 not in tuple_2)"
   ]
  },
  {
   "cell_type": "code",
   "execution_count": 29,
   "id": "6b0b7b6a-5fbd-41b3-a65c-f95e94241ec6",
   "metadata": {},
   "outputs": [
    {
     "name": "stdout",
     "output_type": "stream",
     "text": [
      "Minimum number of the tuple: 10\n",
      "Maximum number of the tuple: 100\n",
      "Sum of the tuple: 550\n",
      "Count of the element of the tuple: 2\n",
      "Total lenght of the Tuple: 13\n"
     ]
    }
   ],
   "source": [
    "# Aggrigate function (min,max, sum,count,len,avg)\n",
    "\n",
    "agg=(10,10,20,20,20,30,40,50,60,60,60,70,100)\n",
    "print('Minimum number of the tuple:',min(agg))\n",
    "print('Maximum number of the tuple:',max(agg))\n",
    "print('Sum of the tuple:',sum(agg))\n",
    "print('Count of the element of the tuple:',agg.count(10))\n",
    "print(\"Total lenght of the Tuple:\",len(agg))"
   ]
  },
  {
   "cell_type": "markdown",
   "id": "4f52b0a5-8a6f-4f6c-b5f0-b048faac4933",
   "metadata": {},
   "source": [
    "# Nested tuple"
   ]
  },
  {
   "cell_type": "code",
   "execution_count": 31,
   "id": "5ab5dc11-c00b-43cd-bfdf-d874351c5a6a",
   "metadata": {},
   "outputs": [
    {
     "data": {
      "text/plain": [
       "(10,\n",
       " 20,\n",
       " ('hello world', False),\n",
       " ('hi,Pyton', 'Pune', 55.63),\n",
       " ('Cat', 'Dog', False),\n",
       " 'Techonology')"
      ]
     },
     "execution_count": 31,
     "metadata": {},
     "output_type": "execute_result"
    }
   ],
   "source": [
    "nes_tuple=(10,20,(\"hello world\",False),(\"hi,Pyton\",\"Pune\",55.63),(\"Cat\",\"Dog\",False),\"Techonology\")\n",
    "nes_tuple"
   ]
  },
  {
   "cell_type": "code",
   "execution_count": 32,
   "id": "3d1f8205-5b92-4807-b742-cd6441e52cdd",
   "metadata": {},
   "outputs": [
    {
     "name": "stdout",
     "output_type": "stream",
     "text": [
      "(10, 20, ('hello world', False), ('hi,Pyton', 'Pune', 55.63), ('Cat', 'Dog', False), 'Techonology')\n"
     ]
    }
   ],
   "source": [
    "print(nes_tuple)"
   ]
  },
  {
   "cell_type": "code",
   "execution_count": 36,
   "id": "f4551c1a-05f6-43c6-a88f-8fd34b5ad8c8",
   "metadata": {},
   "outputs": [
    {
     "data": {
      "text/plain": [
       "False"
      ]
     },
     "execution_count": 36,
     "metadata": {},
     "output_type": "execute_result"
    }
   ],
   "source": [
    "nes_tuple[2][1]"
   ]
  },
  {
   "cell_type": "markdown",
   "id": "dc3c4aed-b42a-443d-abba-bc938ff0b6b7",
   "metadata": {},
   "source": [
    "# Tuples are immutable"
   ]
  },
  {
   "cell_type": "code",
   "execution_count": 37,
   "id": "1eefb7e4-e465-4324-8a38-d8edf3d7b9b0",
   "metadata": {},
   "outputs": [
    {
     "data": {
      "text/plain": [
       "(10,\n",
       " 20,\n",
       " ('hello world', False),\n",
       " ('hi,Pyton', 'Pune', 55.63),\n",
       " ('Cat', 'Dog', False),\n",
       " 'Techonology')"
      ]
     },
     "execution_count": 37,
     "metadata": {},
     "output_type": "execute_result"
    }
   ],
   "source": [
    "nes_tuple"
   ]
  },
  {
   "cell_type": "code",
   "execution_count": 39,
   "id": "d9ce185a-57b9-4fbe-8c20-5fe3d09a84fa",
   "metadata": {},
   "outputs": [
    {
     "ename": "AttributeError",
     "evalue": "'tuple' object has no attribute 'append'",
     "output_type": "error",
     "traceback": [
      "\u001b[1;31m---------------------------------------------------------------------------\u001b[0m",
      "\u001b[1;31mAttributeError\u001b[0m                            Traceback (most recent call last)",
      "Cell \u001b[1;32mIn[39], line 1\u001b[0m\n\u001b[1;32m----> 1\u001b[0m \u001b[43mnes_tuple\u001b[49m\u001b[38;5;241;43m.\u001b[39;49m\u001b[43mappend\u001b[49m(\u001b[38;5;124m'\u001b[39m\u001b[38;5;124mAkash\u001b[39m\u001b[38;5;124m'\u001b[39m)\n\u001b[0;32m      2\u001b[0m nes_tuple\n",
      "\u001b[1;31mAttributeError\u001b[0m: 'tuple' object has no attribute 'append'"
     ]
    }
   ],
   "source": [
    "nes_tuple.append('Akash')\n",
    "nes_tuple"
   ]
  },
  {
   "cell_type": "code",
   "execution_count": 41,
   "id": "e0cd02c7-ea8e-4328-9d31-b631937fa1a8",
   "metadata": {},
   "outputs": [
    {
     "ename": "TypeError",
     "evalue": "'tuple' object does not support item assignment",
     "output_type": "error",
     "traceback": [
      "\u001b[1;31m---------------------------------------------------------------------------\u001b[0m",
      "\u001b[1;31mTypeError\u001b[0m                                 Traceback (most recent call last)",
      "Cell \u001b[1;32mIn[41], line 1\u001b[0m\n\u001b[1;32m----> 1\u001b[0m \u001b[43mnes_tuple\u001b[49m\u001b[43m[\u001b[49m\u001b[38;5;241;43m0\u001b[39;49m\u001b[43m]\u001b[49m\u001b[38;5;241m=\u001b[39m\u001b[38;5;241m20\u001b[39m\n\u001b[0;32m      2\u001b[0m nes_tuple\n",
      "\u001b[1;31mTypeError\u001b[0m: 'tuple' object does not support item assignment"
     ]
    }
   ],
   "source": [
    "nes_tuple[0]=20\n",
    "nes_tuple"
   ]
  },
  {
   "cell_type": "code",
   "execution_count": 42,
   "id": "a0196d75-ae46-4e9f-9801-a44c402d1eec",
   "metadata": {},
   "outputs": [
    {
     "ename": "TypeError",
     "evalue": "'tuple' object doesn't support item deletion",
     "output_type": "error",
     "traceback": [
      "\u001b[1;31m---------------------------------------------------------------------------\u001b[0m",
      "\u001b[1;31mTypeError\u001b[0m                                 Traceback (most recent call last)",
      "Cell \u001b[1;32mIn[42], line 1\u001b[0m\n\u001b[1;32m----> 1\u001b[0m \u001b[38;5;28;01mdel\u001b[39;00m(\u001b[43mnes_tuple\u001b[49m\u001b[43m[\u001b[49m\u001b[38;5;241;43m0\u001b[39;49m\u001b[43m]\u001b[49m)\n",
      "\u001b[1;31mTypeError\u001b[0m: 'tuple' object doesn't support item deletion"
     ]
    }
   ],
   "source": [
    "del(nes_tuple[0])"
   ]
  },
  {
   "cell_type": "code",
   "execution_count": 49,
   "id": "89b46488-45ca-4966-bce1-458867e4eece",
   "metadata": {},
   "outputs": [
    {
     "data": {
      "text/plain": [
       "[100,\n",
       " ('hello world', False),\n",
       " ('hi,Pyton', 'Pune', 55.63),\n",
       " ('Cat', 'Dog', False),\n",
       " 'Techonology',\n",
       " 'Akash']"
      ]
     },
     "execution_count": 49,
     "metadata": {},
     "output_type": "execute_result"
    }
   ],
   "source": [
    "nes_tuple"
   ]
  },
  {
   "cell_type": "code",
   "execution_count": 50,
   "id": "0e4ab76e-2a31-486c-9e67-a5554474b368",
   "metadata": {},
   "outputs": [
    {
     "data": {
      "text/plain": [
       "[100,\n",
       " ('hello world', False),\n",
       " ('hi,Pyton', 'Pune', 55.63),\n",
       " ('Cat', 'Dog', False),\n",
       " 'Techonology',\n",
       " 'Akash']"
      ]
     },
     "execution_count": 50,
     "metadata": {},
     "output_type": "execute_result"
    }
   ],
   "source": [
    "# You can't deleted one element in tuple but you can deleted the whole tuple.\n",
    "nes_tuple"
   ]
  },
  {
   "cell_type": "code",
   "execution_count": 52,
   "id": "b412fa2e-cd6c-49fd-8982-f57a846ef377",
   "metadata": {},
   "outputs": [],
   "source": [
    "del(nes_tuple[1])"
   ]
  },
  {
   "cell_type": "code",
   "execution_count": 53,
   "id": "c9908fa4-ae81-44be-a778-c89209a38b00",
   "metadata": {},
   "outputs": [
    {
     "ename": "NameError",
     "evalue": "name 'nes' is not defined",
     "output_type": "error",
     "traceback": [
      "\u001b[1;31m---------------------------------------------------------------------------\u001b[0m",
      "\u001b[1;31mNameError\u001b[0m                                 Traceback (most recent call last)",
      "Cell \u001b[1;32mIn[53], line 1\u001b[0m\n\u001b[1;32m----> 1\u001b[0m \u001b[43mnes\u001b[49m\n",
      "\u001b[1;31mNameError\u001b[0m: name 'nes' is not defined"
     ]
    }
   ],
   "source": [
    "nes\n"
   ]
  },
  {
   "cell_type": "code",
   "execution_count": 54,
   "id": "b34e7a6a-9e34-4337-a7fc-c9294203dcd2",
   "metadata": {},
   "outputs": [
    {
     "data": {
      "text/plain": [
       "(10,\n",
       " 20,\n",
       " ('hello world', False),\n",
       " ('hi,Pyton', 'Pune', 55.63),\n",
       " ('Cat', 'Dog', False),\n",
       " 'Techonology')"
      ]
     },
     "execution_count": 54,
     "metadata": {},
     "output_type": "execute_result"
    }
   ],
   "source": [
    "nes_tuple=(10,20,(\"hello world\",False),(\"hi,Pyton\",\"Pune\",55.63),(\"Cat\",\"Dog\",False),\"Techonology\")\n",
    "nes_tuple"
   ]
  },
  {
   "cell_type": "code",
   "execution_count": 55,
   "id": "a52aab2e-f235-4ee8-8111-234d27acc003",
   "metadata": {},
   "outputs": [
    {
     "ename": "TypeError",
     "evalue": "'tuple' object doesn't support item deletion",
     "output_type": "error",
     "traceback": [
      "\u001b[1;31m---------------------------------------------------------------------------\u001b[0m",
      "\u001b[1;31mTypeError\u001b[0m                                 Traceback (most recent call last)",
      "Cell \u001b[1;32mIn[55], line 1\u001b[0m\n\u001b[1;32m----> 1\u001b[0m \u001b[38;5;28;01mdel\u001b[39;00m(\u001b[43mnes_tuple\u001b[49m\u001b[43m[\u001b[49m\u001b[38;5;241;43m1\u001b[39;49m\u001b[43m]\u001b[49m)\n",
      "\u001b[1;31mTypeError\u001b[0m: 'tuple' object doesn't support item deletion"
     ]
    }
   ],
   "source": [
    "del(nes_tuple[1])"
   ]
  },
  {
   "cell_type": "code",
   "execution_count": 56,
   "id": "23323135-34fd-4097-bb5a-35e8abdef694",
   "metadata": {},
   "outputs": [],
   "source": [
    "del(nes_tuple)"
   ]
  },
  {
   "cell_type": "code",
   "execution_count": 57,
   "id": "dd93fd8d-c7ff-4356-a70f-59d8c9cb365b",
   "metadata": {},
   "outputs": [
    {
     "ename": "NameError",
     "evalue": "name 'nes_tuple' is not defined",
     "output_type": "error",
     "traceback": [
      "\u001b[1;31m---------------------------------------------------------------------------\u001b[0m",
      "\u001b[1;31mNameError\u001b[0m                                 Traceback (most recent call last)",
      "Cell \u001b[1;32mIn[57], line 1\u001b[0m\n\u001b[1;32m----> 1\u001b[0m \u001b[43mnes_tuple\u001b[49m\n",
      "\u001b[1;31mNameError\u001b[0m: name 'nes_tuple' is not defined"
     ]
    }
   ],
   "source": [
    "nes_tuple"
   ]
  },
  {
   "cell_type": "code",
   "execution_count": null,
   "id": "9eaa4dcf-5a88-491f-a500-ff41ea4b73c0",
   "metadata": {},
   "outputs": [],
   "source": []
  }
 ],
 "metadata": {
  "kernelspec": {
   "display_name": "Python 3 (ipykernel)",
   "language": "python",
   "name": "python3"
  },
  "language_info": {
   "codemirror_mode": {
    "name": "ipython",
    "version": 3
   },
   "file_extension": ".py",
   "mimetype": "text/x-python",
   "name": "python",
   "nbconvert_exporter": "python",
   "pygments_lexer": "ipython3",
   "version": "3.11.4"
  }
 },
 "nbformat": 4,
 "nbformat_minor": 5
}
