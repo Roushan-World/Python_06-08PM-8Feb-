{
 "cells": [
  {
   "cell_type": "markdown",
   "id": "a0825caf-7ef6-49a9-966b-0fe24fcc2fad",
   "metadata": {},
   "source": [
    "# 16. Writing Files in Python\n",
    "\n",
    " * __To write to a text file in Python, you follow these steps:__\n",
    " * __First, Open the text for writing (or appending) using  open function.__\n",
    " * __Second, Write to the text file using the write() or writlelines() methods.__\n",
    " * __Third, close the file using the clsoe() method.__\n",
    "\n",
    "# Some Characters and their functions.\n",
    "\n",
    " * __r -------------> Open file for reading only. Starts reading from the beginning of the file. This is default mode.__\n",
    " * __rb-------------> Open file for reading only in binary format. Starts reading from the beginning of the file.__\n",
    " * __r+-------------> Open file for reading and writing. File pointer placed at beginning of the file.__\n",
    " * __w--------------> Open file for writing only. File pointer placed at beginning of the file. Overwrites exisiting file and creates a new one if it does not exists.__\n",
    " * __wb ------------> Same as w but opens in binary mode.__\n",
    " * __wb+------------> Same as wb but also allows to read from the file.__\n",
    " * __a--------------> Open a file for appending. Starts writing at the end of the file. Creates a new file if file does not exists.__\n",
    " * __ab-------------> Same as a but in binary format. Creates a new file if file dones not exists.__\n",
    " * __a+-------------> Same as a but also open for reading.__\n",
    " * __ab+------------> Same as ab but also open for reading.__"
   ]
  },
  {
   "cell_type": "code",
   "execution_count": 1,
   "id": "144314fa-3124-4b34-bad7-0dca45bb8d0b",
   "metadata": {},
   "outputs": [],
   "source": [
    "x='good.txt'\n",
    "\n",
    "with open(x,'w') as f:\n",
    "    f.write('My name is Noddy.\\n')\n",
    "    f.write(\"My father's name is muddy.\")"
   ]
  },
  {
   "cell_type": "code",
   "execution_count": 3,
   "id": "3597cc5c-a212-48ab-943b-3c3c710887cf",
   "metadata": {},
   "outputs": [
    {
     "name": "stdout",
     "output_type": "stream",
     "text": [
      "My name is Noddy.\n",
      "My father's name is muddy.\n"
     ]
    }
   ],
   "source": [
    "with open(x,'r') as f:\n",
    "    print(f.read())"
   ]
  },
  {
   "cell_type": "code",
   "execution_count": 6,
   "id": "119c594e-f8d1-4908-9056-a8f126bf41e7",
   "metadata": {},
   "outputs": [
    {
     "name": "stdin",
     "output_type": "stream",
     "text": [
      "Enter file name good\n",
      "Enter number of lines: 5\n",
      "Enter line here 1: My name is Kaushal\n",
      "Enter line here 2: My age is 10\n",
      "Enter line here 3: My phone is 456123789\n",
      "Enter line here 4: My email is xyz@gmail.com\n",
      "Enter line here 5: Thank You!\n"
     ]
    }
   ],
   "source": [
    "#file wiring using for loop from user input\n",
    "\n",
    "f_name=input('Enter file name')\n",
    "f_name=f_name+'.txt'\n",
    "n=int(input('Enter number of lines:'))\n",
    "with open(f_name,'w') as f:\n",
    "    for i in range(1,n+1):\n",
    "        s=input(f'Enter line here {i}:')\n",
    "        f.write(s)\n",
    "        f.write('\\n')"
   ]
  },
  {
   "cell_type": "code",
   "execution_count": 8,
   "id": "d3565c80-10b2-474f-82dd-9591ddd3de70",
   "metadata": {},
   "outputs": [
    {
     "name": "stdin",
     "output_type": "stream",
     "text": [
      "Enter file name: good\n",
      "Enter number of lines: 3\n",
      "Enter line here 1: Cat\n",
      "Enter line here 2: Rat\n",
      "Enter line here 3: Elephant\n"
     ]
    },
    {
     "name": "stdout",
     "output_type": "stream",
     "text": [
      "Cat\n",
      "Rat\n",
      "Elephant\n",
      "\n"
     ]
    }
   ],
   "source": [
    "def write(x,n):\n",
    "    with open(x,'w') as f:\n",
    "        for i in range(1,n+1):\n",
    "            s=input(f'Enter line here {i}:')\n",
    "            f.write(s)\n",
    "            f.write('\\n')\n",
    "\n",
    "    with open(x,'r')as f:\n",
    "        print(f.read())\n",
    "\n",
    "\n",
    "filename=input('Enter file name:')\n",
    "filename=filename+'.txt'\n",
    "number_of_lines=int(input('Enter number of lines:'))\n",
    "\n",
    "write(filename,number_of_lines)"
   ]
  },
  {
   "cell_type": "code",
   "execution_count": 15,
   "id": "de07c8bb-39eb-4af1-86d2-8b24cf457f53",
   "metadata": {},
   "outputs": [
    {
     "name": "stdin",
     "output_type": "stream",
     "text": [
      "Enter file name: good\n",
      "Enter number of lines: 2\n",
      "Enter line here 1: Cat\n",
      "Enter line here 2: Dog\n"
     ]
    },
    {
     "name": "stdout",
     "output_type": "stream",
     "text": [
      "Cat\n",
      "Dog\n",
      "\n"
     ]
    }
   ],
   "source": [
    "def write():\n",
    "    try:\n",
    "        filename=input('Enter file name:')\n",
    "        filename=filename+'.txt'\n",
    "        n=int(input('Enter number of lines:'))\n",
    "        with open(filename,'w') as f:\n",
    "            for i in range(1,n+1):\n",
    "                s=input(f'Enter line here {i}:')\n",
    "                f.write(s)\n",
    "                f.write('\\n')\n",
    "    \n",
    "        with open(filename,'r')as f:\n",
    "            print(f.read())\n",
    "    except NameError:\n",
    "        print('Enter correct name:')\n",
    "    except FileNotFound:\n",
    "        print('Enter correct file')\n",
    "\n",
    "write()"
   ]
  },
  {
   "cell_type": "code",
   "execution_count": 10,
   "id": "b175832d-244e-44f4-8541-a6ff0a52d9d6",
   "metadata": {},
   "outputs": [
    {
     "name": "stdin",
     "output_type": "stream",
     "text": [
      "Enter file name: good\n",
      "Enter number of lines: 2\n",
      "Enter line here 1: Tom\n",
      "Enter line here 2: Jerry\n"
     ]
    },
    {
     "name": "stdout",
     "output_type": "stream",
     "text": [
      "Tom\n",
      "Jerry\n",
      "\n"
     ]
    }
   ],
   "source": [
    "write()"
   ]
  },
  {
   "cell_type": "code",
   "execution_count": null,
   "id": "3fabbb78-0c0c-4e77-b2b0-0ea84159d1fb",
   "metadata": {},
   "outputs": [],
   "source": []
  }
 ],
 "metadata": {
  "kernelspec": {
   "display_name": "Python 3 (ipykernel)",
   "language": "python",
   "name": "python3"
  },
  "language_info": {
   "codemirror_mode": {
    "name": "ipython",
    "version": 3
   },
   "file_extension": ".py",
   "mimetype": "text/x-python",
   "name": "python",
   "nbconvert_exporter": "python",
   "pygments_lexer": "ipython3",
   "version": "3.12.2"
  }
 },
 "nbformat": 4,
 "nbformat_minor": 5
}
