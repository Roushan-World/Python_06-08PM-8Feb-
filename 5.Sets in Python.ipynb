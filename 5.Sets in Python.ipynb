{
 "cells": [
  {
   "cell_type": "markdown",
   "id": "dc8e50ea-7f17-4c21-bf6e-d17db0b13099",
   "metadata": {},
   "source": [
    "# 5. Sets in Python\n",
    "\n",
    " * __Set is one of the 4th built data types on python used to store collections of data including list, tuple and dictionary.__\n",
    " * __Sets are unordered, but you can remove items and add new items.__\n",
    " * __Sets elements are unique, Duplicate elements are not allowed.__\n",
    " * __A set itself may be modified, the elements contained in the set must be of an immutable type.__\n",
    " * __Sets are used to store multiple items in a single variable.__\n",
    " * __You can denote a set with a pair of curly brackets{}.__"
   ]
  },
  {
   "cell_type": "code",
   "execution_count": 1,
   "id": "935f5b78-3512-4c80-8d95-06df18f3fe37",
   "metadata": {},
   "outputs": [
    {
     "name": "stdout",
     "output_type": "stream",
     "text": [
      "{}\n"
     ]
    }
   ],
   "source": [
    "# Empty sets\n",
    "\n",
    "d1={}\n",
    "print(d1)"
   ]
  },
  {
   "cell_type": "code",
   "execution_count": 2,
   "id": "24d34650-19dc-49f0-86fa-fc8ef613e543",
   "metadata": {},
   "outputs": [
    {
     "name": "stdout",
     "output_type": "stream",
     "text": [
      "<class 'dict'>\n"
     ]
    }
   ],
   "source": [
    "print(type(d1))"
   ]
  },
  {
   "cell_type": "code",
   "execution_count": 3,
   "id": "631c130b-b211-4fd0-89fb-5f093ac91418",
   "metadata": {},
   "outputs": [
    {
     "data": {
      "text/plain": [
       "set()"
      ]
     },
     "execution_count": 3,
     "metadata": {},
     "output_type": "execute_result"
    }
   ],
   "source": [
    "x1=set()\n",
    "x1"
   ]
  },
  {
   "cell_type": "code",
   "execution_count": 4,
   "id": "6e2cedc6-1885-486a-aa96-4ea5ef409ce6",
   "metadata": {},
   "outputs": [
    {
     "name": "stdout",
     "output_type": "stream",
     "text": [
      "<class 'set'>\n"
     ]
    }
   ],
   "source": [
    "print(type(x1))"
   ]
  },
  {
   "cell_type": "code",
   "execution_count": 5,
   "id": "9c7c8d88-0a8d-4503-94b9-c85d796fd9d8",
   "metadata": {},
   "outputs": [
    {
     "data": {
      "text/plain": [
       "{20, 3.14, 40.23, 45, False, True, 'hello world'}"
      ]
     },
     "execution_count": 5,
     "metadata": {},
     "output_type": "execute_result"
    }
   ],
   "source": [
    "x1={\"hello world\",40.23,20,True,False,'hello world',False,True,45,3.14,\"hello world\"}\n",
    "x1"
   ]
  },
  {
   "cell_type": "code",
   "execution_count": 7,
   "id": "26946d23-ee2d-478a-a4f2-21e4d1461ceb",
   "metadata": {},
   "outputs": [
    {
     "name": "stdout",
     "output_type": "stream",
     "text": [
      "['hello world', 40.23, 20, True, False, 'hello world', False, True, 45, 3.14, 'hello world']\n"
     ]
    }
   ],
   "source": [
    "x2=[\"hello world\",40.23,20,True,False,'hello world',False,True,45,3.14,\"hello world\"]\n",
    "print(x2)"
   ]
  },
  {
   "cell_type": "code",
   "execution_count": 8,
   "id": "c4aae394-49d5-45ab-931d-b5a6a4bf1647",
   "metadata": {},
   "outputs": [
    {
     "data": {
      "text/plain": [
       "{20, 3.14, 40.23, 45, False, True, 'hello world'}"
      ]
     },
     "execution_count": 8,
     "metadata": {},
     "output_type": "execute_result"
    }
   ],
   "source": [
    "x3=set(x2)\n",
    "x3"
   ]
  },
  {
   "cell_type": "code",
   "execution_count": 10,
   "id": "5518d863-601c-444f-a6aa-e6a83c65b334",
   "metadata": {},
   "outputs": [
    {
     "data": {
      "text/plain": [
       "{100, 20, 3.14, 40.23, 45, False, True, 'hello world'}"
      ]
     },
     "execution_count": 10,
     "metadata": {},
     "output_type": "execute_result"
    }
   ],
   "source": [
    "# Adding an elements in set\n",
    "# add() function:- to add an elements into a set, we use add() funcion.\n",
    "\n",
    "x3.add(100)\n",
    "x3"
   ]
  },
  {
   "cell_type": "code",
   "execution_count": 12,
   "id": "5f1d5c02-0a98-413a-acbc-e791cdfda87d",
   "metadata": {},
   "outputs": [
    {
     "data": {
      "text/plain": [
       "{100, 20, 3.14, 40.23, 45, False, 'Hello world', True, 'hello world'}"
      ]
     },
     "execution_count": 12,
     "metadata": {},
     "output_type": "execute_result"
    }
   ],
   "source": [
    "x3.add('Hello world')\n",
    "x3"
   ]
  },
  {
   "cell_type": "code",
   "execution_count": 13,
   "id": "94478baf-cb52-494b-ace1-65a46b036ecf",
   "metadata": {},
   "outputs": [
    {
     "data": {
      "text/plain": [
       "{100, 20, 3.14, 40.23, 45, False, 'Hello world', True, 'hello world'}"
      ]
     },
     "execution_count": 13,
     "metadata": {},
     "output_type": "execute_result"
    }
   ],
   "source": [
    "x3.add('Hello world')\n",
    "x3"
   ]
  },
  {
   "cell_type": "code",
   "execution_count": 14,
   "id": "fb0a4c35-736a-49cb-bab8-7dd2a7c718d5",
   "metadata": {},
   "outputs": [
    {
     "data": {
      "text/plain": [
       "{100, 20, 3.14, 40.23, 45, False, 'Hello world', True, 'hello world'}"
      ]
     },
     "execution_count": 14,
     "metadata": {},
     "output_type": "execute_result"
    }
   ],
   "source": [
    "x3.add('Hello world')\n",
    "x3"
   ]
  },
  {
   "cell_type": "code",
   "execution_count": null,
   "id": "afccdf7a-53ca-4521-acf5-55e76b0d646a",
   "metadata": {},
   "outputs": [],
   "source": [
    "x3.add()"
   ]
  },
  {
   "cell_type": "code",
   "execution_count": 15,
   "id": "a1828bd3-b100-48c1-af30-ae77054075ab",
   "metadata": {},
   "outputs": [
    {
     "data": {
      "text/plain": [
       "{100, 20, 3.14, 40.23, 45, False, 'Hello world', True, 'hello world'}"
      ]
     },
     "execution_count": 15,
     "metadata": {},
     "output_type": "execute_result"
    }
   ],
   "source": [
    "x3"
   ]
  },
  {
   "cell_type": "code",
   "execution_count": 16,
   "id": "cf80d03c-f337-422f-92f9-9689445cd73e",
   "metadata": {},
   "outputs": [],
   "source": [
    "x3.add('shrinivas')"
   ]
  },
  {
   "cell_type": "code",
   "execution_count": 18,
   "id": "7dbc6f0b-bc7e-42b2-91b6-cbbfadc27227",
   "metadata": {},
   "outputs": [
    {
     "name": "stdout",
     "output_type": "stream",
     "text": [
      "{False, True, 3.14, 100, 40.23, 45, 'Hello world', 'hello world', 20, 'shrinivas'}\n"
     ]
    }
   ],
   "source": [
    "print(x3)"
   ]
  },
  {
   "cell_type": "code",
   "execution_count": 19,
   "id": "543f8c19-318a-418a-ad76-3c6893bf288b",
   "metadata": {},
   "outputs": [],
   "source": [
    "x3.add('shrinivas')"
   ]
  },
  {
   "cell_type": "code",
   "execution_count": 20,
   "id": "190161ef-f3c7-40dd-8494-833080ac2397",
   "metadata": {},
   "outputs": [
    {
     "name": "stdout",
     "output_type": "stream",
     "text": [
      "{False, True, 3.14, 100, 40.23, 45, 'Hello world', 'hello world', 20, 'shrinivas'}\n"
     ]
    }
   ],
   "source": [
    "print(x3)"
   ]
  },
  {
   "cell_type": "code",
   "execution_count": 22,
   "id": "7dbbc02e-b061-438e-9407-c9a382a0d8c8",
   "metadata": {},
   "outputs": [],
   "source": [
    "# update function\n",
    "x4={'Hello world',12,14,16,True,False,'Ruplali'}\n",
    "x3.update(x4)"
   ]
  },
  {
   "cell_type": "code",
   "execution_count": 24,
   "id": "16823801-2234-422e-b5c4-450a66161079",
   "metadata": {},
   "outputs": [
    {
     "name": "stdout",
     "output_type": "stream",
     "text": [
      "{False, True, 'o', 3.14, 'r', 12, 14, 16, 'Hello world', 'd', 20, 'e', 'l', ' ', 'shrinivas', 'H', 100, 'w', 40.23, 45, 'hello world', 'Ruplali'}\n"
     ]
    }
   ],
   "source": [
    "print(x3)"
   ]
  },
  {
   "cell_type": "code",
   "execution_count": 26,
   "id": "c7ebf228-5394-482e-935b-b962220d8cc8",
   "metadata": {},
   "outputs": [
    {
     "name": "stdout",
     "output_type": "stream",
     "text": [
      "{1, 2, 3}\n"
     ]
    }
   ],
   "source": [
    "x={1,2,3}\n",
    "y={1,2,3,4,5,6,7,\"Rupali\"}\n",
    "print(x)"
   ]
  },
  {
   "cell_type": "code",
   "execution_count": 27,
   "id": "aebd9af4-1359-43be-97fa-8fe6b5caf8e2",
   "metadata": {},
   "outputs": [],
   "source": [
    "x.update(y)"
   ]
  },
  {
   "cell_type": "code",
   "execution_count": 28,
   "id": "18aea04d-d1e7-4d60-b529-f0b9bef86d12",
   "metadata": {},
   "outputs": [
    {
     "data": {
      "text/plain": [
       "{1, 2, 3, 4, 5, 6, 7, 'Rupali'}"
      ]
     },
     "execution_count": 28,
     "metadata": {},
     "output_type": "execute_result"
    }
   ],
   "source": [
    "x"
   ]
  },
  {
   "cell_type": "code",
   "execution_count": 29,
   "id": "9b99f215-6bb0-459e-bbd0-51dead81b7bb",
   "metadata": {},
   "outputs": [
    {
     "data": {
      "text/plain": [
       "{1, 2, 3, 4, 5, 6, 7, 'Rupali'}"
      ]
     },
     "execution_count": 29,
     "metadata": {},
     "output_type": "execute_result"
    }
   ],
   "source": [
    "x"
   ]
  },
  {
   "cell_type": "code",
   "execution_count": 31,
   "id": "175b7691-821b-44a3-b482-3ccf6bdd80ec",
   "metadata": {},
   "outputs": [
    {
     "data": {
      "text/plain": [
       "{1, 10, 2, 20, 3, 30, 4, 5, 6, 7, 'Rupali'}"
      ]
     },
     "execution_count": 31,
     "metadata": {},
     "output_type": "execute_result"
    }
   ],
   "source": [
    "s1={10,20,30,1,2,3,4}\n",
    "x.update(s1)\n",
    "x"
   ]
  },
  {
   "cell_type": "code",
   "execution_count": 32,
   "id": "a0f385b8-2f73-4395-ac42-79a2771ba292",
   "metadata": {},
   "outputs": [
    {
     "data": {
      "text/plain": [
       "{1, 10, 2, 20, 3, 30, 4, 5, 6, 7, 'Rupali'}"
      ]
     },
     "execution_count": 32,
     "metadata": {},
     "output_type": "execute_result"
    }
   ],
   "source": [
    "x"
   ]
  },
  {
   "cell_type": "code",
   "execution_count": 34,
   "id": "78af6620-c080-41b1-9e7f-e42495ec1ca6",
   "metadata": {},
   "outputs": [
    {
     "data": {
      "text/plain": [
       "{1, 10, 2, 20, 3, 30, 4, 5, 6, 7, 'Hello world', 'Rupali'}"
      ]
     },
     "execution_count": 34,
     "metadata": {},
     "output_type": "execute_result"
    }
   ],
   "source": [
    "x.add('Hello world')\n",
    "x"
   ]
  },
  {
   "cell_type": "code",
   "execution_count": 36,
   "id": "5960237b-85cf-47ce-a190-ad8e296ed735",
   "metadata": {},
   "outputs": [],
   "source": [
    "x={1,2}\n",
    "y={3,4}\n",
    "z={5,6}\n",
    "\n",
    "x.update(z)"
   ]
  },
  {
   "cell_type": "code",
   "execution_count": 37,
   "id": "b31bf82d-eb18-4fe9-91e7-d6d44947f5bf",
   "metadata": {},
   "outputs": [
    {
     "data": {
      "text/plain": [
       "{1, 2, 5, 6}"
      ]
     },
     "execution_count": 37,
     "metadata": {},
     "output_type": "execute_result"
    }
   ],
   "source": [
    "x"
   ]
  },
  {
   "cell_type": "code",
   "execution_count": 39,
   "id": "2a9d4feb-c13e-4746-84bd-d825c20273ca",
   "metadata": {},
   "outputs": [
    {
     "data": {
      "text/plain": [
       "['Pratigya', 20]"
      ]
     },
     "execution_count": 39,
     "metadata": {},
     "output_type": "execute_result"
    }
   ],
   "source": [
    "x=['hello world',20]\n",
    "x[0]=\"Pratigya\"\n",
    "x"
   ]
  },
  {
   "cell_type": "code",
   "execution_count": 40,
   "id": "e8d649ae-f139-471c-a295-66c6564f72bf",
   "metadata": {},
   "outputs": [],
   "source": [
    "del(x[1])"
   ]
  },
  {
   "cell_type": "code",
   "execution_count": 44,
   "id": "c97af657-3676-465d-8a78-0992eab2115a",
   "metadata": {},
   "outputs": [
    {
     "data": {
      "text/plain": [
       "['Pratigya']"
      ]
     },
     "execution_count": 44,
     "metadata": {},
     "output_type": "execute_result"
    }
   ],
   "source": [
    "x"
   ]
  },
  {
   "cell_type": "code",
   "execution_count": 45,
   "id": "839e8296-3cc9-4310-aff5-35626ebf7f2d",
   "metadata": {},
   "outputs": [
    {
     "data": {
      "text/plain": [
       "{1, 2, 3, 4, 10, 20, 30}"
      ]
     },
     "execution_count": 45,
     "metadata": {},
     "output_type": "execute_result"
    }
   ],
   "source": [
    "s1"
   ]
  },
  {
   "cell_type": "code",
   "execution_count": 46,
   "id": "94c7d077-868f-41e8-a221-a792305076d4",
   "metadata": {},
   "outputs": [],
   "source": [
    "s1.remove(20)"
   ]
  },
  {
   "cell_type": "code",
   "execution_count": 47,
   "id": "697efabb-4b42-4302-8e5a-9ca0561f622a",
   "metadata": {},
   "outputs": [
    {
     "data": {
      "text/plain": [
       "{1, 2, 3, 4, 10, 30}"
      ]
     },
     "execution_count": 47,
     "metadata": {},
     "output_type": "execute_result"
    }
   ],
   "source": [
    "s1"
   ]
  },
  {
   "cell_type": "code",
   "execution_count": 1,
   "id": "94603d9c-a9a4-4634-b1f1-2295b0a9197c",
   "metadata": {},
   "outputs": [
    {
     "data": {
      "text/plain": [
       "{10, 20, 'uday'}"
      ]
     },
     "execution_count": 1,
     "metadata": {},
     "output_type": "execute_result"
    }
   ],
   "source": [
    "set1={\"uday\",10,20}\n",
    "set1"
   ]
  },
  {
   "cell_type": "code",
   "execution_count": 2,
   "id": "b67a5f9d-1a64-4ca3-8617-6dba16df8578",
   "metadata": {},
   "outputs": [],
   "source": [
    "set1.remove(20)"
   ]
  },
  {
   "cell_type": "code",
   "execution_count": 3,
   "id": "4e2da479-a446-46fa-9483-1527b232fc92",
   "metadata": {},
   "outputs": [
    {
     "data": {
      "text/plain": [
       "{10, 'uday'}"
      ]
     },
     "execution_count": 3,
     "metadata": {},
     "output_type": "execute_result"
    }
   ],
   "source": [
    "set1"
   ]
  },
  {
   "cell_type": "code",
   "execution_count": 4,
   "id": "f9c0c034-8ad6-43f3-a756-0a6d739ce8af",
   "metadata": {},
   "outputs": [
    {
     "ename": "KeyError",
     "evalue": "20",
     "output_type": "error",
     "traceback": [
      "\u001b[1;31m---------------------------------------------------------------------------\u001b[0m",
      "\u001b[1;31mKeyError\u001b[0m                                  Traceback (most recent call last)",
      "Cell \u001b[1;32mIn[4], line 1\u001b[0m\n\u001b[1;32m----> 1\u001b[0m \u001b[43mset1\u001b[49m\u001b[38;5;241;43m.\u001b[39;49m\u001b[43mremove\u001b[49m\u001b[43m(\u001b[49m\u001b[38;5;241;43m20\u001b[39;49m\u001b[43m)\u001b[49m\n",
      "\u001b[1;31mKeyError\u001b[0m: 20"
     ]
    }
   ],
   "source": [
    "set1.remove(20)"
   ]
  },
  {
   "cell_type": "code",
   "execution_count": 5,
   "id": "6c6e1b52-6c71-45aa-9cac-d20dd2fa4e16",
   "metadata": {},
   "outputs": [
    {
     "data": {
      "text/plain": [
       "{10, 'uday'}"
      ]
     },
     "execution_count": 5,
     "metadata": {},
     "output_type": "execute_result"
    }
   ],
   "source": [
    "# discard() function\n",
    "set1"
   ]
  },
  {
   "cell_type": "code",
   "execution_count": 6,
   "id": "0c8f9082-afef-4a94-8d11-c71726832455",
   "metadata": {},
   "outputs": [
    {
     "data": {
      "text/plain": [
       "{10}"
      ]
     },
     "execution_count": 6,
     "metadata": {},
     "output_type": "execute_result"
    }
   ],
   "source": [
    "set1.discard(\"uday\")\n",
    "set1"
   ]
  },
  {
   "cell_type": "code",
   "execution_count": 7,
   "id": "37d1f707-9b9d-4646-ad4b-c330a5542ba1",
   "metadata": {},
   "outputs": [
    {
     "data": {
      "text/plain": [
       "{10}"
      ]
     },
     "execution_count": 7,
     "metadata": {},
     "output_type": "execute_result"
    }
   ],
   "source": [
    "set1.discard(\"uday\")\n",
    "set1"
   ]
  },
  {
   "cell_type": "code",
   "execution_count": 8,
   "id": "30ef19b9-6f73-4532-9002-36041ac101ff",
   "metadata": {},
   "outputs": [
    {
     "data": {
      "text/plain": [
       "{10, 20, 30, 40, 50, 60}"
      ]
     },
     "execution_count": 8,
     "metadata": {},
     "output_type": "execute_result"
    }
   ],
   "source": [
    "# Membership perators in or not in\n",
    "\n",
    "set2=set([10,20,30,40,50,60])\n",
    "set2"
   ]
  },
  {
   "cell_type": "code",
   "execution_count": 9,
   "id": "8652e9a4-f958-4dea-a9d4-49a0d9133306",
   "metadata": {},
   "outputs": [
    {
     "data": {
      "text/plain": [
       "False"
      ]
     },
     "execution_count": 9,
     "metadata": {},
     "output_type": "execute_result"
    }
   ],
   "source": [
    "100 in set2"
   ]
  },
  {
   "cell_type": "code",
   "execution_count": 10,
   "id": "0eaaa33d-8533-4e6f-b104-d76743538126",
   "metadata": {},
   "outputs": [
    {
     "data": {
      "text/plain": [
       "True"
      ]
     },
     "execution_count": 10,
     "metadata": {},
     "output_type": "execute_result"
    }
   ],
   "source": [
    "100 not in set2"
   ]
  },
  {
   "cell_type": "code",
   "execution_count": 11,
   "id": "e8601dfa-4d42-4831-ab61-af679fb8ee4d",
   "metadata": {},
   "outputs": [
    {
     "data": {
      "text/plain": [
       "True"
      ]
     },
     "execution_count": 11,
     "metadata": {},
     "output_type": "execute_result"
    }
   ],
   "source": [
    "10 in set2"
   ]
  },
  {
   "cell_type": "markdown",
   "id": "2366ea08-517e-4e0d-b51d-8390365005bd",
   "metadata": {},
   "source": [
    "# Logic operations in sets. "
   ]
  },
  {
   "cell_type": "code",
   "execution_count": 13,
   "id": "24edd8a0-718c-4b92-843c-c4e7d1465b2b",
   "metadata": {},
   "outputs": [],
   "source": [
    "# Union\n",
    "# Intersection\n",
    "# Difference\n",
    "# Symmetric_difference"
   ]
  },
  {
   "cell_type": "code",
   "execution_count": 16,
   "id": "2134bda8-e6e8-4041-8de9-00332f3b4bb3",
   "metadata": {},
   "outputs": [
    {
     "name": "stdout",
     "output_type": "stream",
     "text": [
      "{1.618, 3.14, 'Hello World', 'Hello Python'}\n",
      "{False, 1.618, True, 3.14, 2024}\n"
     ]
    }
   ],
   "source": [
    "set4=set([\"Hello Python\",3.14,1.618,\"Hello World\"])\n",
    "set5={3.14,1.618,True,False,2024}\n",
    "\n",
    "print(set4)\n",
    "print(set5)"
   ]
  },
  {
   "cell_type": "code",
   "execution_count": 15,
   "id": "b5f6d073-83d0-4054-985b-dcc6ac91ed11",
   "metadata": {},
   "outputs": [
    {
     "data": {
      "text/plain": [
       "({1.618, 3.14, 'Hello Python', 'Hello World'},\n",
       " {False, True, 1.618, 3.14, 2024})"
      ]
     },
     "execution_count": 15,
     "metadata": {},
     "output_type": "execute_result"
    }
   ],
   "source": [
    "set4,set5"
   ]
  },
  {
   "cell_type": "code",
   "execution_count": 17,
   "id": "705ed477-b7da-4e64-92b5-0c483f7cbb44",
   "metadata": {},
   "outputs": [
    {
     "data": {
      "text/plain": [
       "{1.618, 2024, 3.14, False, 'Hello Python', 'Hello World', True}"
      ]
     },
     "execution_count": 17,
     "metadata": {},
     "output_type": "execute_result"
    }
   ],
   "source": [
    "# To find the union between two sets.\n",
    "\n",
    "set4.union(set5)"
   ]
  },
  {
   "cell_type": "code",
   "execution_count": 20,
   "id": "fa900968-5272-4288-abbc-8bde6c52bce5",
   "metadata": {},
   "outputs": [
    {
     "name": "stdout",
     "output_type": "stream",
     "text": [
      "{1.618, 3.14, 'Hello World', 'Hello Python'}\n",
      "{False, 1.618, True, 3.14, 2024}\n"
     ]
    },
    {
     "data": {
      "text/plain": [
       "{1.618, 3.14}"
      ]
     },
     "execution_count": 20,
     "metadata": {},
     "output_type": "execute_result"
    }
   ],
   "source": [
    "# intersection\n",
    "\n",
    "print(set4)\n",
    "print(set5)\n",
    "\n",
    "set4.intersection(set5)"
   ]
  },
  {
   "cell_type": "code",
   "execution_count": 21,
   "id": "a5881ca3-c04a-4b47-8773-6fb9fd3dd65d",
   "metadata": {},
   "outputs": [
    {
     "data": {
      "text/plain": [
       "{1.618, 3.14}"
      ]
     },
     "execution_count": 21,
     "metadata": {},
     "output_type": "execute_result"
    }
   ],
   "source": [
    "x=set4&set5\n",
    "x"
   ]
  },
  {
   "cell_type": "code",
   "execution_count": 25,
   "id": "8df159ce-1bf0-42dd-8750-9d040d46f482",
   "metadata": {},
   "outputs": [
    {
     "name": "stdout",
     "output_type": "stream",
     "text": [
      "{1.618, 3.14, 'Hello World', 'Hello Python'}\n",
      "{False, 1.618, True, 3.14, 2024}\n",
      "{'Hello World', 'Hello Python'}\n",
      "{False, True, 2024}\n"
     ]
    }
   ],
   "source": [
    "# Difference\n",
    "\n",
    "print(set4)\n",
    "print(set5)\n",
    "\n",
    "print(set4.difference(set5))\n",
    "print(set5.difference(set4))"
   ]
  },
  {
   "cell_type": "code",
   "execution_count": 26,
   "id": "735800f9-1b37-4f0e-9081-54c2d1178152",
   "metadata": {},
   "outputs": [
    {
     "name": "stdout",
     "output_type": "stream",
     "text": [
      "{1.618, 3.14, 'Hello World', 'Hello Python'}\n",
      "{False, 1.618, True, 3.14, 2024}\n"
     ]
    }
   ],
   "source": [
    "# symmetric difference\n",
    "\n",
    "print(set4)\n",
    "print(set5)"
   ]
  },
  {
   "cell_type": "code",
   "execution_count": 27,
   "id": "71be6d10-3c9a-4870-b376-324f1298c2f2",
   "metadata": {},
   "outputs": [
    {
     "data": {
      "text/plain": [
       "{2024, False, 'Hello Python', 'Hello World', True}"
      ]
     },
     "execution_count": 27,
     "metadata": {},
     "output_type": "execute_result"
    }
   ],
   "source": [
    "set4.symmetric_difference(set5)"
   ]
  },
  {
   "cell_type": "code",
   "execution_count": 40,
   "id": "6119b7d3-7db8-486f-a6a5-7dfdf33b0361",
   "metadata": {},
   "outputs": [
    {
     "name": "stdout",
     "output_type": "stream",
     "text": [
      "Mininum number of the list: 10\n",
      "Mininum number of the set: 10\n",
      "Maximum number of the list: 50\n",
      "Maximum number of the set: 50\n",
      "Total of the list: 270\n",
      "Total of the set: 150\n",
      "Average of the list 24.545454545454547\n",
      "Average of the set 30.0\n",
      "length of the list 11\n",
      "Length of the set 5\n"
     ]
    }
   ],
   "source": [
    "# aggrigate() function\n",
    "\n",
    "# min,max,sum,count,avg,length\n",
    "\n",
    "list1=[10,10,10,20,20,20,20,30,40,40,50]  #list\n",
    "set6={10,10,10,20,20,20,20,30,40,40,50} # set\n",
    "\n",
    "print(\"Mininum number of the list:\",min(list1))\n",
    "print(\"Mininum number of the set:\",min(set6))\n",
    "print(\"Maximum number of the list:\",max(list1))\n",
    "print(\"Maximum number of the set:\",max(set6))\n",
    "print(\"Total of the list:\",sum(list1))\n",
    "print(\"Total of the set:\",sum(set6))\n",
    "print(\"Average of the list\",sum(list1)/len(list1))\n",
    "print(\"Average of the set\",sum(set6)/len(set6))\n",
    "print(\"length of the list\",len(list1))\n",
    "print(\"Length of the set\",len(set6))"
   ]
  },
  {
   "cell_type": "code",
   "execution_count": 43,
   "id": "eb4553dd-f600-477e-b387-4bb0f8ac7ce6",
   "metadata": {},
   "outputs": [
    {
     "ename": "TypeError",
     "evalue": "unhashable type: 'list'",
     "output_type": "error",
     "traceback": [
      "\u001b[1;31m---------------------------------------------------------------------------\u001b[0m",
      "\u001b[1;31mTypeError\u001b[0m                                 Traceback (most recent call last)",
      "Cell \u001b[1;32mIn[43], line 3\u001b[0m\n\u001b[0;32m      1\u001b[0m \u001b[38;5;66;03m# No mutable sequence in set\u001b[39;00m\n\u001b[1;32m----> 3\u001b[0m set7\u001b[38;5;241m=\u001b[39m{\u001b[38;5;124m'\u001b[39m\u001b[38;5;124mPython\u001b[39m\u001b[38;5;124m'\u001b[39m,\u001b[38;5;241m12.5\u001b[39m,\u001b[38;5;28;01mTrue\u001b[39;00m,\u001b[38;5;28;01mFalse\u001b[39;00m,[\u001b[38;5;241m10\u001b[39m,\u001b[38;5;241m20\u001b[39m]}\n\u001b[0;32m      4\u001b[0m set7\n",
      "\u001b[1;31mTypeError\u001b[0m: unhashable type: 'list'"
     ]
    }
   ],
   "source": [
    "# No mutable sequence in set\n",
    "\n",
    "set7={'Python',12.5,True,False,[10,20]}\n",
    "set7"
   ]
  },
  {
   "cell_type": "code",
   "execution_count": 44,
   "id": "11686d54-03c5-4917-9dee-d32cd02c9ae8",
   "metadata": {},
   "outputs": [
    {
     "data": {
      "text/plain": [
       "{(10, 20), 12.5, False, 'Python', True}"
      ]
     },
     "execution_count": 44,
     "metadata": {},
     "output_type": "execute_result"
    }
   ],
   "source": [
    "set7={'Python',12.5,True,False,(10,20)}\n",
    "set7"
   ]
  },
  {
   "cell_type": "code",
   "execution_count": 45,
   "id": "d9cd0f48-0b2b-4bb7-9a23-d254cc907215",
   "metadata": {},
   "outputs": [],
   "source": [
    "set7.remove((10,20))"
   ]
  },
  {
   "cell_type": "code",
   "execution_count": 46,
   "id": "20dd52ef-f62f-4467-a95a-2f7661353a32",
   "metadata": {},
   "outputs": [
    {
     "data": {
      "text/plain": [
       "{12.5, False, 'Python', True}"
      ]
     },
     "execution_count": 46,
     "metadata": {},
     "output_type": "execute_result"
    }
   ],
   "source": [
    "set7"
   ]
  },
  {
   "cell_type": "code",
   "execution_count": 47,
   "id": "17f47fe9-20f0-4462-9662-0ccd7d007ee0",
   "metadata": {},
   "outputs": [
    {
     "data": {
      "text/plain": [
       "{12.5, False, 'Python', True}"
      ]
     },
     "execution_count": 47,
     "metadata": {},
     "output_type": "execute_result"
    }
   ],
   "source": [
    "set7"
   ]
  },
  {
   "cell_type": "code",
   "execution_count": 48,
   "id": "3b1c7b17-c30c-48e1-8be0-bfe110b06c50",
   "metadata": {},
   "outputs": [
    {
     "ename": "TypeError",
     "evalue": "'set' object is not subscriptable",
     "output_type": "error",
     "traceback": [
      "\u001b[1;31m---------------------------------------------------------------------------\u001b[0m",
      "\u001b[1;31mTypeError\u001b[0m                                 Traceback (most recent call last)",
      "Cell \u001b[1;32mIn[48], line 1\u001b[0m\n\u001b[1;32m----> 1\u001b[0m \u001b[43mset7\u001b[49m\u001b[43m[\u001b[49m\u001b[38;5;241;43m0\u001b[39;49m\u001b[43m]\u001b[49m\n",
      "\u001b[1;31mTypeError\u001b[0m: 'set' object is not subscriptable"
     ]
    }
   ],
   "source": [
    "set7[0]"
   ]
  },
  {
   "cell_type": "code",
   "execution_count": 52,
   "id": "d9a5944a-c498-4323-9970-0987e7f2adef",
   "metadata": {},
   "outputs": [
    {
     "name": "stdout",
     "output_type": "stream",
     "text": [
      "{10, 20, 30}\n"
     ]
    }
   ],
   "source": [
    "# Copy the set\n",
    "\n",
    "# Deep copy() and shallow copy()\n",
    "\n",
    "# Deep copy()\n",
    "set_a={10,20,30}\n",
    "print(set_a)\n",
    "\n",
    "# deep copy\n",
    "set_b=set_a"
   ]
  },
  {
   "cell_type": "code",
   "execution_count": 53,
   "id": "ac01ef86-0f82-4ee2-9b7e-884f0886f460",
   "metadata": {},
   "outputs": [
    {
     "name": "stdout",
     "output_type": "stream",
     "text": [
      "{10, 20, 30}\n"
     ]
    }
   ],
   "source": [
    "print(set_b)"
   ]
  },
  {
   "cell_type": "code",
   "execution_count": 55,
   "id": "9852665b-9061-4164-92b7-7015f048feb0",
   "metadata": {},
   "outputs": [
    {
     "name": "stdout",
     "output_type": "stream",
     "text": [
      "{10, 20, 30}\n",
      "{10, 20, 30}\n"
     ]
    }
   ],
   "source": [
    "print(set_a)\n",
    "print(set_b)"
   ]
  },
  {
   "cell_type": "code",
   "execution_count": 56,
   "id": "cf2fdcf5-5706-468e-908a-10e8f6f2bcd1",
   "metadata": {},
   "outputs": [
    {
     "name": "stdout",
     "output_type": "stream",
     "text": [
      "{'Babli', 10, 20, 30}\n"
     ]
    }
   ],
   "source": [
    "set_a.add('Babli')\n",
    "print(set_a)"
   ]
  },
  {
   "cell_type": "code",
   "execution_count": 57,
   "id": "0847b296-1fdc-4cb8-b2c8-237f59015235",
   "metadata": {},
   "outputs": [
    {
     "name": "stdout",
     "output_type": "stream",
     "text": [
      "{'Babli', 10, 20, 30}\n"
     ]
    }
   ],
   "source": [
    "print(set_b)"
   ]
  },
  {
   "cell_type": "code",
   "execution_count": 58,
   "id": "993c4986-5f29-4f90-b754-8d8144c88a26",
   "metadata": {},
   "outputs": [
    {
     "name": "stdout",
     "output_type": "stream",
     "text": [
      "{10, 'Uday', 20, 'Babli', 30}\n"
     ]
    }
   ],
   "source": [
    "set_b.add(\"Uday\")\n",
    "print(set_b)"
   ]
  },
  {
   "cell_type": "code",
   "execution_count": 59,
   "id": "8cf87b02-2e3f-4ff7-a651-5689ee288420",
   "metadata": {},
   "outputs": [
    {
     "name": "stdout",
     "output_type": "stream",
     "text": [
      "{10, 'Uday', 20, 'Babli', 30}\n"
     ]
    }
   ],
   "source": [
    "print(set_a)"
   ]
  },
  {
   "cell_type": "code",
   "execution_count": 61,
   "id": "5e0e3256-336a-4b3a-8b36-007115c21d1e",
   "metadata": {},
   "outputs": [
    {
     "name": "stdout",
     "output_type": "stream",
     "text": [
      "{10, 'Uday', 20, 'Babli', 30}\n",
      "{10, 'Uday', 20, 'Babli', 30}\n"
     ]
    }
   ],
   "source": [
    "# shallow copy\n",
    "\n",
    "print(set_a)\n",
    "print(set_b)"
   ]
  },
  {
   "cell_type": "code",
   "execution_count": 64,
   "id": "e22749e0-87bf-4dd3-a55c-fe2d3fc75736",
   "metadata": {},
   "outputs": [],
   "source": [
    "# shallow copy\n",
    "\n",
    "set_c=set_a.copy()"
   ]
  },
  {
   "cell_type": "code",
   "execution_count": 65,
   "id": "f50e67b1-574a-4ab4-9d48-522602bd1022",
   "metadata": {},
   "outputs": [
    {
     "name": "stdout",
     "output_type": "stream",
     "text": [
      "{20, 30, 10, 'Babli', 'Uday'}\n"
     ]
    }
   ],
   "source": [
    "print(set_c)"
   ]
  },
  {
   "cell_type": "code",
   "execution_count": 66,
   "id": "d4198212-21f3-405c-a347-ea4fcff95a08",
   "metadata": {},
   "outputs": [
    {
     "name": "stdout",
     "output_type": "stream",
     "text": [
      "{10, 'Uday', 20, 'Babli', 30}\n",
      "{20, 30, 10, 'Babli', 'Uday'}\n"
     ]
    }
   ],
   "source": [
    "print(set_a)\n",
    "print(set_c)"
   ]
  },
  {
   "cell_type": "code",
   "execution_count": 67,
   "id": "47f9fde8-1215-4e7c-b6d0-bea1728b41f0",
   "metadata": {},
   "outputs": [
    {
     "name": "stdout",
     "output_type": "stream",
     "text": [
      "{20, 'Rupali', 30, 10, 'Babli', 'Uday'}\n"
     ]
    }
   ],
   "source": [
    "set_c.add(\"Rupali\")\n",
    "print(set_c)"
   ]
  },
  {
   "cell_type": "code",
   "execution_count": 68,
   "id": "c9c09952-5450-4221-8dcc-6eca489c77c5",
   "metadata": {},
   "outputs": [
    {
     "name": "stdout",
     "output_type": "stream",
     "text": [
      "{10, 'Uday', 20, 'Babli', 30}\n"
     ]
    }
   ],
   "source": [
    "print(set_a)"
   ]
  },
  {
   "cell_type": "code",
   "execution_count": 69,
   "id": "d2f1c8f3-1b96-476f-bac7-f0d8da271fd5",
   "metadata": {},
   "outputs": [
    {
     "data": {
      "text/plain": [
       "{0, 1, 2, 3, 4, 5, 6, 7, 8, 9}"
      ]
     },
     "execution_count": 69,
     "metadata": {},
     "output_type": "execute_result"
    }
   ],
   "source": [
    "# \n",
    "set_d={0,1,2,3,4,5,6,7,8,9}\n",
    "set_d"
   ]
  },
  {
   "cell_type": "code",
   "execution_count": 75,
   "id": "384dbe8e-83ed-490e-9c5a-76250206e324",
   "metadata": {},
   "outputs": [
    {
     "data": {
      "text/plain": [
       "2"
      ]
     },
     "execution_count": 75,
     "metadata": {},
     "output_type": "execute_result"
    }
   ],
   "source": [
    "# pop\n",
    "\n",
    "set_d.pop()"
   ]
  },
  {
   "cell_type": "code",
   "execution_count": 76,
   "id": "0e443a80-a104-4260-84e6-0bf6341e4423",
   "metadata": {},
   "outputs": [
    {
     "data": {
      "text/plain": [
       "{3, 4, 5, 6, 7, 8, 9}"
      ]
     },
     "execution_count": 76,
     "metadata": {},
     "output_type": "execute_result"
    }
   ],
   "source": [
    "set_d"
   ]
  },
  {
   "cell_type": "code",
   "execution_count": 77,
   "id": "bf2855ca-5486-47bf-9988-c7a660e92750",
   "metadata": {},
   "outputs": [
    {
     "data": {
      "text/plain": [
       "{3, 4, 5, 6, 7, 8, 9}"
      ]
     },
     "execution_count": 77,
     "metadata": {},
     "output_type": "execute_result"
    }
   ],
   "source": [
    "#\n",
    "set_d"
   ]
  },
  {
   "cell_type": "code",
   "execution_count": 78,
   "id": "a263965f-e709-4b18-bd14-5f96f6770e09",
   "metadata": {},
   "outputs": [],
   "source": [
    "set_d.clear()"
   ]
  },
  {
   "cell_type": "code",
   "execution_count": 79,
   "id": "a814d2e4-24d3-42ec-8f3f-2ab4b05467a5",
   "metadata": {},
   "outputs": [
    {
     "data": {
      "text/plain": [
       "set()"
      ]
     },
     "execution_count": 79,
     "metadata": {},
     "output_type": "execute_result"
    }
   ],
   "source": [
    "set_d"
   ]
  },
  {
   "cell_type": "code",
   "execution_count": 80,
   "id": "c91cc3f7-c6c2-44f2-8312-172141d1cf3a",
   "metadata": {},
   "outputs": [],
   "source": [
    "set_d.add(\"Welcome\")"
   ]
  },
  {
   "cell_type": "code",
   "execution_count": 81,
   "id": "83b147cd-f296-4c61-9d64-c0f0aa91286f",
   "metadata": {},
   "outputs": [
    {
     "data": {
      "text/plain": [
       "{'Welcome'}"
      ]
     },
     "execution_count": 81,
     "metadata": {},
     "output_type": "execute_result"
    }
   ],
   "source": [
    "set_d"
   ]
  },
  {
   "cell_type": "code",
   "execution_count": null,
   "id": "c0e28001-b399-4991-876f-402c6adea72f",
   "metadata": {},
   "outputs": [],
   "source": []
  }
 ],
 "metadata": {
  "kernelspec": {
   "display_name": "Python 3 (ipykernel)",
   "language": "python",
   "name": "python3"
  },
  "language_info": {
   "codemirror_mode": {
    "name": "ipython",
    "version": 3
   },
   "file_extension": ".py",
   "mimetype": "text/x-python",
   "name": "python",
   "nbconvert_exporter": "python",
   "pygments_lexer": "ipython3",
   "version": "3.11.4"
  }
 },
 "nbformat": 4,
 "nbformat_minor": 5
}
