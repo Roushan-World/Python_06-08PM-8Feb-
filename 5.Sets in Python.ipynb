{
 "cells": [
  {
   "cell_type": "markdown",
   "id": "dc8e50ea-7f17-4c21-bf6e-d17db0b13099",
   "metadata": {},
   "source": [
    "# 5. Sets in Python\n",
    "\n",
    " * __Set is one of the 4th built data types on python used to store collections of data including list, tuple and dictionary.__\n",
    " * __Sets are unordered, but you can remove items and add new items.__\n",
    " * __Sets elements are unique, Duplicate elements are not allowed.__\n",
    " * __A set itself may be modified, the elements contained in the set must be of an immutable type.__\n",
    " * __Sets are used to store multiple items in a single variable.__\n",
    " * __You can denote a set with a pair of curly brackets{}.__"
   ]
  },
  {
   "cell_type": "code",
   "execution_count": 1,
   "id": "935f5b78-3512-4c80-8d95-06df18f3fe37",
   "metadata": {},
   "outputs": [
    {
     "name": "stdout",
     "output_type": "stream",
     "text": [
      "{}\n"
     ]
    }
   ],
   "source": [
    "# Empty sets\n",
    "\n",
    "d1={}\n",
    "print(d1)"
   ]
  },
  {
   "cell_type": "code",
   "execution_count": 2,
   "id": "24d34650-19dc-49f0-86fa-fc8ef613e543",
   "metadata": {},
   "outputs": [
    {
     "name": "stdout",
     "output_type": "stream",
     "text": [
      "<class 'dict'>\n"
     ]
    }
   ],
   "source": [
    "print(type(d1))"
   ]
  },
  {
   "cell_type": "code",
   "execution_count": 3,
   "id": "631c130b-b211-4fd0-89fb-5f093ac91418",
   "metadata": {},
   "outputs": [
    {
     "data": {
      "text/plain": [
       "set()"
      ]
     },
     "execution_count": 3,
     "metadata": {},
     "output_type": "execute_result"
    }
   ],
   "source": [
    "x1=set()\n",
    "x1"
   ]
  },
  {
   "cell_type": "code",
   "execution_count": 4,
   "id": "6e2cedc6-1885-486a-aa96-4ea5ef409ce6",
   "metadata": {},
   "outputs": [
    {
     "name": "stdout",
     "output_type": "stream",
     "text": [
      "<class 'set'>\n"
     ]
    }
   ],
   "source": [
    "print(type(x1))"
   ]
  },
  {
   "cell_type": "code",
   "execution_count": 5,
   "id": "9c7c8d88-0a8d-4503-94b9-c85d796fd9d8",
   "metadata": {},
   "outputs": [
    {
     "data": {
      "text/plain": [
       "{20, 3.14, 40.23, 45, False, True, 'hello world'}"
      ]
     },
     "execution_count": 5,
     "metadata": {},
     "output_type": "execute_result"
    }
   ],
   "source": [
    "x1={\"hello world\",40.23,20,True,False,'hello world',False,True,45,3.14,\"hello world\"}\n",
    "x1"
   ]
  },
  {
   "cell_type": "code",
   "execution_count": 7,
   "id": "26946d23-ee2d-478a-a4f2-21e4d1461ceb",
   "metadata": {},
   "outputs": [
    {
     "name": "stdout",
     "output_type": "stream",
     "text": [
      "['hello world', 40.23, 20, True, False, 'hello world', False, True, 45, 3.14, 'hello world']\n"
     ]
    }
   ],
   "source": [
    "x2=[\"hello world\",40.23,20,True,False,'hello world',False,True,45,3.14,\"hello world\"]\n",
    "print(x2)"
   ]
  },
  {
   "cell_type": "code",
   "execution_count": 8,
   "id": "c4aae394-49d5-45ab-931d-b5a6a4bf1647",
   "metadata": {},
   "outputs": [
    {
     "data": {
      "text/plain": [
       "{20, 3.14, 40.23, 45, False, True, 'hello world'}"
      ]
     },
     "execution_count": 8,
     "metadata": {},
     "output_type": "execute_result"
    }
   ],
   "source": [
    "x3=set(x2)\n",
    "x3"
   ]
  },
  {
   "cell_type": "code",
   "execution_count": 10,
   "id": "5518d863-601c-444f-a6aa-e6a83c65b334",
   "metadata": {},
   "outputs": [
    {
     "data": {
      "text/plain": [
       "{100, 20, 3.14, 40.23, 45, False, True, 'hello world'}"
      ]
     },
     "execution_count": 10,
     "metadata": {},
     "output_type": "execute_result"
    }
   ],
   "source": [
    "# Adding an elements in set\n",
    "# add() function:- to add an elements into a set, we use add() funcion.\n",
    "\n",
    "x3.add(100)\n",
    "x3"
   ]
  },
  {
   "cell_type": "code",
   "execution_count": 12,
   "id": "5f1d5c02-0a98-413a-acbc-e791cdfda87d",
   "metadata": {},
   "outputs": [
    {
     "data": {
      "text/plain": [
       "{100, 20, 3.14, 40.23, 45, False, 'Hello world', True, 'hello world'}"
      ]
     },
     "execution_count": 12,
     "metadata": {},
     "output_type": "execute_result"
    }
   ],
   "source": [
    "x3.add('Hello world')\n",
    "x3"
   ]
  },
  {
   "cell_type": "code",
   "execution_count": 13,
   "id": "94478baf-cb52-494b-ace1-65a46b036ecf",
   "metadata": {},
   "outputs": [
    {
     "data": {
      "text/plain": [
       "{100, 20, 3.14, 40.23, 45, False, 'Hello world', True, 'hello world'}"
      ]
     },
     "execution_count": 13,
     "metadata": {},
     "output_type": "execute_result"
    }
   ],
   "source": [
    "x3.add('Hello world')\n",
    "x3"
   ]
  },
  {
   "cell_type": "code",
   "execution_count": 14,
   "id": "fb0a4c35-736a-49cb-bab8-7dd2a7c718d5",
   "metadata": {},
   "outputs": [
    {
     "data": {
      "text/plain": [
       "{100, 20, 3.14, 40.23, 45, False, 'Hello world', True, 'hello world'}"
      ]
     },
     "execution_count": 14,
     "metadata": {},
     "output_type": "execute_result"
    }
   ],
   "source": [
    "x3.add('Hello world')\n",
    "x3"
   ]
  },
  {
   "cell_type": "code",
   "execution_count": null,
   "id": "afccdf7a-53ca-4521-acf5-55e76b0d646a",
   "metadata": {},
   "outputs": [],
   "source": [
    "x3.add()"
   ]
  },
  {
   "cell_type": "code",
   "execution_count": 15,
   "id": "a1828bd3-b100-48c1-af30-ae77054075ab",
   "metadata": {},
   "outputs": [
    {
     "data": {
      "text/plain": [
       "{100, 20, 3.14, 40.23, 45, False, 'Hello world', True, 'hello world'}"
      ]
     },
     "execution_count": 15,
     "metadata": {},
     "output_type": "execute_result"
    }
   ],
   "source": [
    "x3"
   ]
  },
  {
   "cell_type": "code",
   "execution_count": 16,
   "id": "cf80d03c-f337-422f-92f9-9689445cd73e",
   "metadata": {},
   "outputs": [],
   "source": [
    "x3.add('shrinivas')"
   ]
  },
  {
   "cell_type": "code",
   "execution_count": 18,
   "id": "7dbc6f0b-bc7e-42b2-91b6-cbbfadc27227",
   "metadata": {},
   "outputs": [
    {
     "name": "stdout",
     "output_type": "stream",
     "text": [
      "{False, True, 3.14, 100, 40.23, 45, 'Hello world', 'hello world', 20, 'shrinivas'}\n"
     ]
    }
   ],
   "source": [
    "print(x3)"
   ]
  },
  {
   "cell_type": "code",
   "execution_count": 19,
   "id": "543f8c19-318a-418a-ad76-3c6893bf288b",
   "metadata": {},
   "outputs": [],
   "source": [
    "x3.add('shrinivas')"
   ]
  },
  {
   "cell_type": "code",
   "execution_count": 20,
   "id": "190161ef-f3c7-40dd-8494-833080ac2397",
   "metadata": {},
   "outputs": [
    {
     "name": "stdout",
     "output_type": "stream",
     "text": [
      "{False, True, 3.14, 100, 40.23, 45, 'Hello world', 'hello world', 20, 'shrinivas'}\n"
     ]
    }
   ],
   "source": [
    "print(x3)"
   ]
  },
  {
   "cell_type": "code",
   "execution_count": 22,
   "id": "7dbbc02e-b061-438e-9407-c9a382a0d8c8",
   "metadata": {},
   "outputs": [],
   "source": [
    "# update function\n",
    "x4={'Hello world',12,14,16,True,False,'Ruplali'}\n",
    "x3.update(x4)"
   ]
  },
  {
   "cell_type": "code",
   "execution_count": 24,
   "id": "16823801-2234-422e-b5c4-450a66161079",
   "metadata": {},
   "outputs": [
    {
     "name": "stdout",
     "output_type": "stream",
     "text": [
      "{False, True, 'o', 3.14, 'r', 12, 14, 16, 'Hello world', 'd', 20, 'e', 'l', ' ', 'shrinivas', 'H', 100, 'w', 40.23, 45, 'hello world', 'Ruplali'}\n"
     ]
    }
   ],
   "source": [
    "print(x3)"
   ]
  },
  {
   "cell_type": "code",
   "execution_count": 26,
   "id": "c7ebf228-5394-482e-935b-b962220d8cc8",
   "metadata": {},
   "outputs": [
    {
     "name": "stdout",
     "output_type": "stream",
     "text": [
      "{1, 2, 3}\n"
     ]
    }
   ],
   "source": [
    "x={1,2,3}\n",
    "y={1,2,3,4,5,6,7,\"Rupali\"}\n",
    "print(x)"
   ]
  },
  {
   "cell_type": "code",
   "execution_count": 27,
   "id": "aebd9af4-1359-43be-97fa-8fe6b5caf8e2",
   "metadata": {},
   "outputs": [],
   "source": [
    "x.update(y)"
   ]
  },
  {
   "cell_type": "code",
   "execution_count": 28,
   "id": "18aea04d-d1e7-4d60-b529-f0b9bef86d12",
   "metadata": {},
   "outputs": [
    {
     "data": {
      "text/plain": [
       "{1, 2, 3, 4, 5, 6, 7, 'Rupali'}"
      ]
     },
     "execution_count": 28,
     "metadata": {},
     "output_type": "execute_result"
    }
   ],
   "source": [
    "x"
   ]
  },
  {
   "cell_type": "code",
   "execution_count": 29,
   "id": "9b99f215-6bb0-459e-bbd0-51dead81b7bb",
   "metadata": {},
   "outputs": [
    {
     "data": {
      "text/plain": [
       "{1, 2, 3, 4, 5, 6, 7, 'Rupali'}"
      ]
     },
     "execution_count": 29,
     "metadata": {},
     "output_type": "execute_result"
    }
   ],
   "source": [
    "x"
   ]
  },
  {
   "cell_type": "code",
   "execution_count": 31,
   "id": "175b7691-821b-44a3-b482-3ccf6bdd80ec",
   "metadata": {},
   "outputs": [
    {
     "data": {
      "text/plain": [
       "{1, 10, 2, 20, 3, 30, 4, 5, 6, 7, 'Rupali'}"
      ]
     },
     "execution_count": 31,
     "metadata": {},
     "output_type": "execute_result"
    }
   ],
   "source": [
    "s1={10,20,30,1,2,3,4}\n",
    "x.update(s1)\n",
    "x"
   ]
  },
  {
   "cell_type": "code",
   "execution_count": 32,
   "id": "a0f385b8-2f73-4395-ac42-79a2771ba292",
   "metadata": {},
   "outputs": [
    {
     "data": {
      "text/plain": [
       "{1, 10, 2, 20, 3, 30, 4, 5, 6, 7, 'Rupali'}"
      ]
     },
     "execution_count": 32,
     "metadata": {},
     "output_type": "execute_result"
    }
   ],
   "source": [
    "x"
   ]
  },
  {
   "cell_type": "code",
   "execution_count": 34,
   "id": "78af6620-c080-41b1-9e7f-e42495ec1ca6",
   "metadata": {},
   "outputs": [
    {
     "data": {
      "text/plain": [
       "{1, 10, 2, 20, 3, 30, 4, 5, 6, 7, 'Hello world', 'Rupali'}"
      ]
     },
     "execution_count": 34,
     "metadata": {},
     "output_type": "execute_result"
    }
   ],
   "source": [
    "x.add('Hello world')\n",
    "x"
   ]
  },
  {
   "cell_type": "code",
   "execution_count": 36,
   "id": "5960237b-85cf-47ce-a190-ad8e296ed735",
   "metadata": {},
   "outputs": [],
   "source": [
    "x={1,2}\n",
    "y={3,4}\n",
    "z={5,6}\n",
    "\n",
    "x.update(z)"
   ]
  },
  {
   "cell_type": "code",
   "execution_count": 37,
   "id": "b31bf82d-eb18-4fe9-91e7-d6d44947f5bf",
   "metadata": {},
   "outputs": [
    {
     "data": {
      "text/plain": [
       "{1, 2, 5, 6}"
      ]
     },
     "execution_count": 37,
     "metadata": {},
     "output_type": "execute_result"
    }
   ],
   "source": [
    "x"
   ]
  },
  {
   "cell_type": "code",
   "execution_count": 39,
   "id": "2a9d4feb-c13e-4746-84bd-d825c20273ca",
   "metadata": {},
   "outputs": [
    {
     "data": {
      "text/plain": [
       "['Pratigya', 20]"
      ]
     },
     "execution_count": 39,
     "metadata": {},
     "output_type": "execute_result"
    }
   ],
   "source": [
    "x=['hello world',20]\n",
    "x[0]=\"Pratigya\"\n",
    "x"
   ]
  },
  {
   "cell_type": "code",
   "execution_count": 40,
   "id": "e8d649ae-f139-471c-a295-66c6564f72bf",
   "metadata": {},
   "outputs": [],
   "source": [
    "del(x[1])"
   ]
  },
  {
   "cell_type": "code",
   "execution_count": 44,
   "id": "c97af657-3676-465d-8a78-0992eab2115a",
   "metadata": {},
   "outputs": [
    {
     "data": {
      "text/plain": [
       "['Pratigya']"
      ]
     },
     "execution_count": 44,
     "metadata": {},
     "output_type": "execute_result"
    }
   ],
   "source": [
    "x"
   ]
  },
  {
   "cell_type": "code",
   "execution_count": 45,
   "id": "839e8296-3cc9-4310-aff5-35626ebf7f2d",
   "metadata": {},
   "outputs": [
    {
     "data": {
      "text/plain": [
       "{1, 2, 3, 4, 10, 20, 30}"
      ]
     },
     "execution_count": 45,
     "metadata": {},
     "output_type": "execute_result"
    }
   ],
   "source": [
    "s1"
   ]
  },
  {
   "cell_type": "code",
   "execution_count": 46,
   "id": "94c7d077-868f-41e8-a221-a792305076d4",
   "metadata": {},
   "outputs": [],
   "source": [
    "s1.remove(20)"
   ]
  },
  {
   "cell_type": "code",
   "execution_count": 47,
   "id": "697efabb-4b42-4302-8e5a-9ca0561f622a",
   "metadata": {},
   "outputs": [
    {
     "data": {
      "text/plain": [
       "{1, 2, 3, 4, 10, 30}"
      ]
     },
     "execution_count": 47,
     "metadata": {},
     "output_type": "execute_result"
    }
   ],
   "source": [
    "s1"
   ]
  },
  {
   "cell_type": "code",
   "execution_count": null,
   "id": "94603d9c-a9a4-4634-b1f1-2295b0a9197c",
   "metadata": {},
   "outputs": [],
   "source": []
  }
 ],
 "metadata": {
  "kernelspec": {
   "display_name": "Python 3 (ipykernel)",
   "language": "python",
   "name": "python3"
  },
  "language_info": {
   "codemirror_mode": {
    "name": "ipython",
    "version": 3
   },
   "file_extension": ".py",
   "mimetype": "text/x-python",
   "name": "python",
   "nbconvert_exporter": "python",
   "pygments_lexer": "ipython3",
   "version": "3.11.4"
  }
 },
 "nbformat": 4,
 "nbformat_minor": 5
}
