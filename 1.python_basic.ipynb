{
 "cells": [
  {
   "cell_type": "markdown",
   "id": "02d07b35-e377-45a1-a549-1a41e9a06fbc",
   "metadata": {},
   "source": [
    "# Python Basic"
   ]
  },
  {
   "cell_type": "code",
   "execution_count": 5,
   "id": "3b49afa4-a478-4c08-bb8b-e347bb542206",
   "metadata": {},
   "outputs": [
    {
     "name": "stdout",
     "output_type": "stream",
     "text": [
      "Shrinivas\n"
     ]
    }
   ],
   "source": [
    "print(\"Shrinivas\")"
   ]
  },
  {
   "cell_type": "code",
   "execution_count": 6,
   "id": "12bed218-93e7-418b-a102-6b90a69b7d02",
   "metadata": {},
   "outputs": [
    {
     "name": "stdout",
     "output_type": "stream",
     "text": [
      "hello world\n"
     ]
    }
   ],
   "source": [
    "print('hello world')"
   ]
  },
  {
   "cell_type": "markdown",
   "id": "7c789bf2-c2b9-4577-b801-5cda4547d4ea",
   "metadata": {},
   "source": [
    "# Version control"
   ]
  },
  {
   "cell_type": "code",
   "execution_count": 7,
   "id": "0128b19f-5103-4582-8a0d-3b52a9b85e47",
   "metadata": {},
   "outputs": [],
   "source": [
    "import sys"
   ]
  },
  {
   "cell_type": "code",
   "execution_count": 8,
   "id": "80f92abb-5b19-4508-ac8f-ae56f3c0be19",
   "metadata": {},
   "outputs": [
    {
     "name": "stdout",
     "output_type": "stream",
     "text": [
      "3.11.4 (tags/v3.11.4:d2340ef, Jun  7 2023, 05:45:37) [MSC v.1934 64 bit (AMD64)]\n"
     ]
    }
   ],
   "source": [
    "print(sys.version)"
   ]
  },
  {
   "cell_type": "code",
   "execution_count": 9,
   "id": "221213f7-8cc4-4048-accc-940b6a72b7ec",
   "metadata": {},
   "outputs": [
    {
     "name": "stdout",
     "output_type": "stream",
     "text": [
      "Hello world\n",
      "xyz\n",
      "Ram\n",
      "shyam\n"
     ]
    }
   ],
   "source": [
    "print(\"Hello world\")\n",
    "print(\"xyz\")\n",
    "print('Ram')\n",
    "print('shyam')"
   ]
  },
  {
   "cell_type": "code",
   "execution_count": 11,
   "id": "8103263d-bcc1-492b-a8a5-2986f9d76959",
   "metadata": {},
   "outputs": [
    {
     "name": "stdout",
     "output_type": "stream",
     "text": [
      "Hello world\n",
      "xyz\n",
      "Ram\n",
      "shyam\n"
     ]
    }
   ],
   "source": [
    "print(\"Hello world\")\n",
    "print(\"xyz\")\n",
    "print('Ram')\n",
    "print('shyam')"
   ]
  },
  {
   "cell_type": "markdown",
   "id": "8a670a8a-d4a6-48a2-bd28-bf16183912b0",
   "metadata": {},
   "source": [
    "# Basic Data types in python"
   ]
  },
  {
   "cell_type": "code",
   "execution_count": 53,
   "id": "a61108bb-dae0-4a3d-9e2c-50956ffc0afa",
   "metadata": {},
   "outputs": [
    {
     "name": "stdout",
     "output_type": "stream",
     "text": [
      "Hello world\n",
      "Shrinivas\n",
      "Hello world\n",
      "123\n",
      "12345\n",
      "100\n",
      "100.23\n",
      "100.0\n",
      "True\n",
      "False\n"
     ]
    }
   ],
   "source": [
    "# Squence # list, tuple,string, set, dictionary  #<-------------- Comment line\n",
    "\n",
    "#1. String\n",
    "\n",
    "print(\"Hello world\")\n",
    "print(\"Shrinivas\")\n",
    "print('Hello world')\n",
    "print('123')\n",
    "\n",
    "\n",
    "# Number # integer\n",
    "print(12345)\n",
    "print(100)\n",
    "#float\n",
    "\n",
    "print(100.23)\n",
    "print(100.00)\n",
    "\n",
    "\n",
    "# Boolean\n",
    "print(True)\n",
    "print(False)"
   ]
  },
  {
   "cell_type": "code",
   "execution_count": 15,
   "id": "41442586-130d-4eee-835c-f54e596fba74",
   "metadata": {},
   "outputs": [
    {
     "name": "stdout",
     "output_type": "stream",
     "text": [
      "@#\n"
     ]
    }
   ],
   "source": [
    "print('@#')"
   ]
  },
  {
   "cell_type": "code",
   "execution_count": 16,
   "id": "802940c3-3792-4bcf-8c0b-e20f9b7a5aa6",
   "metadata": {},
   "outputs": [
    {
     "data": {
      "text/plain": [
       "128"
      ]
     },
     "execution_count": 16,
     "metadata": {},
     "output_type": "execute_result"
    }
   ],
   "source": [
    "123+5"
   ]
  },
  {
   "cell_type": "code",
   "execution_count": 17,
   "id": "6aeb9f16-2f0d-47f3-9aa4-1eb1e5df1356",
   "metadata": {},
   "outputs": [
    {
     "data": {
      "text/plain": [
       "'123+8'"
      ]
     },
     "execution_count": 17,
     "metadata": {},
     "output_type": "execute_result"
    }
   ],
   "source": [
    "'123+8'"
   ]
  },
  {
   "cell_type": "code",
   "execution_count": 21,
   "id": "2354522d-60e7-4009-83fb-e5889f583c31",
   "metadata": {},
   "outputs": [
    {
     "name": "stdout",
     "output_type": "stream",
     "text": [
      "hello python\n"
     ]
    }
   ],
   "source": [
    "print('hello python')"
   ]
  },
  {
   "cell_type": "code",
   "execution_count": 20,
   "id": "9e91c72b-f8cb-41d9-93cf-1c3e8fd4efa9",
   "metadata": {},
   "outputs": [
    {
     "data": {
      "text/plain": [
       "123"
      ]
     },
     "execution_count": 20,
     "metadata": {},
     "output_type": "execute_result"
    }
   ],
   "source": [
    "123"
   ]
  },
  {
   "cell_type": "code",
   "execution_count": 23,
   "id": "782fe51a-845e-42b0-a17a-bf1931a2b774",
   "metadata": {},
   "outputs": [
    {
     "name": "stdout",
     "output_type": "stream",
     "text": [
      "Hello world\n",
      "welcome\n"
     ]
    }
   ],
   "source": [
    "print('Hello world')\n",
    "print('welcome')"
   ]
  },
  {
   "cell_type": "code",
   "execution_count": 24,
   "id": "6eb675b5-1b9a-4962-a6d7-1b2d8c42606e",
   "metadata": {},
   "outputs": [
    {
     "data": {
      "text/plain": [
       "'welcome'"
      ]
     },
     "execution_count": 24,
     "metadata": {},
     "output_type": "execute_result"
    }
   ],
   "source": [
    "'Hello world'\n",
    "'welcome'"
   ]
  },
  {
   "cell_type": "code",
   "execution_count": 27,
   "id": "ca2cde49-ad99-4429-a183-a33ffcff6806",
   "metadata": {},
   "outputs": [
    {
     "data": {
      "text/plain": [
       "'a'"
      ]
     },
     "execution_count": 27,
     "metadata": {},
     "output_type": "execute_result"
    }
   ],
   "source": [
    "'a'"
   ]
  },
  {
   "cell_type": "code",
   "execution_count": 28,
   "id": "54967083-4787-4e4a-b4b2-086cac2dd440",
   "metadata": {},
   "outputs": [
    {
     "data": {
      "text/plain": [
       "1232"
      ]
     },
     "execution_count": 28,
     "metadata": {},
     "output_type": "execute_result"
    }
   ],
   "source": [
    "1232"
   ]
  },
  {
   "cell_type": "code",
   "execution_count": 29,
   "id": "59e7567f-7488-4ae0-8d3a-3cc3951306ee",
   "metadata": {},
   "outputs": [
    {
     "data": {
      "text/plain": [
       "'123'"
      ]
     },
     "execution_count": 29,
     "metadata": {},
     "output_type": "execute_result"
    }
   ],
   "source": [
    "'123'"
   ]
  },
  {
   "cell_type": "code",
   "execution_count": 31,
   "id": "ad2eb347-b586-4ba9-a948-0654a32675c5",
   "metadata": {},
   "outputs": [
    {
     "data": {
      "text/plain": [
       "'cat'"
      ]
     },
     "execution_count": 31,
     "metadata": {},
     "output_type": "execute_result"
    }
   ],
   "source": [
    "'cat'"
   ]
  },
  {
   "cell_type": "code",
   "execution_count": 33,
   "id": "fc7fd964-94ec-49eb-bd86-94ada7d5a9df",
   "metadata": {},
   "outputs": [
    {
     "data": {
      "text/plain": [
       "'dog'"
      ]
     },
     "execution_count": 33,
     "metadata": {},
     "output_type": "execute_result"
    }
   ],
   "source": [
    "\"dog\""
   ]
  },
  {
   "cell_type": "code",
   "execution_count": 35,
   "id": "fe74ce02-e62f-491a-be61-1c286f9d3c68",
   "metadata": {},
   "outputs": [
    {
     "data": {
      "text/plain": [
       "'1234+5'"
      ]
     },
     "execution_count": 35,
     "metadata": {},
     "output_type": "execute_result"
    }
   ],
   "source": [
    "'1234+5'"
   ]
  },
  {
   "cell_type": "code",
   "execution_count": 36,
   "id": "97ddea6a-e8f1-46fd-a157-0924ae32f104",
   "metadata": {},
   "outputs": [
    {
     "data": {
      "text/plain": [
       "1245"
      ]
     },
     "execution_count": 36,
     "metadata": {},
     "output_type": "execute_result"
    }
   ],
   "source": [
    "1235+10"
   ]
  },
  {
   "cell_type": "code",
   "execution_count": 42,
   "id": "8afa3c17-593d-4704-82cf-bfadd1a986ad",
   "metadata": {},
   "outputs": [
    {
     "data": {
      "text/plain": [
       "'hello world'"
      ]
     },
     "execution_count": 42,
     "metadata": {},
     "output_type": "execute_result"
    }
   ],
   "source": [
    "'hello world'"
   ]
  },
  {
   "cell_type": "code",
   "execution_count": 44,
   "id": "a003530e-dc19-4440-84c7-68db962bd8dd",
   "metadata": {},
   "outputs": [
    {
     "data": {
      "text/plain": [
       "'hello python'"
      ]
     },
     "execution_count": 44,
     "metadata": {},
     "output_type": "execute_result"
    }
   ],
   "source": [
    "'hello python'"
   ]
  },
  {
   "cell_type": "code",
   "execution_count": 46,
   "id": "b4d18dd7-8d24-4b78-9b01-e883333da611",
   "metadata": {},
   "outputs": [
    {
     "data": {
      "text/plain": [
       "'True'"
      ]
     },
     "execution_count": 46,
     "metadata": {},
     "output_type": "execute_result"
    }
   ],
   "source": [
    "\"True\""
   ]
  },
  {
   "cell_type": "code",
   "execution_count": 47,
   "id": "3039e519-c870-4388-b440-557b7ea56ba7",
   "metadata": {},
   "outputs": [
    {
     "data": {
      "text/plain": [
       "True"
      ]
     },
     "execution_count": 47,
     "metadata": {},
     "output_type": "execute_result"
    }
   ],
   "source": [
    "True"
   ]
  },
  {
   "cell_type": "code",
   "execution_count": 51,
   "id": "0198b7f0-4d6f-40e5-a0a9-20a3285d6cad",
   "metadata": {},
   "outputs": [
    {
     "name": "stdout",
     "output_type": "stream",
     "text": [
      "True\n",
      "False\n"
     ]
    }
   ],
   "source": [
    "print(True)   #1\n",
    "print(False) #0"
   ]
  },
  {
   "cell_type": "code",
   "execution_count": 50,
   "id": "c9b52337-92f8-4baf-82df-eb3bba73b24d",
   "metadata": {},
   "outputs": [
    {
     "ename": "NameError",
     "evalue": "name 'true' is not defined",
     "output_type": "error",
     "traceback": [
      "\u001b[1;31m---------------------------------------------------------------------------\u001b[0m",
      "\u001b[1;31mNameError\u001b[0m                                 Traceback (most recent call last)",
      "Cell \u001b[1;32mIn[50], line 1\u001b[0m\n\u001b[1;32m----> 1\u001b[0m \u001b[43mtrue\u001b[49m\n",
      "\u001b[1;31mNameError\u001b[0m: name 'true' is not defined"
     ]
    }
   ],
   "source": [
    "true"
   ]
  },
  {
   "cell_type": "code",
   "execution_count": 52,
   "id": "5647e147-82bb-43d5-9b20-f36d8856116d",
   "metadata": {},
   "outputs": [
    {
     "ename": "NameError",
     "evalue": "name 'false' is not defined",
     "output_type": "error",
     "traceback": [
      "\u001b[1;31m---------------------------------------------------------------------------\u001b[0m",
      "\u001b[1;31mNameError\u001b[0m                                 Traceback (most recent call last)",
      "Cell \u001b[1;32mIn[52], line 1\u001b[0m\n\u001b[1;32m----> 1\u001b[0m \u001b[43mfalse\u001b[49m\n",
      "\u001b[1;31mNameError\u001b[0m: name 'false' is not defined"
     ]
    }
   ],
   "source": [
    "false"
   ]
  },
  {
   "cell_type": "code",
   "execution_count": 54,
   "id": "9be1e623-ff8a-47c9-84f1-66925c823fab",
   "metadata": {},
   "outputs": [
    {
     "name": "stdout",
     "output_type": "stream",
     "text": [
      "Hello world\n",
      "Shrinivas\n",
      "Hello world\n",
      "123\n",
      "12345\n",
      "100\n",
      "100.23\n",
      "100.0\n",
      "True\n",
      "False\n"
     ]
    }
   ],
   "source": [
    "\n",
    "#1. String\n",
    "\n",
    "print(\"Hello world\")\n",
    "print(\"Shrinivas\")\n",
    "print('Hello world')\n",
    "print('123')\n",
    "\n",
    "\n",
    "# Number # integer\n",
    "print(12345)\n",
    "print(100)\n",
    "#float\n",
    "\n",
    "print(100.23)\n",
    "print(100.00)\n",
    "\n",
    "\n",
    "# Boolean\n",
    "print(True)\n",
    "print(False)"
   ]
  },
  {
   "cell_type": "code",
   "execution_count": 66,
   "id": "59cb2517-31ef-4db0-bbd9-68e93bbe051e",
   "metadata": {},
   "outputs": [
    {
     "name": "stdout",
     "output_type": "stream",
     "text": [
      "Hello world\n",
      "140\n",
      "True\n",
      "140\n",
      "140.23\n"
     ]
    }
   ],
   "source": [
    "# String\n",
    "print(\"Hello world\")\n",
    "print(\"140\")\n",
    "print(\"True\")\n",
    "#Number integer\n",
    "\n",
    "print(140)\n",
    "# float\n",
    "print(140.23)\n",
    "# boolean"
   ]
  },
  {
   "cell_type": "code",
   "execution_count": 71,
   "id": "693b890a-26bf-4ff7-9ecd-683a880e06b2",
   "metadata": {},
   "outputs": [
    {
     "name": "stdout",
     "output_type": "stream",
     "text": [
      "<class 'str'>\n",
      "<class 'str'>\n",
      "<class 'str'>\n",
      "<class 'int'>\n",
      "<class 'int'>\n",
      "<class 'float'>\n",
      "<class 'float'>\n",
      "<class 'bool'>\n",
      "<class 'bool'>\n"
     ]
    }
   ],
   "source": [
    "#type()\n",
    "\n",
    "print(type('Hello world'))\n",
    "print(type(\"140\"))\n",
    "print(type(\"True\"))\n",
    "\n",
    "\n",
    "# integer\n",
    "\n",
    "print(type(140))\n",
    "print(type(100))\n",
    "\n",
    "\n",
    "# float\n",
    "\n",
    "print(type(140.23))\n",
    "print(type(456.52))\n",
    "\n",
    "\n",
    "# Boolean\n",
    "print(type(True))\n",
    "print(type(False))"
   ]
  },
  {
   "cell_type": "code",
   "execution_count": 57,
   "id": "b95cebaa-8909-4d21-9382-1a51d3ec6deb",
   "metadata": {},
   "outputs": [
    {
     "name": "stdout",
     "output_type": "stream",
     "text": [
      "<class 'str'>\n"
     ]
    }
   ],
   "source": [
    "print(type(\"Hello Python\"))"
   ]
  },
  {
   "cell_type": "code",
   "execution_count": 1,
   "id": "72b36325-07cd-495b-acfe-01abeb5290dd",
   "metadata": {},
   "outputs": [
    {
     "name": "stdout",
     "output_type": "stream",
     "text": [
      "True\n",
      "78\n",
      "78\n",
      "@#!\n",
      "-89.23\n",
      "89.23\n"
     ]
    }
   ],
   "source": [
    "print(True)\n",
    "print(78)\n",
    "print('78')\n",
    "print(\"@#!\")\n",
    "print(-89.23)\n",
    "print(89.23)"
   ]
  },
  {
   "cell_type": "markdown",
   "id": "0bd0f6a7-7cfd-4975-b8e5-95f98d9c44de",
   "metadata": {},
   "source": [
    "# Converting an object type to another data type(Data typecasting)"
   ]
  },
  {
   "cell_type": "code",
   "execution_count": 16,
   "id": "3f6690b0-95b5-4c95-9181-7539b54c095f",
   "metadata": {},
   "outputs": [],
   "source": [
    "number1=\"Hello world\"\n",
    "number2=10"
   ]
  },
  {
   "cell_type": "code",
   "execution_count": 15,
   "id": "4294d4c6-b852-424b-a26a-af49086beef3",
   "metadata": {},
   "outputs": [
    {
     "data": {
      "text/plain": [
       "'Hello world'"
      ]
     },
     "execution_count": 15,
     "metadata": {},
     "output_type": "execute_result"
    }
   ],
   "source": [
    "number1"
   ]
  },
  {
   "cell_type": "code",
   "execution_count": 17,
   "id": "f8bd6d3c-1f6e-4835-a095-1bfd24b8aa85",
   "metadata": {},
   "outputs": [
    {
     "data": {
      "text/plain": [
       "10"
      ]
     },
     "execution_count": 17,
     "metadata": {},
     "output_type": "execute_result"
    }
   ],
   "source": [
    "number2"
   ]
  },
  {
   "cell_type": "code",
   "execution_count": 18,
   "id": "3560d94a-91d6-48ee-8e61-85ad841a045c",
   "metadata": {},
   "outputs": [],
   "source": [
    "x=45.23"
   ]
  },
  {
   "cell_type": "code",
   "execution_count": 19,
   "id": "bf4b6f71-528b-4d25-b0ee-66c595228980",
   "metadata": {},
   "outputs": [
    {
     "data": {
      "text/plain": [
       "45.23"
      ]
     },
     "execution_count": 19,
     "metadata": {},
     "output_type": "execute_result"
    }
   ],
   "source": [
    "x"
   ]
  },
  {
   "cell_type": "code",
   "execution_count": 20,
   "id": "be9a9167-e369-4eb2-b3ab-5eeaaf3c8c6d",
   "metadata": {},
   "outputs": [],
   "source": [
    "xyz=20"
   ]
  },
  {
   "cell_type": "code",
   "execution_count": 21,
   "id": "cd39ba7c-2967-4965-999a-8eab88c8d990",
   "metadata": {},
   "outputs": [
    {
     "data": {
      "text/plain": [
       "20"
      ]
     },
     "execution_count": 21,
     "metadata": {},
     "output_type": "execute_result"
    }
   ],
   "source": [
    "xyz"
   ]
  },
  {
   "cell_type": "code",
   "execution_count": 30,
   "id": "96551231-7c80-4319-b01e-85c44f47ba69",
   "metadata": {},
   "outputs": [
    {
     "name": "stdout",
     "output_type": "stream",
     "text": [
      "6\n",
      "<class 'int'>\n",
      "6.0\n",
      "<class 'float'>\n"
     ]
    }
   ],
   "source": [
    "number=6\n",
    "print(number)\n",
    "print(type(number))\n",
    "\n",
    "# Data typecasting\n",
    "\n",
    "print(float(number))\n",
    "print(type(float(number)))"
   ]
  },
  {
   "cell_type": "code",
   "execution_count": 29,
   "id": "f1bef2ca-016c-47a2-a9ef-bf6c6ad44bde",
   "metadata": {},
   "outputs": [
    {
     "name": "stdout",
     "output_type": "stream",
     "text": [
      "6\n",
      "<class 'str'>\n"
     ]
    }
   ],
   "source": [
    "# convert into string\n",
    "\n",
    "print(str(number))\n",
    "print(type(str(number)))"
   ]
  },
  {
   "cell_type": "code",
   "execution_count": 40,
   "id": "36fac82f-35e9-4cab-9af7-eaa13bfb47b7",
   "metadata": {},
   "outputs": [
    {
     "name": "stdout",
     "output_type": "stream",
     "text": [
      "3.14\n",
      "<class 'float'>\n",
      "3\n",
      "<class 'int'>\n",
      "3.14\n",
      "<class 'str'>\n"
     ]
    }
   ],
   "source": [
    "# integer \n",
    "lalit=3.14\n",
    "print(lalit)\n",
    "print(type(lalit))\n",
    "\n",
    "# convert into integer\n",
    "print(int(lalit))\n",
    "print(type(int(lalit)))\n",
    "\n",
    "# convert into string\n",
    "print(str(lalit))\n",
    "print(type(str(lalit)))"
   ]
  },
  {
   "cell_type": "code",
   "execution_count": 47,
   "id": "e4a34a06-fefe-48cb-bb01-47225be69a45",
   "metadata": {},
   "outputs": [
    {
     "name": "stdout",
     "output_type": "stream",
     "text": [
      "1\n",
      "0\n",
      "1.0\n",
      "<class 'float'>\n"
     ]
    }
   ],
   "source": [
    "bool_1=True   # True=1\n",
    "bool_2=False   # False=0\n",
    "\n",
    "print(int(bool_1))\n",
    "print(int(bool_2))\n",
    "\n",
    "\n",
    "# convert data into float\n",
    "\n",
    "print(float(bool_1))\n",
    "print(type(float(bool_1)))"
   ]
  },
  {
   "cell_type": "code",
   "execution_count": 50,
   "id": "a3a7fcef-0dc6-418b-b9be-4e871759b9b0",
   "metadata": {},
   "outputs": [],
   "source": [
    "bool_1=True   # True=1\n",
    "bool_2=False   # False=0\n",
    "\n",
    "\n",
    "# str,int,float"
   ]
  },
  {
   "cell_type": "code",
   "execution_count": 52,
   "id": "d786d867-71d4-4cc7-9aa0-cce3d7246c60",
   "metadata": {},
   "outputs": [
    {
     "name": "stdout",
     "output_type": "stream",
     "text": [
      "1\n",
      "<class 'int'>\n",
      "0\n",
      "<class 'int'>\n",
      "1.0\n",
      "<class 'float'>\n",
      "1.0\n",
      "<class 'float'>\n",
      "0.0\n",
      "<class 'float'>\n",
      "True\n",
      "<class 'str'>\n",
      "False\n",
      "<class 'str'>\n"
     ]
    }
   ],
   "source": [
    "bool_1=True\n",
    "bool_2=False\n",
    "\n",
    "\n",
    "#int\n",
    "\n",
    "print(int(bool_1))\n",
    "print(type(int(bool_1)))\n",
    "\n",
    "print(int(bool_2))\n",
    "print(type(int(bool_2)))\n",
    "\n",
    "\n",
    "#cov into int to float\n",
    "\n",
    "print(float(bool_1))\n",
    "print(type(float(bool_1)))\n",
    "\n",
    "\n",
    "#float\n",
    "\n",
    "print(float(bool_1))\n",
    "print(type(float(bool_1)))\n",
    "\n",
    "print(float(bool_2))\n",
    "print(type(float(bool_2)))\n",
    "\n",
    "#str\n",
    "\n",
    "\n",
    "print(str(bool_1))\n",
    "print(type(str(bool_1)))\n",
    "\n",
    "\n",
    "print(str(bool_2))\n",
    "print(type(str(bool_2)))"
   ]
  },
  {
   "cell_type": "markdown",
   "id": "c1e5a8f0-32ea-4eea-8881-866b9b549dae",
   "metadata": {},
   "source": [
    "# Variabel and Expression\n"
   ]
  },
  {
   "cell_type": "code",
   "execution_count": 53,
   "id": "bf86ca4a-c5e6-4b54-a29f-723d69a12c6e",
   "metadata": {},
   "outputs": [
    {
     "data": {
      "text/plain": [
       "388"
      ]
     },
     "execution_count": 53,
     "metadata": {},
     "output_type": "execute_result"
    }
   ],
   "source": [
    "# Addition\n",
    "#l.h.s=r.h.s\n",
    "x=56+89+78+65-78+89*2   #variable is x \n",
    "x"
   ]
  },
  {
   "cell_type": "code",
   "execution_count": 57,
   "id": "55e43fc2-fc9f-414c-858c-9bff81983c09",
   "metadata": {},
   "outputs": [
    {
     "name": "stdout",
     "output_type": "stream",
     "text": [
      "<class 'int'>\n"
     ]
    }
   ],
   "source": [
    "print(type(x))"
   ]
  },
  {
   "cell_type": "code",
   "execution_count": 58,
   "id": "8a3f5a96-efe4-4292-935c-fefed964041d",
   "metadata": {},
   "outputs": [
    {
     "data": {
      "text/plain": [
       "-196"
      ]
     },
     "execution_count": 58,
     "metadata": {},
     "output_type": "execute_result"
    }
   ],
   "source": [
    "# subtract\n",
    "\n",
    "x1=85-78-98-105\n",
    "x1"
   ]
  },
  {
   "cell_type": "code",
   "execution_count": 59,
   "id": "fe94b720-653a-486f-9aa8-884e4e4f9ae6",
   "metadata": {},
   "outputs": [
    {
     "data": {
      "text/plain": [
       "156"
      ]
     },
     "execution_count": 59,
     "metadata": {},
     "output_type": "execute_result"
    }
   ],
   "source": [
    "# multiply\n",
    "\n",
    "x2=78*2\n",
    "x2"
   ]
  },
  {
   "cell_type": "code",
   "execution_count": 60,
   "id": "aeb1a171-3fba-4ecc-8407-e4ee4142da24",
   "metadata": {},
   "outputs": [
    {
     "data": {
      "text/plain": [
       "1.5"
      ]
     },
     "execution_count": 60,
     "metadata": {},
     "output_type": "execute_result"
    }
   ],
   "source": [
    "# Divison\n",
    "\n",
    "# float divion  # floor \n",
    "x3=3/2   # division sign= /\n",
    "x3"
   ]
  },
  {
   "cell_type": "code",
   "execution_count": 61,
   "id": "71c56de0-f9cb-46fa-9481-81e959f5d51a",
   "metadata": {},
   "outputs": [
    {
     "data": {
      "text/plain": [
       "1"
      ]
     },
     "execution_count": 61,
     "metadata": {},
     "output_type": "execute_result"
    }
   ],
   "source": [
    "# floor division\n",
    "\n",
    "x4=3//2\n",
    "x4"
   ]
  },
  {
   "cell_type": "code",
   "execution_count": 62,
   "id": "5756d0f0-3faf-4849-9233-ac2b3bb26332",
   "metadata": {},
   "outputs": [
    {
     "data": {
      "text/plain": [
       "5.208333333333333"
      ]
     },
     "execution_count": 62,
     "metadata": {},
     "output_type": "execute_result"
    }
   ],
   "source": [
    "x5=125/24\n",
    "x5"
   ]
  },
  {
   "cell_type": "code",
   "execution_count": 63,
   "id": "ac98c4b8-87b7-4e55-9185-c6bb1792bcbb",
   "metadata": {},
   "outputs": [
    {
     "data": {
      "text/plain": [
       "5"
      ]
     },
     "execution_count": 63,
     "metadata": {},
     "output_type": "execute_result"
    }
   ],
   "source": [
    "x6=125//24\n",
    "x6"
   ]
  },
  {
   "cell_type": "code",
   "execution_count": 64,
   "id": "3cb85435-ed3c-425a-aab1-525e74cecc7f",
   "metadata": {},
   "outputs": [
    {
     "data": {
      "text/plain": [
       "1"
      ]
     },
     "execution_count": 64,
     "metadata": {},
     "output_type": "execute_result"
    }
   ],
   "source": [
    "# Moduls\n",
    "\n",
    "x7=3%2\n",
    "x7"
   ]
  },
  {
   "cell_type": "code",
   "execution_count": 65,
   "id": "5751b110-0378-4e57-b4df-cc10dfc93705",
   "metadata": {},
   "outputs": [
    {
     "data": {
      "text/plain": [
       "5"
      ]
     },
     "execution_count": 65,
     "metadata": {},
     "output_type": "execute_result"
    }
   ],
   "source": [
    "x5=125%24\n",
    "x5"
   ]
  },
  {
   "cell_type": "code",
   "execution_count": 66,
   "id": "1832ef16-b9bf-4d2e-9e2c-59783795e5d9",
   "metadata": {},
   "outputs": [
    {
     "data": {
      "text/plain": [
       "0"
      ]
     },
     "execution_count": 66,
     "metadata": {},
     "output_type": "execute_result"
    }
   ],
   "source": [
    "x8=4%2\n",
    "x8"
   ]
  },
  {
   "cell_type": "code",
   "execution_count": 67,
   "id": "36842917-849e-4839-9417-a72230735d09",
   "metadata": {},
   "outputs": [
    {
     "data": {
      "text/plain": [
       "0"
      ]
     },
     "execution_count": 67,
     "metadata": {},
     "output_type": "execute_result"
    }
   ],
   "source": [
    "x9=10%2\n",
    "x9"
   ]
  },
  {
   "cell_type": "code",
   "execution_count": 68,
   "id": "65bf7f50-c6ca-4019-a55a-d6cd3e84a2b8",
   "metadata": {},
   "outputs": [
    {
     "data": {
      "text/plain": [
       "1"
      ]
     },
     "execution_count": 68,
     "metadata": {},
     "output_type": "execute_result"
    }
   ],
   "source": [
    "x10=25%3\n",
    "x10"
   ]
  },
  {
   "cell_type": "code",
   "execution_count": 70,
   "id": "535362b9-b227-49dc-8f2a-dcc7302b95be",
   "metadata": {},
   "outputs": [
    {
     "data": {
      "text/plain": [
       "1000"
      ]
     },
     "execution_count": 70,
     "metadata": {},
     "output_type": "execute_result"
    }
   ],
   "source": [
    "# Exponent\n",
    "\n",
    "x11=10**3\n",
    "x11"
   ]
  },
  {
   "cell_type": "code",
   "execution_count": 71,
   "id": "ae8a929c-8075-4ad2-a0cf-5e46a3371d8c",
   "metadata": {},
   "outputs": [
    {
     "data": {
      "text/plain": [
       "8"
      ]
     },
     "execution_count": 71,
     "metadata": {},
     "output_type": "execute_result"
    }
   ],
   "source": [
    "x=2**3\n",
    "x"
   ]
  },
  {
   "cell_type": "code",
   "execution_count": 73,
   "id": "86442521-af55-44df-b034-e0be63a981f7",
   "metadata": {},
   "outputs": [
    {
     "data": {
      "text/plain": [
       "10000000000"
      ]
     },
     "execution_count": 73,
     "metadata": {},
     "output_type": "execute_result"
    }
   ],
   "source": [
    "x=10**10\n",
    "x"
   ]
  },
  {
   "cell_type": "code",
   "execution_count": 74,
   "id": "f2451362-d54b-4716-a457-d2ee42d440ef",
   "metadata": {},
   "outputs": [
    {
     "data": {
      "text/plain": [
       "144"
      ]
     },
     "execution_count": 74,
     "metadata": {},
     "output_type": "execute_result"
    }
   ],
   "source": [
    "x=12**2\n",
    "x"
   ]
  },
  {
   "cell_type": "code",
   "execution_count": null,
   "id": "5e6e9ef5-8c6e-4fc6-aee4-91d03cd5c494",
   "metadata": {},
   "outputs": [],
   "source": []
  }
 ],
 "metadata": {
  "kernelspec": {
   "display_name": "Python 3 (ipykernel)",
   "language": "python",
   "name": "python3"
  },
  "language_info": {
   "codemirror_mode": {
    "name": "ipython",
    "version": 3
   },
   "file_extension": ".py",
   "mimetype": "text/x-python",
   "name": "python",
   "nbconvert_exporter": "python",
   "pygments_lexer": "ipython3",
   "version": "3.11.4"
  }
 },
 "nbformat": 4,
 "nbformat_minor": 5
}
