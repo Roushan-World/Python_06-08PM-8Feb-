{
 "cells": [
  {
   "cell_type": "markdown",
   "id": "16271936-1572-46f3-b0d3-b94d06dc1459",
   "metadata": {},
   "source": [
    "# 11. Classes and Objects in python\n",
    "\n",
    " * __Python is an object-oriented programming language.__\n",
    " * __Unlike procedure-oriented programming, where the main emphasis is on functions, object-oriented programming,stresses on objects.__\n",
    " * __An object is simply a collections of data (variable) and methods (functions) that act on those data.__\n",
    " * __Similarly, a class is a blueprint for that object.__\n",
    " * __Like functions definitions begin with the def keyword in python, class definitions begin with a class keyword.__\n",
    " * __The first string inside the class is called docstring and has a brief description of the class.__\n",
    " * __Althogh not mandatry, this is highly recommended.__"
   ]
  },
  {
   "cell_type": "code",
   "execution_count": 25,
   "id": "8c00303b-923a-4f61-8265-9324a81e4925",
   "metadata": {},
   "outputs": [
    {
     "name": "stdout",
     "output_type": "stream",
     "text": [
      "Babli\n",
      "40\n",
      "100\n",
      "420\n",
      "Yarwada Mental Hospital\n"
     ]
    }
   ],
   "source": [
    "class Student:\n",
    "    def __init__(self,name,age,roll,mobileno,address):\n",
    "        self.name=name\n",
    "        self.age=age\n",
    "        self.roll=roll\n",
    "        self.mobileno=mobileno\n",
    "        self.address=address\n",
    "\n",
    "x=Student('Babli',40,'420',100,'Yarwada Mental Hospital')\n",
    "print(x.name)\n",
    "print(x.age)\n",
    "print(x.mobileno)\n",
    "print(x.roll)\n",
    "print(x.address)"
   ]
  },
  {
   "cell_type": "code",
   "execution_count": 18,
   "id": "86614e83-6092-42dd-a1b5-58ebf6ff0e4c",
   "metadata": {},
   "outputs": [
    {
     "name": "stdout",
     "output_type": "stream",
     "text": [
      "Ajinkya\n",
      "45\n",
      "45\n",
      "200\n",
      "Pune\n"
     ]
    }
   ],
   "source": [
    "y=Student('Ajinkya',45,\"45\",200,\"Pune\")\n",
    "print(y.name)\n",
    "print(y.age)\n",
    "print(y.roll)\n",
    "print(y.mobileno)\n",
    "print(y.address)"
   ]
  },
  {
   "cell_type": "code",
   "execution_count": 19,
   "id": "8ac83df7-faa7-4c9d-b562-6bdfbfbe82a8",
   "metadata": {},
   "outputs": [
    {
     "data": {
      "text/plain": [
       "'Babli'"
      ]
     },
     "execution_count": 19,
     "metadata": {},
     "output_type": "execute_result"
    }
   ],
   "source": [
    "x.name"
   ]
  },
  {
   "cell_type": "code",
   "execution_count": 20,
   "id": "a65ab1a9-f2ef-406d-883d-254a65823070",
   "metadata": {},
   "outputs": [
    {
     "data": {
      "text/plain": [
       "'Ajinkya'"
      ]
     },
     "execution_count": 20,
     "metadata": {},
     "output_type": "execute_result"
    }
   ],
   "source": [
    "y.name"
   ]
  },
  {
   "cell_type": "code",
   "execution_count": 21,
   "id": "ecb85dae-9da3-4cc3-a42e-3f0b7812b4a2",
   "metadata": {},
   "outputs": [
    {
     "data": {
      "text/plain": [
       "'Babli'"
      ]
     },
     "execution_count": 21,
     "metadata": {},
     "output_type": "execute_result"
    }
   ],
   "source": [
    "x.name"
   ]
  },
  {
   "cell_type": "code",
   "execution_count": 22,
   "id": "89be73b7-98b0-44fd-aff1-37bcfa513fe0",
   "metadata": {},
   "outputs": [],
   "source": [
    "x=Student('Babli Vimal',40,'420',100,'Yarwada Mental Hospital')"
   ]
  },
  {
   "cell_type": "code",
   "execution_count": 23,
   "id": "058e8180-9ea2-4040-9354-7c51ab1a08c4",
   "metadata": {},
   "outputs": [
    {
     "data": {
      "text/plain": [
       "'Babli Vimal'"
      ]
     },
     "execution_count": 23,
     "metadata": {},
     "output_type": "execute_result"
    }
   ],
   "source": [
    "x.name"
   ]
  },
  {
   "cell_type": "code",
   "execution_count": 26,
   "id": "aa66071f-990d-40c4-8362-fd9796e94cd4",
   "metadata": {},
   "outputs": [
    {
     "name": "stdout",
     "output_type": "stream",
     "text": [
      "My name is Babli\n",
      "I am 40 years old.\n",
      "My roll no. is 420.\n",
      "Call me on 100\n",
      "You can contace me at Yarwada Mental Hospital\n"
     ]
    }
   ],
   "source": [
    "class Student:\n",
    "    def __init__(self,name,age,roll,mobileno,address):\n",
    "        self.name=name\n",
    "        self.age=age\n",
    "        self.roll=roll\n",
    "        self.mobileno=mobileno\n",
    "        self.address=address\n",
    "\n",
    "    def details(self):\n",
    "        print(f'My name is {self.name}')\n",
    "        print(f'I am {self.age} years old.')\n",
    "        print(f'My roll no. is {self.roll}.')\n",
    "        print(f'Call me on {self.mobileno}')\n",
    "        print(f'You can contace me at {self.address}')\n",
    "\n",
    "x=Student('Babli',40,'420',100,'Yarwada Mental Hospital')\n",
    "x.details()"
   ]
  },
  {
   "cell_type": "code",
   "execution_count": 27,
   "id": "e4d07230-a32b-4e0c-a61f-311fe39ea135",
   "metadata": {},
   "outputs": [
    {
     "name": "stdout",
     "output_type": "stream",
     "text": [
      "My name is Ajinkya\n",
      "I am 45 years old.\n",
      "My roll no. is 45.\n",
      "Call me on 200\n",
      "You can contace me at Pune\n"
     ]
    }
   ],
   "source": [
    "y=Student('Ajinkya',45,\"45\",200,\"Pune\")\n",
    "y.details()"
   ]
  },
  {
   "cell_type": "code",
   "execution_count": 2,
   "id": "34b117a3-1b49-4dd0-823a-6c1e8e44508a",
   "metadata": {},
   "outputs": [
    {
     "name": "stdout",
     "output_type": "stream",
     "text": [
      "<class '__main__.Data'>\n"
     ]
    },
    {
     "data": {
      "text/plain": [
       "10"
      ]
     },
     "execution_count": 2,
     "metadata": {},
     "output_type": "execute_result"
    }
   ],
   "source": [
    "class Data:\n",
    "    num=10\n",
    "\n",
    "\n",
    "print(Data)\n",
    "Data.num"
   ]
  },
  {
   "cell_type": "code",
   "execution_count": 5,
   "id": "63c3ea16-08e2-4cfb-8ac1-7ef1218101e3",
   "metadata": {},
   "outputs": [
    {
     "name": "stdout",
     "output_type": "stream",
     "text": [
      "Uday\n",
      "python\n",
      "14\n"
     ]
    }
   ],
   "source": [
    "# Calss with it's function\n",
    "\n",
    "class Data:\n",
    "    def __init__(x,name,language,roll_num):\n",
    "        x.name=name\n",
    "        x.language=language\n",
    "        x.roll_num=roll_num\n",
    "\n",
    "\n",
    "uday=Data('Uday',\"python\",14)\n",
    "print(uday.name)\n",
    "print(uday.language)\n",
    "print(uday.roll_num)"
   ]
  },
  {
   "cell_type": "code",
   "execution_count": 10,
   "id": "c69e3de1-eee2-49c5-9bb5-423944b356e4",
   "metadata": {},
   "outputs": [
    {
     "name": "stdout",
     "output_type": "stream",
     "text": [
      "Babli\n",
      "C++\n",
      "420\n"
     ]
    }
   ],
   "source": [
    "babli=Data('Babli','C++',420)\n",
    "print(babli.name)\n",
    "print(babli.language)\n",
    "print(babli.roll_num)"
   ]
  },
  {
   "cell_type": "code",
   "execution_count": 11,
   "id": "6fb07a23-999b-40f6-9acd-7046cedff89a",
   "metadata": {},
   "outputs": [
    {
     "name": "stdout",
     "output_type": "stream",
     "text": [
      "My name is Uday.\n",
      "My language is python\n",
      "My roll number is 14\n"
     ]
    }
   ],
   "source": [
    "# Calss with it's function\n",
    "\n",
    "class Data:\n",
    "    def __init__(x,name,language,roll_num):\n",
    "        x.name=name\n",
    "        x.language=language\n",
    "        x.roll_num=roll_num\n",
    "\n",
    "    def details(x):\n",
    "        print(f'My name is {x.name}.')\n",
    "        print(f'My language is {x.language}')\n",
    "        print(f'My roll number is {x.roll_num}')\n",
    "\n",
    "\n",
    "uday=Data('Uday',\"python\",14)\n",
    "uday.details()"
   ]
  },
  {
   "cell_type": "code",
   "execution_count": 12,
   "id": "a55b7e2a-c7f4-4581-8d24-4af47d42db0e",
   "metadata": {},
   "outputs": [
    {
     "name": "stdout",
     "output_type": "stream",
     "text": [
      "My name is Babli.\n",
      "My language is C++\n",
      "My roll number is 420\n"
     ]
    }
   ],
   "source": [
    "babli=Data('Babli','C++',420)\n",
    "babli.details()"
   ]
  },
  {
   "cell_type": "markdown",
   "id": "1c4b2d91-fc7e-4601-9783-1d56773b8606",
   "metadata": {},
   "source": [
    "# self parameter\n",
    "\n",
    " * __The self parameter is a reference dto the current instance of the class, and is used to access variabels that belongs to the class.__\n",
    " * __It does not have to be named self, you can call it whatever you like, but it has to be the first parameter of any function in the class.__"
   ]
  },
  {
   "cell_type": "code",
   "execution_count": 16,
   "id": "b9a8d084-f0c3-4224-963a-2ee9d50457e5",
   "metadata": {},
   "outputs": [
    {
     "name": "stdin",
     "output_type": "stream",
     "text": [
      "Enter length of the Rectangle: 20\n",
      "Enter width of the Rectangle: 21\n"
     ]
    },
    {
     "name": "stdout",
     "output_type": "stream",
     "text": [
      "The Rectangle is: 420 Cm²\n"
     ]
    }
   ],
   "source": [
    "# Wap to find the area of rectangle using class and object.\n",
    "\n",
    "class Rectangle:\n",
    "    def __init__(self,length,width):\n",
    "        self.length=length\n",
    "        self.width=width\n",
    "\n",
    "    def area_rect(self):\n",
    "        area= self.length*self.width\n",
    "        print(f'The Rectangle is: {area} Cm²')\n",
    "\n",
    "x=int(input('Enter length of the Rectangle:'))\n",
    "y=int(input('Enter width of the Rectangle:'))\n",
    "obj=Rectangle(x,y)\n",
    "obj.area_rect() "
   ]
  },
  {
   "cell_type": "code",
   "execution_count": 17,
   "id": "55c1ac30-8ccf-4386-8163-db1dea946819",
   "metadata": {},
   "outputs": [
    {
     "name": "stdin",
     "output_type": "stream",
     "text": [
      "Enter Radius 10\n"
     ]
    },
    {
     "name": "stdout",
     "output_type": "stream",
     "text": [
      "Area of circle is:314.1592653589793 cm²\n",
      "Circumference of circle is: 62.83185307179586 cm\n"
     ]
    }
   ],
   "source": [
    "# Wap to find the area of circle and circumference of circle:\n",
    "import math\n",
    "class circle:\n",
    "    def __init__(self,radius):\n",
    "        self.radius=radius\n",
    "\n",
    "    def area_circle(self):\n",
    "        area=math.pi*self.radius*self.radius\n",
    "        print(f'Area of circle is:{area} cm²')\n",
    "\n",
    "    def circumference(self):\n",
    "        circumference=2*math.pi*self.radius\n",
    "        print(f'Circumference of circle is: {circumference} cm')\n",
    "x=int(input('Enter Radius'))\n",
    "obj=circle(x)\n",
    "\n",
    "obj.area_circle()\n",
    "obj.circumference()"
   ]
  },
  {
   "cell_type": "code",
   "execution_count": null,
   "id": "47b37c75-7086-4a8c-911f-890eeafefdee",
   "metadata": {},
   "outputs": [],
   "source": []
  }
 ],
 "metadata": {
  "kernelspec": {
   "display_name": "Python 3 (ipykernel)",
   "language": "python",
   "name": "python3"
  },
  "language_info": {
   "codemirror_mode": {
    "name": "ipython",
    "version": 3
   },
   "file_extension": ".py",
   "mimetype": "text/x-python",
   "name": "python",
   "nbconvert_exporter": "python",
   "pygments_lexer": "ipython3",
   "version": "3.12.2"
  }
 },
 "nbformat": 4,
 "nbformat_minor": 5
}
