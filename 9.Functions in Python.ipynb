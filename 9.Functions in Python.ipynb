{
 "cells": [
  {
   "cell_type": "markdown",
   "id": "4187b2d4-2868-4824-a0b5-5c142cbcdc7c",
   "metadata": {},
   "source": [
    "# 9. Functions in Python\n",
    "* _________________________________________________________________________________________\n",
    " * __In Python, a function is a group of related statements that performs a specific task.__\n",
    " * __Functions help break our program into smaller and modular chunks. *As our program grows larger and larger, functions make it more organized and manageable.__\n",
    " * __Furthermore, it avoids repetition and make the code reusable.__\n",
    " * __There are two types of functions:__\n",
    " * __Pre-defined functions.__\n",
    " * __User-defined functions.__\n",
    " * __In Python a function is defined using the def keyword followed by the function name and parentheses ().__\n",
    " * __Keyword def that marks the start of the function header.__\n",
    " * __A function name to uniquely identify the function.__\n",
    " * __Function naming follows the same rules of writing identifiers in Python.__\n",
    " * __Parameters (arguments) through which we pass values to a function. They are optional.__\n",
    " * __A colon(:) to mark the end of the funciton header.__\n",
    " * __Optional documentation string (docstring) to describe what the function does.__\n",
    " * __One or more valid python statements that make up the function body.__\n",
    " * __Statements must have the same indentation level(usually 4 spaces).__\n",
    " * __An optional return statemnet return a value from the function.__"
   ]
  },
  {
   "cell_type": "code",
   "execution_count": 10,
   "id": "10e02536-cee7-4131-9489-47e5c4b1a01d",
   "metadata": {},
   "outputs": [
    {
     "name": "stdout",
     "output_type": "stream",
     "text": [
      "Function working Successfully!\n"
     ]
    },
    {
     "data": {
      "text/plain": [
       "'Congratulation! Ajinkya'"
      ]
     },
     "execution_count": 10,
     "metadata": {},
     "output_type": "execute_result"
    }
   ],
   "source": [
    "def greet(y):\n",
    "    x='Congratulation! '+y\n",
    "    print('Function working Successfully!')\n",
    "    return x\n",
    "    \n",
    "    \n",
    "\n",
    "greet('Ajinkya')"
   ]
  },
  {
   "cell_type": "code",
   "execution_count": 11,
   "id": "607837c7-4da7-4295-8f70-6fe988f235b7",
   "metadata": {},
   "outputs": [
    {
     "name": "stdout",
     "output_type": "stream",
     "text": [
      "Function working Successfully!\n"
     ]
    },
    {
     "data": {
      "text/plain": [
       "'Congratulation! Uday'"
      ]
     },
     "execution_count": 11,
     "metadata": {},
     "output_type": "execute_result"
    }
   ],
   "source": [
    "greet('Uday')"
   ]
  },
  {
   "cell_type": "code",
   "execution_count": 12,
   "id": "dd5539c2-b9ef-4825-a4c3-ff225633e8ab",
   "metadata": {},
   "outputs": [
    {
     "name": "stdout",
     "output_type": "stream",
     "text": [
      "Function working Successfully!\n"
     ]
    },
    {
     "data": {
      "text/plain": [
       "'Congratulation! Babli'"
      ]
     },
     "execution_count": 12,
     "metadata": {},
     "output_type": "execute_result"
    }
   ],
   "source": [
    "greet('Babli')"
   ]
  },
  {
   "cell_type": "code",
   "execution_count": 13,
   "id": "dd2652c4-7e4d-446a-95f6-1859eec1fe30",
   "metadata": {},
   "outputs": [
    {
     "name": "stdout",
     "output_type": "stream",
     "text": [
      "Function working Successfully!\n"
     ]
    },
    {
     "data": {
      "text/plain": [
       "'Congratulation! Srinivash'"
      ]
     },
     "execution_count": 13,
     "metadata": {},
     "output_type": "execute_result"
    }
   ],
   "source": [
    "greet('Srinivash')"
   ]
  },
  {
   "cell_type": "code",
   "execution_count": 14,
   "id": "6b6bd325-e473-4ece-a361-f8d5f6cd0737",
   "metadata": {},
   "outputs": [
    {
     "name": "stdout",
     "output_type": "stream",
     "text": [
      "Hello world\n"
     ]
    },
    {
     "ename": "SyntaxError",
     "evalue": "'return' outside function (427105306.py, line 3)",
     "output_type": "error",
     "traceback": [
      "\u001b[1;36m  Cell \u001b[1;32mIn[14], line 3\u001b[1;36m\u001b[0m\n\u001b[1;33m    return \"Hello world\"\u001b[0m\n\u001b[1;37m    ^\u001b[0m\n\u001b[1;31mSyntaxError\u001b[0m\u001b[1;31m:\u001b[0m 'return' outside function\n"
     ]
    }
   ],
   "source": [
    "print('Hello world')\n",
    "\n",
    "return \"Hello world\""
   ]
  },
  {
   "cell_type": "code",
   "execution_count": 22,
   "id": "b53a669b-2aa8-42b9-9cc8-974bb5db7b57",
   "metadata": {},
   "outputs": [
    {
     "name": "stdout",
     "output_type": "stream",
     "text": [
      "The sum of two numbers is: 300\n"
     ]
    }
   ],
   "source": [
    "# Waf to sum of two number:\n",
    "\n",
    "def sum(a,b):\n",
    "    z=a+b\n",
    "    print('The sum of two numbers is:',z)\n",
    "    #return z\n",
    "\n",
    "\n",
    "sum(100,200)"
   ]
  },
  {
   "cell_type": "code",
   "execution_count": 23,
   "id": "4978e64c-5d38-4bce-8e63-e087eb1ca612",
   "metadata": {},
   "outputs": [
    {
     "name": "stdout",
     "output_type": "stream",
     "text": [
      "Function working Successfully!\n"
     ]
    },
    {
     "data": {
      "text/plain": [
       "'Congratulation! Pratigya'"
      ]
     },
     "execution_count": 23,
     "metadata": {},
     "output_type": "execute_result"
    }
   ],
   "source": [
    "greet('Pratigya')"
   ]
  },
  {
   "cell_type": "code",
   "execution_count": 24,
   "id": "a1ba01ef-9525-4fcd-a72e-0dcc0c328be0",
   "metadata": {},
   "outputs": [
    {
     "name": "stdout",
     "output_type": "stream",
     "text": [
      "The sum of two numbers is: 30\n"
     ]
    }
   ],
   "source": [
    "sum(10,20)"
   ]
  },
  {
   "cell_type": "code",
   "execution_count": 25,
   "id": "75f125fb-5f3e-4f52-825f-0c821d7539f1",
   "metadata": {},
   "outputs": [
    {
     "name": "stdout",
     "output_type": "stream",
     "text": [
      "The sum of two numbers is: 114.21\n"
     ]
    }
   ],
   "source": [
    "sum(35.25,78.96)"
   ]
  },
  {
   "cell_type": "code",
   "execution_count": 26,
   "id": "62a8b2c1-c9de-4cbf-95a2-9118846f5291",
   "metadata": {},
   "outputs": [
    {
     "name": "stdout",
     "output_type": "stream",
     "text": [
      "Function working Successfully!\n"
     ]
    },
    {
     "data": {
      "text/plain": [
       "'Congratulation! Hello'"
      ]
     },
     "execution_count": 26,
     "metadata": {},
     "output_type": "execute_result"
    }
   ],
   "source": [
    "greet('Hello')"
   ]
  },
  {
   "cell_type": "code",
   "execution_count": 27,
   "id": "7aeafbbd-be36-4f12-a8e1-61c56a2c75ef",
   "metadata": {},
   "outputs": [
    {
     "name": "stdout",
     "output_type": "stream",
     "text": [
      "The sum of two numbers is: 174\n"
     ]
    }
   ],
   "source": [
    "sum(78,96)"
   ]
  },
  {
   "cell_type": "code",
   "execution_count": 31,
   "id": "7f1d7538-c91d-4af2-811d-3ddc1c61d7be",
   "metadata": {},
   "outputs": [],
   "source": [
    "def msg1():\n",
    "    print('Hello World')\n",
    "\n",
    "def msg2():\n",
    "    print('Good Morning!')\n",
    "    return None"
   ]
  },
  {
   "cell_type": "code",
   "execution_count": 32,
   "id": "4f2eb466-04b5-4fa1-b70e-66c148fdfcf9",
   "metadata": {},
   "outputs": [
    {
     "name": "stdout",
     "output_type": "stream",
     "text": [
      "Hello World\n",
      "Good Morning!\n"
     ]
    }
   ],
   "source": [
    "msg1()\n",
    "msg2()"
   ]
  },
  {
   "cell_type": "code",
   "execution_count": 33,
   "id": "750d7a62-fd28-4c3b-a661-0139f15e1d70",
   "metadata": {},
   "outputs": [
    {
     "name": "stdout",
     "output_type": "stream",
     "text": [
      "Hello World\n",
      "None\n"
     ]
    }
   ],
   "source": [
    "print(msg1())"
   ]
  },
  {
   "cell_type": "code",
   "execution_count": 41,
   "id": "a7e64d46-c60b-4339-a3d1-c760b16a8eb2",
   "metadata": {},
   "outputs": [],
   "source": [
    "def ajinky():\n",
    "    print('Ajinkya yeha dekho')"
   ]
  },
  {
   "cell_type": "code",
   "execution_count": 42,
   "id": "53952b46-2fab-4bdf-990f-a24a67a04db7",
   "metadata": {},
   "outputs": [
    {
     "name": "stdout",
     "output_type": "stream",
     "text": [
      "Ajinkya yeha dekho\n"
     ]
    }
   ],
   "source": [
    "ajinky()"
   ]
  },
  {
   "cell_type": "code",
   "execution_count": 43,
   "id": "8b8530c9-ae8a-4807-8837-5f80977ecfdf",
   "metadata": {},
   "outputs": [
    {
     "name": "stdout",
     "output_type": "stream",
     "text": [
      "Ajinkya yeha dekho\n",
      "None\n"
     ]
    }
   ],
   "source": [
    "print(ajinky())"
   ]
  },
  {
   "cell_type": "code",
   "execution_count": 51,
   "id": "8ab012b3-52b0-4e9d-a9df-edac9db88286",
   "metadata": {},
   "outputs": [
    {
     "name": "stdin",
     "output_type": "stream",
     "text": [
      "Enter first number:  500\n",
      "Enter first number:  700\n"
     ]
    },
    {
     "name": "stdout",
     "output_type": "stream",
     "text": [
      "The sum of two numbers is 500 and 700 is:1200\n"
     ]
    }
   ],
   "source": [
    "# waf with user input that take two value form user.\n",
    "\n",
    "def user1(x,y):\n",
    "    sum1=x+y\n",
    "    print(f'The sum of two numbers is {x} and {y} is:{sum1}')\n",
    "\n",
    "\n",
    "u1=int(input('Enter first number: '))\n",
    "u2=int(input('Enter first number: '))\n",
    "\n",
    "user1(u1,u2)"
   ]
  },
  {
   "cell_type": "markdown",
   "id": "884f0d02-fbd1-4053-b60f-e571dcc06fa3",
   "metadata": {},
   "source": [
    "# Variables\n",
    "\n",
    " * __The input to a funciton is called formal parameter.__\n",
    " * __A variable that is declared inside a function is called a local vairable.__\n",
    " * __The parameter only exists within the function(i.e. the point where the function starts and stops).__\n",
    " * __A variable that is declared outside a funciton definition is called global variable and its value is accessibel modifiable thoughout the program.__"
   ]
  },
  {
   "cell_type": "code",
   "execution_count": 53,
   "id": "eafd2a17-9053-468e-bbae-4209cf517192",
   "metadata": {},
   "outputs": [
    {
     "name": "stdout",
     "output_type": "stream",
     "text": [
      "The sum of two numbers is 200 and 400 is:600\n"
     ]
    }
   ],
   "source": [
    "def user1(x,y):\n",
    "    sum1=x+y\n",
    "    print(f'The sum of two numbers is {x} and {y} is:{sum1}')\n",
    "\n",
    "\n",
    "# u1=int(input('Enter first number: '))\n",
    "# u2=int(input('Enter first number: '))\n",
    "\n",
    "user1(200,400)    # formal parameter"
   ]
  },
  {
   "cell_type": "code",
   "execution_count": 57,
   "id": "9e12eea1-01ac-42f0-a84b-65342569101e",
   "metadata": {},
   "outputs": [
    {
     "name": "stdout",
     "output_type": "stream",
     "text": [
      "The sum of two numbers is 200 and 230 is:430\n"
     ]
    }
   ],
   "source": [
    "def user1(x):\n",
    "    second_val=230   # y is a local variable\n",
    "    sum1=x+second_val\n",
    "    print(f'The sum of two numbers is {x} and {second_val} is:{sum1}')\n",
    "\n",
    "\n",
    "# u1=int(input('Enter first number: '))\n",
    "# u2=int(input('Enter first number: '))\n",
    "\n",
    "user1(200)"
   ]
  },
  {
   "cell_type": "code",
   "execution_count": 58,
   "id": "a6cdb9fc-e556-4715-a9c4-0d06d85926c6",
   "metadata": {},
   "outputs": [
    {
     "ename": "NameError",
     "evalue": "name 'second_val' is not defined",
     "output_type": "error",
     "traceback": [
      "\u001b[1;31m---------------------------------------------------------------------------\u001b[0m",
      "\u001b[1;31mNameError\u001b[0m                                 Traceback (most recent call last)",
      "Cell \u001b[1;32mIn[58], line 1\u001b[0m\n\u001b[1;32m----> 1\u001b[0m \u001b[43msecond_val\u001b[49m\n",
      "\u001b[1;31mNameError\u001b[0m: name 'second_val' is not defined"
     ]
    }
   ],
   "source": [
    "second_val"
   ]
  },
  {
   "cell_type": "code",
   "execution_count": 59,
   "id": "8bbb3f6b-b751-4701-a5ce-e95345d18e58",
   "metadata": {},
   "outputs": [
    {
     "name": "stdout",
     "output_type": "stream",
     "text": [
      "The sum of two numbers is 500 and 230 is:730\n"
     ]
    }
   ],
   "source": [
    "x=500   # x is a global variable\n",
    "def user1():\n",
    "    second_val=230   # y is a local variable\n",
    "    sum1=x+second_val\n",
    "    print(f'The sum of two numbers is {x} and {second_val} is:{sum1}')\n",
    "\n",
    "\n",
    "# u1=int(input('Enter first number: '))\n",
    "# u2=int(input('Enter first number: '))\n",
    "\n",
    "user1()"
   ]
  },
  {
   "cell_type": "code",
   "execution_count": 60,
   "id": "7e9c6dc6-961c-4a80-83f5-495f3b24c433",
   "metadata": {},
   "outputs": [
    {
     "data": {
      "text/plain": [
       "500"
      ]
     },
     "execution_count": 60,
     "metadata": {},
     "output_type": "execute_result"
    }
   ],
   "source": [
    "x"
   ]
  },
  {
   "cell_type": "code",
   "execution_count": 61,
   "id": "49dbb113-03f9-4e63-85a2-c01337a283b3",
   "metadata": {},
   "outputs": [
    {
     "ename": "NameError",
     "evalue": "name 'second_val' is not defined",
     "output_type": "error",
     "traceback": [
      "\u001b[1;31m---------------------------------------------------------------------------\u001b[0m",
      "\u001b[1;31mNameError\u001b[0m                                 Traceback (most recent call last)",
      "Cell \u001b[1;32mIn[61], line 1\u001b[0m\n\u001b[1;32m----> 1\u001b[0m \u001b[43msecond_val\u001b[49m\n",
      "\u001b[1;31mNameError\u001b[0m: name 'second_val' is not defined"
     ]
    }
   ],
   "source": [
    "second_val"
   ]
  },
  {
   "cell_type": "code",
   "execution_count": 7,
   "id": "85e282a0-d378-46ce-83a0-ac200353258f",
   "metadata": {},
   "outputs": [
    {
     "data": {
      "text/plain": [
       "1660"
      ]
     },
     "execution_count": 7,
     "metadata": {},
     "output_type": "execute_result"
    }
   ],
   "source": [
    "def function1(x):\n",
    "    y=78*x+100\n",
    "    #print(y)\n",
    "    return y\n",
    "\n",
    "function1(20)"
   ]
  },
  {
   "cell_type": "code",
   "execution_count": 10,
   "id": "3990a626-84fd-42d4-999d-c9ce50676a4c",
   "metadata": {},
   "outputs": [
    {
     "name": "stdout",
     "output_type": "stream",
     "text": [
      "1270\n"
     ]
    }
   ],
   "source": [
    "# Global variable\n",
    "\n",
    "a=15\n",
    "\n",
    "y=function1(a)\n",
    "print(y)"
   ]
  },
  {
   "cell_type": "code",
   "execution_count": 20,
   "id": "4a0ae658-7c1d-43cd-b941-9c36b4a1b414",
   "metadata": {},
   "outputs": [
    {
     "data": {
      "text/plain": [
       "'Congratulation! Uday Rasal'"
      ]
     },
     "execution_count": 20,
     "metadata": {},
     "output_type": "execute_result"
    }
   ],
   "source": [
    "# formal parameter:\n",
    "\n",
    "def name(first_name='Uday',last_name=' Rasal'):   # x='Hello' default value  # formal parameter.\n",
    "    y='Congratulation! '+first_name+last_name\n",
    "    return y\n",
    "\n",
    "name()"
   ]
  },
  {
   "cell_type": "code",
   "execution_count": 21,
   "id": "383fa70c-6ca6-4993-8226-41798c7be371",
   "metadata": {},
   "outputs": [
    {
     "data": {
      "text/plain": [
       "6"
      ]
     },
     "execution_count": 21,
     "metadata": {},
     "output_type": "execute_result"
    }
   ],
   "source": [
    "x=78\n",
    "y=100\n",
    "\n",
    "equation=x*y+x+y-37   # 78*100+78+100-37 = 7941\n",
    "\n",
    "if equation>0:\n",
    "    equation=6\n",
    "\n",
    "else: equation=37\n",
    "\n",
    "equation"
   ]
  },
  {
   "cell_type": "code",
   "execution_count": 22,
   "id": "f393e312-62ba-42e8-9ac4-beeaa125e411",
   "metadata": {},
   "outputs": [
    {
     "data": {
      "text/plain": [
       "'ajinkya'"
      ]
     },
     "execution_count": 22,
     "metadata": {},
     "output_type": "execute_result"
    }
   ],
   "source": [
    "x=78\n",
    "y=100\n",
    "\n",
    "equation=x*y+x+y-37   # 78*100+78+100-37 = 7941\n",
    "\n",
    "if equation>0:\n",
    "    equation='ajinkya'\n",
    "\n",
    "else: equation=37\n",
    "\n",
    "equation"
   ]
  },
  {
   "cell_type": "code",
   "execution_count": 23,
   "id": "a7332ddc-d235-4f0e-938b-e811a6d03b88",
   "metadata": {},
   "outputs": [
    {
     "data": {
      "text/plain": [
       "'Rupali'"
      ]
     },
     "execution_count": 23,
     "metadata": {},
     "output_type": "execute_result"
    }
   ],
   "source": [
    "x=78\n",
    "y=100\n",
    "\n",
    "equation=x*y+x+y-37   # 78*100+78+100-37 = 7941\n",
    "\n",
    "if equation<0:\n",
    "    equation=6\n",
    "\n",
    "else: equation='Rupali'\n",
    "\n",
    "equation"
   ]
  },
  {
   "cell_type": "code",
   "execution_count": 26,
   "id": "6eae9e8b-1ecb-4488-a785-035002558387",
   "metadata": {},
   "outputs": [
    {
     "data": {
      "text/plain": [
       "10"
      ]
     },
     "execution_count": 26,
     "metadata": {},
     "output_type": "execute_result"
    }
   ],
   "source": [
    "def function(x,y):\n",
    "    equation = x*y+x+y-37  # \n",
    "    if equation<0:\n",
    "        equation=10\n",
    "\n",
    "    else: equation=100\n",
    "    return equation\n",
    "\n",
    "x=0\n",
    "y=20\n",
    "function(x,y)"
   ]
  },
  {
   "cell_type": "code",
   "execution_count": 35,
   "id": "5a216926-15d0-4358-9049-a3a41a3f2a42",
   "metadata": {},
   "outputs": [
    {
     "name": "stdout",
     "output_type": "stream",
     "text": [
      "You should not watch this movie with the rating value of 6.0\n",
      "You should watch this movie with the rating value of 10.0\n",
      "your rating should be in under 10 value and not in negative value.\n"
     ]
    }
   ],
   "source": [
    "def rating_value(rating=6.0):\n",
    "    if rating<=10 and rating>0:\n",
    "        if rating<8:\n",
    "            return f'You should not watch this movie with the rating value of {rating}'\n",
    "        else: return f'You should watch this movie with the rating value of {rating}'\n",
    "    else: return f'your rating should be in under 10 value and not in negative value.'\n",
    "\n",
    "\n",
    "print(rating_value())\n",
    "print(rating_value(10.0))\n",
    "print(rating_value(-5))"
   ]
  },
  {
   "cell_type": "code",
   "execution_count": 45,
   "id": "8d32690b-ff51-4b35-a630-abf7c16f09df",
   "metadata": {},
   "outputs": [
    {
     "name": "stdout",
     "output_type": "stream",
     "text": [
      "Number of elements is: 10\n",
      "Rupali\n",
      "Rasal\n",
      "Ajinkya\n",
      "Welcome\n",
      "Number\n",
      "Gurav\n",
      "Akash\n",
      "10\n",
      "45.23\n",
      "[10, 20, 30]\n",
      "\n"
     ]
    }
   ],
   "source": [
    "# args and kwargs.\n",
    "\n",
    "def function(*args):\n",
    "    print('Number of elements is:',len(args))\n",
    "    for i in args:\n",
    "        print(i)\n",
    "\n",
    "\n",
    "function('Rupali','Rasal','Ajinkya','Welcome','Number','Gurav','Akash',10,45.23,[10,20,30])\n",
    "print()"
   ]
  },
  {
   "cell_type": "code",
   "execution_count": 61,
   "id": "3cdb7d74-d389-4342-98d2-bdee51d23451",
   "metadata": {},
   "outputs": [
    {
     "name": "stdout",
     "output_type": "stream",
     "text": [
      "Total of the numbers is: 360\n"
     ]
    }
   ],
   "source": [
    "def total(*args):\n",
    "    total=0 # total variable= local\n",
    "    ajinkya=0\n",
    "    rupali1=100\n",
    "    for i in args:\n",
    "        total+=i\n",
    "    return total\n",
    "\n",
    "sum=0\n",
    "\n",
    "print('Total of the numbers is:',total(10,20,30,40,50,60,70,80))"
   ]
  },
  {
   "cell_type": "code",
   "execution_count": 62,
   "id": "d2f50ff6-1f7e-4deb-b4e0-59db13768b34",
   "metadata": {},
   "outputs": [
    {
     "ename": "NameError",
     "evalue": "name 'ajinkya' is not defined",
     "output_type": "error",
     "traceback": [
      "\u001b[1;31m---------------------------------------------------------------------------\u001b[0m",
      "\u001b[1;31mNameError\u001b[0m                                 Traceback (most recent call last)",
      "Cell \u001b[1;32mIn[62], line 1\u001b[0m\n\u001b[1;32m----> 1\u001b[0m \u001b[43majinkya\u001b[49m\n",
      "\u001b[1;31mNameError\u001b[0m: name 'ajinkya' is not defined"
     ]
    }
   ],
   "source": [
    "ajinkya"
   ]
  },
  {
   "cell_type": "code",
   "execution_count": null,
   "id": "7c950c64-adbf-4599-8911-a27c2b78fd36",
   "metadata": {},
   "outputs": [],
   "source": [
    "sum"
   ]
  },
  {
   "cell_type": "code",
   "execution_count": 63,
   "id": "95f765df-2a62-4872-95ec-7c6a43d4138f",
   "metadata": {},
   "outputs": [
    {
     "data": {
      "text/plain": [
       "100"
      ]
     },
     "execution_count": 63,
     "metadata": {},
     "output_type": "execute_result"
    }
   ],
   "source": [
    "rupali"
   ]
  },
  {
   "cell_type": "code",
   "execution_count": 64,
   "id": "f0082dd9-cd8f-4a90-98a2-feb07e3ec952",
   "metadata": {},
   "outputs": [
    {
     "ename": "NameError",
     "evalue": "name 'rupali1' is not defined",
     "output_type": "error",
     "traceback": [
      "\u001b[1;31m---------------------------------------------------------------------------\u001b[0m",
      "\u001b[1;31mNameError\u001b[0m                                 Traceback (most recent call last)",
      "Cell \u001b[1;32mIn[64], line 1\u001b[0m\n\u001b[1;32m----> 1\u001b[0m \u001b[43mrupali1\u001b[49m\n",
      "\u001b[1;31mNameError\u001b[0m: name 'rupali1' is not defined"
     ]
    }
   ],
   "source": [
    "rupali1"
   ]
  },
  {
   "cell_type": "code",
   "execution_count": 77,
   "id": "82739c73-caf4-4ab4-b994-f37b25d39e22",
   "metadata": {},
   "outputs": [
    {
     "name": "stdout",
     "output_type": "stream",
     "text": [
      "Name : Ajinkya\n",
      "age : 20\n",
      "Name1 : Rupali\n",
      "age1 : 15\n"
     ]
    }
   ],
   "source": [
    "# Define a funciton regarding a dictionary function\n",
    "\n",
    "def function2(**args):\n",
    "    for key in args:\n",
    "        print(key,':',args[key])\n",
    "\n",
    "function2(Name='Ajinkya',age=20,Name1='Rupali',age1=15)"
   ]
  },
  {
   "cell_type": "code",
   "execution_count": 94,
   "id": "fc1e8fc8-bf07-4c80-a5c2-717fe28497c0",
   "metadata": {},
   "outputs": [
    {
     "data": {
      "text/plain": [
       "{3.14, 10, 20}"
      ]
     },
     "execution_count": 94,
     "metadata": {},
     "output_type": "execute_result"
    }
   ],
   "source": [
    "def addition(nlis):\n",
    "    nlis.add(3.14)\n",
    "    nlis.add(10)\n",
    "    nlis.add(20)\n",
    "    nlis.add(20)\n",
    "    nlis.add(20)\n",
    "    nlis.add(20)\n",
    "    nlis.add(20)\n",
    "\n",
    "x=set()\n",
    "addition(x)\n",
    "x"
   ]
  },
  {
   "cell_type": "code",
   "execution_count": 96,
   "id": "f528f3fa-b147-4c3e-980f-89996ab9201b",
   "metadata": {},
   "outputs": [
    {
     "data": {
      "text/plain": [
       "[3.14, 10, 20, 20, 20, 20, 20]"
      ]
     },
     "execution_count": 96,
     "metadata": {},
     "output_type": "execute_result"
    }
   ],
   "source": [
    "def addition(nlis):\n",
    "    nlis.append(3.14)\n",
    "    nlis.append(10)\n",
    "    nlis.append(20)\n",
    "    nlis.append(20)\n",
    "    nlis.append(20)\n",
    "    nlis.append(20)\n",
    "    nlis.append(20)\n",
    "\n",
    "x=[]\n",
    "addition(x)\n",
    "x"
   ]
  },
  {
   "cell_type": "code",
   "execution_count": null,
   "id": "7a8bcc68-e8ba-4160-8bfd-e4820dccc067",
   "metadata": {},
   "outputs": [],
   "source": []
  },
  {
   "cell_type": "code",
   "execution_count": null,
   "id": "2f1eb8a5-3bd8-4d17-a5f7-5317e14c8b96",
   "metadata": {},
   "outputs": [],
   "source": []
  }
 ],
 "metadata": {
  "kernelspec": {
   "display_name": "Python 3 (ipykernel)",
   "language": "python",
   "name": "python3"
  },
  "language_info": {
   "codemirror_mode": {
    "name": "ipython",
    "version": 3
   },
   "file_extension": ".py",
   "mimetype": "text/x-python",
   "name": "python",
   "nbconvert_exporter": "python",
   "pygments_lexer": "ipython3",
   "version": "3.11.4"
  }
 },
 "nbformat": 4,
 "nbformat_minor": 5
}
