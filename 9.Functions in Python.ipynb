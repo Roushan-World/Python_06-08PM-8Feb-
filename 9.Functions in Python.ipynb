{
 "cells": [
  {
   "cell_type": "markdown",
   "id": "4187b2d4-2868-4824-a0b5-5c142cbcdc7c",
   "metadata": {},
   "source": [
    "# 9. Functions in Python\n",
    "* _________________________________________________________________________________________\n",
    " * __In Python, a function is a group of related statements that performs a specific task.__\n",
    " * __Functions help break our program into smaller and modular chunks. *As our program grows larger and larger, functions make it more organized and manageable.__\n",
    " * __Furthermore, it avoids repetition and make the code reusable.__\n",
    " * __There are two types of functions:__\n",
    " * __Pre-defined functions.__\n",
    " * __User-defined functions.__\n",
    " * __In Python a function is defined using the def keyword followed by the function name and parentheses ().__\n",
    " * __Keyword def that marks the start of the function header.__\n",
    " * __A function name to uniquely identify the function.__\n",
    " * __Function naming follows the same rules of writing identifiers in Python.__\n",
    " * __Parameters (arguments) through which we pass values to a function. They are optional.__\n",
    " * __A colon(:) to mark the end of the funciton header.__\n",
    " * __Optional documentation string (docstring) to describe what the function does.__\n",
    " * __One or more valid python statements that make up the function body.__\n",
    " * __Statements must have the same indentation level(usually 4 spaces).__\n",
    " * __An optional return statemnet return a value from the function.__"
   ]
  },
  {
   "cell_type": "code",
   "execution_count": 10,
   "id": "10e02536-cee7-4131-9489-47e5c4b1a01d",
   "metadata": {},
   "outputs": [
    {
     "name": "stdout",
     "output_type": "stream",
     "text": [
      "Function working Successfully!\n"
     ]
    },
    {
     "data": {
      "text/plain": [
       "'Congratulation! Ajinkya'"
      ]
     },
     "execution_count": 10,
     "metadata": {},
     "output_type": "execute_result"
    }
   ],
   "source": [
    "def greet(y):\n",
    "    x='Congratulation! '+y\n",
    "    print('Function working Successfully!')\n",
    "    return x\n",
    "    \n",
    "    \n",
    "\n",
    "greet('Ajinkya')"
   ]
  },
  {
   "cell_type": "code",
   "execution_count": 11,
   "id": "607837c7-4da7-4295-8f70-6fe988f235b7",
   "metadata": {},
   "outputs": [
    {
     "name": "stdout",
     "output_type": "stream",
     "text": [
      "Function working Successfully!\n"
     ]
    },
    {
     "data": {
      "text/plain": [
       "'Congratulation! Uday'"
      ]
     },
     "execution_count": 11,
     "metadata": {},
     "output_type": "execute_result"
    }
   ],
   "source": [
    "greet('Uday')"
   ]
  },
  {
   "cell_type": "code",
   "execution_count": 12,
   "id": "dd5539c2-b9ef-4825-a4c3-ff225633e8ab",
   "metadata": {},
   "outputs": [
    {
     "name": "stdout",
     "output_type": "stream",
     "text": [
      "Function working Successfully!\n"
     ]
    },
    {
     "data": {
      "text/plain": [
       "'Congratulation! Babli'"
      ]
     },
     "execution_count": 12,
     "metadata": {},
     "output_type": "execute_result"
    }
   ],
   "source": [
    "greet('Babli')"
   ]
  },
  {
   "cell_type": "code",
   "execution_count": 13,
   "id": "dd2652c4-7e4d-446a-95f6-1859eec1fe30",
   "metadata": {},
   "outputs": [
    {
     "name": "stdout",
     "output_type": "stream",
     "text": [
      "Function working Successfully!\n"
     ]
    },
    {
     "data": {
      "text/plain": [
       "'Congratulation! Srinivash'"
      ]
     },
     "execution_count": 13,
     "metadata": {},
     "output_type": "execute_result"
    }
   ],
   "source": [
    "greet('Srinivash')"
   ]
  },
  {
   "cell_type": "code",
   "execution_count": 14,
   "id": "6b6bd325-e473-4ece-a361-f8d5f6cd0737",
   "metadata": {},
   "outputs": [
    {
     "name": "stdout",
     "output_type": "stream",
     "text": [
      "Hello world\n"
     ]
    },
    {
     "ename": "SyntaxError",
     "evalue": "'return' outside function (427105306.py, line 3)",
     "output_type": "error",
     "traceback": [
      "\u001b[1;36m  Cell \u001b[1;32mIn[14], line 3\u001b[1;36m\u001b[0m\n\u001b[1;33m    return \"Hello world\"\u001b[0m\n\u001b[1;37m    ^\u001b[0m\n\u001b[1;31mSyntaxError\u001b[0m\u001b[1;31m:\u001b[0m 'return' outside function\n"
     ]
    }
   ],
   "source": [
    "print('Hello world')\n",
    "\n",
    "return \"Hello world\""
   ]
  },
  {
   "cell_type": "code",
   "execution_count": 22,
   "id": "b53a669b-2aa8-42b9-9cc8-974bb5db7b57",
   "metadata": {},
   "outputs": [
    {
     "name": "stdout",
     "output_type": "stream",
     "text": [
      "The sum of two numbers is: 300\n"
     ]
    }
   ],
   "source": [
    "# Waf to sum of two number:\n",
    "\n",
    "def sum(a,b):\n",
    "    z=a+b\n",
    "    print('The sum of two numbers is:',z)\n",
    "    #return z\n",
    "\n",
    "\n",
    "sum(100,200)"
   ]
  },
  {
   "cell_type": "code",
   "execution_count": 23,
   "id": "4978e64c-5d38-4bce-8e63-e087eb1ca612",
   "metadata": {},
   "outputs": [
    {
     "name": "stdout",
     "output_type": "stream",
     "text": [
      "Function working Successfully!\n"
     ]
    },
    {
     "data": {
      "text/plain": [
       "'Congratulation! Pratigya'"
      ]
     },
     "execution_count": 23,
     "metadata": {},
     "output_type": "execute_result"
    }
   ],
   "source": [
    "greet('Pratigya')"
   ]
  },
  {
   "cell_type": "code",
   "execution_count": 24,
   "id": "a1ba01ef-9525-4fcd-a72e-0dcc0c328be0",
   "metadata": {},
   "outputs": [
    {
     "name": "stdout",
     "output_type": "stream",
     "text": [
      "The sum of two numbers is: 30\n"
     ]
    }
   ],
   "source": [
    "sum(10,20)"
   ]
  },
  {
   "cell_type": "code",
   "execution_count": 25,
   "id": "75f125fb-5f3e-4f52-825f-0c821d7539f1",
   "metadata": {},
   "outputs": [
    {
     "name": "stdout",
     "output_type": "stream",
     "text": [
      "The sum of two numbers is: 114.21\n"
     ]
    }
   ],
   "source": [
    "sum(35.25,78.96)"
   ]
  },
  {
   "cell_type": "code",
   "execution_count": 26,
   "id": "62a8b2c1-c9de-4cbf-95a2-9118846f5291",
   "metadata": {},
   "outputs": [
    {
     "name": "stdout",
     "output_type": "stream",
     "text": [
      "Function working Successfully!\n"
     ]
    },
    {
     "data": {
      "text/plain": [
       "'Congratulation! Hello'"
      ]
     },
     "execution_count": 26,
     "metadata": {},
     "output_type": "execute_result"
    }
   ],
   "source": [
    "greet('Hello')"
   ]
  },
  {
   "cell_type": "code",
   "execution_count": 27,
   "id": "7aeafbbd-be36-4f12-a8e1-61c56a2c75ef",
   "metadata": {},
   "outputs": [
    {
     "name": "stdout",
     "output_type": "stream",
     "text": [
      "The sum of two numbers is: 174\n"
     ]
    }
   ],
   "source": [
    "sum(78,96)"
   ]
  },
  {
   "cell_type": "code",
   "execution_count": 31,
   "id": "7f1d7538-c91d-4af2-811d-3ddc1c61d7be",
   "metadata": {},
   "outputs": [],
   "source": [
    "def msg1():\n",
    "    print('Hello World')\n",
    "\n",
    "def msg2():\n",
    "    print('Good Morning!')\n",
    "    return None"
   ]
  },
  {
   "cell_type": "code",
   "execution_count": 32,
   "id": "4f2eb466-04b5-4fa1-b70e-66c148fdfcf9",
   "metadata": {},
   "outputs": [
    {
     "name": "stdout",
     "output_type": "stream",
     "text": [
      "Hello World\n",
      "Good Morning!\n"
     ]
    }
   ],
   "source": [
    "msg1()\n",
    "msg2()"
   ]
  },
  {
   "cell_type": "code",
   "execution_count": 33,
   "id": "750d7a62-fd28-4c3b-a661-0139f15e1d70",
   "metadata": {},
   "outputs": [
    {
     "name": "stdout",
     "output_type": "stream",
     "text": [
      "Hello World\n",
      "None\n"
     ]
    }
   ],
   "source": [
    "print(msg1())"
   ]
  },
  {
   "cell_type": "code",
   "execution_count": 41,
   "id": "a7e64d46-c60b-4339-a3d1-c760b16a8eb2",
   "metadata": {},
   "outputs": [],
   "source": [
    "def ajinky():\n",
    "    print('Ajinkya yeha dekho')"
   ]
  },
  {
   "cell_type": "code",
   "execution_count": 42,
   "id": "53952b46-2fab-4bdf-990f-a24a67a04db7",
   "metadata": {},
   "outputs": [
    {
     "name": "stdout",
     "output_type": "stream",
     "text": [
      "Ajinkya yeha dekho\n"
     ]
    }
   ],
   "source": [
    "ajinky()"
   ]
  },
  {
   "cell_type": "code",
   "execution_count": 43,
   "id": "8b8530c9-ae8a-4807-8837-5f80977ecfdf",
   "metadata": {},
   "outputs": [
    {
     "name": "stdout",
     "output_type": "stream",
     "text": [
      "Ajinkya yeha dekho\n",
      "None\n"
     ]
    }
   ],
   "source": [
    "print(ajinky())"
   ]
  },
  {
   "cell_type": "code",
   "execution_count": 51,
   "id": "8ab012b3-52b0-4e9d-a9df-edac9db88286",
   "metadata": {},
   "outputs": [
    {
     "name": "stdin",
     "output_type": "stream",
     "text": [
      "Enter first number:  500\n",
      "Enter first number:  700\n"
     ]
    },
    {
     "name": "stdout",
     "output_type": "stream",
     "text": [
      "The sum of two numbers is 500 and 700 is:1200\n"
     ]
    }
   ],
   "source": [
    "# waf with user input that take two value form user.\n",
    "\n",
    "def user1(x,y):\n",
    "    sum1=x+y\n",
    "    print(f'The sum of two numbers is {x} and {y} is:{sum1}')\n",
    "\n",
    "\n",
    "u1=int(input('Enter first number: '))\n",
    "u2=int(input('Enter first number: '))\n",
    "\n",
    "user1(u1,u2)"
   ]
  },
  {
   "cell_type": "markdown",
   "id": "884f0d02-fbd1-4053-b60f-e571dcc06fa3",
   "metadata": {},
   "source": [
    "# Variables\n",
    "\n",
    " * __The input to a funciton is called formal parameter.__\n",
    " * __A variable that is declared inside a function is called a local vairable.__\n",
    " * __The parameter only exists within the function(i.e. the point where the function starts and stops).__\n",
    " * __A variable that is declared outside a funciton definition is called global variable and its value is accessibel modifiable thoughout the program.__"
   ]
  },
  {
   "cell_type": "code",
   "execution_count": 53,
   "id": "eafd2a17-9053-468e-bbae-4209cf517192",
   "metadata": {},
   "outputs": [
    {
     "name": "stdout",
     "output_type": "stream",
     "text": [
      "The sum of two numbers is 200 and 400 is:600\n"
     ]
    }
   ],
   "source": [
    "def user1(x,y):\n",
    "    sum1=x+y\n",
    "    print(f'The sum of two numbers is {x} and {y} is:{sum1}')\n",
    "\n",
    "\n",
    "# u1=int(input('Enter first number: '))\n",
    "# u2=int(input('Enter first number: '))\n",
    "\n",
    "user1(200,400)    # formal parameter"
   ]
  },
  {
   "cell_type": "code",
   "execution_count": 57,
   "id": "9e12eea1-01ac-42f0-a84b-65342569101e",
   "metadata": {},
   "outputs": [
    {
     "name": "stdout",
     "output_type": "stream",
     "text": [
      "The sum of two numbers is 200 and 230 is:430\n"
     ]
    }
   ],
   "source": [
    "def user1(x):\n",
    "    second_val=230   # y is a local variable\n",
    "    sum1=x+second_val\n",
    "    print(f'The sum of two numbers is {x} and {second_val} is:{sum1}')\n",
    "\n",
    "\n",
    "# u1=int(input('Enter first number: '))\n",
    "# u2=int(input('Enter first number: '))\n",
    "\n",
    "user1(200)"
   ]
  },
  {
   "cell_type": "code",
   "execution_count": 58,
   "id": "a6cdb9fc-e556-4715-a9c4-0d06d85926c6",
   "metadata": {},
   "outputs": [
    {
     "ename": "NameError",
     "evalue": "name 'second_val' is not defined",
     "output_type": "error",
     "traceback": [
      "\u001b[1;31m---------------------------------------------------------------------------\u001b[0m",
      "\u001b[1;31mNameError\u001b[0m                                 Traceback (most recent call last)",
      "Cell \u001b[1;32mIn[58], line 1\u001b[0m\n\u001b[1;32m----> 1\u001b[0m \u001b[43msecond_val\u001b[49m\n",
      "\u001b[1;31mNameError\u001b[0m: name 'second_val' is not defined"
     ]
    }
   ],
   "source": [
    "second_val"
   ]
  },
  {
   "cell_type": "code",
   "execution_count": 59,
   "id": "8bbb3f6b-b751-4701-a5ce-e95345d18e58",
   "metadata": {},
   "outputs": [
    {
     "name": "stdout",
     "output_type": "stream",
     "text": [
      "The sum of two numbers is 500 and 230 is:730\n"
     ]
    }
   ],
   "source": [
    "x=500   # x is a global variable\n",
    "def user1():\n",
    "    second_val=230   # y is a local variable\n",
    "    sum1=x+second_val\n",
    "    print(f'The sum of two numbers is {x} and {second_val} is:{sum1}')\n",
    "\n",
    "\n",
    "# u1=int(input('Enter first number: '))\n",
    "# u2=int(input('Enter first number: '))\n",
    "\n",
    "user1()"
   ]
  },
  {
   "cell_type": "code",
   "execution_count": 60,
   "id": "7e9c6dc6-961c-4a80-83f5-495f3b24c433",
   "metadata": {},
   "outputs": [
    {
     "data": {
      "text/plain": [
       "500"
      ]
     },
     "execution_count": 60,
     "metadata": {},
     "output_type": "execute_result"
    }
   ],
   "source": [
    "x"
   ]
  },
  {
   "cell_type": "code",
   "execution_count": 61,
   "id": "49dbb113-03f9-4e63-85a2-c01337a283b3",
   "metadata": {},
   "outputs": [
    {
     "ename": "NameError",
     "evalue": "name 'second_val' is not defined",
     "output_type": "error",
     "traceback": [
      "\u001b[1;31m---------------------------------------------------------------------------\u001b[0m",
      "\u001b[1;31mNameError\u001b[0m                                 Traceback (most recent call last)",
      "Cell \u001b[1;32mIn[61], line 1\u001b[0m\n\u001b[1;32m----> 1\u001b[0m \u001b[43msecond_val\u001b[49m\n",
      "\u001b[1;31mNameError\u001b[0m: name 'second_val' is not defined"
     ]
    }
   ],
   "source": [
    "second_val"
   ]
  },
  {
   "cell_type": "code",
   "execution_count": 7,
   "id": "85e282a0-d378-46ce-83a0-ac200353258f",
   "metadata": {},
   "outputs": [
    {
     "data": {
      "text/plain": [
       "1660"
      ]
     },
     "execution_count": 7,
     "metadata": {},
     "output_type": "execute_result"
    }
   ],
   "source": [
    "def function1(x):\n",
    "    y=78*x+100\n",
    "    #print(y)\n",
    "    return y\n",
    "\n",
    "function1(20)"
   ]
  },
  {
   "cell_type": "code",
   "execution_count": 10,
   "id": "3990a626-84fd-42d4-999d-c9ce50676a4c",
   "metadata": {},
   "outputs": [
    {
     "name": "stdout",
     "output_type": "stream",
     "text": [
      "1270\n"
     ]
    }
   ],
   "source": [
    "# Global variable\n",
    "\n",
    "a=15\n",
    "\n",
    "y=function1(a)\n",
    "print(y)"
   ]
  },
  {
   "cell_type": "code",
   "execution_count": 20,
   "id": "4a0ae658-7c1d-43cd-b941-9c36b4a1b414",
   "metadata": {},
   "outputs": [
    {
     "data": {
      "text/plain": [
       "'Congratulation! Uday Rasal'"
      ]
     },
     "execution_count": 20,
     "metadata": {},
     "output_type": "execute_result"
    }
   ],
   "source": [
    "# formal parameter:\n",
    "\n",
    "def name(first_name='Uday',last_name=' Rasal'):   # x='Hello' default value  # formal parameter.\n",
    "    y='Congratulation! '+first_name+last_name\n",
    "    return y\n",
    "\n",
    "name()"
   ]
  },
  {
   "cell_type": "code",
   "execution_count": 21,
   "id": "383fa70c-6ca6-4993-8226-41798c7be371",
   "metadata": {},
   "outputs": [
    {
     "data": {
      "text/plain": [
       "6"
      ]
     },
     "execution_count": 21,
     "metadata": {},
     "output_type": "execute_result"
    }
   ],
   "source": [
    "x=78\n",
    "y=100\n",
    "\n",
    "equation=x*y+x+y-37   # 78*100+78+100-37 = 7941\n",
    "\n",
    "if equation>0:\n",
    "    equation=6\n",
    "\n",
    "else: equation=37\n",
    "\n",
    "equation"
   ]
  },
  {
   "cell_type": "code",
   "execution_count": 22,
   "id": "f393e312-62ba-42e8-9ac4-beeaa125e411",
   "metadata": {},
   "outputs": [
    {
     "data": {
      "text/plain": [
       "'ajinkya'"
      ]
     },
     "execution_count": 22,
     "metadata": {},
     "output_type": "execute_result"
    }
   ],
   "source": [
    "x=78\n",
    "y=100\n",
    "\n",
    "equation=x*y+x+y-37   # 78*100+78+100-37 = 7941\n",
    "\n",
    "if equation>0:\n",
    "    equation='ajinkya'\n",
    "\n",
    "else: equation=37\n",
    "\n",
    "equation"
   ]
  },
  {
   "cell_type": "code",
   "execution_count": 23,
   "id": "a7332ddc-d235-4f0e-938b-e811a6d03b88",
   "metadata": {},
   "outputs": [
    {
     "data": {
      "text/plain": [
       "'Rupali'"
      ]
     },
     "execution_count": 23,
     "metadata": {},
     "output_type": "execute_result"
    }
   ],
   "source": [
    "x=78\n",
    "y=100\n",
    "\n",
    "equation=x*y+x+y-37   # 78*100+78+100-37 = 7941\n",
    "\n",
    "if equation<0:\n",
    "    equation=6\n",
    "\n",
    "else: equation='Rupali'\n",
    "\n",
    "equation"
   ]
  },
  {
   "cell_type": "code",
   "execution_count": 26,
   "id": "6eae9e8b-1ecb-4488-a785-035002558387",
   "metadata": {},
   "outputs": [
    {
     "data": {
      "text/plain": [
       "10"
      ]
     },
     "execution_count": 26,
     "metadata": {},
     "output_type": "execute_result"
    }
   ],
   "source": [
    "def function(x,y):\n",
    "    equation = x*y+x+y-37  # \n",
    "    if equation<0:\n",
    "        equation=10\n",
    "\n",
    "    else: equation=100\n",
    "    return equation\n",
    "\n",
    "x=0\n",
    "y=20\n",
    "function(x,y)"
   ]
  },
  {
   "cell_type": "code",
   "execution_count": 35,
   "id": "5a216926-15d0-4358-9049-a3a41a3f2a42",
   "metadata": {},
   "outputs": [
    {
     "name": "stdout",
     "output_type": "stream",
     "text": [
      "You should not watch this movie with the rating value of 6.0\n",
      "You should watch this movie with the rating value of 10.0\n",
      "your rating should be in under 10 value and not in negative value.\n"
     ]
    }
   ],
   "source": [
    "def rating_value(rating=6.0):\n",
    "    if rating<=10 and rating>0:\n",
    "        if rating<8:\n",
    "            return f'You should not watch this movie with the rating value of {rating}'\n",
    "        else: return f'You should watch this movie with the rating value of {rating}'\n",
    "    else: return f'your rating should be in under 10 value and not in negative value.'\n",
    "\n",
    "\n",
    "print(rating_value())\n",
    "print(rating_value(10.0))\n",
    "print(rating_value(-5))"
   ]
  },
  {
   "cell_type": "code",
   "execution_count": 45,
   "id": "8d32690b-ff51-4b35-a630-abf7c16f09df",
   "metadata": {},
   "outputs": [
    {
     "name": "stdout",
     "output_type": "stream",
     "text": [
      "Number of elements is: 10\n",
      "Rupali\n",
      "Rasal\n",
      "Ajinkya\n",
      "Welcome\n",
      "Number\n",
      "Gurav\n",
      "Akash\n",
      "10\n",
      "45.23\n",
      "[10, 20, 30]\n",
      "\n"
     ]
    }
   ],
   "source": [
    "# args and kwargs.\n",
    "\n",
    "def function(*args):\n",
    "    print('Number of elements is:',len(args))\n",
    "    for i in args:\n",
    "        print(i)\n",
    "\n",
    "\n",
    "function('Rupali','Rasal','Ajinkya','Welcome','Number','Gurav','Akash',10,45.23,[10,20,30])\n",
    "print()"
   ]
  },
  {
   "cell_type": "code",
   "execution_count": 61,
   "id": "3cdb7d74-d389-4342-98d2-bdee51d23451",
   "metadata": {},
   "outputs": [
    {
     "name": "stdout",
     "output_type": "stream",
     "text": [
      "Total of the numbers is: 360\n"
     ]
    }
   ],
   "source": [
    "def total(*args):\n",
    "    total=0 # total variable= local\n",
    "    ajinkya=0\n",
    "    rupali1=100\n",
    "    for i in args:\n",
    "        total+=i\n",
    "    return total\n",
    "\n",
    "sum=0\n",
    "\n",
    "print('Total of the numbers is:',total(10,20,30,40,50,60,70,80))"
   ]
  },
  {
   "cell_type": "code",
   "execution_count": 62,
   "id": "d2f50ff6-1f7e-4deb-b4e0-59db13768b34",
   "metadata": {},
   "outputs": [
    {
     "ename": "NameError",
     "evalue": "name 'ajinkya' is not defined",
     "output_type": "error",
     "traceback": [
      "\u001b[1;31m---------------------------------------------------------------------------\u001b[0m",
      "\u001b[1;31mNameError\u001b[0m                                 Traceback (most recent call last)",
      "Cell \u001b[1;32mIn[62], line 1\u001b[0m\n\u001b[1;32m----> 1\u001b[0m \u001b[43majinkya\u001b[49m\n",
      "\u001b[1;31mNameError\u001b[0m: name 'ajinkya' is not defined"
     ]
    }
   ],
   "source": [
    "ajinkya"
   ]
  },
  {
   "cell_type": "code",
   "execution_count": null,
   "id": "7c950c64-adbf-4599-8911-a27c2b78fd36",
   "metadata": {},
   "outputs": [],
   "source": [
    "sum"
   ]
  },
  {
   "cell_type": "code",
   "execution_count": 63,
   "id": "95f765df-2a62-4872-95ec-7c6a43d4138f",
   "metadata": {},
   "outputs": [
    {
     "data": {
      "text/plain": [
       "100"
      ]
     },
     "execution_count": 63,
     "metadata": {},
     "output_type": "execute_result"
    }
   ],
   "source": [
    "rupali"
   ]
  },
  {
   "cell_type": "code",
   "execution_count": 64,
   "id": "f0082dd9-cd8f-4a90-98a2-feb07e3ec952",
   "metadata": {},
   "outputs": [
    {
     "ename": "NameError",
     "evalue": "name 'rupali1' is not defined",
     "output_type": "error",
     "traceback": [
      "\u001b[1;31m---------------------------------------------------------------------------\u001b[0m",
      "\u001b[1;31mNameError\u001b[0m                                 Traceback (most recent call last)",
      "Cell \u001b[1;32mIn[64], line 1\u001b[0m\n\u001b[1;32m----> 1\u001b[0m \u001b[43mrupali1\u001b[49m\n",
      "\u001b[1;31mNameError\u001b[0m: name 'rupali1' is not defined"
     ]
    }
   ],
   "source": [
    "rupali1"
   ]
  },
  {
   "cell_type": "code",
   "execution_count": 77,
   "id": "82739c73-caf4-4ab4-b994-f37b25d39e22",
   "metadata": {},
   "outputs": [
    {
     "name": "stdout",
     "output_type": "stream",
     "text": [
      "Name : Ajinkya\n",
      "age : 20\n",
      "Name1 : Rupali\n",
      "age1 : 15\n"
     ]
    }
   ],
   "source": [
    "# Define a funciton regarding a dictionary function\n",
    "\n",
    "def function2(**args):\n",
    "    for key in args:\n",
    "        print(key,':',args[key])\n",
    "\n",
    "function2(Name='Ajinkya',age=20,Name1='Rupali',age1=15)"
   ]
  },
  {
   "cell_type": "code",
   "execution_count": 94,
   "id": "fc1e8fc8-bf07-4c80-a5c2-717fe28497c0",
   "metadata": {},
   "outputs": [
    {
     "data": {
      "text/plain": [
       "{3.14, 10, 20}"
      ]
     },
     "execution_count": 94,
     "metadata": {},
     "output_type": "execute_result"
    }
   ],
   "source": [
    "def addition(nlis):\n",
    "    nlis.add(3.14)\n",
    "    nlis.add(10)\n",
    "    nlis.add(20)\n",
    "    nlis.add(20)\n",
    "    nlis.add(20)\n",
    "    nlis.add(20)\n",
    "    nlis.add(20)\n",
    "\n",
    "x=set()\n",
    "addition(x)\n",
    "x"
   ]
  },
  {
   "cell_type": "code",
   "execution_count": 96,
   "id": "f528f3fa-b147-4c3e-980f-89996ab9201b",
   "metadata": {},
   "outputs": [
    {
     "data": {
      "text/plain": [
       "[3.14, 10, 20, 20, 20, 20, 20]"
      ]
     },
     "execution_count": 96,
     "metadata": {},
     "output_type": "execute_result"
    }
   ],
   "source": [
    "def addition(nlis):\n",
    "    nlis.append(3.14)\n",
    "    nlis.append(10)\n",
    "    nlis.append(20)\n",
    "    nlis.append(20)\n",
    "    nlis.append(20)\n",
    "    nlis.append(20)\n",
    "    nlis.append(20)\n",
    "\n",
    "x=[]\n",
    "addition(x)\n",
    "x"
   ]
  },
  {
   "cell_type": "code",
   "execution_count": 2,
   "id": "7a8bcc68-e8ba-4160-8bfd-e4820dccc067",
   "metadata": {},
   "outputs": [
    {
     "name": "stdout",
     "output_type": "stream",
     "text": [
      "Hello Akash\n"
     ]
    }
   ],
   "source": [
    "print('Hello Akash')"
   ]
  },
  {
   "cell_type": "code",
   "execution_count": 3,
   "id": "2f1eb8a5-3bd8-4d17-a5f7-5317e14c8b96",
   "metadata": {},
   "outputs": [
    {
     "name": "stdout",
     "output_type": "stream",
     "text": [
      "Good Evening\n"
     ]
    }
   ],
   "source": [
    "print('Good Evening')"
   ]
  },
  {
   "cell_type": "code",
   "execution_count": 4,
   "id": "df10d703-8ef0-4707-8f01-a3c9783b1ce5",
   "metadata": {},
   "outputs": [
    {
     "name": "stdout",
     "output_type": "stream",
     "text": [
      "Congratulation\n"
     ]
    }
   ],
   "source": [
    "print('Congratulation')"
   ]
  },
  {
   "cell_type": "code",
   "execution_count": 5,
   "id": "3035cefc-8388-4fd6-8258-3f778ebfabd4",
   "metadata": {},
   "outputs": [
    {
     "data": {
      "text/plain": [
       "'Hello world'"
      ]
     },
     "execution_count": 5,
     "metadata": {},
     "output_type": "execute_result"
    }
   ],
   "source": [
    "# return\n",
    "\n",
    "def func():\n",
    "    z='Hello world'\n",
    "    #print(z)\n",
    "    return z\n",
    "\n",
    "func()"
   ]
  },
  {
   "cell_type": "code",
   "execution_count": 6,
   "id": "a7b6834b-ba07-433e-a439-adeed736e810",
   "metadata": {},
   "outputs": [
    {
     "ename": "SyntaxError",
     "evalue": "'return' outside function (4163167981.py, line 1)",
     "output_type": "error",
     "traceback": [
      "\u001b[1;36m  Cell \u001b[1;32mIn[6], line 1\u001b[1;36m\u001b[0m\n\u001b[1;33m    return 'Hello world'\u001b[0m\n\u001b[1;37m    ^\u001b[0m\n\u001b[1;31mSyntaxError\u001b[0m\u001b[1;31m:\u001b[0m 'return' outside function\n"
     ]
    }
   ],
   "source": [
    "return 'Hello world'"
   ]
  },
  {
   "cell_type": "code",
   "execution_count": 16,
   "id": "c53a5f4c-9453-49dc-8156-93fdf30ba171",
   "metadata": {},
   "outputs": [
    {
     "name": "stdout",
     "output_type": "stream",
     "text": [
      "560\n",
      "10\n",
      "100\n",
      "11\n",
      "1\n",
      "50.90909090909091\n"
     ]
    }
   ],
   "source": [
    "# Aggrigate function\n",
    "\n",
    "# sum(),min(),max(),len(),count(),avg()\n",
    "\n",
    "special_num=[10,20,30,40,50,60,70,80,90,100,10,]\n",
    "\n",
    "print(sum(special_num))\n",
    "print(min(special_num))\n",
    "print(max(special_num))\n",
    "print(len(special_num))\n",
    "print(special_num.count(100))\n",
    "print(sum(special_num)/len(special_num))"
   ]
  },
  {
   "cell_type": "code",
   "execution_count": 20,
   "id": "b905b156-eefd-45c1-82b2-ad699353aaef",
   "metadata": {},
   "outputs": [
    {
     "data": {
      "text/plain": [
       "390"
      ]
     },
     "execution_count": 20,
     "metadata": {},
     "output_type": "execute_result"
    }
   ],
   "source": [
    "# Example of regarding 'args'\n",
    "\n",
    "def total(*args):\n",
    "    total=0\n",
    "    for i in args:\n",
    "        total+=i\n",
    "    return total\n",
    "\n",
    "\n",
    "total(10,20,30,40,50,60,70,40,10,20,20,20)"
   ]
  },
  {
   "cell_type": "code",
   "execution_count": 22,
   "id": "8b902166-c39c-4d80-ae82-f2813ab952e7",
   "metadata": {},
   "outputs": [
    {
     "data": {
      "text/plain": [
       "function"
      ]
     },
     "execution_count": 22,
     "metadata": {},
     "output_type": "execute_result"
    }
   ],
   "source": [
    "type(total)"
   ]
  },
  {
   "cell_type": "code",
   "execution_count": 23,
   "id": "6f9810c1-5604-4e25-895c-0dc09797edad",
   "metadata": {},
   "outputs": [
    {
     "name": "stdout",
     "output_type": "stream",
     "text": [
      "Help on function total in module __main__:\n",
      "\n",
      "total(*args)\n",
      "\n"
     ]
    }
   ],
   "source": [
    "help(total)"
   ]
  },
  {
   "cell_type": "code",
   "execution_count": 21,
   "id": "18f315ab-4ffe-4464-b87d-c8a09ea17905",
   "metadata": {},
   "outputs": [
    {
     "data": {
      "text/plain": [
       "300"
      ]
     },
     "execution_count": 21,
     "metadata": {},
     "output_type": "execute_result"
    }
   ],
   "source": [
    "def total(*args):\n",
    "    total=0\n",
    "    for i in args:\n",
    "        total+=i\n",
    "    return total\n",
    "\n",
    "\n",
    "total(100,200)"
   ]
  },
  {
   "cell_type": "code",
   "execution_count": 24,
   "id": "59fd29ec-de42-4789-9a98-7e104eb3936a",
   "metadata": {},
   "outputs": [
    {
     "name": "stdout",
     "output_type": "stream",
     "text": [
      "\n"
     ]
    }
   ],
   "source": [
    "# cheetsheet # shift+tab\n",
    "\n",
    "print('')"
   ]
  },
  {
   "cell_type": "code",
   "execution_count": 26,
   "id": "a7e7567b-136e-4486-a586-fa19d4971e4a",
   "metadata": {},
   "outputs": [
    {
     "data": {
      "text/plain": [
       "800"
      ]
     },
     "execution_count": 26,
     "metadata": {},
     "output_type": "execute_result"
    }
   ],
   "source": [
    "total(100,300,400)"
   ]
  },
  {
   "cell_type": "code",
   "execution_count": 27,
   "id": "2ff195b6-1b76-4a05-bce7-6c09e42105d9",
   "metadata": {},
   "outputs": [
    {
     "ename": "TypeError",
     "evalue": "unsupported operand type(s) for +=: 'int' and 'str'",
     "output_type": "error",
     "traceback": [
      "\u001b[1;31m---------------------------------------------------------------------------\u001b[0m",
      "\u001b[1;31mTypeError\u001b[0m                                 Traceback (most recent call last)",
      "Cell \u001b[1;32mIn[27], line 1\u001b[0m\n\u001b[1;32m----> 1\u001b[0m \u001b[43mtotal\u001b[49m\u001b[43m(\u001b[49m\u001b[38;5;124;43m'\u001b[39;49m\u001b[38;5;124;43mUday\u001b[39;49m\u001b[38;5;124;43m'\u001b[39;49m\u001b[43m,\u001b[49m\u001b[38;5;124;43m'\u001b[39;49m\u001b[38;5;124;43mRasal\u001b[39;49m\u001b[38;5;124;43m'\u001b[39;49m\u001b[43m)\u001b[49m\n",
      "Cell \u001b[1;32mIn[21], line 4\u001b[0m, in \u001b[0;36mtotal\u001b[1;34m(*args)\u001b[0m\n\u001b[0;32m      2\u001b[0m total\u001b[38;5;241m=\u001b[39m\u001b[38;5;241m0\u001b[39m\n\u001b[0;32m      3\u001b[0m \u001b[38;5;28;01mfor\u001b[39;00m i \u001b[38;5;129;01min\u001b[39;00m args:\n\u001b[1;32m----> 4\u001b[0m     \u001b[43mtotal\u001b[49m\u001b[38;5;241;43m+\u001b[39;49m\u001b[38;5;241;43m=\u001b[39;49m\u001b[43mi\u001b[49m\n\u001b[0;32m      5\u001b[0m \u001b[38;5;28;01mreturn\u001b[39;00m total\n",
      "\u001b[1;31mTypeError\u001b[0m: unsupported operand type(s) for +=: 'int' and 'str'"
     ]
    }
   ],
   "source": [
    "total('Uday','Rasal')"
   ]
  },
  {
   "cell_type": "code",
   "execution_count": 34,
   "id": "02acc154-f5e8-4325-b0ff-2e4f5c2d0cb0",
   "metadata": {},
   "outputs": [
    {
     "name": "stdout",
     "output_type": "stream",
     "text": [
      "The following function returns the sum of two parameters.\n",
      "114\n"
     ]
    }
   ],
   "source": [
    "# define a function\n",
    "\n",
    "def addition(x,y):\n",
    "    '''The following function returns the sum of two parameters.'''\n",
    "    z=x+y\n",
    "    return z\n",
    "\n",
    "print(addition.__doc__)  # Doc string\n",
    "print(addition(45,69))"
   ]
  },
  {
   "cell_type": "code",
   "execution_count": 43,
   "id": "3b1f517d-2b8b-44eb-9f05-ce265a785be8",
   "metadata": {},
   "outputs": [],
   "source": [
    "# Write a function that gives the total of the first ten numbers.\n",
    "\n"
   ]
  },
  {
   "cell_type": "code",
   "execution_count": 42,
   "id": "6ee38240-e175-41c0-b453-720e55c85991",
   "metadata": {},
   "outputs": [
    {
     "name": "stdout",
     "output_type": "stream",
     "text": [
      "The sum of the value from 1 to 10 is: 55\n"
     ]
    }
   ],
   "source": [
    "def total_number1(x):\n",
    "    total=0\n",
    "    for i in range(1,x+1):\n",
    "        total+=i\n",
    "    return total\n",
    "\n",
    "print('The sum of the value from 1 to 10 is:',total_number1(10))"
   ]
  },
  {
   "cell_type": "code",
   "execution_count": 45,
   "id": "00cecdc2-07b8-41be-8791-b2505fed0e34",
   "metadata": {},
   "outputs": [
    {
     "name": "stdin",
     "output_type": "stream",
     "text": [
      "Enter your range: 100\n"
     ]
    },
    {
     "name": "stdout",
     "output_type": "stream",
     "text": [
      "The sum of the value from 1 to 10 is: 5050\n"
     ]
    }
   ],
   "source": [
    "def total_number1(x):\n",
    "    total=0\n",
    "    for i in range(1,x+1):\n",
    "        total+=i\n",
    "    return total\n",
    "\n",
    "y=int(input('Enter your range:'))\n",
    "print('The sum of the value from 1 to 10 is:',total_number1(y))"
   ]
  },
  {
   "cell_type": "code",
   "execution_count": 47,
   "id": "c6a5eacf-43df-4280-9fac-86e7f5731d7c",
   "metadata": {},
   "outputs": [
    {
     "name": "stdin",
     "output_type": "stream",
     "text": [
      "Enter your range: 50\n"
     ]
    },
    {
     "name": "stdout",
     "output_type": "stream",
     "text": [
      "The sum of the value from 1 to 10 is: 1275\n"
     ]
    }
   ],
   "source": [
    "y=int(input('Enter your range:'))\n",
    "print('The sum of the value from 1 to 10 is:',total_number1(y))"
   ]
  },
  {
   "cell_type": "code",
   "execution_count": 48,
   "id": "cd267e7d-67da-40ad-88de-1d1c3daf7015",
   "metadata": {},
   "outputs": [
    {
     "name": "stdin",
     "output_type": "stream",
     "text": [
      "Enter your range: 40\n"
     ]
    },
    {
     "name": "stdout",
     "output_type": "stream",
     "text": [
      "The sum of the value from 1 to 10 is: 820\n"
     ]
    }
   ],
   "source": [
    "def total_number1():\n",
    "    y=int(input('Enter your range:'))\n",
    "    total=0\n",
    "    for i in range(1,y+1):\n",
    "        total+=i\n",
    "    return total\n",
    "\n",
    "\n",
    "print('The sum of the value from 1 to 10 is:',total_number1())"
   ]
  },
  {
   "cell_type": "code",
   "execution_count": 51,
   "id": "f6bf6375-1541-4258-8b46-e813f233746c",
   "metadata": {},
   "outputs": [
    {
     "name": "stdin",
     "output_type": "stream",
     "text": [
      "Enter your range: 20\n"
     ]
    },
    {
     "data": {
      "text/plain": [
       "210"
      ]
     },
     "execution_count": 51,
     "metadata": {},
     "output_type": "execute_result"
    }
   ],
   "source": [
    "total_number1()"
   ]
  },
  {
   "cell_type": "code",
   "execution_count": 55,
   "id": "e03466cc-3ed0-40ae-9bc5-1c74c8440d9d",
   "metadata": {},
   "outputs": [
    {
     "name": "stdin",
     "output_type": "stream",
     "text": [
      "Enter any number to increment 1 value: 2000\n"
     ]
    },
    {
     "name": "stdout",
     "output_type": "stream",
     "text": [
      "2000 -----------> 2001\n"
     ]
    }
   ],
   "source": [
    "# 100 -----> 101\n",
    "\n",
    "def added_num(num1):\n",
    "    def incremented_num(num1):\n",
    "        num1=num1+1\n",
    "        return num1\n",
    "    num2=incremented_num(num1)\n",
    "    print(num1,'----------->',num2)\n",
    "\n",
    "x=int(input('Enter any number to increment 1 value:'))\n",
    "added_num(x)"
   ]
  },
  {
   "cell_type": "code",
   "execution_count": 56,
   "id": "4e33f191-e767-44b5-a19f-b8729d0bd3ca",
   "metadata": {},
   "outputs": [
    {
     "name": "stdin",
     "output_type": "stream",
     "text": [
      "Enter any number to increment 1 value: 500\n"
     ]
    },
    {
     "name": "stdout",
     "output_type": "stream",
     "text": [
      "500 -----------> 501\n"
     ]
    }
   ],
   "source": [
    "x=int(input('Enter any number to increment 1 value:'))\n",
    "added_num(x)"
   ]
  },
  {
   "cell_type": "code",
   "execution_count": 59,
   "id": "15eb779b-2934-4ee5-8692-31defcc20e31",
   "metadata": {},
   "outputs": [
    {
     "name": "stdin",
     "output_type": "stream",
     "text": [
      "Enter any number to increment 1 value: 10\n"
     ]
    },
    {
     "name": "stdout",
     "output_type": "stream",
     "text": [
      "10 -----------> 20\n"
     ]
    }
   ],
   "source": [
    "\n",
    "def added_num():\n",
    "    num1=int(input('Enter any number to increment 1 value:'))\n",
    "    def incremented_num(num1):\n",
    "        num1=num1+10\n",
    "        return num1\n",
    "    num2=incremented_num(num1)\n",
    "    print(num1,'----------->',num2)\n",
    "\n",
    "\n",
    "added_num()"
   ]
  },
  {
   "cell_type": "code",
   "execution_count": null,
   "id": "518a8315-6246-42d8-a5dd-e5dd7ada4ceb",
   "metadata": {},
   "outputs": [],
   "source": [
    "print()"
   ]
  },
  {
   "cell_type": "code",
   "execution_count": 14,
   "id": "ce94723f-0f22-4a49-98ef-4bb1c2ae18b5",
   "metadata": {},
   "outputs": [
    {
     "data": {
      "text/plain": [
       "60"
      ]
     },
     "execution_count": 14,
     "metadata": {},
     "output_type": "execute_result"
    }
   ],
   "source": [
    "def sum(x,y):\n",
    "    sum1=x+y\n",
    "    return sum1\n",
    "\n",
    "\n",
    "sum(10,50)"
   ]
  },
  {
   "cell_type": "code",
   "execution_count": 15,
   "id": "85d4752b-9554-41a3-8a60-cb54244fdf0d",
   "metadata": {},
   "outputs": [
    {
     "name": "stdout",
     "output_type": "stream",
     "text": [
      "30\n"
     ]
    }
   ],
   "source": [
    "# waf to find the sum of 1 to 10 sum of even numbers.\n",
    "\n",
    "\n",
    "def even_num(x,y):\n",
    "    total_even=0\n",
    "    for i in range(x,y):\n",
    "        if i%2==0:\n",
    "            total_even+=i\n",
    "\n",
    "    print(total_even)\n",
    "\n",
    "even_num(1,11)"
   ]
  },
  {
   "cell_type": "code",
   "execution_count": 16,
   "id": "c98930eb-f6f9-41ba-ad8e-cc2926452017",
   "metadata": {},
   "outputs": [
    {
     "name": "stdout",
     "output_type": "stream",
     "text": [
      "30\n"
     ]
    }
   ],
   "source": [
    "def even_loc():\n",
    "    last_val=11\n",
    "    total=0\n",
    "    for i in range(1,last_val):\n",
    "        if i%2==0:\n",
    "            total+=i\n",
    "    print(total)\n",
    "\n",
    "even_loc()"
   ]
  },
  {
   "cell_type": "code",
   "execution_count": 21,
   "id": "285ffb1a-da92-4b73-8efd-dede96781c7b",
   "metadata": {},
   "outputs": [
    {
     "name": "stdout",
     "output_type": "stream",
     "text": [
      "[2, 4, 6, 8, 10] = 30\n"
     ]
    }
   ],
   "source": [
    "x1=11\n",
    "def even_glob():\n",
    "    list_even=[]\n",
    "    total=0\n",
    "    for i in range(1,x1):\n",
    "        if i%2==0:\n",
    "            list_even.append(i)\n",
    "            total+=i\n",
    "    print(list_even,'=',total)\n",
    "even_glob()"
   ]
  },
  {
   "cell_type": "code",
   "execution_count": 22,
   "id": "5fbeb957-391f-4be9-adab-a41891c8a6b3",
   "metadata": {},
   "outputs": [
    {
     "name": "stdout",
     "output_type": "stream",
     "text": [
      "[2, 4, 6, 8, 10] = 30\n"
     ]
    }
   ],
   "source": [
    "\n",
    "def even_glob(x1):\n",
    "    list_even=[]\n",
    "    total=0\n",
    "    for i in range(1,x1):\n",
    "        if i%2==0:\n",
    "            list_even.append(i)\n",
    "            total+=i\n",
    "    print(list_even,'=',total)\n",
    "even_glob(11)"
   ]
  },
  {
   "cell_type": "code",
   "execution_count": 30,
   "id": "8b6659aa-d357-4c22-baa9-04176d3d7059",
   "metadata": {},
   "outputs": [
    {
     "name": "stdout",
     "output_type": "stream",
     "text": [
      "[2, 4, 6, 8, 10, 12, 14, 16, 18, 20] 110\n"
     ]
    }
   ],
   "source": [
    "def even_loc(x1):\n",
    "    list1=[]\n",
    "    last_val=x1\n",
    "    total=0\n",
    "    for i in range(1,last_val+1):\n",
    "        if i%2==0:\n",
    "            list1.append(i)\n",
    "            total+=i\n",
    "    print(list1,total)\n",
    "\n",
    "even_loc(20)"
   ]
  },
  {
   "cell_type": "code",
   "execution_count": 33,
   "id": "80e2def0-6d9e-4214-aaf4-ba08c8fc978b",
   "metadata": {},
   "outputs": [
    {
     "name": "stdin",
     "output_type": "stream",
     "text": [
      "Enter your range: 40\n"
     ]
    },
    {
     "name": "stdout",
     "output_type": "stream",
     "text": [
      "[2, 4, 6, 8, 10, 12, 14, 16, 18, 20, 22, 24, 26, 28, 30, 32, 34, 36, 38, 40] 420\n"
     ]
    }
   ],
   "source": [
    "def even_loc(x1):\n",
    "    list1=[]\n",
    "    last_val=x1\n",
    "    total=0\n",
    "    for i in range(1,last_val+1):\n",
    "        if i%2==0:\n",
    "            list1.append(i)\n",
    "            total+=i\n",
    "    print(list1,total)\n",
    "user1=int(input('Enter your range:'))\n",
    "even_loc(user1)"
   ]
  },
  {
   "cell_type": "code",
   "execution_count": null,
   "id": "3eed1924-9aab-4381-95ef-1d9b1d8a6e0f",
   "metadata": {},
   "outputs": [],
   "source": [
    "print('Hello world')"
   ]
  },
  {
   "cell_type": "code",
   "execution_count": 39,
   "id": "0bbe4ee2-e1f9-4e58-a225-b43d2184e2cb",
   "metadata": {},
   "outputs": [
    {
     "name": "stdin",
     "output_type": "stream",
     "text": [
      "Enter your range: 10\n"
     ]
    },
    {
     "name": "stdout",
     "output_type": "stream",
     "text": [
      "[2, 4, 6, 8, 10] 30\n"
     ]
    }
   ],
   "source": [
    "def even_loc():\n",
    "    last_val=int(input('Enter your range:'))\n",
    "    list1=[]\n",
    "    total=0\n",
    "    for i in range(1,last_val+1):\n",
    "        if i%2==0:\n",
    "            list1.append(i)\n",
    "            total+=i\n",
    "    print(list1,total)\n",
    "\n",
    "even_loc()"
   ]
  },
  {
   "cell_type": "code",
   "execution_count": null,
   "id": "49c2a9ad-f2cd-4f2b-b612-ee5a7c13ce26",
   "metadata": {},
   "outputs": [],
   "source": []
  },
  {
   "cell_type": "code",
   "execution_count": null,
   "id": "344c45fb-931e-4067-8dff-ada290bd6a23",
   "metadata": {},
   "outputs": [],
   "source": []
  },
  {
   "cell_type": "code",
   "execution_count": 40,
   "id": "59806854-2e38-4d3d-8d61-0eb814e73ebf",
   "metadata": {},
   "outputs": [
    {
     "name": "stdin",
     "output_type": "stream",
     "text": [
      "Enter your range: 100\n"
     ]
    },
    {
     "name": "stdout",
     "output_type": "stream",
     "text": [
      "[2, 4, 6, 8, 10, 12, 14, 16, 18, 20, 22, 24, 26, 28, 30, 32, 34, 36, 38, 40, 42, 44, 46, 48, 50, 52, 54, 56, 58, 60, 62, 64, 66, 68, 70, 72, 74, 76, 78, 80, 82, 84, 86, 88, 90, 92, 94, 96, 98, 100] 2550\n"
     ]
    }
   ],
   "source": [
    "even_loc()"
   ]
  },
  {
   "cell_type": "code",
   "execution_count": null,
   "id": "0dc6b47e-0e09-468b-9e1b-a7f57cc418c7",
   "metadata": {},
   "outputs": [],
   "source": [
    "# Write a function to take three input from user and calculate the sum of two value and third values is used for divide the \n",
    "# total of two value."
   ]
  },
  {
   "cell_type": "code",
   "execution_count": 42,
   "id": "d182545d-ca4c-4ce4-8245-b23a1214475a",
   "metadata": {},
   "outputs": [
    {
     "name": "stdin",
     "output_type": "stream",
     "text": [
      "Enter first number: 10\n",
      "Enter second number: 20\n"
     ]
    },
    {
     "name": "stdout",
     "output_type": "stream",
     "text": [
      "The sum of two numbers is 10 and 20 is 30\n"
     ]
    },
    {
     "name": "stdin",
     "output_type": "stream",
     "text": [
      "Enter third value for value the sum: 2\n"
     ]
    },
    {
     "name": "stdout",
     "output_type": "stream",
     "text": [
      "After the sum of your number 30 then divided by 2 your value will be 15.0 \n"
     ]
    }
   ],
   "source": [
    "def func1():\n",
    "    x=int(input('Enter first number:'))\n",
    "    y=int(input('Enter second number:'))\n",
    "    sum1=x+y\n",
    "    print(f'The sum of two numbers is {x} and {y} is {sum1}')\n",
    "    z=int(input('Enter third value for value the sum:'))\n",
    "    div=sum1/z\n",
    "    print(f'After the sum of your number {sum1} then divided by {z} your value will be {div} ')\n",
    "\n",
    "\n",
    "func1()"
   ]
  },
  {
   "cell_type": "code",
   "execution_count": 48,
   "id": "41a185c6-7453-4df4-8864-bd50d2650919",
   "metadata": {},
   "outputs": [
    {
     "name": "stdin",
     "output_type": "stream",
     "text": [
      "Enter first number: 10\n",
      "Enter second number: 20\n"
     ]
    },
    {
     "name": "stdout",
     "output_type": "stream",
     "text": [
      "30\n"
     ]
    },
    {
     "name": "stdin",
     "output_type": "stream",
     "text": [
      "Enter third number to divide 5\n"
     ]
    },
    {
     "name": "stdout",
     "output_type": "stream",
     "text": [
      "After the division your value will be 6.0\n"
     ]
    }
   ],
   "source": [
    "def function1(a,b):\n",
    "    total=a+b\n",
    "    print(total)\n",
    "    c=int(input('Enter third number to divide'))\n",
    "    div1=total/c\n",
    "    print(f'After the division your value will be {div1}')\n",
    "\n",
    "a=int(input('Enter first number:'))\n",
    "b=int(input('Enter second number:'))\n",
    "\n",
    "function1(a,b)"
   ]
  },
  {
   "cell_type": "code",
   "execution_count": 68,
   "id": "50739a91-933c-4209-8d27-a1bf11c3db39",
   "metadata": {},
   "outputs": [
    {
     "name": "stdin",
     "output_type": "stream",
     "text": [
      "Enter first number: 10\n",
      "Enter second number: 20\n"
     ]
    },
    {
     "name": "stdout",
     "output_type": "stream",
     "text": [
      "30\n"
     ]
    },
    {
     "name": "stdin",
     "output_type": "stream",
     "text": [
      "Do your want to divide this number[yes/No] YES\n"
     ]
    },
    {
     "name": "stdout",
     "output_type": "stream",
     "text": [
      "YES\n"
     ]
    },
    {
     "name": "stdin",
     "output_type": "stream",
     "text": [
      "Enter number to divide this value: 5\n"
     ]
    },
    {
     "name": "stdout",
     "output_type": "stream",
     "text": [
      "After the dividion value is 6.0 \n",
      "You value will be displayed.\n"
     ]
    }
   ],
   "source": [
    "def function1(a,b):\n",
    "    total=a+b\n",
    "    print(total)\n",
    "    user2=input('Do your want to divide this number[yes/No]')\n",
    "    print(user2)\n",
    "    if user2.lower()=='yes':\n",
    "        user1=int(input('Enter number to divide this value:'))\n",
    "        z=total/user1\n",
    "        print(f'After the dividion value is {z} \\nYou value will be displayed.')\n",
    "    else:\n",
    "        print('Thank You Without Division')\n",
    "        \n",
    "    \n",
    "\n",
    "a=int(input('Enter first number:'))\n",
    "b=int(input('Enter second number:'))\n",
    "\n",
    "function1(a,b)"
   ]
  },
  {
   "cell_type": "code",
   "execution_count": 1,
   "id": "caeeea2f-81c2-4d9f-af41-ad1140f541ca",
   "metadata": {},
   "outputs": [
    {
     "name": "stdin",
     "output_type": "stream",
     "text": [
      "Enter age of first person: 10\n",
      "Enter age of second person: 120\n",
      "Enter age of third person: 200\n"
     ]
    },
    {
     "name": "stdout",
     "output_type": "stream",
     "text": [
      "The person age 200 is greater than 10,120\n"
     ]
    }
   ],
   "source": [
    "# Write a function to find the greatest amoung three user input age of person.\n",
    "\n",
    "def func():\n",
    "    x=int(input('Enter age of first person:'))\n",
    "    y=int(input('Enter age of second person:'))\n",
    "    z=int(input('Enter age of third person:'))\n",
    "\n",
    "    if x>y and x>z:\n",
    "        print(f'The person age {x} is greater than {y},{z}')\n",
    "    elif y>x and y>z:\n",
    "        print(f'The person age {y} is greater than {x},{z}')\n",
    "    else:\n",
    "        print(f'The person age {z} is greater than {x},{y}')\n",
    "\n",
    "func()"
   ]
  },
  {
   "cell_type": "code",
   "execution_count": 4,
   "id": "576f64a0-d190-4637-8c1e-7a9bb8a2fff8",
   "metadata": {},
   "outputs": [
    {
     "name": "stdin",
     "output_type": "stream",
     "text": [
      "Enter age of first person: 100\n",
      "Enter age of second person: 120\n",
      "Enter age of third person: 30\n"
     ]
    },
    {
     "data": {
      "text/plain": [
       "120"
      ]
     },
     "execution_count": 4,
     "metadata": {},
     "output_type": "execute_result"
    }
   ],
   "source": [
    "def max_of_two(x,y):\n",
    "    if x>y:\n",
    "        return x\n",
    "    return y\n",
    "def max_of_three(x,y,z):\n",
    "    return max_of_two(x, max_of_two(y,z))\n",
    "\n",
    "x=int(input('Enter age of first person:'))\n",
    "y=int(input('Enter age of second person:'))\n",
    "z=int(input('Enter age of third person:'))\n",
    "max_of_three(x,y,z)"
   ]
  },
  {
   "cell_type": "code",
   "execution_count": 15,
   "id": "c0b8b47d-34b8-4385-bc05-468d3385809a",
   "metadata": {},
   "outputs": [
    {
     "name": "stdin",
     "output_type": "stream",
     "text": [
      "Enter any value: 39\n"
     ]
    },
    {
     "name": "stdout",
     "output_type": "stream",
     "text": [
      "The Exponent of your number value is: 112595147462071192539789448988889059930192105219196517009951959\n"
     ]
    }
   ],
   "source": [
    "# Write a function to find the exponent of user input number. Alert: user input number should be in \n",
    "# positve value not in negative\n",
    "\n",
    "\n",
    "def func1():\n",
    "    user1=int(input('Enter any value:'))\n",
    "    if user1>=0:\n",
    "        if user1<=40:\n",
    "            expo=user1**user1\n",
    "            print(f'The Exponent of your number value is: {expo}')\n",
    "        else:\n",
    "            print('You value is not greater than 40.')\n",
    "    else:\n",
    "        print('Enter Positive value only.')\n",
    "\n",
    "func1()"
   ]
  },
  {
   "cell_type": "code",
   "execution_count": null,
   "id": "87de79ab-6300-4e8c-a272-a67f3749fd2b",
   "metadata": {},
   "outputs": [],
   "source": []
  },
  {
   "cell_type": "code",
   "execution_count": 17,
   "id": "37f9ccf4-39c9-4e4b-b0c3-59072ae1dd02",
   "metadata": {},
   "outputs": [
    {
     "name": "stdin",
     "output_type": "stream",
     "text": [
      "Enter your starting range: 10\n",
      "Enter your ending range: 20\n"
     ]
    },
    {
     "name": "stdout",
     "output_type": "stream",
     "text": [
      "10**2=100\n",
      "11**2=121\n",
      "12**2=144\n",
      "13**2=169\n",
      "14**2=196\n",
      "15**2=225\n",
      "16**2=256\n",
      "17**2=289\n",
      "18**2=324\n",
      "19**2=361\n",
      "20**2=400\n"
     ]
    }
   ],
   "source": [
    "# Write a program to find the square of number given range by the user.\n",
    "# Starting and ending value taken from the user.\n",
    "\n",
    "\n",
    "def square():\n",
    "    x=int(input('Enter your starting range:'))\n",
    "    y=int(input('Enter your ending range:'))\n",
    "    while x<y+1:\n",
    "        sqr=x**2\n",
    "        print(f'{x}**2={sqr}')\n",
    "        x+=1\n",
    "square()"
   ]
  },
  {
   "cell_type": "code",
   "execution_count": 20,
   "id": "7cedaa5a-ffb4-4535-a0d5-325b6c5108ff",
   "metadata": {},
   "outputs": [
    {
     "name": "stdin",
     "output_type": "stream",
     "text": [
      "Enter your starting range: 10\n",
      "Enter your ending range: 20\n"
     ]
    },
    {
     "name": "stdout",
     "output_type": "stream",
     "text": [
      "10**2=100\n",
      "11**2=121\n",
      "12**2=144\n",
      "13**2=169\n",
      "14**2=196\n",
      "15**2=225\n",
      "16**2=256\n",
      "17**2=289\n",
      "18**2=324\n",
      "19**2=361\n",
      "20**2=400\n"
     ]
    }
   ],
   "source": [
    "def func1():\n",
    "    x=int(input('Enter your starting range:'))\n",
    "    y=int(input('Enter your ending range:'))\n",
    "    for i in range(x,y+1):\n",
    "        sqr1=i**2\n",
    "        print(f'{i}**2={sqr1}')\n",
    "\n",
    "\n",
    "func1()"
   ]
  },
  {
   "cell_type": "code",
   "execution_count": 3,
   "id": "71f12969-46c8-4ab1-baa7-fdc5e641a5c5",
   "metadata": {},
   "outputs": [
    {
     "name": "stdin",
     "output_type": "stream",
     "text": [
      "Enter your roll no.:\n",
      " 100\n"
     ]
    },
    {
     "name": "stdout",
     "output_type": "stream",
     "text": [
      "Student is absent No roll number found 100\n"
     ]
    }
   ],
   "source": [
    "# Define a funciton that accepts roll number and returns wheter the student is present or not not.\n",
    "# roll_no=[23,43,22,56,3,5,10,15]\n",
    "\n",
    "def stu_rollno():\n",
    "    roll_no=[23,43,22,56,3,5,10,15]\n",
    "    user1=int(input('Enter your roll no.:\\n'))\n",
    "    if user1 in roll_no:\n",
    "        print(f'Student is present of roll number is {user1}')\n",
    "    else:\n",
    "        print(f'Student is absent No roll number found {user1}')\n",
    "\n",
    "\n",
    "stu_rollno()"
   ]
  },
  {
   "cell_type": "code",
   "execution_count": 25,
   "id": "5ed06f6e-d4d8-4c4c-9de0-8cb941b70370",
   "metadata": {},
   "outputs": [
    {
     "name": "stdin",
     "output_type": "stream",
     "text": [
      "Enter your roll no.:\n",
      " 1\n"
     ]
    },
    {
     "name": "stdout",
     "output_type": "stream",
     "text": [
      "Student is absent No roll number found 1\n"
     ]
    },
    {
     "name": "stdin",
     "output_type": "stream",
     "text": [
      "Do You wan't to add this roll no [Yes/No or Y/N] yes\n"
     ]
    },
    {
     "name": "stdout",
     "output_type": "stream",
     "text": [
      "Student Added Successfully!\n",
      "New List: [23, 43, 22, 56, 3, 5, 10, 15, 1]\n"
     ]
    }
   ],
   "source": [
    "# Define a funciton that accepts roll number and returns wheter the student is present or not not.\n",
    "# roll_no=[23,43,22,56,3,5,10,15]\n",
    "\n",
    "# if student is absent open input box and do you wan't to add this student if yes then add in the roll_no list, \n",
    "# if press no then terminate the condtion.\n",
    "\n",
    "def stu_rollno():\n",
    "    roll_no=[23,43,22,56,3,5,10,15]\n",
    "    \n",
    "    user1=int(input('Enter your roll no.:\\n'))\n",
    "    if user1 in roll_no:\n",
    "        print(f'Student is present of roll number is {user1}')\n",
    "        \n",
    "    else:\n",
    "        print(f'Student is absent No roll number found {user1}')\n",
    "        if user1 not in roll_no:\n",
    "            x=input(\"Do You wan't to add this roll no [Yes/No or Y/N]\")\n",
    "            \n",
    "            if x.lower()=='yes':\n",
    "                roll_no.append(user1)\n",
    "                print('Student Added Successfully!')\n",
    "                print('New List:',roll_no)\n",
    "            else:\n",
    "                print('Thanks! Without Adding Student')\n",
    "                   \n",
    "stu_rollno()"
   ]
  },
  {
   "cell_type": "code",
   "execution_count": 26,
   "id": "05911abd-0bc1-4302-88d4-c2d2c7d5431c",
   "metadata": {},
   "outputs": [
    {
     "name": "stdin",
     "output_type": "stream",
     "text": [
      "Enter your roll no.:\n",
      " 1\n"
     ]
    },
    {
     "name": "stdout",
     "output_type": "stream",
     "text": [
      "Student is absent No roll number found 1\n"
     ]
    },
    {
     "name": "stdin",
     "output_type": "stream",
     "text": [
      "Do You wan't to add this roll no [Yes/No or Y/N] yes\n"
     ]
    },
    {
     "name": "stdout",
     "output_type": "stream",
     "text": [
      "Student Added Successfully!\n",
      "New List: [23, 43, 22, 56, 3, 5, 10, 15, 1]\n"
     ]
    }
   ],
   "source": [
    "stu_rollno()"
   ]
  },
  {
   "cell_type": "code",
   "execution_count": 30,
   "id": "8659df35-d866-426e-a77b-1789610ea073",
   "metadata": {},
   "outputs": [
    {
     "name": "stdin",
     "output_type": "stream",
     "text": [
      "Enter your name: The quick brown fox jumps over the lazy dog.\n"
     ]
    },
    {
     "name": "stdout",
     "output_type": "stream",
     "text": [
      "Total Vowels in your name is: 11\n",
      "Total Consonent in your name is: 33\n",
      "Total Characters in your name is: 44\n"
     ]
    }
   ],
   "source": [
    "# Write a function counts vowels and consonent in your name.\n",
    "\n",
    "# a,e,i,o,u is vowel and remaining 21 characters are consonent..??\n",
    "\n",
    "def count():\n",
    "    user1=input('Enter your name:')\n",
    "    vow=0\n",
    "    cons=0\n",
    "    for i in range(len(user1)):\n",
    "        if user1[i] in ['a','e','i','o','u']:\n",
    "            vow=vow+1\n",
    "        else:\n",
    "            cons=cons+1\n",
    "    print('Total Vowels in your name is:',vow)\n",
    "    print('Total Consonent in your name is:',cons)\n",
    "    print('Total Characters in your name is:',len(user1))\n",
    "count()"
   ]
  },
  {
   "cell_type": "code",
   "execution_count": 5,
   "id": "fff45f48-a9b5-40b0-bf54-808e2e4d78a2",
   "metadata": {},
   "outputs": [
    {
     "name": "stdin",
     "output_type": "stream",
     "text": [
      "Enter Your name:  dhoni\n"
     ]
    },
    {
     "name": "stdout",
     "output_type": "stream",
     "text": [
      "Upper Text is : DHONI\n",
      "Total vowel Characters in your name: 2 \n",
      "Total Consonent Characters in your name: 3\n"
     ]
    }
   ],
   "source": [
    "# Write a function that accept the input from user's name in lower case and return output user's name in uppercase. and count\n",
    "# the total vowels and consonent in user's name?\n",
    "\n",
    "def response():\n",
    "    text=input('Enter Your name: ')\n",
    "    upper=text.upper()\n",
    "    print('Upper Text is :',upper)\n",
    "    vow=0\n",
    "    cons=0\n",
    "    for i in range(len(text)):\n",
    "        if text[i] in ['a','e','i','o','u']:\n",
    "            vow=vow+1\n",
    "        else:\n",
    "            cons=cons+1\n",
    "\n",
    "    print('Total vowel Characters in your name:',vow,'\\nTotal Consonent Characters in your name:',cons)\n",
    "\n",
    "response()"
   ]
  },
  {
   "cell_type": "code",
   "execution_count": 12,
   "id": "a73a89e5-b16d-44a9-80c7-2abba2ac67a0",
   "metadata": {},
   "outputs": [
    {
     "name": "stdin",
     "output_type": "stream",
     "text": [
      "Enter Your name:  Ajinkya\n"
     ]
    },
    {
     "name": "stdout",
     "output_type": "stream",
     "text": [
      "Upper Text is : AJINKYA\n",
      "Total vowel Characters in your name: 3 \n",
      "Total Consonent Characters in your name: 4\n"
     ]
    }
   ],
   "source": [
    "def response():\n",
    "    text=input('Enter Your name: ')\n",
    "    upper=text.upper()\n",
    "    print('Upper Text is :',upper)\n",
    "    vow=0\n",
    "    cons=0\n",
    "    for i in range(len(text)):\n",
    "        if text[i] in ['a','e','i','o','u','A','E','I','O',\"U\",'U']:\n",
    "            vow=vow+1\n",
    "        else:\n",
    "            cons=cons+1\n",
    "\n",
    "    print('Total vowel Characters in your name:',vow,'\\nTotal Consonent Characters in your name:',cons)\n",
    "response()"
   ]
  },
  {
   "cell_type": "code",
   "execution_count": 11,
   "id": "df3f7c52-1eaf-400f-9f67-0ddb184a1591",
   "metadata": {},
   "outputs": [
    {
     "name": "stdin",
     "output_type": "stream",
     "text": [
      "Enter any name rupali\n"
     ]
    },
    {
     "name": "stdout",
     "output_type": "stream",
     "text": [
      "User input in UPPER CASE: RUPALI\n",
      "Vowels are :  3\n",
      "Conso are :  3\n"
     ]
    }
   ],
   "source": [
    "#WAP to input a name in lower case and output it uppercase, count the total vowel and consonent in user's name\n",
    "\n",
    "def user_name():\n",
    "    x = input(\"Enter any name\")\n",
    "    print(\"User input in UPPER CASE:\", x.upper())\n",
    "\n",
    "    vowels = 'aeiouAEIOU'\n",
    "    conso = \" BCDFGHJKLMNPQRSTVWXYZbcdfghjklmnpqrstvwxyz\"\n",
    "\n",
    "    vowel_count = 0\n",
    "    conso_cpunt = 0\n",
    "    for i in x:\n",
    "        if i in vowels:\n",
    "            vowel_count+=1\n",
    "        elif i in conso:\n",
    "            conso_cpunt+=1\n",
    "    print(\"Vowels are : \",vowel_count)\n",
    "    print(\"Conso are : \",conso_cpunt)\n",
    "    \n",
    "\n",
    "\n",
    "user_name()"
   ]
  },
  {
   "cell_type": "code",
   "execution_count": 8,
   "id": "27c20788-5d94-4c3b-8c09-523942473e5e",
   "metadata": {},
   "outputs": [
    {
     "name": "stdout",
     "output_type": "stream",
     "text": [
      "User input in UPPER CASE: RUPALI\n",
      "Vowels are :  3\n",
      "Conso are :  3\n"
     ]
    }
   ],
   "source": [
    "user_name()"
   ]
  },
  {
   "cell_type": "code",
   "execution_count": 9,
   "id": "65ac777f-2cb3-4f5d-a662-2247d6e6214b",
   "metadata": {},
   "outputs": [
    {
     "name": "stdin",
     "output_type": "stream",
     "text": [
      "Enter Your name:  rupali\n"
     ]
    },
    {
     "name": "stdout",
     "output_type": "stream",
     "text": [
      "Upper Text is : RUPALI\n",
      "Total vowel Characters in your name: 3 \n",
      "Total Consonent Characters in your name: 3\n"
     ]
    }
   ],
   "source": [
    "response()"
   ]
  },
  {
   "cell_type": "code",
   "execution_count": 10,
   "id": "3f6cc5c6-8c05-4169-bcfc-2b707936c2f7",
   "metadata": {},
   "outputs": [
    {
     "name": "stdin",
     "output_type": "stream",
     "text": [
      "Enter any name rupali\n"
     ]
    },
    {
     "name": "stdout",
     "output_type": "stream",
     "text": [
      "User input in UPPER CASE: RUPALI\n",
      "Vowels are :  3\n",
      "Conso are :  3\n"
     ]
    }
   ],
   "source": [
    "x = input(\"Enter any name\")\n",
    "\n",
    "user_name()"
   ]
  },
  {
   "cell_type": "code",
   "execution_count": 26,
   "id": "f3d437e8-abfb-46a7-b8dd-834c2bbb045d",
   "metadata": {},
   "outputs": [
    {
     "name": "stdin",
     "output_type": "stream",
     "text": [
      "Enter any name ajinkya\n"
     ]
    },
    {
     "name": "stdout",
     "output_type": "stream",
     "text": [
      "Name in Upper: AJINKYA \n",
      "Total vowels char in your name ['a', 'i', 'a'] = 3 \n",
      "Total consonent char in your name is: ['j', 'n', 'k', 'y'] = 4\n"
     ]
    }
   ],
   "source": [
    "def count_vowels():\n",
    "    x = input(\"Enter any name\")\n",
    "    y=x.upper()\n",
    "    vowels = 'aeiouAEIOU'\n",
    "    vow=[]\n",
    "    cons=[]\n",
    "    count_vow = 0 \n",
    "    count_cons=0\n",
    "    i = 0\n",
    "    while i < len(x):\n",
    "        if x[i] in vowels:\n",
    "            count_vow+=1\n",
    "            vow.append(x[i])\n",
    "        else:\n",
    "            count_cons+=1\n",
    "            cons.append(x[i])\n",
    "        i += 1\n",
    "        \n",
    "    print('Name in Upper:',y,'\\nTotal vowels char in your name',vow,\"=\",count_vow,'\\nTotal consonent char in your name is:',cons,\"=\",count_cons)\n",
    "\n",
    "count_vowels()"
   ]
  },
  {
   "cell_type": "code",
   "execution_count": 27,
   "id": "afeb3506-ea30-441f-b5ab-eda801ccd4f4",
   "metadata": {},
   "outputs": [
    {
     "name": "stdin",
     "output_type": "stream",
     "text": [
      "Enter any radius of circle: 10\n"
     ]
    },
    {
     "name": "stdout",
     "output_type": "stream",
     "text": [
      "Total area of circle is= 314.1592653589793 \n",
      "Circumference of circle is= 62.83185307179586\n"
     ]
    }
   ],
   "source": [
    "# Define a function that accept radius and return the area and circumerence of the circle.\n",
    "# area of circle=pi*r*r and pi*r**2\n",
    "# circumference of circle= 2*pi*r  # 3.147\n",
    "\n",
    "import math\n",
    "\n",
    "def circle():\n",
    "    x=int(input('Enter any radius of circle:'))\n",
    "\n",
    "    area=math.pi*x*x\n",
    "    circum=2*math.pi*x\n",
    "    print('Total area of circle is=',area,'\\nCircumference of circle is=',circum)\n",
    "\n",
    "\n",
    "circle()"
   ]
  },
  {
   "cell_type": "code",
   "execution_count": 4,
   "id": "6199a82e-9e15-4469-8f45-2a8b1db8a9d5",
   "metadata": {},
   "outputs": [
    {
     "data": {
      "text/plain": [
       "6"
      ]
     },
     "execution_count": 4,
     "metadata": {},
     "output_type": "execute_result"
    }
   ],
   "source": [
    "def factorial(n):\n",
    "    if n==0:\n",
    "        return 1\n",
    "    else:\n",
    "        result=1\n",
    "        for i in range(1,n+1):\n",
    "            result*=i\n",
    "        return result\n",
    "\n",
    "\n",
    "number=3\n",
    "factorial(number)"
   ]
  },
  {
   "cell_type": "code",
   "execution_count": null,
   "id": "6700d6c1-4fdf-4f10-b913-d5a6da006f1e",
   "metadata": {},
   "outputs": [],
   "source": []
  },
  {
   "cell_type": "code",
   "execution_count": 11,
   "id": "6666bee1-07ab-415f-8034-6283011a81c5",
   "metadata": {},
   "outputs": [
    {
     "name": "stdin",
     "output_type": "stream",
     "text": [
      "Enter number of elements you want in list 7\n",
      "Element 1 of list :  4\n",
      "Element 2 of list :  5\n",
      "Element 3 of list :  6\n",
      "Element 4 of list :  9\n",
      "Element 5 of list :  5\n",
      "Element 6 of list :  3\n",
      "Element 7 of list :  12\n"
     ]
    },
    {
     "name": "stdout",
     "output_type": "stream",
     "text": [
      "Your list is :  [4, 5, 6, 9, 5, 3, 12]\n",
      "squared list is :  [16, 25, 36, 81, 25, 9, 144]\n"
     ]
    }
   ],
   "source": [
    "#square of each element in given list \n",
    "\n",
    "def square_find():\n",
    "    list = []\n",
    "    sq_list = []\n",
    "    x = int(input(\"Enter number of elements you want in list\"))\n",
    "    for i in range(1,x+1):\n",
    "        element = int(input(f\"Element {i} of list : \"))\n",
    "        list.append(element)\n",
    "    print(\"Your list is : \",list)\n",
    "    for i in list: \n",
    "        z = i*i \n",
    "        sq_list.append(z)\n",
    "        i+=1\n",
    "    print(\"squared list is : \",sq_list)\n",
    "\n",
    "\n",
    "square_find()"
   ]
  },
  {
   "cell_type": "code",
   "execution_count": 13,
   "id": "2ba4177d-7303-4e20-98cb-4aa84e90c045",
   "metadata": {},
   "outputs": [
    {
     "name": "stdin",
     "output_type": "stream",
     "text": [
      "Enter number of elements you want in list :  3\n",
      " Enter your element 1 of list :  45\n",
      " Enter your element 2 of list :  56\n",
      " Enter your element 3 of list :  36\n"
     ]
    },
    {
     "name": "stdout",
     "output_type": "stream",
     "text": [
      "Your list is :  [45, 56, 36]\n",
      "['odd', 'even', 'even']\n"
     ]
    }
   ],
   "source": [
    "#Check number is even or odd and print that in list \n",
    "\n",
    "def check_num():\n",
    "    list = []\n",
    "    new_list = []\n",
    "    x = int(input(\"Enter number of elements you want in list : \"))\n",
    "    for i in range (1,x+1):\n",
    "        ele = int(input(f\" Enter your element {i} of list : \"))\n",
    "        list.append(ele)\n",
    "    print(\"Your list is : \",list)\n",
    "    for i in list:\n",
    "        if i % 2 == 0:\n",
    "            i+=1\n",
    "            new_list.append(\"even\")\n",
    "        else:\n",
    "            new_list.append(\"odd\")\n",
    "    print(new_list)\n",
    "\n",
    "check_num()"
   ]
  },
  {
   "cell_type": "code",
   "execution_count": 2,
   "id": "848cc189-11d6-4ce3-ae55-f07859227a4d",
   "metadata": {},
   "outputs": [
    {
     "name": "stdin",
     "output_type": "stream",
     "text": [
      "Enter height of triangle :  -45\n",
      "Enter base of triangle :  12\n"
     ]
    },
    {
     "name": "stdout",
     "output_type": "stream",
     "text": [
      "Enter positive non zero numbers only\n"
     ]
    }
   ],
   "source": [
    "#Area of triangle using base and height : \n",
    "\n",
    "def area_tri():\n",
    "    h = int(input(\"Enter height of triangle : \"))\n",
    "    b = int(input(\"Enter base of triangle : \"))\n",
    "    if h > 0 and b > 0:\n",
    "        area = 0.5 * h * b \n",
    "        print(\"Area of given triangle is : \",area)\n",
    " \n",
    "    else:\n",
    "        print(\"Enter positive non zero numbers only\")\n",
    "    \n",
    "\n",
    "area_tri()"
   ]
  },
  {
   "cell_type": "code",
   "execution_count": 15,
   "id": "e0f3cec8-8b1e-419d-be91-1185a83796e6",
   "metadata": {},
   "outputs": [
    {
     "name": "stdin",
     "output_type": "stream",
     "text": [
      "Enter number of elements you want in list :  5\n",
      "Your string 1 :  rupali\n",
      "Your string 2 :  aman\n",
      "Your string 3 :  rohit\n",
      "Your string 4 :  dhoni\n",
      "Your string 5 :  mahi\n"
     ]
    },
    {
     "name": "stdout",
     "output_type": "stream",
     "text": [
      "Your list of string :  ['rupali', 'aman', 'rohit', 'dhoni', 'mahi']\n",
      "Alphabetically sorted list :  ['aman', 'dhoni', 'mahi', 'rohit', 'rupali']\n"
     ]
    }
   ],
   "source": [
    "def string_alpha():\n",
    "    list = []\n",
    "    s = int(input(\"Enter number of elements you want in list : \"))\n",
    "    for i in range(1,s+1):\n",
    "        ele = input(f\"Your string {i} : \")\n",
    "        list.append(ele)\n",
    "    print(\"Your list of string : \",list)\n",
    "    for i in list:\n",
    "        list.sort()\n",
    "    print(\"Alphabetically sorted list : \",list)\n",
    "\n",
    "string_alpha()"
   ]
  },
  {
   "cell_type": "code",
   "execution_count": 18,
   "id": "d56452a9-4bb7-4a4a-be27-783c6efd8f31",
   "metadata": {},
   "outputs": [
    {
     "name": "stdin",
     "output_type": "stream",
     "text": [
      "Enter any number :  5\n"
     ]
    },
    {
     "name": "stdout",
     "output_type": "stream",
     "text": [
      "Factorial of 5 is :  120\n"
     ]
    }
   ],
   "source": [
    "def factorial():\n",
    "    num = int(input(\"Enter any number : \"))\n",
    "    \n",
    "    i = 1\n",
    "    f = 1\n",
    "    while i<=num:\n",
    "        f = f*i\n",
    "        i+=1\n",
    "    print(f\"Factorial of {num} is : \",f)\n",
    "factorial()"
   ]
  },
  {
   "cell_type": "code",
   "execution_count": 1,
   "id": "888b050a-9b61-4421-a514-3ef5fd6e819e",
   "metadata": {},
   "outputs": [],
   "source": [
    "# Write a function that converts a decimal numbers to binary numbers.\n",
    "# write a function to find the lcm of two numbers given by the user.\n",
    "# write a function to find the hcf of two number given by the user."
   ]
  },
  {
   "cell_type": "code",
   "execution_count": 5,
   "id": "bede1f07-e0b3-4a6d-8d20-0019d4d468f9",
   "metadata": {},
   "outputs": [
    {
     "name": "stdout",
     "output_type": "stream",
     "text": [
      "1000100\n"
     ]
    }
   ],
   "source": [
    "print(bin(68)[2:])"
   ]
  },
  {
   "cell_type": "code",
   "execution_count": 6,
   "id": "5645d2bb-1146-4ef3-82f4-7225ea7af3d0",
   "metadata": {},
   "outputs": [
    {
     "data": {
      "text/plain": [
       "'0b1011001'"
      ]
     },
     "execution_count": 6,
     "metadata": {},
     "output_type": "execute_result"
    }
   ],
   "source": [
    "bin(89)"
   ]
  },
  {
   "cell_type": "code",
   "execution_count": 25,
   "id": "3ca4c157-90a3-41b7-9ca9-6bc760bdd074",
   "metadata": {},
   "outputs": [
    {
     "name": "stdout",
     "output_type": "stream",
     "text": [
      "0101101110"
     ]
    }
   ],
   "source": [
    "def deci_to_bin(x):\n",
    "    if x>=1:\n",
    "        deci_to_bin(x//2)\n",
    "        \n",
    "        \n",
    "    print(x%2,end='')\n",
    "    \n",
    "\n",
    "deci_to_bin(366)\n"
   ]
  },
  {
   "cell_type": "code",
   "execution_count": 22,
   "id": "a7f040b0-50d6-4201-ba71-f8eee3e61a09",
   "metadata": {},
   "outputs": [
    {
     "name": "stdin",
     "output_type": "stream",
     "text": [
      "Enter value 101101110\n"
     ]
    },
    {
     "name": "stdout",
     "output_type": "stream",
     "text": [
      "Binary to Decimal is :  366\n"
     ]
    }
   ],
   "source": [
    "# covert binary to decimal\n",
    "\n",
    "def bin_to_dec(binary):\n",
    "    decimal = 0\n",
    "    i = 0\n",
    "    while binary != 0:\n",
    "        dec = binary % 10\n",
    "        decimal = decimal + dec * 2**i\n",
    "        binary = binary // 10\n",
    "        i += 1\n",
    "    \n",
    "    print(\"Binary to Decimal is : \",decimal)\n",
    "x=int(input('Enter value'))\n",
    "bin_to_dec(x)"
   ]
  },
  {
   "cell_type": "code",
   "execution_count": null,
   "id": "cdbea148-137e-43cb-af94-830699e44b1f",
   "metadata": {},
   "outputs": [],
   "source": [
    "# write a function to find the amount of electricity unit consumed by the user.\n",
    "# if unit is 17.28 Kwh amount will be 172.8 means 10 rupees per unit.\n",
    "\n",
    "# energy= (unit/1000)*time\n",
    "# energy consumption= energy * unit_cost\n",
    "\n",
    "enery=(17.28/1000)*30\n"
   ]
  },
  {
   "cell_type": "code",
   "execution_count": 36,
   "id": "4f7988eb-fe96-46b6-93d2-7ad5c608c9f5",
   "metadata": {},
   "outputs": [
    {
     "name": "stdin",
     "output_type": "stream",
     "text": [
      "Enter total unit:  500\n",
      "Enter total time used:  720\n"
     ]
    },
    {
     "name": "stdout",
     "output_type": "stream",
     "text": [
      "Total Cost is: ₹ 1800.0\n"
     ]
    }
   ],
   "source": [
    "unit=int(input('Enter total unit: '))\n",
    "time=int(input('Enter total time used: '))\n",
    "unit_cost=5\n",
    "\n",
    "if unit>0 and time>0:\n",
    "    energy=(unit)/1000*time\n",
    "    if energy>0 and unit>0:\n",
    "        energy_consuption=energy*unit_cost\n",
    "        print('Total Cost is:',\"₹\",energy_consuption)\n",
    "    else:\n",
    "        print('Enter a valid Hours. Hours Not be in 0')\n",
    "\n",
    "else:\n",
    "    print('Unit Shoud be More than 0')\n"
   ]
  },
  {
   "cell_type": "code",
   "execution_count": 34,
   "id": "19465a16-a0d2-4af7-982c-303d61fd1139",
   "metadata": {},
   "outputs": [
    {
     "name": "stdin",
     "output_type": "stream",
     "text": [
      "Enter your unit :  50\n",
      "Enter time in hours :  5\n"
     ]
    },
    {
     "name": "stdout",
     "output_type": "stream",
     "text": [
      "Your bill is :  2.5 rupees only\n"
     ]
    }
   ],
   "source": [
    "#WAP to find the amount of electricity unit consumtion by uUser\n",
    "#if unit is 17.28 Kwh amount will bw 172.8 means 10 rupees per unit.\n",
    "\n",
    "def unit_consume():\n",
    "    units = int(input(\"Enter your unit : \"))\n",
    "    time_in_hour = int(input(\"Enter time in hours : \"))\n",
    "    unit_cost = 10\n",
    "    energy = (units /1000) * time_in_hour \n",
    "    total = energy * unit_cost\n",
    "    print(\"Your bill is : \",total,\"rupees only\")\n",
    "\n",
    "\n",
    "\n",
    "unit_consume()"
   ]
  },
  {
   "cell_type": "code",
   "execution_count": 39,
   "id": "06132eff-54be-4acf-8d5f-cc086b3f5936",
   "metadata": {},
   "outputs": [
    {
     "name": "stdin",
     "output_type": "stream",
     "text": [
      "Enter first number:  10\n",
      "Enter second number:  15\n"
     ]
    },
    {
     "name": "stdout",
     "output_type": "stream",
     "text": [
      "5\n"
     ]
    }
   ],
   "source": [
    "#HCF\n",
    "\n",
    "def calculate_hcf():\n",
    "    x = int(input(\"Enter first number: \"))  \n",
    "    y = int(input(\"Enter second number: \"))\n",
    "      \n",
    "    if x > y:  \n",
    "        smaller = y  \n",
    "    else:  \n",
    "        smaller = x  \n",
    "    for i in range(1,smaller + 1):  \n",
    "        if((x % i == 0) and (y % i == 0)):  \n",
    "            hcf = i  \n",
    "    return hcf  \n",
    "  \n",
    "print(calculate_hcf())"
   ]
  },
  {
   "cell_type": "code",
   "execution_count": 42,
   "id": "3c5679d2-398d-4e1e-b973-6be3b1530639",
   "metadata": {},
   "outputs": [
    {
     "name": "stdin",
     "output_type": "stream",
     "text": [
      "Enter first number:  10\n",
      "Enter first number:  26\n"
     ]
    },
    {
     "name": "stdout",
     "output_type": "stream",
     "text": [
      "The L.C.M. of 10 and 26 is >>>> 130\n"
     ]
    }
   ],
   "source": [
    "# LCF of two numbers\n",
    "\n",
    "def calculate_lcm(x, y):  \n",
    "    \n",
    "    if x > y:  \n",
    "        greater = x  \n",
    "    else:  \n",
    "        greater = y  \n",
    "    while(True):  \n",
    "        if((greater % x == 0) and (greater % y == 0)):  \n",
    "            lcm = greater  \n",
    "            break  \n",
    "        greater += 1  \n",
    "    return lcm    \n",
    "  \n",
    "\n",
    "num1 = int(input(\"Enter first number: \"))  \n",
    "num2 = int(input(\"Enter first number: \"))  \n",
    "\n",
    "print(\"The L.C.M. of\", num1,\"and\", num2,\"is >>>>\", calculate_lcm(num1, num2))"
   ]
  },
  {
   "cell_type": "code",
   "execution_count": null,
   "id": "fd0a2954-4ab4-4f36-b586-e477f019da02",
   "metadata": {},
   "outputs": [],
   "source": []
  },
  {
   "cell_type": "code",
   "execution_count": null,
   "id": "b86aff20-b1a2-4e4b-b8a9-aa15849c57ff",
   "metadata": {},
   "outputs": [],
   "source": []
  },
  {
   "cell_type": "code",
   "execution_count": null,
   "id": "48bf575b-686d-4e1b-8b11-2a2a598e08a3",
   "metadata": {},
   "outputs": [],
   "source": []
  },
  {
   "cell_type": "code",
   "execution_count": null,
   "id": "3179d5fa-cec0-4659-95dc-627fd645a012",
   "metadata": {},
   "outputs": [],
   "source": []
  },
  {
   "cell_type": "code",
   "execution_count": null,
   "id": "02290801-fe44-4575-aa02-344d9a079003",
   "metadata": {},
   "outputs": [],
   "source": []
  },
  {
   "cell_type": "code",
   "execution_count": 40,
   "id": "68c4234a-0c62-46ac-8f50-e0fbd1fe2eb9",
   "metadata": {},
   "outputs": [
    {
     "name": "stdin",
     "output_type": "stream",
     "text": [
      "Enter first number:  15\n",
      "Enter second number:  20\n"
     ]
    },
    {
     "data": {
      "text/plain": [
       "5"
      ]
     },
     "execution_count": 40,
     "metadata": {},
     "output_type": "execute_result"
    }
   ],
   "source": [
    "calculate_hcf()"
   ]
  },
  {
   "cell_type": "code",
   "execution_count": 43,
   "id": "25f633ef-07d8-4813-be32-49ad6dd557be",
   "metadata": {},
   "outputs": [
    {
     "name": "stdin",
     "output_type": "stream",
     "text": [
      "Enter first number:  15\n",
      "Enter first number:  45\n"
     ]
    },
    {
     "name": "stdout",
     "output_type": "stream",
     "text": [
      "The L.C.M. of 15 and 45 is >>>> 45\n"
     ]
    }
   ],
   "source": [
    "num1 = int(input(\"Enter first number: \"))  \n",
    "num2 = int(input(\"Enter first number: \"))  \n",
    "\n",
    "print(\"The L.C.M. of\", num1,\"and\", num2,\"is >>>>\", calculate_lcm(num1, num2))"
   ]
  },
  {
   "cell_type": "code",
   "execution_count": null,
   "id": "88066bab-1c3f-4be3-bdb5-e00021e5c0e1",
   "metadata": {},
   "outputs": [],
   "source": []
  }
 ],
 "metadata": {
  "kernelspec": {
   "display_name": "Python 3 (ipykernel)",
   "language": "python",
   "name": "python3"
  },
  "language_info": {
   "codemirror_mode": {
    "name": "ipython",
    "version": 3
   },
   "file_extension": ".py",
   "mimetype": "text/x-python",
   "name": "python",
   "nbconvert_exporter": "python",
   "pygments_lexer": "ipython3",
   "version": "3.12.2"
  }
 },
 "nbformat": 4,
 "nbformat_minor": 5
}
