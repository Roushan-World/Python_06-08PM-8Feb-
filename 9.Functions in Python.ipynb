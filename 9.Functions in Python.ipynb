{
 "cells": [
  {
   "cell_type": "markdown",
   "id": "4187b2d4-2868-4824-a0b5-5c142cbcdc7c",
   "metadata": {},
   "source": [
    "# 9. Functions in Python\n",
    "* _________________________________________________________________________________________\n",
    " * __In Python, a function is a group of related statements that performs a specific task.__\n",
    " * __Functions help break our program into smaller and modular chunks. *As our program grows larger and larger, functions make it more organized and manageable.__\n",
    " * __Furthermore, it avoids repetition and make the code reusable.__\n",
    " * __There are two types of functions:__\n",
    " * __Pre-defined functions.__\n",
    " * __User-defined functions.__\n",
    " * __In Python a function is defined using the def keyword followed by the function name and parentheses ().__\n",
    " * __Keyword def that marks the start of the function header.__\n",
    " * __A function name to uniquely identify the function.__\n",
    " * __Function naming follows the same rules of writing identifiers in Python.__\n",
    " * __Parameters (arguments) through which we pass values to a function. They are optional.__\n",
    " * __A colon(:) to mark the end of the funciton header.__\n",
    " * __Optional documentation string (docstring) to describe what the function does.__\n",
    " * __One or more valid python statements that make up the function body.__\n",
    " * __Statements must have the same indentation level(usually 4 spaces).__\n",
    " * __An optional return statemnet return a value from the function.__"
   ]
  },
  {
   "cell_type": "code",
   "execution_count": 10,
   "id": "10e02536-cee7-4131-9489-47e5c4b1a01d",
   "metadata": {},
   "outputs": [
    {
     "name": "stdout",
     "output_type": "stream",
     "text": [
      "Function working Successfully!\n"
     ]
    },
    {
     "data": {
      "text/plain": [
       "'Congratulation! Ajinkya'"
      ]
     },
     "execution_count": 10,
     "metadata": {},
     "output_type": "execute_result"
    }
   ],
   "source": [
    "def greet(y):\n",
    "    x='Congratulation! '+y\n",
    "    print('Function working Successfully!')\n",
    "    return x\n",
    "    \n",
    "    \n",
    "\n",
    "greet('Ajinkya')"
   ]
  },
  {
   "cell_type": "code",
   "execution_count": 11,
   "id": "607837c7-4da7-4295-8f70-6fe988f235b7",
   "metadata": {},
   "outputs": [
    {
     "name": "stdout",
     "output_type": "stream",
     "text": [
      "Function working Successfully!\n"
     ]
    },
    {
     "data": {
      "text/plain": [
       "'Congratulation! Uday'"
      ]
     },
     "execution_count": 11,
     "metadata": {},
     "output_type": "execute_result"
    }
   ],
   "source": [
    "greet('Uday')"
   ]
  },
  {
   "cell_type": "code",
   "execution_count": 12,
   "id": "dd5539c2-b9ef-4825-a4c3-ff225633e8ab",
   "metadata": {},
   "outputs": [
    {
     "name": "stdout",
     "output_type": "stream",
     "text": [
      "Function working Successfully!\n"
     ]
    },
    {
     "data": {
      "text/plain": [
       "'Congratulation! Babli'"
      ]
     },
     "execution_count": 12,
     "metadata": {},
     "output_type": "execute_result"
    }
   ],
   "source": [
    "greet('Babli')"
   ]
  },
  {
   "cell_type": "code",
   "execution_count": 13,
   "id": "dd2652c4-7e4d-446a-95f6-1859eec1fe30",
   "metadata": {},
   "outputs": [
    {
     "name": "stdout",
     "output_type": "stream",
     "text": [
      "Function working Successfully!\n"
     ]
    },
    {
     "data": {
      "text/plain": [
       "'Congratulation! Srinivash'"
      ]
     },
     "execution_count": 13,
     "metadata": {},
     "output_type": "execute_result"
    }
   ],
   "source": [
    "greet('Srinivash')"
   ]
  },
  {
   "cell_type": "code",
   "execution_count": 14,
   "id": "6b6bd325-e473-4ece-a361-f8d5f6cd0737",
   "metadata": {},
   "outputs": [
    {
     "name": "stdout",
     "output_type": "stream",
     "text": [
      "Hello world\n"
     ]
    },
    {
     "ename": "SyntaxError",
     "evalue": "'return' outside function (427105306.py, line 3)",
     "output_type": "error",
     "traceback": [
      "\u001b[1;36m  Cell \u001b[1;32mIn[14], line 3\u001b[1;36m\u001b[0m\n\u001b[1;33m    return \"Hello world\"\u001b[0m\n\u001b[1;37m    ^\u001b[0m\n\u001b[1;31mSyntaxError\u001b[0m\u001b[1;31m:\u001b[0m 'return' outside function\n"
     ]
    }
   ],
   "source": [
    "print('Hello world')\n",
    "\n",
    "return \"Hello world\""
   ]
  },
  {
   "cell_type": "code",
   "execution_count": 22,
   "id": "b53a669b-2aa8-42b9-9cc8-974bb5db7b57",
   "metadata": {},
   "outputs": [
    {
     "name": "stdout",
     "output_type": "stream",
     "text": [
      "The sum of two numbers is: 300\n"
     ]
    }
   ],
   "source": [
    "# Waf to sum of two number:\n",
    "\n",
    "def sum(a,b):\n",
    "    z=a+b\n",
    "    print('The sum of two numbers is:',z)\n",
    "    #return z\n",
    "\n",
    "\n",
    "sum(100,200)"
   ]
  },
  {
   "cell_type": "code",
   "execution_count": 23,
   "id": "4978e64c-5d38-4bce-8e63-e087eb1ca612",
   "metadata": {},
   "outputs": [
    {
     "name": "stdout",
     "output_type": "stream",
     "text": [
      "Function working Successfully!\n"
     ]
    },
    {
     "data": {
      "text/plain": [
       "'Congratulation! Pratigya'"
      ]
     },
     "execution_count": 23,
     "metadata": {},
     "output_type": "execute_result"
    }
   ],
   "source": [
    "greet('Pratigya')"
   ]
  },
  {
   "cell_type": "code",
   "execution_count": 24,
   "id": "a1ba01ef-9525-4fcd-a72e-0dcc0c328be0",
   "metadata": {},
   "outputs": [
    {
     "name": "stdout",
     "output_type": "stream",
     "text": [
      "The sum of two numbers is: 30\n"
     ]
    }
   ],
   "source": [
    "sum(10,20)"
   ]
  },
  {
   "cell_type": "code",
   "execution_count": 25,
   "id": "75f125fb-5f3e-4f52-825f-0c821d7539f1",
   "metadata": {},
   "outputs": [
    {
     "name": "stdout",
     "output_type": "stream",
     "text": [
      "The sum of two numbers is: 114.21\n"
     ]
    }
   ],
   "source": [
    "sum(35.25,78.96)"
   ]
  },
  {
   "cell_type": "code",
   "execution_count": 26,
   "id": "62a8b2c1-c9de-4cbf-95a2-9118846f5291",
   "metadata": {},
   "outputs": [
    {
     "name": "stdout",
     "output_type": "stream",
     "text": [
      "Function working Successfully!\n"
     ]
    },
    {
     "data": {
      "text/plain": [
       "'Congratulation! Hello'"
      ]
     },
     "execution_count": 26,
     "metadata": {},
     "output_type": "execute_result"
    }
   ],
   "source": [
    "greet('Hello')"
   ]
  },
  {
   "cell_type": "code",
   "execution_count": 27,
   "id": "7aeafbbd-be36-4f12-a8e1-61c56a2c75ef",
   "metadata": {},
   "outputs": [
    {
     "name": "stdout",
     "output_type": "stream",
     "text": [
      "The sum of two numbers is: 174\n"
     ]
    }
   ],
   "source": [
    "sum(78,96)"
   ]
  },
  {
   "cell_type": "code",
   "execution_count": 31,
   "id": "7f1d7538-c91d-4af2-811d-3ddc1c61d7be",
   "metadata": {},
   "outputs": [],
   "source": [
    "def msg1():\n",
    "    print('Hello World')\n",
    "\n",
    "def msg2():\n",
    "    print('Good Morning!')\n",
    "    return None"
   ]
  },
  {
   "cell_type": "code",
   "execution_count": 32,
   "id": "4f2eb466-04b5-4fa1-b70e-66c148fdfcf9",
   "metadata": {},
   "outputs": [
    {
     "name": "stdout",
     "output_type": "stream",
     "text": [
      "Hello World\n",
      "Good Morning!\n"
     ]
    }
   ],
   "source": [
    "msg1()\n",
    "msg2()"
   ]
  },
  {
   "cell_type": "code",
   "execution_count": 33,
   "id": "750d7a62-fd28-4c3b-a661-0139f15e1d70",
   "metadata": {},
   "outputs": [
    {
     "name": "stdout",
     "output_type": "stream",
     "text": [
      "Hello World\n",
      "None\n"
     ]
    }
   ],
   "source": [
    "print(msg1())"
   ]
  },
  {
   "cell_type": "code",
   "execution_count": 41,
   "id": "a7e64d46-c60b-4339-a3d1-c760b16a8eb2",
   "metadata": {},
   "outputs": [],
   "source": [
    "def ajinky():\n",
    "    print('Ajinkya yeha dekho')"
   ]
  },
  {
   "cell_type": "code",
   "execution_count": 42,
   "id": "53952b46-2fab-4bdf-990f-a24a67a04db7",
   "metadata": {},
   "outputs": [
    {
     "name": "stdout",
     "output_type": "stream",
     "text": [
      "Ajinkya yeha dekho\n"
     ]
    }
   ],
   "source": [
    "ajinky()"
   ]
  },
  {
   "cell_type": "code",
   "execution_count": 43,
   "id": "8b8530c9-ae8a-4807-8837-5f80977ecfdf",
   "metadata": {},
   "outputs": [
    {
     "name": "stdout",
     "output_type": "stream",
     "text": [
      "Ajinkya yeha dekho\n",
      "None\n"
     ]
    }
   ],
   "source": [
    "print(ajinky())"
   ]
  },
  {
   "cell_type": "code",
   "execution_count": 51,
   "id": "8ab012b3-52b0-4e9d-a9df-edac9db88286",
   "metadata": {},
   "outputs": [
    {
     "name": "stdin",
     "output_type": "stream",
     "text": [
      "Enter first number:  500\n",
      "Enter first number:  700\n"
     ]
    },
    {
     "name": "stdout",
     "output_type": "stream",
     "text": [
      "The sum of two numbers is 500 and 700 is:1200\n"
     ]
    }
   ],
   "source": [
    "# waf with user input that take two value form user.\n",
    "\n",
    "def user1(x,y):\n",
    "    sum1=x+y\n",
    "    print(f'The sum of two numbers is {x} and {y} is:{sum1}')\n",
    "\n",
    "\n",
    "u1=int(input('Enter first number: '))\n",
    "u2=int(input('Enter first number: '))\n",
    "\n",
    "user1(u1,u2)"
   ]
  },
  {
   "cell_type": "markdown",
   "id": "884f0d02-fbd1-4053-b60f-e571dcc06fa3",
   "metadata": {},
   "source": [
    "# Variables\n",
    "\n",
    " * __The input to a funciton is called formal parameter.__\n",
    " * __A variable that is declared inside a function is called a local vairable.__\n",
    " * __The parameter only exists within the function(i.e. the point where the function starts and stops).__\n",
    " * __A variable that is declared outside a funciton definition is called global variable and its value is accessibel modifiable thoughout the program.__"
   ]
  },
  {
   "cell_type": "code",
   "execution_count": 53,
   "id": "eafd2a17-9053-468e-bbae-4209cf517192",
   "metadata": {},
   "outputs": [
    {
     "name": "stdout",
     "output_type": "stream",
     "text": [
      "The sum of two numbers is 200 and 400 is:600\n"
     ]
    }
   ],
   "source": [
    "def user1(x,y):\n",
    "    sum1=x+y\n",
    "    print(f'The sum of two numbers is {x} and {y} is:{sum1}')\n",
    "\n",
    "\n",
    "# u1=int(input('Enter first number: '))\n",
    "# u2=int(input('Enter first number: '))\n",
    "\n",
    "user1(200,400)    # formal parameter"
   ]
  },
  {
   "cell_type": "code",
   "execution_count": 57,
   "id": "9e12eea1-01ac-42f0-a84b-65342569101e",
   "metadata": {},
   "outputs": [
    {
     "name": "stdout",
     "output_type": "stream",
     "text": [
      "The sum of two numbers is 200 and 230 is:430\n"
     ]
    }
   ],
   "source": [
    "def user1(x):\n",
    "    second_val=230   # y is a local variable\n",
    "    sum1=x+second_val\n",
    "    print(f'The sum of two numbers is {x} and {second_val} is:{sum1}')\n",
    "\n",
    "\n",
    "# u1=int(input('Enter first number: '))\n",
    "# u2=int(input('Enter first number: '))\n",
    "\n",
    "user1(200)"
   ]
  },
  {
   "cell_type": "code",
   "execution_count": 58,
   "id": "a6cdb9fc-e556-4715-a9c4-0d06d85926c6",
   "metadata": {},
   "outputs": [
    {
     "ename": "NameError",
     "evalue": "name 'second_val' is not defined",
     "output_type": "error",
     "traceback": [
      "\u001b[1;31m---------------------------------------------------------------------------\u001b[0m",
      "\u001b[1;31mNameError\u001b[0m                                 Traceback (most recent call last)",
      "Cell \u001b[1;32mIn[58], line 1\u001b[0m\n\u001b[1;32m----> 1\u001b[0m \u001b[43msecond_val\u001b[49m\n",
      "\u001b[1;31mNameError\u001b[0m: name 'second_val' is not defined"
     ]
    }
   ],
   "source": [
    "second_val"
   ]
  },
  {
   "cell_type": "code",
   "execution_count": 59,
   "id": "8bbb3f6b-b751-4701-a5ce-e95345d18e58",
   "metadata": {},
   "outputs": [
    {
     "name": "stdout",
     "output_type": "stream",
     "text": [
      "The sum of two numbers is 500 and 230 is:730\n"
     ]
    }
   ],
   "source": [
    "x=500   # x is a global variable\n",
    "def user1():\n",
    "    second_val=230   # y is a local variable\n",
    "    sum1=x+second_val\n",
    "    print(f'The sum of two numbers is {x} and {second_val} is:{sum1}')\n",
    "\n",
    "\n",
    "# u1=int(input('Enter first number: '))\n",
    "# u2=int(input('Enter first number: '))\n",
    "\n",
    "user1()"
   ]
  },
  {
   "cell_type": "code",
   "execution_count": 60,
   "id": "7e9c6dc6-961c-4a80-83f5-495f3b24c433",
   "metadata": {},
   "outputs": [
    {
     "data": {
      "text/plain": [
       "500"
      ]
     },
     "execution_count": 60,
     "metadata": {},
     "output_type": "execute_result"
    }
   ],
   "source": [
    "x"
   ]
  },
  {
   "cell_type": "code",
   "execution_count": 61,
   "id": "49dbb113-03f9-4e63-85a2-c01337a283b3",
   "metadata": {},
   "outputs": [
    {
     "ename": "NameError",
     "evalue": "name 'second_val' is not defined",
     "output_type": "error",
     "traceback": [
      "\u001b[1;31m---------------------------------------------------------------------------\u001b[0m",
      "\u001b[1;31mNameError\u001b[0m                                 Traceback (most recent call last)",
      "Cell \u001b[1;32mIn[61], line 1\u001b[0m\n\u001b[1;32m----> 1\u001b[0m \u001b[43msecond_val\u001b[49m\n",
      "\u001b[1;31mNameError\u001b[0m: name 'second_val' is not defined"
     ]
    }
   ],
   "source": [
    "second_val"
   ]
  },
  {
   "cell_type": "code",
   "execution_count": 7,
   "id": "85e282a0-d378-46ce-83a0-ac200353258f",
   "metadata": {},
   "outputs": [
    {
     "data": {
      "text/plain": [
       "1660"
      ]
     },
     "execution_count": 7,
     "metadata": {},
     "output_type": "execute_result"
    }
   ],
   "source": [
    "def function1(x):\n",
    "    y=78*x+100\n",
    "    #print(y)\n",
    "    return y\n",
    "\n",
    "function1(20)"
   ]
  },
  {
   "cell_type": "code",
   "execution_count": 10,
   "id": "3990a626-84fd-42d4-999d-c9ce50676a4c",
   "metadata": {},
   "outputs": [
    {
     "name": "stdout",
     "output_type": "stream",
     "text": [
      "1270\n"
     ]
    }
   ],
   "source": [
    "# Global variable\n",
    "\n",
    "a=15\n",
    "\n",
    "y=function1(a)\n",
    "print(y)"
   ]
  },
  {
   "cell_type": "code",
   "execution_count": 20,
   "id": "4a0ae658-7c1d-43cd-b941-9c36b4a1b414",
   "metadata": {},
   "outputs": [
    {
     "data": {
      "text/plain": [
       "'Congratulation! Uday Rasal'"
      ]
     },
     "execution_count": 20,
     "metadata": {},
     "output_type": "execute_result"
    }
   ],
   "source": [
    "# formal parameter:\n",
    "\n",
    "def name(first_name='Uday',last_name=' Rasal'):   # x='Hello' default value  # formal parameter.\n",
    "    y='Congratulation! '+first_name+last_name\n",
    "    return y\n",
    "\n",
    "name()"
   ]
  },
  {
   "cell_type": "code",
   "execution_count": 21,
   "id": "383fa70c-6ca6-4993-8226-41798c7be371",
   "metadata": {},
   "outputs": [
    {
     "data": {
      "text/plain": [
       "6"
      ]
     },
     "execution_count": 21,
     "metadata": {},
     "output_type": "execute_result"
    }
   ],
   "source": [
    "x=78\n",
    "y=100\n",
    "\n",
    "equation=x*y+x+y-37   # 78*100+78+100-37 = 7941\n",
    "\n",
    "if equation>0:\n",
    "    equation=6\n",
    "\n",
    "else: equation=37\n",
    "\n",
    "equation"
   ]
  },
  {
   "cell_type": "code",
   "execution_count": 22,
   "id": "f393e312-62ba-42e8-9ac4-beeaa125e411",
   "metadata": {},
   "outputs": [
    {
     "data": {
      "text/plain": [
       "'ajinkya'"
      ]
     },
     "execution_count": 22,
     "metadata": {},
     "output_type": "execute_result"
    }
   ],
   "source": [
    "x=78\n",
    "y=100\n",
    "\n",
    "equation=x*y+x+y-37   # 78*100+78+100-37 = 7941\n",
    "\n",
    "if equation>0:\n",
    "    equation='ajinkya'\n",
    "\n",
    "else: equation=37\n",
    "\n",
    "equation"
   ]
  },
  {
   "cell_type": "code",
   "execution_count": 23,
   "id": "a7332ddc-d235-4f0e-938b-e811a6d03b88",
   "metadata": {},
   "outputs": [
    {
     "data": {
      "text/plain": [
       "'Rupali'"
      ]
     },
     "execution_count": 23,
     "metadata": {},
     "output_type": "execute_result"
    }
   ],
   "source": [
    "x=78\n",
    "y=100\n",
    "\n",
    "equation=x*y+x+y-37   # 78*100+78+100-37 = 7941\n",
    "\n",
    "if equation<0:\n",
    "    equation=6\n",
    "\n",
    "else: equation='Rupali'\n",
    "\n",
    "equation"
   ]
  },
  {
   "cell_type": "code",
   "execution_count": 26,
   "id": "6eae9e8b-1ecb-4488-a785-035002558387",
   "metadata": {},
   "outputs": [
    {
     "data": {
      "text/plain": [
       "10"
      ]
     },
     "execution_count": 26,
     "metadata": {},
     "output_type": "execute_result"
    }
   ],
   "source": [
    "def function(x,y):\n",
    "    equation = x*y+x+y-37  # \n",
    "    if equation<0:\n",
    "        equation=10\n",
    "\n",
    "    else: equation=100\n",
    "    return equation\n",
    "\n",
    "x=0\n",
    "y=20\n",
    "function(x,y)"
   ]
  },
  {
   "cell_type": "code",
   "execution_count": 35,
   "id": "5a216926-15d0-4358-9049-a3a41a3f2a42",
   "metadata": {},
   "outputs": [
    {
     "name": "stdout",
     "output_type": "stream",
     "text": [
      "You should not watch this movie with the rating value of 6.0\n",
      "You should watch this movie with the rating value of 10.0\n",
      "your rating should be in under 10 value and not in negative value.\n"
     ]
    }
   ],
   "source": [
    "def rating_value(rating=6.0):\n",
    "    if rating<=10 and rating>0:\n",
    "        if rating<8:\n",
    "            return f'You should not watch this movie with the rating value of {rating}'\n",
    "        else: return f'You should watch this movie with the rating value of {rating}'\n",
    "    else: return f'your rating should be in under 10 value and not in negative value.'\n",
    "\n",
    "\n",
    "print(rating_value())\n",
    "print(rating_value(10.0))\n",
    "print(rating_value(-5))"
   ]
  },
  {
   "cell_type": "code",
   "execution_count": 45,
   "id": "8d32690b-ff51-4b35-a630-abf7c16f09df",
   "metadata": {},
   "outputs": [
    {
     "name": "stdout",
     "output_type": "stream",
     "text": [
      "Number of elements is: 10\n",
      "Rupali\n",
      "Rasal\n",
      "Ajinkya\n",
      "Welcome\n",
      "Number\n",
      "Gurav\n",
      "Akash\n",
      "10\n",
      "45.23\n",
      "[10, 20, 30]\n",
      "\n"
     ]
    }
   ],
   "source": [
    "# args and kwargs.\n",
    "\n",
    "def function(*args):\n",
    "    print('Number of elements is:',len(args))\n",
    "    for i in args:\n",
    "        print(i)\n",
    "\n",
    "\n",
    "function('Rupali','Rasal','Ajinkya','Welcome','Number','Gurav','Akash',10,45.23,[10,20,30])\n",
    "print()"
   ]
  },
  {
   "cell_type": "code",
   "execution_count": 61,
   "id": "3cdb7d74-d389-4342-98d2-bdee51d23451",
   "metadata": {},
   "outputs": [
    {
     "name": "stdout",
     "output_type": "stream",
     "text": [
      "Total of the numbers is: 360\n"
     ]
    }
   ],
   "source": [
    "def total(*args):\n",
    "    total=0 # total variable= local\n",
    "    ajinkya=0\n",
    "    rupali1=100\n",
    "    for i in args:\n",
    "        total+=i\n",
    "    return total\n",
    "\n",
    "sum=0\n",
    "\n",
    "print('Total of the numbers is:',total(10,20,30,40,50,60,70,80))"
   ]
  },
  {
   "cell_type": "code",
   "execution_count": 62,
   "id": "d2f50ff6-1f7e-4deb-b4e0-59db13768b34",
   "metadata": {},
   "outputs": [
    {
     "ename": "NameError",
     "evalue": "name 'ajinkya' is not defined",
     "output_type": "error",
     "traceback": [
      "\u001b[1;31m---------------------------------------------------------------------------\u001b[0m",
      "\u001b[1;31mNameError\u001b[0m                                 Traceback (most recent call last)",
      "Cell \u001b[1;32mIn[62], line 1\u001b[0m\n\u001b[1;32m----> 1\u001b[0m \u001b[43majinkya\u001b[49m\n",
      "\u001b[1;31mNameError\u001b[0m: name 'ajinkya' is not defined"
     ]
    }
   ],
   "source": [
    "ajinkya"
   ]
  },
  {
   "cell_type": "code",
   "execution_count": null,
   "id": "7c950c64-adbf-4599-8911-a27c2b78fd36",
   "metadata": {},
   "outputs": [],
   "source": [
    "sum"
   ]
  },
  {
   "cell_type": "code",
   "execution_count": 63,
   "id": "95f765df-2a62-4872-95ec-7c6a43d4138f",
   "metadata": {},
   "outputs": [
    {
     "data": {
      "text/plain": [
       "100"
      ]
     },
     "execution_count": 63,
     "metadata": {},
     "output_type": "execute_result"
    }
   ],
   "source": [
    "rupali"
   ]
  },
  {
   "cell_type": "code",
   "execution_count": 64,
   "id": "f0082dd9-cd8f-4a90-98a2-feb07e3ec952",
   "metadata": {},
   "outputs": [
    {
     "ename": "NameError",
     "evalue": "name 'rupali1' is not defined",
     "output_type": "error",
     "traceback": [
      "\u001b[1;31m---------------------------------------------------------------------------\u001b[0m",
      "\u001b[1;31mNameError\u001b[0m                                 Traceback (most recent call last)",
      "Cell \u001b[1;32mIn[64], line 1\u001b[0m\n\u001b[1;32m----> 1\u001b[0m \u001b[43mrupali1\u001b[49m\n",
      "\u001b[1;31mNameError\u001b[0m: name 'rupali1' is not defined"
     ]
    }
   ],
   "source": [
    "rupali1"
   ]
  },
  {
   "cell_type": "code",
   "execution_count": 77,
   "id": "82739c73-caf4-4ab4-b994-f37b25d39e22",
   "metadata": {},
   "outputs": [
    {
     "name": "stdout",
     "output_type": "stream",
     "text": [
      "Name : Ajinkya\n",
      "age : 20\n",
      "Name1 : Rupali\n",
      "age1 : 15\n"
     ]
    }
   ],
   "source": [
    "# Define a funciton regarding a dictionary function\n",
    "\n",
    "def function2(**args):\n",
    "    for key in args:\n",
    "        print(key,':',args[key])\n",
    "\n",
    "function2(Name='Ajinkya',age=20,Name1='Rupali',age1=15)"
   ]
  },
  {
   "cell_type": "code",
   "execution_count": 94,
   "id": "fc1e8fc8-bf07-4c80-a5c2-717fe28497c0",
   "metadata": {},
   "outputs": [
    {
     "data": {
      "text/plain": [
       "{3.14, 10, 20}"
      ]
     },
     "execution_count": 94,
     "metadata": {},
     "output_type": "execute_result"
    }
   ],
   "source": [
    "def addition(nlis):\n",
    "    nlis.add(3.14)\n",
    "    nlis.add(10)\n",
    "    nlis.add(20)\n",
    "    nlis.add(20)\n",
    "    nlis.add(20)\n",
    "    nlis.add(20)\n",
    "    nlis.add(20)\n",
    "\n",
    "x=set()\n",
    "addition(x)\n",
    "x"
   ]
  },
  {
   "cell_type": "code",
   "execution_count": 96,
   "id": "f528f3fa-b147-4c3e-980f-89996ab9201b",
   "metadata": {},
   "outputs": [
    {
     "data": {
      "text/plain": [
       "[3.14, 10, 20, 20, 20, 20, 20]"
      ]
     },
     "execution_count": 96,
     "metadata": {},
     "output_type": "execute_result"
    }
   ],
   "source": [
    "def addition(nlis):\n",
    "    nlis.append(3.14)\n",
    "    nlis.append(10)\n",
    "    nlis.append(20)\n",
    "    nlis.append(20)\n",
    "    nlis.append(20)\n",
    "    nlis.append(20)\n",
    "    nlis.append(20)\n",
    "\n",
    "x=[]\n",
    "addition(x)\n",
    "x"
   ]
  },
  {
   "cell_type": "code",
   "execution_count": 2,
   "id": "7a8bcc68-e8ba-4160-8bfd-e4820dccc067",
   "metadata": {},
   "outputs": [
    {
     "name": "stdout",
     "output_type": "stream",
     "text": [
      "Hello Akash\n"
     ]
    }
   ],
   "source": [
    "print('Hello Akash')"
   ]
  },
  {
   "cell_type": "code",
   "execution_count": 3,
   "id": "2f1eb8a5-3bd8-4d17-a5f7-5317e14c8b96",
   "metadata": {},
   "outputs": [
    {
     "name": "stdout",
     "output_type": "stream",
     "text": [
      "Good Evening\n"
     ]
    }
   ],
   "source": [
    "print('Good Evening')"
   ]
  },
  {
   "cell_type": "code",
   "execution_count": 4,
   "id": "df10d703-8ef0-4707-8f01-a3c9783b1ce5",
   "metadata": {},
   "outputs": [
    {
     "name": "stdout",
     "output_type": "stream",
     "text": [
      "Congratulation\n"
     ]
    }
   ],
   "source": [
    "print('Congratulation')"
   ]
  },
  {
   "cell_type": "code",
   "execution_count": 5,
   "id": "3035cefc-8388-4fd6-8258-3f778ebfabd4",
   "metadata": {},
   "outputs": [
    {
     "data": {
      "text/plain": [
       "'Hello world'"
      ]
     },
     "execution_count": 5,
     "metadata": {},
     "output_type": "execute_result"
    }
   ],
   "source": [
    "# return\n",
    "\n",
    "def func():\n",
    "    z='Hello world'\n",
    "    #print(z)\n",
    "    return z\n",
    "\n",
    "func()"
   ]
  },
  {
   "cell_type": "code",
   "execution_count": 6,
   "id": "a7b6834b-ba07-433e-a439-adeed736e810",
   "metadata": {},
   "outputs": [
    {
     "ename": "SyntaxError",
     "evalue": "'return' outside function (4163167981.py, line 1)",
     "output_type": "error",
     "traceback": [
      "\u001b[1;36m  Cell \u001b[1;32mIn[6], line 1\u001b[1;36m\u001b[0m\n\u001b[1;33m    return 'Hello world'\u001b[0m\n\u001b[1;37m    ^\u001b[0m\n\u001b[1;31mSyntaxError\u001b[0m\u001b[1;31m:\u001b[0m 'return' outside function\n"
     ]
    }
   ],
   "source": [
    "return 'Hello world'"
   ]
  },
  {
   "cell_type": "code",
   "execution_count": 16,
   "id": "c53a5f4c-9453-49dc-8156-93fdf30ba171",
   "metadata": {},
   "outputs": [
    {
     "name": "stdout",
     "output_type": "stream",
     "text": [
      "560\n",
      "10\n",
      "100\n",
      "11\n",
      "1\n",
      "50.90909090909091\n"
     ]
    }
   ],
   "source": [
    "# Aggrigate function\n",
    "\n",
    "# sum(),min(),max(),len(),count(),avg()\n",
    "\n",
    "special_num=[10,20,30,40,50,60,70,80,90,100,10,]\n",
    "\n",
    "print(sum(special_num))\n",
    "print(min(special_num))\n",
    "print(max(special_num))\n",
    "print(len(special_num))\n",
    "print(special_num.count(100))\n",
    "print(sum(special_num)/len(special_num))"
   ]
  },
  {
   "cell_type": "code",
   "execution_count": 20,
   "id": "b905b156-eefd-45c1-82b2-ad699353aaef",
   "metadata": {},
   "outputs": [
    {
     "data": {
      "text/plain": [
       "390"
      ]
     },
     "execution_count": 20,
     "metadata": {},
     "output_type": "execute_result"
    }
   ],
   "source": [
    "# Example of regarding 'args'\n",
    "\n",
    "def total(*args):\n",
    "    total=0\n",
    "    for i in args:\n",
    "        total+=i\n",
    "    return total\n",
    "\n",
    "\n",
    "total(10,20,30,40,50,60,70,40,10,20,20,20)"
   ]
  },
  {
   "cell_type": "code",
   "execution_count": 22,
   "id": "8b902166-c39c-4d80-ae82-f2813ab952e7",
   "metadata": {},
   "outputs": [
    {
     "data": {
      "text/plain": [
       "function"
      ]
     },
     "execution_count": 22,
     "metadata": {},
     "output_type": "execute_result"
    }
   ],
   "source": [
    "type(total)"
   ]
  },
  {
   "cell_type": "code",
   "execution_count": 23,
   "id": "6f9810c1-5604-4e25-895c-0dc09797edad",
   "metadata": {},
   "outputs": [
    {
     "name": "stdout",
     "output_type": "stream",
     "text": [
      "Help on function total in module __main__:\n",
      "\n",
      "total(*args)\n",
      "\n"
     ]
    }
   ],
   "source": [
    "help(total)"
   ]
  },
  {
   "cell_type": "code",
   "execution_count": 21,
   "id": "18f315ab-4ffe-4464-b87d-c8a09ea17905",
   "metadata": {},
   "outputs": [
    {
     "data": {
      "text/plain": [
       "300"
      ]
     },
     "execution_count": 21,
     "metadata": {},
     "output_type": "execute_result"
    }
   ],
   "source": [
    "def total(*args):\n",
    "    total=0\n",
    "    for i in args:\n",
    "        total+=i\n",
    "    return total\n",
    "\n",
    "\n",
    "total(100,200)"
   ]
  },
  {
   "cell_type": "code",
   "execution_count": 24,
   "id": "59fd29ec-de42-4789-9a98-7e104eb3936a",
   "metadata": {},
   "outputs": [
    {
     "name": "stdout",
     "output_type": "stream",
     "text": [
      "\n"
     ]
    }
   ],
   "source": [
    "# cheetsheet # shift+tab\n",
    "\n",
    "print('')"
   ]
  },
  {
   "cell_type": "code",
   "execution_count": 26,
   "id": "a7e7567b-136e-4486-a586-fa19d4971e4a",
   "metadata": {},
   "outputs": [
    {
     "data": {
      "text/plain": [
       "800"
      ]
     },
     "execution_count": 26,
     "metadata": {},
     "output_type": "execute_result"
    }
   ],
   "source": [
    "total(100,300,400)"
   ]
  },
  {
   "cell_type": "code",
   "execution_count": 27,
   "id": "2ff195b6-1b76-4a05-bce7-6c09e42105d9",
   "metadata": {},
   "outputs": [
    {
     "ename": "TypeError",
     "evalue": "unsupported operand type(s) for +=: 'int' and 'str'",
     "output_type": "error",
     "traceback": [
      "\u001b[1;31m---------------------------------------------------------------------------\u001b[0m",
      "\u001b[1;31mTypeError\u001b[0m                                 Traceback (most recent call last)",
      "Cell \u001b[1;32mIn[27], line 1\u001b[0m\n\u001b[1;32m----> 1\u001b[0m \u001b[43mtotal\u001b[49m\u001b[43m(\u001b[49m\u001b[38;5;124;43m'\u001b[39;49m\u001b[38;5;124;43mUday\u001b[39;49m\u001b[38;5;124;43m'\u001b[39;49m\u001b[43m,\u001b[49m\u001b[38;5;124;43m'\u001b[39;49m\u001b[38;5;124;43mRasal\u001b[39;49m\u001b[38;5;124;43m'\u001b[39;49m\u001b[43m)\u001b[49m\n",
      "Cell \u001b[1;32mIn[21], line 4\u001b[0m, in \u001b[0;36mtotal\u001b[1;34m(*args)\u001b[0m\n\u001b[0;32m      2\u001b[0m total\u001b[38;5;241m=\u001b[39m\u001b[38;5;241m0\u001b[39m\n\u001b[0;32m      3\u001b[0m \u001b[38;5;28;01mfor\u001b[39;00m i \u001b[38;5;129;01min\u001b[39;00m args:\n\u001b[1;32m----> 4\u001b[0m     \u001b[43mtotal\u001b[49m\u001b[38;5;241;43m+\u001b[39;49m\u001b[38;5;241;43m=\u001b[39;49m\u001b[43mi\u001b[49m\n\u001b[0;32m      5\u001b[0m \u001b[38;5;28;01mreturn\u001b[39;00m total\n",
      "\u001b[1;31mTypeError\u001b[0m: unsupported operand type(s) for +=: 'int' and 'str'"
     ]
    }
   ],
   "source": [
    "total('Uday','Rasal')"
   ]
  },
  {
   "cell_type": "code",
   "execution_count": 34,
   "id": "02acc154-f5e8-4325-b0ff-2e4f5c2d0cb0",
   "metadata": {},
   "outputs": [
    {
     "name": "stdout",
     "output_type": "stream",
     "text": [
      "The following function returns the sum of two parameters.\n",
      "114\n"
     ]
    }
   ],
   "source": [
    "# define a function\n",
    "\n",
    "def addition(x,y):\n",
    "    '''The following function returns the sum of two parameters.'''\n",
    "    z=x+y\n",
    "    return z\n",
    "\n",
    "print(addition.__doc__)  # Doc string\n",
    "print(addition(45,69))"
   ]
  },
  {
   "cell_type": "code",
   "execution_count": 43,
   "id": "3b1f517d-2b8b-44eb-9f05-ce265a785be8",
   "metadata": {},
   "outputs": [],
   "source": [
    "# Write a function that gives the total of the first ten numbers.\n",
    "\n"
   ]
  },
  {
   "cell_type": "code",
   "execution_count": 42,
   "id": "6ee38240-e175-41c0-b453-720e55c85991",
   "metadata": {},
   "outputs": [
    {
     "name": "stdout",
     "output_type": "stream",
     "text": [
      "The sum of the value from 1 to 10 is: 55\n"
     ]
    }
   ],
   "source": [
    "def total_number1(x):\n",
    "    total=0\n",
    "    for i in range(1,x+1):\n",
    "        total+=i\n",
    "    return total\n",
    "\n",
    "print('The sum of the value from 1 to 10 is:',total_number1(10))"
   ]
  },
  {
   "cell_type": "code",
   "execution_count": 45,
   "id": "00cecdc2-07b8-41be-8791-b2505fed0e34",
   "metadata": {},
   "outputs": [
    {
     "name": "stdin",
     "output_type": "stream",
     "text": [
      "Enter your range: 100\n"
     ]
    },
    {
     "name": "stdout",
     "output_type": "stream",
     "text": [
      "The sum of the value from 1 to 10 is: 5050\n"
     ]
    }
   ],
   "source": [
    "def total_number1(x):\n",
    "    total=0\n",
    "    for i in range(1,x+1):\n",
    "        total+=i\n",
    "    return total\n",
    "\n",
    "y=int(input('Enter your range:'))\n",
    "print('The sum of the value from 1 to 10 is:',total_number1(y))"
   ]
  },
  {
   "cell_type": "code",
   "execution_count": 47,
   "id": "c6a5eacf-43df-4280-9fac-86e7f5731d7c",
   "metadata": {},
   "outputs": [
    {
     "name": "stdin",
     "output_type": "stream",
     "text": [
      "Enter your range: 50\n"
     ]
    },
    {
     "name": "stdout",
     "output_type": "stream",
     "text": [
      "The sum of the value from 1 to 10 is: 1275\n"
     ]
    }
   ],
   "source": [
    "y=int(input('Enter your range:'))\n",
    "print('The sum of the value from 1 to 10 is:',total_number1(y))"
   ]
  },
  {
   "cell_type": "code",
   "execution_count": 48,
   "id": "cd267e7d-67da-40ad-88de-1d1c3daf7015",
   "metadata": {},
   "outputs": [
    {
     "name": "stdin",
     "output_type": "stream",
     "text": [
      "Enter your range: 40\n"
     ]
    },
    {
     "name": "stdout",
     "output_type": "stream",
     "text": [
      "The sum of the value from 1 to 10 is: 820\n"
     ]
    }
   ],
   "source": [
    "def total_number1():\n",
    "    y=int(input('Enter your range:'))\n",
    "    total=0\n",
    "    for i in range(1,y+1):\n",
    "        total+=i\n",
    "    return total\n",
    "\n",
    "\n",
    "print('The sum of the value from 1 to 10 is:',total_number1())"
   ]
  },
  {
   "cell_type": "code",
   "execution_count": 51,
   "id": "f6bf6375-1541-4258-8b46-e813f233746c",
   "metadata": {},
   "outputs": [
    {
     "name": "stdin",
     "output_type": "stream",
     "text": [
      "Enter your range: 20\n"
     ]
    },
    {
     "data": {
      "text/plain": [
       "210"
      ]
     },
     "execution_count": 51,
     "metadata": {},
     "output_type": "execute_result"
    }
   ],
   "source": [
    "total_number1()"
   ]
  },
  {
   "cell_type": "code",
   "execution_count": 55,
   "id": "e03466cc-3ed0-40ae-9bc5-1c74c8440d9d",
   "metadata": {},
   "outputs": [
    {
     "name": "stdin",
     "output_type": "stream",
     "text": [
      "Enter any number to increment 1 value: 2000\n"
     ]
    },
    {
     "name": "stdout",
     "output_type": "stream",
     "text": [
      "2000 -----------> 2001\n"
     ]
    }
   ],
   "source": [
    "# 100 -----> 101\n",
    "\n",
    "def added_num(num1):\n",
    "    def incremented_num(num1):\n",
    "        num1=num1+1\n",
    "        return num1\n",
    "    num2=incremented_num(num1)\n",
    "    print(num1,'----------->',num2)\n",
    "\n",
    "x=int(input('Enter any number to increment 1 value:'))\n",
    "added_num(x)"
   ]
  },
  {
   "cell_type": "code",
   "execution_count": 56,
   "id": "4e33f191-e767-44b5-a19f-b8729d0bd3ca",
   "metadata": {},
   "outputs": [
    {
     "name": "stdin",
     "output_type": "stream",
     "text": [
      "Enter any number to increment 1 value: 500\n"
     ]
    },
    {
     "name": "stdout",
     "output_type": "stream",
     "text": [
      "500 -----------> 501\n"
     ]
    }
   ],
   "source": [
    "x=int(input('Enter any number to increment 1 value:'))\n",
    "added_num(x)"
   ]
  },
  {
   "cell_type": "code",
   "execution_count": 59,
   "id": "15eb779b-2934-4ee5-8692-31defcc20e31",
   "metadata": {},
   "outputs": [
    {
     "name": "stdin",
     "output_type": "stream",
     "text": [
      "Enter any number to increment 1 value: 10\n"
     ]
    },
    {
     "name": "stdout",
     "output_type": "stream",
     "text": [
      "10 -----------> 20\n"
     ]
    }
   ],
   "source": [
    "\n",
    "def added_num():\n",
    "    num1=int(input('Enter any number to increment 1 value:'))\n",
    "    def incremented_num(num1):\n",
    "        num1=num1+10\n",
    "        return num1\n",
    "    num2=incremented_num(num1)\n",
    "    print(num1,'----------->',num2)\n",
    "\n",
    "\n",
    "added_num()"
   ]
  },
  {
   "cell_type": "code",
   "execution_count": null,
   "id": "518a8315-6246-42d8-a5dd-e5dd7ada4ceb",
   "metadata": {},
   "outputs": [],
   "source": [
    "print()"
   ]
  },
  {
   "cell_type": "code",
   "execution_count": 14,
   "id": "ce94723f-0f22-4a49-98ef-4bb1c2ae18b5",
   "metadata": {},
   "outputs": [
    {
     "data": {
      "text/plain": [
       "60"
      ]
     },
     "execution_count": 14,
     "metadata": {},
     "output_type": "execute_result"
    }
   ],
   "source": [
    "def sum(x,y):\n",
    "    sum1=x+y\n",
    "    return sum1\n",
    "\n",
    "\n",
    "sum(10,50)"
   ]
  },
  {
   "cell_type": "code",
   "execution_count": 15,
   "id": "85d4752b-9554-41a3-8a60-cb54244fdf0d",
   "metadata": {},
   "outputs": [
    {
     "name": "stdout",
     "output_type": "stream",
     "text": [
      "30\n"
     ]
    }
   ],
   "source": [
    "# waf to find the sum of 1 to 10 sum of even numbers.\n",
    "\n",
    "\n",
    "def even_num(x,y):\n",
    "    total_even=0\n",
    "    for i in range(x,y):\n",
    "        if i%2==0:\n",
    "            total_even+=i\n",
    "\n",
    "    print(total_even)\n",
    "\n",
    "even_num(1,11)"
   ]
  },
  {
   "cell_type": "code",
   "execution_count": 16,
   "id": "c98930eb-f6f9-41ba-ad8e-cc2926452017",
   "metadata": {},
   "outputs": [
    {
     "name": "stdout",
     "output_type": "stream",
     "text": [
      "30\n"
     ]
    }
   ],
   "source": [
    "def even_loc():\n",
    "    last_val=11\n",
    "    total=0\n",
    "    for i in range(1,last_val):\n",
    "        if i%2==0:\n",
    "            total+=i\n",
    "    print(total)\n",
    "\n",
    "even_loc()"
   ]
  },
  {
   "cell_type": "code",
   "execution_count": 21,
   "id": "285ffb1a-da92-4b73-8efd-dede96781c7b",
   "metadata": {},
   "outputs": [
    {
     "name": "stdout",
     "output_type": "stream",
     "text": [
      "[2, 4, 6, 8, 10] = 30\n"
     ]
    }
   ],
   "source": [
    "x1=11\n",
    "def even_glob():\n",
    "    list_even=[]\n",
    "    total=0\n",
    "    for i in range(1,x1):\n",
    "        if i%2==0:\n",
    "            list_even.append(i)\n",
    "            total+=i\n",
    "    print(list_even,'=',total)\n",
    "even_glob()"
   ]
  },
  {
   "cell_type": "code",
   "execution_count": 22,
   "id": "5fbeb957-391f-4be9-adab-a41891c8a6b3",
   "metadata": {},
   "outputs": [
    {
     "name": "stdout",
     "output_type": "stream",
     "text": [
      "[2, 4, 6, 8, 10] = 30\n"
     ]
    }
   ],
   "source": [
    "\n",
    "def even_glob(x1):\n",
    "    list_even=[]\n",
    "    total=0\n",
    "    for i in range(1,x1):\n",
    "        if i%2==0:\n",
    "            list_even.append(i)\n",
    "            total+=i\n",
    "    print(list_even,'=',total)\n",
    "even_glob(11)"
   ]
  },
  {
   "cell_type": "code",
   "execution_count": 30,
   "id": "8b6659aa-d357-4c22-baa9-04176d3d7059",
   "metadata": {},
   "outputs": [
    {
     "name": "stdout",
     "output_type": "stream",
     "text": [
      "[2, 4, 6, 8, 10, 12, 14, 16, 18, 20] 110\n"
     ]
    }
   ],
   "source": [
    "def even_loc(x1):\n",
    "    list1=[]\n",
    "    last_val=x1\n",
    "    total=0\n",
    "    for i in range(1,last_val+1):\n",
    "        if i%2==0:\n",
    "            list1.append(i)\n",
    "            total+=i\n",
    "    print(list1,total)\n",
    "\n",
    "even_loc(20)"
   ]
  },
  {
   "cell_type": "code",
   "execution_count": 33,
   "id": "80e2def0-6d9e-4214-aaf4-ba08c8fc978b",
   "metadata": {},
   "outputs": [
    {
     "name": "stdin",
     "output_type": "stream",
     "text": [
      "Enter your range: 40\n"
     ]
    },
    {
     "name": "stdout",
     "output_type": "stream",
     "text": [
      "[2, 4, 6, 8, 10, 12, 14, 16, 18, 20, 22, 24, 26, 28, 30, 32, 34, 36, 38, 40] 420\n"
     ]
    }
   ],
   "source": [
    "def even_loc(x1):\n",
    "    list1=[]\n",
    "    last_val=x1\n",
    "    total=0\n",
    "    for i in range(1,last_val+1):\n",
    "        if i%2==0:\n",
    "            list1.append(i)\n",
    "            total+=i\n",
    "    print(list1,total)\n",
    "user1=int(input('Enter your range:'))\n",
    "even_loc(user1)"
   ]
  },
  {
   "cell_type": "code",
   "execution_count": null,
   "id": "3eed1924-9aab-4381-95ef-1d9b1d8a6e0f",
   "metadata": {},
   "outputs": [],
   "source": [
    "print('Hello world')"
   ]
  },
  {
   "cell_type": "code",
   "execution_count": 39,
   "id": "0bbe4ee2-e1f9-4e58-a225-b43d2184e2cb",
   "metadata": {},
   "outputs": [
    {
     "name": "stdin",
     "output_type": "stream",
     "text": [
      "Enter your range: 10\n"
     ]
    },
    {
     "name": "stdout",
     "output_type": "stream",
     "text": [
      "[2, 4, 6, 8, 10] 30\n"
     ]
    }
   ],
   "source": [
    "def even_loc():\n",
    "    last_val=int(input('Enter your range:'))\n",
    "    list1=[]\n",
    "    total=0\n",
    "    for i in range(1,last_val+1):\n",
    "        if i%2==0:\n",
    "            list1.append(i)\n",
    "            total+=i\n",
    "    print(list1,total)\n",
    "\n",
    "even_loc()"
   ]
  },
  {
   "cell_type": "code",
   "execution_count": null,
   "id": "49c2a9ad-f2cd-4f2b-b612-ee5a7c13ce26",
   "metadata": {},
   "outputs": [],
   "source": []
  },
  {
   "cell_type": "code",
   "execution_count": null,
   "id": "344c45fb-931e-4067-8dff-ada290bd6a23",
   "metadata": {},
   "outputs": [],
   "source": []
  },
  {
   "cell_type": "code",
   "execution_count": 40,
   "id": "59806854-2e38-4d3d-8d61-0eb814e73ebf",
   "metadata": {},
   "outputs": [
    {
     "name": "stdin",
     "output_type": "stream",
     "text": [
      "Enter your range: 100\n"
     ]
    },
    {
     "name": "stdout",
     "output_type": "stream",
     "text": [
      "[2, 4, 6, 8, 10, 12, 14, 16, 18, 20, 22, 24, 26, 28, 30, 32, 34, 36, 38, 40, 42, 44, 46, 48, 50, 52, 54, 56, 58, 60, 62, 64, 66, 68, 70, 72, 74, 76, 78, 80, 82, 84, 86, 88, 90, 92, 94, 96, 98, 100] 2550\n"
     ]
    }
   ],
   "source": [
    "even_loc()"
   ]
  },
  {
   "cell_type": "code",
   "execution_count": null,
   "id": "0dc6b47e-0e09-468b-9e1b-a7f57cc418c7",
   "metadata": {},
   "outputs": [],
   "source": [
    "# Write a function to take three input from user and calculate the sum of two value and third values is used for divide the \n",
    "# total of two value."
   ]
  },
  {
   "cell_type": "code",
   "execution_count": 42,
   "id": "d182545d-ca4c-4ce4-8245-b23a1214475a",
   "metadata": {},
   "outputs": [
    {
     "name": "stdin",
     "output_type": "stream",
     "text": [
      "Enter first number: 10\n",
      "Enter second number: 20\n"
     ]
    },
    {
     "name": "stdout",
     "output_type": "stream",
     "text": [
      "The sum of two numbers is 10 and 20 is 30\n"
     ]
    },
    {
     "name": "stdin",
     "output_type": "stream",
     "text": [
      "Enter third value for value the sum: 2\n"
     ]
    },
    {
     "name": "stdout",
     "output_type": "stream",
     "text": [
      "After the sum of your number 30 then divided by 2 your value will be 15.0 \n"
     ]
    }
   ],
   "source": [
    "def func1():\n",
    "    x=int(input('Enter first number:'))\n",
    "    y=int(input('Enter second number:'))\n",
    "    sum1=x+y\n",
    "    print(f'The sum of two numbers is {x} and {y} is {sum1}')\n",
    "    z=int(input('Enter third value for value the sum:'))\n",
    "    div=sum1/z\n",
    "    print(f'After the sum of your number {sum1} then divided by {z} your value will be {div} ')\n",
    "\n",
    "\n",
    "func1()"
   ]
  },
  {
   "cell_type": "code",
   "execution_count": 48,
   "id": "41a185c6-7453-4df4-8864-bd50d2650919",
   "metadata": {},
   "outputs": [
    {
     "name": "stdin",
     "output_type": "stream",
     "text": [
      "Enter first number: 10\n",
      "Enter second number: 20\n"
     ]
    },
    {
     "name": "stdout",
     "output_type": "stream",
     "text": [
      "30\n"
     ]
    },
    {
     "name": "stdin",
     "output_type": "stream",
     "text": [
      "Enter third number to divide 5\n"
     ]
    },
    {
     "name": "stdout",
     "output_type": "stream",
     "text": [
      "After the division your value will be 6.0\n"
     ]
    }
   ],
   "source": [
    "def function1(a,b):\n",
    "    total=a+b\n",
    "    print(total)\n",
    "    c=int(input('Enter third number to divide'))\n",
    "    div1=total/c\n",
    "    print(f'After the division your value will be {div1}')\n",
    "\n",
    "a=int(input('Enter first number:'))\n",
    "b=int(input('Enter second number:'))\n",
    "\n",
    "function1(a,b)"
   ]
  },
  {
   "cell_type": "code",
   "execution_count": 68,
   "id": "50739a91-933c-4209-8d27-a1bf11c3db39",
   "metadata": {},
   "outputs": [
    {
     "name": "stdin",
     "output_type": "stream",
     "text": [
      "Enter first number: 10\n",
      "Enter second number: 20\n"
     ]
    },
    {
     "name": "stdout",
     "output_type": "stream",
     "text": [
      "30\n"
     ]
    },
    {
     "name": "stdin",
     "output_type": "stream",
     "text": [
      "Do your want to divide this number[yes/No] YES\n"
     ]
    },
    {
     "name": "stdout",
     "output_type": "stream",
     "text": [
      "YES\n"
     ]
    },
    {
     "name": "stdin",
     "output_type": "stream",
     "text": [
      "Enter number to divide this value: 5\n"
     ]
    },
    {
     "name": "stdout",
     "output_type": "stream",
     "text": [
      "After the dividion value is 6.0 \n",
      "You value will be displayed.\n"
     ]
    }
   ],
   "source": [
    "def function1(a,b):\n",
    "    total=a+b\n",
    "    print(total)\n",
    "    user2=input('Do your want to divide this number[yes/No]')\n",
    "    print(user2)\n",
    "    if user2.lower()=='yes':\n",
    "        user1=int(input('Enter number to divide this value:'))\n",
    "        z=total/user1\n",
    "        print(f'After the dividion value is {z} \\nYou value will be displayed.')\n",
    "    else:\n",
    "        print('Thank You Without Division')\n",
    "        \n",
    "    \n",
    "\n",
    "a=int(input('Enter first number:'))\n",
    "b=int(input('Enter second number:'))\n",
    "\n",
    "function1(a,b)"
   ]
  },
  {
   "cell_type": "code",
   "execution_count": 1,
   "id": "caeeea2f-81c2-4d9f-af41-ad1140f541ca",
   "metadata": {},
   "outputs": [
    {
     "name": "stdin",
     "output_type": "stream",
     "text": [
      "Enter age of first person: 10\n",
      "Enter age of second person: 120\n",
      "Enter age of third person: 200\n"
     ]
    },
    {
     "name": "stdout",
     "output_type": "stream",
     "text": [
      "The person age 200 is greater than 10,120\n"
     ]
    }
   ],
   "source": [
    "# Write a function to find the greatest amoung three user input age of person.\n",
    "\n",
    "def func():\n",
    "    x=int(input('Enter age of first person:'))\n",
    "    y=int(input('Enter age of second person:'))\n",
    "    z=int(input('Enter age of third person:'))\n",
    "\n",
    "    if x>y and x>z:\n",
    "        print(f'The person age {x} is greater than {y},{z}')\n",
    "    elif y>x and y>z:\n",
    "        print(f'The person age {y} is greater than {x},{z}')\n",
    "    else:\n",
    "        print(f'The person age {z} is greater than {x},{y}')\n",
    "\n",
    "func()"
   ]
  },
  {
   "cell_type": "code",
   "execution_count": 4,
   "id": "576f64a0-d190-4637-8c1e-7a9bb8a2fff8",
   "metadata": {},
   "outputs": [
    {
     "name": "stdin",
     "output_type": "stream",
     "text": [
      "Enter age of first person: 100\n",
      "Enter age of second person: 120\n",
      "Enter age of third person: 30\n"
     ]
    },
    {
     "data": {
      "text/plain": [
       "120"
      ]
     },
     "execution_count": 4,
     "metadata": {},
     "output_type": "execute_result"
    }
   ],
   "source": [
    "def max_of_two(x,y):\n",
    "    if x>y:\n",
    "        return x\n",
    "    return y\n",
    "def max_of_three(x,y,z):\n",
    "    return max_of_two(x, max_of_two(y,z))\n",
    "\n",
    "x=int(input('Enter age of first person:'))\n",
    "y=int(input('Enter age of second person:'))\n",
    "z=int(input('Enter age of third person:'))\n",
    "max_of_three(x,y,z)"
   ]
  },
  {
   "cell_type": "code",
   "execution_count": 15,
   "id": "c0b8b47d-34b8-4385-bc05-468d3385809a",
   "metadata": {},
   "outputs": [
    {
     "name": "stdin",
     "output_type": "stream",
     "text": [
      "Enter any value: 39\n"
     ]
    },
    {
     "name": "stdout",
     "output_type": "stream",
     "text": [
      "The Exponent of your number value is: 112595147462071192539789448988889059930192105219196517009951959\n"
     ]
    }
   ],
   "source": [
    "# Write a function to find the exponent of user input number. Alert: user input number should be in \n",
    "# positve value not in negative\n",
    "\n",
    "\n",
    "def func1():\n",
    "    user1=int(input('Enter any value:'))\n",
    "    if user1>=0:\n",
    "        if user1<=40:\n",
    "            expo=user1**user1\n",
    "            print(f'The Exponent of your number value is: {expo}')\n",
    "        else:\n",
    "            print('You value is not greater than 40.')\n",
    "    else:\n",
    "        print('Enter Positive value only.')\n",
    "\n",
    "func1()"
   ]
  },
  {
   "cell_type": "code",
   "execution_count": null,
   "id": "87de79ab-6300-4e8c-a272-a67f3749fd2b",
   "metadata": {},
   "outputs": [],
   "source": []
  },
  {
   "cell_type": "code",
   "execution_count": 17,
   "id": "37f9ccf4-39c9-4e4b-b0c3-59072ae1dd02",
   "metadata": {},
   "outputs": [
    {
     "name": "stdin",
     "output_type": "stream",
     "text": [
      "Enter your starting range: 10\n",
      "Enter your ending range: 20\n"
     ]
    },
    {
     "name": "stdout",
     "output_type": "stream",
     "text": [
      "10**2=100\n",
      "11**2=121\n",
      "12**2=144\n",
      "13**2=169\n",
      "14**2=196\n",
      "15**2=225\n",
      "16**2=256\n",
      "17**2=289\n",
      "18**2=324\n",
      "19**2=361\n",
      "20**2=400\n"
     ]
    }
   ],
   "source": [
    "# Write a program to find the square of number given range by the user.\n",
    "# Starting and ending value taken from the user.\n",
    "\n",
    "\n",
    "def square():\n",
    "    x=int(input('Enter your starting range:'))\n",
    "    y=int(input('Enter your ending range:'))\n",
    "    while x<y+1:\n",
    "        sqr=x**2\n",
    "        print(f'{x}**2={sqr}')\n",
    "        x+=1\n",
    "square()"
   ]
  },
  {
   "cell_type": "code",
   "execution_count": 20,
   "id": "7cedaa5a-ffb4-4535-a0d5-325b6c5108ff",
   "metadata": {},
   "outputs": [
    {
     "name": "stdin",
     "output_type": "stream",
     "text": [
      "Enter your starting range: 10\n",
      "Enter your ending range: 20\n"
     ]
    },
    {
     "name": "stdout",
     "output_type": "stream",
     "text": [
      "10**2=100\n",
      "11**2=121\n",
      "12**2=144\n",
      "13**2=169\n",
      "14**2=196\n",
      "15**2=225\n",
      "16**2=256\n",
      "17**2=289\n",
      "18**2=324\n",
      "19**2=361\n",
      "20**2=400\n"
     ]
    }
   ],
   "source": [
    "def func1():\n",
    "    x=int(input('Enter your starting range:'))\n",
    "    y=int(input('Enter your ending range:'))\n",
    "    for i in range(x,y+1):\n",
    "        sqr1=i**2\n",
    "        print(f'{i}**2={sqr1}')\n",
    "\n",
    "\n",
    "func1()"
   ]
  },
  {
   "cell_type": "code",
   "execution_count": null,
   "id": "71f12969-46c8-4ab1-baa7-fdc5e641a5c5",
   "metadata": {},
   "outputs": [],
   "source": []
  }
 ],
 "metadata": {
  "kernelspec": {
   "display_name": "Python 3 (ipykernel)",
   "language": "python",
   "name": "python3"
  },
  "language_info": {
   "codemirror_mode": {
    "name": "ipython",
    "version": 3
   },
   "file_extension": ".py",
   "mimetype": "text/x-python",
   "name": "python",
   "nbconvert_exporter": "python",
   "pygments_lexer": "ipython3",
   "version": "3.11.4"
  }
 },
 "nbformat": 4,
 "nbformat_minor": 5
}
