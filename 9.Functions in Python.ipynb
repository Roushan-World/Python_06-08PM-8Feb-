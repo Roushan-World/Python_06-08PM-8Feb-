{
 "cells": [
  {
   "cell_type": "markdown",
   "id": "4187b2d4-2868-4824-a0b5-5c142cbcdc7c",
   "metadata": {},
   "source": [
    "# 9. Functions in Python\n",
    "* _________________________________________________________________________________________\n",
    " * __In Python, a function is a group of related statements that performs a specific task.__\n",
    " * __Functions help break our program into smaller and modular chunks. *As our program grows larger and larger, functions make it more organized and manageable.__\n",
    " * __Furthermore, it avoids repetition and make the code reusable.__\n",
    " * __There are two types of functions:__\n",
    " * __Pre-defined functions.__\n",
    " * __User-defined functions.__\n",
    " * __In Python a function is defined using the def keyword followed by the function name and parentheses ().__\n",
    " * __Keyword def that marks the start of the function header.__\n",
    " * __A function name to uniquely identify the function.__\n",
    " * __Function naming follows the same rules of writing identifiers in Python.__\n",
    " * __Parameters (arguments) through which we pass values to a function. They are optional.__\n",
    " * __A colon(:) to mark the end of the funciton header.__\n",
    " * __Optional documentation string (docstring) to describe what the function does.__\n",
    " * __One or more valid python statements that make up the function body.__\n",
    " * __Statements must have the same indentation level(usually 4 spaces).__\n",
    " * __An optional return statemnet return a value from the function.__"
   ]
  },
  {
   "cell_type": "code",
   "execution_count": 10,
   "id": "10e02536-cee7-4131-9489-47e5c4b1a01d",
   "metadata": {},
   "outputs": [
    {
     "name": "stdout",
     "output_type": "stream",
     "text": [
      "Function working Successfully!\n"
     ]
    },
    {
     "data": {
      "text/plain": [
       "'Congratulation! Ajinkya'"
      ]
     },
     "execution_count": 10,
     "metadata": {},
     "output_type": "execute_result"
    }
   ],
   "source": [
    "def greet(y):\n",
    "    x='Congratulation! '+y\n",
    "    print('Function working Successfully!')\n",
    "    return x\n",
    "    \n",
    "    \n",
    "\n",
    "greet('Ajinkya')"
   ]
  },
  {
   "cell_type": "code",
   "execution_count": 11,
   "id": "607837c7-4da7-4295-8f70-6fe988f235b7",
   "metadata": {},
   "outputs": [
    {
     "name": "stdout",
     "output_type": "stream",
     "text": [
      "Function working Successfully!\n"
     ]
    },
    {
     "data": {
      "text/plain": [
       "'Congratulation! Uday'"
      ]
     },
     "execution_count": 11,
     "metadata": {},
     "output_type": "execute_result"
    }
   ],
   "source": [
    "greet('Uday')"
   ]
  },
  {
   "cell_type": "code",
   "execution_count": 12,
   "id": "dd5539c2-b9ef-4825-a4c3-ff225633e8ab",
   "metadata": {},
   "outputs": [
    {
     "name": "stdout",
     "output_type": "stream",
     "text": [
      "Function working Successfully!\n"
     ]
    },
    {
     "data": {
      "text/plain": [
       "'Congratulation! Babli'"
      ]
     },
     "execution_count": 12,
     "metadata": {},
     "output_type": "execute_result"
    }
   ],
   "source": [
    "greet('Babli')"
   ]
  },
  {
   "cell_type": "code",
   "execution_count": 13,
   "id": "dd2652c4-7e4d-446a-95f6-1859eec1fe30",
   "metadata": {},
   "outputs": [
    {
     "name": "stdout",
     "output_type": "stream",
     "text": [
      "Function working Successfully!\n"
     ]
    },
    {
     "data": {
      "text/plain": [
       "'Congratulation! Srinivash'"
      ]
     },
     "execution_count": 13,
     "metadata": {},
     "output_type": "execute_result"
    }
   ],
   "source": [
    "greet('Srinivash')"
   ]
  },
  {
   "cell_type": "code",
   "execution_count": 14,
   "id": "6b6bd325-e473-4ece-a361-f8d5f6cd0737",
   "metadata": {},
   "outputs": [
    {
     "name": "stdout",
     "output_type": "stream",
     "text": [
      "Hello world\n"
     ]
    },
    {
     "ename": "SyntaxError",
     "evalue": "'return' outside function (427105306.py, line 3)",
     "output_type": "error",
     "traceback": [
      "\u001b[1;36m  Cell \u001b[1;32mIn[14], line 3\u001b[1;36m\u001b[0m\n\u001b[1;33m    return \"Hello world\"\u001b[0m\n\u001b[1;37m    ^\u001b[0m\n\u001b[1;31mSyntaxError\u001b[0m\u001b[1;31m:\u001b[0m 'return' outside function\n"
     ]
    }
   ],
   "source": [
    "print('Hello world')\n",
    "\n",
    "return \"Hello world\""
   ]
  },
  {
   "cell_type": "code",
   "execution_count": 22,
   "id": "b53a669b-2aa8-42b9-9cc8-974bb5db7b57",
   "metadata": {},
   "outputs": [
    {
     "name": "stdout",
     "output_type": "stream",
     "text": [
      "The sum of two numbers is: 300\n"
     ]
    }
   ],
   "source": [
    "# Waf to sum of two number:\n",
    "\n",
    "def sum(a,b):\n",
    "    z=a+b\n",
    "    print('The sum of two numbers is:',z)\n",
    "    #return z\n",
    "\n",
    "\n",
    "sum(100,200)"
   ]
  },
  {
   "cell_type": "code",
   "execution_count": 23,
   "id": "4978e64c-5d38-4bce-8e63-e087eb1ca612",
   "metadata": {},
   "outputs": [
    {
     "name": "stdout",
     "output_type": "stream",
     "text": [
      "Function working Successfully!\n"
     ]
    },
    {
     "data": {
      "text/plain": [
       "'Congratulation! Pratigya'"
      ]
     },
     "execution_count": 23,
     "metadata": {},
     "output_type": "execute_result"
    }
   ],
   "source": [
    "greet('Pratigya')"
   ]
  },
  {
   "cell_type": "code",
   "execution_count": 24,
   "id": "a1ba01ef-9525-4fcd-a72e-0dcc0c328be0",
   "metadata": {},
   "outputs": [
    {
     "name": "stdout",
     "output_type": "stream",
     "text": [
      "The sum of two numbers is: 30\n"
     ]
    }
   ],
   "source": [
    "sum(10,20)"
   ]
  },
  {
   "cell_type": "code",
   "execution_count": 25,
   "id": "75f125fb-5f3e-4f52-825f-0c821d7539f1",
   "metadata": {},
   "outputs": [
    {
     "name": "stdout",
     "output_type": "stream",
     "text": [
      "The sum of two numbers is: 114.21\n"
     ]
    }
   ],
   "source": [
    "sum(35.25,78.96)"
   ]
  },
  {
   "cell_type": "code",
   "execution_count": 26,
   "id": "62a8b2c1-c9de-4cbf-95a2-9118846f5291",
   "metadata": {},
   "outputs": [
    {
     "name": "stdout",
     "output_type": "stream",
     "text": [
      "Function working Successfully!\n"
     ]
    },
    {
     "data": {
      "text/plain": [
       "'Congratulation! Hello'"
      ]
     },
     "execution_count": 26,
     "metadata": {},
     "output_type": "execute_result"
    }
   ],
   "source": [
    "greet('Hello')"
   ]
  },
  {
   "cell_type": "code",
   "execution_count": 27,
   "id": "7aeafbbd-be36-4f12-a8e1-61c56a2c75ef",
   "metadata": {},
   "outputs": [
    {
     "name": "stdout",
     "output_type": "stream",
     "text": [
      "The sum of two numbers is: 174\n"
     ]
    }
   ],
   "source": [
    "sum(78,96)"
   ]
  },
  {
   "cell_type": "code",
   "execution_count": 31,
   "id": "7f1d7538-c91d-4af2-811d-3ddc1c61d7be",
   "metadata": {},
   "outputs": [],
   "source": [
    "def msg1():\n",
    "    print('Hello World')\n",
    "\n",
    "def msg2():\n",
    "    print('Good Morning!')\n",
    "    return None"
   ]
  },
  {
   "cell_type": "code",
   "execution_count": 32,
   "id": "4f2eb466-04b5-4fa1-b70e-66c148fdfcf9",
   "metadata": {},
   "outputs": [
    {
     "name": "stdout",
     "output_type": "stream",
     "text": [
      "Hello World\n",
      "Good Morning!\n"
     ]
    }
   ],
   "source": [
    "msg1()\n",
    "msg2()"
   ]
  },
  {
   "cell_type": "code",
   "execution_count": 33,
   "id": "750d7a62-fd28-4c3b-a661-0139f15e1d70",
   "metadata": {},
   "outputs": [
    {
     "name": "stdout",
     "output_type": "stream",
     "text": [
      "Hello World\n",
      "None\n"
     ]
    }
   ],
   "source": [
    "print(msg1())"
   ]
  },
  {
   "cell_type": "code",
   "execution_count": 41,
   "id": "a7e64d46-c60b-4339-a3d1-c760b16a8eb2",
   "metadata": {},
   "outputs": [],
   "source": [
    "def ajinky():\n",
    "    print('Ajinkya yeha dekho')"
   ]
  },
  {
   "cell_type": "code",
   "execution_count": 42,
   "id": "53952b46-2fab-4bdf-990f-a24a67a04db7",
   "metadata": {},
   "outputs": [
    {
     "name": "stdout",
     "output_type": "stream",
     "text": [
      "Ajinkya yeha dekho\n"
     ]
    }
   ],
   "source": [
    "ajinky()"
   ]
  },
  {
   "cell_type": "code",
   "execution_count": 43,
   "id": "8b8530c9-ae8a-4807-8837-5f80977ecfdf",
   "metadata": {},
   "outputs": [
    {
     "name": "stdout",
     "output_type": "stream",
     "text": [
      "Ajinkya yeha dekho\n",
      "None\n"
     ]
    }
   ],
   "source": [
    "print(ajinky())"
   ]
  },
  {
   "cell_type": "code",
   "execution_count": 51,
   "id": "8ab012b3-52b0-4e9d-a9df-edac9db88286",
   "metadata": {},
   "outputs": [
    {
     "name": "stdin",
     "output_type": "stream",
     "text": [
      "Enter first number:  500\n",
      "Enter first number:  700\n"
     ]
    },
    {
     "name": "stdout",
     "output_type": "stream",
     "text": [
      "The sum of two numbers is 500 and 700 is:1200\n"
     ]
    }
   ],
   "source": [
    "# waf with user input that take two value form user.\n",
    "\n",
    "def user1(x,y):\n",
    "    sum1=x+y\n",
    "    print(f'The sum of two numbers is {x} and {y} is:{sum1}')\n",
    "\n",
    "\n",
    "u1=int(input('Enter first number: '))\n",
    "u2=int(input('Enter first number: '))\n",
    "\n",
    "user1(u1,u2)"
   ]
  },
  {
   "cell_type": "markdown",
   "id": "884f0d02-fbd1-4053-b60f-e571dcc06fa3",
   "metadata": {},
   "source": [
    "# Variables\n",
    "\n",
    " * __The input to a funciton is called formal parameter.__\n",
    " * __A variable that is declared inside a function is called a local vairable.__\n",
    " * __The parameter only exists within the function(i.e. the point where the function starts and stops).__\n",
    " * __A variable that is declared outside a funciton definition is called global variable and its value is accessibel modifiable thoughout the program.__"
   ]
  },
  {
   "cell_type": "code",
   "execution_count": 53,
   "id": "eafd2a17-9053-468e-bbae-4209cf517192",
   "metadata": {},
   "outputs": [
    {
     "name": "stdout",
     "output_type": "stream",
     "text": [
      "The sum of two numbers is 200 and 400 is:600\n"
     ]
    }
   ],
   "source": [
    "def user1(x,y):\n",
    "    sum1=x+y\n",
    "    print(f'The sum of two numbers is {x} and {y} is:{sum1}')\n",
    "\n",
    "\n",
    "# u1=int(input('Enter first number: '))\n",
    "# u2=int(input('Enter first number: '))\n",
    "\n",
    "user1(200,400)    # formal parameter"
   ]
  },
  {
   "cell_type": "code",
   "execution_count": 57,
   "id": "9e12eea1-01ac-42f0-a84b-65342569101e",
   "metadata": {},
   "outputs": [
    {
     "name": "stdout",
     "output_type": "stream",
     "text": [
      "The sum of two numbers is 200 and 230 is:430\n"
     ]
    }
   ],
   "source": [
    "def user1(x):\n",
    "    second_val=230   # y is a local variable\n",
    "    sum1=x+second_val\n",
    "    print(f'The sum of two numbers is {x} and {second_val} is:{sum1}')\n",
    "\n",
    "\n",
    "# u1=int(input('Enter first number: '))\n",
    "# u2=int(input('Enter first number: '))\n",
    "\n",
    "user1(200)"
   ]
  },
  {
   "cell_type": "code",
   "execution_count": 58,
   "id": "a6cdb9fc-e556-4715-a9c4-0d06d85926c6",
   "metadata": {},
   "outputs": [
    {
     "ename": "NameError",
     "evalue": "name 'second_val' is not defined",
     "output_type": "error",
     "traceback": [
      "\u001b[1;31m---------------------------------------------------------------------------\u001b[0m",
      "\u001b[1;31mNameError\u001b[0m                                 Traceback (most recent call last)",
      "Cell \u001b[1;32mIn[58], line 1\u001b[0m\n\u001b[1;32m----> 1\u001b[0m \u001b[43msecond_val\u001b[49m\n",
      "\u001b[1;31mNameError\u001b[0m: name 'second_val' is not defined"
     ]
    }
   ],
   "source": [
    "second_val"
   ]
  },
  {
   "cell_type": "code",
   "execution_count": 59,
   "id": "8bbb3f6b-b751-4701-a5ce-e95345d18e58",
   "metadata": {},
   "outputs": [
    {
     "name": "stdout",
     "output_type": "stream",
     "text": [
      "The sum of two numbers is 500 and 230 is:730\n"
     ]
    }
   ],
   "source": [
    "x=500   # x is a global variable\n",
    "def user1():\n",
    "    second_val=230   # y is a local variable\n",
    "    sum1=x+second_val\n",
    "    print(f'The sum of two numbers is {x} and {second_val} is:{sum1}')\n",
    "\n",
    "\n",
    "# u1=int(input('Enter first number: '))\n",
    "# u2=int(input('Enter first number: '))\n",
    "\n",
    "user1()"
   ]
  },
  {
   "cell_type": "code",
   "execution_count": 60,
   "id": "7e9c6dc6-961c-4a80-83f5-495f3b24c433",
   "metadata": {},
   "outputs": [
    {
     "data": {
      "text/plain": [
       "500"
      ]
     },
     "execution_count": 60,
     "metadata": {},
     "output_type": "execute_result"
    }
   ],
   "source": [
    "x"
   ]
  },
  {
   "cell_type": "code",
   "execution_count": 61,
   "id": "49dbb113-03f9-4e63-85a2-c01337a283b3",
   "metadata": {},
   "outputs": [
    {
     "ename": "NameError",
     "evalue": "name 'second_val' is not defined",
     "output_type": "error",
     "traceback": [
      "\u001b[1;31m---------------------------------------------------------------------------\u001b[0m",
      "\u001b[1;31mNameError\u001b[0m                                 Traceback (most recent call last)",
      "Cell \u001b[1;32mIn[61], line 1\u001b[0m\n\u001b[1;32m----> 1\u001b[0m \u001b[43msecond_val\u001b[49m\n",
      "\u001b[1;31mNameError\u001b[0m: name 'second_val' is not defined"
     ]
    }
   ],
   "source": [
    "second_val"
   ]
  },
  {
   "cell_type": "code",
   "execution_count": null,
   "id": "85e282a0-d378-46ce-83a0-ac200353258f",
   "metadata": {},
   "outputs": [],
   "source": []
  }
 ],
 "metadata": {
  "kernelspec": {
   "display_name": "Python 3 (ipykernel)",
   "language": "python",
   "name": "python3"
  },
  "language_info": {
   "codemirror_mode": {
    "name": "ipython",
    "version": 3
   },
   "file_extension": ".py",
   "mimetype": "text/x-python",
   "name": "python",
   "nbconvert_exporter": "python",
   "pygments_lexer": "ipython3",
   "version": "3.11.4"
  }
 },
 "nbformat": 4,
 "nbformat_minor": 5
}
