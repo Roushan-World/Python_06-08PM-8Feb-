{
 "cells": [
  {
   "cell_type": "markdown",
   "id": "24c2711b-8fe4-465d-a802-2e232e805c46",
   "metadata": {},
   "source": [
    "# 15. Lambda Functions in Python\n",
    "\n",
    " * __A Lambda function is a small anonymous funcitons.__\n",
    " * __A Lambda function can take any number of arguments, but can only have one expression.__\n",
    " * __The expression is eveluated and returned.__\n",
    " * __Lambda functions can bu used wherever function objects are required.__\n",
    " * __Ldmbda Expression(or lambda functions) are essentially blocks of code that can be assigned to variable, passed as an arguments, or returned from a funciton call, in Language that support high-order functions.__\n",
    " * __The main role of lambda funcrion is better described in the scenarios when we employ them anonymously inside another functions.__\n",
    " * __n Python, the Lambda function can be utilized as an arguements to ther high-order functions as an arguement..__\n",
    " * __Lambda function in Python__\n",
    "    * __1. Syntax:__\n",
    "       * __Normal Functions__\n",
    "       * __Anonymous Functions__\n",
    "    * __2.Usages__\n",
    "       * __Lambda with filters()__\n",
    "       * __Lambda with map()__\n",
    "       * __Lambda with reduce()__\n",
    "       * __Lambda with sorted()__\n",
    "       * __Lambda with apply()__\n",
    "    * __3.Common Errors__\n",
    "       * __SyntaxError__\n",
    "       * __TypeError__"
   ]
  },
  {
   "cell_type": "code",
   "execution_count": 1,
   "id": "4744f32d-1ca4-4657-ae29-457d9a7181bf",
   "metadata": {},
   "outputs": [
    {
     "data": {
      "text/plain": [
       "16"
      ]
     },
     "execution_count": 1,
     "metadata": {},
     "output_type": "execute_result"
    }
   ],
   "source": [
    "def func(x):\n",
    "    return x+6\n",
    "\n",
    "func(10)"
   ]
  },
  {
   "cell_type": "code",
   "execution_count": 2,
   "id": "a77ffcc4-6828-40be-8d45-f08a35f1ae80",
   "metadata": {},
   "outputs": [
    {
     "data": {
      "text/plain": [
       "16"
      ]
     },
     "execution_count": 2,
     "metadata": {},
     "output_type": "execute_result"
    }
   ],
   "source": [
    "(lambda y:y+6)(10)"
   ]
  },
  {
   "cell_type": "code",
   "execution_count": 4,
   "id": "eb662fd5-2aa2-40c6-b641-9980fb1eac8d",
   "metadata": {},
   "outputs": [
    {
     "data": {
      "text/plain": [
       "32"
      ]
     },
     "execution_count": 4,
     "metadata": {},
     "output_type": "execute_result"
    }
   ],
   "source": [
    "# Exponent\n",
    "\n",
    "def expo(x,y):\n",
    "    return x**y\n",
    "\n",
    "expo(2,5)"
   ]
  },
  {
   "cell_type": "code",
   "execution_count": 5,
   "id": "2dea8e91-7364-4627-91d1-125e214c0bb1",
   "metadata": {},
   "outputs": [
    {
     "data": {
      "text/plain": [
       "32"
      ]
     },
     "execution_count": 5,
     "metadata": {},
     "output_type": "execute_result"
    }
   ],
   "source": [
    "(lambda x,y:x**y)(2,5)"
   ]
  },
  {
   "cell_type": "code",
   "execution_count": 7,
   "id": "f7baaa62-cc46-4636-86e3-81ad4a11f2c3",
   "metadata": {},
   "outputs": [
    {
     "name": "stdin",
     "output_type": "stream",
     "text": [
      "Enter first number: 2\n",
      "Enter second number: 3\n"
     ]
    },
    {
     "data": {
      "text/plain": [
       "8"
      ]
     },
     "execution_count": 7,
     "metadata": {},
     "output_type": "execute_result"
    }
   ],
   "source": [
    "# write a above program using user input\n",
    "\n",
    "def func():\n",
    "    x=int(input('Enter first number:'))\n",
    "    y=int(input('Enter second number:'))\n",
    "    z=x**y\n",
    "    return z\n",
    "\n",
    "\n",
    "func()"
   ]
  },
  {
   "cell_type": "code",
   "execution_count": 19,
   "id": "006e2687-b537-4b70-bf91-fea8c07ea839",
   "metadata": {},
   "outputs": [
    {
     "name": "stdin",
     "output_type": "stream",
     "text": [
      "Enter first number: 10\n",
      "Enter second number: 2\n"
     ]
    },
    {
     "data": {
      "text/plain": [
       "100"
      ]
     },
     "execution_count": 19,
     "metadata": {},
     "output_type": "execute_result"
    }
   ],
   "source": [
    "# using lambda \n",
    "x=int(input('Enter first number:'))\n",
    "y=int(input('Enter second number:'))\n",
    "z=(lambda a,b:a**b)(x,y)\n",
    "z"
   ]
  },
  {
   "cell_type": "code",
   "execution_count": 11,
   "id": "aa7ce152-c1fe-4963-ba09-08e0fd25aaa7",
   "metadata": {},
   "outputs": [
    {
     "data": {
      "text/plain": [
       "1000000000000000"
      ]
     },
     "execution_count": 11,
     "metadata": {},
     "output_type": "execute_result"
    }
   ],
   "source": [
    "z"
   ]
  },
  {
   "cell_type": "code",
   "execution_count": 1,
   "id": "40485ebf-a510-4a5c-adbe-2f9db44be4de",
   "metadata": {},
   "outputs": [
    {
     "name": "stdout",
     "output_type": "stream",
     "text": [
      "\n",
      "Even numbers is given array are : 8\n",
      "\n",
      "Odd numbers is given array are : 8\n"
     ]
    }
   ],
   "source": [
    "# 1. Write a Python program to count the even number and odd numbers in a given array of integers using lambda function and loop.\n",
    "# array_nums=[10,20,30,50,25,26,78,79,45,62,53,51,1001,102,103]\n",
    "\n",
    "#Rupali\n",
    "# 1. WAP to count the even numbers and odd numbers in a given array of integers using lambda function and for loop.\n",
    "\n",
    "array_nums = [10,20,30,50,25,26,78,79,45,45,62,53,51,1001,102,103]\n",
    "\n",
    "#For loop\n",
    "\n",
    "even = []\n",
    "odd = []\n",
    "for i in array_nums:\n",
    "    if i % 2 == 0:\n",
    "        even.append(i)\n",
    "    else:\n",
    "        odd.append(i)\n",
    "\n",
    "print(\"\\nEven numbers is given array are :\",len(even))\n",
    "print(\"\\nOdd numbers is given array are :\",len(odd))"
   ]
  },
  {
   "cell_type": "code",
   "execution_count": 2,
   "id": "9cbe83dd-46d5-4c32-bcdc-d7530b2c0494",
   "metadata": {},
   "outputs": [
    {
     "name": "stdout",
     "output_type": "stream",
     "text": [
      "\n",
      "Number of even numbers in given array:  8\n",
      "\n",
      "Number of odd numbers in given array:  8\n"
     ]
    }
   ],
   "source": [
    "#Rupali\n",
    "# 1. WAP to count the even numbers and odd numbers in a given array of integers using lambda function and for loop.\n",
    "# Lambda\n",
    "array_nums = [10,20,30,50,25,26,78,79,45,45,62,53,51,1001,102,103]\n",
    "\n",
    "\n",
    "even_num = len(list(filter(lambda x: (x % 2 == 0), array_nums)))\n",
    "odd_num = len(list(filter(lambda x: (x % 2 != 0), array_nums)))\n",
    "\n",
    "print(\"\\nNumber of even numbers in given array: \", even_num)\n",
    "print(\"\\nNumber of odd numbers in given array: \", odd_num)"
   ]
  },
  {
   "cell_type": "code",
   "execution_count": 9,
   "id": "4f36a976-6c83-4e36-a886-3bde7021b896",
   "metadata": {},
   "outputs": [
    {
     "name": "stdout",
     "output_type": "stream",
     "text": [
      "\n",
      "The value from list having length 6 are :  ['Monday', 'Friday']\n"
     ]
    }
   ],
   "source": [
    "# Write a Python program to filter a given list to determine if the values in the list have a length of 6 using lambda funciton.\n",
    "# using loop and lambda.\n",
    "# weekdays=['Monday','Tuesday','Wednesday','Thursday','Friday','Saturday']\n",
    "\n",
    "#Rupali\n",
    "#WAP to filter the given list to determine if the values in the list have length of 6 using lambda \n",
    "\n",
    "weekdays = ['Monday', 'Tuesday',' Wednesday', 'Thursday','Friday','Saturday']\n",
    "\n",
    "#Using for loop\n",
    "filtered_list = []\n",
    "\n",
    "for i in weekdays:\n",
    "    if len(i) == 6:\n",
    "        filtered_list.append(i)\n",
    "print(\"\\nThe value from list having length 6 are : \",filtered_list)"
   ]
  },
  {
   "cell_type": "code",
   "execution_count": 8,
   "id": "24af1e2f-8ca1-4d05-b844-66a86004f9bd",
   "metadata": {},
   "outputs": [
    {
     "name": "stdout",
     "output_type": "stream",
     "text": [
      "\n",
      "The value from list having length 6 are :  ['Monday', 'Friday']\n"
     ]
    }
   ],
   "source": [
    "#Rupali\n",
    "weekdays = ['Monday', 'Tuesday',' Wednesday', 'Thursday','Friday','Saturday']\n",
    "\n",
    "#using lamda\n",
    "\n",
    "filter_list = list(filter(lambda x:len(x) == 6 , weekdays))\n",
    "print(\"\\nThe value from list having length 6 are : \",filter_list)"
   ]
  },
  {
   "cell_type": "code",
   "execution_count": 5,
   "id": "536ee2a1-10b0-4460-a6c6-ec06bb72e4f6",
   "metadata": {},
   "outputs": [],
   "source": [
    "import datetime"
   ]
  },
  {
   "cell_type": "code",
   "execution_count": 7,
   "id": "04d3623d-53e2-4164-a488-06428101236d",
   "metadata": {},
   "outputs": [
    {
     "data": {
      "text/plain": [
       "datetime.datetime(2024, 4, 11, 19, 12, 42, 15654)"
      ]
     },
     "execution_count": 7,
     "metadata": {},
     "output_type": "execute_result"
    }
   ],
   "source": [
    "now=datetime.datetime.now()\n",
    "now"
   ]
  },
  {
   "cell_type": "code",
   "execution_count": 10,
   "id": "a1e09788-2bce-4a6a-88cd-5a21e5e0bd84",
   "metadata": {},
   "outputs": [
    {
     "name": "stdout",
     "output_type": "stream",
     "text": [
      "2024-04-11 19:24:49.878064\n",
      "2024\n",
      "4\n",
      "11\n",
      "19:24:49.878064\n"
     ]
    }
   ],
   "source": [
    "# Write a python program to extract year,month,date and time using Lambda.\n",
    "\n",
    "#Rupali\n",
    "# WAP to extract year , month, date , time using lambda function\n",
    "\n",
    "import datetime\n",
    "\n",
    "now = datetime.datetime.now()\n",
    "print(now)\n",
    "\n",
    "year = lambda x:x.year\n",
    "print(year(now))\n",
    "\n",
    "month = lambda x:x.month\n",
    "print(month(now))\n",
    "\n",
    "day = lambda x:x.day\n",
    "print(day(now))\n",
    "\n",
    "time = lambda x:x.time()\n",
    "print(time(now))"
   ]
  },
  {
   "cell_type": "code",
   "execution_count": 1,
   "id": "c68d1ec7-53bb-4a2e-90b1-4f46f9fb9f1c",
   "metadata": {},
   "outputs": [],
   "source": [
    "# Write a program to find the numbers divisible by nineteen or thirteen from a list of numbers using lambda.\n",
    "# nums=[19,65,57,39,152,639,121,44,90,190]"
   ]
  },
  {
   "cell_type": "markdown",
   "id": "bd05deed-055a-46aa-9474-07d628210dbd",
   "metadata": {},
   "source": [
    "# Lambda Filter()\n",
    "\n",
    " * __A higher-order function__\n",
    " * __Syntax: filter(function,sequence)__\n",
    "    * __It applies function to each element of sequence and returns for which the function returns true.__\n",
    " * __filter returns a subset of sequence__\n",
    "    * __to generate the actual list, we need to apply list()__\n",
    "      "
   ]
  },
  {
   "cell_type": "code",
   "execution_count": 4,
   "id": "2fe86e41-009d-4c38-a514-5b57a2954873",
   "metadata": {},
   "outputs": [
    {
     "data": {
      "text/plain": [
       "False"
      ]
     },
     "execution_count": 4,
     "metadata": {},
     "output_type": "execute_result"
    }
   ],
   "source": [
    "def isDiv3(x):  # this function check the number is divisible by 3 or not?\n",
    "    return x%3==0\n",
    "\n",
    "def isEven(x):  # this function check the numbers is divisible by 2 or not?\n",
    "    return x%2==0\n",
    "\n",
    "x=isEven(11)\n",
    "x"
   ]
  },
  {
   "cell_type": "code",
   "execution_count": 5,
   "id": "87c6d972-33d9-4e0e-b0d9-db9c7a83cc7b",
   "metadata": {},
   "outputs": [
    {
     "data": {
      "text/plain": [
       "[0, 2, 4, 6, 8, 10, 12, 14, 16, 18, 20, 22, 24, 26, 28, 30]"
      ]
     },
     "execution_count": 5,
     "metadata": {},
     "output_type": "execute_result"
    }
   ],
   "source": [
    "list(filter(isEven, range(0,31)))"
   ]
  },
  {
   "cell_type": "code",
   "execution_count": 10,
   "id": "2b389870-afb5-4818-bcb7-972aa718b46a",
   "metadata": {},
   "outputs": [
    {
     "data": {
      "text/plain": [
       "[0, 3, 6, 9, 12, 15, 18, 21, 24, 27, 30, 33, 36, 39, 42, 45, 48]"
      ]
     },
     "execution_count": 10,
     "metadata": {},
     "output_type": "execute_result"
    }
   ],
   "source": [
    "list(filter(isDiv3, range(0,50)))"
   ]
  },
  {
   "cell_type": "code",
   "execution_count": 16,
   "id": "fd465d66-a354-4b98-abf5-4f50a7738180",
   "metadata": {},
   "outputs": [
    {
     "data": {
      "text/plain": [
       "True"
      ]
     },
     "execution_count": 16,
     "metadata": {},
     "output_type": "execute_result"
    }
   ],
   "source": [
    "def isCaps(s):\n",
    "    return 'A' <= s[0] <='Z'  # capitalize() Title() --- \n",
    "\n",
    "x=isCaps('Zebra')\n",
    "x"
   ]
  },
  {
   "cell_type": "code",
   "execution_count": 17,
   "id": "6e1ddf29-9a26-4b1c-9f74-2b14a23bb02c",
   "metadata": {},
   "outputs": [
    {
     "data": {
      "text/plain": [
       "['Uday Rasal', 'Akshay Kaale', 'Zebra']"
      ]
     },
     "execution_count": 17,
     "metadata": {},
     "output_type": "execute_result"
    }
   ],
   "source": [
    "list(filter(isCaps,['Uday Rasal','Akshay Kaale','dixit','rakesh','Zebra']))"
   ]
  },
  {
   "cell_type": "code",
   "execution_count": null,
   "id": "2178ef7e-b4b1-4b72-8e9d-742e583aaa84",
   "metadata": {},
   "outputs": [],
   "source": [
    "def isEven(x):\n",
    "    return x%2==0\n",
    "\n"
   ]
  },
  {
   "cell_type": "code",
   "execution_count": 19,
   "id": "0f88edb9-7661-498b-b223-cd42e84a26ea",
   "metadata": {},
   "outputs": [
    {
     "data": {
      "text/plain": [
       "[0, 2, 4, 6, 8, 10, 12, 14, 16, 18, 20, 22, 24, 26, 28, 30]"
      ]
     },
     "execution_count": 19,
     "metadata": {},
     "output_type": "execute_result"
    }
   ],
   "source": [
    "list(filter(isEven,range(31)))"
   ]
  },
  {
   "cell_type": "code",
   "execution_count": 20,
   "id": "3f16ce86-31ab-49e4-b171-987086266eab",
   "metadata": {},
   "outputs": [
    {
     "data": {
      "text/plain": [
       "[0, 2, 4, 6, 8, 10, 12, 14, 16, 18, 20, 22, 24, 26, 28, 30]"
      ]
     },
     "execution_count": 20,
     "metadata": {},
     "output_type": "execute_result"
    }
   ],
   "source": [
    "list(filter(lambda x:(x%2==0),range(31)))"
   ]
  },
  {
   "cell_type": "code",
   "execution_count": 31,
   "id": "73681758-697b-43a0-b749-226c7b993f8f",
   "metadata": {},
   "outputs": [
    {
     "name": "stdin",
     "output_type": "stream",
     "text": [
      "Enter your range: 3\n",
      "Enter your range0: 10\n",
      "Enter your range1: 20\n",
      "Enter your range2: 30\n"
     ]
    },
    {
     "name": "stdout",
     "output_type": "stream",
     "text": [
      "[10, 20, 30] [60, 120, 180]\n"
     ]
    }
   ],
   "source": [
    "list_1=[10,20,30,50,60,45]   # form user input  \n",
    "\n",
    "def mult6():\n",
    "    emp_list=[]\n",
    "    new_list=[]\n",
    "    x=int(input('Enter your range:'))\n",
    "    for i in range(x):\n",
    "        y=int(input(f'Enter your range{i}:'))\n",
    "        emp_list.append(y)\n",
    "    for a in emp_list:\n",
    "        z=a*6\n",
    "        new_list.append(z)\n",
    "    print(emp_list,new_list)\n",
    "\n",
    "\n",
    "mult6()"
   ]
  },
  {
   "cell_type": "code",
   "execution_count": null,
   "id": "fb535676-d7d2-401f-ae4c-177a3adbb1be",
   "metadata": {},
   "outputs": [],
   "source": [
    "list(filter(mult6,))"
   ]
  },
  {
   "cell_type": "code",
   "execution_count": 49,
   "id": "c0e62f2e-90c5-41b1-9b58-b0b351bafc5a",
   "metadata": {},
   "outputs": [
    {
     "name": "stdin",
     "output_type": "stream",
     "text": [
      "Enter your range: 2\n",
      "Enter your range0: 10\n",
      "Enter your range1: 20\n"
     ]
    },
    {
     "name": "stdout",
     "output_type": "stream",
     "text": [
      "[10, 20] [60, 120]\n"
     ]
    }
   ],
   "source": [
    " x=int(input('Enter your range:'))\n",
    "def mult6(s):\n",
    "    emp_list=[]\n",
    "    new_list=[]\n",
    "   \n",
    "    for i in range(x):\n",
    "        y=int(input(f'Enter your range{i}:'))\n",
    "        emp_list.append(y)\n",
    "    for a in emp_list:\n",
    "        z=a*6\n",
    "        new_list.append(z)\n",
    "    print(emp_list,new_list)\n",
    "\n",
    "\n",
    "mult6(x)"
   ]
  },
  {
   "cell_type": "code",
   "execution_count": 47,
   "id": "b9becdc9-1f1c-4782-9f5d-71934a68dd91",
   "metadata": {},
   "outputs": [
    {
     "name": "stdin",
     "output_type": "stream",
     "text": [
      "Enter your range: 2\n",
      "Enter your range0: 10\n",
      "Enter your range1: 20\n"
     ]
    },
    {
     "name": "stdout",
     "output_type": "stream",
     "text": [
      "[10, 20] [60, 120]\n"
     ]
    },
    {
     "ename": "KeyboardInterrupt",
     "evalue": "Interrupted by user",
     "output_type": "error",
     "traceback": [
      "\u001b[1;31m---------------------------------------------------------------------------\u001b[0m",
      "\u001b[1;31mKeyboardInterrupt\u001b[0m                         Traceback (most recent call last)",
      "Cell \u001b[1;32mIn[47], line 2\u001b[0m\n\u001b[0;32m      1\u001b[0m a1\u001b[38;5;241m=\u001b[39m\u001b[38;5;28mint\u001b[39m(\u001b[38;5;28minput\u001b[39m(\u001b[38;5;124m'\u001b[39m\u001b[38;5;124mEnter your range:\u001b[39m\u001b[38;5;124m'\u001b[39m))\n\u001b[1;32m----> 2\u001b[0m \u001b[38;5;28;43mlist\u001b[39;49m\u001b[43m(\u001b[49m\u001b[38;5;28;43mfilter\u001b[39;49m\u001b[43m(\u001b[49m\u001b[43mmult6\u001b[49m\u001b[43m,\u001b[49m\u001b[38;5;28;43mrange\u001b[39;49m\u001b[43m(\u001b[49m\u001b[43ma1\u001b[49m\u001b[43m)\u001b[49m\u001b[43m)\u001b[49m\u001b[43m)\u001b[49m\n",
      "Cell \u001b[1;32mIn[45], line 7\u001b[0m, in \u001b[0;36mmult6\u001b[1;34m(s)\u001b[0m\n\u001b[0;32m      4\u001b[0m new_list\u001b[38;5;241m=\u001b[39m[]\n\u001b[0;32m      6\u001b[0m \u001b[38;5;28;01mfor\u001b[39;00m i \u001b[38;5;129;01min\u001b[39;00m \u001b[38;5;28mrange\u001b[39m(x):\n\u001b[1;32m----> 7\u001b[0m     y\u001b[38;5;241m=\u001b[39m\u001b[38;5;28mint\u001b[39m(\u001b[38;5;28;43minput\u001b[39;49m\u001b[43m(\u001b[49m\u001b[38;5;124;43mf\u001b[39;49m\u001b[38;5;124;43m'\u001b[39;49m\u001b[38;5;124;43mEnter your range\u001b[39;49m\u001b[38;5;132;43;01m{\u001b[39;49;00m\u001b[43mi\u001b[49m\u001b[38;5;132;43;01m}\u001b[39;49;00m\u001b[38;5;124;43m:\u001b[39;49m\u001b[38;5;124;43m'\u001b[39;49m\u001b[43m)\u001b[49m)\n\u001b[0;32m      8\u001b[0m     emp_list\u001b[38;5;241m.\u001b[39mappend(y)\n\u001b[0;32m      9\u001b[0m \u001b[38;5;28;01mfor\u001b[39;00m a \u001b[38;5;129;01min\u001b[39;00m emp_list:\n",
      "File \u001b[1;32mC:\\Python312\\Lib\\site-packages\\ipykernel\\kernelbase.py:1282\u001b[0m, in \u001b[0;36mKernel.raw_input\u001b[1;34m(self, prompt)\u001b[0m\n\u001b[0;32m   1280\u001b[0m     msg \u001b[38;5;241m=\u001b[39m \u001b[38;5;124m\"\u001b[39m\u001b[38;5;124mraw_input was called, but this frontend does not support input requests.\u001b[39m\u001b[38;5;124m\"\u001b[39m\n\u001b[0;32m   1281\u001b[0m     \u001b[38;5;28;01mraise\u001b[39;00m StdinNotImplementedError(msg)\n\u001b[1;32m-> 1282\u001b[0m \u001b[38;5;28;01mreturn\u001b[39;00m \u001b[38;5;28;43mself\u001b[39;49m\u001b[38;5;241;43m.\u001b[39;49m\u001b[43m_input_request\u001b[49m\u001b[43m(\u001b[49m\n\u001b[0;32m   1283\u001b[0m \u001b[43m    \u001b[49m\u001b[38;5;28;43mstr\u001b[39;49m\u001b[43m(\u001b[49m\u001b[43mprompt\u001b[49m\u001b[43m)\u001b[49m\u001b[43m,\u001b[49m\n\u001b[0;32m   1284\u001b[0m \u001b[43m    \u001b[49m\u001b[38;5;28;43mself\u001b[39;49m\u001b[38;5;241;43m.\u001b[39;49m\u001b[43m_parent_ident\u001b[49m\u001b[43m[\u001b[49m\u001b[38;5;124;43m\"\u001b[39;49m\u001b[38;5;124;43mshell\u001b[39;49m\u001b[38;5;124;43m\"\u001b[39;49m\u001b[43m]\u001b[49m\u001b[43m,\u001b[49m\n\u001b[0;32m   1285\u001b[0m \u001b[43m    \u001b[49m\u001b[38;5;28;43mself\u001b[39;49m\u001b[38;5;241;43m.\u001b[39;49m\u001b[43mget_parent\u001b[49m\u001b[43m(\u001b[49m\u001b[38;5;124;43m\"\u001b[39;49m\u001b[38;5;124;43mshell\u001b[39;49m\u001b[38;5;124;43m\"\u001b[39;49m\u001b[43m)\u001b[49m\u001b[43m,\u001b[49m\n\u001b[0;32m   1286\u001b[0m \u001b[43m    \u001b[49m\u001b[43mpassword\u001b[49m\u001b[38;5;241;43m=\u001b[39;49m\u001b[38;5;28;43;01mFalse\u001b[39;49;00m\u001b[43m,\u001b[49m\n\u001b[0;32m   1287\u001b[0m \u001b[43m\u001b[49m\u001b[43m)\u001b[49m\n",
      "File \u001b[1;32mC:\\Python312\\Lib\\site-packages\\ipykernel\\kernelbase.py:1325\u001b[0m, in \u001b[0;36mKernel._input_request\u001b[1;34m(self, prompt, ident, parent, password)\u001b[0m\n\u001b[0;32m   1322\u001b[0m \u001b[38;5;28;01mexcept\u001b[39;00m \u001b[38;5;167;01mKeyboardInterrupt\u001b[39;00m:\n\u001b[0;32m   1323\u001b[0m     \u001b[38;5;66;03m# re-raise KeyboardInterrupt, to truncate traceback\u001b[39;00m\n\u001b[0;32m   1324\u001b[0m     msg \u001b[38;5;241m=\u001b[39m \u001b[38;5;124m\"\u001b[39m\u001b[38;5;124mInterrupted by user\u001b[39m\u001b[38;5;124m\"\u001b[39m\n\u001b[1;32m-> 1325\u001b[0m     \u001b[38;5;28;01mraise\u001b[39;00m \u001b[38;5;167;01mKeyboardInterrupt\u001b[39;00m(msg) \u001b[38;5;28;01mfrom\u001b[39;00m \u001b[38;5;28;01mNone\u001b[39;00m\n\u001b[0;32m   1326\u001b[0m \u001b[38;5;28;01mexcept\u001b[39;00m \u001b[38;5;167;01mException\u001b[39;00m:\n\u001b[0;32m   1327\u001b[0m     \u001b[38;5;28mself\u001b[39m\u001b[38;5;241m.\u001b[39mlog\u001b[38;5;241m.\u001b[39mwarning(\u001b[38;5;124m\"\u001b[39m\u001b[38;5;124mInvalid Message:\u001b[39m\u001b[38;5;124m\"\u001b[39m, exc_info\u001b[38;5;241m=\u001b[39m\u001b[38;5;28;01mTrue\u001b[39;00m)\n",
      "\u001b[1;31mKeyboardInterrupt\u001b[0m: Interrupted by user"
     ]
    }
   ],
   "source": [
    "a1=int(input('Enter your range:'))\n",
    "list(filter(mult6,range(a1)))"
   ]
  },
  {
   "cell_type": "code",
   "execution_count": 97,
   "id": "3b95f6ca-ec29-4914-9147-0f33fe6c7566",
   "metadata": {},
   "outputs": [
    {
     "name": "stdin",
     "output_type": "stream",
     "text": [
      "Enter your range: 10\n"
     ]
    },
    {
     "name": "stdout",
     "output_type": "stream",
     "text": [
      "[1, 4, 9, 16, 25, 36, 49, 64, 81, 100]\n"
     ]
    }
   ],
   "source": [
    "# find the square of number from user input (function and lambda with filter.)\n",
    "\n",
    "x=int(input('Enter your range:'))\n",
    "\n",
    "def square(x):\n",
    "    \n",
    "    sqr_list=[]\n",
    "    for i in range(1,x+1):\n",
    "        y=i**2\n",
    "        sqr_list.append(y)\n",
    "    print(sqr_list) \n",
    "\n",
    "    \n",
    "square(x)"
   ]
  },
  {
   "cell_type": "code",
   "execution_count": 103,
   "id": "74ce820f-1480-457a-b873-e9d34d88607b",
   "metadata": {},
   "outputs": [
    {
     "name": "stdin",
     "output_type": "stream",
     "text": [
      "Enter your range: 5\n"
     ]
    },
    {
     "name": "stdout",
     "output_type": "stream",
     "text": [
      "[1]\n",
      "[1, 4]\n",
      "[1, 4, 9]\n",
      "[1, 4, 9, 16]\n",
      "[1, 4, 9, 16, 25]\n"
     ]
    },
    {
     "data": {
      "text/plain": [
       "[]"
      ]
     },
     "execution_count": 103,
     "metadata": {},
     "output_type": "execute_result"
    }
   ],
   "source": [
    "a2=int(input('Enter your range:'))\n",
    "a1=list(filter(square,range(1,a2+1)))\n",
    "a1"
   ]
  },
  {
   "cell_type": "code",
   "execution_count": 98,
   "id": "63d75cbe-f8b8-46e3-9dd2-7acb5491183d",
   "metadata": {},
   "outputs": [],
   "source": [
    "def square1(x):\n",
    "    return x**2"
   ]
  },
  {
   "cell_type": "code",
   "execution_count": 99,
   "id": "a7739565-690a-49db-a019-9b981a3c1f67",
   "metadata": {},
   "outputs": [
    {
     "name": "stdin",
     "output_type": "stream",
     "text": [
      "Enter any number: 5\n"
     ]
    },
    {
     "data": {
      "text/plain": [
       "[0, 1, 4, 9, 16]"
      ]
     },
     "execution_count": 99,
     "metadata": {},
     "output_type": "execute_result"
    }
   ],
   "source": [
    "y=int(input('Enter any number:'))\n",
    "list(map(square1,range(y)))"
   ]
  },
  {
   "cell_type": "code",
   "execution_count": 101,
   "id": "c5ac126b-6cc8-4b4e-a60a-224ecdff15ec",
   "metadata": {},
   "outputs": [],
   "source": [
    "def sqr(x):\n",
    "    return x**2"
   ]
  },
  {
   "cell_type": "code",
   "execution_count": 102,
   "id": "e26296e9-dd07-4cce-81fa-bae414b37ca4",
   "metadata": {},
   "outputs": [
    {
     "name": "stdin",
     "output_type": "stream",
     "text": [
      "Enter any number: 5\n"
     ]
    },
    {
     "data": {
      "text/plain": [
       "[0, 1, 4, 9, 16]"
      ]
     },
     "execution_count": 102,
     "metadata": {},
     "output_type": "execute_result"
    }
   ],
   "source": [
    "a3=int(input('Enter any number:'))\n",
    "list(map(sqr,range(a3)))"
   ]
  },
  {
   "cell_type": "code",
   "execution_count": null,
   "id": "8b0f2f23-c3a2-4cf9-bc9a-69474335226d",
   "metadata": {},
   "outputs": [],
   "source": []
  }
 ],
 "metadata": {
  "kernelspec": {
   "display_name": "Python 3 (ipykernel)",
   "language": "python",
   "name": "python3"
  },
  "language_info": {
   "codemirror_mode": {
    "name": "ipython",
    "version": 3
   },
   "file_extension": ".py",
   "mimetype": "text/x-python",
   "name": "python",
   "nbconvert_exporter": "python",
   "pygments_lexer": "ipython3",
   "version": "3.12.2"
  }
 },
 "nbformat": 4,
 "nbformat_minor": 5
}
