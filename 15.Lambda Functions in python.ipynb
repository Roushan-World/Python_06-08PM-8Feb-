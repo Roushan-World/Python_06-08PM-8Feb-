{
 "cells": [
  {
   "cell_type": "markdown",
   "id": "24c2711b-8fe4-465d-a802-2e232e805c46",
   "metadata": {},
   "source": [
    "# 15. Lambda Functions in Python\n",
    "\n",
    " * __A Lambda function is a small anonymous funcitons.__\n",
    " * __A Lambda function can take any number of arguments, but can only have one expression.__\n",
    " * __The expression is eveluated and returned.__\n",
    " * __Lambda functions can bu used wherever function objects are required.__\n",
    " * __Ldmbda Expression(or lambda functions) are essentially blocks of code that can be assigned to variable, passed as an arguments, or returned from a funciton call, in Language that support high-order functions.__\n",
    " * __The main role of lambda funcrion is better described in the scenarios when we employ them anonymously inside another functions.__\n",
    " * __n Python, the Lambda function can be utilized as an arguements to ther high-order functions as an arguement..__\n",
    " * __Lambda function in Python__\n",
    "    * __1. Syntax:__\n",
    "       * __Normal Functions__\n",
    "       * __Anonymous Functions__\n",
    "    * __2.Usages__\n",
    "       * __Lambda with filters()__\n",
    "       * __Lambda with map()__\n",
    "       * __Lambda with reduce()__\n",
    "       * __Lambda with sorted()__\n",
    "       * __Lambda with apply()__\n",
    "    * __3.Common Errors__\n",
    "       * __SyntaxError__\n",
    "       * __TypeError__"
   ]
  },
  {
   "cell_type": "code",
   "execution_count": 1,
   "id": "4744f32d-1ca4-4657-ae29-457d9a7181bf",
   "metadata": {},
   "outputs": [
    {
     "data": {
      "text/plain": [
       "16"
      ]
     },
     "execution_count": 1,
     "metadata": {},
     "output_type": "execute_result"
    }
   ],
   "source": [
    "def func(x):\n",
    "    return x+6\n",
    "\n",
    "func(10)"
   ]
  },
  {
   "cell_type": "code",
   "execution_count": 2,
   "id": "a77ffcc4-6828-40be-8d45-f08a35f1ae80",
   "metadata": {},
   "outputs": [
    {
     "data": {
      "text/plain": [
       "16"
      ]
     },
     "execution_count": 2,
     "metadata": {},
     "output_type": "execute_result"
    }
   ],
   "source": [
    "(lambda y:y+6)(10)"
   ]
  },
  {
   "cell_type": "code",
   "execution_count": 4,
   "id": "eb662fd5-2aa2-40c6-b641-9980fb1eac8d",
   "metadata": {},
   "outputs": [
    {
     "data": {
      "text/plain": [
       "32"
      ]
     },
     "execution_count": 4,
     "metadata": {},
     "output_type": "execute_result"
    }
   ],
   "source": [
    "# Exponent\n",
    "\n",
    "def expo(x,y):\n",
    "    return x**y\n",
    "\n",
    "expo(2,5)"
   ]
  },
  {
   "cell_type": "code",
   "execution_count": 5,
   "id": "2dea8e91-7364-4627-91d1-125e214c0bb1",
   "metadata": {},
   "outputs": [
    {
     "data": {
      "text/plain": [
       "32"
      ]
     },
     "execution_count": 5,
     "metadata": {},
     "output_type": "execute_result"
    }
   ],
   "source": [
    "(lambda x,y:x**y)(2,5)"
   ]
  },
  {
   "cell_type": "code",
   "execution_count": 7,
   "id": "f7baaa62-cc46-4636-86e3-81ad4a11f2c3",
   "metadata": {},
   "outputs": [
    {
     "name": "stdin",
     "output_type": "stream",
     "text": [
      "Enter first number: 2\n",
      "Enter second number: 3\n"
     ]
    },
    {
     "data": {
      "text/plain": [
       "8"
      ]
     },
     "execution_count": 7,
     "metadata": {},
     "output_type": "execute_result"
    }
   ],
   "source": [
    "# write a above program using user input\n",
    "\n",
    "def func():\n",
    "    x=int(input('Enter first number:'))\n",
    "    y=int(input('Enter second number:'))\n",
    "    z=x**y\n",
    "    return z\n",
    "\n",
    "\n",
    "func()"
   ]
  },
  {
   "cell_type": "code",
   "execution_count": 19,
   "id": "006e2687-b537-4b70-bf91-fea8c07ea839",
   "metadata": {},
   "outputs": [
    {
     "name": "stdin",
     "output_type": "stream",
     "text": [
      "Enter first number: 10\n",
      "Enter second number: 2\n"
     ]
    },
    {
     "data": {
      "text/plain": [
       "100"
      ]
     },
     "execution_count": 19,
     "metadata": {},
     "output_type": "execute_result"
    }
   ],
   "source": [
    "# using lambda \n",
    "x=int(input('Enter first number:'))\n",
    "y=int(input('Enter second number:'))\n",
    "z=(lambda a,b:a**b)(x,y)\n",
    "z"
   ]
  },
  {
   "cell_type": "code",
   "execution_count": 11,
   "id": "aa7ce152-c1fe-4963-ba09-08e0fd25aaa7",
   "metadata": {},
   "outputs": [
    {
     "data": {
      "text/plain": [
       "1000000000000000"
      ]
     },
     "execution_count": 11,
     "metadata": {},
     "output_type": "execute_result"
    }
   ],
   "source": [
    "z"
   ]
  },
  {
   "cell_type": "code",
   "execution_count": 1,
   "id": "40485ebf-a510-4a5c-adbe-2f9db44be4de",
   "metadata": {},
   "outputs": [
    {
     "name": "stdout",
     "output_type": "stream",
     "text": [
      "\n",
      "Even numbers is given array are : 8\n",
      "\n",
      "Odd numbers is given array are : 8\n"
     ]
    }
   ],
   "source": [
    "# 1. Write a Python program to count the even number and odd numbers in a given array of integers using lambda function and loop.\n",
    "# array_nums=[10,20,30,50,25,26,78,79,45,62,53,51,1001,102,103]\n",
    "\n",
    "#Rupali\n",
    "# 1. WAP to count the even numbers and odd numbers in a given array of integers using lambda function and for loop.\n",
    "\n",
    "array_nums = [10,20,30,50,25,26,78,79,45,45,62,53,51,1001,102,103]\n",
    "\n",
    "#For loop\n",
    "\n",
    "even = []\n",
    "odd = []\n",
    "for i in array_nums:\n",
    "    if i % 2 == 0:\n",
    "        even.append(i)\n",
    "    else:\n",
    "        odd.append(i)\n",
    "\n",
    "print(\"\\nEven numbers is given array are :\",len(even))\n",
    "print(\"\\nOdd numbers is given array are :\",len(odd))"
   ]
  },
  {
   "cell_type": "code",
   "execution_count": 2,
   "id": "9cbe83dd-46d5-4c32-bcdc-d7530b2c0494",
   "metadata": {},
   "outputs": [
    {
     "name": "stdout",
     "output_type": "stream",
     "text": [
      "\n",
      "Number of even numbers in given array:  8\n",
      "\n",
      "Number of odd numbers in given array:  8\n"
     ]
    }
   ],
   "source": [
    "#Rupali\n",
    "# 1. WAP to count the even numbers and odd numbers in a given array of integers using lambda function and for loop.\n",
    "# Lambda\n",
    "array_nums = [10,20,30,50,25,26,78,79,45,45,62,53,51,1001,102,103]\n",
    "\n",
    "\n",
    "even_num = len(list(filter(lambda x: (x % 2 == 0), array_nums)))\n",
    "odd_num = len(list(filter(lambda x: (x % 2 != 0), array_nums)))\n",
    "\n",
    "print(\"\\nNumber of even numbers in given array: \", even_num)\n",
    "print(\"\\nNumber of odd numbers in given array: \", odd_num)"
   ]
  },
  {
   "cell_type": "code",
   "execution_count": 9,
   "id": "4f36a976-6c83-4e36-a886-3bde7021b896",
   "metadata": {},
   "outputs": [
    {
     "name": "stdout",
     "output_type": "stream",
     "text": [
      "\n",
      "The value from list having length 6 are :  ['Monday', 'Friday']\n"
     ]
    }
   ],
   "source": [
    "# Write a Python program to filter a given list to determine if the values in the list have a length of 6 using lambda funciton.\n",
    "# using loop and lambda.\n",
    "# weekdays=['Monday','Tuesday','Wednesday','Thursday','Friday','Saturday']\n",
    "\n",
    "#Rupali\n",
    "#WAP to filter the given list to determine if the values in the list have length of 6 using lambda \n",
    "\n",
    "weekdays = ['Monday', 'Tuesday',' Wednesday', 'Thursday','Friday','Saturday']\n",
    "\n",
    "#Using for loop\n",
    "filtered_list = []\n",
    "\n",
    "for i in weekdays:\n",
    "    if len(i) == 6:\n",
    "        filtered_list.append(i)\n",
    "print(\"\\nThe value from list having length 6 are : \",filtered_list)"
   ]
  },
  {
   "cell_type": "code",
   "execution_count": 8,
   "id": "24af1e2f-8ca1-4d05-b844-66a86004f9bd",
   "metadata": {},
   "outputs": [
    {
     "name": "stdout",
     "output_type": "stream",
     "text": [
      "\n",
      "The value from list having length 6 are :  ['Monday', 'Friday']\n"
     ]
    }
   ],
   "source": [
    "#Rupali\n",
    "weekdays = ['Monday', 'Tuesday',' Wednesday', 'Thursday','Friday','Saturday']\n",
    "\n",
    "#using lamda\n",
    "\n",
    "filter_list = list(filter(lambda x:len(x) == 6 , weekdays))\n",
    "print(\"\\nThe value from list having length 6 are : \",filter_list)"
   ]
  },
  {
   "cell_type": "code",
   "execution_count": 5,
   "id": "536ee2a1-10b0-4460-a6c6-ec06bb72e4f6",
   "metadata": {},
   "outputs": [],
   "source": [
    "import datetime"
   ]
  },
  {
   "cell_type": "code",
   "execution_count": 7,
   "id": "04d3623d-53e2-4164-a488-06428101236d",
   "metadata": {},
   "outputs": [
    {
     "data": {
      "text/plain": [
       "datetime.datetime(2024, 4, 11, 19, 12, 42, 15654)"
      ]
     },
     "execution_count": 7,
     "metadata": {},
     "output_type": "execute_result"
    }
   ],
   "source": [
    "now=datetime.datetime.now()\n",
    "now"
   ]
  },
  {
   "cell_type": "code",
   "execution_count": 10,
   "id": "a1e09788-2bce-4a6a-88cd-5a21e5e0bd84",
   "metadata": {},
   "outputs": [
    {
     "name": "stdout",
     "output_type": "stream",
     "text": [
      "2024-04-11 19:24:49.878064\n",
      "2024\n",
      "4\n",
      "11\n",
      "19:24:49.878064\n"
     ]
    }
   ],
   "source": [
    "# Write a python program to extract year,month,date and time using Lambda.\n",
    "\n",
    "#Rupali\n",
    "# WAP to extract year , month, date , time using lambda function\n",
    "\n",
    "import datetime\n",
    "\n",
    "now = datetime.datetime.now()\n",
    "print(now)\n",
    "\n",
    "year = lambda x:x.year\n",
    "print(year(now))\n",
    "\n",
    "month = lambda x:x.month\n",
    "print(month(now))\n",
    "\n",
    "day = lambda x:x.day\n",
    "print(day(now))\n",
    "\n",
    "time = lambda x:x.time()\n",
    "print(time(now))"
   ]
  },
  {
   "cell_type": "code",
   "execution_count": 1,
   "id": "c68d1ec7-53bb-4a2e-90b1-4f46f9fb9f1c",
   "metadata": {},
   "outputs": [],
   "source": [
    "# Write a program to find the numbers divisible by nineteen or thirteen from a list of numbers using lambda.\n",
    "# nums=[19,65,57,39,152,639,121,44,90,190]"
   ]
  },
  {
   "cell_type": "markdown",
   "id": "bd05deed-055a-46aa-9474-07d628210dbd",
   "metadata": {},
   "source": [
    "# Lambda Filter()\n",
    "\n",
    " * __A higher-order function__\n",
    " * __Syntax: filter(function,sequence)__\n",
    "    * __It applies function to each element of sequence and returns for which the function returns true.__\n",
    " * __filter returns a subset of sequence__\n",
    "    * __to generate the actual list, we need to apply list()__\n",
    "      "
   ]
  },
  {
   "cell_type": "code",
   "execution_count": 2,
   "id": "2fe86e41-009d-4c38-a514-5b57a2954873",
   "metadata": {},
   "outputs": [
    {
     "data": {
      "text/plain": [
       "False"
      ]
     },
     "execution_count": 2,
     "metadata": {},
     "output_type": "execute_result"
    }
   ],
   "source": [
    "def isDiv3(x):  # this function check the number is divisible by 3 or not?\n",
    "    return x%3==0\n",
    "\n",
    "def isEven(x):  # this function check the numbers is divisible by 2 or not?\n",
    "    return x%2==0\n",
    "\n",
    "x=isEven(11)\n",
    "x"
   ]
  },
  {
   "cell_type": "code",
   "execution_count": 6,
   "id": "87c6d972-33d9-4e0e-b0d9-db9c7a83cc7b",
   "metadata": {},
   "outputs": [
    {
     "data": {
      "text/plain": [
       "[0, 2, 4, 6, 8, 10, 12, 14, 16, 18, 20, 22, 24, 26, 28, 30]"
      ]
     },
     "execution_count": 6,
     "metadata": {},
     "output_type": "execute_result"
    }
   ],
   "source": [
    "list(filter(isEven, range(0,31)))"
   ]
  },
  {
   "cell_type": "code",
   "execution_count": 10,
   "id": "2b389870-afb5-4818-bcb7-972aa718b46a",
   "metadata": {},
   "outputs": [
    {
     "data": {
      "text/plain": [
       "[0, 3, 6, 9, 12, 15, 18, 21, 24, 27, 30, 33, 36, 39, 42, 45, 48]"
      ]
     },
     "execution_count": 10,
     "metadata": {},
     "output_type": "execute_result"
    }
   ],
   "source": [
    "list(filter(isDiv3, range(0,50)))"
   ]
  },
  {
   "cell_type": "code",
   "execution_count": 14,
   "id": "fd465d66-a354-4b98-abf5-4f50a7738180",
   "metadata": {},
   "outputs": [
    {
     "data": {
      "text/plain": [
       "True"
      ]
     },
     "execution_count": 14,
     "metadata": {},
     "output_type": "execute_result"
    }
   ],
   "source": [
    "def isCaps(s):\n",
    "    return 'A' <= s[0] <='Z'  # capitalize() Title() --- \n",
    "\n",
    "# y=['Cat','Mat','rat']\n",
    "x=isCaps('Cat')\n",
    "x"
   ]
  },
  {
   "cell_type": "code",
   "execution_count": 19,
   "id": "6e1ddf29-9a26-4b1c-9f74-2b14a23bb02c",
   "metadata": {},
   "outputs": [
    {
     "name": "stdout",
     "output_type": "stream",
     "text": [
      "['Uday Rasal', 'Akshay Kaale', 'Zebra']\n",
      "<class 'list'>\n"
     ]
    }
   ],
   "source": [
    "tup=list(filter(isCaps,('Uday Rasal','Akshay Kaale','dixit','rakesh','Zebra')))\n",
    "print(tup)\n",
    "print(type(tup))\n"
   ]
  },
  {
   "cell_type": "code",
   "execution_count": null,
   "id": "2178ef7e-b4b1-4b72-8e9d-742e583aaa84",
   "metadata": {},
   "outputs": [],
   "source": [
    "def isEven(x):\n",
    "    return x%2==0\n",
    "\n"
   ]
  },
  {
   "cell_type": "code",
   "execution_count": 19,
   "id": "0f88edb9-7661-498b-b223-cd42e84a26ea",
   "metadata": {},
   "outputs": [
    {
     "data": {
      "text/plain": [
       "[0, 2, 4, 6, 8, 10, 12, 14, 16, 18, 20, 22, 24, 26, 28, 30]"
      ]
     },
     "execution_count": 19,
     "metadata": {},
     "output_type": "execute_result"
    }
   ],
   "source": [
    "list(filter(isEven,range(31)))"
   ]
  },
  {
   "cell_type": "code",
   "execution_count": 20,
   "id": "3f16ce86-31ab-49e4-b171-987086266eab",
   "metadata": {},
   "outputs": [
    {
     "data": {
      "text/plain": [
       "[0, 2, 4, 6, 8, 10, 12, 14, 16, 18, 20, 22, 24, 26, 28, 30]"
      ]
     },
     "execution_count": 20,
     "metadata": {},
     "output_type": "execute_result"
    }
   ],
   "source": [
    "list(filter(lambda x:(x%2==0),range(31)))"
   ]
  },
  {
   "cell_type": "code",
   "execution_count": 31,
   "id": "73681758-697b-43a0-b749-226c7b993f8f",
   "metadata": {},
   "outputs": [
    {
     "name": "stdin",
     "output_type": "stream",
     "text": [
      "Enter your range: 3\n",
      "Enter your range0: 10\n",
      "Enter your range1: 20\n",
      "Enter your range2: 30\n"
     ]
    },
    {
     "name": "stdout",
     "output_type": "stream",
     "text": [
      "[10, 20, 30] [60, 120, 180]\n"
     ]
    }
   ],
   "source": [
    "list_1=[10,20,30,50,60,45]   # form user input  \n",
    "\n",
    "def mult6():\n",
    "    emp_list=[]\n",
    "    new_list=[]\n",
    "    x=int(input('Enter your range:'))\n",
    "    for i in range(x):\n",
    "        y=int(input(f'Enter your range{i}:'))\n",
    "        emp_list.append(y)\n",
    "    for a in emp_list:\n",
    "        z=a*6\n",
    "        new_list.append(z)\n",
    "    print(emp_list,new_list)\n",
    "\n",
    "\n",
    "mult6()"
   ]
  },
  {
   "cell_type": "code",
   "execution_count": null,
   "id": "fb535676-d7d2-401f-ae4c-177a3adbb1be",
   "metadata": {},
   "outputs": [],
   "source": [
    "list(filter(mult6,))"
   ]
  },
  {
   "cell_type": "code",
   "execution_count": 49,
   "id": "c0e62f2e-90c5-41b1-9b58-b0b351bafc5a",
   "metadata": {},
   "outputs": [
    {
     "name": "stdin",
     "output_type": "stream",
     "text": [
      "Enter your range: 2\n",
      "Enter your range0: 10\n",
      "Enter your range1: 20\n"
     ]
    },
    {
     "name": "stdout",
     "output_type": "stream",
     "text": [
      "[10, 20] [60, 120]\n"
     ]
    }
   ],
   "source": [
    " x=int(input('Enter your range:'))\n",
    "def mult6(s):\n",
    "    emp_list=[]\n",
    "    new_list=[]\n",
    "   \n",
    "    for i in range(x):\n",
    "        y=int(input(f'Enter your range{i}:'))\n",
    "        emp_list.append(y)\n",
    "    for a in emp_list:\n",
    "        z=a*6\n",
    "        new_list.append(z)\n",
    "    print(emp_list,new_list)\n",
    "\n",
    "\n",
    "mult6(x)"
   ]
  },
  {
   "cell_type": "code",
   "execution_count": 47,
   "id": "b9becdc9-1f1c-4782-9f5d-71934a68dd91",
   "metadata": {},
   "outputs": [
    {
     "name": "stdin",
     "output_type": "stream",
     "text": [
      "Enter your range: 2\n",
      "Enter your range0: 10\n",
      "Enter your range1: 20\n"
     ]
    },
    {
     "name": "stdout",
     "output_type": "stream",
     "text": [
      "[10, 20] [60, 120]\n"
     ]
    },
    {
     "ename": "KeyboardInterrupt",
     "evalue": "Interrupted by user",
     "output_type": "error",
     "traceback": [
      "\u001b[1;31m---------------------------------------------------------------------------\u001b[0m",
      "\u001b[1;31mKeyboardInterrupt\u001b[0m                         Traceback (most recent call last)",
      "Cell \u001b[1;32mIn[47], line 2\u001b[0m\n\u001b[0;32m      1\u001b[0m a1\u001b[38;5;241m=\u001b[39m\u001b[38;5;28mint\u001b[39m(\u001b[38;5;28minput\u001b[39m(\u001b[38;5;124m'\u001b[39m\u001b[38;5;124mEnter your range:\u001b[39m\u001b[38;5;124m'\u001b[39m))\n\u001b[1;32m----> 2\u001b[0m \u001b[38;5;28;43mlist\u001b[39;49m\u001b[43m(\u001b[49m\u001b[38;5;28;43mfilter\u001b[39;49m\u001b[43m(\u001b[49m\u001b[43mmult6\u001b[49m\u001b[43m,\u001b[49m\u001b[38;5;28;43mrange\u001b[39;49m\u001b[43m(\u001b[49m\u001b[43ma1\u001b[49m\u001b[43m)\u001b[49m\u001b[43m)\u001b[49m\u001b[43m)\u001b[49m\n",
      "Cell \u001b[1;32mIn[45], line 7\u001b[0m, in \u001b[0;36mmult6\u001b[1;34m(s)\u001b[0m\n\u001b[0;32m      4\u001b[0m new_list\u001b[38;5;241m=\u001b[39m[]\n\u001b[0;32m      6\u001b[0m \u001b[38;5;28;01mfor\u001b[39;00m i \u001b[38;5;129;01min\u001b[39;00m \u001b[38;5;28mrange\u001b[39m(x):\n\u001b[1;32m----> 7\u001b[0m     y\u001b[38;5;241m=\u001b[39m\u001b[38;5;28mint\u001b[39m(\u001b[38;5;28;43minput\u001b[39;49m\u001b[43m(\u001b[49m\u001b[38;5;124;43mf\u001b[39;49m\u001b[38;5;124;43m'\u001b[39;49m\u001b[38;5;124;43mEnter your range\u001b[39;49m\u001b[38;5;132;43;01m{\u001b[39;49;00m\u001b[43mi\u001b[49m\u001b[38;5;132;43;01m}\u001b[39;49;00m\u001b[38;5;124;43m:\u001b[39;49m\u001b[38;5;124;43m'\u001b[39;49m\u001b[43m)\u001b[49m)\n\u001b[0;32m      8\u001b[0m     emp_list\u001b[38;5;241m.\u001b[39mappend(y)\n\u001b[0;32m      9\u001b[0m \u001b[38;5;28;01mfor\u001b[39;00m a \u001b[38;5;129;01min\u001b[39;00m emp_list:\n",
      "File \u001b[1;32mC:\\Python312\\Lib\\site-packages\\ipykernel\\kernelbase.py:1282\u001b[0m, in \u001b[0;36mKernel.raw_input\u001b[1;34m(self, prompt)\u001b[0m\n\u001b[0;32m   1280\u001b[0m     msg \u001b[38;5;241m=\u001b[39m \u001b[38;5;124m\"\u001b[39m\u001b[38;5;124mraw_input was called, but this frontend does not support input requests.\u001b[39m\u001b[38;5;124m\"\u001b[39m\n\u001b[0;32m   1281\u001b[0m     \u001b[38;5;28;01mraise\u001b[39;00m StdinNotImplementedError(msg)\n\u001b[1;32m-> 1282\u001b[0m \u001b[38;5;28;01mreturn\u001b[39;00m \u001b[38;5;28;43mself\u001b[39;49m\u001b[38;5;241;43m.\u001b[39;49m\u001b[43m_input_request\u001b[49m\u001b[43m(\u001b[49m\n\u001b[0;32m   1283\u001b[0m \u001b[43m    \u001b[49m\u001b[38;5;28;43mstr\u001b[39;49m\u001b[43m(\u001b[49m\u001b[43mprompt\u001b[49m\u001b[43m)\u001b[49m\u001b[43m,\u001b[49m\n\u001b[0;32m   1284\u001b[0m \u001b[43m    \u001b[49m\u001b[38;5;28;43mself\u001b[39;49m\u001b[38;5;241;43m.\u001b[39;49m\u001b[43m_parent_ident\u001b[49m\u001b[43m[\u001b[49m\u001b[38;5;124;43m\"\u001b[39;49m\u001b[38;5;124;43mshell\u001b[39;49m\u001b[38;5;124;43m\"\u001b[39;49m\u001b[43m]\u001b[49m\u001b[43m,\u001b[49m\n\u001b[0;32m   1285\u001b[0m \u001b[43m    \u001b[49m\u001b[38;5;28;43mself\u001b[39;49m\u001b[38;5;241;43m.\u001b[39;49m\u001b[43mget_parent\u001b[49m\u001b[43m(\u001b[49m\u001b[38;5;124;43m\"\u001b[39;49m\u001b[38;5;124;43mshell\u001b[39;49m\u001b[38;5;124;43m\"\u001b[39;49m\u001b[43m)\u001b[49m\u001b[43m,\u001b[49m\n\u001b[0;32m   1286\u001b[0m \u001b[43m    \u001b[49m\u001b[43mpassword\u001b[49m\u001b[38;5;241;43m=\u001b[39;49m\u001b[38;5;28;43;01mFalse\u001b[39;49;00m\u001b[43m,\u001b[49m\n\u001b[0;32m   1287\u001b[0m \u001b[43m\u001b[49m\u001b[43m)\u001b[49m\n",
      "File \u001b[1;32mC:\\Python312\\Lib\\site-packages\\ipykernel\\kernelbase.py:1325\u001b[0m, in \u001b[0;36mKernel._input_request\u001b[1;34m(self, prompt, ident, parent, password)\u001b[0m\n\u001b[0;32m   1322\u001b[0m \u001b[38;5;28;01mexcept\u001b[39;00m \u001b[38;5;167;01mKeyboardInterrupt\u001b[39;00m:\n\u001b[0;32m   1323\u001b[0m     \u001b[38;5;66;03m# re-raise KeyboardInterrupt, to truncate traceback\u001b[39;00m\n\u001b[0;32m   1324\u001b[0m     msg \u001b[38;5;241m=\u001b[39m \u001b[38;5;124m\"\u001b[39m\u001b[38;5;124mInterrupted by user\u001b[39m\u001b[38;5;124m\"\u001b[39m\n\u001b[1;32m-> 1325\u001b[0m     \u001b[38;5;28;01mraise\u001b[39;00m \u001b[38;5;167;01mKeyboardInterrupt\u001b[39;00m(msg) \u001b[38;5;28;01mfrom\u001b[39;00m \u001b[38;5;28;01mNone\u001b[39;00m\n\u001b[0;32m   1326\u001b[0m \u001b[38;5;28;01mexcept\u001b[39;00m \u001b[38;5;167;01mException\u001b[39;00m:\n\u001b[0;32m   1327\u001b[0m     \u001b[38;5;28mself\u001b[39m\u001b[38;5;241m.\u001b[39mlog\u001b[38;5;241m.\u001b[39mwarning(\u001b[38;5;124m\"\u001b[39m\u001b[38;5;124mInvalid Message:\u001b[39m\u001b[38;5;124m\"\u001b[39m, exc_info\u001b[38;5;241m=\u001b[39m\u001b[38;5;28;01mTrue\u001b[39;00m)\n",
      "\u001b[1;31mKeyboardInterrupt\u001b[0m: Interrupted by user"
     ]
    }
   ],
   "source": [
    "a1=int(input('Enter your range:'))\n",
    "list(filter(mult6,range(a1)))"
   ]
  },
  {
   "cell_type": "code",
   "execution_count": 97,
   "id": "3b95f6ca-ec29-4914-9147-0f33fe6c7566",
   "metadata": {},
   "outputs": [
    {
     "name": "stdin",
     "output_type": "stream",
     "text": [
      "Enter your range: 10\n"
     ]
    },
    {
     "name": "stdout",
     "output_type": "stream",
     "text": [
      "[1, 4, 9, 16, 25, 36, 49, 64, 81, 100]\n"
     ]
    }
   ],
   "source": [
    "# find the square of number from user input (function and lambda with filter.)\n",
    "\n",
    "x=int(input('Enter your range:'))\n",
    "\n",
    "def square(x):\n",
    "    \n",
    "    sqr_list=[]\n",
    "    for i in range(1,x+1):\n",
    "        y=i**2\n",
    "        sqr_list.append(y)\n",
    "    print(sqr_list) \n",
    "\n",
    "    \n",
    "square(x)"
   ]
  },
  {
   "cell_type": "code",
   "execution_count": 103,
   "id": "74ce820f-1480-457a-b873-e9d34d88607b",
   "metadata": {},
   "outputs": [
    {
     "name": "stdin",
     "output_type": "stream",
     "text": [
      "Enter your range: 5\n"
     ]
    },
    {
     "name": "stdout",
     "output_type": "stream",
     "text": [
      "[1]\n",
      "[1, 4]\n",
      "[1, 4, 9]\n",
      "[1, 4, 9, 16]\n",
      "[1, 4, 9, 16, 25]\n"
     ]
    },
    {
     "data": {
      "text/plain": [
       "[]"
      ]
     },
     "execution_count": 103,
     "metadata": {},
     "output_type": "execute_result"
    }
   ],
   "source": [
    "a2=int(input('Enter your range:'))\n",
    "a1=list(filter(square,range(1,a2+1)))\n",
    "a1"
   ]
  },
  {
   "cell_type": "code",
   "execution_count": 98,
   "id": "63d75cbe-f8b8-46e3-9dd2-7acb5491183d",
   "metadata": {},
   "outputs": [],
   "source": [
    "def square1(x):\n",
    "    return x**2"
   ]
  },
  {
   "cell_type": "code",
   "execution_count": 99,
   "id": "a7739565-690a-49db-a019-9b981a3c1f67",
   "metadata": {},
   "outputs": [
    {
     "name": "stdin",
     "output_type": "stream",
     "text": [
      "Enter any number: 5\n"
     ]
    },
    {
     "data": {
      "text/plain": [
       "[0, 1, 4, 9, 16]"
      ]
     },
     "execution_count": 99,
     "metadata": {},
     "output_type": "execute_result"
    }
   ],
   "source": [
    "y=int(input('Enter any number:'))\n",
    "list(map(square1,range(y)))"
   ]
  },
  {
   "cell_type": "code",
   "execution_count": 101,
   "id": "c5ac126b-6cc8-4b4e-a60a-224ecdff15ec",
   "metadata": {},
   "outputs": [],
   "source": [
    "def sqr(x):\n",
    "    return x**2"
   ]
  },
  {
   "cell_type": "code",
   "execution_count": 102,
   "id": "e26296e9-dd07-4cce-81fa-bae414b37ca4",
   "metadata": {},
   "outputs": [
    {
     "name": "stdin",
     "output_type": "stream",
     "text": [
      "Enter any number: 5\n"
     ]
    },
    {
     "data": {
      "text/plain": [
       "[0, 1, 4, 9, 16]"
      ]
     },
     "execution_count": 102,
     "metadata": {},
     "output_type": "execute_result"
    }
   ],
   "source": [
    "a3=int(input('Enter any number:'))\n",
    "list(map(sqr,range(a3)))"
   ]
  },
  {
   "cell_type": "markdown",
   "id": "2e97f1ff-7ee1-4627-ae3f-3c2881239df2",
   "metadata": {},
   "source": [
    "# map() functions\n",
    "\n",
    " * __A higher-order function__\n",
    " * __Syntax: map(function,sequence))__\n",
    " * __applies function to each element of sequence and returns the result.__"
   ]
  },
  {
   "cell_type": "code",
   "execution_count": 30,
   "id": "a6599051-0b6b-40ab-bca8-4641708c0235",
   "metadata": {},
   "outputs": [
    {
     "name": "stdin",
     "output_type": "stream",
     "text": [
      " 12 15 14\n"
     ]
    },
    {
     "name": "stdout",
     "output_type": "stream",
     "text": [
      "<class 'str'>\n",
      "<class 'str'>\n",
      "<class 'str'>\n",
      "<class 'int'>\n"
     ]
    }
   ],
   "source": [
    "m1,m2,m3 =input().split()\n",
    "\n",
    "print(type(m1))\n",
    "print(type(m2))\n",
    "print(type(m3))\n",
    "\n",
    "y=eval(m1)\n",
    "print(type(y))"
   ]
  },
  {
   "cell_type": "code",
   "execution_count": 34,
   "id": "fd068f49-83fa-47d4-b9e3-b3dbd566cd1b",
   "metadata": {},
   "outputs": [
    {
     "name": "stdin",
     "output_type": "stream",
     "text": [
      " 14 15 16\n"
     ]
    },
    {
     "name": "stdout",
     "output_type": "stream",
     "text": [
      "<class 'float'>\n",
      "<class 'float'>\n",
      "<class 'float'>\n"
     ]
    }
   ],
   "source": [
    "m1,m2,a3=list(map(float, input().split()))\n",
    "print(type(m1))\n",
    "print(type(m2))\n",
    "print(type(a3))"
   ]
  },
  {
   "cell_type": "code",
   "execution_count": 41,
   "id": "35e3611e-1882-4107-98e5-1ecb8381ce2a",
   "metadata": {},
   "outputs": [
    {
     "name": "stdout",
     "output_type": "stream",
     "text": [
      "[1, 55, 69, 25]\n",
      "[1, 3025, 4761, 625]\n"
     ]
    }
   ],
   "source": [
    "a = [1,20,50,55,69,58,78,96,36,25,10]\n",
    "\n",
    "def myfunc(a):\n",
    "    if a%2!=0:\n",
    "        return True\n",
    "    else:\n",
    "        return False\n",
    "\n",
    "def square(a):\n",
    "    return a**2\n",
    "\n",
    "val=list(filter(myfunc,a))\n",
    "print(val)\n",
    "\n",
    "x=list(map(square,val))\n",
    "print(x)"
   ]
  },
  {
   "cell_type": "code",
   "execution_count": 46,
   "id": "ea7ecf75-1112-47d8-90ba-14f04c393d12",
   "metadata": {},
   "outputs": [
    {
     "name": "stdout",
     "output_type": "stream",
     "text": [
      "[0, 3, 6, 9, 12, 15, 18, 21, 24, 27, 30]\n",
      "[0, 9, 36, 81, 144, 225, 324, 441, 576, 729, 900]\n"
     ]
    }
   ],
   "source": [
    "a1=[0,1,2,3,4,5,6,7,8,9,10]   # multiplication of 3\n",
    "# square   maping \n",
    "\n",
    "def triple(x):\n",
    "    return 3*x\n",
    "\n",
    "def square(x):\n",
    "    return x*x\n",
    "\n",
    "list(filter(triple,a1))\n",
    "\n",
    "x=list(map(triple,a1))\n",
    "print(x)\n",
    "map1=list(map(square,x))\n",
    "print(map1)"
   ]
  },
  {
   "cell_type": "code",
   "execution_count": 48,
   "id": "b14867e0-be81-4498-9281-7f2419732dfb",
   "metadata": {},
   "outputs": [
    {
     "name": "stdout",
     "output_type": "stream",
     "text": [
      "Multiplied by 3 :  [0, 3, 6, 9, 12, 15, 18, 21, 24, 27, 30]\n",
      "Squared list :  [0, 9, 36, 81, 144, 225, 324, 441, 576, 729, 900]\n"
     ]
    }
   ],
   "source": [
    "# Rupali\n",
    "a1 = [0,1,2,3,4,5,6,7,8,9,10]\n",
    "\n",
    "def mult_3(x):\n",
    "    return x*3\n",
    "\n",
    "d = list(map(mult_3,a1))\n",
    "print(\"Multiplied by 3 : \",d)\n",
    "\n",
    "def square(a):\n",
    "    return a**2\n",
    "\n",
    "e = list(map(square,d))\n",
    "print(\"Squared list : \",e)"
   ]
  },
  {
   "cell_type": "markdown",
   "id": "4d92fa5d-bc7c-43cc-8f46-f9e6443dd6e7",
   "metadata": {},
   "source": [
    "# reduce()\n",
    "\n",
    "# Required: from functools import reduce\n",
    "\n",
    "# system: reduce(f,s)\n",
    "\n",
    " * __reduce, continually applies the function f(x,y) to the sequence s. It returns a single value.__"
   ]
  },
  {
   "cell_type": "code",
   "execution_count": 61,
   "id": "ca7578fe-0594-4485-bf25-74c1e21ac788",
   "metadata": {},
   "outputs": [
    {
     "data": {
      "text/plain": [
       "113"
      ]
     },
     "execution_count": 61,
     "metadata": {},
     "output_type": "execute_result"
    }
   ],
   "source": [
    "from functools import reduce\n",
    "def add(x,y):\n",
    "    return x+y\n",
    "\n",
    "\n",
    "x=reduce(add,[47,11,42,13])\n",
    "x"
   ]
  },
  {
   "cell_type": "code",
   "execution_count": 63,
   "id": "94ca98cc-b5e5-4a95-9430-f7908f2209f7",
   "metadata": {},
   "outputs": [
    {
     "data": {
      "text/plain": [
       "55"
      ]
     },
     "execution_count": 63,
     "metadata": {},
     "output_type": "execute_result"
    }
   ],
   "source": [
    "y=reduce(add,range(10+1))\n",
    "y"
   ]
  },
  {
   "cell_type": "code",
   "execution_count": 65,
   "id": "16b88568-bfa7-4ebc-a4f6-a9bcb067a4b0",
   "metadata": {},
   "outputs": [
    {
     "data": {
      "text/plain": [
       "'JustImagineGlacierNow!'"
      ]
     },
     "execution_count": 65,
     "metadata": {},
     "output_type": "execute_result"
    }
   ],
   "source": [
    "reduce(add,['Just','Imagine',\"Glacier\",'Now!'])"
   ]
  },
  {
   "cell_type": "code",
   "execution_count": 66,
   "id": "a952a242-53dc-4a4d-9b9e-44c1473ac3de",
   "metadata": {},
   "outputs": [
    {
     "data": {
      "text/plain": [
       "'RupaliGurav'"
      ]
     },
     "execution_count": 66,
     "metadata": {},
     "output_type": "execute_result"
    }
   ],
   "source": [
    "'Rupali'+'Gurav'"
   ]
  },
  {
   "cell_type": "code",
   "execution_count": 67,
   "id": "4708661a-b6bc-4483-99a6-5ca16fd78a36",
   "metadata": {},
   "outputs": [
    {
     "name": "stdout",
     "output_type": "stream",
     "text": [
      "24\n"
     ]
    }
   ],
   "source": [
    "def mult(x,y):\n",
    "    return x*y\n",
    "\n",
    "def mystrey(n):\n",
    "    return reduce(mult,range(1,n+1))\n",
    "\n",
    "print(mystrey(4))"
   ]
  },
  {
   "cell_type": "markdown",
   "id": "c844838c-6863-4e7f-86fd-e5102b55a6c4",
   "metadata": {},
   "source": [
    "# Sorted Function in Lambda\n",
    " * __A simple ascending sort is very easy. Just call the sored() functions. It returns a new list.__"
   ]
  },
  {
   "cell_type": "code",
   "execution_count": 1,
   "id": "9809e7f2-7f85-48a4-8d5c-9594115a468a",
   "metadata": {},
   "outputs": [],
   "source": [
    "# arranged in ascending order using sorted function\n",
    "x=[5,2,4,1,3,7]\n",
    "\n",
    "y=sorted(x)"
   ]
  },
  {
   "cell_type": "code",
   "execution_count": 2,
   "id": "5b76a814-9bdb-48e6-8c91-adcd5a249b05",
   "metadata": {},
   "outputs": [
    {
     "data": {
      "text/plain": [
       "[1, 2, 3, 4, 5, 7]"
      ]
     },
     "execution_count": 2,
     "metadata": {},
     "output_type": "execute_result"
    }
   ],
   "source": [
    "y"
   ]
  },
  {
   "cell_type": "code",
   "execution_count": 3,
   "id": "41025c6c-ffa9-4874-b02b-ab01d61908a0",
   "metadata": {},
   "outputs": [
    {
     "data": {
      "text/plain": [
       "[2, 3, 4, 5, 8, 9, 10]"
      ]
     },
     "execution_count": 3,
     "metadata": {},
     "output_type": "execute_result"
    }
   ],
   "source": [
    "# sort()\n",
    "\n",
    "a=[5,2,3,4,8,9,10]\n",
    "a.sort()\n",
    "a"
   ]
  },
  {
   "cell_type": "code",
   "execution_count": 4,
   "id": "1b185588-84b1-4064-984b-fb83cbd1b480",
   "metadata": {},
   "outputs": [
    {
     "data": {
      "text/plain": [
       "[('Uday Chopra', 'A', 15), ('Isha Deol', 'B', 12), ('Hrithik Roshan', 'B', 10)]"
      ]
     },
     "execution_count": 4,
     "metadata": {},
     "output_type": "execute_result"
    }
   ],
   "source": [
    "# Dictionary\n",
    "\n",
    "students=[\n",
    "    ('Uday Chopra','A',15),\n",
    "    ('Isha Deol','B',12),\n",
    "    ('Hrithik Roshan','B',10)\n",
    "]\n",
    "students"
   ]
  },
  {
   "cell_type": "code",
   "execution_count": 6,
   "id": "8a0ce5a2-276e-4c7c-903f-f9f89fa022ea",
   "metadata": {},
   "outputs": [
    {
     "data": {
      "text/plain": [
       "tuple"
      ]
     },
     "execution_count": 6,
     "metadata": {},
     "output_type": "execute_result"
    }
   ],
   "source": [
    "type(students[0])"
   ]
  },
  {
   "cell_type": "code",
   "execution_count": 7,
   "id": "e4420b97-88cf-4861-b726-16a114c219b6",
   "metadata": {},
   "outputs": [
    {
     "data": {
      "text/plain": [
       "list"
      ]
     },
     "execution_count": 7,
     "metadata": {},
     "output_type": "execute_result"
    }
   ],
   "source": [
    "type(students)"
   ]
  },
  {
   "cell_type": "code",
   "execution_count": 12,
   "id": "f2bcdb3f-e24f-4f29-8800-4fcff09324a8",
   "metadata": {},
   "outputs": [
    {
     "data": {
      "text/plain": [
       "[('Hrithik Roshan', 'B', 10), ('Isha Deol', 'B', 12), ('Uday Chopra', 'A', 15)]"
      ]
     },
     "execution_count": 12,
     "metadata": {},
     "output_type": "execute_result"
    }
   ],
   "source": [
    "sorted(students,key=lambda students:students[2])"
   ]
  },
  {
   "cell_type": "code",
   "execution_count": 16,
   "id": "1bb7cd32-d8be-4123-a81c-0574ce27a8c5",
   "metadata": {},
   "outputs": [
    {
     "name": "stdout",
     "output_type": "stream",
     "text": [
      "Srinivash\n",
      "12\n",
      "A\n",
      "Male\n"
     ]
    }
   ],
   "source": [
    "class person:\n",
    "    def __init__(self,name,age, grade,gender):\n",
    "        self.name=name\n",
    "        self.age=age\n",
    "        self.grade=grade\n",
    "        self.gender=gender\n",
    "    def __repr__(self):\n",
    "        return repr((self.name,self.age,self.gender,self.grade))\n",
    "\n",
    "\n",
    "\n",
    "obj=person('Srinivash','12','A','Male')\n",
    "print(obj.name)\n",
    "print(obj.age)\n",
    "print(obj.grade)\n",
    "print(obj.gender)"
   ]
  },
  {
   "cell_type": "code",
   "execution_count": 19,
   "id": "9c2e6097-65e4-499a-8f7d-f00d933104d3",
   "metadata": {},
   "outputs": [],
   "source": [
    "student_obj=[\n",
    "    person('Srinivash',12,'C','Male'),\n",
    "    person('Srinivash',50,'A','Female'),\n",
    "    person('Uday',12,'B','Transgender'),\n",
    "    person('Srinivash',12,'A','Male'),\n",
    "    person('Pallavi',40,'D','Female'),\n",
    "]"
   ]
  },
  {
   "cell_type": "code",
   "execution_count": 29,
   "id": "4abf6436-cb3d-4465-a110-426c611b618d",
   "metadata": {},
   "outputs": [
    {
     "data": {
      "text/plain": [
       "[('Srinivash', 12, 'Male', 'C'),\n",
       " ('Uday', 12, 'Transgender', 'B'),\n",
       " ('Srinivash', 12, 'Male', 'A'),\n",
       " ('Pallavi', 40, 'Female', 'D'),\n",
       " ('Srinivash', 50, 'Female', 'A')]"
      ]
     },
     "execution_count": 29,
     "metadata": {},
     "output_type": "execute_result"
    }
   ],
   "source": [
    "sorted(student_obj,key=lambda person:person.age)"
   ]
  },
  {
   "cell_type": "code",
   "execution_count": 30,
   "id": "334e3879-2f9d-4c2a-831b-db0e1d7a3154",
   "metadata": {},
   "outputs": [
    {
     "name": "stdout",
     "output_type": "stream",
     "text": [
      "[10, 5, 6, 9, 7, 8]\n"
     ]
    }
   ],
   "source": [
    "list1=[10,5,6,9,7,8]\n",
    "print(list1)"
   ]
  },
  {
   "cell_type": "code",
   "execution_count": 32,
   "id": "7103e090-0b0a-49bf-a6fa-d04fd000ea6d",
   "metadata": {},
   "outputs": [],
   "source": [
    "list1.sort()"
   ]
  },
  {
   "cell_type": "code",
   "execution_count": 33,
   "id": "a516a32d-bd44-45b2-8c02-c28764743429",
   "metadata": {},
   "outputs": [
    {
     "data": {
      "text/plain": [
       "[5, 6, 7, 8, 9, 10]"
      ]
     },
     "execution_count": 33,
     "metadata": {},
     "output_type": "execute_result"
    }
   ],
   "source": [
    "list1"
   ]
  },
  {
   "cell_type": "code",
   "execution_count": 34,
   "id": "d60696c1-3fa0-4bdf-a0cd-f1b805eb442d",
   "metadata": {},
   "outputs": [],
   "source": [
    "list1.reverse()"
   ]
  },
  {
   "cell_type": "code",
   "execution_count": 35,
   "id": "6a0809c3-397b-437b-8416-5c8057d6956b",
   "metadata": {},
   "outputs": [
    {
     "data": {
      "text/plain": [
       "[10, 9, 8, 7, 6, 5]"
      ]
     },
     "execution_count": 35,
     "metadata": {},
     "output_type": "execute_result"
    }
   ],
   "source": [
    "list1"
   ]
  },
  {
   "cell_type": "code",
   "execution_count": 36,
   "id": "fe3c6788-8ff1-4934-8f6a-b565e6d0b65b",
   "metadata": {},
   "outputs": [],
   "source": [
    "list1=[10,5,6,9,7,8]"
   ]
  },
  {
   "cell_type": "code",
   "execution_count": 37,
   "id": "4e53351f-ae8c-4169-8a6e-94e7304bd289",
   "metadata": {},
   "outputs": [
    {
     "data": {
      "text/plain": [
       "[10, 5, 6, 9, 7, 8]"
      ]
     },
     "execution_count": 37,
     "metadata": {},
     "output_type": "execute_result"
    }
   ],
   "source": [
    "list1[::-1]\n",
    "list1"
   ]
  },
  {
   "cell_type": "code",
   "execution_count": 39,
   "id": "7abe6d8b-f8a5-4511-be24-8c9939c39f19",
   "metadata": {},
   "outputs": [
    {
     "data": {
      "text/plain": [
       "'savinirhS'"
      ]
     },
     "execution_count": 39,
     "metadata": {},
     "output_type": "execute_result"
    }
   ],
   "source": [
    "x='Shrinivas'\n",
    "x[::-1]"
   ]
  },
  {
   "cell_type": "code",
   "execution_count": 45,
   "id": "dab5079d-68fc-4bbf-b065-8da982777ef6",
   "metadata": {},
   "outputs": [
    {
     "name": "stdout",
     "output_type": "stream",
     "text": [
      "[('Meera', 9, 'c', 'male'), ('Sakshi', 6, 'b', 'female'), ('Gita', 5, 'd', 'female'), ('Rupali', 4, 'a', 'male'), ('Meena', 3, 'b', 'female')]\n"
     ]
    }
   ],
   "source": [
    "class person: \n",
    "    def __init__(self, name,age, grade, gender): \n",
    "        self.name = name\n",
    "        self.age = age\n",
    "        self.grade = grade\n",
    "        self.gender = gender\n",
    "  \n",
    "    def __repr__(self):\n",
    "        return repr((self.name,self.age,self.grade,self.gender))\n",
    "  \n",
    "  \n",
    "gfg = [\n",
    "    person(\"Sakshi\", 6,'b','female'), \n",
    "    person(\"Meera\", 9,'c','male'), \n",
    "    person(\"Gita\", 5,'d','female'), \n",
    "    person(\"Rupali\", 4,'a','male'), \n",
    "    person(\"Meena\", 3,'b','female')\n",
    "] \n",
    "  \n",
    "\n",
    "a = sorted(gfg, key=lambda x:x.age,reverse=True) \n",
    "print(a)"
   ]
  },
  {
   "cell_type": "code",
   "execution_count": 48,
   "id": "f20358bc-e1e6-4174-b598-2c34348c9c55",
   "metadata": {},
   "outputs": [],
   "source": [
    "import pandas as pd"
   ]
  },
  {
   "cell_type": "code",
   "execution_count": 52,
   "id": "d246400a-aeff-4dc2-84fd-4ba4c49f7837",
   "metadata": {},
   "outputs": [
    {
     "data": {
      "text/html": [
       "<div>\n",
       "<style scoped>\n",
       "    .dataframe tbody tr th:only-of-type {\n",
       "        vertical-align: middle;\n",
       "    }\n",
       "\n",
       "    .dataframe tbody tr th {\n",
       "        vertical-align: top;\n",
       "    }\n",
       "\n",
       "    .dataframe thead th {\n",
       "        text-align: right;\n",
       "    }\n",
       "</style>\n",
       "<table border=\"1\" class=\"dataframe\">\n",
       "  <thead>\n",
       "    <tr style=\"text-align: right;\">\n",
       "      <th></th>\n",
       "      <th>Name</th>\n",
       "      <th>TotalMarks</th>\n",
       "      <th>Mobno</th>\n",
       "    </tr>\n",
       "  </thead>\n",
       "  <tbody>\n",
       "    <tr>\n",
       "      <th>0</th>\n",
       "      <td>Uday</td>\n",
       "      <td>500</td>\n",
       "      <td>456123</td>\n",
       "    </tr>\n",
       "    <tr>\n",
       "      <th>1</th>\n",
       "      <td>Shrinivas</td>\n",
       "      <td>499</td>\n",
       "      <td>789456</td>\n",
       "    </tr>\n",
       "  </tbody>\n",
       "</table>\n",
       "</div>"
      ],
      "text/plain": [
       "        Name  TotalMarks   Mobno\n",
       "0       Uday         500  456123\n",
       "1  Shrinivas         499  789456"
      ]
     },
     "execution_count": 52,
     "metadata": {},
     "output_type": "execute_result"
    }
   ],
   "source": [
    "values=[('Uday',500,456123),('Shrinivas',499,789456)]\n",
    "\n",
    "df=pd.DataFrame(values,columns=['Name','TotalMarks','Mobno'])\n",
    "df"
   ]
  },
  {
   "cell_type": "code",
   "execution_count": 1,
   "id": "86c27174-e583-4955-9d11-08f1aaae8b52",
   "metadata": {},
   "outputs": [],
   "source": [
    "import numpy"
   ]
  },
  {
   "cell_type": "code",
   "execution_count": 4,
   "id": "7e143abe-6061-4d7f-92de-72151c4a7a6b",
   "metadata": {},
   "outputs": [],
   "source": [
    "import pandas as pd"
   ]
  },
  {
   "cell_type": "code",
   "execution_count": 14,
   "id": "187420b5-70f4-42e2-a41a-938b69ee1191",
   "metadata": {},
   "outputs": [
    {
     "data": {
      "text/html": [
       "<div>\n",
       "<style scoped>\n",
       "    .dataframe tbody tr th:only-of-type {\n",
       "        vertical-align: middle;\n",
       "    }\n",
       "\n",
       "    .dataframe tbody tr th {\n",
       "        vertical-align: top;\n",
       "    }\n",
       "\n",
       "    .dataframe thead th {\n",
       "        text-align: right;\n",
       "    }\n",
       "</style>\n",
       "<table border=\"1\" class=\"dataframe\">\n",
       "  <thead>\n",
       "    <tr style=\"text-align: right;\">\n",
       "      <th></th>\n",
       "      <th>Field_1</th>\n",
       "      <th>Field_2</th>\n",
       "      <th>Field_3</th>\n",
       "    </tr>\n",
       "  </thead>\n",
       "  <tbody>\n",
       "    <tr>\n",
       "      <th>a</th>\n",
       "      <td>15</td>\n",
       "      <td>2.5</td>\n",
       "      <td>100</td>\n",
       "    </tr>\n",
       "    <tr>\n",
       "      <th>b</th>\n",
       "      <td>20</td>\n",
       "      <td>4.5</td>\n",
       "      <td>50</td>\n",
       "    </tr>\n",
       "    <tr>\n",
       "      <th>c</th>\n",
       "      <td>25</td>\n",
       "      <td>5.2</td>\n",
       "      <td>80</td>\n",
       "    </tr>\n",
       "    <tr>\n",
       "      <th>d</th>\n",
       "      <td>45</td>\n",
       "      <td>5.8</td>\n",
       "      <td>48</td>\n",
       "    </tr>\n",
       "    <tr>\n",
       "      <th>e</th>\n",
       "      <td>40</td>\n",
       "      <td>6.3</td>\n",
       "      <td>70</td>\n",
       "    </tr>\n",
       "    <tr>\n",
       "      <th>f</th>\n",
       "      <td>41</td>\n",
       "      <td>6.4</td>\n",
       "      <td>90</td>\n",
       "    </tr>\n",
       "    <tr>\n",
       "      <th>g</th>\n",
       "      <td>51</td>\n",
       "      <td>2.3</td>\n",
       "      <td>111</td>\n",
       "    </tr>\n",
       "  </tbody>\n",
       "</table>\n",
       "</div>"
      ],
      "text/plain": [
       "   Field_1  Field_2  Field_3\n",
       "a       15      2.5      100\n",
       "b       20      4.5       50\n",
       "c       25      5.2       80\n",
       "d       45      5.8       48\n",
       "e       40      6.3       70\n",
       "f       41      6.4       90\n",
       "g       51      2.3      111"
      ]
     },
     "execution_count": 14,
     "metadata": {},
     "output_type": "execute_result"
    }
   ],
   "source": [
    "values_list=[[15,2.5,100],[20,4.5,50],[25,5.2,80],\n",
    "            [45,5.8,48],[40,6.3,70],[41,6.4,90],\n",
    "            [51,2.3,111]]\n",
    "\n",
    "df=pd.DataFrame(values_list,columns=['Field_1','Field_2','Field_3'],index=['a','b','c','d','e','f','g'])\n",
    "df\n",
    "\n",
    "# using lambda apply function\n"
   ]
  },
  {
   "cell_type": "code",
   "execution_count": 16,
   "id": "7b777f94-3f60-4a59-b86b-91e4716a2744",
   "metadata": {},
   "outputs": [
    {
     "data": {
      "text/html": [
       "<div>\n",
       "<style scoped>\n",
       "    .dataframe tbody tr th:only-of-type {\n",
       "        vertical-align: middle;\n",
       "    }\n",
       "\n",
       "    .dataframe tbody tr th {\n",
       "        vertical-align: top;\n",
       "    }\n",
       "\n",
       "    .dataframe thead th {\n",
       "        text-align: right;\n",
       "    }\n",
       "</style>\n",
       "<table border=\"1\" class=\"dataframe\">\n",
       "  <thead>\n",
       "    <tr style=\"text-align: right;\">\n",
       "      <th></th>\n",
       "      <th>Field_1</th>\n",
       "      <th>Field_2</th>\n",
       "      <th>Field_3</th>\n",
       "    </tr>\n",
       "  </thead>\n",
       "  <tbody>\n",
       "    <tr>\n",
       "      <th>a</th>\n",
       "      <td>90</td>\n",
       "      <td>15.0</td>\n",
       "      <td>600</td>\n",
       "    </tr>\n",
       "    <tr>\n",
       "      <th>b</th>\n",
       "      <td>120</td>\n",
       "      <td>27.0</td>\n",
       "      <td>300</td>\n",
       "    </tr>\n",
       "    <tr>\n",
       "      <th>c</th>\n",
       "      <td>150</td>\n",
       "      <td>31.2</td>\n",
       "      <td>480</td>\n",
       "    </tr>\n",
       "    <tr>\n",
       "      <th>d</th>\n",
       "      <td>270</td>\n",
       "      <td>34.8</td>\n",
       "      <td>288</td>\n",
       "    </tr>\n",
       "    <tr>\n",
       "      <th>e</th>\n",
       "      <td>240</td>\n",
       "      <td>37.8</td>\n",
       "      <td>420</td>\n",
       "    </tr>\n",
       "    <tr>\n",
       "      <th>f</th>\n",
       "      <td>246</td>\n",
       "      <td>38.4</td>\n",
       "      <td>540</td>\n",
       "    </tr>\n",
       "    <tr>\n",
       "      <th>g</th>\n",
       "      <td>306</td>\n",
       "      <td>13.8</td>\n",
       "      <td>666</td>\n",
       "    </tr>\n",
       "  </tbody>\n",
       "</table>\n",
       "</div>"
      ],
      "text/plain": [
       "   Field_1  Field_2  Field_3\n",
       "a       90     15.0      600\n",
       "b      120     27.0      300\n",
       "c      150     31.2      480\n",
       "d      270     34.8      288\n",
       "e      240     37.8      420\n",
       "f      246     38.4      540\n",
       "g      306     13.8      666"
      ]
     },
     "execution_count": 16,
     "metadata": {},
     "output_type": "execute_result"
    }
   ],
   "source": [
    "\n",
    "# df=df.apply(lambda x:np.square(x) if x.name ='d' else x.axis=1)\n",
    "# print(df)\n",
    "\n",
    "df=df.apply(lambda x:x*3)\n",
    "df"
   ]
  },
  {
   "cell_type": "code",
   "execution_count": 17,
   "id": "96df2278-e466-4e5b-85a6-af39126cf97d",
   "metadata": {},
   "outputs": [
    {
     "data": {
      "text/html": [
       "<div>\n",
       "<style scoped>\n",
       "    .dataframe tbody tr th:only-of-type {\n",
       "        vertical-align: middle;\n",
       "    }\n",
       "\n",
       "    .dataframe tbody tr th {\n",
       "        vertical-align: top;\n",
       "    }\n",
       "\n",
       "    .dataframe thead th {\n",
       "        text-align: right;\n",
       "    }\n",
       "</style>\n",
       "<table border=\"1\" class=\"dataframe\">\n",
       "  <thead>\n",
       "    <tr style=\"text-align: right;\">\n",
       "      <th></th>\n",
       "      <th>name</th>\n",
       "      <th>ingredients</th>\n",
       "      <th>diet</th>\n",
       "      <th>prep_time</th>\n",
       "      <th>cook_time</th>\n",
       "      <th>flavor_profile</th>\n",
       "      <th>course</th>\n",
       "      <th>state</th>\n",
       "      <th>region</th>\n",
       "    </tr>\n",
       "  </thead>\n",
       "  <tbody>\n",
       "    <tr>\n",
       "      <th>0</th>\n",
       "      <td>Balu shahi</td>\n",
       "      <td>Maida flour, yogurt, oil, sugar</td>\n",
       "      <td>vegetarian</td>\n",
       "      <td>45</td>\n",
       "      <td>25</td>\n",
       "      <td>sweet</td>\n",
       "      <td>dessert</td>\n",
       "      <td>West Bengal</td>\n",
       "      <td>East</td>\n",
       "    </tr>\n",
       "    <tr>\n",
       "      <th>1</th>\n",
       "      <td>Boondi</td>\n",
       "      <td>Gram flour, ghee, sugar</td>\n",
       "      <td>vegetarian</td>\n",
       "      <td>80</td>\n",
       "      <td>30</td>\n",
       "      <td>sweet</td>\n",
       "      <td>dessert</td>\n",
       "      <td>Rajasthan</td>\n",
       "      <td>West</td>\n",
       "    </tr>\n",
       "    <tr>\n",
       "      <th>2</th>\n",
       "      <td>Gajar ka halwa</td>\n",
       "      <td>Carrots, milk, sugar, ghee, cashews, raisins</td>\n",
       "      <td>vegetarian</td>\n",
       "      <td>15</td>\n",
       "      <td>60</td>\n",
       "      <td>sweet</td>\n",
       "      <td>dessert</td>\n",
       "      <td>Punjab</td>\n",
       "      <td>North</td>\n",
       "    </tr>\n",
       "    <tr>\n",
       "      <th>3</th>\n",
       "      <td>Ghevar</td>\n",
       "      <td>Flour, ghee, kewra, milk, clarified butter, su...</td>\n",
       "      <td>vegetarian</td>\n",
       "      <td>15</td>\n",
       "      <td>30</td>\n",
       "      <td>sweet</td>\n",
       "      <td>dessert</td>\n",
       "      <td>Rajasthan</td>\n",
       "      <td>West</td>\n",
       "    </tr>\n",
       "    <tr>\n",
       "      <th>4</th>\n",
       "      <td>Gulab jamun</td>\n",
       "      <td>Milk powder, plain flour, baking powder, ghee,...</td>\n",
       "      <td>vegetarian</td>\n",
       "      <td>15</td>\n",
       "      <td>40</td>\n",
       "      <td>sweet</td>\n",
       "      <td>dessert</td>\n",
       "      <td>West Bengal</td>\n",
       "      <td>East</td>\n",
       "    </tr>\n",
       "    <tr>\n",
       "      <th>...</th>\n",
       "      <td>...</td>\n",
       "      <td>...</td>\n",
       "      <td>...</td>\n",
       "      <td>...</td>\n",
       "      <td>...</td>\n",
       "      <td>...</td>\n",
       "      <td>...</td>\n",
       "      <td>...</td>\n",
       "      <td>...</td>\n",
       "    </tr>\n",
       "    <tr>\n",
       "      <th>250</th>\n",
       "      <td>Til Pitha</td>\n",
       "      <td>Glutinous rice, black sesame seeds, gur</td>\n",
       "      <td>vegetarian</td>\n",
       "      <td>5</td>\n",
       "      <td>30</td>\n",
       "      <td>sweet</td>\n",
       "      <td>dessert</td>\n",
       "      <td>Assam</td>\n",
       "      <td>North East</td>\n",
       "    </tr>\n",
       "    <tr>\n",
       "      <th>251</th>\n",
       "      <td>Bebinca</td>\n",
       "      <td>Coconut milk, egg yolks, clarified butter, all...</td>\n",
       "      <td>vegetarian</td>\n",
       "      <td>20</td>\n",
       "      <td>60</td>\n",
       "      <td>sweet</td>\n",
       "      <td>dessert</td>\n",
       "      <td>Goa</td>\n",
       "      <td>West</td>\n",
       "    </tr>\n",
       "    <tr>\n",
       "      <th>252</th>\n",
       "      <td>Shufta</td>\n",
       "      <td>Cottage cheese, dry dates, dried rose petals, ...</td>\n",
       "      <td>vegetarian</td>\n",
       "      <td>-1</td>\n",
       "      <td>-1</td>\n",
       "      <td>sweet</td>\n",
       "      <td>dessert</td>\n",
       "      <td>Jammu &amp; Kashmir</td>\n",
       "      <td>North</td>\n",
       "    </tr>\n",
       "    <tr>\n",
       "      <th>253</th>\n",
       "      <td>Mawa Bati</td>\n",
       "      <td>Milk powder, dry fruits, arrowroot powder, all...</td>\n",
       "      <td>vegetarian</td>\n",
       "      <td>20</td>\n",
       "      <td>45</td>\n",
       "      <td>sweet</td>\n",
       "      <td>dessert</td>\n",
       "      <td>Madhya Pradesh</td>\n",
       "      <td>Central</td>\n",
       "    </tr>\n",
       "    <tr>\n",
       "      <th>254</th>\n",
       "      <td>Pinaca</td>\n",
       "      <td>Brown rice, fennel seeds, grated coconut, blac...</td>\n",
       "      <td>vegetarian</td>\n",
       "      <td>-1</td>\n",
       "      <td>-1</td>\n",
       "      <td>sweet</td>\n",
       "      <td>dessert</td>\n",
       "      <td>Goa</td>\n",
       "      <td>West</td>\n",
       "    </tr>\n",
       "  </tbody>\n",
       "</table>\n",
       "<p>255 rows × 9 columns</p>\n",
       "</div>"
      ],
      "text/plain": [
       "               name                                        ingredients  \\\n",
       "0        Balu shahi                    Maida flour, yogurt, oil, sugar   \n",
       "1            Boondi                            Gram flour, ghee, sugar   \n",
       "2    Gajar ka halwa       Carrots, milk, sugar, ghee, cashews, raisins   \n",
       "3            Ghevar  Flour, ghee, kewra, milk, clarified butter, su...   \n",
       "4       Gulab jamun  Milk powder, plain flour, baking powder, ghee,...   \n",
       "..              ...                                                ...   \n",
       "250       Til Pitha            Glutinous rice, black sesame seeds, gur   \n",
       "251         Bebinca  Coconut milk, egg yolks, clarified butter, all...   \n",
       "252          Shufta  Cottage cheese, dry dates, dried rose petals, ...   \n",
       "253       Mawa Bati  Milk powder, dry fruits, arrowroot powder, all...   \n",
       "254          Pinaca  Brown rice, fennel seeds, grated coconut, blac...   \n",
       "\n",
       "           diet  prep_time  cook_time flavor_profile   course  \\\n",
       "0    vegetarian         45         25          sweet  dessert   \n",
       "1    vegetarian         80         30          sweet  dessert   \n",
       "2    vegetarian         15         60          sweet  dessert   \n",
       "3    vegetarian         15         30          sweet  dessert   \n",
       "4    vegetarian         15         40          sweet  dessert   \n",
       "..          ...        ...        ...            ...      ...   \n",
       "250  vegetarian          5         30          sweet  dessert   \n",
       "251  vegetarian         20         60          sweet  dessert   \n",
       "252  vegetarian         -1         -1          sweet  dessert   \n",
       "253  vegetarian         20         45          sweet  dessert   \n",
       "254  vegetarian         -1         -1          sweet  dessert   \n",
       "\n",
       "               state      region  \n",
       "0        West Bengal        East  \n",
       "1          Rajasthan        West  \n",
       "2             Punjab       North  \n",
       "3          Rajasthan        West  \n",
       "4        West Bengal        East  \n",
       "..               ...         ...  \n",
       "250            Assam  North East  \n",
       "251              Goa        West  \n",
       "252  Jammu & Kashmir       North  \n",
       "253   Madhya Pradesh     Central  \n",
       "254              Goa        West  \n",
       "\n",
       "[255 rows x 9 columns]"
      ]
     },
     "execution_count": 17,
     "metadata": {},
     "output_type": "execute_result"
    }
   ],
   "source": [
    "x=pd.read_csv('C:\\\\Users\\\\Admin\\\\Downloads\\\\indian_food.csv', encoding='Latin')\n",
    "x"
   ]
  },
  {
   "cell_type": "code",
   "execution_count": 18,
   "id": "58f5e1b4-81a9-42d8-b246-35a18eb83c49",
   "metadata": {},
   "outputs": [
    {
     "data": {
      "text/html": [
       "<div>\n",
       "<style scoped>\n",
       "    .dataframe tbody tr th:only-of-type {\n",
       "        vertical-align: middle;\n",
       "    }\n",
       "\n",
       "    .dataframe tbody tr th {\n",
       "        vertical-align: top;\n",
       "    }\n",
       "\n",
       "    .dataframe thead th {\n",
       "        text-align: right;\n",
       "    }\n",
       "</style>\n",
       "<table border=\"1\" class=\"dataframe\">\n",
       "  <thead>\n",
       "    <tr style=\"text-align: right;\">\n",
       "      <th></th>\n",
       "      <th>name</th>\n",
       "      <th>ingredients</th>\n",
       "      <th>diet</th>\n",
       "      <th>prep_time</th>\n",
       "      <th>cook_time</th>\n",
       "      <th>flavor_profile</th>\n",
       "      <th>course</th>\n",
       "      <th>state</th>\n",
       "      <th>region</th>\n",
       "    </tr>\n",
       "  </thead>\n",
       "  <tbody>\n",
       "    <tr>\n",
       "      <th>0</th>\n",
       "      <td>Balu shahi</td>\n",
       "      <td>Maida flour, yogurt, oil, sugar</td>\n",
       "      <td>vegetarian</td>\n",
       "      <td>45</td>\n",
       "      <td>25</td>\n",
       "      <td>sweet</td>\n",
       "      <td>dessert</td>\n",
       "      <td>West Bengal</td>\n",
       "      <td>East</td>\n",
       "    </tr>\n",
       "    <tr>\n",
       "      <th>1</th>\n",
       "      <td>Boondi</td>\n",
       "      <td>Gram flour, ghee, sugar</td>\n",
       "      <td>vegetarian</td>\n",
       "      <td>80</td>\n",
       "      <td>30</td>\n",
       "      <td>sweet</td>\n",
       "      <td>dessert</td>\n",
       "      <td>Rajasthan</td>\n",
       "      <td>West</td>\n",
       "    </tr>\n",
       "    <tr>\n",
       "      <th>2</th>\n",
       "      <td>Gajar ka halwa</td>\n",
       "      <td>Carrots, milk, sugar, ghee, cashews, raisins</td>\n",
       "      <td>vegetarian</td>\n",
       "      <td>15</td>\n",
       "      <td>60</td>\n",
       "      <td>sweet</td>\n",
       "      <td>dessert</td>\n",
       "      <td>Punjab</td>\n",
       "      <td>North</td>\n",
       "    </tr>\n",
       "    <tr>\n",
       "      <th>3</th>\n",
       "      <td>Ghevar</td>\n",
       "      <td>Flour, ghee, kewra, milk, clarified butter, su...</td>\n",
       "      <td>vegetarian</td>\n",
       "      <td>15</td>\n",
       "      <td>30</td>\n",
       "      <td>sweet</td>\n",
       "      <td>dessert</td>\n",
       "      <td>Rajasthan</td>\n",
       "      <td>West</td>\n",
       "    </tr>\n",
       "    <tr>\n",
       "      <th>4</th>\n",
       "      <td>Gulab jamun</td>\n",
       "      <td>Milk powder, plain flour, baking powder, ghee,...</td>\n",
       "      <td>vegetarian</td>\n",
       "      <td>15</td>\n",
       "      <td>40</td>\n",
       "      <td>sweet</td>\n",
       "      <td>dessert</td>\n",
       "      <td>West Bengal</td>\n",
       "      <td>East</td>\n",
       "    </tr>\n",
       "  </tbody>\n",
       "</table>\n",
       "</div>"
      ],
      "text/plain": [
       "             name                                        ingredients  \\\n",
       "0      Balu shahi                    Maida flour, yogurt, oil, sugar   \n",
       "1          Boondi                            Gram flour, ghee, sugar   \n",
       "2  Gajar ka halwa       Carrots, milk, sugar, ghee, cashews, raisins   \n",
       "3          Ghevar  Flour, ghee, kewra, milk, clarified butter, su...   \n",
       "4     Gulab jamun  Milk powder, plain flour, baking powder, ghee,...   \n",
       "\n",
       "         diet  prep_time  cook_time flavor_profile   course        state  \\\n",
       "0  vegetarian         45         25          sweet  dessert  West Bengal   \n",
       "1  vegetarian         80         30          sweet  dessert    Rajasthan   \n",
       "2  vegetarian         15         60          sweet  dessert       Punjab   \n",
       "3  vegetarian         15         30          sweet  dessert    Rajasthan   \n",
       "4  vegetarian         15         40          sweet  dessert  West Bengal   \n",
       "\n",
       "  region  \n",
       "0   East  \n",
       "1   West  \n",
       "2  North  \n",
       "3   West  \n",
       "4   East  "
      ]
     },
     "execution_count": 18,
     "metadata": {},
     "output_type": "execute_result"
    }
   ],
   "source": [
    "x.head()"
   ]
  },
  {
   "cell_type": "code",
   "execution_count": 21,
   "id": "975950f4-b057-430c-be16-35a5427b044a",
   "metadata": {},
   "outputs": [
    {
     "data": {
      "text/html": [
       "<div>\n",
       "<style scoped>\n",
       "    .dataframe tbody tr th:only-of-type {\n",
       "        vertical-align: middle;\n",
       "    }\n",
       "\n",
       "    .dataframe tbody tr th {\n",
       "        vertical-align: top;\n",
       "    }\n",
       "\n",
       "    .dataframe thead th {\n",
       "        text-align: right;\n",
       "    }\n",
       "</style>\n",
       "<table border=\"1\" class=\"dataframe\">\n",
       "  <thead>\n",
       "    <tr style=\"text-align: right;\">\n",
       "      <th></th>\n",
       "      <th>name</th>\n",
       "      <th>ingredients</th>\n",
       "      <th>diet</th>\n",
       "      <th>prep_time</th>\n",
       "      <th>cook_time</th>\n",
       "      <th>flavor_profile</th>\n",
       "      <th>course</th>\n",
       "      <th>state</th>\n",
       "      <th>region</th>\n",
       "    </tr>\n",
       "  </thead>\n",
       "  <tbody>\n",
       "    <tr>\n",
       "      <th>243</th>\n",
       "      <td>Mishti Chholar Dal</td>\n",
       "      <td>Chana dal, fresh coconut, ginger, cinnamon, ra...</td>\n",
       "      <td>vegetarian</td>\n",
       "      <td>10</td>\n",
       "      <td>30</td>\n",
       "      <td>sweet</td>\n",
       "      <td>main course</td>\n",
       "      <td>West Bengal</td>\n",
       "      <td>East</td>\n",
       "    </tr>\n",
       "    <tr>\n",
       "      <th>244</th>\n",
       "      <td>Pakhala</td>\n",
       "      <td>Curd, cooked rice, curry leaves, dry chilli</td>\n",
       "      <td>vegetarian</td>\n",
       "      <td>-1</td>\n",
       "      <td>-1</td>\n",
       "      <td>-1</td>\n",
       "      <td>main course</td>\n",
       "      <td>Odisha</td>\n",
       "      <td>East</td>\n",
       "    </tr>\n",
       "    <tr>\n",
       "      <th>245</th>\n",
       "      <td>Pani Pitha</td>\n",
       "      <td>Tea leaves, white sesame seeds, dry coconut, s...</td>\n",
       "      <td>vegetarian</td>\n",
       "      <td>10</td>\n",
       "      <td>20</td>\n",
       "      <td>-1</td>\n",
       "      <td>main course</td>\n",
       "      <td>Assam</td>\n",
       "      <td>North East</td>\n",
       "    </tr>\n",
       "    <tr>\n",
       "      <th>246</th>\n",
       "      <td>Payokh</td>\n",
       "      <td>Basmati rice, rose water, sugar, clarified but...</td>\n",
       "      <td>vegetarian</td>\n",
       "      <td>-1</td>\n",
       "      <td>-1</td>\n",
       "      <td>sweet</td>\n",
       "      <td>dessert</td>\n",
       "      <td>Assam</td>\n",
       "      <td>North East</td>\n",
       "    </tr>\n",
       "    <tr>\n",
       "      <th>247</th>\n",
       "      <td>Prawn malai curry</td>\n",
       "      <td>Coconut milk, prawns, garlic, turmeric, sugar</td>\n",
       "      <td>non vegetarian</td>\n",
       "      <td>15</td>\n",
       "      <td>50</td>\n",
       "      <td>spicy</td>\n",
       "      <td>main course</td>\n",
       "      <td>West Bengal</td>\n",
       "      <td>East</td>\n",
       "    </tr>\n",
       "    <tr>\n",
       "      <th>248</th>\n",
       "      <td>Red Rice</td>\n",
       "      <td>Red pepper, red onion, butter, watercress, oli...</td>\n",
       "      <td>vegetarian</td>\n",
       "      <td>-1</td>\n",
       "      <td>-1</td>\n",
       "      <td>-1</td>\n",
       "      <td>main course</td>\n",
       "      <td>-1</td>\n",
       "      <td>-1</td>\n",
       "    </tr>\n",
       "    <tr>\n",
       "      <th>249</th>\n",
       "      <td>Shukto</td>\n",
       "      <td>Green beans, bitter gourd, ridge gourd, banana...</td>\n",
       "      <td>vegetarian</td>\n",
       "      <td>10</td>\n",
       "      <td>20</td>\n",
       "      <td>spicy</td>\n",
       "      <td>main course</td>\n",
       "      <td>West Bengal</td>\n",
       "      <td>East</td>\n",
       "    </tr>\n",
       "    <tr>\n",
       "      <th>250</th>\n",
       "      <td>Til Pitha</td>\n",
       "      <td>Glutinous rice, black sesame seeds, gur</td>\n",
       "      <td>vegetarian</td>\n",
       "      <td>5</td>\n",
       "      <td>30</td>\n",
       "      <td>sweet</td>\n",
       "      <td>dessert</td>\n",
       "      <td>Assam</td>\n",
       "      <td>North East</td>\n",
       "    </tr>\n",
       "    <tr>\n",
       "      <th>251</th>\n",
       "      <td>Bebinca</td>\n",
       "      <td>Coconut milk, egg yolks, clarified butter, all...</td>\n",
       "      <td>vegetarian</td>\n",
       "      <td>20</td>\n",
       "      <td>60</td>\n",
       "      <td>sweet</td>\n",
       "      <td>dessert</td>\n",
       "      <td>Goa</td>\n",
       "      <td>West</td>\n",
       "    </tr>\n",
       "    <tr>\n",
       "      <th>252</th>\n",
       "      <td>Shufta</td>\n",
       "      <td>Cottage cheese, dry dates, dried rose petals, ...</td>\n",
       "      <td>vegetarian</td>\n",
       "      <td>-1</td>\n",
       "      <td>-1</td>\n",
       "      <td>sweet</td>\n",
       "      <td>dessert</td>\n",
       "      <td>Jammu &amp; Kashmir</td>\n",
       "      <td>North</td>\n",
       "    </tr>\n",
       "    <tr>\n",
       "      <th>253</th>\n",
       "      <td>Mawa Bati</td>\n",
       "      <td>Milk powder, dry fruits, arrowroot powder, all...</td>\n",
       "      <td>vegetarian</td>\n",
       "      <td>20</td>\n",
       "      <td>45</td>\n",
       "      <td>sweet</td>\n",
       "      <td>dessert</td>\n",
       "      <td>Madhya Pradesh</td>\n",
       "      <td>Central</td>\n",
       "    </tr>\n",
       "    <tr>\n",
       "      <th>254</th>\n",
       "      <td>Pinaca</td>\n",
       "      <td>Brown rice, fennel seeds, grated coconut, blac...</td>\n",
       "      <td>vegetarian</td>\n",
       "      <td>-1</td>\n",
       "      <td>-1</td>\n",
       "      <td>sweet</td>\n",
       "      <td>dessert</td>\n",
       "      <td>Goa</td>\n",
       "      <td>West</td>\n",
       "    </tr>\n",
       "  </tbody>\n",
       "</table>\n",
       "</div>"
      ],
      "text/plain": [
       "                   name                                        ingredients  \\\n",
       "243  Mishti Chholar Dal  Chana dal, fresh coconut, ginger, cinnamon, ra...   \n",
       "244             Pakhala        Curd, cooked rice, curry leaves, dry chilli   \n",
       "245          Pani Pitha  Tea leaves, white sesame seeds, dry coconut, s...   \n",
       "246              Payokh  Basmati rice, rose water, sugar, clarified but...   \n",
       "247   Prawn malai curry      Coconut milk, prawns, garlic, turmeric, sugar   \n",
       "248            Red Rice  Red pepper, red onion, butter, watercress, oli...   \n",
       "249              Shukto  Green beans, bitter gourd, ridge gourd, banana...   \n",
       "250           Til Pitha            Glutinous rice, black sesame seeds, gur   \n",
       "251             Bebinca  Coconut milk, egg yolks, clarified butter, all...   \n",
       "252              Shufta  Cottage cheese, dry dates, dried rose petals, ...   \n",
       "253           Mawa Bati  Milk powder, dry fruits, arrowroot powder, all...   \n",
       "254              Pinaca  Brown rice, fennel seeds, grated coconut, blac...   \n",
       "\n",
       "               diet  prep_time  cook_time flavor_profile       course  \\\n",
       "243      vegetarian         10         30          sweet  main course   \n",
       "244      vegetarian         -1         -1             -1  main course   \n",
       "245      vegetarian         10         20             -1  main course   \n",
       "246      vegetarian         -1         -1          sweet      dessert   \n",
       "247  non vegetarian         15         50          spicy  main course   \n",
       "248      vegetarian         -1         -1             -1  main course   \n",
       "249      vegetarian         10         20          spicy  main course   \n",
       "250      vegetarian          5         30          sweet      dessert   \n",
       "251      vegetarian         20         60          sweet      dessert   \n",
       "252      vegetarian         -1         -1          sweet      dessert   \n",
       "253      vegetarian         20         45          sweet      dessert   \n",
       "254      vegetarian         -1         -1          sweet      dessert   \n",
       "\n",
       "               state      region  \n",
       "243      West Bengal        East  \n",
       "244           Odisha        East  \n",
       "245            Assam  North East  \n",
       "246            Assam  North East  \n",
       "247      West Bengal        East  \n",
       "248               -1          -1  \n",
       "249      West Bengal        East  \n",
       "250            Assam  North East  \n",
       "251              Goa        West  \n",
       "252  Jammu & Kashmir       North  \n",
       "253   Madhya Pradesh     Central  \n",
       "254              Goa        West  "
      ]
     },
     "execution_count": 21,
     "metadata": {},
     "output_type": "execute_result"
    }
   ],
   "source": [
    "x.tail(12)"
   ]
  },
  {
   "cell_type": "code",
   "execution_count": 22,
   "id": "4d895af6-76c5-4770-8073-ba5a313df22b",
   "metadata": {},
   "outputs": [
    {
     "data": {
      "text/html": [
       "<div>\n",
       "<style scoped>\n",
       "    .dataframe tbody tr th:only-of-type {\n",
       "        vertical-align: middle;\n",
       "    }\n",
       "\n",
       "    .dataframe tbody tr th {\n",
       "        vertical-align: top;\n",
       "    }\n",
       "\n",
       "    .dataframe thead th {\n",
       "        text-align: right;\n",
       "    }\n",
       "</style>\n",
       "<table border=\"1\" class=\"dataframe\">\n",
       "  <thead>\n",
       "    <tr style=\"text-align: right;\">\n",
       "      <th></th>\n",
       "      <th>name</th>\n",
       "      <th>ingredients</th>\n",
       "      <th>diet</th>\n",
       "      <th>prep_time</th>\n",
       "      <th>cook_time</th>\n",
       "      <th>flavor_profile</th>\n",
       "      <th>course</th>\n",
       "      <th>state</th>\n",
       "      <th>region</th>\n",
       "    </tr>\n",
       "  </thead>\n",
       "  <tbody>\n",
       "    <tr>\n",
       "      <th>0</th>\n",
       "      <td>Balu shahi</td>\n",
       "      <td>Maida flour, yogurt, oil, sugar</td>\n",
       "      <td>vegetarian</td>\n",
       "      <td>45</td>\n",
       "      <td>25</td>\n",
       "      <td>sweet</td>\n",
       "      <td>dessert</td>\n",
       "      <td>West Bengal</td>\n",
       "      <td>East</td>\n",
       "    </tr>\n",
       "    <tr>\n",
       "      <th>1</th>\n",
       "      <td>Boondi</td>\n",
       "      <td>Gram flour, ghee, sugar</td>\n",
       "      <td>vegetarian</td>\n",
       "      <td>80</td>\n",
       "      <td>30</td>\n",
       "      <td>sweet</td>\n",
       "      <td>dessert</td>\n",
       "      <td>Rajasthan</td>\n",
       "      <td>West</td>\n",
       "    </tr>\n",
       "    <tr>\n",
       "      <th>2</th>\n",
       "      <td>Gajar ka halwa</td>\n",
       "      <td>Carrots, milk, sugar, ghee, cashews, raisins</td>\n",
       "      <td>vegetarian</td>\n",
       "      <td>15</td>\n",
       "      <td>60</td>\n",
       "      <td>sweet</td>\n",
       "      <td>dessert</td>\n",
       "      <td>Punjab</td>\n",
       "      <td>North</td>\n",
       "    </tr>\n",
       "    <tr>\n",
       "      <th>3</th>\n",
       "      <td>Ghevar</td>\n",
       "      <td>Flour, ghee, kewra, milk, clarified butter, su...</td>\n",
       "      <td>vegetarian</td>\n",
       "      <td>15</td>\n",
       "      <td>30</td>\n",
       "      <td>sweet</td>\n",
       "      <td>dessert</td>\n",
       "      <td>Rajasthan</td>\n",
       "      <td>West</td>\n",
       "    </tr>\n",
       "    <tr>\n",
       "      <th>4</th>\n",
       "      <td>Gulab jamun</td>\n",
       "      <td>Milk powder, plain flour, baking powder, ghee,...</td>\n",
       "      <td>vegetarian</td>\n",
       "      <td>15</td>\n",
       "      <td>40</td>\n",
       "      <td>sweet</td>\n",
       "      <td>dessert</td>\n",
       "      <td>West Bengal</td>\n",
       "      <td>East</td>\n",
       "    </tr>\n",
       "    <tr>\n",
       "      <th>5</th>\n",
       "      <td>Imarti</td>\n",
       "      <td>Sugar syrup, lentil flour</td>\n",
       "      <td>vegetarian</td>\n",
       "      <td>10</td>\n",
       "      <td>50</td>\n",
       "      <td>sweet</td>\n",
       "      <td>dessert</td>\n",
       "      <td>West Bengal</td>\n",
       "      <td>East</td>\n",
       "    </tr>\n",
       "    <tr>\n",
       "      <th>6</th>\n",
       "      <td>Jalebi</td>\n",
       "      <td>Maida, corn flour, baking soda, vinegar, curd,...</td>\n",
       "      <td>vegetarian</td>\n",
       "      <td>10</td>\n",
       "      <td>50</td>\n",
       "      <td>sweet</td>\n",
       "      <td>dessert</td>\n",
       "      <td>Uttar Pradesh</td>\n",
       "      <td>North</td>\n",
       "    </tr>\n",
       "    <tr>\n",
       "      <th>7</th>\n",
       "      <td>Kaju katli</td>\n",
       "      <td>Cashews, ghee, cardamom, sugar</td>\n",
       "      <td>vegetarian</td>\n",
       "      <td>10</td>\n",
       "      <td>20</td>\n",
       "      <td>sweet</td>\n",
       "      <td>dessert</td>\n",
       "      <td>-1</td>\n",
       "      <td>-1</td>\n",
       "    </tr>\n",
       "    <tr>\n",
       "      <th>8</th>\n",
       "      <td>Kalakand</td>\n",
       "      <td>Milk, cottage cheese, sugar</td>\n",
       "      <td>vegetarian</td>\n",
       "      <td>20</td>\n",
       "      <td>30</td>\n",
       "      <td>sweet</td>\n",
       "      <td>dessert</td>\n",
       "      <td>West Bengal</td>\n",
       "      <td>East</td>\n",
       "    </tr>\n",
       "    <tr>\n",
       "      <th>9</th>\n",
       "      <td>Kheer</td>\n",
       "      <td>Milk, rice, sugar, dried fruits</td>\n",
       "      <td>vegetarian</td>\n",
       "      <td>10</td>\n",
       "      <td>40</td>\n",
       "      <td>sweet</td>\n",
       "      <td>dessert</td>\n",
       "      <td>-1</td>\n",
       "      <td>-1</td>\n",
       "    </tr>\n",
       "    <tr>\n",
       "      <th>10</th>\n",
       "      <td>Laddu</td>\n",
       "      <td>Gram flour, ghee, sugar</td>\n",
       "      <td>vegetarian</td>\n",
       "      <td>10</td>\n",
       "      <td>40</td>\n",
       "      <td>sweet</td>\n",
       "      <td>dessert</td>\n",
       "      <td>-1</td>\n",
       "      <td>-1</td>\n",
       "    </tr>\n",
       "    <tr>\n",
       "      <th>11</th>\n",
       "      <td>Lassi</td>\n",
       "      <td>Yogurt, milk, nuts, sugar</td>\n",
       "      <td>vegetarian</td>\n",
       "      <td>5</td>\n",
       "      <td>5</td>\n",
       "      <td>sweet</td>\n",
       "      <td>dessert</td>\n",
       "      <td>Punjab</td>\n",
       "      <td>North</td>\n",
       "    </tr>\n",
       "    <tr>\n",
       "      <th>12</th>\n",
       "      <td>Nankhatai</td>\n",
       "      <td>Refined flour, besan, ghee, powdered sugar, yo...</td>\n",
       "      <td>vegetarian</td>\n",
       "      <td>20</td>\n",
       "      <td>30</td>\n",
       "      <td>sweet</td>\n",
       "      <td>dessert</td>\n",
       "      <td>-1</td>\n",
       "      <td>-1</td>\n",
       "    </tr>\n",
       "    <tr>\n",
       "      <th>13</th>\n",
       "      <td>Petha</td>\n",
       "      <td>Firm white pumpkin, sugar, kitchen lime, alum ...</td>\n",
       "      <td>vegetarian</td>\n",
       "      <td>10</td>\n",
       "      <td>30</td>\n",
       "      <td>sweet</td>\n",
       "      <td>dessert</td>\n",
       "      <td>Uttar Pradesh</td>\n",
       "      <td>North</td>\n",
       "    </tr>\n",
       "    <tr>\n",
       "      <th>14</th>\n",
       "      <td>Phirni</td>\n",
       "      <td>Rice, sugar, nuts</td>\n",
       "      <td>vegetarian</td>\n",
       "      <td>30</td>\n",
       "      <td>20</td>\n",
       "      <td>sweet</td>\n",
       "      <td>dessert</td>\n",
       "      <td>Odisha</td>\n",
       "      <td>East</td>\n",
       "    </tr>\n",
       "    <tr>\n",
       "      <th>15</th>\n",
       "      <td>Rabri</td>\n",
       "      <td>Condensed milk, sugar, spices, nuts</td>\n",
       "      <td>vegetarian</td>\n",
       "      <td>10</td>\n",
       "      <td>45</td>\n",
       "      <td>sweet</td>\n",
       "      <td>dessert</td>\n",
       "      <td>Uttar Pradesh</td>\n",
       "      <td>North</td>\n",
       "    </tr>\n",
       "    <tr>\n",
       "      <th>16</th>\n",
       "      <td>Sheera</td>\n",
       "      <td>Semolina, ghee, nuts, milk</td>\n",
       "      <td>vegetarian</td>\n",
       "      <td>10</td>\n",
       "      <td>25</td>\n",
       "      <td>sweet</td>\n",
       "      <td>dessert</td>\n",
       "      <td>Maharashtra</td>\n",
       "      <td>West</td>\n",
       "    </tr>\n",
       "    <tr>\n",
       "      <th>17</th>\n",
       "      <td>Singori</td>\n",
       "      <td>Khoa, coconut, molu leaf</td>\n",
       "      <td>vegetarian</td>\n",
       "      <td>10</td>\n",
       "      <td>20</td>\n",
       "      <td>sweet</td>\n",
       "      <td>dessert</td>\n",
       "      <td>Uttarakhand</td>\n",
       "      <td>North</td>\n",
       "    </tr>\n",
       "    <tr>\n",
       "      <th>18</th>\n",
       "      <td>Sohan halwa</td>\n",
       "      <td>Corn flour, ghee, dry fruits</td>\n",
       "      <td>vegetarian</td>\n",
       "      <td>10</td>\n",
       "      <td>60</td>\n",
       "      <td>sweet</td>\n",
       "      <td>dessert</td>\n",
       "      <td>Uttar Pradesh</td>\n",
       "      <td>North</td>\n",
       "    </tr>\n",
       "    <tr>\n",
       "      <th>19</th>\n",
       "      <td>Sohan papdi</td>\n",
       "      <td>Gram flour, ghee, sugar, milk, cardamom</td>\n",
       "      <td>vegetarian</td>\n",
       "      <td>-1</td>\n",
       "      <td>60</td>\n",
       "      <td>sweet</td>\n",
       "      <td>dessert</td>\n",
       "      <td>Maharashtra</td>\n",
       "      <td>West</td>\n",
       "    </tr>\n",
       "  </tbody>\n",
       "</table>\n",
       "</div>"
      ],
      "text/plain": [
       "              name                                        ingredients  \\\n",
       "0       Balu shahi                    Maida flour, yogurt, oil, sugar   \n",
       "1           Boondi                            Gram flour, ghee, sugar   \n",
       "2   Gajar ka halwa       Carrots, milk, sugar, ghee, cashews, raisins   \n",
       "3           Ghevar  Flour, ghee, kewra, milk, clarified butter, su...   \n",
       "4      Gulab jamun  Milk powder, plain flour, baking powder, ghee,...   \n",
       "5           Imarti                          Sugar syrup, lentil flour   \n",
       "6           Jalebi  Maida, corn flour, baking soda, vinegar, curd,...   \n",
       "7       Kaju katli                     Cashews, ghee, cardamom, sugar   \n",
       "8         Kalakand                        Milk, cottage cheese, sugar   \n",
       "9            Kheer                    Milk, rice, sugar, dried fruits   \n",
       "10           Laddu                            Gram flour, ghee, sugar   \n",
       "11           Lassi                          Yogurt, milk, nuts, sugar   \n",
       "12       Nankhatai  Refined flour, besan, ghee, powdered sugar, yo...   \n",
       "13           Petha  Firm white pumpkin, sugar, kitchen lime, alum ...   \n",
       "14          Phirni                                  Rice, sugar, nuts   \n",
       "15           Rabri                Condensed milk, sugar, spices, nuts   \n",
       "16          Sheera                         Semolina, ghee, nuts, milk   \n",
       "17         Singori                           Khoa, coconut, molu leaf   \n",
       "18     Sohan halwa                       Corn flour, ghee, dry fruits   \n",
       "19     Sohan papdi            Gram flour, ghee, sugar, milk, cardamom   \n",
       "\n",
       "          diet  prep_time  cook_time flavor_profile   course          state  \\\n",
       "0   vegetarian         45         25          sweet  dessert    West Bengal   \n",
       "1   vegetarian         80         30          sweet  dessert      Rajasthan   \n",
       "2   vegetarian         15         60          sweet  dessert         Punjab   \n",
       "3   vegetarian         15         30          sweet  dessert      Rajasthan   \n",
       "4   vegetarian         15         40          sweet  dessert    West Bengal   \n",
       "5   vegetarian         10         50          sweet  dessert    West Bengal   \n",
       "6   vegetarian         10         50          sweet  dessert  Uttar Pradesh   \n",
       "7   vegetarian         10         20          sweet  dessert             -1   \n",
       "8   vegetarian         20         30          sweet  dessert    West Bengal   \n",
       "9   vegetarian         10         40          sweet  dessert             -1   \n",
       "10  vegetarian         10         40          sweet  dessert             -1   \n",
       "11  vegetarian          5          5          sweet  dessert         Punjab   \n",
       "12  vegetarian         20         30          sweet  dessert             -1   \n",
       "13  vegetarian         10         30          sweet  dessert  Uttar Pradesh   \n",
       "14  vegetarian         30         20          sweet  dessert         Odisha   \n",
       "15  vegetarian         10         45          sweet  dessert  Uttar Pradesh   \n",
       "16  vegetarian         10         25          sweet  dessert    Maharashtra   \n",
       "17  vegetarian         10         20          sweet  dessert    Uttarakhand   \n",
       "18  vegetarian         10         60          sweet  dessert  Uttar Pradesh   \n",
       "19  vegetarian         -1         60          sweet  dessert    Maharashtra   \n",
       "\n",
       "   region  \n",
       "0    East  \n",
       "1    West  \n",
       "2   North  \n",
       "3    West  \n",
       "4    East  \n",
       "5    East  \n",
       "6   North  \n",
       "7      -1  \n",
       "8    East  \n",
       "9      -1  \n",
       "10     -1  \n",
       "11  North  \n",
       "12     -1  \n",
       "13  North  \n",
       "14   East  \n",
       "15  North  \n",
       "16   West  \n",
       "17  North  \n",
       "18  North  \n",
       "19   West  "
      ]
     },
     "execution_count": 22,
     "metadata": {},
     "output_type": "execute_result"
    }
   ],
   "source": [
    "x.head(20)"
   ]
  },
  {
   "cell_type": "code",
   "execution_count": 23,
   "id": "7de37fa8-88cb-4cf9-8dfd-86472f822d08",
   "metadata": {},
   "outputs": [
    {
     "data": {
      "text/html": [
       "<div>\n",
       "<style scoped>\n",
       "    .dataframe tbody tr th:only-of-type {\n",
       "        vertical-align: middle;\n",
       "    }\n",
       "\n",
       "    .dataframe tbody tr th {\n",
       "        vertical-align: top;\n",
       "    }\n",
       "\n",
       "    .dataframe thead th {\n",
       "        text-align: right;\n",
       "    }\n",
       "</style>\n",
       "<table border=\"1\" class=\"dataframe\">\n",
       "  <thead>\n",
       "    <tr style=\"text-align: right;\">\n",
       "      <th></th>\n",
       "      <th>name</th>\n",
       "      <th>ingredients</th>\n",
       "      <th>diet</th>\n",
       "      <th>prep_time</th>\n",
       "      <th>cook_time</th>\n",
       "      <th>flavor_profile</th>\n",
       "      <th>course</th>\n",
       "      <th>state</th>\n",
       "      <th>region</th>\n",
       "    </tr>\n",
       "  </thead>\n",
       "  <tbody>\n",
       "    <tr>\n",
       "      <th>0</th>\n",
       "      <td>Balu shahi</td>\n",
       "      <td>Maida flour, yogurt, oil, sugar</td>\n",
       "      <td>vegetarian</td>\n",
       "      <td>45</td>\n",
       "      <td>25</td>\n",
       "      <td>sweet</td>\n",
       "      <td>dessert</td>\n",
       "      <td>West Bengal</td>\n",
       "      <td>East</td>\n",
       "    </tr>\n",
       "    <tr>\n",
       "      <th>1</th>\n",
       "      <td>Boondi</td>\n",
       "      <td>Gram flour, ghee, sugar</td>\n",
       "      <td>vegetarian</td>\n",
       "      <td>80</td>\n",
       "      <td>30</td>\n",
       "      <td>sweet</td>\n",
       "      <td>dessert</td>\n",
       "      <td>Rajasthan</td>\n",
       "      <td>West</td>\n",
       "    </tr>\n",
       "    <tr>\n",
       "      <th>2</th>\n",
       "      <td>Gajar ka halwa</td>\n",
       "      <td>Carrots, milk, sugar, ghee, cashews, raisins</td>\n",
       "      <td>vegetarian</td>\n",
       "      <td>15</td>\n",
       "      <td>60</td>\n",
       "      <td>sweet</td>\n",
       "      <td>dessert</td>\n",
       "      <td>Punjab</td>\n",
       "      <td>North</td>\n",
       "    </tr>\n",
       "    <tr>\n",
       "      <th>3</th>\n",
       "      <td>Ghevar</td>\n",
       "      <td>Flour, ghee, kewra, milk, clarified butter, su...</td>\n",
       "      <td>vegetarian</td>\n",
       "      <td>15</td>\n",
       "      <td>30</td>\n",
       "      <td>sweet</td>\n",
       "      <td>dessert</td>\n",
       "      <td>Rajasthan</td>\n",
       "      <td>West</td>\n",
       "    </tr>\n",
       "    <tr>\n",
       "      <th>4</th>\n",
       "      <td>Gulab jamun</td>\n",
       "      <td>Milk powder, plain flour, baking powder, ghee,...</td>\n",
       "      <td>vegetarian</td>\n",
       "      <td>15</td>\n",
       "      <td>40</td>\n",
       "      <td>sweet</td>\n",
       "      <td>dessert</td>\n",
       "      <td>West Bengal</td>\n",
       "      <td>East</td>\n",
       "    </tr>\n",
       "    <tr>\n",
       "      <th>5</th>\n",
       "      <td>Imarti</td>\n",
       "      <td>Sugar syrup, lentil flour</td>\n",
       "      <td>vegetarian</td>\n",
       "      <td>10</td>\n",
       "      <td>50</td>\n",
       "      <td>sweet</td>\n",
       "      <td>dessert</td>\n",
       "      <td>West Bengal</td>\n",
       "      <td>East</td>\n",
       "    </tr>\n",
       "    <tr>\n",
       "      <th>6</th>\n",
       "      <td>Jalebi</td>\n",
       "      <td>Maida, corn flour, baking soda, vinegar, curd,...</td>\n",
       "      <td>vegetarian</td>\n",
       "      <td>10</td>\n",
       "      <td>50</td>\n",
       "      <td>sweet</td>\n",
       "      <td>dessert</td>\n",
       "      <td>Uttar Pradesh</td>\n",
       "      <td>North</td>\n",
       "    </tr>\n",
       "    <tr>\n",
       "      <th>7</th>\n",
       "      <td>Kaju katli</td>\n",
       "      <td>Cashews, ghee, cardamom, sugar</td>\n",
       "      <td>vegetarian</td>\n",
       "      <td>10</td>\n",
       "      <td>20</td>\n",
       "      <td>sweet</td>\n",
       "      <td>dessert</td>\n",
       "      <td>-1</td>\n",
       "      <td>-1</td>\n",
       "    </tr>\n",
       "    <tr>\n",
       "      <th>8</th>\n",
       "      <td>Kalakand</td>\n",
       "      <td>Milk, cottage cheese, sugar</td>\n",
       "      <td>vegetarian</td>\n",
       "      <td>20</td>\n",
       "      <td>30</td>\n",
       "      <td>sweet</td>\n",
       "      <td>dessert</td>\n",
       "      <td>West Bengal</td>\n",
       "      <td>East</td>\n",
       "    </tr>\n",
       "    <tr>\n",
       "      <th>9</th>\n",
       "      <td>Kheer</td>\n",
       "      <td>Milk, rice, sugar, dried fruits</td>\n",
       "      <td>vegetarian</td>\n",
       "      <td>10</td>\n",
       "      <td>40</td>\n",
       "      <td>sweet</td>\n",
       "      <td>dessert</td>\n",
       "      <td>-1</td>\n",
       "      <td>-1</td>\n",
       "    </tr>\n",
       "    <tr>\n",
       "      <th>10</th>\n",
       "      <td>Laddu</td>\n",
       "      <td>Gram flour, ghee, sugar</td>\n",
       "      <td>vegetarian</td>\n",
       "      <td>10</td>\n",
       "      <td>40</td>\n",
       "      <td>sweet</td>\n",
       "      <td>dessert</td>\n",
       "      <td>-1</td>\n",
       "      <td>-1</td>\n",
       "    </tr>\n",
       "    <tr>\n",
       "      <th>11</th>\n",
       "      <td>Lassi</td>\n",
       "      <td>Yogurt, milk, nuts, sugar</td>\n",
       "      <td>vegetarian</td>\n",
       "      <td>5</td>\n",
       "      <td>5</td>\n",
       "      <td>sweet</td>\n",
       "      <td>dessert</td>\n",
       "      <td>Punjab</td>\n",
       "      <td>North</td>\n",
       "    </tr>\n",
       "    <tr>\n",
       "      <th>12</th>\n",
       "      <td>Nankhatai</td>\n",
       "      <td>Refined flour, besan, ghee, powdered sugar, yo...</td>\n",
       "      <td>vegetarian</td>\n",
       "      <td>20</td>\n",
       "      <td>30</td>\n",
       "      <td>sweet</td>\n",
       "      <td>dessert</td>\n",
       "      <td>-1</td>\n",
       "      <td>-1</td>\n",
       "    </tr>\n",
       "    <tr>\n",
       "      <th>13</th>\n",
       "      <td>Petha</td>\n",
       "      <td>Firm white pumpkin, sugar, kitchen lime, alum ...</td>\n",
       "      <td>vegetarian</td>\n",
       "      <td>10</td>\n",
       "      <td>30</td>\n",
       "      <td>sweet</td>\n",
       "      <td>dessert</td>\n",
       "      <td>Uttar Pradesh</td>\n",
       "      <td>North</td>\n",
       "    </tr>\n",
       "    <tr>\n",
       "      <th>14</th>\n",
       "      <td>Phirni</td>\n",
       "      <td>Rice, sugar, nuts</td>\n",
       "      <td>vegetarian</td>\n",
       "      <td>30</td>\n",
       "      <td>20</td>\n",
       "      <td>sweet</td>\n",
       "      <td>dessert</td>\n",
       "      <td>Odisha</td>\n",
       "      <td>East</td>\n",
       "    </tr>\n",
       "    <tr>\n",
       "      <th>15</th>\n",
       "      <td>Rabri</td>\n",
       "      <td>Condensed milk, sugar, spices, nuts</td>\n",
       "      <td>vegetarian</td>\n",
       "      <td>10</td>\n",
       "      <td>45</td>\n",
       "      <td>sweet</td>\n",
       "      <td>dessert</td>\n",
       "      <td>Uttar Pradesh</td>\n",
       "      <td>North</td>\n",
       "    </tr>\n",
       "    <tr>\n",
       "      <th>16</th>\n",
       "      <td>Sheera</td>\n",
       "      <td>Semolina, ghee, nuts, milk</td>\n",
       "      <td>vegetarian</td>\n",
       "      <td>10</td>\n",
       "      <td>25</td>\n",
       "      <td>sweet</td>\n",
       "      <td>dessert</td>\n",
       "      <td>Maharashtra</td>\n",
       "      <td>West</td>\n",
       "    </tr>\n",
       "    <tr>\n",
       "      <th>17</th>\n",
       "      <td>Singori</td>\n",
       "      <td>Khoa, coconut, molu leaf</td>\n",
       "      <td>vegetarian</td>\n",
       "      <td>10</td>\n",
       "      <td>20</td>\n",
       "      <td>sweet</td>\n",
       "      <td>dessert</td>\n",
       "      <td>Uttarakhand</td>\n",
       "      <td>North</td>\n",
       "    </tr>\n",
       "    <tr>\n",
       "      <th>18</th>\n",
       "      <td>Sohan halwa</td>\n",
       "      <td>Corn flour, ghee, dry fruits</td>\n",
       "      <td>vegetarian</td>\n",
       "      <td>10</td>\n",
       "      <td>60</td>\n",
       "      <td>sweet</td>\n",
       "      <td>dessert</td>\n",
       "      <td>Uttar Pradesh</td>\n",
       "      <td>North</td>\n",
       "    </tr>\n",
       "    <tr>\n",
       "      <th>19</th>\n",
       "      <td>Sohan papdi</td>\n",
       "      <td>Gram flour, ghee, sugar, milk, cardamom</td>\n",
       "      <td>vegetarian</td>\n",
       "      <td>-1</td>\n",
       "      <td>60</td>\n",
       "      <td>sweet</td>\n",
       "      <td>dessert</td>\n",
       "      <td>Maharashtra</td>\n",
       "      <td>West</td>\n",
       "    </tr>\n",
       "    <tr>\n",
       "      <th>20</th>\n",
       "      <td>Chhena jalebi</td>\n",
       "      <td>Chhena, sugar, ghee</td>\n",
       "      <td>vegetarian</td>\n",
       "      <td>10</td>\n",
       "      <td>50</td>\n",
       "      <td>sweet</td>\n",
       "      <td>dessert</td>\n",
       "      <td>Odisha</td>\n",
       "      <td>East</td>\n",
       "    </tr>\n",
       "    <tr>\n",
       "      <th>21</th>\n",
       "      <td>Chhena kheeri</td>\n",
       "      <td>Chhena, sugar, milk</td>\n",
       "      <td>vegetarian</td>\n",
       "      <td>-1</td>\n",
       "      <td>60</td>\n",
       "      <td>sweet</td>\n",
       "      <td>dessert</td>\n",
       "      <td>Odisha</td>\n",
       "      <td>East</td>\n",
       "    </tr>\n",
       "    <tr>\n",
       "      <th>22</th>\n",
       "      <td>Chhena poda</td>\n",
       "      <td>Sugar, chenna cheese</td>\n",
       "      <td>vegetarian</td>\n",
       "      <td>10</td>\n",
       "      <td>45</td>\n",
       "      <td>sweet</td>\n",
       "      <td>dessert</td>\n",
       "      <td>Odisha</td>\n",
       "      <td>East</td>\n",
       "    </tr>\n",
       "    <tr>\n",
       "      <th>23</th>\n",
       "      <td>Cham cham</td>\n",
       "      <td>Flour, cream, sugar, saffron, lemon juice, coc...</td>\n",
       "      <td>vegetarian</td>\n",
       "      <td>40</td>\n",
       "      <td>60</td>\n",
       "      <td>sweet</td>\n",
       "      <td>dessert</td>\n",
       "      <td>West Bengal</td>\n",
       "      <td>East</td>\n",
       "    </tr>\n",
       "    <tr>\n",
       "      <th>24</th>\n",
       "      <td>Kheer sagar</td>\n",
       "      <td>Chenna, condensed milk, sugar, saffron, cardamom</td>\n",
       "      <td>vegetarian</td>\n",
       "      <td>25</td>\n",
       "      <td>60</td>\n",
       "      <td>sweet</td>\n",
       "      <td>dessert</td>\n",
       "      <td>Odisha</td>\n",
       "      <td>East</td>\n",
       "    </tr>\n",
       "    <tr>\n",
       "      <th>25</th>\n",
       "      <td>Ledikeni</td>\n",
       "      <td>Chhena, sugar, ghee</td>\n",
       "      <td>vegetarian</td>\n",
       "      <td>45</td>\n",
       "      <td>45</td>\n",
       "      <td>sweet</td>\n",
       "      <td>dessert</td>\n",
       "      <td>West Bengal</td>\n",
       "      <td>East</td>\n",
       "    </tr>\n",
       "    <tr>\n",
       "      <th>26</th>\n",
       "      <td>Lyangcha</td>\n",
       "      <td>Flour, fried milk power, sugar syrup</td>\n",
       "      <td>vegetarian</td>\n",
       "      <td>20</td>\n",
       "      <td>30</td>\n",
       "      <td>sweet</td>\n",
       "      <td>dessert</td>\n",
       "      <td>Assam</td>\n",
       "      <td>North East</td>\n",
       "    </tr>\n",
       "    <tr>\n",
       "      <th>27</th>\n",
       "      <td>Malapua</td>\n",
       "      <td>Yoghurt, refined flour, ghee, fennel seeds</td>\n",
       "      <td>vegetarian</td>\n",
       "      <td>10</td>\n",
       "      <td>120</td>\n",
       "      <td>sweet</td>\n",
       "      <td>dessert</td>\n",
       "      <td>Bihar</td>\n",
       "      <td>North</td>\n",
       "    </tr>\n",
       "    <tr>\n",
       "      <th>28</th>\n",
       "      <td>Mihidana</td>\n",
       "      <td>Besan flour, sugar, ghee</td>\n",
       "      <td>vegetarian</td>\n",
       "      <td>15</td>\n",
       "      <td>30</td>\n",
       "      <td>sweet</td>\n",
       "      <td>dessert</td>\n",
       "      <td>West Bengal</td>\n",
       "      <td>East</td>\n",
       "    </tr>\n",
       "    <tr>\n",
       "      <th>29</th>\n",
       "      <td>Misti doi</td>\n",
       "      <td>Milk, jaggery</td>\n",
       "      <td>vegetarian</td>\n",
       "      <td>480</td>\n",
       "      <td>30</td>\n",
       "      <td>sweet</td>\n",
       "      <td>dessert</td>\n",
       "      <td>West Bengal</td>\n",
       "      <td>East</td>\n",
       "    </tr>\n",
       "    <tr>\n",
       "      <th>30</th>\n",
       "      <td>Pantua</td>\n",
       "      <td>Chhena, sugar, ghee, flour</td>\n",
       "      <td>vegetarian</td>\n",
       "      <td>45</td>\n",
       "      <td>45</td>\n",
       "      <td>sweet</td>\n",
       "      <td>dessert</td>\n",
       "      <td>West Bengal</td>\n",
       "      <td>East</td>\n",
       "    </tr>\n",
       "    <tr>\n",
       "      <th>31</th>\n",
       "      <td>Pithe</td>\n",
       "      <td>Rice flour, wheat flour</td>\n",
       "      <td>vegetarian</td>\n",
       "      <td>15</td>\n",
       "      <td>35</td>\n",
       "      <td>sweet</td>\n",
       "      <td>dessert</td>\n",
       "      <td>Assam</td>\n",
       "      <td>North East</td>\n",
       "    </tr>\n",
       "    <tr>\n",
       "      <th>32</th>\n",
       "      <td>Rasabali</td>\n",
       "      <td>Chenna, sweetened milk</td>\n",
       "      <td>vegetarian</td>\n",
       "      <td>15</td>\n",
       "      <td>30</td>\n",
       "      <td>sweet</td>\n",
       "      <td>dessert</td>\n",
       "      <td>Odisha</td>\n",
       "      <td>East</td>\n",
       "    </tr>\n",
       "    <tr>\n",
       "      <th>33</th>\n",
       "      <td>Ras malai</td>\n",
       "      <td>Chhena, reduced milk, pistachio</td>\n",
       "      <td>vegetarian</td>\n",
       "      <td>180</td>\n",
       "      <td>60</td>\n",
       "      <td>sweet</td>\n",
       "      <td>dessert</td>\n",
       "      <td>West Bengal</td>\n",
       "      <td>East</td>\n",
       "    </tr>\n",
       "    <tr>\n",
       "      <th>34</th>\n",
       "      <td>Rasgulla</td>\n",
       "      <td>Chhena, sugar, cardamom</td>\n",
       "      <td>vegetarian</td>\n",
       "      <td>10</td>\n",
       "      <td>90</td>\n",
       "      <td>sweet</td>\n",
       "      <td>dessert</td>\n",
       "      <td>West Bengal</td>\n",
       "      <td>East</td>\n",
       "    </tr>\n",
       "    <tr>\n",
       "      <th>35</th>\n",
       "      <td>Sandesh</td>\n",
       "      <td>Milk, sugar, saffron, cardamom</td>\n",
       "      <td>vegetarian</td>\n",
       "      <td>30</td>\n",
       "      <td>20</td>\n",
       "      <td>sweet</td>\n",
       "      <td>dessert</td>\n",
       "      <td>West Bengal</td>\n",
       "      <td>East</td>\n",
       "    </tr>\n",
       "    <tr>\n",
       "      <th>36</th>\n",
       "      <td>Adhirasam</td>\n",
       "      <td>Rice flour, jaggery, ghee, vegetable oil, elachi</td>\n",
       "      <td>vegetarian</td>\n",
       "      <td>10</td>\n",
       "      <td>50</td>\n",
       "      <td>sweet</td>\n",
       "      <td>dessert</td>\n",
       "      <td>West Bengal</td>\n",
       "      <td>East</td>\n",
       "    </tr>\n",
       "    <tr>\n",
       "      <th>37</th>\n",
       "      <td>Ariselu</td>\n",
       "      <td>Rice flour, jaggery, ghee</td>\n",
       "      <td>vegetarian</td>\n",
       "      <td>15</td>\n",
       "      <td>75</td>\n",
       "      <td>sweet</td>\n",
       "      <td>dessert</td>\n",
       "      <td>Andhra Pradesh</td>\n",
       "      <td>South</td>\n",
       "    </tr>\n",
       "    <tr>\n",
       "      <th>38</th>\n",
       "      <td>Bandar laddu</td>\n",
       "      <td>Besan, jaggery, cardamom powder, ghee, cashews...</td>\n",
       "      <td>vegetarian</td>\n",
       "      <td>5</td>\n",
       "      <td>35</td>\n",
       "      <td>sweet</td>\n",
       "      <td>dessert</td>\n",
       "      <td>Andhra Pradesh</td>\n",
       "      <td>South</td>\n",
       "    </tr>\n",
       "    <tr>\n",
       "      <th>39</th>\n",
       "      <td>Chikki</td>\n",
       "      <td>Peanuts, jaggery</td>\n",
       "      <td>vegetarian</td>\n",
       "      <td>10</td>\n",
       "      <td>20</td>\n",
       "      <td>sweet</td>\n",
       "      <td>dessert</td>\n",
       "      <td>Maharashtra</td>\n",
       "      <td>West</td>\n",
       "    </tr>\n",
       "    <tr>\n",
       "      <th>40</th>\n",
       "      <td>Dharwad pedha</td>\n",
       "      <td>Milk, Sugar, Dharwadi buffalo milk</td>\n",
       "      <td>vegetarian</td>\n",
       "      <td>20</td>\n",
       "      <td>60</td>\n",
       "      <td>sweet</td>\n",
       "      <td>dessert</td>\n",
       "      <td>Karnataka</td>\n",
       "      <td>South</td>\n",
       "    </tr>\n",
       "    <tr>\n",
       "      <th>41</th>\n",
       "      <td>Double ka meetha</td>\n",
       "      <td>Loaf bread, milk</td>\n",
       "      <td>vegetarian</td>\n",
       "      <td>20</td>\n",
       "      <td>30</td>\n",
       "      <td>sweet</td>\n",
       "      <td>dessert</td>\n",
       "      <td>Telangana</td>\n",
       "      <td>South</td>\n",
       "    </tr>\n",
       "    <tr>\n",
       "      <th>42</th>\n",
       "      <td>Gavvalu</td>\n",
       "      <td>Rice flour, sugar, salt, ghee, semolina</td>\n",
       "      <td>vegetarian</td>\n",
       "      <td>10</td>\n",
       "      <td>30</td>\n",
       "      <td>sweet</td>\n",
       "      <td>dessert</td>\n",
       "      <td>Andhra Pradesh</td>\n",
       "      <td>South</td>\n",
       "    </tr>\n",
       "    <tr>\n",
       "      <th>43</th>\n",
       "      <td>Kakinada khaja</td>\n",
       "      <td>Wheat flour, sugar</td>\n",
       "      <td>vegetarian</td>\n",
       "      <td>10</td>\n",
       "      <td>30</td>\n",
       "      <td>sweet</td>\n",
       "      <td>dessert</td>\n",
       "      <td>Andhra Pradesh</td>\n",
       "      <td>South</td>\n",
       "    </tr>\n",
       "    <tr>\n",
       "      <th>44</th>\n",
       "      <td>Kuzhi paniyaram</td>\n",
       "      <td>Black lentils, rice</td>\n",
       "      <td>vegetarian</td>\n",
       "      <td>10</td>\n",
       "      <td>20</td>\n",
       "      <td>sweet</td>\n",
       "      <td>dessert</td>\n",
       "      <td>Kerala</td>\n",
       "      <td>South</td>\n",
       "    </tr>\n",
       "    <tr>\n",
       "      <th>45</th>\n",
       "      <td>Mysore pak</td>\n",
       "      <td>Besan flour, semolina, mung bean, jaggery, coc...</td>\n",
       "      <td>vegetarian</td>\n",
       "      <td>5</td>\n",
       "      <td>20</td>\n",
       "      <td>sweet</td>\n",
       "      <td>dessert</td>\n",
       "      <td>Karnataka</td>\n",
       "      <td>South</td>\n",
       "    </tr>\n",
       "    <tr>\n",
       "      <th>46</th>\n",
       "      <td>Obbattu holige</td>\n",
       "      <td>Maida flour, turmeric, coconut, chickpeas, jag...</td>\n",
       "      <td>vegetarian</td>\n",
       "      <td>180</td>\n",
       "      <td>60</td>\n",
       "      <td>sweet</td>\n",
       "      <td>main course</td>\n",
       "      <td>Karnataka</td>\n",
       "      <td>South</td>\n",
       "    </tr>\n",
       "    <tr>\n",
       "      <th>47</th>\n",
       "      <td>Palathalikalu</td>\n",
       "      <td>Rice flour, milk</td>\n",
       "      <td>vegetarian</td>\n",
       "      <td>10</td>\n",
       "      <td>25</td>\n",
       "      <td>sweet</td>\n",
       "      <td>dessert</td>\n",
       "      <td>Andhra Pradesh</td>\n",
       "      <td>South</td>\n",
       "    </tr>\n",
       "    <tr>\n",
       "      <th>48</th>\n",
       "      <td>Poornalu</td>\n",
       "      <td>Chana dal, jaggery</td>\n",
       "      <td>vegetarian</td>\n",
       "      <td>240</td>\n",
       "      <td>60</td>\n",
       "      <td>sweet</td>\n",
       "      <td>dessert</td>\n",
       "      <td>Andhra Pradesh</td>\n",
       "      <td>South</td>\n",
       "    </tr>\n",
       "    <tr>\n",
       "      <th>49</th>\n",
       "      <td>Pongal</td>\n",
       "      <td>Rice, jaggery, cashews, ghee</td>\n",
       "      <td>vegetarian</td>\n",
       "      <td>5</td>\n",
       "      <td>20</td>\n",
       "      <td>sweet</td>\n",
       "      <td>dessert</td>\n",
       "      <td>Tamil Nadu</td>\n",
       "      <td>South</td>\n",
       "    </tr>\n",
       "  </tbody>\n",
       "</table>\n",
       "</div>"
      ],
      "text/plain": [
       "                name                                        ingredients  \\\n",
       "0         Balu shahi                    Maida flour, yogurt, oil, sugar   \n",
       "1             Boondi                            Gram flour, ghee, sugar   \n",
       "2     Gajar ka halwa       Carrots, milk, sugar, ghee, cashews, raisins   \n",
       "3             Ghevar  Flour, ghee, kewra, milk, clarified butter, su...   \n",
       "4        Gulab jamun  Milk powder, plain flour, baking powder, ghee,...   \n",
       "5             Imarti                          Sugar syrup, lentil flour   \n",
       "6             Jalebi  Maida, corn flour, baking soda, vinegar, curd,...   \n",
       "7         Kaju katli                     Cashews, ghee, cardamom, sugar   \n",
       "8           Kalakand                        Milk, cottage cheese, sugar   \n",
       "9              Kheer                    Milk, rice, sugar, dried fruits   \n",
       "10             Laddu                            Gram flour, ghee, sugar   \n",
       "11             Lassi                          Yogurt, milk, nuts, sugar   \n",
       "12         Nankhatai  Refined flour, besan, ghee, powdered sugar, yo...   \n",
       "13             Petha  Firm white pumpkin, sugar, kitchen lime, alum ...   \n",
       "14            Phirni                                  Rice, sugar, nuts   \n",
       "15             Rabri                Condensed milk, sugar, spices, nuts   \n",
       "16            Sheera                         Semolina, ghee, nuts, milk   \n",
       "17           Singori                           Khoa, coconut, molu leaf   \n",
       "18       Sohan halwa                       Corn flour, ghee, dry fruits   \n",
       "19       Sohan papdi            Gram flour, ghee, sugar, milk, cardamom   \n",
       "20     Chhena jalebi                                Chhena, sugar, ghee   \n",
       "21     Chhena kheeri                                Chhena, sugar, milk   \n",
       "22       Chhena poda                               Sugar, chenna cheese   \n",
       "23         Cham cham  Flour, cream, sugar, saffron, lemon juice, coc...   \n",
       "24       Kheer sagar   Chenna, condensed milk, sugar, saffron, cardamom   \n",
       "25          Ledikeni                                Chhena, sugar, ghee   \n",
       "26          Lyangcha               Flour, fried milk power, sugar syrup   \n",
       "27           Malapua         Yoghurt, refined flour, ghee, fennel seeds   \n",
       "28          Mihidana                           Besan flour, sugar, ghee   \n",
       "29         Misti doi                                      Milk, jaggery   \n",
       "30            Pantua                         Chhena, sugar, ghee, flour   \n",
       "31             Pithe                            Rice flour, wheat flour   \n",
       "32          Rasabali                             Chenna, sweetened milk   \n",
       "33         Ras malai                    Chhena, reduced milk, pistachio   \n",
       "34          Rasgulla                            Chhena, sugar, cardamom   \n",
       "35           Sandesh                     Milk, sugar, saffron, cardamom   \n",
       "36         Adhirasam   Rice flour, jaggery, ghee, vegetable oil, elachi   \n",
       "37           Ariselu                          Rice flour, jaggery, ghee   \n",
       "38      Bandar laddu  Besan, jaggery, cardamom powder, ghee, cashews...   \n",
       "39            Chikki                                   Peanuts, jaggery   \n",
       "40     Dharwad pedha                 Milk, Sugar, Dharwadi buffalo milk   \n",
       "41  Double ka meetha                                   Loaf bread, milk   \n",
       "42           Gavvalu            Rice flour, sugar, salt, ghee, semolina   \n",
       "43    Kakinada khaja                                 Wheat flour, sugar   \n",
       "44   Kuzhi paniyaram                                Black lentils, rice   \n",
       "45        Mysore pak  Besan flour, semolina, mung bean, jaggery, coc...   \n",
       "46    Obbattu holige  Maida flour, turmeric, coconut, chickpeas, jag...   \n",
       "47     Palathalikalu                                   Rice flour, milk   \n",
       "48          Poornalu                                 Chana dal, jaggery   \n",
       "49            Pongal                       Rice, jaggery, cashews, ghee   \n",
       "\n",
       "          diet  prep_time  cook_time flavor_profile       course  \\\n",
       "0   vegetarian         45         25          sweet      dessert   \n",
       "1   vegetarian         80         30          sweet      dessert   \n",
       "2   vegetarian         15         60          sweet      dessert   \n",
       "3   vegetarian         15         30          sweet      dessert   \n",
       "4   vegetarian         15         40          sweet      dessert   \n",
       "5   vegetarian         10         50          sweet      dessert   \n",
       "6   vegetarian         10         50          sweet      dessert   \n",
       "7   vegetarian         10         20          sweet      dessert   \n",
       "8   vegetarian         20         30          sweet      dessert   \n",
       "9   vegetarian         10         40          sweet      dessert   \n",
       "10  vegetarian         10         40          sweet      dessert   \n",
       "11  vegetarian          5          5          sweet      dessert   \n",
       "12  vegetarian         20         30          sweet      dessert   \n",
       "13  vegetarian         10         30          sweet      dessert   \n",
       "14  vegetarian         30         20          sweet      dessert   \n",
       "15  vegetarian         10         45          sweet      dessert   \n",
       "16  vegetarian         10         25          sweet      dessert   \n",
       "17  vegetarian         10         20          sweet      dessert   \n",
       "18  vegetarian         10         60          sweet      dessert   \n",
       "19  vegetarian         -1         60          sweet      dessert   \n",
       "20  vegetarian         10         50          sweet      dessert   \n",
       "21  vegetarian         -1         60          sweet      dessert   \n",
       "22  vegetarian         10         45          sweet      dessert   \n",
       "23  vegetarian         40         60          sweet      dessert   \n",
       "24  vegetarian         25         60          sweet      dessert   \n",
       "25  vegetarian         45         45          sweet      dessert   \n",
       "26  vegetarian         20         30          sweet      dessert   \n",
       "27  vegetarian         10        120          sweet      dessert   \n",
       "28  vegetarian         15         30          sweet      dessert   \n",
       "29  vegetarian        480         30          sweet      dessert   \n",
       "30  vegetarian         45         45          sweet      dessert   \n",
       "31  vegetarian         15         35          sweet      dessert   \n",
       "32  vegetarian         15         30          sweet      dessert   \n",
       "33  vegetarian        180         60          sweet      dessert   \n",
       "34  vegetarian         10         90          sweet      dessert   \n",
       "35  vegetarian         30         20          sweet      dessert   \n",
       "36  vegetarian         10         50          sweet      dessert   \n",
       "37  vegetarian         15         75          sweet      dessert   \n",
       "38  vegetarian          5         35          sweet      dessert   \n",
       "39  vegetarian         10         20          sweet      dessert   \n",
       "40  vegetarian         20         60          sweet      dessert   \n",
       "41  vegetarian         20         30          sweet      dessert   \n",
       "42  vegetarian         10         30          sweet      dessert   \n",
       "43  vegetarian         10         30          sweet      dessert   \n",
       "44  vegetarian         10         20          sweet      dessert   \n",
       "45  vegetarian          5         20          sweet      dessert   \n",
       "46  vegetarian        180         60          sweet  main course   \n",
       "47  vegetarian         10         25          sweet      dessert   \n",
       "48  vegetarian        240         60          sweet      dessert   \n",
       "49  vegetarian          5         20          sweet      dessert   \n",
       "\n",
       "             state      region  \n",
       "0      West Bengal        East  \n",
       "1        Rajasthan        West  \n",
       "2           Punjab       North  \n",
       "3        Rajasthan        West  \n",
       "4      West Bengal        East  \n",
       "5      West Bengal        East  \n",
       "6    Uttar Pradesh       North  \n",
       "7               -1          -1  \n",
       "8      West Bengal        East  \n",
       "9               -1          -1  \n",
       "10              -1          -1  \n",
       "11          Punjab       North  \n",
       "12              -1          -1  \n",
       "13   Uttar Pradesh       North  \n",
       "14          Odisha        East  \n",
       "15   Uttar Pradesh       North  \n",
       "16     Maharashtra        West  \n",
       "17     Uttarakhand       North  \n",
       "18   Uttar Pradesh       North  \n",
       "19     Maharashtra        West  \n",
       "20          Odisha        East  \n",
       "21          Odisha        East  \n",
       "22          Odisha        East  \n",
       "23     West Bengal        East  \n",
       "24          Odisha        East  \n",
       "25     West Bengal        East  \n",
       "26           Assam  North East  \n",
       "27           Bihar       North  \n",
       "28     West Bengal        East  \n",
       "29     West Bengal        East  \n",
       "30     West Bengal        East  \n",
       "31           Assam  North East  \n",
       "32          Odisha        East  \n",
       "33     West Bengal        East  \n",
       "34     West Bengal        East  \n",
       "35     West Bengal        East  \n",
       "36     West Bengal        East  \n",
       "37  Andhra Pradesh       South  \n",
       "38  Andhra Pradesh       South  \n",
       "39     Maharashtra        West  \n",
       "40       Karnataka       South  \n",
       "41       Telangana       South  \n",
       "42  Andhra Pradesh       South  \n",
       "43  Andhra Pradesh       South  \n",
       "44          Kerala       South  \n",
       "45       Karnataka       South  \n",
       "46       Karnataka       South  \n",
       "47  Andhra Pradesh       South  \n",
       "48  Andhra Pradesh       South  \n",
       "49      Tamil Nadu       South  "
      ]
     },
     "execution_count": 23,
     "metadata": {},
     "output_type": "execute_result"
    }
   ],
   "source": [
    "x.head(50)"
   ]
  },
  {
   "cell_type": "code",
   "execution_count": 24,
   "id": "79ca8d1d-3a4e-4ed1-9c2f-a88979a876a4",
   "metadata": {},
   "outputs": [],
   "source": [
    "# wap to take input from user in string and cound the total using lambda."
   ]
  },
  {
   "cell_type": "code",
   "execution_count": 25,
   "id": "591038b6-46ad-44e2-bb04-be2c200e08d9",
   "metadata": {},
   "outputs": [],
   "source": [
    "# using lambda function for sorting \n",
    "\n",
    "mylist=[('apple',50),('Banana',10),('cherry',30)]\n",
    "\n",
    "# sorting the list with words and numeric value."
   ]
  },
  {
   "cell_type": "code",
   "execution_count": 30,
   "id": "55b6ca10-51d9-4c05-bb07-b9c76f7d9b84",
   "metadata": {},
   "outputs": [
    {
     "name": "stdin",
     "output_type": "stream",
     "text": [
      "Enter your text: This is cat\n"
     ]
    },
    {
     "name": "stdout",
     "output_type": "stream",
     "text": [
      "This is cat\n",
      "11\n"
     ]
    }
   ],
   "source": [
    "y=input('Enter your text:')\n",
    "\n",
    "x1=(lambda x:print(x))(y)\n",
    "x1\n",
    "print(len(y))"
   ]
  },
  {
   "cell_type": "code",
   "execution_count": null,
   "id": "20817d34-a177-4326-ae85-17a040d59a87",
   "metadata": {},
   "outputs": [],
   "source": []
  }
 ],
 "metadata": {
  "kernelspec": {
   "display_name": "Python 3 (ipykernel)",
   "language": "python",
   "name": "python3"
  },
  "language_info": {
   "codemirror_mode": {
    "name": "ipython",
    "version": 3
   },
   "file_extension": ".py",
   "mimetype": "text/x-python",
   "name": "python",
   "nbconvert_exporter": "python",
   "pygments_lexer": "ipython3",
   "version": "3.12.2"
  }
 },
 "nbformat": 4,
 "nbformat_minor": 5
}
