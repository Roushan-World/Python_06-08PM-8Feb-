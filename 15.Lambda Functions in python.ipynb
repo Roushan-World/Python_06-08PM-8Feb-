{
 "cells": [
  {
   "cell_type": "markdown",
   "id": "24c2711b-8fe4-465d-a802-2e232e805c46",
   "metadata": {},
   "source": [
    "# 15. Lambda Functions in Python\n",
    "\n",
    " * __A Lambda function is a small anonymous funcitons.__\n",
    " * __A Lambda function can take any number of arguments, but can only have one expression.__\n",
    " * __The expression is eveluated and returned.__\n",
    " * __Lambda functions can bu used wherever function objects are required.__\n",
    " * __Ldmbda Expression(or lambda functions) are essentially blocks of code that can be assigned to variable, passed as an arguments, or returned from a funciton call, in Language that support high-order functions.__\n",
    " * __The main role of lambda funcrion is better described in the scenarios when we employ them anonymously inside another functions.__\n",
    " * __n Python, the Lambda function can be utilized as an arguements to ther high-order functions as an arguement..__\n",
    " * __Lambda function in Python__\n",
    "    * __1. Syntax:__\n",
    "       * __Normal Functions__\n",
    "       * __Anonymous Functions__\n",
    "    * __2.Usages__\n",
    "       * __Lambda with filters()__\n",
    "       * __Lambda with map()__\n",
    "       * __Lambda with reduce()__\n",
    "       * __Lambda with sorted()__\n",
    "       * __Lambda with apply()__\n",
    "    * __3.Common Errors__\n",
    "       * __SyntaxError__\n",
    "       * __TypeError__"
   ]
  },
  {
   "cell_type": "code",
   "execution_count": 1,
   "id": "4744f32d-1ca4-4657-ae29-457d9a7181bf",
   "metadata": {},
   "outputs": [
    {
     "data": {
      "text/plain": [
       "16"
      ]
     },
     "execution_count": 1,
     "metadata": {},
     "output_type": "execute_result"
    }
   ],
   "source": [
    "def func(x):\n",
    "    return x+6\n",
    "\n",
    "func(10)"
   ]
  },
  {
   "cell_type": "code",
   "execution_count": 2,
   "id": "a77ffcc4-6828-40be-8d45-f08a35f1ae80",
   "metadata": {},
   "outputs": [
    {
     "data": {
      "text/plain": [
       "16"
      ]
     },
     "execution_count": 2,
     "metadata": {},
     "output_type": "execute_result"
    }
   ],
   "source": [
    "(lambda y:y+6)(10)"
   ]
  },
  {
   "cell_type": "code",
   "execution_count": 4,
   "id": "eb662fd5-2aa2-40c6-b641-9980fb1eac8d",
   "metadata": {},
   "outputs": [
    {
     "data": {
      "text/plain": [
       "32"
      ]
     },
     "execution_count": 4,
     "metadata": {},
     "output_type": "execute_result"
    }
   ],
   "source": [
    "# Exponent\n",
    "\n",
    "def expo(x,y):\n",
    "    return x**y\n",
    "\n",
    "expo(2,5)"
   ]
  },
  {
   "cell_type": "code",
   "execution_count": 5,
   "id": "2dea8e91-7364-4627-91d1-125e214c0bb1",
   "metadata": {},
   "outputs": [
    {
     "data": {
      "text/plain": [
       "32"
      ]
     },
     "execution_count": 5,
     "metadata": {},
     "output_type": "execute_result"
    }
   ],
   "source": [
    "(lambda x,y:x**y)(2,5)"
   ]
  },
  {
   "cell_type": "code",
   "execution_count": 7,
   "id": "f7baaa62-cc46-4636-86e3-81ad4a11f2c3",
   "metadata": {},
   "outputs": [
    {
     "name": "stdin",
     "output_type": "stream",
     "text": [
      "Enter first number: 2\n",
      "Enter second number: 3\n"
     ]
    },
    {
     "data": {
      "text/plain": [
       "8"
      ]
     },
     "execution_count": 7,
     "metadata": {},
     "output_type": "execute_result"
    }
   ],
   "source": [
    "# write a above program using user input\n",
    "\n",
    "def func():\n",
    "    x=int(input('Enter first number:'))\n",
    "    y=int(input('Enter second number:'))\n",
    "    z=x**y\n",
    "    return z\n",
    "\n",
    "\n",
    "func()"
   ]
  },
  {
   "cell_type": "code",
   "execution_count": 19,
   "id": "006e2687-b537-4b70-bf91-fea8c07ea839",
   "metadata": {},
   "outputs": [
    {
     "name": "stdin",
     "output_type": "stream",
     "text": [
      "Enter first number: 10\n",
      "Enter second number: 2\n"
     ]
    },
    {
     "data": {
      "text/plain": [
       "100"
      ]
     },
     "execution_count": 19,
     "metadata": {},
     "output_type": "execute_result"
    }
   ],
   "source": [
    "# using lambda \n",
    "x=int(input('Enter first number:'))\n",
    "y=int(input('Enter second number:'))\n",
    "z=(lambda a,b:a**b)(x,y)\n",
    "z"
   ]
  },
  {
   "cell_type": "code",
   "execution_count": 11,
   "id": "aa7ce152-c1fe-4963-ba09-08e0fd25aaa7",
   "metadata": {},
   "outputs": [
    {
     "data": {
      "text/plain": [
       "1000000000000000"
      ]
     },
     "execution_count": 11,
     "metadata": {},
     "output_type": "execute_result"
    }
   ],
   "source": [
    "z"
   ]
  },
  {
   "cell_type": "code",
   "execution_count": null,
   "id": "40485ebf-a510-4a5c-adbe-2f9db44be4de",
   "metadata": {},
   "outputs": [],
   "source": []
  }
 ],
 "metadata": {
  "kernelspec": {
   "display_name": "Python 3 (ipykernel)",
   "language": "python",
   "name": "python3"
  },
  "language_info": {
   "codemirror_mode": {
    "name": "ipython",
    "version": 3
   },
   "file_extension": ".py",
   "mimetype": "text/x-python",
   "name": "python",
   "nbconvert_exporter": "python",
   "pygments_lexer": "ipython3",
   "version": "3.12.2"
  }
 },
 "nbformat": 4,
 "nbformat_minor": 5
}
