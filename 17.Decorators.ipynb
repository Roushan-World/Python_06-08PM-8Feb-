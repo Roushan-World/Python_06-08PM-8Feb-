{
 "cells": [
  {
   "cell_type": "markdown",
   "id": "f1e3d794-deef-4572-a5f7-a18a45cc39c5",
   "metadata": {},
   "source": [
    "# Decorator in Python\n",
    "\n",
    " * __Decorators provide a simple syntax for calling higher-order functions.__\n",
    " * __By definition, a decoratro is a function that takes another function and extends ther behaviour of the latter function without explicitly modifying it.__\n",
    " * __A decorator in Python is a function that takes antoher function as it's argument, and return yet antohter funcitons.__\n",
    " * __Decorators can extremently useful as they allow the extension of an existing functions, wihtout any modification to the original function source code.__\n",
    " * __In fact, ther are two types of decorators in PYthon including class decorators and function decorators.__\n",
    " * __In application, decorators are majorly used in creating middle layer in the backed, it performs task like token authentication, validation, image compression and many more.__"
   ]
  },
  {
   "cell_type": "code",
   "execution_count": 1,
   "id": "b7c01793-5e09-4182-9bec-97d8005d6cc4",
   "metadata": {},
   "outputs": [],
   "source": [
    "import decorator"
   ]
  },
  {
   "cell_type": "code",
   "execution_count": 2,
   "id": "f906d0dd-dab7-40de-b18b-cd42bf82ca9c",
   "metadata": {},
   "outputs": [],
   "source": [
    "from decorator import *   # * everything of decorator"
   ]
  },
  {
   "cell_type": "code",
   "execution_count": 3,
   "id": "2bdcfbc3-33d7-4266-b090-e87dd84d6fa4",
   "metadata": {},
   "outputs": [
    {
     "name": "stdout",
     "output_type": "stream",
     "text": [
      "Hello world\n"
     ]
    }
   ],
   "source": [
    "def mytext(text):\n",
    "    print(text)\n",
    "\n",
    "x=mytext\n",
    "x('Hello world')"
   ]
  },
  {
   "cell_type": "code",
   "execution_count": 4,
   "id": "5bc13375-c1d4-41df-b27c-939be912d6fe",
   "metadata": {},
   "outputs": [
    {
     "name": "stdout",
     "output_type": "stream",
     "text": [
      "Hello world\n"
     ]
    }
   ],
   "source": [
    "print('Hello world')"
   ]
  },
  {
   "cell_type": "code",
   "execution_count": 5,
   "id": "2ad734f7-6055-442c-a7ca-da2d64a88338",
   "metadata": {},
   "outputs": [
    {
     "data": {
      "text/plain": [
       "49"
      ]
     },
     "execution_count": 5,
     "metadata": {},
     "output_type": "execute_result"
    }
   ],
   "source": [
    "def multi(num):\n",
    "    return num*num\n",
    "\n",
    "multi(7)"
   ]
  },
  {
   "cell_type": "code",
   "execution_count": 8,
   "id": "558205fe-ad68-4aed-bea9-5d7b984b042b",
   "metadata": {},
   "outputs": [
    {
     "name": "stdout",
     "output_type": "stream",
     "text": [
      "Python is a programming language.\n",
      "hello world\n",
      "Congratulations!\n"
     ]
    }
   ],
   "source": [
    "# Nested function\n",
    "\n",
    "def mytext():\n",
    "    print('Python is a programming language.')\n",
    "    def new_text():\n",
    "        print('hello world')\n",
    "    def message():\n",
    "        print('Congratulations!')\n",
    "    new_text()\n",
    "    message()\n",
    "\n",
    "mytext()"
   ]
  },
  {
   "cell_type": "code",
   "execution_count": 18,
   "id": "483f08a3-9813-4060-a167-6d381e44a8bf",
   "metadata": {},
   "outputs": [
    {
     "name": "stdout",
     "output_type": "stream",
     "text": [
      "12.56\n"
     ]
    }
   ],
   "source": [
    "def multi(x):\n",
    "    return x*3.14\n",
    "def divide(x):\n",
    "    return x/3.14\n",
    "\n",
    "def operator(function,x):\n",
    "    number=function(x)\n",
    "    return number\n",
    "\n",
    "\n",
    "print(operator(multi,4))"
   ]
  },
  {
   "cell_type": "code",
   "execution_count": 12,
   "id": "690c0587-c31d-4843-868f-5cd1b8088140",
   "metadata": {},
   "outputs": [
    {
     "data": {
      "text/plain": [
       "12.56"
      ]
     },
     "execution_count": 12,
     "metadata": {},
     "output_type": "execute_result"
    }
   ],
   "source": [
    "multi(4)"
   ]
  },
  {
   "cell_type": "code",
   "execution_count": 14,
   "id": "c57abeef-4b2e-4acb-ae04-37577e64ba25",
   "metadata": {},
   "outputs": [
    {
     "name": "stdout",
     "output_type": "stream",
     "text": [
      "3.184713375796178\n"
     ]
    }
   ],
   "source": [
    "print(operator(divide,10))"
   ]
  },
  {
   "cell_type": "code",
   "execution_count": 15,
   "id": "a5e5099a-0538-4143-b0a2-1788e306f122",
   "metadata": {},
   "outputs": [
    {
     "data": {
      "text/plain": [
       "3.184713375796178"
      ]
     },
     "execution_count": 15,
     "metadata": {},
     "output_type": "execute_result"
    }
   ],
   "source": [
    "divide(10)"
   ]
  },
  {
   "cell_type": "code",
   "execution_count": 28,
   "id": "863e950d-f77e-46d9-b092-8c02e08b79c9",
   "metadata": {},
   "outputs": [
    {
     "data": {
      "text/plain": [
       "13.141592653589793"
      ]
     },
     "execution_count": 28,
     "metadata": {},
     "output_type": "execute_result"
    }
   ],
   "source": [
    "import math\n",
    "\n",
    "def addition(num):\n",
    "    return num+10\n",
    "\n",
    "\n",
    "def called_function(func):\n",
    "    added_num=math.pi\n",
    "    return func(added_num)\n",
    "\n",
    "called_function(addition)"
   ]
  },
  {
   "cell_type": "code",
   "execution_count": null,
   "id": "732b61cc-6463-4f9c-8a1c-e38e8fa04265",
   "metadata": {},
   "outputs": [],
   "source": []
  },
  {
   "cell_type": "code",
   "execution_count": 22,
   "id": "89861fb2-b91d-42f3-8883-2cfe308cc392",
   "metadata": {},
   "outputs": [
    {
     "data": {
      "text/plain": [
       "3.141592653589793"
      ]
     },
     "execution_count": 22,
     "metadata": {},
     "output_type": "execute_result"
    }
   ],
   "source": [
    "math.pi"
   ]
  },
  {
   "cell_type": "code",
   "execution_count": null,
   "id": "587e28f2-7f3b-4cbe-b831-97ee018d73c1",
   "metadata": {},
   "outputs": [],
   "source": []
  }
 ],
 "metadata": {
  "kernelspec": {
   "display_name": "Python 3 (ipykernel)",
   "language": "python",
   "name": "python3"
  },
  "language_info": {
   "codemirror_mode": {
    "name": "ipython",
    "version": 3
   },
   "file_extension": ".py",
   "mimetype": "text/x-python",
   "name": "python",
   "nbconvert_exporter": "python",
   "pygments_lexer": "ipython3",
   "version": "3.12.2"
  }
 },
 "nbformat": 4,
 "nbformat_minor": 5
}
