{
 "cells": [
  {
   "cell_type": "markdown",
   "id": "939c2be4-e18e-49df-94f8-967b9744f797",
   "metadata": {},
   "source": [
    "# 19. Generators in Python\n",
    "\n",
    " * __Python generators are the function that returns the transversal object and simple way of creating iterators.__\n",
    " * __It transverse the entire items at once.__\n",
    " * __The generators can also be an expression in which syntax is similary to the list compression in Python.__\n",
    " * __There is a lot of complexity in creating iteration in Python, It is required to implement iter() and next() methods to keep track of internal states.__\n",
    " * __It is a lengthy process to create iterators, it raises StopIterations exceptions.__\n",
    " * __It pauses the functions execution by saving all states and yielded to the caller.__\n",
    " * __Later it resumes execution when a successive funciton is called.__"
   ]
  },
  {
   "cell_type": "code",
   "execution_count": 3,
   "id": "23c72189-33c9-4815-89bc-e7fee6e26834",
   "metadata": {},
   "outputs": [
    {
     "name": "stdout",
     "output_type": "stream",
     "text": [
      "[0, 2, 4, 6, 8, 10, 12, 14, 16, 18, 20, 22, 24]\n"
     ]
    }
   ],
   "source": [
    "def function():\n",
    "    for i in range(25):\n",
    "        if i%2==0:\n",
    "            yield i \n",
    "\n",
    "num_list=[]\n",
    "\n",
    "for i in function():\n",
    "    num_list.append(i)\n",
    "print(num_list)"
   ]
  },
  {
   "cell_type": "code",
   "execution_count": 15,
   "id": "f8b38cd5-0910-486c-9e7d-04b0dddb5599",
   "metadata": {},
   "outputs": [
    {
     "name": "stdout",
     "output_type": "stream",
     "text": [
      "Hello world\n"
     ]
    }
   ],
   "source": [
    "def message():\n",
    "    one_msg=\"Hello world\"\n",
    "    yield one_msg\n",
    "\n",
    "    two_msg='Pratiksha'\n",
    "    yield two_msg\n",
    "\n",
    "    three_msg='Congratulations!'\n",
    "    yield three_msg\n",
    "\n",
    "    four_msg='Uday'\n",
    "    yield four_msg\n",
    "\n",
    "    five_msg='Uday Rasal'\n",
    "    yield five_msg\n",
    "\n",
    "\n",
    "result=message()\n",
    "print(next(result))\n"
   ]
  },
  {
   "cell_type": "code",
   "execution_count": 16,
   "id": "155e2d07-d22e-40b4-8567-93f30015b002",
   "metadata": {},
   "outputs": [
    {
     "name": "stdout",
     "output_type": "stream",
     "text": [
      "Pratiksha\n"
     ]
    }
   ],
   "source": [
    "print(next(result))"
   ]
  },
  {
   "cell_type": "code",
   "execution_count": 17,
   "id": "22f78d81-90d2-4ee4-860d-ffdd5932b931",
   "metadata": {},
   "outputs": [
    {
     "name": "stdout",
     "output_type": "stream",
     "text": [
      "Congratulations!\n"
     ]
    }
   ],
   "source": [
    "print(next(result))"
   ]
  },
  {
   "cell_type": "code",
   "execution_count": 18,
   "id": "c105ca82-4178-4215-a66f-afb9a271db5c",
   "metadata": {},
   "outputs": [
    {
     "name": "stdout",
     "output_type": "stream",
     "text": [
      "Uday\n"
     ]
    }
   ],
   "source": [
    "print(next(result))"
   ]
  },
  {
   "cell_type": "code",
   "execution_count": 19,
   "id": "b9bef2a8-47c8-4f71-8955-6685201142fe",
   "metadata": {},
   "outputs": [
    {
     "name": "stdout",
     "output_type": "stream",
     "text": [
      "Uday Rasal\n"
     ]
    }
   ],
   "source": [
    "print(next(result))"
   ]
  },
  {
   "cell_type": "code",
   "execution_count": 20,
   "id": "3a3a5634-a0b7-4bc5-8b45-f7f2a7631333",
   "metadata": {},
   "outputs": [
    {
     "ename": "StopIteration",
     "evalue": "",
     "output_type": "error",
     "traceback": [
      "\u001b[1;31m---------------------------------------------------------------------------\u001b[0m",
      "\u001b[1;31mStopIteration\u001b[0m                             Traceback (most recent call last)",
      "Cell \u001b[1;32mIn[20], line 1\u001b[0m\n\u001b[1;32m----> 1\u001b[0m \u001b[38;5;28mprint\u001b[39m(\u001b[38;5;28;43mnext\u001b[39;49m\u001b[43m(\u001b[49m\u001b[43mresult\u001b[49m\u001b[43m)\u001b[49m)\n",
      "\u001b[1;31mStopIteration\u001b[0m: "
     ]
    }
   ],
   "source": [
    "print(next(result))"
   ]
  },
  {
   "cell_type": "code",
   "execution_count": null,
   "id": "06b0f0bf-fa3a-47ce-8a54-1a81dffa693c",
   "metadata": {},
   "outputs": [],
   "source": []
  }
 ],
 "metadata": {
  "kernelspec": {
   "display_name": "Python 3 (ipykernel)",
   "language": "python",
   "name": "python3"
  },
  "language_info": {
   "codemirror_mode": {
    "name": "ipython",
    "version": 3
   },
   "file_extension": ".py",
   "mimetype": "text/x-python",
   "name": "python",
   "nbconvert_exporter": "python",
   "pygments_lexer": "ipython3",
   "version": "3.12.2"
  }
 },
 "nbformat": 4,
 "nbformat_minor": 5
}
